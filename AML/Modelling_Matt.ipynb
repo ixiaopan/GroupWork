{
 "cells": [
  {
   "cell_type": "markdown",
   "metadata": {},
   "source": [
    "# Machine Learning Notebook - Matt"
   ]
  },
  {
   "cell_type": "code",
   "execution_count": 1,
   "metadata": {},
   "outputs": [
    {
     "name": "stderr",
     "output_type": "stream",
     "text": [
      "/opt/anaconda3/lib/python3.7/site-packages/statsmodels/tools/_testing.py:19: FutureWarning: pandas.util.testing is deprecated. Use the functions in the public API at pandas.testing instead.\n",
      "  import pandas.util.testing as tm\n"
     ]
    }
   ],
   "source": [
    "%matplotlib inline\n",
    "import HelperFunctions as hf\n",
    "import numpy as np\n",
    "import pandas as pd\n",
    "from sklearn.preprocessing import StandardScaler\n",
    "from sklearn.preprocessing import MinMaxScaler\n",
    "from sklearn.model_selection import train_test_split\n",
    "import statsmodels.api as sm\n",
    "import matplotlib.pyplot as plt"
   ]
  },
  {
   "cell_type": "markdown",
   "metadata": {},
   "source": [
    "## Load Data"
   ]
  },
  {
   "cell_type": "code",
   "execution_count": 2,
   "metadata": {},
   "outputs": [],
   "source": [
    "#Load in the raw data\n",
    "calendar_df = hf.load_calendar_data()\n",
    "prices_df = hf.load_sell_price_data()\n",
    "sales_df = hf.load_sales_train_validation_data()"
   ]
  },
  {
   "cell_type": "markdown",
   "metadata": {},
   "source": [
    "## Clean Data"
   ]
  },
  {
   "cell_type": "code",
   "execution_count": 94,
   "metadata": {},
   "outputs": [],
   "source": [
    "#Clean the raw data\n",
    "df = hf.rawToClean(sales_df, calendar_df, prices_df, days=1300, items=1000, dropNAPrices=True)"
   ]
  },
  {
   "cell_type": "markdown",
   "metadata": {},
   "source": [
    "## Feature Engineering"
   ]
  },
  {
   "cell_type": "code",
   "execution_count": 95,
   "metadata": {},
   "outputs": [],
   "source": [
    "df = hf.priceDifference(df)"
   ]
  },
  {
   "cell_type": "code",
   "execution_count": 96,
   "metadata": {},
   "outputs": [],
   "source": [
    "df = hf.rollingPriceDifference(df, windowsize=7)"
   ]
  },
  {
   "cell_type": "code",
   "execution_count": 97,
   "metadata": {},
   "outputs": [],
   "source": [
    "df = hf.rollingMeanDemandFeature(df, windowSize=7, shift=1)#Mean of previous week\n",
    "df = hf.rollingMeanDemandFeature(df, windowSize=14, shift=1)\n",
    "df = hf.rollingMeanDemandFeature(df, windowSize=28, shift=1) #Mean of previous 28 days\n",
    "df = hf.rollingMeanDemandFeature(df, windowSize=7, shift=7)\n",
    "df = hf.rollingMeanDemandFeature(df, windowSize=7, shift=28)"
   ]
  },
  {
   "cell_type": "code",
   "execution_count": 98,
   "metadata": {},
   "outputs": [],
   "source": [
    "df = hf.rollingStdDemandFeature(df, windowSize=7, shift=1)\n",
    "df = hf.rollingStdDemandFeature(df, windowSize=14, shift=1)\n",
    "df = hf.rollingStdDemandFeature(df, windowSize=28, shift=1)\n",
    "df = hf.rollingStdDemandFeature(df, windowSize=7, shift=28)"
   ]
  },
  {
   "cell_type": "code",
   "execution_count": 99,
   "metadata": {},
   "outputs": [],
   "source": [
    "df = hf.rollingMeanWeekday(df, weeks = 3, shift = 1) #mean of previous 3 weeks (for that particular weekday)"
   ]
  },
  {
   "cell_type": "code",
   "execution_count": 100,
   "metadata": {},
   "outputs": [],
   "source": [
    "df = hf.lagFeature(df, var='sold', lag=1) #Amount sold day before\n",
    "df = hf.lagFeature(df, var='sold', lag=7) #Amount sold a week before\n",
    "df = hf.lagFeature(df, var='sold', lag=14)\n",
    "df = hf.lagFeature(df, var='sold', lag=28) #Amount sold 28 days before"
   ]
  },
  {
   "cell_type": "code",
   "execution_count": 101,
   "metadata": {},
   "outputs": [],
   "source": [
    "df.dropna(inplace=True) #Drop rows with NAs (as result of lagged features)"
   ]
  },
  {
   "cell_type": "code",
   "execution_count": 102,
   "metadata": {},
   "outputs": [],
   "source": [
    "#Standardise features\n",
    "cols_to_norm = ['d','wday','month','year','sell_price','rolling_mean_7_1','rolling_mean_14_1','rolling_mean_28_1','rolling_mean_7_7','rolling_mean_7_28','sold_lag_1',\n",
    "                'sold_lag_7','sold_lag_14','sold_lag_28','rolling_std_7_1','rolling_std_14_1','rolling_std_28_1',\n",
    "               'rolling_std_7_28','price_diff']\n",
    "\n",
    "#cols_to_norm = ['d','wday','month','year','sell_price']\n",
    "\n",
    "df[cols_to_norm] = MinMaxScaler().fit_transform(df[cols_to_norm])"
   ]
  },
  {
   "cell_type": "code",
   "execution_count": 103,
   "metadata": {},
   "outputs": [],
   "source": [
    "#Create separate test set for item\n",
    "df_item = df.loc[df.id == \"FOODS_2_360_TX_3_validation\"].copy()\n",
    "df_test = df.loc[df.d > 1200/1300].copy()\n",
    "df = df.loc[df.d <= 1200/1300].copy()"
   ]
  },
  {
   "cell_type": "code",
   "execution_count": 104,
   "metadata": {},
   "outputs": [],
   "source": [
    "#product_ids = df.id.copy()\n",
    "df.drop(['id'], axis=1, inplace=True) #Drop the id column\n",
    "df_test.drop(['id'], axis=1, inplace=True) #Drop the id column\n",
    "df_item.drop(['id'], axis=1, inplace=True) #Drop the id column"
   ]
  },
  {
   "cell_type": "code",
   "execution_count": 105,
   "metadata": {},
   "outputs": [
    {
     "data": {
      "text/plain": [
       "d                    0\n",
       "sold                 0\n",
       "wday                 0\n",
       "month                0\n",
       "year                 0\n",
       "snap_CA              0\n",
       "snap_TX              0\n",
       "snap_WI              0\n",
       "sell_price           0\n",
       "Cultural             0\n",
       "National             0\n",
       "Religious            0\n",
       "Sporting             0\n",
       "NoEvent              0\n",
       "Christmas            0\n",
       "weekend              0\n",
       "midweek              0\n",
       "monfri               0\n",
       "FOODS_1              0\n",
       "FOODS_2              0\n",
       "FOODS_3              0\n",
       "HOBBIES_1            0\n",
       "HOBBIES_2            0\n",
       "HOUSEHOLD_1          0\n",
       "HOUSEHOLD_2          0\n",
       "FOODS                0\n",
       "HOBBIES              0\n",
       "HOUSEHOLD            0\n",
       "CA_1                 0\n",
       "CA_2                 0\n",
       "CA_3                 0\n",
       "CA_4                 0\n",
       "TX_1                 0\n",
       "TX_2                 0\n",
       "TX_3                 0\n",
       "WI_1                 0\n",
       "WI_2                 0\n",
       "WI_3                 0\n",
       "CA                   0\n",
       "TX                   0\n",
       "WI                   0\n",
       "price_diff           0\n",
       "price_increase       0\n",
       "price_decrease       0\n",
       "price_increase_7     0\n",
       "price_decrease_7     0\n",
       "rolling_mean_7_1     0\n",
       "rolling_mean_14_1    0\n",
       "rolling_mean_28_1    0\n",
       "rolling_mean_7_7     0\n",
       "rolling_mean_7_28    0\n",
       "rolling_std_7_1      0\n",
       "rolling_std_14_1     0\n",
       "rolling_std_28_1     0\n",
       "rolling_std_7_28     0\n",
       "rolling_mean_3_1     0\n",
       "sold_lag_1           0\n",
       "sold_lag_7           0\n",
       "sold_lag_14          0\n",
       "sold_lag_28          0\n",
       "dtype: int64"
      ]
     },
     "execution_count": 105,
     "metadata": {},
     "output_type": "execute_result"
    }
   ],
   "source": [
    "df.isnull().sum()"
   ]
  },
  {
   "cell_type": "code",
   "execution_count": 7,
   "metadata": {},
   "outputs": [
    {
     "data": {
      "text/plain": [
       "(808600, 41)"
      ]
     },
     "execution_count": 7,
     "metadata": {},
     "output_type": "execute_result"
    }
   ],
   "source": [
    "df.shape"
   ]
  },
  {
   "cell_type": "code",
   "execution_count": 8,
   "metadata": {},
   "outputs": [
    {
     "data": {
      "text/plain": [
       "Index(['d', 'sold', 'wday', 'month', 'year', 'snap_CA', 'snap_TX', 'snap_WI',\n",
       "       'sell_price', 'Cultural', 'National', 'Religious', 'Sporting',\n",
       "       'NoEvent', 'Christmas', 'weekend', 'midweek', 'monfri', 'FOODS_1',\n",
       "       'FOODS_2', 'FOODS_3', 'HOBBIES_1', 'HOBBIES_2', 'HOUSEHOLD_1',\n",
       "       'HOUSEHOLD_2', 'FOODS', 'HOBBIES', 'HOUSEHOLD', 'CA_1', 'CA_2', 'CA_3',\n",
       "       'CA_4', 'TX_1', 'TX_2', 'TX_3', 'WI_1', 'WI_2', 'WI_3', 'CA', 'TX',\n",
       "       'WI'],\n",
       "      dtype='object')"
      ]
     },
     "execution_count": 8,
     "metadata": {},
     "output_type": "execute_result"
    }
   ],
   "source": [
    "df.columns"
   ]
  },
  {
   "cell_type": "markdown",
   "metadata": {},
   "source": [
    "# Machine Learning"
   ]
  },
  {
   "cell_type": "markdown",
   "metadata": {},
   "source": [
    "## Train/Test Split\n",
    "We also isolate the target variables from the features"
   ]
  },
  {
   "cell_type": "code",
   "execution_count": 106,
   "metadata": {},
   "outputs": [],
   "source": [
    "#Isolate features and target variable\n",
    "y = df.sold.values\n",
    "X_df = df.drop(['sold'], axis=1)\n",
    "X = X_df.values"
   ]
  },
  {
   "cell_type": "code",
   "execution_count": 107,
   "metadata": {},
   "outputs": [],
   "source": [
    "#Train/test split\n",
    "X_train, X_test, y_train, y_test = train_test_split(X, y, test_size=0.20, random_state=42)"
   ]
  },
  {
   "cell_type": "code",
   "execution_count": 108,
   "metadata": {},
   "outputs": [
    {
     "name": "stdout",
     "output_type": "stream",
     "text": [
      "(623339, 59)\n",
      "(623339,)\n",
      "(155835, 59)\n",
      "(155835,)\n"
     ]
    }
   ],
   "source": [
    "print(X_train.shape)\n",
    "print(y_train.shape)\n",
    "print(X_test.shape)\n",
    "print(y_test.shape)"
   ]
  },
  {
   "cell_type": "markdown",
   "metadata": {},
   "source": [
    "## Linear Regression\n",
    "The results of fitting a linear regression model on the data and analysing the feature's p-values raises some interesting findings. \n",
    "* Amongst the event related features only cultural and xmas are significant. As expected, Xmas is the most influential feature of them all.  \n",
    "* The LR also confirms our findings in analysis that weekend/monfri/midweek are all significant features for predicting sales volume. \n",
    "* CA_4 and CA_3 is the only store that is an insignificant predictor. Perhaps higher population in this area?\n",
    "* The mean of sold items in the week leading up is the second most influential feature.\n",
    "* More expensive items sell in lower quantities"
   ]
  },
  {
   "cell_type": "code",
   "execution_count": 17,
   "metadata": {},
   "outputs": [
    {
     "name": "stdout",
     "output_type": "stream",
     "text": [
      "                            OLS Regression Results                            \n",
      "==============================================================================\n",
      "Dep. Variable:                   sold   R-squared:                       0.090\n",
      "Model:                            OLS   Adj. R-squared:                  0.090\n",
      "Method:                 Least Squares   F-statistic:                     2566.\n",
      "Date:                Sat, 03 Apr 2021   Prob (F-statistic):               0.00\n",
      "Time:                        11:13:04   Log-Likelihood:            -2.2468e+06\n",
      "No. Observations:              808600   AIC:                         4.494e+06\n",
      "Df Residuals:                  808568   BIC:                         4.494e+06\n",
      "Df Model:                          31                                         \n",
      "Covariance Type:            nonrobust                                         \n",
      "===============================================================================\n",
      "                  coef    std err          t      P>|t|      [0.025      0.975]\n",
      "-------------------------------------------------------------------------------\n",
      "d              -8.9833      1.224     -7.336      0.000     -11.383      -6.583\n",
      "wday            0.0519      0.021      2.419      0.016       0.010       0.094\n",
      "month           2.3563      0.342      6.880      0.000       1.685       3.028\n",
      "year            7.7627      1.119      6.934      0.000       5.569       9.957\n",
      "snap_CA        -0.0192      0.016     -1.192      0.233      -0.051       0.012\n",
      "snap_TX         0.0491      0.012      4.008      0.000       0.025       0.073\n",
      "snap_WI         0.1043      0.012      8.743      0.000       0.081       0.128\n",
      "sell_price     -4.1334      0.030   -139.366      0.000      -4.192      -4.075\n",
      "Cultural       -0.2448      0.088     -2.781      0.005      -0.417      -0.072\n",
      "National       -0.1220      0.098     -1.251      0.211      -0.313       0.069\n",
      "Religious      -0.0254      0.089     -0.284      0.777      -0.201       0.150\n",
      "Sporting       -0.0208      0.105     -0.198      0.843      -0.227       0.186\n",
      "NoEvent        -0.0323      0.093     -0.346      0.729      -0.215       0.151\n",
      "Christmas      -1.2319      0.090    -13.628      0.000      -1.409      -1.055\n",
      "weekend         0.8725      0.027     32.156      0.000       0.819       0.926\n",
      "midweek         0.3877      0.026     14.692      0.000       0.336       0.439\n",
      "monfri          0.5268      0.027     19.680      0.000       0.474       0.579\n",
      "FOODS_1        -0.6620      0.015    -44.268      0.000      -0.691      -0.633\n",
      "FOODS_2         0.5421      0.014     40.021      0.000       0.516       0.569\n",
      "FOODS_3         1.1942      0.013     95.157      0.000       1.170       1.219\n",
      "HOBBIES_1       0.8890      0.016     54.606      0.000       0.857       0.921\n",
      "HOBBIES_2      -0.6512      0.019    -35.060      0.000      -0.688      -0.615\n",
      "HOUSEHOLD_1     0.6731      0.014     47.344      0.000       0.645       0.701\n",
      "HOUSEHOLD_2    -0.1981      0.014    -13.784      0.000      -0.226      -0.170\n",
      "FOODS           1.0743      0.028     38.847      0.000       1.020       1.128\n",
      "HOBBIES         0.2378      0.025      9.446      0.000       0.188       0.287\n",
      "HOUSEHOLD       0.4750      0.025     19.230      0.000       0.427       0.523\n",
      "CA_1           -0.2594      0.014    -18.315      0.000      -0.287      -0.232\n",
      "CA_2            0.1217      0.014      8.460      0.000       0.093       0.150\n",
      "CA_3            0.9133      0.013     69.220      0.000       0.887       0.939\n",
      "CA_4           -0.1334      0.013    -10.082      0.000      -0.159      -0.107\n",
      "TX_1           -0.3468      0.014    -24.937      0.000      -0.374      -0.320\n",
      "TX_2            0.2756      0.014     19.467      0.000       0.248       0.303\n",
      "TX_3            0.5365      0.014     38.357      0.000       0.509       0.564\n",
      "WI_1            0.0492      0.015      3.374      0.001       0.021       0.078\n",
      "WI_2            0.9351      0.014     67.700      0.000       0.908       0.962\n",
      "WI_3           -0.3049      0.014    -21.770      0.000      -0.332      -0.277\n",
      "CA              0.6422      0.027     23.967      0.000       0.590       0.695\n",
      "TX              0.4654      0.025     18.445      0.000       0.416       0.515\n",
      "WI              0.6795      0.025     26.871      0.000       0.630       0.729\n",
      "==============================================================================\n",
      "Omnibus:                  1218348.043   Durbin-Watson:                   2.003\n",
      "Prob(Omnibus):                  0.000   Jarque-Bera (JB):       1199494780.993\n",
      "Skew:                           9.088   Prob(JB):                         0.00\n",
      "Kurtosis:                     190.808   Cond. No.                     5.20e+15\n",
      "==============================================================================\n",
      "\n",
      "Warnings:\n",
      "[1] Standard Errors assume that the covariance matrix of the errors is correctly specified.\n",
      "[2] The smallest eigenvalue is 1.09e-25. This might indicate that there are\n",
      "strong multicollinearity problems or that the design matrix is singular.\n"
     ]
    }
   ],
   "source": [
    "mod = sm.OLS(df['sold'], df[X_df.columns])\n",
    "#mod = sm.OLS(y_train, X_train)\n",
    "res = mod.fit()\n",
    "print(res.summary())"
   ]
  },
  {
   "cell_type": "code",
   "execution_count": 18,
   "metadata": {},
   "outputs": [
    {
     "data": {
      "text/html": [
       "<div>\n",
       "<style scoped>\n",
       "    .dataframe tbody tr th:only-of-type {\n",
       "        vertical-align: middle;\n",
       "    }\n",
       "\n",
       "    .dataframe tbody tr th {\n",
       "        vertical-align: top;\n",
       "    }\n",
       "\n",
       "    .dataframe thead th {\n",
       "        text-align: right;\n",
       "    }\n",
       "</style>\n",
       "<table border=\"1\" class=\"dataframe\">\n",
       "  <thead>\n",
       "    <tr style=\"text-align: right;\">\n",
       "      <th></th>\n",
       "      <th>feature</th>\n",
       "      <th>importance</th>\n",
       "    </tr>\n",
       "  </thead>\n",
       "  <tbody>\n",
       "    <tr>\n",
       "      <th>0</th>\n",
       "      <td>snap_CA</td>\n",
       "      <td>0.019191</td>\n",
       "    </tr>\n",
       "    <tr>\n",
       "      <th>1</th>\n",
       "      <td>Sporting</td>\n",
       "      <td>0.020822</td>\n",
       "    </tr>\n",
       "    <tr>\n",
       "      <th>2</th>\n",
       "      <td>Religious</td>\n",
       "      <td>0.025353</td>\n",
       "    </tr>\n",
       "    <tr>\n",
       "      <th>3</th>\n",
       "      <td>NoEvent</td>\n",
       "      <td>0.032322</td>\n",
       "    </tr>\n",
       "    <tr>\n",
       "      <th>4</th>\n",
       "      <td>snap_TX</td>\n",
       "      <td>0.049111</td>\n",
       "    </tr>\n",
       "    <tr>\n",
       "      <th>5</th>\n",
       "      <td>WI_1</td>\n",
       "      <td>0.049244</td>\n",
       "    </tr>\n",
       "    <tr>\n",
       "      <th>6</th>\n",
       "      <td>wday</td>\n",
       "      <td>0.051864</td>\n",
       "    </tr>\n",
       "    <tr>\n",
       "      <th>7</th>\n",
       "      <td>snap_WI</td>\n",
       "      <td>0.104337</td>\n",
       "    </tr>\n",
       "    <tr>\n",
       "      <th>8</th>\n",
       "      <td>CA_2</td>\n",
       "      <td>0.121662</td>\n",
       "    </tr>\n",
       "    <tr>\n",
       "      <th>9</th>\n",
       "      <td>National</td>\n",
       "      <td>0.122007</td>\n",
       "    </tr>\n",
       "    <tr>\n",
       "      <th>10</th>\n",
       "      <td>CA_4</td>\n",
       "      <td>0.133364</td>\n",
       "    </tr>\n",
       "    <tr>\n",
       "      <th>11</th>\n",
       "      <td>HOUSEHOLD_2</td>\n",
       "      <td>0.198105</td>\n",
       "    </tr>\n",
       "    <tr>\n",
       "      <th>12</th>\n",
       "      <td>HOBBIES</td>\n",
       "      <td>0.237764</td>\n",
       "    </tr>\n",
       "    <tr>\n",
       "      <th>13</th>\n",
       "      <td>Cultural</td>\n",
       "      <td>0.244819</td>\n",
       "    </tr>\n",
       "    <tr>\n",
       "      <th>14</th>\n",
       "      <td>CA_1</td>\n",
       "      <td>0.259356</td>\n",
       "    </tr>\n",
       "    <tr>\n",
       "      <th>15</th>\n",
       "      <td>TX_2</td>\n",
       "      <td>0.275635</td>\n",
       "    </tr>\n",
       "    <tr>\n",
       "      <th>16</th>\n",
       "      <td>WI_3</td>\n",
       "      <td>0.304866</td>\n",
       "    </tr>\n",
       "    <tr>\n",
       "      <th>17</th>\n",
       "      <td>TX_1</td>\n",
       "      <td>0.346776</td>\n",
       "    </tr>\n",
       "    <tr>\n",
       "      <th>18</th>\n",
       "      <td>midweek</td>\n",
       "      <td>0.387707</td>\n",
       "    </tr>\n",
       "    <tr>\n",
       "      <th>19</th>\n",
       "      <td>TX</td>\n",
       "      <td>0.465409</td>\n",
       "    </tr>\n",
       "    <tr>\n",
       "      <th>20</th>\n",
       "      <td>HOUSEHOLD</td>\n",
       "      <td>0.475013</td>\n",
       "    </tr>\n",
       "    <tr>\n",
       "      <th>21</th>\n",
       "      <td>monfri</td>\n",
       "      <td>0.526844</td>\n",
       "    </tr>\n",
       "    <tr>\n",
       "      <th>22</th>\n",
       "      <td>TX_3</td>\n",
       "      <td>0.536550</td>\n",
       "    </tr>\n",
       "    <tr>\n",
       "      <th>23</th>\n",
       "      <td>FOODS_2</td>\n",
       "      <td>0.542074</td>\n",
       "    </tr>\n",
       "    <tr>\n",
       "      <th>24</th>\n",
       "      <td>CA</td>\n",
       "      <td>0.642196</td>\n",
       "    </tr>\n",
       "    <tr>\n",
       "      <th>25</th>\n",
       "      <td>HOBBIES_2</td>\n",
       "      <td>0.651226</td>\n",
       "    </tr>\n",
       "    <tr>\n",
       "      <th>26</th>\n",
       "      <td>FOODS_1</td>\n",
       "      <td>0.661954</td>\n",
       "    </tr>\n",
       "    <tr>\n",
       "      <th>27</th>\n",
       "      <td>HOUSEHOLD_1</td>\n",
       "      <td>0.673118</td>\n",
       "    </tr>\n",
       "    <tr>\n",
       "      <th>28</th>\n",
       "      <td>WI</td>\n",
       "      <td>0.679455</td>\n",
       "    </tr>\n",
       "    <tr>\n",
       "      <th>29</th>\n",
       "      <td>weekend</td>\n",
       "      <td>0.872508</td>\n",
       "    </tr>\n",
       "    <tr>\n",
       "      <th>30</th>\n",
       "      <td>HOBBIES_1</td>\n",
       "      <td>0.888990</td>\n",
       "    </tr>\n",
       "    <tr>\n",
       "      <th>31</th>\n",
       "      <td>CA_3</td>\n",
       "      <td>0.913254</td>\n",
       "    </tr>\n",
       "    <tr>\n",
       "      <th>32</th>\n",
       "      <td>WI_2</td>\n",
       "      <td>0.935077</td>\n",
       "    </tr>\n",
       "    <tr>\n",
       "      <th>33</th>\n",
       "      <td>FOODS</td>\n",
       "      <td>1.074282</td>\n",
       "    </tr>\n",
       "    <tr>\n",
       "      <th>34</th>\n",
       "      <td>FOODS_3</td>\n",
       "      <td>1.194162</td>\n",
       "    </tr>\n",
       "    <tr>\n",
       "      <th>35</th>\n",
       "      <td>Christmas</td>\n",
       "      <td>1.231853</td>\n",
       "    </tr>\n",
       "    <tr>\n",
       "      <th>36</th>\n",
       "      <td>month</td>\n",
       "      <td>2.356343</td>\n",
       "    </tr>\n",
       "    <tr>\n",
       "      <th>37</th>\n",
       "      <td>sell_price</td>\n",
       "      <td>4.133406</td>\n",
       "    </tr>\n",
       "    <tr>\n",
       "      <th>38</th>\n",
       "      <td>year</td>\n",
       "      <td>7.762680</td>\n",
       "    </tr>\n",
       "    <tr>\n",
       "      <th>39</th>\n",
       "      <td>d</td>\n",
       "      <td>8.983342</td>\n",
       "    </tr>\n",
       "  </tbody>\n",
       "</table>\n",
       "</div>"
      ],
      "text/plain": [
       "        feature  importance\n",
       "0       snap_CA    0.019191\n",
       "1      Sporting    0.020822\n",
       "2     Religious    0.025353\n",
       "3       NoEvent    0.032322\n",
       "4       snap_TX    0.049111\n",
       "5          WI_1    0.049244\n",
       "6          wday    0.051864\n",
       "7       snap_WI    0.104337\n",
       "8          CA_2    0.121662\n",
       "9      National    0.122007\n",
       "10         CA_4    0.133364\n",
       "11  HOUSEHOLD_2    0.198105\n",
       "12      HOBBIES    0.237764\n",
       "13     Cultural    0.244819\n",
       "14         CA_1    0.259356\n",
       "15         TX_2    0.275635\n",
       "16         WI_3    0.304866\n",
       "17         TX_1    0.346776\n",
       "18      midweek    0.387707\n",
       "19           TX    0.465409\n",
       "20    HOUSEHOLD    0.475013\n",
       "21       monfri    0.526844\n",
       "22         TX_3    0.536550\n",
       "23      FOODS_2    0.542074\n",
       "24           CA    0.642196\n",
       "25    HOBBIES_2    0.651226\n",
       "26      FOODS_1    0.661954\n",
       "27  HOUSEHOLD_1    0.673118\n",
       "28           WI    0.679455\n",
       "29      weekend    0.872508\n",
       "30    HOBBIES_1    0.888990\n",
       "31         CA_3    0.913254\n",
       "32         WI_2    0.935077\n",
       "33        FOODS    1.074282\n",
       "34      FOODS_3    1.194162\n",
       "35    Christmas    1.231853\n",
       "36        month    2.356343\n",
       "37   sell_price    4.133406\n",
       "38         year    7.762680\n",
       "39            d    8.983342"
      ]
     },
     "execution_count": 18,
     "metadata": {},
     "output_type": "execute_result"
    }
   ],
   "source": [
    "lr_feature_imp = pd.DataFrame(res.params).reset_index()\n",
    "lr_feature_imp.columns = ['feature','importance']\n",
    "lr_feature_imp.importance = np.absolute(lr_feature_imp.importance)\n",
    "lr_feature_imp = lr_feature_imp.sort_values(by=['importance'], ascending=True).reset_index(drop=True)\n",
    "lr_feature_imp"
   ]
  },
  {
   "cell_type": "code",
   "execution_count": 32,
   "metadata": {},
   "outputs": [],
   "source": [
    "###Train test split\n",
    "###Normalise features\n",
    "###More Data Analysis\n",
    "###Feature Extraction - average of weekday - exponential averages - Eve Events\n",
    "###Modelling\n",
    "###Feature selection - Linear Regression/RandomForests/Lasso/Correlation plots"
   ]
  },
  {
   "cell_type": "markdown",
   "metadata": {},
   "source": [
    "## Decision Tree Regression - Feature Importance"
   ]
  },
  {
   "cell_type": "code",
   "execution_count": 13,
   "metadata": {},
   "outputs": [],
   "source": [
    "from sklearn.tree import DecisionTreeRegressor\n",
    "dc = DecisionTreeRegressor(max_depth=10, random_state=0).fit(X, y)"
   ]
  },
  {
   "cell_type": "code",
   "execution_count": 14,
   "metadata": {},
   "outputs": [],
   "source": [
    "features = np.array(df.columns)\n",
    "features = np.delete(features, [1])\n",
    "feature_imp = pd.DataFrame({'feature': features, 'importance': dc.feature_importances_})\n",
    "feature_imp = feature_imp.sort_values(by=['importance'], ascending=True).reset_index(drop=True)"
   ]
  },
  {
   "cell_type": "code",
   "execution_count": 15,
   "metadata": {},
   "outputs": [
    {
     "data": {
      "text/html": [
       "<div>\n",
       "<style scoped>\n",
       "    .dataframe tbody tr th:only-of-type {\n",
       "        vertical-align: middle;\n",
       "    }\n",
       "\n",
       "    .dataframe tbody tr th {\n",
       "        vertical-align: top;\n",
       "    }\n",
       "\n",
       "    .dataframe thead th {\n",
       "        text-align: right;\n",
       "    }\n",
       "</style>\n",
       "<table border=\"1\" class=\"dataframe\">\n",
       "  <thead>\n",
       "    <tr style=\"text-align: right;\">\n",
       "      <th></th>\n",
       "      <th>feature</th>\n",
       "      <th>importance</th>\n",
       "    </tr>\n",
       "  </thead>\n",
       "  <tbody>\n",
       "    <tr>\n",
       "      <th>0</th>\n",
       "      <td>HOUSEHOLD</td>\n",
       "      <td>0.000000</td>\n",
       "    </tr>\n",
       "    <tr>\n",
       "      <th>1</th>\n",
       "      <td>Christmas</td>\n",
       "      <td>0.000000</td>\n",
       "    </tr>\n",
       "    <tr>\n",
       "      <th>2</th>\n",
       "      <td>Sporting</td>\n",
       "      <td>0.000003</td>\n",
       "    </tr>\n",
       "    <tr>\n",
       "      <th>3</th>\n",
       "      <td>HOBBIES_1</td>\n",
       "      <td>0.000017</td>\n",
       "    </tr>\n",
       "    <tr>\n",
       "      <th>4</th>\n",
       "      <td>NoEvent</td>\n",
       "      <td>0.000064</td>\n",
       "    </tr>\n",
       "    <tr>\n",
       "      <th>5</th>\n",
       "      <td>HOBBIES</td>\n",
       "      <td>0.000166</td>\n",
       "    </tr>\n",
       "    <tr>\n",
       "      <th>6</th>\n",
       "      <td>Religious</td>\n",
       "      <td>0.000224</td>\n",
       "    </tr>\n",
       "    <tr>\n",
       "      <th>7</th>\n",
       "      <td>monfri</td>\n",
       "      <td>0.000297</td>\n",
       "    </tr>\n",
       "    <tr>\n",
       "      <th>8</th>\n",
       "      <td>midweek</td>\n",
       "      <td>0.000358</td>\n",
       "    </tr>\n",
       "    <tr>\n",
       "      <th>9</th>\n",
       "      <td>Cultural</td>\n",
       "      <td>0.000428</td>\n",
       "    </tr>\n",
       "    <tr>\n",
       "      <th>10</th>\n",
       "      <td>National</td>\n",
       "      <td>0.000472</td>\n",
       "    </tr>\n",
       "    <tr>\n",
       "      <th>11</th>\n",
       "      <td>FOODS_1</td>\n",
       "      <td>0.000478</td>\n",
       "    </tr>\n",
       "    <tr>\n",
       "      <th>12</th>\n",
       "      <td>CA_4</td>\n",
       "      <td>0.000574</td>\n",
       "    </tr>\n",
       "    <tr>\n",
       "      <th>13</th>\n",
       "      <td>snap_CA</td>\n",
       "      <td>0.001049</td>\n",
       "    </tr>\n",
       "    <tr>\n",
       "      <th>14</th>\n",
       "      <td>TX_1</td>\n",
       "      <td>0.001356</td>\n",
       "    </tr>\n",
       "    <tr>\n",
       "      <th>15</th>\n",
       "      <td>CA_1</td>\n",
       "      <td>0.001579</td>\n",
       "    </tr>\n",
       "    <tr>\n",
       "      <th>16</th>\n",
       "      <td>HOUSEHOLD_2</td>\n",
       "      <td>0.002172</td>\n",
       "    </tr>\n",
       "    <tr>\n",
       "      <th>17</th>\n",
       "      <td>snap_TX</td>\n",
       "      <td>0.002337</td>\n",
       "    </tr>\n",
       "    <tr>\n",
       "      <th>18</th>\n",
       "      <td>TX_2</td>\n",
       "      <td>0.002349</td>\n",
       "    </tr>\n",
       "    <tr>\n",
       "      <th>19</th>\n",
       "      <td>weekend</td>\n",
       "      <td>0.002387</td>\n",
       "    </tr>\n",
       "    <tr>\n",
       "      <th>20</th>\n",
       "      <td>year</td>\n",
       "      <td>0.003186</td>\n",
       "    </tr>\n",
       "    <tr>\n",
       "      <th>21</th>\n",
       "      <td>WI_3</td>\n",
       "      <td>0.004111</td>\n",
       "    </tr>\n",
       "    <tr>\n",
       "      <th>22</th>\n",
       "      <td>WI</td>\n",
       "      <td>0.004487</td>\n",
       "    </tr>\n",
       "    <tr>\n",
       "      <th>23</th>\n",
       "      <td>TX_3</td>\n",
       "      <td>0.006562</td>\n",
       "    </tr>\n",
       "    <tr>\n",
       "      <th>24</th>\n",
       "      <td>wday</td>\n",
       "      <td>0.008980</td>\n",
       "    </tr>\n",
       "    <tr>\n",
       "      <th>25</th>\n",
       "      <td>HOBBIES_2</td>\n",
       "      <td>0.011794</td>\n",
       "    </tr>\n",
       "    <tr>\n",
       "      <th>26</th>\n",
       "      <td>HOUSEHOLD_1</td>\n",
       "      <td>0.011983</td>\n",
       "    </tr>\n",
       "    <tr>\n",
       "      <th>27</th>\n",
       "      <td>TX</td>\n",
       "      <td>0.014334</td>\n",
       "    </tr>\n",
       "    <tr>\n",
       "      <th>28</th>\n",
       "      <td>FOODS_2</td>\n",
       "      <td>0.014792</td>\n",
       "    </tr>\n",
       "    <tr>\n",
       "      <th>29</th>\n",
       "      <td>CA_2</td>\n",
       "      <td>0.015304</td>\n",
       "    </tr>\n",
       "    <tr>\n",
       "      <th>30</th>\n",
       "      <td>WI_1</td>\n",
       "      <td>0.015749</td>\n",
       "    </tr>\n",
       "    <tr>\n",
       "      <th>31</th>\n",
       "      <td>month</td>\n",
       "      <td>0.016901</td>\n",
       "    </tr>\n",
       "    <tr>\n",
       "      <th>32</th>\n",
       "      <td>snap_WI</td>\n",
       "      <td>0.021974</td>\n",
       "    </tr>\n",
       "    <tr>\n",
       "      <th>33</th>\n",
       "      <td>FOODS_3</td>\n",
       "      <td>0.023086</td>\n",
       "    </tr>\n",
       "    <tr>\n",
       "      <th>34</th>\n",
       "      <td>CA_3</td>\n",
       "      <td>0.026263</td>\n",
       "    </tr>\n",
       "    <tr>\n",
       "      <th>35</th>\n",
       "      <td>WI_2</td>\n",
       "      <td>0.046776</td>\n",
       "    </tr>\n",
       "    <tr>\n",
       "      <th>36</th>\n",
       "      <td>CA</td>\n",
       "      <td>0.062013</td>\n",
       "    </tr>\n",
       "    <tr>\n",
       "      <th>37</th>\n",
       "      <td>FOODS</td>\n",
       "      <td>0.069010</td>\n",
       "    </tr>\n",
       "    <tr>\n",
       "      <th>38</th>\n",
       "      <td>d</td>\n",
       "      <td>0.139118</td>\n",
       "    </tr>\n",
       "    <tr>\n",
       "      <th>39</th>\n",
       "      <td>sell_price</td>\n",
       "      <td>0.467266</td>\n",
       "    </tr>\n",
       "  </tbody>\n",
       "</table>\n",
       "</div>"
      ],
      "text/plain": [
       "        feature  importance\n",
       "0     HOUSEHOLD    0.000000\n",
       "1     Christmas    0.000000\n",
       "2      Sporting    0.000003\n",
       "3     HOBBIES_1    0.000017\n",
       "4       NoEvent    0.000064\n",
       "5       HOBBIES    0.000166\n",
       "6     Religious    0.000224\n",
       "7        monfri    0.000297\n",
       "8       midweek    0.000358\n",
       "9      Cultural    0.000428\n",
       "10     National    0.000472\n",
       "11      FOODS_1    0.000478\n",
       "12         CA_4    0.000574\n",
       "13      snap_CA    0.001049\n",
       "14         TX_1    0.001356\n",
       "15         CA_1    0.001579\n",
       "16  HOUSEHOLD_2    0.002172\n",
       "17      snap_TX    0.002337\n",
       "18         TX_2    0.002349\n",
       "19      weekend    0.002387\n",
       "20         year    0.003186\n",
       "21         WI_3    0.004111\n",
       "22           WI    0.004487\n",
       "23         TX_3    0.006562\n",
       "24         wday    0.008980\n",
       "25    HOBBIES_2    0.011794\n",
       "26  HOUSEHOLD_1    0.011983\n",
       "27           TX    0.014334\n",
       "28      FOODS_2    0.014792\n",
       "29         CA_2    0.015304\n",
       "30         WI_1    0.015749\n",
       "31        month    0.016901\n",
       "32      snap_WI    0.021974\n",
       "33      FOODS_3    0.023086\n",
       "34         CA_3    0.026263\n",
       "35         WI_2    0.046776\n",
       "36           CA    0.062013\n",
       "37        FOODS    0.069010\n",
       "38            d    0.139118\n",
       "39   sell_price    0.467266"
      ]
     },
     "execution_count": 15,
     "metadata": {},
     "output_type": "execute_result"
    }
   ],
   "source": [
    "feature_imp"
   ]
  },
  {
   "cell_type": "code",
   "execution_count": 36,
   "metadata": {},
   "outputs": [],
   "source": [
    "import matplotlib \n",
    "#matplotlib.rc('xtick', labelsize=15) \n",
    "#matplotlib.rc('ytick', labelsize=15) \n",
    "font = {'family' : 'normal',\n",
    "        'size'   : 14}\n",
    "\n",
    "matplotlib.rc('font', **font)"
   ]
  },
  {
   "cell_type": "code",
   "execution_count": 39,
   "metadata": {},
   "outputs": [
    {
     "data": {
      "image/png": "[encoded data removed]",
      "text/plain": [
       "<Figure size 576x288 with 2 Axes>"
      ]
     },
     "metadata": {
      "needs_background": "light"
     },
     "output_type": "display_data"
    }
   ],
   "source": [
    "fig,ax = plt.subplots(nrows=1, ncols=2, figsize=(8, 4))\n",
    "ax[0].barh(feature_imp.feature[30:], feature_imp.importance[30:])\n",
    "ax[0].set_title('Decision Tree')\n",
    "ax[0].set_xlabel('Importance')\n",
    "ax[1].barh(lr_feature_imp.feature[30:], lr_feature_imp.importance[30:])\n",
    "ax[1].set_title('Linear Regression')\n",
    "ax[1].set_xlabel('Coefficient')\n",
    "plt.tight_layout()\n",
    "plt.savefig('images/featureimportance.png', dpi=500)\n",
    "plt.show()"
   ]
  },
  {
   "cell_type": "markdown",
   "metadata": {},
   "source": [
    "## Support Vector Regression\n",
    "Due to the size of the dataset we can only really use LinearSVR here, since our dataset is too large to make nonlinear SVR's viable"
   ]
  },
  {
   "cell_type": "code",
   "execution_count": 109,
   "metadata": {},
   "outputs": [],
   "source": [
    "from sklearn.svm import LinearSVR\n",
    "from sklearn.metrics import mean_squared_error\n",
    "from sklearn.model_selection import cross_val_score\n",
    "from sklearn.model_selection import GridSearchCV"
   ]
  },
  {
   "cell_type": "code",
   "execution_count": 21,
   "metadata": {
    "collapsed": true
   },
   "outputs": [
    {
     "ename": "KeyboardInterrupt",
     "evalue": "",
     "output_type": "error",
     "traceback": [
      "\u001b[0;31m---------------------------------------------------------------------------\u001b[0m",
      "\u001b[0;31mKeyboardInterrupt\u001b[0m                         Traceback (most recent call last)",
      "\u001b[0;32m<ipython-input-21-eea102e8ac79>\u001b[0m in \u001b[0;36m<module>\u001b[0;34m\u001b[0m\n\u001b[1;32m      1\u001b[0m \u001b[0;31m#Initial try at SVR\u001b[0m\u001b[0;34m\u001b[0m\u001b[0;34m\u001b[0m\u001b[0;34m\u001b[0m\u001b[0m\n\u001b[1;32m      2\u001b[0m \u001b[0msvm_reg\u001b[0m \u001b[0;34m=\u001b[0m \u001b[0mLinearSVR\u001b[0m\u001b[0;34m(\u001b[0m\u001b[0mepsilon\u001b[0m\u001b[0;34m=\u001b[0m\u001b[0;36m0.4\u001b[0m\u001b[0;34m,\u001b[0m \u001b[0mC\u001b[0m\u001b[0;34m=\u001b[0m\u001b[0;36m0.4\u001b[0m\u001b[0;34m,\u001b[0m \u001b[0mrandom_state\u001b[0m\u001b[0;34m=\u001b[0m\u001b[0;36m21\u001b[0m\u001b[0;34m)\u001b[0m\u001b[0;34m\u001b[0m\u001b[0;34m\u001b[0m\u001b[0m\n\u001b[0;32m----> 3\u001b[0;31m \u001b[0msvm_reg\u001b[0m\u001b[0;34m.\u001b[0m\u001b[0mfit\u001b[0m\u001b[0;34m(\u001b[0m\u001b[0mX_train\u001b[0m\u001b[0;34m,\u001b[0m \u001b[0my_train\u001b[0m\u001b[0;34m)\u001b[0m\u001b[0;34m\u001b[0m\u001b[0;34m\u001b[0m\u001b[0m\n\u001b[0m",
      "\u001b[0;32m/opt/anaconda3/lib/python3.7/site-packages/sklearn/svm/classes.py\u001b[0m in \u001b[0;36mfit\u001b[0;34m(self, X, y, sample_weight)\u001b[0m\n\u001b[1;32m    421\u001b[0m             \u001b[0;32mNone\u001b[0m\u001b[0;34m,\u001b[0m \u001b[0mpenalty\u001b[0m\u001b[0;34m,\u001b[0m \u001b[0mself\u001b[0m\u001b[0;34m.\u001b[0m\u001b[0mdual\u001b[0m\u001b[0;34m,\u001b[0m \u001b[0mself\u001b[0m\u001b[0;34m.\u001b[0m\u001b[0mverbose\u001b[0m\u001b[0;34m,\u001b[0m\u001b[0;34m\u001b[0m\u001b[0;34m\u001b[0m\u001b[0m\n\u001b[1;32m    422\u001b[0m             \u001b[0mself\u001b[0m\u001b[0;34m.\u001b[0m\u001b[0mmax_iter\u001b[0m\u001b[0;34m,\u001b[0m \u001b[0mself\u001b[0m\u001b[0;34m.\u001b[0m\u001b[0mtol\u001b[0m\u001b[0;34m,\u001b[0m \u001b[0mself\u001b[0m\u001b[0;34m.\u001b[0m\u001b[0mrandom_state\u001b[0m\u001b[0;34m,\u001b[0m \u001b[0mloss\u001b[0m\u001b[0;34m=\u001b[0m\u001b[0mself\u001b[0m\u001b[0;34m.\u001b[0m\u001b[0mloss\u001b[0m\u001b[0;34m,\u001b[0m\u001b[0;34m\u001b[0m\u001b[0;34m\u001b[0m\u001b[0m\n\u001b[0;32m--> 423\u001b[0;31m             epsilon=self.epsilon, sample_weight=sample_weight)\n\u001b[0m\u001b[1;32m    424\u001b[0m         \u001b[0mself\u001b[0m\u001b[0;34m.\u001b[0m\u001b[0mcoef_\u001b[0m \u001b[0;34m=\u001b[0m \u001b[0mself\u001b[0m\u001b[0;34m.\u001b[0m\u001b[0mcoef_\u001b[0m\u001b[0;34m.\u001b[0m\u001b[0mravel\u001b[0m\u001b[0;34m(\u001b[0m\u001b[0;34m)\u001b[0m\u001b[0;34m\u001b[0m\u001b[0;34m\u001b[0m\u001b[0m\n\u001b[1;32m    425\u001b[0m \u001b[0;34m\u001b[0m\u001b[0m\n",
      "\u001b[0;32m/opt/anaconda3/lib/python3.7/site-packages/sklearn/svm/base.py\u001b[0m in \u001b[0;36m_fit_liblinear\u001b[0;34m(X, y, C, fit_intercept, intercept_scaling, class_weight, penalty, dual, verbose, max_iter, tol, random_state, multi_class, loss, epsilon, sample_weight)\u001b[0m\n\u001b[1;32m    919\u001b[0m         \u001b[0mX\u001b[0m\u001b[0;34m,\u001b[0m \u001b[0my_ind\u001b[0m\u001b[0;34m,\u001b[0m \u001b[0msp\u001b[0m\u001b[0;34m.\u001b[0m\u001b[0misspmatrix\u001b[0m\u001b[0;34m(\u001b[0m\u001b[0mX\u001b[0m\u001b[0;34m)\u001b[0m\u001b[0;34m,\u001b[0m \u001b[0msolver_type\u001b[0m\u001b[0;34m,\u001b[0m \u001b[0mtol\u001b[0m\u001b[0;34m,\u001b[0m \u001b[0mbias\u001b[0m\u001b[0;34m,\u001b[0m \u001b[0mC\u001b[0m\u001b[0;34m,\u001b[0m\u001b[0;34m\u001b[0m\u001b[0;34m\u001b[0m\u001b[0m\n\u001b[1;32m    920\u001b[0m         \u001b[0mclass_weight_\u001b[0m\u001b[0;34m,\u001b[0m \u001b[0mmax_iter\u001b[0m\u001b[0;34m,\u001b[0m \u001b[0mrnd\u001b[0m\u001b[0;34m.\u001b[0m\u001b[0mrandint\u001b[0m\u001b[0;34m(\u001b[0m\u001b[0mnp\u001b[0m\u001b[0;34m.\u001b[0m\u001b[0miinfo\u001b[0m\u001b[0;34m(\u001b[0m\u001b[0;34m'i'\u001b[0m\u001b[0;34m)\u001b[0m\u001b[0;34m.\u001b[0m\u001b[0mmax\u001b[0m\u001b[0;34m)\u001b[0m\u001b[0;34m,\u001b[0m\u001b[0;34m\u001b[0m\u001b[0;34m\u001b[0m\u001b[0m\n\u001b[0;32m--> 921\u001b[0;31m         epsilon, sample_weight)\n\u001b[0m\u001b[1;32m    922\u001b[0m     \u001b[0;31m# Regarding rnd.randint(..) in the above signature:\u001b[0m\u001b[0;34m\u001b[0m\u001b[0;34m\u001b[0m\u001b[0;34m\u001b[0m\u001b[0m\n\u001b[1;32m    923\u001b[0m     \u001b[0;31m# seed for srand in range [0..INT_MAX); due to limitations in Numpy\u001b[0m\u001b[0;34m\u001b[0m\u001b[0;34m\u001b[0m\u001b[0;34m\u001b[0m\u001b[0m\n",
      "\u001b[0;31mKeyboardInterrupt\u001b[0m: "
     ]
    }
   ],
   "source": [
    "#Initial try at SVR\n",
    "svm_reg = LinearSVR(epsilon=0.4, C=0.4, random_state=21)\n",
    "svm_reg.fit(X_train, y_train)"
   ]
  },
  {
   "cell_type": "code",
   "execution_count": 42,
   "metadata": {},
   "outputs": [
    {
     "data": {
      "text/plain": [
       "GridSearchCV(cv=3, error_score='raise-deprecating',\n",
       "             estimator=LinearSVR(C=1.0, dual=True, epsilon=0.0,\n",
       "                                 fit_intercept=True, intercept_scaling=1.0,\n",
       "                                 loss='epsilon_insensitive', max_iter=1000,\n",
       "                                 random_state=None, tol=0.0001, verbose=0),\n",
       "             iid='warn', n_jobs=None,\n",
       "             param_grid={'C': [0.1, 0.4], 'epsilon': [0.2, 0.4]},\n",
       "             pre_dispatch='2*n_jobs', refit=True, return_train_score=False,\n",
       "             scoring='neg_mean_squared_error', verbose=0)"
      ]
     },
     "execution_count": 42,
     "metadata": {},
     "output_type": "execute_result"
    }
   ],
   "source": [
    "#Grid Search SVR\n",
    "parameters = {\n",
    "    'epsilon': [0.2, 0.4],\n",
    "    'C': [0.1, 0.4]\n",
    "}\n",
    "model = LinearSVR()\n",
    "clf = GridSearchCV(model, parameters, scoring='neg_mean_squared_error', cv=3)\n",
    "clf.fit(X_train, y_train)"
   ]
  },
  {
   "cell_type": "code",
   "execution_count": 44,
   "metadata": {},
   "outputs": [
    {
     "data": {
      "text/html": [
       "<div>\n",
       "<style scoped>\n",
       "    .dataframe tbody tr th:only-of-type {\n",
       "        vertical-align: middle;\n",
       "    }\n",
       "\n",
       "    .dataframe tbody tr th {\n",
       "        vertical-align: top;\n",
       "    }\n",
       "\n",
       "    .dataframe thead th {\n",
       "        text-align: right;\n",
       "    }\n",
       "</style>\n",
       "<table border=\"1\" class=\"dataframe\">\n",
       "  <thead>\n",
       "    <tr style=\"text-align: right;\">\n",
       "      <th></th>\n",
       "      <th>mean_fit_time</th>\n",
       "      <th>std_fit_time</th>\n",
       "      <th>mean_score_time</th>\n",
       "      <th>std_score_time</th>\n",
       "      <th>param_C</th>\n",
       "      <th>param_epsilon</th>\n",
       "      <th>params</th>\n",
       "      <th>split0_test_score</th>\n",
       "      <th>split1_test_score</th>\n",
       "      <th>split2_test_score</th>\n",
       "      <th>mean_test_score</th>\n",
       "      <th>std_test_score</th>\n",
       "      <th>rank_test_score</th>\n",
       "    </tr>\n",
       "  </thead>\n",
       "  <tbody>\n",
       "    <tr>\n",
       "      <td>0</td>\n",
       "      <td>2.958821</td>\n",
       "      <td>0.025446</td>\n",
       "      <td>0.009581</td>\n",
       "      <td>0.000529</td>\n",
       "      <td>0.1</td>\n",
       "      <td>0.2</td>\n",
       "      <td>{'C': 0.1, 'epsilon': 0.2}</td>\n",
       "      <td>-7.512782</td>\n",
       "      <td>-7.186471</td>\n",
       "      <td>-6.468062</td>\n",
       "      <td>-7.055773</td>\n",
       "      <td>0.436403</td>\n",
       "      <td>3</td>\n",
       "    </tr>\n",
       "    <tr>\n",
       "      <td>1</td>\n",
       "      <td>2.504628</td>\n",
       "      <td>0.010741</td>\n",
       "      <td>0.009673</td>\n",
       "      <td>0.001280</td>\n",
       "      <td>0.1</td>\n",
       "      <td>0.4</td>\n",
       "      <td>{'C': 0.1, 'epsilon': 0.4}</td>\n",
       "      <td>-7.554937</td>\n",
       "      <td>-7.220711</td>\n",
       "      <td>-6.494918</td>\n",
       "      <td>-7.090190</td>\n",
       "      <td>0.442483</td>\n",
       "      <td>4</td>\n",
       "    </tr>\n",
       "    <tr>\n",
       "      <td>2</td>\n",
       "      <td>7.982620</td>\n",
       "      <td>0.106887</td>\n",
       "      <td>0.008579</td>\n",
       "      <td>0.000023</td>\n",
       "      <td>0.4</td>\n",
       "      <td>0.2</td>\n",
       "      <td>{'C': 0.4, 'epsilon': 0.2}</td>\n",
       "      <td>-7.265266</td>\n",
       "      <td>-6.949928</td>\n",
       "      <td>-6.255557</td>\n",
       "      <td>-6.823585</td>\n",
       "      <td>0.421782</td>\n",
       "      <td>1</td>\n",
       "    </tr>\n",
       "    <tr>\n",
       "      <td>3</td>\n",
       "      <td>6.143120</td>\n",
       "      <td>0.100372</td>\n",
       "      <td>0.008617</td>\n",
       "      <td>0.000074</td>\n",
       "      <td>0.4</td>\n",
       "      <td>0.4</td>\n",
       "      <td>{'C': 0.4, 'epsilon': 0.4}</td>\n",
       "      <td>-7.286887</td>\n",
       "      <td>-6.963951</td>\n",
       "      <td>-6.263851</td>\n",
       "      <td>-6.838230</td>\n",
       "      <td>0.427009</td>\n",
       "      <td>2</td>\n",
       "    </tr>\n",
       "  </tbody>\n",
       "</table>\n",
       "</div>"
      ],
      "text/plain": [
       "   mean_fit_time  std_fit_time  mean_score_time  std_score_time param_C  \\\n",
       "0       2.958821      0.025446         0.009581        0.000529     0.1   \n",
       "1       2.504628      0.010741         0.009673        0.001280     0.1   \n",
       "2       7.982620      0.106887         0.008579        0.000023     0.4   \n",
       "3       6.143120      0.100372         0.008617        0.000074     0.4   \n",
       "\n",
       "  param_epsilon                      params  split0_test_score  \\\n",
       "0           0.2  {'C': 0.1, 'epsilon': 0.2}          -7.512782   \n",
       "1           0.4  {'C': 0.1, 'epsilon': 0.4}          -7.554937   \n",
       "2           0.2  {'C': 0.4, 'epsilon': 0.2}          -7.265266   \n",
       "3           0.4  {'C': 0.4, 'epsilon': 0.4}          -7.286887   \n",
       "\n",
       "   split1_test_score  split2_test_score  mean_test_score  std_test_score  \\\n",
       "0          -7.186471          -6.468062        -7.055773        0.436403   \n",
       "1          -7.220711          -6.494918        -7.090190        0.442483   \n",
       "2          -6.949928          -6.255557        -6.823585        0.421782   \n",
       "3          -6.963951          -6.263851        -6.838230        0.427009   \n",
       "\n",
       "   rank_test_score  \n",
       "0                3  \n",
       "1                4  \n",
       "2                1  \n",
       "3                2  "
      ]
     },
     "execution_count": 44,
     "metadata": {},
     "output_type": "execute_result"
    }
   ],
   "source": [
    "pd.DataFrame(clf.cv_results_)"
   ]
  },
  {
   "cell_type": "code",
   "execution_count": 45,
   "metadata": {},
   "outputs": [
    {
     "data": {
      "text/plain": [
       "{'C': 0.4, 'epsilon': 0.2}"
      ]
     },
     "execution_count": 45,
     "metadata": {},
     "output_type": "execute_result"
    }
   ],
   "source": [
    "clf.best_params_"
   ]
  },
  {
   "cell_type": "code",
   "execution_count": 114,
   "metadata": {},
   "outputs": [
    {
     "data": {
      "text/plain": [
       "LinearSVR(C=0.4, epsilon=0.2, random_state=22)"
      ]
     },
     "execution_count": 114,
     "metadata": {},
     "output_type": "execute_result"
    }
   ],
   "source": [
    "#Fit model with the best hyper-parameters\n",
    "svm_reg = LinearSVR(epsilon=0.2, C=0.4, random_state=22)\n",
    "svm_reg.fit(X_train, y_train)"
   ]
  },
  {
   "cell_type": "code",
   "execution_count": 23,
   "metadata": {},
   "outputs": [
    {
     "name": "stdout",
     "output_type": "stream",
     "text": [
      "Mean Squared Error CV: 6.787131686368653\n"
     ]
    }
   ],
   "source": [
    "#Cross validation scoring metric\n",
    "cv_score = cross_val_score(svm_reg, X_train, y_train, cv=5, scoring='neg_mean_squared_error')\n",
    "print(\"Mean Squared Error CV:\", -np.mean(cv_score))"
   ]
  },
  {
   "cell_type": "code",
   "execution_count": 24,
   "metadata": {},
   "outputs": [
    {
     "name": "stdout",
     "output_type": "stream",
     "text": [
      "6.775330130679082\n",
      "6.847785314466136\n"
     ]
    }
   ],
   "source": [
    "preds_train = svm_reg.predict(X_train)\n",
    "preds_test = svm_reg.predict(X_test)\n",
    "print(mean_squared_error(y_train, preds_train))\n",
    "print(mean_squared_error(y_test, preds_test))"
   ]
  },
  {
   "cell_type": "code",
   "execution_count": 25,
   "metadata": {},
   "outputs": [
    {
     "name": "stdout",
     "output_type": "stream",
     "text": [
      "0.5933483357655558\n",
      "0.5997087616722856\n"
     ]
    }
   ],
   "source": [
    "#Coefficient of determination, R2\n",
    "print(svm_reg.score(X_train, y_train))\n",
    "print(svm_reg.score(X_test, y_test))"
   ]
  },
  {
   "cell_type": "code",
   "execution_count": 28,
   "metadata": {},
   "outputs": [
    {
     "data": {
      "text/plain": [
       "array([ 0.21794484, -0.10626046,  6.24359455, ...,  0.02372039,\n",
       "        0.15304131,  0.29812693])"
      ]
     },
     "execution_count": 28,
     "metadata": {},
     "output_type": "execute_result"
    }
   ],
   "source": [
    "preds_test"
   ]
  },
  {
   "cell_type": "code",
   "execution_count": 115,
   "metadata": {},
   "outputs": [],
   "source": [
    "#df_item\n",
    "df_item_test = df_item.loc[df_item.d > 1200/1300].copy()\n",
    "y_item = df_item_test.sold.values\n",
    "X_item = df_item_test.drop(['sold'], axis=1).values"
   ]
  },
  {
   "cell_type": "code",
   "execution_count": 116,
   "metadata": {},
   "outputs": [
    {
     "data": {
      "text/plain": [
       "array([18.71313488, 18.81024612, 18.21680093, 16.45870224, 17.15249534,\n",
       "       16.59244266, 16.6053022 , 13.36105618, 15.24234847, 15.9283486 ,\n",
       "       17.00968125, 15.88123359, 13.36588718, 14.99871109, 14.08270838,\n",
       "       14.45728138, 15.9660591 , 17.07050993, 17.61710494, 17.14398647,\n",
       "       17.5836774 , 16.13126842, 21.81406529, 16.29855178, 17.66628857,\n",
       "       17.99375836, 16.85418505, 16.24820375, 18.88492855, 17.57199734,\n",
       "       19.31156229, 17.48215794, 18.76703243, 13.96786374, 12.02361968,\n",
       "       11.53609972, 10.10224126,  9.16339915,  7.73322905,  8.45548388,\n",
       "        9.171119  ,  9.73405409, 10.15289597,  9.86729054,  9.92664216,\n",
       "       12.63778459, 12.05781276, 14.45529898, 17.32689604, 15.51661042,\n",
       "       15.98967309, 17.1807162 , 19.99010415, 21.327314  , 20.06654512,\n",
       "       20.34994002, 17.92222711, 19.6705983 , 20.42387111, 19.59239901,\n",
       "       19.77377146, 18.61251548, 20.51485931, 20.9768989 , 20.1139682 ,\n",
       "       20.51352496, 20.62464683, 20.30008749, 19.95856843, 19.24562216,\n",
       "       17.06435416, 17.86313828, 17.61939008, 17.96688403, 18.02789952,\n",
       "       18.04579485, 17.51127936, 19.20096205, 14.46294556, 13.27809117,\n",
       "       18.98023945, 15.56971348, 15.6198269 , 17.36489385, 12.63556418,\n",
       "       16.6823933 , 16.60190478, 17.72583819, 17.03690224, 17.26014156,\n",
       "       18.98480102, 16.44768236, 16.56083791, 18.51499151, 18.33328232,\n",
       "       17.73826287, 18.61595404, 14.79820581])"
      ]
     },
     "execution_count": 116,
     "metadata": {},
     "output_type": "execute_result"
    }
   ],
   "source": [
    "item_preds = svm_reg.predict(X_item)\n",
    "item_preds"
   ]
  },
  {
   "cell_type": "code",
   "execution_count": 117,
   "metadata": {},
   "outputs": [
    {
     "data": {
      "image/png": "[encoded data removed]",
      "text/plain": [
       "<Figure size 432x288 with 1 Axes>"
      ]
     },
     "metadata": {
      "needs_background": "light"
     },
     "output_type": "display_data"
    }
   ],
   "source": [
    "plt.plot(item_preds)\n",
    "plt.plot(y_item)\n",
    "plt.xlabel(\"Day\")\n",
    "plt.ylabel(\"Number of Sales of FOODS_2_360_TX_3\")\n",
    "plt.show()"
   ]
  },
  {
   "cell_type": "code",
   "execution_count": 118,
   "metadata": {},
   "outputs": [],
   "source": [
    "#df_test\n",
    "y_test = df_test.sold.values\n",
    "X_test = df_test.drop(['sold'], axis=1).values"
   ]
  },
  {
   "cell_type": "code",
   "execution_count": 119,
   "metadata": {},
   "outputs": [
    {
     "data": {
      "text/plain": [
       "array([ 0.29948603,  0.02286488,  0.05146779, ...,  0.42843536,\n",
       "       -0.01839655, -0.04981716])"
      ]
     },
     "execution_count": 119,
     "metadata": {},
     "output_type": "execute_result"
    }
   ],
   "source": [
    "test_preds = svm_reg.predict(X_test)\n",
    "test_preds"
   ]
  },
  {
   "cell_type": "code",
   "execution_count": 120,
   "metadata": {},
   "outputs": [
    {
     "data": {
      "text/plain": [
       "5.9556587276026365"
      ]
     },
     "execution_count": 120,
     "metadata": {},
     "output_type": "execute_result"
    }
   ],
   "source": [
    "mean_squared_error(y_test, test_preds)"
   ]
  },
  {
   "cell_type": "code",
   "execution_count": 121,
   "metadata": {},
   "outputs": [],
   "source": [
    "df_test['preds'] = test_preds"
   ]
  },
  {
   "cell_type": "code",
   "execution_count": 122,
   "metadata": {},
   "outputs": [
    {
     "data": {
      "text/plain": [
       "10.625602792058839"
      ]
     },
     "execution_count": 122,
     "metadata": {},
     "output_type": "execute_result"
    }
   ],
   "source": [
    "mean_squared_error(df_test[df_test['FOODS'] == 1].sold.values, df_test[df_test['FOODS'] == 1].preds.values)"
   ]
  },
  {
   "cell_type": "code",
   "execution_count": 123,
   "metadata": {},
   "outputs": [
    {
     "data": {
      "text/plain": [
       "1.5938918151983337"
      ]
     },
     "execution_count": 123,
     "metadata": {},
     "output_type": "execute_result"
    }
   ],
   "source": [
    "mean_squared_error(df_test[df_test['HOUSEHOLD'] == 1].sold.values, df_test[df_test['HOUSEHOLD'] == 1].preds.values)"
   ]
  },
  {
   "cell_type": "code",
   "execution_count": 124,
   "metadata": {},
   "outputs": [
    {
     "data": {
      "text/plain": [
       "3.487299920427689"
      ]
     },
     "execution_count": 124,
     "metadata": {},
     "output_type": "execute_result"
    }
   ],
   "source": [
    "mean_squared_error(df_test[df_test['HOBBIES'] == 1].sold.values, df_test[df_test['HOBBIES'] == 1].preds.values)"
   ]
  },
  {
   "cell_type": "code",
   "execution_count": 126,
   "metadata": {},
   "outputs": [
    {
     "data": {
      "text/plain": [
       "5.460979107030518"
      ]
     },
     "execution_count": 126,
     "metadata": {},
     "output_type": "execute_result"
    }
   ],
   "source": [
    "mean_squared_error(df_test[df_test['CA'] == 1].sold.values, df_test[df_test['CA'] == 1].preds.values)"
   ]
  },
  {
   "cell_type": "code",
   "execution_count": 127,
   "metadata": {},
   "outputs": [
    {
     "data": {
      "text/plain": [
       "3.18169471462382"
      ]
     },
     "execution_count": 127,
     "metadata": {},
     "output_type": "execute_result"
    }
   ],
   "source": [
    "mean_squared_error(df_test[df_test['TX'] == 1].sold.values, df_test[df_test['TX'] == 1].preds.values)"
   ]
  },
  {
   "cell_type": "code",
   "execution_count": 128,
   "metadata": {},
   "outputs": [
    {
     "data": {
      "text/plain": [
       "9.432205096333012"
      ]
     },
     "execution_count": 128,
     "metadata": {},
     "output_type": "execute_result"
    }
   ],
   "source": [
    "mean_squared_error(df_test[df_test['WI'] == 1].sold.values, df_test[df_test['WI'] == 1].preds.values)"
   ]
  },
  {
   "cell_type": "markdown",
   "metadata": {},
   "source": [
    "## Elastic Net\n",
    "Elastic Net is a linear regression model that incorporates both l1 and l2 regularisation."
   ]
  },
  {
   "cell_type": "code",
   "execution_count": 130,
   "metadata": {},
   "outputs": [],
   "source": [
    "from sklearn.linear_model import ElasticNet"
   ]
  },
  {
   "cell_type": "markdown",
   "metadata": {},
   "source": [
    "Firstly, fit the model with default hyperparameters, alpha=1, l1_ratio=0.5. We can see that the MSE is much higher than for SVR"
   ]
  },
  {
   "cell_type": "code",
   "execution_count": 17,
   "metadata": {},
   "outputs": [
    {
     "data": {
      "text/plain": [
       "ElasticNet(alpha=1, copy_X=True, fit_intercept=True, l1_ratio=0.5,\n",
       "           max_iter=1000, normalize=False, positive=False, precompute=False,\n",
       "           random_state=101, selection='cyclic', tol=0.0001, warm_start=False)"
      ]
     },
     "execution_count": 17,
     "metadata": {},
     "output_type": "execute_result"
    }
   ],
   "source": [
    "en = ElasticNet(alpha=1, l1_ratio = 0.5, random_state=101)\n",
    "en.fit(X_train, y_train)"
   ]
  },
  {
   "cell_type": "code",
   "execution_count": 19,
   "metadata": {},
   "outputs": [
    {
     "name": "stdout",
     "output_type": "stream",
     "text": [
      "Mean Squared Error CV: 16.871055514922304\n"
     ]
    }
   ],
   "source": [
    "#Cross validation scoring metric\n",
    "cv_score_en = cross_val_score(en, X_train, y_train, cv=10, scoring='neg_mean_squared_error')\n",
    "print(\"Mean Squared Error CV:\", -np.mean(cv_score_en))"
   ]
  },
  {
   "cell_type": "markdown",
   "metadata": {},
   "source": [
    "Cross validated grid search over several potential hyperparameters. The best hyperparameter set found is alpha=0.1, l1_ratio=0.1. l1_ratio being close to zero suggests that the model does not like to suppress any/many features to zero coeff."
   ]
  },
  {
   "cell_type": "code",
   "execution_count": 20,
   "metadata": {},
   "outputs": [
    {
     "data": {
      "text/plain": [
       "GridSearchCV(cv=5, error_score='raise-deprecating',\n",
       "             estimator=ElasticNet(alpha=1.0, copy_X=True, fit_intercept=True,\n",
       "                                  l1_ratio=0.5, max_iter=1000, normalize=False,\n",
       "                                  positive=False, precompute=False,\n",
       "                                  random_state=None, selection='cyclic',\n",
       "                                  tol=0.0001, warm_start=False),\n",
       "             iid='warn', n_jobs=None,\n",
       "             param_grid={'alpha': [0.1, 1, 10],\n",
       "                         'l1_ratio': [0.1, 0.25, 0.5, 0.75, 0.9]},\n",
       "             pre_dispatch='2*n_jobs', refit=True, return_train_score=False,\n",
       "             scoring='neg_mean_squared_error', verbose=0)"
      ]
     },
     "execution_count": 20,
     "metadata": {},
     "output_type": "execute_result"
    }
   ],
   "source": [
    "#Grid Search SVR\n",
    "parameters_en = {\n",
    "    'alpha': [0.1, 1,10],\n",
    "    'l1_ratio': [0.1, 0.25, 0.5, 0.75, 0.9]\n",
    "}\n",
    "eNet = ElasticNet()\n",
    "en_gs = GridSearchCV(eNet, parameters_en, scoring='neg_mean_squared_error', cv=5)\n",
    "en_gs.fit(X_train, y_train)"
   ]
  },
  {
   "cell_type": "code",
   "execution_count": 21,
   "metadata": {},
   "outputs": [
    {
     "data": {
      "text/plain": [
       "{'alpha': 0.1, 'l1_ratio': 0.1}"
      ]
     },
     "execution_count": 21,
     "metadata": {},
     "output_type": "execute_result"
    }
   ],
   "source": [
    "en_gs.best_params_"
   ]
  },
  {
   "cell_type": "markdown",
   "metadata": {},
   "source": [
    "Refit the final model using the best hyperparameter set, gives MSE of 15.35."
   ]
  },
  {
   "cell_type": "code",
   "execution_count": 131,
   "metadata": {},
   "outputs": [
    {
     "data": {
      "text/plain": [
       "ElasticNet(alpha=0.1, l1_ratio=0.1, random_state=102)"
      ]
     },
     "execution_count": 131,
     "metadata": {},
     "output_type": "execute_result"
    }
   ],
   "source": [
    "en = ElasticNet(alpha=0.1, l1_ratio = 0.1, random_state=102)\n",
    "en.fit(X_train, y_train)"
   ]
  },
  {
   "cell_type": "code",
   "execution_count": 28,
   "metadata": {},
   "outputs": [
    {
     "name": "stdout",
     "output_type": "stream",
     "text": [
      "Mean Squared Error CV: 14.682647916765845\n"
     ]
    }
   ],
   "source": [
    "#Cross validation scoring metric\n",
    "cv_score_en = cross_val_score(en, X_train, y_train, cv=10, scoring='neg_mean_squared_error')\n",
    "print(\"Mean Squared Error CV:\", -np.mean(cv_score_en))"
   ]
  },
  {
   "cell_type": "code",
   "execution_count": 133,
   "metadata": {},
   "outputs": [
    {
     "data": {
      "text/plain": [
       "array([12.2879715 , 14.3822508 , 18.00463476, 15.88481267, 18.87832305,\n",
       "       15.32846894, 18.23851001, 13.73430201, 15.96283212, 15.09006999,\n",
       "       14.29791222, 15.43577278, 10.82377791, 10.03139908, 16.38082979,\n",
       "       12.25449505, 14.02747778, 12.28448256,  9.75441324, 12.60667166,\n",
       "       16.18119152, 12.07357404, 16.95803045, 17.58018701, 12.32111017,\n",
       "       13.51271042, 10.09414343, 15.19747458, 15.19977224, 15.48906299,\n",
       "       21.26157159, 11.51515543, 17.29166296, 20.6193409 , 15.58927055,\n",
       "        8.70578853, 17.28143623, 18.25451265, 10.57468821,  8.80595208,\n",
       "        9.75832463, 13.99441964, 13.20049314, 10.65994223,  8.72267904,\n",
       "       13.48819897, 13.83381522,  5.63682034, 15.47704076, 11.28760876,\n",
       "       16.8245021 ,  9.46168747, 13.1714022 , 18.46806139, 11.50654677,\n",
       "       11.81979471, 12.74393688, 21.92973075, 15.49533527,  9.58893815,\n",
       "       15.7921554 , 12.55492632, 20.63594312, 23.28355859, 13.06836718,\n",
       "       18.28088815, 18.01514458, 15.18600439, 14.01695913, 14.54392536,\n",
       "       11.364345  , 11.73868239, 10.8610672 , 12.44924084, 12.53086353,\n",
       "       12.15479599, 13.47515574, 15.85992959, 12.62850124,  7.54607534,\n",
       "       22.96118148, 18.93599516, 20.54545976, 23.19750073, 16.49173098,\n",
       "       28.81404367, 10.51445385, 17.79664641, 13.98324177, 18.90176796,\n",
       "       20.94283572, 21.49678216, 17.95001413, 17.47297715, 11.12030191,\n",
       "       17.82020351, 19.56394974, 15.85312082])"
      ]
     },
     "execution_count": 133,
     "metadata": {},
     "output_type": "execute_result"
    }
   ],
   "source": [
    "item_preds = en.predict(X_item)\n",
    "item_preds"
   ]
  },
  {
   "cell_type": "code",
   "execution_count": 134,
   "metadata": {},
   "outputs": [
    {
     "data": {
      "image/png": "[encoded data removed]",
      "text/plain": [
       "<Figure size 432x288 with 1 Axes>"
      ]
     },
     "metadata": {
      "needs_background": "light"
     },
     "output_type": "display_data"
    }
   ],
   "source": [
    "plt.plot(item_preds)\n",
    "plt.plot(y_item)\n",
    "plt.xlabel(\"Day\")\n",
    "plt.ylabel(\"Number of Sales of FOODS_2_360_TX_3\")\n",
    "plt.show()"
   ]
  },
  {
   "cell_type": "code",
   "execution_count": 135,
   "metadata": {},
   "outputs": [
    {
     "data": {
      "text/plain": [
       "array([0.70056555, 0.11317992, 0.47763285, ..., 0.82278163, 0.29149211,\n",
       "       0.13033873])"
      ]
     },
     "execution_count": 135,
     "metadata": {},
     "output_type": "execute_result"
    }
   ],
   "source": [
    "test_preds = en.predict(X_test)\n",
    "test_preds"
   ]
  },
  {
   "cell_type": "code",
   "execution_count": 136,
   "metadata": {},
   "outputs": [],
   "source": [
    "df_test['preds'] = test_preds"
   ]
  },
  {
   "cell_type": "code",
   "execution_count": 137,
   "metadata": {},
   "outputs": [
    {
     "data": {
      "text/plain": [
       "13.33254878015899"
      ]
     },
     "execution_count": 137,
     "metadata": {},
     "output_type": "execute_result"
    }
   ],
   "source": [
    "mean_squared_error(df_test[df_test['FOODS'] == 1].sold.values, df_test[df_test['FOODS'] == 1].preds.values)"
   ]
  },
  {
   "cell_type": "code",
   "execution_count": 138,
   "metadata": {},
   "outputs": [
    {
     "data": {
      "text/plain": [
       "1.954538674622173"
      ]
     },
     "execution_count": 138,
     "metadata": {},
     "output_type": "execute_result"
    }
   ],
   "source": [
    "mean_squared_error(df_test[df_test['HOUSEHOLD'] == 1].sold.values, df_test[df_test['HOUSEHOLD'] == 1].preds.values)"
   ]
  },
  {
   "cell_type": "code",
   "execution_count": 139,
   "metadata": {},
   "outputs": [
    {
     "data": {
      "text/plain": [
       "3.91792566359059"
      ]
     },
     "execution_count": 139,
     "metadata": {},
     "output_type": "execute_result"
    }
   ],
   "source": [
    "mean_squared_error(df_test[df_test['HOBBIES'] == 1].sold.values, df_test[df_test['HOBBIES'] == 1].preds.values)"
   ]
  },
  {
   "cell_type": "code",
   "execution_count": 140,
   "metadata": {},
   "outputs": [
    {
     "data": {
      "text/plain": [
       "6.831283443492722"
      ]
     },
     "execution_count": 140,
     "metadata": {},
     "output_type": "execute_result"
    }
   ],
   "source": [
    "mean_squared_error(df_test[df_test['CA'] == 1].sold.values, df_test[df_test['CA'] == 1].preds.values)"
   ]
  },
  {
   "cell_type": "code",
   "execution_count": 141,
   "metadata": {},
   "outputs": [
    {
     "data": {
      "text/plain": [
       "3.9315829134854"
      ]
     },
     "execution_count": 141,
     "metadata": {},
     "output_type": "execute_result"
    }
   ],
   "source": [
    "mean_squared_error(df_test[df_test['TX'] == 1].sold.values, df_test[df_test['TX'] == 1].preds.values)"
   ]
  },
  {
   "cell_type": "code",
   "execution_count": 142,
   "metadata": {},
   "outputs": [
    {
     "data": {
      "text/plain": [
       "11.561918948499104"
      ]
     },
     "execution_count": 142,
     "metadata": {},
     "output_type": "execute_result"
    }
   ],
   "source": [
    "mean_squared_error(df_test[df_test['WI'] == 1].sold.values, df_test[df_test['WI'] == 1].preds.values)"
   ]
  },
  {
   "cell_type": "code",
   "execution_count": null,
   "metadata": {},
   "outputs": [],
   "source": []
  }
 ],
 "metadata": {
  "kernelspec": {
   "display_name": "Python 3",
   "language": "python",
   "name": "python3"
  },
  "language_info": {
   "codemirror_mode": {
    "name": "ipython",
    "version": 3
   },
   "file_extension": ".py",
   "mimetype": "text/x-python",
   "name": "python",
   "nbconvert_exporter": "python",
   "pygments_lexer": "ipython3",
   "version": "3.7.4"
  }
 },
 "nbformat": 4,
 "nbformat_minor": 4
}
