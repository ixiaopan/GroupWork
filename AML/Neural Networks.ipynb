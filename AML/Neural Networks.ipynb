{
 "cells": [
  {
   "cell_type": "markdown",
   "metadata": {},
   "source": [
    "# Neural Network "
   ]
  },
  {
   "cell_type": "markdown",
   "metadata": {},
   "source": [
    "## 1. Imports"
   ]
  },
  {
   "cell_type": "code",
   "execution_count": 1,
   "metadata": {},
   "outputs": [],
   "source": [
    "import HelperFunctions as hf\n",
    "import numpy as np\n",
    "import pandas as pd\n",
    "from sklearn.preprocessing import StandardScaler\n",
    "from sklearn.preprocessing import MinMaxScaler\n",
    "from sklearn.model_selection import train_test_split\n",
    "import statsmodels.api as sm\n",
    "import torch\n",
    "import torch.optim as optim\n",
    "from torch import nn\n",
    "import torch.nn.functional as F"
   ]
  },
  {
   "cell_type": "markdown",
   "metadata": {},
   "source": [
    "## 2. Fetching and preparing data"
   ]
  },
  {
   "cell_type": "code",
   "execution_count": 2,
   "metadata": {},
   "outputs": [],
   "source": [
    "#Load in the raw data\n",
    "calendar_df = hf.load_calendar_data()\n",
    "prices_df = hf.load_sell_price_data()\n",
    "sales_df = hf.load_sales_train_validation_data()"
   ]
  },
  {
   "cell_type": "code",
   "execution_count": 3,
   "metadata": {},
   "outputs": [],
   "source": [
    "#Clean the raw data\n",
    "df = hf.rawToClean(sales_df, calendar_df, prices_df, days=1200, items=100, dropNAPrices=True)"
   ]
  },
  {
   "cell_type": "code",
   "execution_count": 4,
   "metadata": {},
   "outputs": [],
   "source": [
    "df = hf.rollingMeanDemandFeature(df, windowSize=7, shift=1) #Mean of previous week\n",
    "df = hf.rollingMeanDemandFeature(df, windowSize=28, shift=1) #Mean of previous 28 days\n",
    "df = hf.rollingMeanDemandFeature(df, windowSize=365, shift=1) \n",
    "\n",
    "df = hf.rollingStdDemandFeature(df, windowSize=7, shift=1)\n",
    "df = hf.rollingStdDemandFeature(df, windowSize=28, shift=1)\n",
    "df = hf.rollingStdDemandFeature(df, windowSize=365, shift=1)"
   ]
  },
  {
   "cell_type": "code",
   "execution_count": 5,
   "metadata": {},
   "outputs": [],
   "source": [
    "df = hf.rollingMeanWeekday(df, weeks = 4, shift = 1) #mean of previous 3 weeks (for that particular weekday)\n",
    "df = hf.rollingMeanWeekday(df, weeks = 8, shift = 1) #mean of previous 3 weeks (for that particular weekday)\n",
    "df = hf.rollingMeanWeekday(df, weeks = 52, shift = 1) #mean of previous 3 weeks (for that particular weekday)"
   ]
  },
  {
   "cell_type": "code",
   "execution_count": 6,
   "metadata": {},
   "outputs": [],
   "source": [
    "df = hf.lagFeature(df, var='sold', lag=1) #Amount sold day before\n",
    "df = hf.lagFeature(df, var='sold', lag=7) #Amount sold a week before\n",
    "df = hf.lagFeature(df, var='sold', lag=28) #Amount sold 28 days before\n",
    "df = hf.lagFeature(df, var='sold', lag=365) #Amount sold 28 days before"
   ]
  },
  {
   "cell_type": "code",
   "execution_count": 7,
   "metadata": {},
   "outputs": [],
   "source": [
    "df.dropna(inplace=True) #Drop rows with NAs (as result of lagged features)"
   ]
  },
  {
   "cell_type": "code",
   "execution_count": 8,
   "metadata": {},
   "outputs": [],
   "source": [
    "df.drop(['id'], axis=1, inplace=True) #Drop the id column"
   ]
  },
  {
   "cell_type": "code",
   "execution_count": 9,
   "metadata": {},
   "outputs": [],
   "source": [
    "#Standardise features\n",
    "cols_to_norm = ['d','wday','month','year','sell_price','rolling_mean_7_1','rolling_mean_28_1','sold_lag_1',\n",
    "                'sold_lag_7','sold_lag_28']\n",
    "\n",
    "df[cols_to_norm] = MinMaxScaler().fit_transform(df[cols_to_norm])"
   ]
  },
  {
   "cell_type": "code",
   "execution_count": 10,
   "metadata": {},
   "outputs": [
    {
     "data": {
      "text/plain": [
       "(49215, 54)"
      ]
     },
     "execution_count": 10,
     "metadata": {},
     "output_type": "execute_result"
    }
   ],
   "source": [
    "df.shape"
   ]
  },
  {
   "cell_type": "code",
   "execution_count": 11,
   "metadata": {},
   "outputs": [],
   "source": [
    "df = df.astype(float)"
   ]
  },
  {
   "cell_type": "code",
   "execution_count": 12,
   "metadata": {},
   "outputs": [],
   "source": [
    "#Isolate features and target variable\n",
    "y = df.sold.values\n",
    "df = df.drop(['sold'], axis=1)\n"
   ]
  },
  {
   "cell_type": "code",
   "execution_count": null,
   "metadata": {},
   "outputs": [],
   "source": []
  },
  {
   "cell_type": "code",
   "execution_count": null,
   "metadata": {},
   "outputs": [],
   "source": []
  },
  {
   "cell_type": "code",
   "execution_count": 165,
   "metadata": {},
   "outputs": [
    {
     "name": "stdout",
     "output_type": "stream",
     "text": [
      "wday 0.9777677099116514\n",
      "CA_3 0.9573446009709612\n",
      "CA_2 0.9394219393520643\n",
      "TX_3 0.8325592710378074\n",
      "monfri 0.8169050743118118\n",
      "WI_3 0.7515639364558877\n",
      "HOBBIES_1 0.7679300950191361\n",
      "TX_1 0.6508645760702109\n",
      "WI 0.653714257245702\n",
      "FOODS_1 0.7347688367598064\n",
      "FOODS 0.7435703970628265\n",
      "month 0.6250394935024901\n",
      "TX 0.6125292420412276\n",
      "sell_price 0.531339521208615\n",
      "HOUSEHOLD_1 0.5338317774729846\n",
      "HOUSEHOLD_2 0.8659608202114488\n",
      "HOBBIES_2 0.5004470794392453\n",
      "WI_1 0.5194275322586709\n",
      "WI_2 0.5367229831249387\n",
      "TX_2 0.5735769424998796\n",
      "CA 0.5648037887910904\n",
      "National 0.5545321090563089\n",
      "Sporting 0.4584843014885448\n",
      "HOBBIES 0.3171456464182742\n",
      "HOUSEHOLD 0.6500084989390967\n",
      "FOODS_3 0.40567389679988186\n",
      "FOODS_2 0.5250221278654446\n",
      "rolling_mean_52_1 0.21866364636808913\n",
      "CA_1 0.19891516914382587\n",
      "CA_4 0.19467535642910533\n",
      "d 0.1424166503513111\n",
      "year 0.5484739584451056\n",
      "snap_WI 0.088522724830024\n"
     ]
    }
   ],
   "source": [
    "\n",
    "remove = True\n",
    "while remove == True:\n",
    "    mod = sm.OLS(y, df)\n",
    "    res = mod.fit()\n",
    "    pval = pd.DataFrame(res.pvalues)\n",
    "    if len(pval.loc[pval[0] > 0.05]) == 0:\n",
    "        remove = False\n",
    "    else:\n",
    "        worst_col = pval.loc[pval[0] > 0.05].T.columns[pval.loc[pval[0] > 0.05][0].argmax()]\n",
    "        print(worst_col , pval.loc[pval[0] > 0.05].max()[0])\n",
    "        df = df.drop([worst_col], axis = 1)\n",
    "        \n",
    "    "
   ]
  },
  {
   "cell_type": "code",
   "execution_count": 166,
   "metadata": {},
   "outputs": [
    {
     "data": {
      "text/plain": [
       "(49215, 20)"
      ]
     },
     "execution_count": 166,
     "metadata": {},
     "output_type": "execute_result"
    }
   ],
   "source": [
    "df.shape"
   ]
  },
  {
   "cell_type": "code",
   "execution_count": 167,
   "metadata": {},
   "outputs": [
    {
     "data": {
      "text/html": [
       "<div>\n",
       "<style scoped>\n",
       "    .dataframe tbody tr th:only-of-type {\n",
       "        vertical-align: middle;\n",
       "    }\n",
       "\n",
       "    .dataframe tbody tr th {\n",
       "        vertical-align: top;\n",
       "    }\n",
       "\n",
       "    .dataframe thead th {\n",
       "        text-align: right;\n",
       "    }\n",
       "</style>\n",
       "<table border=\"1\" class=\"dataframe\">\n",
       "  <thead>\n",
       "    <tr style=\"text-align: right;\">\n",
       "      <th></th>\n",
       "      <th>snap_CA</th>\n",
       "      <th>snap_TX</th>\n",
       "      <th>Cultural</th>\n",
       "      <th>Religious</th>\n",
       "      <th>NoEvent</th>\n",
       "      <th>Christmas</th>\n",
       "      <th>weekend</th>\n",
       "      <th>midweek</th>\n",
       "      <th>rolling_mean_7_1</th>\n",
       "      <th>rolling_mean_28_1</th>\n",
       "      <th>rolling_mean_365_1</th>\n",
       "      <th>rolling_std_7_1</th>\n",
       "      <th>rolling_std_28_1</th>\n",
       "      <th>rolling_std_365_1</th>\n",
       "      <th>rolling_mean_4_1</th>\n",
       "      <th>rolling_mean_8_1</th>\n",
       "      <th>sold_lag_1</th>\n",
       "      <th>sold_lag_7</th>\n",
       "      <th>sold_lag_28</th>\n",
       "      <th>sold_lag_365</th>\n",
       "    </tr>\n",
       "  </thead>\n",
       "  <tbody>\n",
       "    <tr>\n",
       "      <th>36520</th>\n",
       "      <td>0.0</td>\n",
       "      <td>0.0</td>\n",
       "      <td>0.0</td>\n",
       "      <td>0.0</td>\n",
       "      <td>1.0</td>\n",
       "      <td>0.0</td>\n",
       "      <td>1.0</td>\n",
       "      <td>0.0</td>\n",
       "      <td>0.004785</td>\n",
       "      <td>0.006780</td>\n",
       "      <td>0.312329</td>\n",
       "      <td>0.487950</td>\n",
       "      <td>0.534522</td>\n",
       "      <td>0.579870</td>\n",
       "      <td>0.25</td>\n",
       "      <td>0.250</td>\n",
       "      <td>0.000000</td>\n",
       "      <td>0.000000</td>\n",
       "      <td>0.000000</td>\n",
       "      <td>0.0</td>\n",
       "    </tr>\n",
       "    <tr>\n",
       "      <th>36521</th>\n",
       "      <td>0.0</td>\n",
       "      <td>0.0</td>\n",
       "      <td>0.0</td>\n",
       "      <td>0.0</td>\n",
       "      <td>1.0</td>\n",
       "      <td>0.0</td>\n",
       "      <td>1.0</td>\n",
       "      <td>0.0</td>\n",
       "      <td>0.002392</td>\n",
       "      <td>0.004237</td>\n",
       "      <td>0.090411</td>\n",
       "      <td>0.377964</td>\n",
       "      <td>0.390021</td>\n",
       "      <td>0.296576</td>\n",
       "      <td>0.00</td>\n",
       "      <td>0.125</td>\n",
       "      <td>0.013514</td>\n",
       "      <td>0.000000</td>\n",
       "      <td>0.000000</td>\n",
       "      <td>0.0</td>\n",
       "    </tr>\n",
       "    <tr>\n",
       "      <th>36522</th>\n",
       "      <td>0.0</td>\n",
       "      <td>0.0</td>\n",
       "      <td>0.0</td>\n",
       "      <td>0.0</td>\n",
       "      <td>1.0</td>\n",
       "      <td>0.0</td>\n",
       "      <td>1.0</td>\n",
       "      <td>0.0</td>\n",
       "      <td>0.023923</td>\n",
       "      <td>0.050847</td>\n",
       "      <td>0.934247</td>\n",
       "      <td>1.511858</td>\n",
       "      <td>2.120697</td>\n",
       "      <td>1.549922</td>\n",
       "      <td>1.25</td>\n",
       "      <td>0.625</td>\n",
       "      <td>0.000000</td>\n",
       "      <td>0.027027</td>\n",
       "      <td>0.000000</td>\n",
       "      <td>0.0</td>\n",
       "    </tr>\n",
       "    <tr>\n",
       "      <th>36524</th>\n",
       "      <td>0.0</td>\n",
       "      <td>0.0</td>\n",
       "      <td>0.0</td>\n",
       "      <td>0.0</td>\n",
       "      <td>1.0</td>\n",
       "      <td>0.0</td>\n",
       "      <td>1.0</td>\n",
       "      <td>0.0</td>\n",
       "      <td>0.035885</td>\n",
       "      <td>0.077966</td>\n",
       "      <td>1.457534</td>\n",
       "      <td>1.772811</td>\n",
       "      <td>2.323107</td>\n",
       "      <td>2.266934</td>\n",
       "      <td>3.50</td>\n",
       "      <td>4.375</td>\n",
       "      <td>0.081081</td>\n",
       "      <td>0.027027</td>\n",
       "      <td>0.013514</td>\n",
       "      <td>2.0</td>\n",
       "    </tr>\n",
       "    <tr>\n",
       "      <th>36554</th>\n",
       "      <td>0.0</td>\n",
       "      <td>0.0</td>\n",
       "      <td>0.0</td>\n",
       "      <td>0.0</td>\n",
       "      <td>1.0</td>\n",
       "      <td>0.0</td>\n",
       "      <td>1.0</td>\n",
       "      <td>0.0</td>\n",
       "      <td>0.007177</td>\n",
       "      <td>0.011017</td>\n",
       "      <td>0.449315</td>\n",
       "      <td>0.786796</td>\n",
       "      <td>0.881167</td>\n",
       "      <td>0.997679</td>\n",
       "      <td>0.75</td>\n",
       "      <td>1.625</td>\n",
       "      <td>0.000000</td>\n",
       "      <td>0.000000</td>\n",
       "      <td>0.000000</td>\n",
       "      <td>0.0</td>\n",
       "    </tr>\n",
       "  </tbody>\n",
       "</table>\n",
       "</div>"
      ],
      "text/plain": [
       "       snap_CA  snap_TX  Cultural  Religious  NoEvent  Christmas  weekend  \\\n",
       "36520      0.0      0.0       0.0        0.0      1.0        0.0      1.0   \n",
       "36521      0.0      0.0       0.0        0.0      1.0        0.0      1.0   \n",
       "36522      0.0      0.0       0.0        0.0      1.0        0.0      1.0   \n",
       "36524      0.0      0.0       0.0        0.0      1.0        0.0      1.0   \n",
       "36554      0.0      0.0       0.0        0.0      1.0        0.0      1.0   \n",
       "\n",
       "       midweek  rolling_mean_7_1  rolling_mean_28_1  rolling_mean_365_1  \\\n",
       "36520      0.0          0.004785           0.006780            0.312329   \n",
       "36521      0.0          0.002392           0.004237            0.090411   \n",
       "36522      0.0          0.023923           0.050847            0.934247   \n",
       "36524      0.0          0.035885           0.077966            1.457534   \n",
       "36554      0.0          0.007177           0.011017            0.449315   \n",
       "\n",
       "       rolling_std_7_1  rolling_std_28_1  rolling_std_365_1  rolling_mean_4_1  \\\n",
       "36520         0.487950          0.534522           0.579870              0.25   \n",
       "36521         0.377964          0.390021           0.296576              0.00   \n",
       "36522         1.511858          2.120697           1.549922              1.25   \n",
       "36524         1.772811          2.323107           2.266934              3.50   \n",
       "36554         0.786796          0.881167           0.997679              0.75   \n",
       "\n",
       "       rolling_mean_8_1  sold_lag_1  sold_lag_7  sold_lag_28  sold_lag_365  \n",
       "36520             0.250    0.000000    0.000000     0.000000           0.0  \n",
       "36521             0.125    0.013514    0.000000     0.000000           0.0  \n",
       "36522             0.625    0.000000    0.027027     0.000000           0.0  \n",
       "36524             4.375    0.081081    0.027027     0.013514           2.0  \n",
       "36554             1.625    0.000000    0.000000     0.000000           0.0  "
      ]
     },
     "execution_count": 167,
     "metadata": {},
     "output_type": "execute_result"
    }
   ],
   "source": [
    "df.head()"
   ]
  },
  {
   "cell_type": "code",
   "execution_count": 168,
   "metadata": {},
   "outputs": [],
   "source": [
    "X = df.values"
   ]
  },
  {
   "cell_type": "code",
   "execution_count": null,
   "metadata": {},
   "outputs": [],
   "source": []
  },
  {
   "cell_type": "markdown",
   "metadata": {},
   "source": [
    "## 3. Setting up loaders"
   ]
  },
  {
   "cell_type": "code",
   "execution_count": null,
   "metadata": {},
   "outputs": [],
   "source": [
    "\n",
    "\n"
   ]
  },
  {
   "cell_type": "code",
   "execution_count": 169,
   "metadata": {},
   "outputs": [],
   "source": [
    "X, y = torch.FloatTensor(X), torch.FloatTensor(y)"
   ]
  },
  {
   "cell_type": "code",
   "execution_count": 170,
   "metadata": {},
   "outputs": [],
   "source": [
    "#Train/test split\n",
    "X_train, X_test, y_train, y_test = train_test_split(X, y, test_size=0.20, random_state=42)"
   ]
  },
  {
   "cell_type": "code",
   "execution_count": 171,
   "metadata": {},
   "outputs": [
    {
     "data": {
      "text/plain": [
       "(torch.Size([39372, 20]), torch.Size([39372]))"
      ]
     },
     "execution_count": 171,
     "metadata": {},
     "output_type": "execute_result"
    }
   ],
   "source": [
    "X_train.shape, y_train.shape"
   ]
  },
  {
   "cell_type": "code",
   "execution_count": 172,
   "metadata": {},
   "outputs": [],
   "source": [
    "# create data loaders\n",
    "\n",
    "from torch.utils import data\n",
    "\n",
    "traindataset = data.TensorDataset(X_train, y_train) # create your datset\n",
    "trainloader = data.DataLoader(traindataset, batch_size=1024, shuffle=True) # create your dataloader\n",
    "\n",
    "\n",
    "testdataset = data.TensorDataset(X_test,y_test) # create your datset\n",
    "testloader = data.DataLoader(testdataset, batch_size=1024, shuffle=True) # create your dataloader\n",
    "\n"
   ]
  },
  {
   "cell_type": "markdown",
   "metadata": {},
   "source": [
    "## 4. Building neural net"
   ]
  },
  {
   "cell_type": "code",
   "execution_count": 173,
   "metadata": {},
   "outputs": [],
   "source": [
    "# define baseline model\n",
    "class BaselineModel(nn.Module):\n",
    "    def __init__(self, input_size, hidden_size):\n",
    "        super(BaselineModel, self).__init__()\n",
    "        self.fc1 = nn.Linear(input_size, hidden_size) \n",
    "        self.fc2 = nn.Linear(hidden_size, hidden_size)\n",
    "        self.fc3 = nn.Linear(hidden_size, hidden_size)\n",
    "        self.fc4 = nn.Linear(hidden_size, hidden_size)\n",
    "        self.fc5 = nn.Linear(hidden_size, 1)  \n",
    "    \n",
    "    def forward(self, x):\n",
    "        out = self.fc1(x)\n",
    "        out = F.relu(out)\n",
    "        out = self.fc2(out)\n",
    "        out = F.relu(out)\n",
    "        out = self.fc3(out)\n",
    "        out = F.relu(out)\n",
    "        out = self.fc4(out)\n",
    "        out = F.relu(out)\n",
    "        out = self.fc5(out)\n",
    "        \n",
    "        return out"
   ]
  },
  {
   "cell_type": "code",
   "execution_count": 174,
   "metadata": {},
   "outputs": [],
   "source": [
    "from torchbearer import Trial\n",
    "import torchbearer"
   ]
  },
  {
   "cell_type": "code",
   "execution_count": 175,
   "metadata": {},
   "outputs": [
    {
     "name": "stdout",
     "output_type": "stream",
     "text": [
      "Epoch 0, loss 8.55, test loss 5.70\n",
      "Epoch 1, loss 5.36, test loss 5.93\n",
      "Epoch 2, loss 5.47, test loss 5.45\n",
      "Epoch 3, loss 5.34, test loss 5.47\n",
      "Epoch 4, loss 5.27, test loss 5.53\n",
      "Epoch 5, loss 5.26, test loss 5.39\n",
      "Epoch 6, loss 5.26, test loss 5.26\n",
      "Epoch 7, loss 5.13, test loss 5.79\n",
      "Epoch 8, loss 5.09, test loss 5.29\n",
      "Epoch 9, loss 5.07, test loss 5.24\n",
      "Epoch 10, loss 5.10, test loss 5.37\n",
      "Epoch 11, loss 5.06, test loss 5.34\n",
      "Epoch 12, loss 4.96, test loss 5.36\n",
      "Epoch 13, loss 4.91, test loss 5.07\n",
      "Epoch 14, loss 5.23, test loss 5.72\n",
      "Epoch 15, loss 5.41, test loss 5.09\n",
      "Epoch 16, loss 5.29, test loss 5.14\n",
      "Epoch 17, loss 4.86, test loss 5.03\n",
      "Epoch 18, loss 4.85, test loss 5.51\n",
      "Epoch 19, loss 4.82, test loss 5.12\n",
      "**** Finished Training ****\n"
     ]
    }
   ],
   "source": [
    "# build the model \n",
    "model = BaselineModel(X_train.shape[1], 512)\n",
    "\n",
    "# define the loss function and the optimiser\n",
    "loss_function = nn.MSELoss()\n",
    "optimiser = optim.Adam(model.parameters())\n",
    "\n",
    "loss_plot = []\n",
    "loss_eval = []\n",
    "# the epoch loop\n",
    "for epoch in range(20):\n",
    "    running_loss = 0.0\n",
    "\n",
    "    for data in trainloader:\n",
    "        # get the inputs\n",
    "        inputs, labels = data\n",
    "\n",
    "        # zero the parameter gradients\n",
    "        optimiser.zero_grad()\n",
    "\n",
    "        # forward + loss + backward + optimise (update weights)\n",
    "        outputs = model(inputs)\n",
    "        outputs = outputs.flatten()\n",
    "        loss = loss_function(outputs, labels)\n",
    "        loss.backward()\n",
    "        optimiser.step()\n",
    "\n",
    "        # keep track of the loss this epoch\n",
    "        running_loss += loss.item()\n",
    "    loss_plot.append(running_loss/len(trainloader))\n",
    "    \n",
    "    model.eval()\n",
    "    mse = 0\n",
    "    for index, i in enumerate(testloader):\n",
    "\n",
    "        inputs, labels = i\n",
    "          \n",
    "        outputs = model(inputs)\n",
    "        outputs = outputs.detach().numpy()\n",
    "        mse += mean_squared_error(labels, outputs)\n",
    "    loss_eval.append(mse/len(testloader))\n",
    "    \n",
    "    \n",
    "    print(\"Epoch %d, loss %4.2f, test loss %4.2f\" % (epoch, running_loss/len(trainloader), mse/len(testloader)))\n",
    "print('**** Finished Training ****')\n",
    "\n",
    "\n",
    "\n",
    "# model = BaselineModel(X_train.shape[1], 256)\n",
    "\n",
    "# # define the loss function and the optimiser\n",
    "# loss_function = nn.MSELoss()\n",
    "# optimiser = optim.Adam(model.parameters()) \n",
    "\n",
    "# trial = Trial(model, optimiser, loss_function, metrics=['loss','accuracy'])\n",
    "# trial.with_generators(trainloader, test_generator=testloader)\n",
    "# history = trial.run(epochs=20)\n",
    "# results = trial.evaluate(data_key=torchbearer.TEST_DATA)\n",
    "# print()\n",
    "# print(results)"
   ]
  },
  {
   "cell_type": "code",
   "execution_count": 176,
   "metadata": {},
   "outputs": [
    {
     "data": {
      "text/plain": [
       "<matplotlib.legend.Legend at 0x172876071c8>"
      ]
     },
     "execution_count": 176,
     "metadata": {},
     "output_type": "execute_result"
    },
    {
     "data": {
      "image/png": "[encoded data removed]",
      "text/plain": [
       "<Figure size 432x288 with 1 Axes>"
      ]
     },
     "metadata": {
      "needs_background": "light"
     },
     "output_type": "display_data"
    }
   ],
   "source": [
    "plt.plot(loss_plot, label = \"Training\")\n",
    "plt.plot(loss_eval, label = \"Testing\")\n",
    "plt.xlabel(\"Epoch\")\n",
    "plt.ylabel(\"Loss\")\n",
    "plt.legend()"
   ]
  },
  {
   "cell_type": "code",
   "execution_count": 177,
   "metadata": {},
   "outputs": [],
   "source": [
    "from sklearn.metrics import mean_squared_error"
   ]
  },
  {
   "cell_type": "code",
   "execution_count": null,
   "metadata": {},
   "outputs": [],
   "source": []
  },
  {
   "cell_type": "code",
   "execution_count": 178,
   "metadata": {},
   "outputs": [],
   "source": [
    "import matplotlib.pyplot as plt"
   ]
  },
  {
   "cell_type": "code",
   "execution_count": 179,
   "metadata": {},
   "outputs": [
    {
     "name": "stdout",
     "output_type": "stream",
     "text": [
      "[[0.4434871 ]\n",
      " [0.75426257]\n",
      " [0.28697133]\n",
      " ...\n",
      " [0.04073457]\n",
      " [3.3072112 ]\n",
      " [0.52095056]]\n"
     ]
    },
    {
     "data": {
      "image/png": "[encoded data removed]",
      "text/plain": [
       "<Figure size 720x720 with 1 Axes>"
      ]
     },
     "metadata": {
      "needs_background": "light"
     },
     "output_type": "display_data"
    }
   ],
   "source": [
    "model.eval()\n",
    "plt.figure(figsize = (10,10))\n",
    "for index, i in enumerate(trainloader):\n",
    "    if index < 1:\n",
    "        inputs, labels = i\n",
    "          \n",
    "        outputs = model(inputs)\n",
    "        outputs = outputs.detach().numpy()\n",
    "        plt.plot([i for i in range(len(labels))], labels, label = \"True Sales\")\n",
    "        print(outputs)\n",
    "        plt.plot(outputs, label = \"Predicted Sales\")\n",
    "        plt.legend()\n",
    "#         plt.ylim(0, 30)\n",
    "        plt.xlim(0, 100)\n",
    "        #print(inputs, labels)\n",
    "    else:\n",
    "        break"
   ]
  },
  {
   "cell_type": "code",
   "execution_count": 180,
   "metadata": {},
   "outputs": [
    {
     "name": "stdout",
     "output_type": "stream",
     "text": [
      "[[0.0568124 ]\n",
      " [3.1181846 ]\n",
      " [0.60950345]\n",
      " ...\n",
      " [1.4082773 ]\n",
      " [0.01374622]\n",
      " [0.89429915]]\n"
     ]
    },
    {
     "data": {
      "image/png": "[encoded data removed]",
      "text/plain": [
       "<Figure size 720x720 with 1 Axes>"
      ]
     },
     "metadata": {
      "needs_background": "light"
     },
     "output_type": "display_data"
    }
   ],
   "source": [
    "model.eval()\n",
    "plt.figure(figsize = (10,10))\n",
    "for index, i in enumerate(testloader):\n",
    "    if index < 1:\n",
    "        inputs, labels = i\n",
    "          \n",
    "        outputs = model(inputs)\n",
    "        outputs = outputs.detach().numpy()\n",
    "        plt.plot([i for i in range(len(labels))], labels, label = \"True Sales\")\n",
    "        print(outputs)\n",
    "        plt.plot(outputs, label = \"Predicted Sales\")\n",
    "        plt.legend()\n",
    "#         plt.ylim(0, 30)\n",
    "        plt.xlim(0, 100)\n",
    "        #print(inputs, labels)\n",
    "    else:\n",
    "        break"
   ]
  },
  {
   "cell_type": "code",
   "execution_count": 181,
   "metadata": {},
   "outputs": [
    {
     "name": "stdout",
     "output_type": "stream",
     "text": [
      "Train:  4.778002867331872\n"
     ]
    }
   ],
   "source": [
    "model.eval()\n",
    "\n",
    "mse = 0\n",
    "\n",
    "for data in trainloader:\n",
    "    inputs, labels = data\n",
    "    \n",
    "    outputs = model(inputs)\n",
    "    \n",
    "    outputs = outputs.detach().numpy()\n",
    "    mse += mean_squared_error(labels, outputs)\n",
    "print(\"Train: \", mse/len(trainloader))"
   ]
  },
  {
   "cell_type": "code",
   "execution_count": 182,
   "metadata": {},
   "outputs": [
    {
     "name": "stdout",
     "output_type": "stream",
     "text": [
      "Test:  4.942833352088928\n"
     ]
    }
   ],
   "source": [
    "model.eval()\n",
    "\n",
    "mse = 0\n",
    "\n",
    "for data in testloader:\n",
    "    inputs, labels = data\n",
    "    \n",
    "    outputs = model(inputs)\n",
    "    \n",
    "    outputs = outputs.detach().numpy()\n",
    "    mse += mean_squared_error(labels, outputs)\n",
    "print(\"Test: \", mse/len(testloader))"
   ]
  },
  {
   "cell_type": "code",
   "execution_count": 183,
   "metadata": {},
   "outputs": [],
   "source": [
    "def train_model(X_train, y_train, X_test, y_test):\n",
    "        \n",
    "        # create data loaders\n",
    "\n",
    "    from torch.utils import data\n",
    "    traindataset = data.TensorDataset(X_train, y_train) # create your datset\n",
    "    trainloader = data.DataLoader(traindataset, batch_size=1024, shuffle=True) # create your dataloader\n",
    "\n",
    "\n",
    "    testdataset = data.TensorDataset(X_test,y_test) # create your datset\n",
    "    testloader = data.DataLoader(testdataset, batch_size=1024, shuffle=True) # create your dataloader\n",
    "\n",
    "\n",
    "        \n",
    "        \n",
    "    # build the model \n",
    "    model = BaselineModel(X_train.shape[1], 512)\n",
    "\n",
    "    # define the loss function and the optimiser\n",
    "    loss_function = nn.MSELoss()\n",
    "    optimiser = optim.Adam(model.parameters())\n",
    "\n",
    "    loss_plot = []\n",
    "    loss_eval = []\n",
    "    # the epoch loop\n",
    "    for epoch in range(20):\n",
    "        running_loss = 0.0\n",
    "\n",
    "        for data in trainloader:\n",
    "            # get the inputs\n",
    "            inputs, labels = data\n",
    "\n",
    "            # zero the parameter gradients\n",
    "            optimiser.zero_grad()\n",
    "\n",
    "            # forward + loss + backward + optimise (update weights)\n",
    "            outputs = model(inputs)\n",
    "            outputs = outputs.flatten()\n",
    "            loss = loss_function(outputs, labels)\n",
    "            loss.backward()\n",
    "            optimiser.step()\n",
    "\n",
    "            # keep track of the loss this epoch\n",
    "            running_loss += loss.item()\n",
    "        loss_plot.append(running_loss/len(trainloader))\n",
    "\n",
    "        model.eval()\n",
    "        mse = 0\n",
    "        for index, i in enumerate(testloader):\n",
    "\n",
    "            inputs, labels = i\n",
    "\n",
    "            outputs = model(inputs)\n",
    "            outputs = outputs.detach().numpy()\n",
    "            mse += mean_squared_error(labels, outputs)\n",
    "        loss_eval.append(mse/len(testloader))\n",
    "\n",
    "\n",
    "        print(\"Epoch %d, loss %4.2f, test loss %4.2f\" % (epoch, running_loss/len(trainloader), mse/len(testloader)))\n",
    "    print('**** Finished Training ****')\n",
    "\n",
    "    return(loss_plot[-1], loss_eval[-1])\n",
    "\n"
   ]
  },
  {
   "cell_type": "code",
   "execution_count": 184,
   "metadata": {},
   "outputs": [],
   "source": [
    "from sklearn.model_selection import KFold\n",
    "from torch.utils import data\n",
    "kf5 = KFold(n_splits=6, shuffle=False)\n",
    "def kfold_val(X, Y):\n",
    "    res= []\n",
    "\n",
    "    for index, (train_index, test_index) in enumerate(kf5.split(range(len(X)))):\n",
    "        if index < 5:\n",
    "            res.append(train_model(X[train_index], Y[train_index],X[train_index], Y[train_index]))\n",
    "\n",
    "    return(np.array(res))"
   ]
  },
  {
   "cell_type": "code",
   "execution_count": 185,
   "metadata": {},
   "outputs": [
    {
     "name": "stdout",
     "output_type": "stream",
     "text": [
      "Epoch 0, loss 6.14, test loss 5.17\n",
      "Epoch 1, loss 5.07, test loss 5.66\n",
      "Epoch 2, loss 5.31, test loss 6.30\n",
      "Epoch 3, loss 5.33, test loss 5.89\n",
      "Epoch 4, loss 4.82, test loss 4.59\n",
      "Epoch 5, loss 4.68, test loss 4.73\n",
      "Epoch 6, loss 4.73, test loss 4.71\n",
      "Epoch 7, loss 4.76, test loss 4.52\n",
      "Epoch 8, loss 4.59, test loss 4.40\n",
      "Epoch 9, loss 4.50, test loss 4.37\n",
      "Epoch 10, loss 4.60, test loss 4.72\n",
      "Epoch 11, loss 4.66, test loss 4.35\n",
      "Epoch 12, loss 4.39, test loss 4.29\n",
      "Epoch 13, loss 4.39, test loss 5.02\n",
      "Epoch 14, loss 4.47, test loss 5.74\n",
      "Epoch 15, loss 4.77, test loss 4.30\n",
      "Epoch 16, loss 4.60, test loss 5.04\n",
      "Epoch 17, loss 4.41, test loss 4.30\n",
      "Epoch 18, loss 4.56, test loss 4.55\n",
      "Epoch 19, loss 4.60, test loss 4.12\n",
      "**** Finished Training ****\n",
      "Epoch 0, loss 7.43, test loss 6.46\n",
      "Epoch 1, loss 5.91, test loss 5.41\n",
      "Epoch 2, loss 5.46, test loss 5.30\n",
      "Epoch 3, loss 5.39, test loss 5.34\n",
      "Epoch 4, loss 5.31, test loss 5.59\n",
      "Epoch 5, loss 5.49, test loss 5.54\n",
      "Epoch 6, loss 5.39, test loss 5.25\n",
      "Epoch 7, loss 5.13, test loss 5.06\n",
      "Epoch 8, loss 5.27, test loss 5.10\n",
      "Epoch 9, loss 5.78, test loss 6.22\n",
      "Epoch 10, loss 6.19, test loss 5.06\n",
      "Epoch 11, loss 5.21, test loss 5.11\n",
      "Epoch 12, loss 5.20, test loss 5.05\n",
      "Epoch 13, loss 4.94, test loss 4.89\n",
      "Epoch 14, loss 4.96, test loss 5.28\n",
      "Epoch 15, loss 5.32, test loss 5.14\n",
      "Epoch 16, loss 5.22, test loss 4.78\n",
      "Epoch 17, loss 5.20, test loss 4.84\n",
      "Epoch 18, loss 4.91, test loss 4.88\n",
      "Epoch 19, loss 4.80, test loss 5.00\n",
      "**** Finished Training ****\n",
      "Epoch 0, loss 7.01, test loss 5.55\n",
      "Epoch 1, loss 5.50, test loss 5.48\n",
      "Epoch 2, loss 5.63, test loss 5.70\n",
      "Epoch 3, loss 5.88, test loss 5.32\n",
      "Epoch 4, loss 5.56, test loss 5.17\n",
      "Epoch 5, loss 5.26, test loss 5.19\n",
      "Epoch 6, loss 5.20, test loss 5.39\n",
      "Epoch 7, loss 5.33, test loss 5.67\n",
      "Epoch 8, loss 5.21, test loss 5.04\n",
      "Epoch 9, loss 5.18, test loss 5.01\n",
      "Epoch 10, loss 5.12, test loss 5.23\n",
      "Epoch 11, loss 5.32, test loss 5.44\n",
      "Epoch 12, loss 5.32, test loss 4.93\n",
      "Epoch 13, loss 5.23, test loss 4.83\n",
      "Epoch 14, loss 5.03, test loss 4.78\n",
      "Epoch 15, loss 4.84, test loss 4.82\n",
      "Epoch 16, loss 4.98, test loss 5.23\n",
      "Epoch 17, loss 5.23, test loss 5.16\n",
      "Epoch 18, loss 4.89, test loss 4.61\n",
      "Epoch 19, loss 5.09, test loss 4.75\n",
      "**** Finished Training ****\n",
      "Epoch 0, loss 6.82, test loss 5.61\n",
      "Epoch 1, loss 5.50, test loss 7.17\n",
      "Epoch 2, loss 5.67, test loss 5.56\n",
      "Epoch 3, loss 5.63, test loss 5.47\n",
      "Epoch 4, loss 5.35, test loss 5.30\n",
      "Epoch 5, loss 5.21, test loss 5.28\n",
      "Epoch 6, loss 5.44, test loss 5.41\n",
      "Epoch 7, loss 5.48, test loss 5.75\n",
      "Epoch 8, loss 5.26, test loss 5.51\n",
      "Epoch 9, loss 5.42, test loss 6.05\n",
      "Epoch 10, loss 5.26, test loss 4.94\n",
      "Epoch 11, loss 5.21, test loss 4.95\n",
      "Epoch 12, loss 5.00, test loss 5.12\n",
      "Epoch 13, loss 4.96, test loss 5.40\n",
      "Epoch 14, loss 5.08, test loss 5.48\n",
      "Epoch 15, loss 4.93, test loss 5.08\n",
      "Epoch 16, loss 5.18, test loss 4.88\n",
      "Epoch 17, loss 4.98, test loss 5.24\n",
      "Epoch 18, loss 4.91, test loss 5.59\n",
      "Epoch 19, loss 4.75, test loss 5.07\n",
      "**** Finished Training ****\n",
      "Epoch 0, loss 6.08, test loss 5.08\n",
      "Epoch 1, loss 5.60, test loss 5.27\n",
      "Epoch 2, loss 5.45, test loss 7.11\n",
      "Epoch 3, loss 5.45, test loss 4.99\n",
      "Epoch 4, loss 5.22, test loss 5.73\n",
      "Epoch 5, loss 5.15, test loss 4.89\n",
      "Epoch 6, loss 5.01, test loss 4.97\n",
      "Epoch 7, loss 4.95, test loss 5.03\n",
      "Epoch 8, loss 5.42, test loss 4.78\n",
      "Epoch 9, loss 5.10, test loss 5.05\n",
      "Epoch 10, loss 5.46, test loss 4.90\n",
      "Epoch 11, loss 4.90, test loss 5.30\n",
      "Epoch 12, loss 5.00, test loss 4.74\n",
      "Epoch 13, loss 5.01, test loss 4.66\n",
      "Epoch 14, loss 4.90, test loss 4.87\n",
      "Epoch 15, loss 4.91, test loss 4.75\n",
      "Epoch 16, loss 4.79, test loss 4.59\n",
      "Epoch 17, loss 4.77, test loss 4.62\n",
      "Epoch 18, loss 4.84, test loss 4.72\n",
      "Epoch 19, loss 4.81, test loss 5.03\n",
      "**** Finished Training ****\n"
     ]
    }
   ],
   "source": [
    "res = kfold_val(X, y)"
   ]
  },
  {
   "cell_type": "code",
   "execution_count": 186,
   "metadata": {},
   "outputs": [
    {
     "data": {
      "text/plain": [
       "array([[4.59750191, 4.12345966],\n",
       "       [4.80111242, 4.99739407],\n",
       "       [5.08901268, 4.74534608],\n",
       "       [4.74716404, 5.06700064],\n",
       "       [4.80863765, 5.02899857]])"
      ]
     },
     "execution_count": 186,
     "metadata": {},
     "output_type": "execute_result"
    }
   ],
   "source": [
    "res"
   ]
  },
  {
   "cell_type": "code",
   "execution_count": 187,
   "metadata": {},
   "outputs": [],
   "source": [
    "res = np.asarray(res)"
   ]
  },
  {
   "cell_type": "code",
   "execution_count": 188,
   "metadata": {},
   "outputs": [
    {
     "data": {
      "text/plain": [
       "(4.808685738284413, 0.15938888232756795)"
      ]
     },
     "execution_count": 188,
     "metadata": {},
     "output_type": "execute_result"
    }
   ],
   "source": [
    "np.mean(res[:, 0]), np.std(res[:, 0])"
   ]
  },
  {
   "cell_type": "code",
   "execution_count": 189,
   "metadata": {},
   "outputs": [
    {
     "data": {
      "text/plain": [
       "(4.792439802681528, 0.3530162026172287)"
      ]
     },
     "execution_count": 189,
     "metadata": {},
     "output_type": "execute_result"
    }
   ],
   "source": [
    "np.mean(res[:, 1]), np.std(res[:, 1])"
   ]
  },
  {
   "cell_type": "code",
   "execution_count": null,
   "metadata": {},
   "outputs": [],
   "source": []
  },
  {
   "cell_type": "code",
   "execution_count": null,
   "metadata": {},
   "outputs": [],
   "source": []
  },
  {
   "cell_type": "code",
   "execution_count": null,
   "metadata": {},
   "outputs": [],
   "source": []
  },
  {
   "cell_type": "code",
   "execution_count": null,
   "metadata": {},
   "outputs": [],
   "source": []
  },
  {
   "cell_type": "code",
   "execution_count": null,
   "metadata": {},
   "outputs": [],
   "source": []
  },
  {
   "cell_type": "code",
   "execution_count": null,
   "metadata": {},
   "outputs": [],
   "source": []
  }
 ],
 "metadata": {
  "kernelspec": {
   "display_name": "Python 3",
   "language": "python",
   "name": "python3"
  },
  "language_info": {
   "codemirror_mode": {
    "name": "ipython",
    "version": 3
   },
   "file_extension": ".py",
   "mimetype": "text/x-python",
   "name": "python",
   "nbconvert_exporter": "python",
   "pygments_lexer": "ipython3",
   "version": "3.7.9"
  }
 },
 "nbformat": 4,
 "nbformat_minor": 4
}
