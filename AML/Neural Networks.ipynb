{
 "cells": [
  {
   "cell_type": "markdown",
   "metadata": {},
   "source": [
    "# Neural Network "
   ]
  },
  {
   "cell_type": "markdown",
   "metadata": {},
   "source": [
    "## 1. Imports"
   ]
  },
  {
   "cell_type": "code",
   "execution_count": 1,
   "metadata": {},
   "outputs": [],
   "source": [
    "import HelperFunctions as hf\n",
    "import numpy as np\n",
    "import pandas as pd\n",
    "from sklearn.preprocessing import StandardScaler\n",
    "from sklearn.preprocessing import MinMaxScaler\n",
    "from sklearn.model_selection import train_test_split\n",
    "import statsmodels.api as sm\n",
    "import torch\n",
    "import torch.optim as optim\n",
    "from torch import nn\n",
    "import torch.nn.functional as F"
   ]
  },
  {
   "cell_type": "markdown",
   "metadata": {},
   "source": [
    "## 2. Fetching and preparing data"
   ]
  },
  {
   "cell_type": "code",
   "execution_count": 2,
   "metadata": {},
   "outputs": [],
   "source": [
    "#Load in the raw data\n",
    "calendar_df = hf.load_calendar_data()\n",
    "prices_df = hf.load_sell_price_data()\n",
    "sales_df = hf.load_sales_train_validation_data()"
   ]
  },
  {
   "cell_type": "code",
   "execution_count": 3,
   "metadata": {},
   "outputs": [],
   "source": [
    "#Clean the raw data\n",
    "df = hf.rawToClean(sales_df, calendar_df, prices_df, days=1200, items=100, dropNAPrices=True)"
   ]
  },
  {
   "cell_type": "code",
   "execution_count": 4,
   "metadata": {},
   "outputs": [],
   "source": [
    "df = hf.rollingMeanDemandFeature(df, windowSize=7, shift=1) #Mean of previous week\n",
    "df = hf.rollingMeanDemandFeature(df, windowSize=28, shift=1) #Mean of previous 28 days\n",
    "df = hf.rollingMeanDemandFeature(df, windowSize=365, shift=1) \n",
    "\n",
    "df = hf.rollingStdDemandFeature(df, windowSize=7, shift=1)\n",
    "df = hf.rollingStdDemandFeature(df, windowSize=28, shift=1)\n",
    "df = hf.rollingStdDemandFeature(df, windowSize=365, shift=1)"
   ]
  },
  {
   "cell_type": "code",
   "execution_count": 5,
   "metadata": {},
   "outputs": [],
   "source": [
    "df = hf.rollingMeanWeekday(df, weeks = 4, shift = 1) #mean of previous 3 weeks (for that particular weekday)\n",
    "df = hf.rollingMeanWeekday(df, weeks = 8, shift = 1) #mean of previous 3 weeks (for that particular weekday)\n",
    "df = hf.rollingMeanWeekday(df, weeks = 52, shift = 1) #mean of previous 3 weeks (for that particular weekday)"
   ]
  },
  {
   "cell_type": "code",
   "execution_count": 6,
   "metadata": {},
   "outputs": [],
   "source": [
    "df = hf.lagFeature(df, var='sold', lag=1) #Amount sold day before\n",
    "df = hf.lagFeature(df, var='sold', lag=7) #Amount sold a week before\n",
    "df = hf.lagFeature(df, var='sold', lag=28) #Amount sold 28 days before\n",
    "df = hf.lagFeature(df, var='sold', lag=365) #Amount sold 28 days before"
   ]
  },
  {
   "cell_type": "code",
   "execution_count": 7,
   "metadata": {},
   "outputs": [],
   "source": [
    "df.dropna(inplace=True) #Drop rows with NAs (as result of lagged features)"
   ]
  },
  {
   "cell_type": "code",
   "execution_count": 8,
   "metadata": {},
   "outputs": [],
   "source": [
    "df.drop(['id'], axis=1, inplace=True) #Drop the id column"
   ]
  },
  {
   "cell_type": "code",
   "execution_count": 9,
   "metadata": {},
   "outputs": [],
   "source": [
    "#Standardise features\n",
    "cols_to_norm = ['d','wday','month','year','sell_price','rolling_mean_7_1','rolling_mean_28_1','sold_lag_1',\n",
    "                'sold_lag_7','sold_lag_28']\n",
    "\n",
    "df[cols_to_norm] = MinMaxScaler().fit_transform(df[cols_to_norm])"
   ]
  },
  {
   "cell_type": "code",
   "execution_count": 10,
   "metadata": {},
   "outputs": [
    {
     "data": {
      "text/plain": [
       "(49215, 54)"
      ]
     },
     "execution_count": 10,
     "metadata": {},
     "output_type": "execute_result"
    }
   ],
   "source": [
    "df.shape"
   ]
  },
  {
   "cell_type": "code",
   "execution_count": 11,
   "metadata": {},
   "outputs": [],
   "source": [
    "df = df.astype(float)"
   ]
  },
  {
   "cell_type": "code",
   "execution_count": 12,
   "metadata": {},
   "outputs": [],
   "source": [
    "#Isolate features and target variable\n",
    "y = df.sold.values\n",
    "df = df.drop(['sold'], axis=1)\n"
   ]
  },
  {
   "cell_type": "code",
   "execution_count": 15,
   "metadata": {},
   "outputs": [],
   "source": []
  },
  {
   "cell_type": "code",
   "execution_count": null,
   "metadata": {},
   "outputs": [],
   "source": []
  },
  {
   "cell_type": "code",
   "execution_count": 18,
   "metadata": {},
   "outputs": [
    {
     "name": "stdout",
     "output_type": "stream",
     "text": [
      "wday 0.9777677099116514\n",
      "CA_3 0.9573446009709612\n",
      "CA_2 0.9394219393520643\n",
      "TX_3 0.8325592710378074\n",
      "monfri 0.8169050743118118\n",
      "WI_3 0.7515639364558877\n",
      "HOBBIES_1 0.7679300950191361\n",
      "TX_1 0.6508645760702109\n",
      "WI 0.653714257245702\n",
      "FOODS_1 0.7347688367598064\n",
      "FOODS 0.7435703970628265\n",
      "month 0.6250394935024901\n",
      "TX 0.6125292420412276\n",
      "sell_price 0.531339521208615\n",
      "HOUSEHOLD_1 0.5338317774729846\n",
      "HOUSEHOLD_2 0.8659608202114488\n",
      "HOBBIES_2 0.5004470794392453\n",
      "WI_1 0.5194275322586709\n",
      "WI_2 0.5367229831249387\n",
      "TX_2 0.5735769424998796\n",
      "CA 0.5648037887910904\n",
      "National 0.5545321090563089\n",
      "Sporting 0.4584843014885448\n",
      "HOBBIES 0.3171456464182742\n",
      "HOUSEHOLD 0.6500084989390967\n",
      "FOODS_3 0.40567389679988186\n",
      "FOODS_2 0.5250221278654446\n",
      "rolling_mean_52_1 0.21866364636808913\n",
      "CA_1 0.19891516914382587\n",
      "CA_4 0.19467535642910533\n",
      "d 0.1424166503513111\n",
      "year 0.5484739584451056\n",
      "snap_WI 0.088522724830024\n"
     ]
    }
   ],
   "source": [
    "\n",
    "remove = True\n",
    "while remove == True:\n",
    "    mod = sm.OLS(y, df)\n",
    "    res = mod.fit()\n",
    "    pval = pd.DataFrame(res.pvalues)\n",
    "    if len(pval.loc[pval[0] > 0.05]) == 0:\n",
    "        remove = False\n",
    "    else:\n",
    "        worst_col = pval.loc[pval[0] > 0.05].T.columns[pval.loc[pval[0] > 0.05][0].argmax()]\n",
    "        print(worst_col , pval.loc[pval[0] > 0.05].max()[0])\n",
    "        df = df.drop([worst_col], axis = 1)\n",
    "        \n",
    "    "
   ]
  },
  {
   "cell_type": "code",
   "execution_count": 19,
   "metadata": {},
   "outputs": [
    {
     "data": {
      "text/plain": [
       "(49215, 20)"
      ]
     },
     "execution_count": 19,
     "metadata": {},
     "output_type": "execute_result"
    }
   ],
   "source": [
    "df.shape"
   ]
  },
  {
   "cell_type": "code",
   "execution_count": 20,
   "metadata": {},
   "outputs": [
    {
     "data": {
      "text/html": [
       "<div>\n",
       "<style scoped>\n",
       "    .dataframe tbody tr th:only-of-type {\n",
       "        vertical-align: middle;\n",
       "    }\n",
       "\n",
       "    .dataframe tbody tr th {\n",
       "        vertical-align: top;\n",
       "    }\n",
       "\n",
       "    .dataframe thead th {\n",
       "        text-align: right;\n",
       "    }\n",
       "</style>\n",
       "<table border=\"1\" class=\"dataframe\">\n",
       "  <thead>\n",
       "    <tr style=\"text-align: right;\">\n",
       "      <th></th>\n",
       "      <th>snap_CA</th>\n",
       "      <th>snap_TX</th>\n",
       "      <th>Cultural</th>\n",
       "      <th>Religious</th>\n",
       "      <th>NoEvent</th>\n",
       "      <th>Christmas</th>\n",
       "      <th>weekend</th>\n",
       "      <th>midweek</th>\n",
       "      <th>rolling_mean_7_1</th>\n",
       "      <th>rolling_mean_28_1</th>\n",
       "      <th>rolling_mean_365_1</th>\n",
       "      <th>rolling_std_7_1</th>\n",
       "      <th>rolling_std_28_1</th>\n",
       "      <th>rolling_std_365_1</th>\n",
       "      <th>rolling_mean_4_1</th>\n",
       "      <th>rolling_mean_8_1</th>\n",
       "      <th>sold_lag_1</th>\n",
       "      <th>sold_lag_7</th>\n",
       "      <th>sold_lag_28</th>\n",
       "      <th>sold_lag_365</th>\n",
       "    </tr>\n",
       "  </thead>\n",
       "  <tbody>\n",
       "    <tr>\n",
       "      <th>36520</th>\n",
       "      <td>0.0</td>\n",
       "      <td>0.0</td>\n",
       "      <td>0.0</td>\n",
       "      <td>0.0</td>\n",
       "      <td>1.0</td>\n",
       "      <td>0.0</td>\n",
       "      <td>1.0</td>\n",
       "      <td>0.0</td>\n",
       "      <td>0.004785</td>\n",
       "      <td>0.006780</td>\n",
       "      <td>0.312329</td>\n",
       "      <td>0.487950</td>\n",
       "      <td>0.534522</td>\n",
       "      <td>0.579870</td>\n",
       "      <td>0.25</td>\n",
       "      <td>0.250</td>\n",
       "      <td>0.000000</td>\n",
       "      <td>0.000000</td>\n",
       "      <td>0.000000</td>\n",
       "      <td>0.0</td>\n",
       "    </tr>\n",
       "    <tr>\n",
       "      <th>36521</th>\n",
       "      <td>0.0</td>\n",
       "      <td>0.0</td>\n",
       "      <td>0.0</td>\n",
       "      <td>0.0</td>\n",
       "      <td>1.0</td>\n",
       "      <td>0.0</td>\n",
       "      <td>1.0</td>\n",
       "      <td>0.0</td>\n",
       "      <td>0.002392</td>\n",
       "      <td>0.004237</td>\n",
       "      <td>0.090411</td>\n",
       "      <td>0.377964</td>\n",
       "      <td>0.390021</td>\n",
       "      <td>0.296576</td>\n",
       "      <td>0.00</td>\n",
       "      <td>0.125</td>\n",
       "      <td>0.013514</td>\n",
       "      <td>0.000000</td>\n",
       "      <td>0.000000</td>\n",
       "      <td>0.0</td>\n",
       "    </tr>\n",
       "    <tr>\n",
       "      <th>36522</th>\n",
       "      <td>0.0</td>\n",
       "      <td>0.0</td>\n",
       "      <td>0.0</td>\n",
       "      <td>0.0</td>\n",
       "      <td>1.0</td>\n",
       "      <td>0.0</td>\n",
       "      <td>1.0</td>\n",
       "      <td>0.0</td>\n",
       "      <td>0.023923</td>\n",
       "      <td>0.050847</td>\n",
       "      <td>0.934247</td>\n",
       "      <td>1.511858</td>\n",
       "      <td>2.120697</td>\n",
       "      <td>1.549922</td>\n",
       "      <td>1.25</td>\n",
       "      <td>0.625</td>\n",
       "      <td>0.000000</td>\n",
       "      <td>0.027027</td>\n",
       "      <td>0.000000</td>\n",
       "      <td>0.0</td>\n",
       "    </tr>\n",
       "    <tr>\n",
       "      <th>36524</th>\n",
       "      <td>0.0</td>\n",
       "      <td>0.0</td>\n",
       "      <td>0.0</td>\n",
       "      <td>0.0</td>\n",
       "      <td>1.0</td>\n",
       "      <td>0.0</td>\n",
       "      <td>1.0</td>\n",
       "      <td>0.0</td>\n",
       "      <td>0.035885</td>\n",
       "      <td>0.077966</td>\n",
       "      <td>1.457534</td>\n",
       "      <td>1.772811</td>\n",
       "      <td>2.323107</td>\n",
       "      <td>2.266934</td>\n",
       "      <td>3.50</td>\n",
       "      <td>4.375</td>\n",
       "      <td>0.081081</td>\n",
       "      <td>0.027027</td>\n",
       "      <td>0.013514</td>\n",
       "      <td>2.0</td>\n",
       "    </tr>\n",
       "    <tr>\n",
       "      <th>36554</th>\n",
       "      <td>0.0</td>\n",
       "      <td>0.0</td>\n",
       "      <td>0.0</td>\n",
       "      <td>0.0</td>\n",
       "      <td>1.0</td>\n",
       "      <td>0.0</td>\n",
       "      <td>1.0</td>\n",
       "      <td>0.0</td>\n",
       "      <td>0.007177</td>\n",
       "      <td>0.011017</td>\n",
       "      <td>0.449315</td>\n",
       "      <td>0.786796</td>\n",
       "      <td>0.881167</td>\n",
       "      <td>0.997679</td>\n",
       "      <td>0.75</td>\n",
       "      <td>1.625</td>\n",
       "      <td>0.000000</td>\n",
       "      <td>0.000000</td>\n",
       "      <td>0.000000</td>\n",
       "      <td>0.0</td>\n",
       "    </tr>\n",
       "  </tbody>\n",
       "</table>\n",
       "</div>"
      ],
      "text/plain": [
       "       snap_CA  snap_TX  Cultural  Religious  NoEvent  Christmas  weekend  \\\n",
       "36520      0.0      0.0       0.0        0.0      1.0        0.0      1.0   \n",
       "36521      0.0      0.0       0.0        0.0      1.0        0.0      1.0   \n",
       "36522      0.0      0.0       0.0        0.0      1.0        0.0      1.0   \n",
       "36524      0.0      0.0       0.0        0.0      1.0        0.0      1.0   \n",
       "36554      0.0      0.0       0.0        0.0      1.0        0.0      1.0   \n",
       "\n",
       "       midweek  rolling_mean_7_1  rolling_mean_28_1  rolling_mean_365_1  \\\n",
       "36520      0.0          0.004785           0.006780            0.312329   \n",
       "36521      0.0          0.002392           0.004237            0.090411   \n",
       "36522      0.0          0.023923           0.050847            0.934247   \n",
       "36524      0.0          0.035885           0.077966            1.457534   \n",
       "36554      0.0          0.007177           0.011017            0.449315   \n",
       "\n",
       "       rolling_std_7_1  rolling_std_28_1  rolling_std_365_1  rolling_mean_4_1  \\\n",
       "36520         0.487950          0.534522           0.579870              0.25   \n",
       "36521         0.377964          0.390021           0.296576              0.00   \n",
       "36522         1.511858          2.120697           1.549922              1.25   \n",
       "36524         1.772811          2.323107           2.266934              3.50   \n",
       "36554         0.786796          0.881167           0.997679              0.75   \n",
       "\n",
       "       rolling_mean_8_1  sold_lag_1  sold_lag_7  sold_lag_28  sold_lag_365  \n",
       "36520             0.250    0.000000    0.000000     0.000000           0.0  \n",
       "36521             0.125    0.013514    0.000000     0.000000           0.0  \n",
       "36522             0.625    0.000000    0.027027     0.000000           0.0  \n",
       "36524             4.375    0.081081    0.027027     0.013514           2.0  \n",
       "36554             1.625    0.000000    0.000000     0.000000           0.0  "
      ]
     },
     "execution_count": 20,
     "metadata": {},
     "output_type": "execute_result"
    }
   ],
   "source": [
    "df.head()"
   ]
  },
  {
   "cell_type": "code",
   "execution_count": 21,
   "metadata": {},
   "outputs": [],
   "source": [
    "X = df.values"
   ]
  },
  {
   "cell_type": "code",
   "execution_count": null,
   "metadata": {},
   "outputs": [],
   "source": []
  },
  {
   "cell_type": "markdown",
   "metadata": {},
   "source": [
    "## 3. Setting up loaders"
   ]
  },
  {
   "cell_type": "code",
   "execution_count": null,
   "metadata": {},
   "outputs": [],
   "source": [
    "\n",
    "\n"
   ]
  },
  {
   "cell_type": "code",
   "execution_count": 22,
   "metadata": {},
   "outputs": [],
   "source": [
    "X, y = torch.FloatTensor(X), torch.FloatTensor(y)"
   ]
  },
  {
   "cell_type": "code",
   "execution_count": 23,
   "metadata": {},
   "outputs": [],
   "source": [
    "#Train/test split\n",
    "X_train, X_test, y_train, y_test = train_test_split(X, y, test_size=0.20, random_state=42)"
   ]
  },
  {
   "cell_type": "code",
   "execution_count": 24,
   "metadata": {},
   "outputs": [
    {
     "data": {
      "text/plain": [
       "(torch.Size([39372, 20]), torch.Size([39372]))"
      ]
     },
     "execution_count": 24,
     "metadata": {},
     "output_type": "execute_result"
    }
   ],
   "source": [
    "X_train.shape, y_train.shape"
   ]
  },
  {
   "cell_type": "code",
   "execution_count": 25,
   "metadata": {},
   "outputs": [],
   "source": [
    "# create data loaders\n",
    "\n",
    "from torch.utils import data\n",
    "\n",
    "traindataset = data.TensorDataset(X_train, y_train) # create your datset\n",
    "trainloader = data.DataLoader(traindataset, batch_size=1024, shuffle=True) # create your dataloader\n",
    "\n",
    "\n",
    "testdataset = data.TensorDataset(X_test,y_test) # create your datset\n",
    "testloader = data.DataLoader(testdataset, batch_size=1024, shuffle=True) # create your dataloader\n",
    "\n"
   ]
  },
  {
   "cell_type": "markdown",
   "metadata": {},
   "source": [
    "## 4. Building neural net"
   ]
  },
  {
   "cell_type": "code",
   "execution_count": 26,
   "metadata": {},
   "outputs": [],
   "source": [
    "# define baseline model\n",
    "class BaselineModel(nn.Module):\n",
    "    def __init__(self, input_size, hidden_size):\n",
    "        super(BaselineModel, self).__init__()\n",
    "        self.fc1 = nn.Linear(input_size, hidden_size) \n",
    "        self.fc2 = nn.Linear(hidden_size, hidden_size)\n",
    "        self.fc3 = nn.Linear(hidden_size, hidden_size)\n",
    "        self.fc4 = nn.Linear(hidden_size, hidden_size)\n",
    "        self.fc5 = nn.Linear(hidden_size, 1)  \n",
    "    \n",
    "    def forward(self, x):\n",
    "        out = self.fc1(x)\n",
    "        out = F.relu(out)\n",
    "        out = self.fc2(out)\n",
    "        out = F.relu(out)\n",
    "        out = self.fc3(out)\n",
    "        out = F.relu(out)\n",
    "        out = self.fc4(out)\n",
    "        out = F.relu(out)\n",
    "        out = self.fc5(out)\n",
    "        \n",
    "        return out"
   ]
  },
  {
   "cell_type": "code",
   "execution_count": 32,
   "metadata": {},
   "outputs": [
    {
     "name": "stdout",
     "output_type": "stream",
     "text": [
      "Epoch 0, loss 284.28\n",
      "Epoch 1, loss 209.13\n",
      "Epoch 2, loss 209.08\n",
      "Epoch 3, loss 215.60\n",
      "Epoch 4, loss 203.51\n",
      "Epoch 5, loss 199.54\n",
      "Epoch 6, loss 201.67\n",
      "Epoch 7, loss 201.41\n",
      "Epoch 8, loss 202.24\n",
      "Epoch 9, loss 198.77\n",
      "**** Finished Training ****\n"
     ]
    }
   ],
   "source": [
    "# build the model \n",
    "model = BaselineModel(20, 256)\n",
    "\n",
    "# define the loss function and the optimiser\n",
    "loss_function = nn.MSELoss()\n",
    "optimiser = optim.Adam(model.parameters())\n",
    "\n",
    "# the epoch loop\n",
    "for epoch in range(10):\n",
    "    running_loss = 0.0\n",
    "\n",
    "    for data in trainloader:\n",
    "        # get the inputs\n",
    "        inputs, labels = data\n",
    "\n",
    "        # zero the parameter gradients\n",
    "        optimiser.zero_grad()\n",
    "\n",
    "        # forward + loss + backward + optimise (update weights)\n",
    "        outputs = model(inputs)\n",
    "        outputs = outputs.flatten()\n",
    "        loss = loss_function(outputs, labels)\n",
    "        loss.backward()\n",
    "        optimiser.step()\n",
    "\n",
    "        # keep track of the loss this epoch\n",
    "        running_loss += loss.item()\n",
    "\n",
    "    print(\"Epoch %d, loss %4.2f\" % (epoch, running_loss))\n",
    "print('**** Finished Training ****')"
   ]
  },
  {
   "cell_type": "code",
   "execution_count": 28,
   "metadata": {},
   "outputs": [],
   "source": [
    "from sklearn.metrics import mean_squared_error"
   ]
  },
  {
   "cell_type": "code",
   "execution_count": null,
   "metadata": {},
   "outputs": [],
   "source": []
  },
  {
   "cell_type": "code",
   "execution_count": 29,
   "metadata": {},
   "outputs": [],
   "source": [
    "import matplotlib.pyplot as plt"
   ]
  },
  {
   "cell_type": "code",
   "execution_count": 40,
   "metadata": {},
   "outputs": [
    {
     "name": "stdout",
     "output_type": "stream",
     "text": [
      "[[0.00348669]\n",
      " [0.97458076]\n",
      " [0.79875135]\n",
      " ...\n",
      " [1.8923004 ]\n",
      " [0.0788004 ]\n",
      " [0.4802801 ]]\n"
     ]
    },
    {
     "data": {
      "image/png": "[encoded data removed]",
      "text/plain": [
       "<Figure size 720x720 with 1 Axes>"
      ]
     },
     "metadata": {
      "needs_background": "light"
     },
     "output_type": "display_data"
    }
   ],
   "source": [
    "model.eval()\n",
    "plt.figure(figsize = (10,10))\n",
    "for index, i in enumerate(trainloader):\n",
    "    if index < 1:\n",
    "        inputs, labels = i\n",
    "          \n",
    "        outputs = model(inputs)\n",
    "        outputs = outputs.detach().numpy()\n",
    "        plt.plot([i for i in range(len(labels))], labels, label = \"True Sales\")\n",
    "        print(outputs)\n",
    "        plt.plot(outputs, label = \"Predicted Sales\")\n",
    "        plt.legend()\n",
    "#         plt.ylim(0, 30)\n",
    "        plt.xlim(0, 100)\n",
    "        #print(inputs, labels)\n",
    "    else:\n",
    "        break"
   ]
  },
  {
   "cell_type": "code",
   "execution_count": 41,
   "metadata": {},
   "outputs": [
    {
     "name": "stdout",
     "output_type": "stream",
     "text": [
      "[[0.06863712]\n",
      " [0.7775417 ]\n",
      " [0.05261893]\n",
      " ...\n",
      " [0.06082866]\n",
      " [0.2159984 ]\n",
      " [0.82497257]]\n"
     ]
    },
    {
     "data": {
      "image/png": "[encoded data removed]",
      "text/plain": [
       "<Figure size 720x720 with 1 Axes>"
      ]
     },
     "metadata": {
      "needs_background": "light"
     },
     "output_type": "display_data"
    }
   ],
   "source": [
    "model.eval()\n",
    "plt.figure(figsize = (10,10))\n",
    "for index, i in enumerate(testloader):\n",
    "    if index < 1:\n",
    "        inputs, labels = i\n",
    "          \n",
    "        outputs = model(inputs)\n",
    "        outputs = outputs.detach().numpy()\n",
    "        plt.plot([i for i in range(len(labels))], labels, label = \"True Sales\")\n",
    "        print(outputs)\n",
    "        plt.plot(outputs, label = \"Predicted Sales\")\n",
    "        plt.legend()\n",
    "#         plt.ylim(0, 30)\n",
    "        plt.xlim(0, 100)\n",
    "        #print(inputs, labels)\n",
    "    else:\n",
    "        break"
   ]
  },
  {
   "cell_type": "code",
   "execution_count": 33,
   "metadata": {},
   "outputs": [
    {
     "name": "stdout",
     "output_type": "stream",
     "text": [
      "Train:  4.961181102654873\n"
     ]
    }
   ],
   "source": [
    "model.eval()\n",
    "\n",
    "mse = 0\n",
    "\n",
    "for data in trainloader:\n",
    "    inputs, labels = data\n",
    "    \n",
    "    outputs = model(inputs)\n",
    "    \n",
    "    outputs = outputs.detach().numpy()\n",
    "    mse += mean_squared_error(labels, outputs)\n",
    "print(\"Train: \", mse/len(trainloader))"
   ]
  },
  {
   "cell_type": "code",
   "execution_count": 34,
   "metadata": {},
   "outputs": [
    {
     "name": "stdout",
     "output_type": "stream",
     "text": [
      "Test:  5.374481821060181\n"
     ]
    }
   ],
   "source": [
    "model.eval()\n",
    "\n",
    "mse = 0\n",
    "\n",
    "for data in testloader:\n",
    "    inputs, labels = data\n",
    "    \n",
    "    outputs = model(inputs)\n",
    "    \n",
    "    outputs = outputs.detach().numpy()\n",
    "    mse += mean_squared_error(labels, outputs)\n",
    "print(\"Test: \", mse/len(testloader))"
   ]
  },
  {
   "cell_type": "code",
   "execution_count": null,
   "metadata": {},
   "outputs": [],
   "source": []
  },
  {
   "cell_type": "code",
   "execution_count": null,
   "metadata": {},
   "outputs": [],
   "source": []
  },
  {
   "cell_type": "code",
   "execution_count": null,
   "metadata": {},
   "outputs": [],
   "source": []
  },
  {
   "cell_type": "code",
   "execution_count": null,
   "metadata": {},
   "outputs": [],
   "source": [
    "#Cross validation scoring metric\n",
    "cv_score = cross_val_score(svm_reg, X_train, y_train, cv=5, scoring='neg_mean_squared_error')\n",
    "print(\"Mean Squared Error CV:\", -np.mean(cv_score))"
   ]
  }
 ],
 "metadata": {
  "kernelspec": {
   "display_name": "Python 3",
   "language": "python",
   "name": "python3"
  },
  "language_info": {
   "codemirror_mode": {
    "name": "ipython",
    "version": 3
   },
   "file_extension": ".py",
   "mimetype": "text/x-python",
   "name": "python",
   "nbconvert_exporter": "python",
   "pygments_lexer": "ipython3",
   "version": "3.7.9"
  }
 },
 "nbformat": 4,
 "nbformat_minor": 4
}
