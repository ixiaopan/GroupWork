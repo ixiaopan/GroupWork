{
 "cells": [
  {
   "cell_type": "markdown",
   "metadata": {},
   "source": [
    "# Neural Network "
   ]
  },
  {
   "cell_type": "markdown",
   "metadata": {},
   "source": [
    "## 1. Imports"
   ]
  },
  {
   "cell_type": "code",
   "execution_count": 20,
   "metadata": {},
   "outputs": [],
   "source": [
    "import HelperFunctions as hf\n",
    "import numpy as np\n",
    "import pandas as pd\n",
    "from sklearn.preprocessing import StandardScaler\n",
    "from sklearn.preprocessing import MinMaxScaler\n",
    "from sklearn.model_selection import train_test_split\n",
    "import statsmodels.api as sm\n",
    "import torch\n",
    "import torch.optim as optim\n",
    "from torch import nn\n",
    "import torch.nn.functional as F\n",
    "from sklearn.metrics import mean_squared_error"
   ]
  },
  {
   "cell_type": "markdown",
   "metadata": {},
   "source": [
    "## 2. Fetching and preparing data"
   ]
  },
  {
   "cell_type": "code",
   "execution_count": 21,
   "metadata": {},
   "outputs": [],
   "source": [
    "#Load in the raw data\n",
    "calendar_df = hf.load_calendar_data()\n",
    "prices_df = hf.load_sell_price_data()\n",
    "sales_df = hf.load_sales_train_validation_data()"
   ]
  },
  {
   "cell_type": "code",
   "execution_count": 22,
   "metadata": {},
   "outputs": [],
   "source": [
    "#Clean the raw data\n",
    "num = 1300\n",
    "df = hf.rawToClean(sales_df, calendar_df, prices_df, days=num, items=100, dropNAPrices=True)"
   ]
  },
  {
   "cell_type": "code",
   "execution_count": 23,
   "metadata": {},
   "outputs": [],
   "source": [
    "df = hf.rollingMeanDemandFeature(df, windowSize=7, shift=1) #Mean of previous week\n",
    "df = hf.rollingMeanDemandFeature(df, windowSize=28, shift=1) #Mean of previous 28 days\n",
    "# df = hf.rollingMeanDemandFeature(df, windowSize=365, shift=1) \n",
    "\n",
    "df = hf.rollingStdDemandFeature(df, windowSize=7, shift=1)\n",
    "df = hf.rollingStdDemandFeature(df, windowSize=28, shift=1)\n",
    "# df = hf.rollingStdDemandFeature(df, windowSize=365, shift=1)"
   ]
  },
  {
   "cell_type": "code",
   "execution_count": 24,
   "metadata": {},
   "outputs": [],
   "source": [
    "df = hf.rollingMeanWeekday(df, weeks = 4, shift = 1) #mean of previous 3 weeks (for that particular weekday)\n",
    "df = hf.rollingMeanWeekday(df, weeks = 8, shift = 1) #mean of previous 3 weeks (for that particular weekday)\n",
    "# df = hf.rollingMeanWeekday(df, weeks = 52, shift = 1) #mean of previous 3 weeks (for that particular weekday)"
   ]
  },
  {
   "cell_type": "code",
   "execution_count": 25,
   "metadata": {},
   "outputs": [],
   "source": [
    "df = hf.lagFeature(df, var='sold', lag=1) #Amount sold day before\n",
    "df = hf.lagFeature(df, var='sold', lag=7) #Amount sold a week before\n",
    "df = hf.lagFeature(df, var='sold', lag=28) #Amount sold 28 days before\n",
    "# df = hf.lagFeature(df, var='sold', lag=365) #Amount sold 28 days before"
   ]
  },
  {
   "cell_type": "code",
   "execution_count": 26,
   "metadata": {},
   "outputs": [],
   "source": [
    "df = hf.priceDifference(df)\n",
    "df = hf.rollingPriceDifference(df, windowsize=7)"
   ]
  },
  {
   "cell_type": "code",
   "execution_count": 27,
   "metadata": {},
   "outputs": [],
   "source": [
    "df.dropna(inplace=True) #Drop rows with NAs (as result of lagged features)"
   ]
  },
  {
   "cell_type": "code",
   "execution_count": 28,
   "metadata": {},
   "outputs": [],
   "source": [
    "#Standardise features\n",
    "cols_to_norm = ['d','wday','month','year','sell_price',  'rolling_mean_7_1', 'rolling_mean_28_1',\n",
    "       'rolling_std_7_1', 'rolling_std_28_1',\n",
    "       'rolling_mean_4_1', 'rolling_mean_8_1',\n",
    "       'sold_lag_1', 'sold_lag_7', 'sold_lag_28',\n",
    "       'price_diff']\n",
    "\n",
    "df[cols_to_norm] = MinMaxScaler().fit_transform(df[cols_to_norm])"
   ]
  },
  {
   "cell_type": "code",
   "execution_count": 29,
   "metadata": {},
   "outputs": [
    {
     "data": {
      "text/html": [
       "<div>\n",
       "<style scoped>\n",
       "    .dataframe tbody tr th:only-of-type {\n",
       "        vertical-align: middle;\n",
       "    }\n",
       "\n",
       "    .dataframe tbody tr th {\n",
       "        vertical-align: top;\n",
       "    }\n",
       "\n",
       "    .dataframe thead th {\n",
       "        text-align: right;\n",
       "    }\n",
       "</style>\n",
       "<table border=\"1\" class=\"dataframe\">\n",
       "  <thead>\n",
       "    <tr style=\"text-align: right;\">\n",
       "      <th></th>\n",
       "      <th>d</th>\n",
       "      <th>wday</th>\n",
       "      <th>month</th>\n",
       "      <th>year</th>\n",
       "      <th>sell_price</th>\n",
       "      <th>rolling_mean_7_1</th>\n",
       "      <th>rolling_mean_28_1</th>\n",
       "      <th>rolling_std_7_1</th>\n",
       "      <th>rolling_std_28_1</th>\n",
       "      <th>rolling_mean_4_1</th>\n",
       "      <th>rolling_mean_8_1</th>\n",
       "      <th>sold_lag_1</th>\n",
       "      <th>sold_lag_7</th>\n",
       "      <th>sold_lag_28</th>\n",
       "      <th>price_diff</th>\n",
       "      <th>price_increase</th>\n",
       "      <th>price_decrease</th>\n",
       "      <th>price_increase_7</th>\n",
       "      <th>price_decrease_7</th>\n",
       "    </tr>\n",
       "  </thead>\n",
       "  <tbody>\n",
       "    <tr>\n",
       "      <th>count</th>\n",
       "      <td>85350.000000</td>\n",
       "      <td>85350.000000</td>\n",
       "      <td>85350.000000</td>\n",
       "      <td>85350.000000</td>\n",
       "      <td>85350.000000</td>\n",
       "      <td>85350.000000</td>\n",
       "      <td>85350.000000</td>\n",
       "      <td>8.535000e+04</td>\n",
       "      <td>85350.000000</td>\n",
       "      <td>85350.000000</td>\n",
       "      <td>85350.000000</td>\n",
       "      <td>85350.000000</td>\n",
       "      <td>85350.000000</td>\n",
       "      <td>85350.000000</td>\n",
       "      <td>85350.000000</td>\n",
       "      <td>85350.000000</td>\n",
       "      <td>85350.000000</td>\n",
       "      <td>85350.000000</td>\n",
       "      <td>85350.000000</td>\n",
       "    </tr>\n",
       "    <tr>\n",
       "      <th>mean</th>\n",
       "      <td>0.562401</td>\n",
       "      <td>0.498231</td>\n",
       "      <td>0.491249</td>\n",
       "      <td>0.540488</td>\n",
       "      <td>0.211879</td>\n",
       "      <td>0.023420</td>\n",
       "      <td>0.031607</td>\n",
       "      <td>3.459193e-02</td>\n",
       "      <td>0.054469</td>\n",
       "      <td>0.023541</td>\n",
       "      <td>0.026691</td>\n",
       "      <td>0.013836</td>\n",
       "      <td>0.013857</td>\n",
       "      <td>0.013891</td>\n",
       "      <td>0.500011</td>\n",
       "      <td>0.001265</td>\n",
       "      <td>0.000961</td>\n",
       "      <td>0.008647</td>\n",
       "      <td>0.006772</td>\n",
       "    </tr>\n",
       "    <tr>\n",
       "      <th>std</th>\n",
       "      <td>0.277912</td>\n",
       "      <td>0.333735</td>\n",
       "      <td>0.297400</td>\n",
       "      <td>0.340928</td>\n",
       "      <td>0.172952</td>\n",
       "      <td>0.060928</td>\n",
       "      <td>0.079465</td>\n",
       "      <td>5.438348e-02</td>\n",
       "      <td>0.078141</td>\n",
       "      <td>0.061402</td>\n",
       "      <td>0.067845</td>\n",
       "      <td>0.040350</td>\n",
       "      <td>0.040505</td>\n",
       "      <td>0.040641</td>\n",
       "      <td>0.007617</td>\n",
       "      <td>0.035550</td>\n",
       "      <td>0.030981</td>\n",
       "      <td>0.092586</td>\n",
       "      <td>0.082014</td>\n",
       "    </tr>\n",
       "    <tr>\n",
       "      <th>min</th>\n",
       "      <td>0.000000</td>\n",
       "      <td>0.000000</td>\n",
       "      <td>0.000000</td>\n",
       "      <td>0.000000</td>\n",
       "      <td>0.000000</td>\n",
       "      <td>0.000000</td>\n",
       "      <td>0.000000</td>\n",
       "      <td>0.000000e+00</td>\n",
       "      <td>0.000000</td>\n",
       "      <td>0.000000</td>\n",
       "      <td>0.000000</td>\n",
       "      <td>0.000000</td>\n",
       "      <td>0.000000</td>\n",
       "      <td>0.000000</td>\n",
       "      <td>0.000000</td>\n",
       "      <td>0.000000</td>\n",
       "      <td>0.000000</td>\n",
       "      <td>0.000000</td>\n",
       "      <td>0.000000</td>\n",
       "    </tr>\n",
       "    <tr>\n",
       "      <th>25%</th>\n",
       "      <td>0.334382</td>\n",
       "      <td>0.166667</td>\n",
       "      <td>0.272727</td>\n",
       "      <td>0.333333</td>\n",
       "      <td>0.081656</td>\n",
       "      <td>0.000000</td>\n",
       "      <td>0.003226</td>\n",
       "      <td>1.659428e-09</td>\n",
       "      <td>0.017554</td>\n",
       "      <td>0.000000</td>\n",
       "      <td>0.002375</td>\n",
       "      <td>0.000000</td>\n",
       "      <td>0.000000</td>\n",
       "      <td>0.000000</td>\n",
       "      <td>0.500000</td>\n",
       "      <td>0.000000</td>\n",
       "      <td>0.000000</td>\n",
       "      <td>0.000000</td>\n",
       "      <td>0.000000</td>\n",
       "    </tr>\n",
       "    <tr>\n",
       "      <th>50%</th>\n",
       "      <td>0.583006</td>\n",
       "      <td>0.500000</td>\n",
       "      <td>0.454545</td>\n",
       "      <td>0.666667</td>\n",
       "      <td>0.176538</td>\n",
       "      <td>0.007177</td>\n",
       "      <td>0.011290</td>\n",
       "      <td>2.430126e-02</td>\n",
       "      <td>0.035677</td>\n",
       "      <td>0.008403</td>\n",
       "      <td>0.009501</td>\n",
       "      <td>0.000000</td>\n",
       "      <td>0.000000</td>\n",
       "      <td>0.000000</td>\n",
       "      <td>0.500000</td>\n",
       "      <td>0.000000</td>\n",
       "      <td>0.000000</td>\n",
       "      <td>0.000000</td>\n",
       "      <td>0.000000</td>\n",
       "    </tr>\n",
       "    <tr>\n",
       "      <th>75%</th>\n",
       "      <td>0.805665</td>\n",
       "      <td>0.833333</td>\n",
       "      <td>0.727273</td>\n",
       "      <td>0.666667</td>\n",
       "      <td>0.290972</td>\n",
       "      <td>0.021531</td>\n",
       "      <td>0.028226</td>\n",
       "      <td>4.150230e-02</td>\n",
       "      <td>0.064051</td>\n",
       "      <td>0.021008</td>\n",
       "      <td>0.023753</td>\n",
       "      <td>0.009901</td>\n",
       "      <td>0.009901</td>\n",
       "      <td>0.009901</td>\n",
       "      <td>0.500000</td>\n",
       "      <td>0.000000</td>\n",
       "      <td>0.000000</td>\n",
       "      <td>0.000000</td>\n",
       "      <td>0.000000</td>\n",
       "    </tr>\n",
       "    <tr>\n",
       "      <th>max</th>\n",
       "      <td>1.000000</td>\n",
       "      <td>1.000000</td>\n",
       "      <td>1.000000</td>\n",
       "      <td>1.000000</td>\n",
       "      <td>1.000000</td>\n",
       "      <td>1.000000</td>\n",
       "      <td>1.000000</td>\n",
       "      <td>1.000000e+00</td>\n",
       "      <td>1.000000</td>\n",
       "      <td>1.000000</td>\n",
       "      <td>1.000000</td>\n",
       "      <td>1.000000</td>\n",
       "      <td>1.000000</td>\n",
       "      <td>1.000000</td>\n",
       "      <td>1.000000</td>\n",
       "      <td>1.000000</td>\n",
       "      <td>1.000000</td>\n",
       "      <td>1.000000</td>\n",
       "      <td>1.000000</td>\n",
       "    </tr>\n",
       "  </tbody>\n",
       "</table>\n",
       "</div>"
      ],
      "text/plain": [
       "                  d          wday         month          year    sell_price  \\\n",
       "count  85350.000000  85350.000000  85350.000000  85350.000000  85350.000000   \n",
       "mean       0.562401      0.498231      0.491249      0.540488      0.211879   \n",
       "std        0.277912      0.333735      0.297400      0.340928      0.172952   \n",
       "min        0.000000      0.000000      0.000000      0.000000      0.000000   \n",
       "25%        0.334382      0.166667      0.272727      0.333333      0.081656   \n",
       "50%        0.583006      0.500000      0.454545      0.666667      0.176538   \n",
       "75%        0.805665      0.833333      0.727273      0.666667      0.290972   \n",
       "max        1.000000      1.000000      1.000000      1.000000      1.000000   \n",
       "\n",
       "       rolling_mean_7_1  rolling_mean_28_1  rolling_std_7_1  rolling_std_28_1  \\\n",
       "count      85350.000000       85350.000000     8.535000e+04      85350.000000   \n",
       "mean           0.023420           0.031607     3.459193e-02          0.054469   \n",
       "std            0.060928           0.079465     5.438348e-02          0.078141   \n",
       "min            0.000000           0.000000     0.000000e+00          0.000000   \n",
       "25%            0.000000           0.003226     1.659428e-09          0.017554   \n",
       "50%            0.007177           0.011290     2.430126e-02          0.035677   \n",
       "75%            0.021531           0.028226     4.150230e-02          0.064051   \n",
       "max            1.000000           1.000000     1.000000e+00          1.000000   \n",
       "\n",
       "       rolling_mean_4_1  rolling_mean_8_1    sold_lag_1    sold_lag_7  \\\n",
       "count      85350.000000      85350.000000  85350.000000  85350.000000   \n",
       "mean           0.023541          0.026691      0.013836      0.013857   \n",
       "std            0.061402          0.067845      0.040350      0.040505   \n",
       "min            0.000000          0.000000      0.000000      0.000000   \n",
       "25%            0.000000          0.002375      0.000000      0.000000   \n",
       "50%            0.008403          0.009501      0.000000      0.000000   \n",
       "75%            0.021008          0.023753      0.009901      0.009901   \n",
       "max            1.000000          1.000000      1.000000      1.000000   \n",
       "\n",
       "        sold_lag_28    price_diff  price_increase  price_decrease  \\\n",
       "count  85350.000000  85350.000000    85350.000000    85350.000000   \n",
       "mean       0.013891      0.500011        0.001265        0.000961   \n",
       "std        0.040641      0.007617        0.035550        0.030981   \n",
       "min        0.000000      0.000000        0.000000        0.000000   \n",
       "25%        0.000000      0.500000        0.000000        0.000000   \n",
       "50%        0.000000      0.500000        0.000000        0.000000   \n",
       "75%        0.009901      0.500000        0.000000        0.000000   \n",
       "max        1.000000      1.000000        1.000000        1.000000   \n",
       "\n",
       "       price_increase_7  price_decrease_7  \n",
       "count      85350.000000      85350.000000  \n",
       "mean           0.008647          0.006772  \n",
       "std            0.092586          0.082014  \n",
       "min            0.000000          0.000000  \n",
       "25%            0.000000          0.000000  \n",
       "50%            0.000000          0.000000  \n",
       "75%            0.000000          0.000000  \n",
       "max            1.000000          1.000000  "
      ]
     },
     "execution_count": 29,
     "metadata": {},
     "output_type": "execute_result"
    }
   ],
   "source": [
    "df.describe()"
   ]
  },
  {
   "cell_type": "code",
   "execution_count": 30,
   "metadata": {},
   "outputs": [
    {
     "data": {
      "text/plain": [
       "Index(['id', 'd', 'sold', 'wday', 'month', 'year', 'snap_CA', 'snap_TX',\n",
       "       'snap_WI', 'sell_price', 'Cultural', 'National', 'Religious',\n",
       "       'Sporting', 'NoEvent', 'Christmas', 'weekend', 'midweek', 'monfri',\n",
       "       'FOODS_1', 'FOODS_2', 'FOODS_3', 'HOBBIES_1', 'HOBBIES_2',\n",
       "       'HOUSEHOLD_1', 'HOUSEHOLD_2', 'FOODS', 'HOBBIES', 'HOUSEHOLD', 'CA_1',\n",
       "       'CA_2', 'CA_3', 'CA_4', 'TX_1', 'TX_2', 'TX_3', 'WI_1', 'WI_2', 'WI_3',\n",
       "       'CA', 'TX', 'WI', 'rolling_mean_7_1', 'rolling_mean_28_1',\n",
       "       'rolling_std_7_1', 'rolling_std_28_1', 'rolling_mean_4_1',\n",
       "       'rolling_mean_8_1', 'sold_lag_1', 'sold_lag_7', 'sold_lag_28',\n",
       "       'price_diff', 'price_increase', 'price_decrease', 'price_increase_7',\n",
       "       'price_decrease_7'],\n",
       "      dtype='object')"
      ]
     },
     "execution_count": 30,
     "metadata": {},
     "output_type": "execute_result"
    }
   ],
   "source": [
    "df.columns"
   ]
  },
  {
   "cell_type": "code",
   "execution_count": 31,
   "metadata": {},
   "outputs": [],
   "source": [
    "\n",
    "df_item = df.loc[df.id == \"FOODS_2_360_TX_3_validation\"]\n",
    "df_test = df.loc[df.d > 1200/num]\n",
    "df = df.loc[df.d <= 1200/num]"
   ]
  },
  {
   "cell_type": "code",
   "execution_count": 14,
   "metadata": {},
   "outputs": [
    {
     "data": {
      "text/plain": [
       "((758905, 56), (89515, 56), (1244, 56))"
      ]
     },
     "execution_count": 14,
     "metadata": {},
     "output_type": "execute_result"
    }
   ],
   "source": [
    "df.shape, df_test.shape, df_item.shape"
   ]
  },
  {
   "cell_type": "code",
   "execution_count": 15,
   "metadata": {},
   "outputs": [
    {
     "data": {
      "text/plain": [
       "Index(['id', 'd', 'sold', 'wday', 'month', 'year', 'snap_CA', 'snap_TX',\n",
       "       'snap_WI', 'sell_price', 'Cultural', 'National', 'Religious',\n",
       "       'Sporting', 'NoEvent', 'Christmas', 'weekend', 'midweek', 'monfri',\n",
       "       'FOODS_1', 'FOODS_2', 'FOODS_3', 'HOBBIES_1', 'HOBBIES_2',\n",
       "       'HOUSEHOLD_1', 'HOUSEHOLD_2', 'FOODS', 'HOBBIES', 'HOUSEHOLD', 'CA_1',\n",
       "       'CA_2', 'CA_3', 'CA_4', 'TX_1', 'TX_2', 'TX_3', 'WI_1', 'WI_2', 'WI_3',\n",
       "       'CA', 'TX', 'WI', 'rolling_mean_7_1', 'rolling_mean_28_1',\n",
       "       'rolling_std_7_1', 'rolling_std_28_1', 'rolling_mean_4_1',\n",
       "       'rolling_mean_8_1', 'sold_lag_1', 'sold_lag_7', 'sold_lag_28',\n",
       "       'price_diff', 'price_increase', 'price_decrease', 'price_increase_7',\n",
       "       'price_decrease_7'],\n",
       "      dtype='object')"
      ]
     },
     "execution_count": 15,
     "metadata": {},
     "output_type": "execute_result"
    }
   ],
   "source": [
    "df.columns"
   ]
  },
  {
   "cell_type": "code",
   "execution_count": 16,
   "metadata": {},
   "outputs": [
    {
     "data": {
      "text/plain": [
       "98"
      ]
     },
     "execution_count": 16,
     "metadata": {},
     "output_type": "execute_result"
    }
   ],
   "source": [
    "len(set(df_test.d))"
   ]
  },
  {
   "cell_type": "markdown",
   "metadata": {},
   "source": [
    "## Means"
   ]
  },
  {
   "cell_type": "code",
   "execution_count": 187,
   "metadata": {},
   "outputs": [],
   "source": [
    "df[\"sold\"] = df[\"sold\"].astype(float)"
   ]
  },
  {
   "cell_type": "code",
   "execution_count": 188,
   "metadata": {},
   "outputs": [],
   "source": [
    "df_means = df.groupby(\"id\", as_index = False).mean()"
   ]
  },
  {
   "cell_type": "code",
   "execution_count": 190,
   "metadata": {},
   "outputs": [],
   "source": [
    "preds = []\n",
    "for index, row in df.iterrows():\n",
    "    preds.append(df_means.loc[df_means.id == row.id].sold)"
   ]
  },
  {
   "cell_type": "code",
   "execution_count": null,
   "metadata": {},
   "outputs": [],
   "source": [
    "mean_squared_error(preds, df.sold.values)"
   ]
  },
  {
   "cell_type": "markdown",
   "metadata": {},
   "source": [
    "### Setting up "
   ]
  },
  {
   "cell_type": "code",
   "execution_count": 17,
   "metadata": {},
   "outputs": [],
   "source": [
    "df.drop(['id'], axis=1, inplace=True) #Drop the id column"
   ]
  },
  {
   "cell_type": "code",
   "execution_count": 18,
   "metadata": {},
   "outputs": [],
   "source": [
    "\n",
    "y = df.pop(\"sold\")\n",
    "y = y.values\n",
    "y = y.astype(float)\n"
   ]
  },
  {
   "cell_type": "code",
   "execution_count": 19,
   "metadata": {},
   "outputs": [],
   "source": [
    "df = df.astype(float)"
   ]
  },
  {
   "cell_type": "markdown",
   "metadata": {},
   "source": [
    "## feature selection"
   ]
  },
  {
   "cell_type": "code",
   "execution_count": 199,
   "metadata": {},
   "outputs": [
    {
     "name": "stdout",
     "output_type": "stream",
     "text": [
      "Religious 0.9795828745939195\n",
      "NoEvent 0.8740215056190022\n",
      "weekend 0.8342523344409017\n",
      "FOODS_3 0.7861870536407058\n",
      "CA_2 0.7818621842234851\n",
      "WI_1 0.7196380847658042\n",
      "HOUSEHOLD_1 0.7150982858087367\n",
      "HOBBIES_1 0.710968554063756\n",
      "CA 0.7008901794658124\n",
      "TX_2 0.9864281063786154\n",
      "FOODS 0.6989656191463778\n",
      "TX_3 0.6868360337575533\n",
      "WI_2 0.6870651959003944\n",
      "Sporting 0.6212678232968412\n",
      "sold_lag_7 0.5850061096429136\n",
      "TX_1 0.5168490573674498\n",
      "HOUSEHOLD 0.5051997533920446\n",
      "CA_3 0.31977722286007704\n",
      "WI 0.4518031991324901\n",
      "CA_4 0.4545131333356883\n",
      "CA_1 0.5335421395914204\n",
      "HOBBIES 0.287956850023127\n",
      "TX 0.24923180200879758\n",
      "year 0.22952722066904654\n",
      "month 0.96605394489204\n",
      "d 0.42991783857515975\n",
      "WI_3 0.19118258577984615\n",
      "FOODS_1 0.05882961820248451\n",
      "HOUSEHOLD_2 0.06945695448088542\n",
      "HOBBIES_2 0.09494922280405116\n"
     ]
    }
   ],
   "source": [
    "\n",
    "remove = True\n",
    "while remove == True:\n",
    "    mod = sm.OLS(y, df)\n",
    "    res = mod.fit()\n",
    "    pval = pd.DataFrame(res.pvalues)\n",
    "    if len(pval.loc[pval[0] > 0.05]) == 0:\n",
    "        remove = False\n",
    "    else:\n",
    "        worst_col = pval.loc[pval[0] > 0.05].T.columns[pval.loc[pval[0] > 0.05][0].argmax()]\n",
    "        print(worst_col , pval.loc[pval[0] > 0.05].max()[0])\n",
    "        df = df.drop([worst_col], axis = 1)\n",
    "        df_test = df_test.drop([worst_col], axis = 1)\n",
    "        \n",
    "    "
   ]
  },
  {
   "cell_type": "code",
   "execution_count": 200,
   "metadata": {},
   "outputs": [
    {
     "data": {
      "text/plain": [
       "Index(['wday', 'snap_CA', 'snap_TX', 'snap_WI', 'sell_price', 'Cultural',\n",
       "       'National', 'Christmas', 'midweek', 'monfri', 'FOODS_2',\n",
       "       'rolling_mean_7_1', 'rolling_mean_28_1', 'rolling_mean_365_1',\n",
       "       'rolling_std_7_1', 'rolling_std_28_1', 'rolling_std_365_1',\n",
       "       'rolling_mean_4_1', 'rolling_mean_8_1', 'rolling_mean_52_1',\n",
       "       'sold_lag_1', 'sold_lag_28', 'sold_lag_365', 'price_diff',\n",
       "       'price_increase', 'price_decrease', 'price_increase_7',\n",
       "       'price_decrease_7'],\n",
       "      dtype='object')"
      ]
     },
     "execution_count": 200,
     "metadata": {},
     "output_type": "execute_result"
    }
   ],
   "source": [
    "df.columns"
   ]
  },
  {
   "cell_type": "code",
   "execution_count": 20,
   "metadata": {},
   "outputs": [],
   "source": [
    "\n",
    "X = df.values\n"
   ]
  },
  {
   "cell_type": "code",
   "execution_count": 21,
   "metadata": {},
   "outputs": [
    {
     "data": {
      "text/plain": [
       "(758905, 54)"
      ]
     },
     "execution_count": 21,
     "metadata": {},
     "output_type": "execute_result"
    }
   ],
   "source": [
    "X.shape"
   ]
  },
  {
   "cell_type": "code",
   "execution_count": null,
   "metadata": {},
   "outputs": [],
   "source": []
  },
  {
   "cell_type": "markdown",
   "metadata": {},
   "source": [
    "## 3. Setting up loaders"
   ]
  },
  {
   "cell_type": "code",
   "execution_count": 22,
   "metadata": {},
   "outputs": [],
   "source": [
    "X, y = torch.FloatTensor(X), torch.FloatTensor(y)"
   ]
  },
  {
   "cell_type": "code",
   "execution_count": 23,
   "metadata": {},
   "outputs": [],
   "source": [
    "#Train/test split\n",
    "X_train, X_test, y_train, y_test = train_test_split(X, y, test_size=0.20, random_state=42)"
   ]
  },
  {
   "cell_type": "code",
   "execution_count": 24,
   "metadata": {},
   "outputs": [
    {
     "data": {
      "text/plain": [
       "(torch.Size([607124, 54]), torch.Size([607124]))"
      ]
     },
     "execution_count": 24,
     "metadata": {},
     "output_type": "execute_result"
    }
   ],
   "source": [
    "X_train.shape, y_train.shape"
   ]
  },
  {
   "cell_type": "code",
   "execution_count": 25,
   "metadata": {},
   "outputs": [],
   "source": [
    "# create data loaders\n",
    "\n",
    "from torch.utils import data\n",
    "\n",
    "traindataset = data.TensorDataset(X_train, y_train) # create your datset\n",
    "trainloader = data.DataLoader(traindataset, batch_size=1024, shuffle=True) # create your dataloader\n",
    "\n",
    "\n",
    "testdataset = data.TensorDataset(X_test,y_test) # create your datset\n",
    "testloader = data.DataLoader(testdataset, batch_size=1024, shuffle=True) # create your dataloader\n",
    "\n"
   ]
  },
  {
   "cell_type": "markdown",
   "metadata": {},
   "source": [
    "## 4. Building neural net"
   ]
  },
  {
   "cell_type": "code",
   "execution_count": 26,
   "metadata": {},
   "outputs": [],
   "source": [
    "# define baseline model\n",
    "class BaselineModel(nn.Module):\n",
    "    def __init__(self, input_size, hidden_size):\n",
    "        super(BaselineModel, self).__init__()\n",
    "        self.fc1 = nn.Linear(input_size, hidden_size) \n",
    "        self.fc2 = nn.Linear(hidden_size, hidden_size)\n",
    "        self.fc3 = nn.Linear(hidden_size, hidden_size)\n",
    "        self.fc4 = nn.Linear(hidden_size, hidden_size)\n",
    "        self.fc5 = nn.Linear(hidden_size, 1)  \n",
    "    \n",
    "    def forward(self, x):\n",
    "        out = self.fc1(x)\n",
    "        out = F.relu(out)\n",
    "        out = self.fc2(out)\n",
    "        out = F.relu(out)\n",
    "        out = self.fc3(out)\n",
    "        out = F.relu(out)\n",
    "        out = self.fc4(out)\n",
    "        out = F.relu(out)\n",
    "        out = self.fc5(out)\n",
    "        \n",
    "        return out"
   ]
  },
  {
   "cell_type": "code",
   "execution_count": 27,
   "metadata": {},
   "outputs": [],
   "source": [
    "from torchbearer import Trial\n",
    "import torchbearer\n",
    "from sklearn.metrics import mean_squared_error"
   ]
  },
  {
   "cell_type": "code",
   "execution_count": 28,
   "metadata": {},
   "outputs": [
    {
     "name": "stdout",
     "output_type": "stream",
     "text": [
      "Epoch 0, loss 7.29, test loss 6.48\n"
     ]
    },
    {
     "ename": "KeyboardInterrupt",
     "evalue": "",
     "output_type": "error",
     "traceback": [
      "\u001b[1;31m---------------------------------------------------------------------------\u001b[0m",
      "\u001b[1;31mKeyboardInterrupt\u001b[0m                         Traceback (most recent call last)",
      "\u001b[1;32m<ipython-input-28-e218908d4bcc>\u001b[0m in \u001b[0;36m<module>\u001b[1;34m\u001b[0m\n\u001b[0;32m     23\u001b[0m         \u001b[0moutputs\u001b[0m \u001b[1;33m=\u001b[0m \u001b[0moutputs\u001b[0m\u001b[1;33m.\u001b[0m\u001b[0mflatten\u001b[0m\u001b[1;33m(\u001b[0m\u001b[1;33m)\u001b[0m\u001b[1;33m\u001b[0m\u001b[1;33m\u001b[0m\u001b[0m\n\u001b[0;32m     24\u001b[0m         \u001b[0mloss\u001b[0m \u001b[1;33m=\u001b[0m \u001b[0mloss_function\u001b[0m\u001b[1;33m(\u001b[0m\u001b[0moutputs\u001b[0m\u001b[1;33m,\u001b[0m \u001b[0mlabels\u001b[0m\u001b[1;33m)\u001b[0m\u001b[1;33m\u001b[0m\u001b[1;33m\u001b[0m\u001b[0m\n\u001b[1;32m---> 25\u001b[1;33m         \u001b[0mloss\u001b[0m\u001b[1;33m.\u001b[0m\u001b[0mbackward\u001b[0m\u001b[1;33m(\u001b[0m\u001b[1;33m)\u001b[0m\u001b[1;33m\u001b[0m\u001b[1;33m\u001b[0m\u001b[0m\n\u001b[0m\u001b[0;32m     26\u001b[0m         \u001b[0moptimiser\u001b[0m\u001b[1;33m.\u001b[0m\u001b[0mstep\u001b[0m\u001b[1;33m(\u001b[0m\u001b[1;33m)\u001b[0m\u001b[1;33m\u001b[0m\u001b[1;33m\u001b[0m\u001b[0m\n\u001b[0;32m     27\u001b[0m \u001b[1;33m\u001b[0m\u001b[0m\n",
      "\u001b[1;32m~\\Anaconda3\\lib\\site-packages\\torch\\tensor.py\u001b[0m in \u001b[0;36mbackward\u001b[1;34m(self, gradient, retain_graph, create_graph, inputs)\u001b[0m\n\u001b[0;32m    243\u001b[0m                 \u001b[0mcreate_graph\u001b[0m\u001b[1;33m=\u001b[0m\u001b[0mcreate_graph\u001b[0m\u001b[1;33m,\u001b[0m\u001b[1;33m\u001b[0m\u001b[1;33m\u001b[0m\u001b[0m\n\u001b[0;32m    244\u001b[0m                 inputs=inputs)\n\u001b[1;32m--> 245\u001b[1;33m         \u001b[0mtorch\u001b[0m\u001b[1;33m.\u001b[0m\u001b[0mautograd\u001b[0m\u001b[1;33m.\u001b[0m\u001b[0mbackward\u001b[0m\u001b[1;33m(\u001b[0m\u001b[0mself\u001b[0m\u001b[1;33m,\u001b[0m \u001b[0mgradient\u001b[0m\u001b[1;33m,\u001b[0m \u001b[0mretain_graph\u001b[0m\u001b[1;33m,\u001b[0m \u001b[0mcreate_graph\u001b[0m\u001b[1;33m,\u001b[0m \u001b[0minputs\u001b[0m\u001b[1;33m=\u001b[0m\u001b[0minputs\u001b[0m\u001b[1;33m)\u001b[0m\u001b[1;33m\u001b[0m\u001b[1;33m\u001b[0m\u001b[0m\n\u001b[0m\u001b[0;32m    246\u001b[0m \u001b[1;33m\u001b[0m\u001b[0m\n\u001b[0;32m    247\u001b[0m     \u001b[1;32mdef\u001b[0m \u001b[0mregister_hook\u001b[0m\u001b[1;33m(\u001b[0m\u001b[0mself\u001b[0m\u001b[1;33m,\u001b[0m \u001b[0mhook\u001b[0m\u001b[1;33m)\u001b[0m\u001b[1;33m:\u001b[0m\u001b[1;33m\u001b[0m\u001b[1;33m\u001b[0m\u001b[0m\n",
      "\u001b[1;32m~\\Anaconda3\\lib\\site-packages\\torch\\autograd\\__init__.py\u001b[0m in \u001b[0;36mbackward\u001b[1;34m(tensors, grad_tensors, retain_graph, create_graph, grad_variables, inputs)\u001b[0m\n\u001b[0;32m    145\u001b[0m     Variable._execution_engine.run_backward(\n\u001b[0;32m    146\u001b[0m         \u001b[0mtensors\u001b[0m\u001b[1;33m,\u001b[0m \u001b[0mgrad_tensors_\u001b[0m\u001b[1;33m,\u001b[0m \u001b[0mretain_graph\u001b[0m\u001b[1;33m,\u001b[0m \u001b[0mcreate_graph\u001b[0m\u001b[1;33m,\u001b[0m \u001b[0minputs\u001b[0m\u001b[1;33m,\u001b[0m\u001b[1;33m\u001b[0m\u001b[1;33m\u001b[0m\u001b[0m\n\u001b[1;32m--> 147\u001b[1;33m         allow_unreachable=True, accumulate_grad=True)  # allow_unreachable flag\n\u001b[0m\u001b[0;32m    148\u001b[0m \u001b[1;33m\u001b[0m\u001b[0m\n\u001b[0;32m    149\u001b[0m \u001b[1;33m\u001b[0m\u001b[0m\n",
      "\u001b[1;31mKeyboardInterrupt\u001b[0m: "
     ]
    }
   ],
   "source": [
    "# build the model \n",
    "model = BaselineModel(X_train.shape[1], 512)\n",
    "\n",
    "# define the loss function and the optimiser\n",
    "loss_function = nn.MSELoss()\n",
    "optimiser = optim.Adam(model.parameters())\n",
    "\n",
    "loss_plot = []\n",
    "loss_eval = []\n",
    "# the epoch loop\n",
    "for epoch in range(20):\n",
    "    running_loss = 0.0\n",
    "\n",
    "    for data in trainloader:\n",
    "        # get the inputs\n",
    "        inputs, labels = data\n",
    "\n",
    "        # zero the parameter gradients\n",
    "        optimiser.zero_grad()\n",
    "\n",
    "        # forward + loss + backward + optimise (update weights)\n",
    "        outputs = model(inputs)\n",
    "        outputs = outputs.flatten()\n",
    "        loss = loss_function(outputs, labels)\n",
    "        loss.backward()\n",
    "        optimiser.step()\n",
    "\n",
    "        # keep track of the loss this epoch\n",
    "        running_loss += loss.item()\n",
    "    loss_plot.append(running_loss/len(trainloader))\n",
    "    \n",
    "    model.eval()\n",
    "    mse = 0\n",
    "    for index, i in enumerate(testloader):\n",
    "\n",
    "        inputs, labels = i\n",
    "          \n",
    "        outputs = model(inputs)\n",
    "        outputs = outputs.detach().numpy()\n",
    "        mse += mean_squared_error(labels, outputs)\n",
    "    loss_eval.append(mse/len(testloader))\n",
    "    \n",
    "    \n",
    "    print(\"Epoch %d, loss %4.2f, test loss %4.2f\" % (epoch, running_loss/len(trainloader), mse/len(testloader)))\n",
    "print('**** Finished Training ****')\n"
   ]
  },
  {
   "cell_type": "code",
   "execution_count": null,
   "metadata": {},
   "outputs": [],
   "source": [
    "import matplotlib.pyplot as plt\n",
    "plt.plot(loss_plot, label = \"Training\")\n",
    "plt.plot(loss_eval, label = \"Testing\")\n",
    "plt.xlabel(\"Epoch\")\n",
    "plt.ylabel(\"Loss\")\n",
    "plt.legend()"
   ]
  },
  {
   "cell_type": "markdown",
   "metadata": {},
   "source": [
    "## Testing Model 1200-1300"
   ]
  },
  {
   "cell_type": "code",
   "execution_count": 40,
   "metadata": {},
   "outputs": [],
   "source": [
    "def prepare(df):\n",
    "    df= df.drop(\"id\", axis = 1)\n",
    "    y = df.pop(\"sold\")\n",
    "    y =  torch.FloatTensor(y.values.astype(float))\n",
    "    return(df, y)"
   ]
  },
  {
   "cell_type": "code",
   "execution_count": 41,
   "metadata": {},
   "outputs": [],
   "source": [
    "df_test, y_test= prepare(df_test)"
   ]
  },
  {
   "cell_type": "code",
   "execution_count": 42,
   "metadata": {},
   "outputs": [],
   "source": [
    "def evaluate(model, df, y):\n",
    "    model.eval()\n",
    "\n",
    "    preds = []\n",
    "    for index, i in enumerate( torch.FloatTensor(df.values.astype(float))):\n",
    "        inputs = i\n",
    "        label = y[index]\n",
    "\n",
    "        outputs = model(inputs)\n",
    "        outputs = outputs.detach().numpy()\n",
    "        preds.append(outputs)\n",
    "    preds = np.asarray(preds)\n",
    "    preds.shape = (preds.shape[0],)\n",
    "    return(preds)"
   ]
  },
  {
   "cell_type": "code",
   "execution_count": 43,
   "metadata": {},
   "outputs": [],
   "source": [
    "preds_test = evaluate(model, df_test, y_test)"
   ]
  },
  {
   "cell_type": "code",
   "execution_count": 44,
   "metadata": {},
   "outputs": [
    {
     "data": {
      "text/plain": [
       "3.6230893"
      ]
     },
     "execution_count": 44,
     "metadata": {},
     "output_type": "execute_result"
    }
   ],
   "source": [
    "mean_squared_error(preds_test, y_test)"
   ]
  },
  {
   "cell_type": "markdown",
   "metadata": {},
   "source": [
    "## Means"
   ]
  },
  {
   "cell_type": "code",
   "execution_count": 45,
   "metadata": {},
   "outputs": [
    {
     "ename": "AttributeError",
     "evalue": "'Series' object has no attribute 'id'",
     "output_type": "error",
     "traceback": [
      "\u001b[1;31m---------------------------------------------------------------------------\u001b[0m",
      "\u001b[1;31mAttributeError\u001b[0m                            Traceback (most recent call last)",
      "\u001b[1;32m<ipython-input-45-ab26c4d14bb6>\u001b[0m in \u001b[0;36m<module>\u001b[1;34m\u001b[0m\n\u001b[0;32m      1\u001b[0m \u001b[0mpreds\u001b[0m \u001b[1;33m=\u001b[0m \u001b[1;33m[\u001b[0m\u001b[1;33m]\u001b[0m\u001b[1;33m\u001b[0m\u001b[1;33m\u001b[0m\u001b[0m\n\u001b[0;32m      2\u001b[0m \u001b[1;32mfor\u001b[0m \u001b[0mindex\u001b[0m\u001b[1;33m,\u001b[0m \u001b[0mrow\u001b[0m \u001b[1;32min\u001b[0m \u001b[0mdf_test\u001b[0m\u001b[1;33m.\u001b[0m\u001b[0miterrows\u001b[0m\u001b[1;33m(\u001b[0m\u001b[1;33m)\u001b[0m\u001b[1;33m:\u001b[0m\u001b[1;33m\u001b[0m\u001b[1;33m\u001b[0m\u001b[0m\n\u001b[1;32m----> 3\u001b[1;33m     \u001b[0mpreds\u001b[0m\u001b[1;33m.\u001b[0m\u001b[0mappend\u001b[0m\u001b[1;33m(\u001b[0m\u001b[0mdf_means\u001b[0m\u001b[1;33m.\u001b[0m\u001b[0mloc\u001b[0m\u001b[1;33m[\u001b[0m\u001b[0mdf_means\u001b[0m\u001b[1;33m.\u001b[0m\u001b[0mid\u001b[0m \u001b[1;33m==\u001b[0m \u001b[0mrow\u001b[0m\u001b[1;33m.\u001b[0m\u001b[0mid\u001b[0m\u001b[1;33m]\u001b[0m\u001b[1;33m.\u001b[0m\u001b[0msold\u001b[0m\u001b[1;33m)\u001b[0m\u001b[1;33m\u001b[0m\u001b[1;33m\u001b[0m\u001b[0m\n\u001b[0m",
      "\u001b[1;32m~\\Anaconda3\\lib\\site-packages\\pandas\\core\\generic.py\u001b[0m in \u001b[0;36m__getattr__\u001b[1;34m(self, name)\u001b[0m\n\u001b[0;32m   5139\u001b[0m             \u001b[1;32mif\u001b[0m \u001b[0mself\u001b[0m\u001b[1;33m.\u001b[0m\u001b[0m_info_axis\u001b[0m\u001b[1;33m.\u001b[0m\u001b[0m_can_hold_identifiers_and_holds_name\u001b[0m\u001b[1;33m(\u001b[0m\u001b[0mname\u001b[0m\u001b[1;33m)\u001b[0m\u001b[1;33m:\u001b[0m\u001b[1;33m\u001b[0m\u001b[1;33m\u001b[0m\u001b[0m\n\u001b[0;32m   5140\u001b[0m                 \u001b[1;32mreturn\u001b[0m \u001b[0mself\u001b[0m\u001b[1;33m[\u001b[0m\u001b[0mname\u001b[0m\u001b[1;33m]\u001b[0m\u001b[1;33m\u001b[0m\u001b[1;33m\u001b[0m\u001b[0m\n\u001b[1;32m-> 5141\u001b[1;33m             \u001b[1;32mreturn\u001b[0m \u001b[0mobject\u001b[0m\u001b[1;33m.\u001b[0m\u001b[0m__getattribute__\u001b[0m\u001b[1;33m(\u001b[0m\u001b[0mself\u001b[0m\u001b[1;33m,\u001b[0m \u001b[0mname\u001b[0m\u001b[1;33m)\u001b[0m\u001b[1;33m\u001b[0m\u001b[1;33m\u001b[0m\u001b[0m\n\u001b[0m\u001b[0;32m   5142\u001b[0m \u001b[1;33m\u001b[0m\u001b[0m\n\u001b[0;32m   5143\u001b[0m     \u001b[1;32mdef\u001b[0m \u001b[0m__setattr__\u001b[0m\u001b[1;33m(\u001b[0m\u001b[0mself\u001b[0m\u001b[1;33m,\u001b[0m \u001b[0mname\u001b[0m\u001b[1;33m:\u001b[0m \u001b[0mstr\u001b[0m\u001b[1;33m,\u001b[0m \u001b[0mvalue\u001b[0m\u001b[1;33m)\u001b[0m \u001b[1;33m->\u001b[0m \u001b[1;32mNone\u001b[0m\u001b[1;33m:\u001b[0m\u001b[1;33m\u001b[0m\u001b[1;33m\u001b[0m\u001b[0m\n",
      "\u001b[1;31mAttributeError\u001b[0m: 'Series' object has no attribute 'id'"
     ]
    }
   ],
   "source": [
    "preds = []\n",
    "for index, row in df_test.iterrows():\n",
    "    preds.append(df_means.loc[df_means.id == row.id].sold)"
   ]
  },
  {
   "cell_type": "code",
   "execution_count": null,
   "metadata": {},
   "outputs": [],
   "source": [
    "mean_squared_error(preds, y_test)"
   ]
  },
  {
   "cell_type": "markdown",
   "metadata": {},
   "source": [
    "## Department "
   ]
  },
  {
   "cell_type": "code",
   "execution_count": null,
   "metadata": {},
   "outputs": [],
   "source": [
    "def depMSE(col):\n",
    "    df_dep = df[(df[col] == 1)]\n",
    "    df_dep, y_dep = prepare(df_dep)\n",
    "    preds_dep = evaluate(model, df_dep, y_dep)\n",
    "    return(mean_squared_error(preds_dep, y_dep))"
   ]
  },
  {
   "cell_type": "code",
   "execution_count": null,
   "metadata": {},
   "outputs": [],
   "source": [
    "depMSE(\"FOODS\")"
   ]
  },
  {
   "cell_type": "code",
   "execution_count": null,
   "metadata": {},
   "outputs": [],
   "source": [
    "depMSE(\"HOUSEHOLD\")"
   ]
  },
  {
   "cell_type": "code",
   "execution_count": null,
   "metadata": {},
   "outputs": [],
   "source": [
    "depMSE(\"HOBBIES\")"
   ]
  },
  {
   "cell_type": "markdown",
   "metadata": {},
   "source": [
    "## Department Length STD and Mean"
   ]
  },
  {
   "cell_type": "code",
   "execution_count": null,
   "metadata": {},
   "outputs": [],
   "source": [
    "[len(df[(df[i] == 1)]) for i in [\"FOODS\", \"HOUSEHOLD\", \"HOBBIES\"]]"
   ]
  },
  {
   "cell_type": "code",
   "execution_count": 109,
   "metadata": {},
   "outputs": [
    {
     "data": {
      "text/plain": [
       "[2.22, 0.83, 0.33]"
      ]
     },
     "execution_count": 109,
     "metadata": {},
     "output_type": "execute_result"
    }
   ],
   "source": [
    "[round((df.sold[(df[i] == 1)]).values.mean(), 2) for i in [\"FOODS\", \"HOUSEHOLD\", \"HOBBIES\"]]"
   ]
  },
  {
   "cell_type": "code",
   "execution_count": 110,
   "metadata": {},
   "outputs": [
    {
     "data": {
      "text/plain": [
       "[5.51, 1.64, 0.79]"
      ]
     },
     "execution_count": 110,
     "metadata": {},
     "output_type": "execute_result"
    }
   ],
   "source": [
    "[round((df.sold[(df[i] == 1)]).values.std(), 2) for i in [\"FOODS\", \"HOUSEHOLD\", \"HOBBIES\"]]"
   ]
  },
  {
   "cell_type": "markdown",
   "metadata": {},
   "source": [
    "## MSE BY STATE"
   ]
  },
  {
   "cell_type": "code",
   "execution_count": 116,
   "metadata": {},
   "outputs": [
    {
     "data": {
      "text/plain": [
       "(8.450689, 4.255197, 1.2261016)"
      ]
     },
     "execution_count": 116,
     "metadata": {},
     "output_type": "execute_result"
    }
   ],
   "source": [
    "depMSE(\"TX\"), depMSE(\"CA\"), depMSE(\"WI\")"
   ]
  },
  {
   "cell_type": "code",
   "execution_count": 117,
   "metadata": {},
   "outputs": [
    {
     "data": {
      "text/plain": [
       "[14815, 22819, 13616]"
      ]
     },
     "execution_count": 117,
     "metadata": {},
     "output_type": "execute_result"
    }
   ],
   "source": [
    "[len(df[(df[i] == 1)]) for i in [\"TX\", \"CA\", \"WI\"]]"
   ]
  },
  {
   "cell_type": "code",
   "execution_count": 118,
   "metadata": {},
   "outputs": [
    {
     "data": {
      "text/plain": [
       "[2.16, 1.51, 0.6]"
      ]
     },
     "execution_count": 118,
     "metadata": {},
     "output_type": "execute_result"
    }
   ],
   "source": [
    "[round((df.sold[(df[i] == 1)]).values.mean(), 2) for i in [\"TX\", \"CA\", \"WI\"]]"
   ]
  },
  {
   "cell_type": "code",
   "execution_count": 119,
   "metadata": {},
   "outputs": [
    {
     "data": {
      "text/plain": [
       "[6.45, 3.14, 1.28]"
      ]
     },
     "execution_count": 119,
     "metadata": {},
     "output_type": "execute_result"
    }
   ],
   "source": [
    "[round((df.sold[(df[i] == 1)]).values.std(), 2) for i in [\"TX\", \"CA\", \"WI\"]]"
   ]
  },
  {
   "cell_type": "markdown",
   "metadata": {},
   "source": [
    "## TESTING FOODS_2_360_TX_3 predictions.xlsx"
   ]
  },
  {
   "cell_type": "code",
   "execution_count": 34,
   "metadata": {},
   "outputs": [],
   "source": [
    "df_item = df_item.drop(\"id\", axis = 1)"
   ]
  },
  {
   "cell_type": "code",
   "execution_count": 35,
   "metadata": {},
   "outputs": [],
   "source": [
    "y_item = df_item.pop(\"sold\")"
   ]
  },
  {
   "cell_type": "code",
   "execution_count": 36,
   "metadata": {},
   "outputs": [],
   "source": [
    "y_item =  torch.FloatTensor(y_item.values.astype(float))"
   ]
  },
  {
   "cell_type": "code",
   "execution_count": 49,
   "metadata": {},
   "outputs": [],
   "source": [
    "model.eval()\n",
    "\n",
    "preds = []\n",
    "for index, i in enumerate( torch.FloatTensor(df_item.values[-100:].astype(float))):\n",
    "    inputs = i\n",
    "    label = y_item[index]\n",
    "\n",
    "    outputs = model(inputs)\n",
    "    outputs = outputs.detach().numpy()\n",
    "    preds.append(outputs)\n"
   ]
  },
  {
   "cell_type": "code",
   "execution_count": 50,
   "metadata": {},
   "outputs": [
    {
     "data": {
      "text/plain": [
       "100"
      ]
     },
     "execution_count": 50,
     "metadata": {},
     "output_type": "execute_result"
    }
   ],
   "source": [
    "len(preds)"
   ]
  },
  {
   "cell_type": "code",
   "execution_count": null,
   "metadata": {},
   "outputs": [],
   "source": []
  },
  {
   "cell_type": "code",
   "execution_count": 51,
   "metadata": {},
   "outputs": [],
   "source": [
    "m = np.asarray([df_means.loc[df_means.id == \"FOODS_2_360_TX_3_validation\"].sold.values] * 100)"
   ]
  },
  {
   "cell_type": "code",
   "execution_count": 52,
   "metadata": {},
   "outputs": [],
   "source": [
    "m.shape = (100,)"
   ]
  },
  {
   "cell_type": "code",
   "execution_count": 66,
   "metadata": {},
   "outputs": [],
   "source": [
    "preds = pd.read_excel(\"FOODS_2_360_TX_3 predictions.xlsx\",  engine='openpyxl').values[:, :-3]\n",
    "\n",
    "# preds.shape = (100,)"
   ]
  },
  {
   "cell_type": "code",
   "execution_count": 67,
   "metadata": {},
   "outputs": [
    {
     "data": {
      "text/plain": [
       "(4, 98)"
      ]
     },
     "execution_count": 67,
     "metadata": {},
     "output_type": "execute_result"
    }
   ],
   "source": [
    "preds.shape"
   ]
  },
  {
   "cell_type": "code",
   "execution_count": 68,
   "metadata": {},
   "outputs": [
    {
     "data": {
      "text/plain": [
       "1242"
      ]
     },
     "execution_count": 68,
     "metadata": {},
     "output_type": "execute_result"
    }
   ],
   "source": [
    "len(set(df_item.d))"
   ]
  },
  {
   "cell_type": "code",
   "execution_count": 78,
   "metadata": {},
   "outputs": [
    {
     "data": {
      "text/plain": [
       "<matplotlib.legend.Legend at 0x187b27d0ec8>"
      ]
     },
     "execution_count": 78,
     "metadata": {},
     "output_type": "execute_result"
    },
    {
     "data": {
      "image/png": "[encoded data removed]",
      "text/plain": [
       "<Figure size 720x504 with 1 Axes>"
      ]
     },
     "metadata": {
      "needs_background": "light"
     },
     "output_type": "display_data"
    }
   ],
   "source": [
    "import matplotlib.pyplot as plt\n",
    "plt.figure(figsize = (10,7))\n",
    "plt.plot([i for i in range(1200, 1298)], preds[2], label = \"Neural Network\", c = \"C4\")\n",
    "#plt.plot([i for i in range(1200, 1298)], preds[3], label = \"Linear Regression\", c = \"C3\")\n",
    "#plt.plot([i for i in range(1200, 1298)], preds[1], label = \"SVR\", c = \"C0\")\n",
    "plt.plot([i for i in range(1150, 1298)], y_item[-148:], label = \"Real Sales\", c = \"C1\", linestyle=\"-\", alpha = 0.4)\n",
    "plt.axvline(1200, c = \"r\")\n",
    "plt.plot([i for i in range(1200, 1298)],preds[0], label = \"Mean\", c = \"C2\")\n",
    "plt.xlabel(\"Day\")\n",
    "plt.ylabel(\"Number of Sales of FOODS_2_360_TX_3\")\n",
    "plt.legend()"
   ]
  },
  {
   "cell_type": "code",
   "execution_count": 211,
   "metadata": {},
   "outputs": [],
   "source": [
    "preds = np.asarray(preds)"
   ]
  },
  {
   "cell_type": "code",
   "execution_count": 125,
   "metadata": {},
   "outputs": [],
   "source": [
    "preds.shape = (100,)"
   ]
  },
  {
   "cell_type": "code",
   "execution_count": 134,
   "metadata": {},
   "outputs": [],
   "source": [
    "df_pred = pd.DataFrame(preds).T"
   ]
  },
  {
   "cell_type": "code",
   "execution_count": 139,
   "metadata": {},
   "outputs": [],
   "source": [
    "df_pred.to_excel(\"FOODS_2_360_TX_3 predictions.xlsx\", index = False)"
   ]
  },
  {
   "cell_type": "code",
   "execution_count": 212,
   "metadata": {},
   "outputs": [],
   "source": [
    "df = pd.read_excel(\"FOODS_2_360_TX_3 predictions.xlsx\",  engine='openpyxl')"
   ]
  },
  {
   "cell_type": "code",
   "execution_count": 213,
   "metadata": {},
   "outputs": [
    {
     "data": {
      "text/html": [
       "<div>\n",
       "<style scoped>\n",
       "    .dataframe tbody tr th:only-of-type {\n",
       "        vertical-align: middle;\n",
       "    }\n",
       "\n",
       "    .dataframe tbody tr th {\n",
       "        vertical-align: top;\n",
       "    }\n",
       "\n",
       "    .dataframe thead th {\n",
       "        text-align: right;\n",
       "    }\n",
       "</style>\n",
       "<table border=\"1\" class=\"dataframe\">\n",
       "  <thead>\n",
       "    <tr style=\"text-align: right;\">\n",
       "      <th></th>\n",
       "      <th>0</th>\n",
       "      <th>1</th>\n",
       "      <th>2</th>\n",
       "      <th>3</th>\n",
       "      <th>4</th>\n",
       "      <th>5</th>\n",
       "      <th>6</th>\n",
       "      <th>7</th>\n",
       "      <th>8</th>\n",
       "      <th>9</th>\n",
       "      <th>...</th>\n",
       "      <th>90</th>\n",
       "      <th>91</th>\n",
       "      <th>92</th>\n",
       "      <th>93</th>\n",
       "      <th>94</th>\n",
       "      <th>95</th>\n",
       "      <th>96</th>\n",
       "      <th>97</th>\n",
       "      <th>98</th>\n",
       "      <th>99</th>\n",
       "    </tr>\n",
       "  </thead>\n",
       "  <tbody>\n",
       "    <tr>\n",
       "      <th>0</th>\n",
       "      <td>29.62118</td>\n",
       "      <td>20.697523</td>\n",
       "      <td>26.282949</td>\n",
       "      <td>23.723934</td>\n",
       "      <td>20.582651</td>\n",
       "      <td>20.892366</td>\n",
       "      <td>23.925562</td>\n",
       "      <td>18.570688</td>\n",
       "      <td>17.925602</td>\n",
       "      <td>15.371912</td>\n",
       "      <td>...</td>\n",
       "      <td>30.741135</td>\n",
       "      <td>24.644682</td>\n",
       "      <td>23.731657</td>\n",
       "      <td>20.104092</td>\n",
       "      <td>26.284115</td>\n",
       "      <td>23.300997</td>\n",
       "      <td>26.780066</td>\n",
       "      <td>27.07473</td>\n",
       "      <td>20.991177</td>\n",
       "      <td>15.175308</td>\n",
       "    </tr>\n",
       "  </tbody>\n",
       "</table>\n",
       "<p>1 rows × 100 columns</p>\n",
       "</div>"
      ],
      "text/plain": [
       "         0          1          2          3          4          5          6   \\\n",
       "0  29.62118  20.697523  26.282949  23.723934  20.582651  20.892366  23.925562   \n",
       "\n",
       "          7          8          9   ...         90         91         92  \\\n",
       "0  18.570688  17.925602  15.371912  ...  30.741135  24.644682  23.731657   \n",
       "\n",
       "          93         94         95         96        97         98         99  \n",
       "0  20.104092  26.284115  23.300997  26.780066  27.07473  20.991177  15.175308  \n",
       "\n",
       "[1 rows x 100 columns]"
      ]
     },
     "execution_count": 213,
     "metadata": {},
     "output_type": "execute_result"
    }
   ],
   "source": [
    "df"
   ]
  },
  {
   "cell_type": "code",
   "execution_count": 220,
   "metadata": {},
   "outputs": [],
   "source": [
    "df_withmean = pd.concat([df, pd.DataFrame(m).T], axis = 0)"
   ]
  },
  {
   "cell_type": "code",
   "execution_count": 221,
   "metadata": {},
   "outputs": [],
   "source": [
    "df_withmean.to_excel(\"FOODS_2_360_TX_3 predictions.xlsx\", index = False)"
   ]
  },
  {
   "cell_type": "code",
   "execution_count": 35,
   "metadata": {},
   "outputs": [],
   "source": [
    "# model.eval()\n",
    "# plt.figure(figsize = (10,10))\n",
    "# for index, i in enumerate(trainloader):\n",
    "#     if index < 1:\n",
    "#         inputs, labels = i\n",
    "          \n",
    "#         outputs = model(inputs)\n",
    "#         outputs = outputs.detach().numpy()\n",
    "#         plt.plot([i for i in range(len(labels))], labels, label = \"True Sales\")\n",
    "#         print(outputs)\n",
    "#         plt.plot(outputs, label = \"Predicted Sales\")\n",
    "#         plt.legend()\n",
    "# #         plt.ylim(0, 30)\n",
    "#         plt.xlim(0, 100)\n",
    "#         #print(inputs, labels)\n",
    "#     else:\n",
    "#         break"
   ]
  },
  {
   "cell_type": "code",
   "execution_count": 36,
   "metadata": {},
   "outputs": [],
   "source": [
    "# model.eval()\n",
    "# plt.figure(figsize = (10,10))\n",
    "# for index, i in enumerate(testloader):\n",
    "#     if index < 1:\n",
    "#         inputs, labels = i\n",
    "          \n",
    "#         outputs = model(inputs)\n",
    "#         outputs = outputs.detach().numpy()\n",
    "#         plt.plot([i for i in range(len(labels))], labels, label = \"True Sales\")\n",
    "#         print(outputs)\n",
    "#         plt.plot(outputs, label = \"Predicted Sales\")\n",
    "#         plt.legend()\n",
    "# #         plt.ylim(0, 30)\n",
    "#         plt.xlim(0, 100)\n",
    "#         #print(inputs, labels)\n",
    "#     else:\n",
    "#         break"
   ]
  },
  {
   "cell_type": "code",
   "execution_count": 28,
   "metadata": {},
   "outputs": [
    {
     "name": "stdout",
     "output_type": "stream",
     "text": [
      "Train:  4.504484135930131\n"
     ]
    }
   ],
   "source": [
    "model.eval()\n",
    "\n",
    "mse = 0\n",
    "\n",
    "for data in trainloader:\n",
    "    inputs, labels = data\n",
    "    \n",
    "    outputs = model(inputs)\n",
    "    \n",
    "    outputs = outputs.detach().numpy()\n",
    "    mse += mean_squared_error(labels, outputs)\n",
    "print(\"Train: \", mse/len(trainloader))"
   ]
  },
  {
   "cell_type": "code",
   "execution_count": 29,
   "metadata": {},
   "outputs": [
    {
     "name": "stdout",
     "output_type": "stream",
     "text": [
      "Test:  4.5568133050745185\n"
     ]
    }
   ],
   "source": [
    "model.eval()\n",
    "\n",
    "mse = 0\n",
    "\n",
    "for data in testloader:\n",
    "    inputs, labels = data\n",
    "    \n",
    "    outputs = model(inputs)\n",
    "    \n",
    "    outputs = outputs.detach().numpy()\n",
    "    mse += mean_squared_error(labels, outputs)\n",
    "print(\"Test: \", mse/len(testloader))"
   ]
  },
  {
   "cell_type": "code",
   "execution_count": null,
   "metadata": {},
   "outputs": [],
   "source": []
  },
  {
   "cell_type": "code",
   "execution_count": null,
   "metadata": {},
   "outputs": [],
   "source": []
  },
  {
   "cell_type": "markdown",
   "metadata": {},
   "source": [
    "## K-Fold "
   ]
  },
  {
   "cell_type": "code",
   "execution_count": 37,
   "metadata": {},
   "outputs": [],
   "source": [
    "def train_model(X_train, y_train, X_test, y_test):\n",
    "        \n",
    "        # create data loaders\n",
    "\n",
    "    from torch.utils import data\n",
    "    traindataset = data.TensorDataset(X_train, y_train) # create your datset\n",
    "    trainloader = data.DataLoader(traindataset, batch_size=1024, shuffle=True) # create your dataloader\n",
    "\n",
    "\n",
    "    testdataset = data.TensorDataset(X_test,y_test) # create your datset\n",
    "    testloader = data.DataLoader(testdataset, batch_size=1024, shuffle=True) # create your dataloader\n",
    "\n",
    "\n",
    "        \n",
    "        \n",
    "    # build the model \n",
    "    model = BaselineModel(X_train.shape[1], 512)\n",
    "\n",
    "    # define the loss function and the optimiser\n",
    "    loss_function = nn.MSELoss()\n",
    "    optimiser = optim.Adam(model.parameters())\n",
    "\n",
    "    loss_plot = []\n",
    "    loss_eval = []\n",
    "    # the epoch loop\n",
    "    for epoch in range(20):\n",
    "        running_loss = 0.0\n",
    "\n",
    "        for data in trainloader:\n",
    "            # get the inputs\n",
    "            inputs, labels = data\n",
    "\n",
    "            # zero the parameter gradients\n",
    "            optimiser.zero_grad()\n",
    "\n",
    "            # forward + loss + backward + optimise (update weights)\n",
    "            outputs = model(inputs)\n",
    "            outputs = outputs.flatten()\n",
    "            loss = loss_function(outputs, labels)\n",
    "            loss.backward()\n",
    "            optimiser.step()\n",
    "\n",
    "            # keep track of the loss this epoch\n",
    "            running_loss += loss.item()\n",
    "        loss_plot.append(running_loss/len(trainloader))\n",
    "\n",
    "        model.eval()\n",
    "        mse = 0\n",
    "        for index, i in enumerate(testloader):\n",
    "\n",
    "            inputs, labels = i\n",
    "\n",
    "            outputs = model(inputs)\n",
    "            outputs = outputs.detach().numpy()\n",
    "            mse += mean_squared_error(labels, outputs)\n",
    "        loss_eval.append(mse/len(testloader))\n",
    "\n",
    "\n",
    "        print(\"Epoch %d, loss %4.2f, test loss %4.2f\" % (epoch, running_loss/len(trainloader), mse/len(testloader)))\n",
    "    print('**** Finished Training ****')\n",
    "\n",
    "    return(loss_plot[-1], loss_eval[-1])\n",
    "\n"
   ]
  },
  {
   "cell_type": "code",
   "execution_count": 38,
   "metadata": {},
   "outputs": [],
   "source": [
    "from sklearn.model_selection import KFold\n",
    "from torch.utils import data\n",
    "kf5 = KFold(n_splits=6, shuffle=False)\n",
    "def kfold_val(X, Y):\n",
    "    res= []\n",
    "\n",
    "    for index, (train_index, test_index) in enumerate(kf5.split(range(len(X)))):\n",
    "        if index < 5:\n",
    "            res.append(train_model(X[train_index], Y[train_index],X[train_index], Y[train_index]))\n",
    "\n",
    "    return(np.array(res))"
   ]
  },
  {
   "cell_type": "code",
   "execution_count": 39,
   "metadata": {},
   "outputs": [
    {
     "name": "stdout",
     "output_type": "stream",
     "text": [
      "Epoch 0, loss 5.68, test loss 4.84\n",
      "Epoch 1, loss 4.88, test loss 4.90\n",
      "Epoch 2, loss 4.83, test loss 4.70\n",
      "Epoch 3, loss 4.85, test loss 4.71\n",
      "Epoch 4, loss 4.76, test loss 4.83\n",
      "Epoch 5, loss 4.86, test loss 5.20\n",
      "Epoch 6, loss 4.91, test loss 4.57\n",
      "Epoch 7, loss 4.66, test loss 4.48\n",
      "Epoch 8, loss 4.66, test loss 4.74\n",
      "Epoch 9, loss 4.54, test loss 4.39\n",
      "Epoch 10, loss 4.50, test loss 5.27\n",
      "Epoch 11, loss 4.49, test loss 4.26\n",
      "Epoch 12, loss 4.44, test loss 4.58\n",
      "Epoch 13, loss 4.57, test loss 5.20\n",
      "Epoch 14, loss 4.56, test loss 4.18\n",
      "Epoch 15, loss 4.42, test loss 4.27\n",
      "Epoch 16, loss 4.26, test loss 4.16\n",
      "Epoch 17, loss 4.19, test loss 4.13\n",
      "Epoch 18, loss 4.21, test loss 4.06\n",
      "Epoch 19, loss 4.37, test loss 4.82\n",
      "**** Finished Training ****\n",
      "Epoch 0, loss 6.82, test loss 6.49\n",
      "Epoch 1, loss 5.74, test loss 5.40\n",
      "Epoch 2, loss 5.37, test loss 5.32\n",
      "Epoch 3, loss 5.54, test loss 6.00\n",
      "Epoch 4, loss 5.50, test loss 5.31\n",
      "Epoch 5, loss 5.28, test loss 5.45\n",
      "Epoch 6, loss 5.39, test loss 5.23\n",
      "Epoch 7, loss 5.29, test loss 5.16\n",
      "Epoch 8, loss 5.18, test loss 4.98\n",
      "Epoch 9, loss 5.10, test loss 5.24\n",
      "Epoch 10, loss 5.28, test loss 4.83\n",
      "Epoch 11, loss 5.00, test loss 4.82\n",
      "Epoch 12, loss 5.07, test loss 4.87\n",
      "Epoch 13, loss 5.04, test loss 4.80\n",
      "Epoch 14, loss 4.93, test loss 4.78\n",
      "Epoch 15, loss 5.27, test loss 4.94\n",
      "Epoch 16, loss 4.90, test loss 4.68\n",
      "Epoch 17, loss 4.80, test loss 4.83\n",
      "Epoch 18, loss 4.78, test loss 4.76\n",
      "Epoch 19, loss 4.75, test loss 5.01\n",
      "**** Finished Training ****\n",
      "Epoch 0, loss 6.65, test loss 5.82\n",
      "Epoch 1, loss 5.42, test loss 5.22\n",
      "Epoch 2, loss 5.36, test loss 5.20\n",
      "Epoch 3, loss 5.26, test loss 5.19\n",
      "Epoch 4, loss 5.29, test loss 5.38\n",
      "Epoch 5, loss 5.20, test loss 5.12\n",
      "Epoch 6, loss 5.21, test loss 5.49\n",
      "Epoch 7, loss 5.31, test loss 5.23\n",
      "Epoch 8, loss 5.14, test loss 4.94\n",
      "Epoch 9, loss 5.20, test loss 4.96\n",
      "Epoch 10, loss 5.18, test loss 5.46\n",
      "Epoch 11, loss 5.06, test loss 4.93\n",
      "Epoch 12, loss 4.91, test loss 4.71\n",
      "Epoch 13, loss 5.01, test loss 5.56\n",
      "Epoch 14, loss 4.96, test loss 5.41\n",
      "Epoch 15, loss 4.95, test loss 4.93\n",
      "Epoch 16, loss 5.02, test loss 4.69\n",
      "Epoch 17, loss 4.84, test loss 4.60\n",
      "Epoch 18, loss 4.92, test loss 4.59\n",
      "Epoch 19, loss 4.73, test loss 4.99\n",
      "**** Finished Training ****\n",
      "Epoch 0, loss 6.88, test loss 5.26\n",
      "Epoch 1, loss 5.45, test loss 5.22\n",
      "Epoch 2, loss 5.32, test loss 5.21\n",
      "Epoch 3, loss 5.62, test loss 5.27\n",
      "Epoch 4, loss 5.26, test loss 5.42\n",
      "Epoch 5, loss 5.28, test loss 5.28\n",
      "Epoch 6, loss 5.22, test loss 5.79\n",
      "Epoch 7, loss 5.46, test loss 5.05\n",
      "Epoch 8, loss 5.11, test loss 5.11\n",
      "Epoch 9, loss 5.07, test loss 4.89\n",
      "Epoch 10, loss 5.23, test loss 4.81\n",
      "Epoch 11, loss 5.11, test loss 4.95\n",
      "Epoch 12, loss 4.94, test loss 4.88\n",
      "Epoch 13, loss 5.16, test loss 4.71\n",
      "Epoch 14, loss 4.95, test loss 4.71\n",
      "Epoch 15, loss 4.91, test loss 5.24\n",
      "Epoch 16, loss 4.81, test loss 4.62\n",
      "Epoch 17, loss 4.93, test loss 4.65\n",
      "Epoch 18, loss 4.71, test loss 4.81\n",
      "Epoch 19, loss 4.71, test loss 4.83\n",
      "**** Finished Training ****\n",
      "Epoch 0, loss 6.33, test loss 5.29\n",
      "Epoch 1, loss 5.42, test loss 5.27\n",
      "Epoch 2, loss 5.44, test loss 5.35\n",
      "Epoch 3, loss 5.34, test loss 5.14\n",
      "Epoch 4, loss 5.20, test loss 5.37\n",
      "Epoch 5, loss 5.11, test loss 5.01\n",
      "Epoch 6, loss 5.10, test loss 5.23\n",
      "Epoch 7, loss 5.21, test loss 5.16\n",
      "Epoch 8, loss 5.10, test loss 4.84\n",
      "Epoch 9, loss 4.88, test loss 4.72\n",
      "Epoch 10, loss 4.87, test loss 5.37\n",
      "Epoch 11, loss 5.24, test loss 4.90\n",
      "Epoch 12, loss 4.75, test loss 4.64\n",
      "Epoch 13, loss 4.86, test loss 4.63\n",
      "Epoch 14, loss 4.81, test loss 4.88\n",
      "Epoch 15, loss 4.68, test loss 4.54\n",
      "Epoch 16, loss 4.61, test loss 4.62\n",
      "Epoch 17, loss 4.73, test loss 4.45\n",
      "Epoch 18, loss 4.69, test loss 4.78\n",
      "Epoch 19, loss 4.57, test loss 4.49\n",
      "**** Finished Training ****\n"
     ]
    }
   ],
   "source": [
    "res = kfold_val(X, y)"
   ]
  },
  {
   "cell_type": "code",
   "execution_count": 40,
   "metadata": {},
   "outputs": [
    {
     "data": {
      "text/plain": [
       "array([[4.37453762, 4.81888207],\n",
       "       [4.75242199, 5.01156299],\n",
       "       [4.73216215, 4.99203589],\n",
       "       [4.71438932, 4.82818273],\n",
       "       [4.57204967, 4.48658351]])"
      ]
     },
     "execution_count": 40,
     "metadata": {},
     "output_type": "execute_result"
    }
   ],
   "source": [
    "res"
   ]
  },
  {
   "cell_type": "code",
   "execution_count": 41,
   "metadata": {},
   "outputs": [],
   "source": [
    "res = np.asarray(res)"
   ]
  },
  {
   "cell_type": "code",
   "execution_count": 42,
   "metadata": {},
   "outputs": [
    {
     "data": {
      "text/plain": [
       "(4.6291121505555655, 0.14224003308188585)"
      ]
     },
     "execution_count": 42,
     "metadata": {},
     "output_type": "execute_result"
    }
   ],
   "source": [
    "np.mean(res[:, 0]), np.std(res[:, 0])"
   ]
  },
  {
   "cell_type": "code",
   "execution_count": 43,
   "metadata": {},
   "outputs": [
    {
     "data": {
      "text/plain": [
       "(4.82744943641481, 0.1882817148730687)"
      ]
     },
     "execution_count": 43,
     "metadata": {},
     "output_type": "execute_result"
    }
   ],
   "source": [
    "np.mean(res[:, 1]), np.std(res[:, 1])"
   ]
  },
  {
   "cell_type": "code",
   "execution_count": null,
   "metadata": {},
   "outputs": [],
   "source": []
  },
  {
   "cell_type": "code",
   "execution_count": null,
   "metadata": {},
   "outputs": [],
   "source": []
  },
  {
   "cell_type": "code",
   "execution_count": null,
   "metadata": {},
   "outputs": [],
   "source": []
  },
  {
   "cell_type": "code",
   "execution_count": null,
   "metadata": {},
   "outputs": [],
   "source": []
  },
  {
   "cell_type": "code",
   "execution_count": null,
   "metadata": {},
   "outputs": [],
   "source": []
  },
  {
   "cell_type": "code",
   "execution_count": null,
   "metadata": {},
   "outputs": [],
   "source": []
  }
 ],
 "metadata": {
  "kernelspec": {
   "display_name": "Python 3",
   "language": "python",
   "name": "python3"
  },
  "language_info": {
   "codemirror_mode": {
    "name": "ipython",
    "version": 3
   },
   "file_extension": ".py",
   "mimetype": "text/x-python",
   "name": "python",
   "nbconvert_exporter": "python",
   "pygments_lexer": "ipython3",
   "version": "3.7.9"
  }
 },
 "nbformat": 4,
 "nbformat_minor": 4
}
