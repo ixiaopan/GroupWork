{
 "cells": [
  {
   "cell_type": "markdown",
   "metadata": {},
   "source": [
    "# Neural Network "
   ]
  },
  {
   "cell_type": "markdown",
   "metadata": {},
   "source": [
    "## 1. Imports"
   ]
  },
  {
   "cell_type": "code",
   "execution_count": 130,
   "metadata": {},
   "outputs": [],
   "source": [
    "import HelperFunctions as hf\n",
    "import numpy as np\n",
    "import pandas as pd\n",
    "from sklearn.preprocessing import StandardScaler\n",
    "from sklearn.preprocessing import MinMaxScaler\n",
    "from sklearn.model_selection import train_test_split\n",
    "import statsmodels.api as sm\n",
    "import torch\n",
    "import torch.optim as optim\n",
    "from torch import nn\n",
    "import torch.nn.functional as F"
   ]
  },
  {
   "cell_type": "markdown",
   "metadata": {},
   "source": [
    "## 2. Fetching and preparing data"
   ]
  },
  {
   "cell_type": "code",
   "execution_count": 131,
   "metadata": {},
   "outputs": [],
   "source": [
    "#Load in the raw data\n",
    "calendar_df = hf.load_calendar_data()\n",
    "prices_df = hf.load_sell_price_data()\n",
    "sales_df = hf.load_sales_train_validation_data()"
   ]
  },
  {
   "cell_type": "code",
   "execution_count": 132,
   "metadata": {},
   "outputs": [],
   "source": [
    "#Clean the raw data\n",
    "df = hf.rawToClean(sales_df, calendar_df, prices_df, days=1300, items=100, dropNAPrices=True)"
   ]
  },
  {
   "cell_type": "code",
   "execution_count": 133,
   "metadata": {},
   "outputs": [
    {
     "data": {
      "text/plain": [
       "(90854, 42)"
      ]
     },
     "execution_count": 133,
     "metadata": {},
     "output_type": "execute_result"
    }
   ],
   "source": [
    "df.shape"
   ]
  },
  {
   "cell_type": "code",
   "execution_count": 134,
   "metadata": {},
   "outputs": [],
   "source": [
    "df = hf.rollingMeanDemandFeature(df, windowSize=7, shift=1) #Mean of previous week\n",
    "df = hf.rollingMeanDemandFeature(df, windowSize=28, shift=1) #Mean of previous 28 days\n",
    "df = hf.rollingMeanDemandFeature(df, windowSize=365, shift=1) \n",
    "\n",
    "df = hf.rollingStdDemandFeature(df, windowSize=7, shift=1)\n",
    "df = hf.rollingStdDemandFeature(df, windowSize=28, shift=1)\n",
    "df = hf.rollingStdDemandFeature(df, windowSize=365, shift=1)"
   ]
  },
  {
   "cell_type": "code",
   "execution_count": 135,
   "metadata": {},
   "outputs": [],
   "source": [
    "df = hf.rollingMeanWeekday(df, weeks = 4, shift = 1) #mean of previous 3 weeks (for that particular weekday)\n",
    "df = hf.rollingMeanWeekday(df, weeks = 8, shift = 1) #mean of previous 3 weeks (for that particular weekday)\n",
    "df = hf.rollingMeanWeekday(df, weeks = 52, shift = 1) #mean of previous 3 weeks (for that particular weekday)"
   ]
  },
  {
   "cell_type": "code",
   "execution_count": 136,
   "metadata": {},
   "outputs": [],
   "source": [
    "df = hf.lagFeature(df, var='sold', lag=1) #Amount sold day before\n",
    "df = hf.lagFeature(df, var='sold', lag=7) #Amount sold a week before\n",
    "df = hf.lagFeature(df, var='sold', lag=28) #Amount sold 28 days before\n",
    "df = hf.lagFeature(df, var='sold', lag=365) #Amount sold 28 days before"
   ]
  },
  {
   "cell_type": "code",
   "execution_count": 137,
   "metadata": {},
   "outputs": [],
   "source": [
    "df.dropna(inplace=True) #Drop rows with NAs (as result of lagged features)"
   ]
  },
  {
   "cell_type": "code",
   "execution_count": 138,
   "metadata": {},
   "outputs": [
    {
     "data": {
      "text/html": [
       "<div>\n",
       "<style scoped>\n",
       "    .dataframe tbody tr th:only-of-type {\n",
       "        vertical-align: middle;\n",
       "    }\n",
       "\n",
       "    .dataframe tbody tr th {\n",
       "        vertical-align: top;\n",
       "    }\n",
       "\n",
       "    .dataframe thead th {\n",
       "        text-align: right;\n",
       "    }\n",
       "</style>\n",
       "<table border=\"1\" class=\"dataframe\">\n",
       "  <thead>\n",
       "    <tr style=\"text-align: right;\">\n",
       "      <th></th>\n",
       "      <th>sell_price</th>\n",
       "      <th>rolling_mean_7_1</th>\n",
       "      <th>rolling_mean_28_1</th>\n",
       "      <th>rolling_mean_365_1</th>\n",
       "      <th>rolling_std_7_1</th>\n",
       "      <th>rolling_std_28_1</th>\n",
       "      <th>rolling_std_365_1</th>\n",
       "      <th>rolling_mean_4_1</th>\n",
       "      <th>rolling_mean_8_1</th>\n",
       "      <th>rolling_mean_52_1</th>\n",
       "    </tr>\n",
       "  </thead>\n",
       "  <tbody>\n",
       "    <tr>\n",
       "      <th>count</th>\n",
       "      <td>56589.000000</td>\n",
       "      <td>56589.000000</td>\n",
       "      <td>56589.000000</td>\n",
       "      <td>56589.000000</td>\n",
       "      <td>5.658900e+04</td>\n",
       "      <td>56589.000000</td>\n",
       "      <td>5.658900e+04</td>\n",
       "      <td>56589.000000</td>\n",
       "      <td>56589.000000</td>\n",
       "      <td>56589.000000</td>\n",
       "    </tr>\n",
       "    <tr>\n",
       "      <th>mean</th>\n",
       "      <td>4.200771</td>\n",
       "      <td>1.429119</td>\n",
       "      <td>1.431855</td>\n",
       "      <td>1.491759</td>\n",
       "      <td>1.106652e+00</td>\n",
       "      <td>1.246270</td>\n",
       "      <td>1.478557e+00</td>\n",
       "      <td>1.433834</td>\n",
       "      <td>1.440112</td>\n",
       "      <td>1.492277</td>\n",
       "    </tr>\n",
       "    <tr>\n",
       "      <th>std</th>\n",
       "      <td>2.953065</td>\n",
       "      <td>3.608648</td>\n",
       "      <td>3.496928</td>\n",
       "      <td>3.549106</td>\n",
       "      <td>1.711430e+00</td>\n",
       "      <td>1.763194</td>\n",
       "      <td>1.950406e+00</td>\n",
       "      <td>3.646157</td>\n",
       "      <td>3.570370</td>\n",
       "      <td>3.575548</td>\n",
       "    </tr>\n",
       "    <tr>\n",
       "      <th>min</th>\n",
       "      <td>0.580000</td>\n",
       "      <td>0.000000</td>\n",
       "      <td>0.000000</td>\n",
       "      <td>0.000000</td>\n",
       "      <td>0.000000e+00</td>\n",
       "      <td>0.000000</td>\n",
       "      <td>1.104548e-09</td>\n",
       "      <td>0.000000</td>\n",
       "      <td>0.000000</td>\n",
       "      <td>0.000000</td>\n",
       "    </tr>\n",
       "    <tr>\n",
       "      <th>25%</th>\n",
       "      <td>1.980000</td>\n",
       "      <td>0.000000</td>\n",
       "      <td>0.142857</td>\n",
       "      <td>0.227397</td>\n",
       "      <td>3.392538e-07</td>\n",
       "      <td>0.390021</td>\n",
       "      <td>5.450777e-01</td>\n",
       "      <td>0.000000</td>\n",
       "      <td>0.125000</td>\n",
       "      <td>0.230769</td>\n",
       "    </tr>\n",
       "    <tr>\n",
       "      <th>50%</th>\n",
       "      <td>3.650000</td>\n",
       "      <td>0.428571</td>\n",
       "      <td>0.500000</td>\n",
       "      <td>0.575342</td>\n",
       "      <td>7.559289e-01</td>\n",
       "      <td>0.826160</td>\n",
       "      <td>9.789059e-01</td>\n",
       "      <td>0.500000</td>\n",
       "      <td>0.500000</td>\n",
       "      <td>0.576923</td>\n",
       "    </tr>\n",
       "    <tr>\n",
       "      <th>75%</th>\n",
       "      <td>5.220000</td>\n",
       "      <td>1.285714</td>\n",
       "      <td>1.250000</td>\n",
       "      <td>1.268493</td>\n",
       "      <td>1.345185e+00</td>\n",
       "      <td>1.452511</td>\n",
       "      <td>1.617364e+00</td>\n",
       "      <td>1.250000</td>\n",
       "      <td>1.250000</td>\n",
       "      <td>1.269231</td>\n",
       "    </tr>\n",
       "    <tr>\n",
       "      <th>max</th>\n",
       "      <td>14.940000</td>\n",
       "      <td>59.714286</td>\n",
       "      <td>42.142857</td>\n",
       "      <td>30.706849</td>\n",
       "      <td>2.271459e+01</td>\n",
       "      <td>20.466872</td>\n",
       "      <td>1.503589e+01</td>\n",
       "      <td>56.250000</td>\n",
       "      <td>47.000000</td>\n",
       "      <td>35.596154</td>\n",
       "    </tr>\n",
       "  </tbody>\n",
       "</table>\n",
       "</div>"
      ],
      "text/plain": [
       "         sell_price  rolling_mean_7_1  rolling_mean_28_1  rolling_mean_365_1  \\\n",
       "count  56589.000000      56589.000000       56589.000000        56589.000000   \n",
       "mean       4.200771          1.429119           1.431855            1.491759   \n",
       "std        2.953065          3.608648           3.496928            3.549106   \n",
       "min        0.580000          0.000000           0.000000            0.000000   \n",
       "25%        1.980000          0.000000           0.142857            0.227397   \n",
       "50%        3.650000          0.428571           0.500000            0.575342   \n",
       "75%        5.220000          1.285714           1.250000            1.268493   \n",
       "max       14.940000         59.714286          42.142857           30.706849   \n",
       "\n",
       "       rolling_std_7_1  rolling_std_28_1  rolling_std_365_1  rolling_mean_4_1  \\\n",
       "count     5.658900e+04      56589.000000       5.658900e+04      56589.000000   \n",
       "mean      1.106652e+00          1.246270       1.478557e+00          1.433834   \n",
       "std       1.711430e+00          1.763194       1.950406e+00          3.646157   \n",
       "min       0.000000e+00          0.000000       1.104548e-09          0.000000   \n",
       "25%       3.392538e-07          0.390021       5.450777e-01          0.000000   \n",
       "50%       7.559289e-01          0.826160       9.789059e-01          0.500000   \n",
       "75%       1.345185e+00          1.452511       1.617364e+00          1.250000   \n",
       "max       2.271459e+01         20.466872       1.503589e+01         56.250000   \n",
       "\n",
       "       rolling_mean_8_1  rolling_mean_52_1  \n",
       "count      56589.000000       56589.000000  \n",
       "mean           1.440112           1.492277  \n",
       "std            3.570370           3.575548  \n",
       "min            0.000000           0.000000  \n",
       "25%            0.125000           0.230769  \n",
       "50%            0.500000           0.576923  \n",
       "75%            1.250000           1.269231  \n",
       "max           47.000000          35.596154  "
      ]
     },
     "execution_count": 138,
     "metadata": {},
     "output_type": "execute_result"
    }
   ],
   "source": [
    "df.describe()"
   ]
  },
  {
   "cell_type": "code",
   "execution_count": 139,
   "metadata": {},
   "outputs": [],
   "source": [
    "#Standardise features\n",
    "cols_to_norm = ['d','wday','month','year','sell_price', \"rolling_mean_365_1\", \"rolling_std_28_1\",\\\n",
    "                \"rolling_std_365_1\", \"rolling_mean_4_1\", \"rolling_mean_8_1\", \"rolling_mean_52_1\", \\\n",
    "                \"rolling_mean_28_1\", \"rolling_std_7_1\", \"rolling_mean_7_1\"]\n",
    "\n",
    "df[cols_to_norm] = MinMaxScaler().fit_transform(df[cols_to_norm])"
   ]
  },
  {
   "cell_type": "code",
   "execution_count": 140,
   "metadata": {},
   "outputs": [
    {
     "data": {
      "text/html": [
       "<div>\n",
       "<style scoped>\n",
       "    .dataframe tbody tr th:only-of-type {\n",
       "        vertical-align: middle;\n",
       "    }\n",
       "\n",
       "    .dataframe tbody tr th {\n",
       "        vertical-align: top;\n",
       "    }\n",
       "\n",
       "    .dataframe thead th {\n",
       "        text-align: right;\n",
       "    }\n",
       "</style>\n",
       "<table border=\"1\" class=\"dataframe\">\n",
       "  <thead>\n",
       "    <tr style=\"text-align: right;\">\n",
       "      <th></th>\n",
       "      <th>d</th>\n",
       "      <th>wday</th>\n",
       "      <th>month</th>\n",
       "      <th>year</th>\n",
       "      <th>sell_price</th>\n",
       "      <th>rolling_mean_7_1</th>\n",
       "      <th>rolling_mean_28_1</th>\n",
       "      <th>rolling_mean_365_1</th>\n",
       "      <th>rolling_std_7_1</th>\n",
       "      <th>rolling_std_28_1</th>\n",
       "      <th>rolling_std_365_1</th>\n",
       "      <th>rolling_mean_4_1</th>\n",
       "      <th>rolling_mean_8_1</th>\n",
       "      <th>rolling_mean_52_1</th>\n",
       "    </tr>\n",
       "  </thead>\n",
       "  <tbody>\n",
       "    <tr>\n",
       "      <th>count</th>\n",
       "      <td>56589.000000</td>\n",
       "      <td>56589.000000</td>\n",
       "      <td>56589.000000</td>\n",
       "      <td>56589.000000</td>\n",
       "      <td>56589.000000</td>\n",
       "      <td>56589.000000</td>\n",
       "      <td>56589.000000</td>\n",
       "      <td>56589.000000</td>\n",
       "      <td>5.658900e+04</td>\n",
       "      <td>56589.000000</td>\n",
       "      <td>56589.000000</td>\n",
       "      <td>56589.000000</td>\n",
       "      <td>56589.000000</td>\n",
       "      <td>56589.000000</td>\n",
       "    </tr>\n",
       "    <tr>\n",
       "      <th>mean</th>\n",
       "      <td>0.552767</td>\n",
       "      <td>0.499476</td>\n",
       "      <td>0.480789</td>\n",
       "      <td>0.504983</td>\n",
       "      <td>0.252143</td>\n",
       "      <td>0.023933</td>\n",
       "      <td>0.033976</td>\n",
       "      <td>0.048581</td>\n",
       "      <td>4.871989e-02</td>\n",
       "      <td>0.060892</td>\n",
       "      <td>0.098335</td>\n",
       "      <td>0.025490</td>\n",
       "      <td>0.030641</td>\n",
       "      <td>0.041922</td>\n",
       "    </tr>\n",
       "    <tr>\n",
       "      <th>std</th>\n",
       "      <td>0.274526</td>\n",
       "      <td>0.333773</td>\n",
       "      <td>0.294267</td>\n",
       "      <td>0.379693</td>\n",
       "      <td>0.205645</td>\n",
       "      <td>0.060432</td>\n",
       "      <td>0.082978</td>\n",
       "      <td>0.115580</td>\n",
       "      <td>7.534500e-02</td>\n",
       "      <td>0.086149</td>\n",
       "      <td>0.129717</td>\n",
       "      <td>0.064821</td>\n",
       "      <td>0.075965</td>\n",
       "      <td>0.100448</td>\n",
       "    </tr>\n",
       "    <tr>\n",
       "      <th>min</th>\n",
       "      <td>0.000000</td>\n",
       "      <td>0.000000</td>\n",
       "      <td>0.000000</td>\n",
       "      <td>0.000000</td>\n",
       "      <td>0.000000</td>\n",
       "      <td>0.000000</td>\n",
       "      <td>0.000000</td>\n",
       "      <td>0.000000</td>\n",
       "      <td>0.000000e+00</td>\n",
       "      <td>0.000000</td>\n",
       "      <td>0.000000</td>\n",
       "      <td>0.000000</td>\n",
       "      <td>0.000000</td>\n",
       "      <td>0.000000</td>\n",
       "    </tr>\n",
       "    <tr>\n",
       "      <th>25%</th>\n",
       "      <td>0.326552</td>\n",
       "      <td>0.166667</td>\n",
       "      <td>0.272727</td>\n",
       "      <td>0.000000</td>\n",
       "      <td>0.097493</td>\n",
       "      <td>0.000000</td>\n",
       "      <td>0.003390</td>\n",
       "      <td>0.007405</td>\n",
       "      <td>1.493550e-08</td>\n",
       "      <td>0.019056</td>\n",
       "      <td>0.036252</td>\n",
       "      <td>0.000000</td>\n",
       "      <td>0.002660</td>\n",
       "      <td>0.006483</td>\n",
       "    </tr>\n",
       "    <tr>\n",
       "      <th>50%</th>\n",
       "      <td>0.567452</td>\n",
       "      <td>0.500000</td>\n",
       "      <td>0.454545</td>\n",
       "      <td>0.500000</td>\n",
       "      <td>0.213788</td>\n",
       "      <td>0.007177</td>\n",
       "      <td>0.011864</td>\n",
       "      <td>0.018737</td>\n",
       "      <td>3.327945e-02</td>\n",
       "      <td>0.040366</td>\n",
       "      <td>0.065105</td>\n",
       "      <td>0.008889</td>\n",
       "      <td>0.010638</td>\n",
       "      <td>0.016207</td>\n",
       "    </tr>\n",
       "    <tr>\n",
       "      <th>75%</th>\n",
       "      <td>0.790150</td>\n",
       "      <td>0.833333</td>\n",
       "      <td>0.727273</td>\n",
       "      <td>1.000000</td>\n",
       "      <td>0.323120</td>\n",
       "      <td>0.021531</td>\n",
       "      <td>0.029661</td>\n",
       "      <td>0.041310</td>\n",
       "      <td>5.922122e-02</td>\n",
       "      <td>0.070969</td>\n",
       "      <td>0.107567</td>\n",
       "      <td>0.022222</td>\n",
       "      <td>0.026596</td>\n",
       "      <td>0.035656</td>\n",
       "    </tr>\n",
       "    <tr>\n",
       "      <th>max</th>\n",
       "      <td>1.000000</td>\n",
       "      <td>1.000000</td>\n",
       "      <td>1.000000</td>\n",
       "      <td>1.000000</td>\n",
       "      <td>1.000000</td>\n",
       "      <td>1.000000</td>\n",
       "      <td>1.000000</td>\n",
       "      <td>1.000000</td>\n",
       "      <td>1.000000e+00</td>\n",
       "      <td>1.000000</td>\n",
       "      <td>1.000000</td>\n",
       "      <td>1.000000</td>\n",
       "      <td>1.000000</td>\n",
       "      <td>1.000000</td>\n",
       "    </tr>\n",
       "  </tbody>\n",
       "</table>\n",
       "</div>"
      ],
      "text/plain": [
       "                  d          wday         month          year    sell_price  \\\n",
       "count  56589.000000  56589.000000  56589.000000  56589.000000  56589.000000   \n",
       "mean       0.552767      0.499476      0.480789      0.504983      0.252143   \n",
       "std        0.274526      0.333773      0.294267      0.379693      0.205645   \n",
       "min        0.000000      0.000000      0.000000      0.000000      0.000000   \n",
       "25%        0.326552      0.166667      0.272727      0.000000      0.097493   \n",
       "50%        0.567452      0.500000      0.454545      0.500000      0.213788   \n",
       "75%        0.790150      0.833333      0.727273      1.000000      0.323120   \n",
       "max        1.000000      1.000000      1.000000      1.000000      1.000000   \n",
       "\n",
       "       rolling_mean_7_1  rolling_mean_28_1  rolling_mean_365_1  \\\n",
       "count      56589.000000       56589.000000        56589.000000   \n",
       "mean           0.023933           0.033976            0.048581   \n",
       "std            0.060432           0.082978            0.115580   \n",
       "min            0.000000           0.000000            0.000000   \n",
       "25%            0.000000           0.003390            0.007405   \n",
       "50%            0.007177           0.011864            0.018737   \n",
       "75%            0.021531           0.029661            0.041310   \n",
       "max            1.000000           1.000000            1.000000   \n",
       "\n",
       "       rolling_std_7_1  rolling_std_28_1  rolling_std_365_1  rolling_mean_4_1  \\\n",
       "count     5.658900e+04      56589.000000       56589.000000      56589.000000   \n",
       "mean      4.871989e-02          0.060892           0.098335          0.025490   \n",
       "std       7.534500e-02          0.086149           0.129717          0.064821   \n",
       "min       0.000000e+00          0.000000           0.000000          0.000000   \n",
       "25%       1.493550e-08          0.019056           0.036252          0.000000   \n",
       "50%       3.327945e-02          0.040366           0.065105          0.008889   \n",
       "75%       5.922122e-02          0.070969           0.107567          0.022222   \n",
       "max       1.000000e+00          1.000000           1.000000          1.000000   \n",
       "\n",
       "       rolling_mean_8_1  rolling_mean_52_1  \n",
       "count      56589.000000       56589.000000  \n",
       "mean           0.030641           0.041922  \n",
       "std            0.075965           0.100448  \n",
       "min            0.000000           0.000000  \n",
       "25%            0.002660           0.006483  \n",
       "50%            0.010638           0.016207  \n",
       "75%            0.026596           0.035656  \n",
       "max            1.000000           1.000000  "
      ]
     },
     "execution_count": 140,
     "metadata": {},
     "output_type": "execute_result"
    }
   ],
   "source": [
    "df.describe()"
   ]
  },
  {
   "cell_type": "code",
   "execution_count": 141,
   "metadata": {},
   "outputs": [
    {
     "data": {
      "text/plain": [
       "Index(['id', 'd', 'sold', 'wday', 'month', 'year', 'snap_CA', 'snap_TX',\n",
       "       'snap_WI', 'sell_price', 'Cultural', 'National', 'Religious',\n",
       "       'Sporting', 'NoEvent', 'Christmas', 'weekend', 'midweek', 'monfri',\n",
       "       'FOODS_1', 'FOODS_2', 'FOODS_3', 'HOBBIES_1', 'HOBBIES_2',\n",
       "       'HOUSEHOLD_1', 'HOUSEHOLD_2', 'FOODS', 'HOBBIES', 'HOUSEHOLD', 'CA_1',\n",
       "       'CA_2', 'CA_3', 'CA_4', 'TX_1', 'TX_2', 'TX_3', 'WI_1', 'WI_2', 'WI_3',\n",
       "       'CA', 'TX', 'WI', 'rolling_mean_7_1', 'rolling_mean_28_1',\n",
       "       'rolling_mean_365_1', 'rolling_std_7_1', 'rolling_std_28_1',\n",
       "       'rolling_std_365_1', 'rolling_mean_4_1', 'rolling_mean_8_1',\n",
       "       'rolling_mean_52_1', 'sold_lag_1', 'sold_lag_7', 'sold_lag_28',\n",
       "       'sold_lag_365'],\n",
       "      dtype='object')"
      ]
     },
     "execution_count": 141,
     "metadata": {},
     "output_type": "execute_result"
    }
   ],
   "source": [
    "df.columns"
   ]
  },
  {
   "cell_type": "code",
   "execution_count": 117,
   "metadata": {},
   "outputs": [],
   "source": [
    "\n",
    "df_item = df.loc[df.id == \"FOODS_2_360_TX_3_validation\"]\n",
    "df_test = df.loc[df.d > 1200/1300]\n",
    "df = df.loc[df.d <= 1200/1300]"
   ]
  },
  {
   "cell_type": "code",
   "execution_count": 122,
   "metadata": {},
   "outputs": [
    {
     "data": {
      "text/plain": [
       "Index(['id', 'd', 'sold', 'wday', 'month', 'year', 'snap_CA', 'snap_TX',\n",
       "       'snap_WI', 'sell_price', 'Cultural', 'National', 'Religious',\n",
       "       'Sporting', 'NoEvent', 'Christmas', 'weekend', 'midweek', 'monfri',\n",
       "       'FOODS_1', 'FOODS_2', 'FOODS_3', 'HOBBIES_1', 'HOBBIES_2',\n",
       "       'HOUSEHOLD_1', 'HOUSEHOLD_2', 'FOODS', 'HOBBIES', 'HOUSEHOLD', 'CA_1',\n",
       "       'CA_2', 'CA_3', 'CA_4', 'TX_1', 'TX_2', 'TX_3', 'WI_1', 'WI_2', 'WI_3',\n",
       "       'CA', 'TX', 'WI', 'rolling_mean_7_1', 'rolling_mean_28_1',\n",
       "       'rolling_mean_365_1', 'rolling_std_7_1', 'rolling_std_28_1',\n",
       "       'rolling_std_365_1', 'rolling_mean_4_1', 'rolling_mean_8_1',\n",
       "       'rolling_mean_52_1', 'sold_lag_1', 'sold_lag_7', 'sold_lag_28',\n",
       "       'sold_lag_365'],\n",
       "      dtype='object')"
      ]
     },
     "execution_count": 122,
     "metadata": {},
     "output_type": "execute_result"
    }
   ],
   "source": [
    "df.columns"
   ]
  },
  {
   "cell_type": "markdown",
   "metadata": {},
   "source": [
    "## Means"
   ]
  },
  {
   "cell_type": "code",
   "execution_count": 147,
   "metadata": {},
   "outputs": [],
   "source": [
    "df[\"sold\"] = df[\"sold\"].astype(float)"
   ]
  },
  {
   "cell_type": "code",
   "execution_count": 150,
   "metadata": {},
   "outputs": [],
   "source": [
    "df_means = df.groupby(\"id\", as_index = False).mean()"
   ]
  },
  {
   "cell_type": "code",
   "execution_count": 165,
   "metadata": {},
   "outputs": [],
   "source": [
    "preds = []\n",
    "for index, row in df.iterrows():\n",
    "    preds.append(df_means.loc[df_means.id == row.id].sold)"
   ]
  },
  {
   "cell_type": "code",
   "execution_count": 166,
   "metadata": {},
   "outputs": [
    {
     "data": {
      "text/plain": [
       "5.765734736769597"
      ]
     },
     "execution_count": 166,
     "metadata": {},
     "output_type": "execute_result"
    }
   ],
   "source": [
    "mean_squared_error(preds, df.sold.values)"
   ]
  },
  {
   "cell_type": "code",
   "execution_count": 127,
   "metadata": {},
   "outputs": [],
   "source": [
    "df.drop(['id'], axis=1, inplace=True) #Drop the id column"
   ]
  },
  {
   "cell_type": "code",
   "execution_count": 170,
   "metadata": {},
   "outputs": [],
   "source": [
    "\n",
    "y = df.pop(\"sold\")\n",
    "y = y.values\n",
    "y = y.astype(float)\n"
   ]
  },
  {
   "cell_type": "code",
   "execution_count": 129,
   "metadata": {},
   "outputs": [],
   "source": [
    "df = df.astype(float)"
   ]
  },
  {
   "cell_type": "markdown",
   "metadata": {},
   "source": [
    "## feature selection"
   ]
  },
  {
   "cell_type": "code",
   "execution_count": 17,
   "metadata": {},
   "outputs": [
    {
     "name": "stdout",
     "output_type": "stream",
     "text": [
      "CA_3 0.9573086579461667\n",
      "wday 0.9031888194426605\n",
      "CA_2 0.8526100401403813\n",
      "TX_3 0.8393378295210506\n",
      "monfri 0.8031918030488344\n",
      "WI_3 0.7510915257652349\n",
      "HOBBIES_1 0.7582294209270444\n",
      "TX_1 0.652959740560265\n",
      "WI 0.6338748184962121\n",
      "FOODS_1 0.8418019696914507\n",
      "FOODS 0.692343221239845\n",
      "National 0.6453054508971026\n",
      "TX 0.6638050450363444\n",
      "month 0.5587255721052201\n",
      "Sporting 0.5786571285420568\n",
      "HOUSEHOLD_1 0.559927642187779\n",
      "HOUSEHOLD_2 0.9878297306590796\n",
      "HOBBIES_2 0.5490037198321729\n",
      "WI_1 0.4831432630976341\n",
      "WI_2 0.5052296219932679\n",
      "CA 0.5679698102780112\n",
      "TX_2 0.6239107975090082\n",
      "sell_price 0.42576136906438167\n",
      "HOBBIES 0.30557110588653064\n",
      "HOUSEHOLD 0.5580925292095945\n",
      "FOODS_2 0.43229158827686276\n",
      "FOODS_3 0.44527419382933875\n",
      "CA_1 0.17108248520362623\n",
      "CA_4 0.20706324953139837\n",
      "snap_WI 0.15613874678203885\n",
      "d 0.12662041579189648\n",
      "year 0.6585428554854749\n",
      "rolling_mean_365_1 0.08457271011862434\n",
      "rolling_std_28_1 0.07472851561046175\n",
      "Religious 0.052607058354707664\n"
     ]
    }
   ],
   "source": [
    "\n",
    "# remove = True\n",
    "# while remove == True:\n",
    "#     mod = sm.OLS(y, df)\n",
    "#     res = mod.fit()\n",
    "#     pval = pd.DataFrame(res.pvalues)\n",
    "#     if len(pval.loc[pval[0] > 0.05]) == 0:\n",
    "#         remove = False\n",
    "#     else:\n",
    "#         worst_col = pval.loc[pval[0] > 0.05].T.columns[pval.loc[pval[0] > 0.05][0].argmax()]\n",
    "#         print(worst_col , pval.loc[pval[0] > 0.05].max()[0])\n",
    "#         df = df.drop([worst_col], axis = 1)\n",
    "#         df_test = df_test.drop([worst_col], axis = 1)\n",
    "        \n",
    "    "
   ]
  },
  {
   "cell_type": "code",
   "execution_count": null,
   "metadata": {},
   "outputs": [],
   "source": []
  },
  {
   "cell_type": "code",
   "execution_count": 18,
   "metadata": {},
   "outputs": [],
   "source": [
    "\n",
    "X = df.values\n"
   ]
  },
  {
   "cell_type": "code",
   "execution_count": 19,
   "metadata": {},
   "outputs": [
    {
     "data": {
      "text/plain": [
       "(51250, 18)"
      ]
     },
     "execution_count": 19,
     "metadata": {},
     "output_type": "execute_result"
    }
   ],
   "source": [
    "X.shape"
   ]
  },
  {
   "cell_type": "code",
   "execution_count": null,
   "metadata": {},
   "outputs": [],
   "source": []
  },
  {
   "cell_type": "markdown",
   "metadata": {},
   "source": [
    "## 3. Setting up loaders"
   ]
  },
  {
   "cell_type": "code",
   "execution_count": 20,
   "metadata": {},
   "outputs": [],
   "source": [
    "X, y = torch.FloatTensor(X), torch.FloatTensor(y)"
   ]
  },
  {
   "cell_type": "code",
   "execution_count": 21,
   "metadata": {},
   "outputs": [],
   "source": [
    "#Train/test split\n",
    "X_train, X_test, y_train, y_test = train_test_split(X, y, test_size=0.20, random_state=42)"
   ]
  },
  {
   "cell_type": "code",
   "execution_count": 22,
   "metadata": {},
   "outputs": [
    {
     "data": {
      "text/plain": [
       "(torch.Size([41000, 18]), torch.Size([41000]))"
      ]
     },
     "execution_count": 22,
     "metadata": {},
     "output_type": "execute_result"
    }
   ],
   "source": [
    "X_train.shape, y_train.shape"
   ]
  },
  {
   "cell_type": "code",
   "execution_count": 23,
   "metadata": {},
   "outputs": [],
   "source": [
    "# create data loaders\n",
    "\n",
    "from torch.utils import data\n",
    "\n",
    "traindataset = data.TensorDataset(X_train, y_train) # create your datset\n",
    "trainloader = data.DataLoader(traindataset, batch_size=1024, shuffle=True) # create your dataloader\n",
    "\n",
    "\n",
    "testdataset = data.TensorDataset(X_test,y_test) # create your datset\n",
    "testloader = data.DataLoader(testdataset, batch_size=1024, shuffle=True) # create your dataloader\n",
    "\n"
   ]
  },
  {
   "cell_type": "markdown",
   "metadata": {},
   "source": [
    "## 4. Building neural net"
   ]
  },
  {
   "cell_type": "code",
   "execution_count": 24,
   "metadata": {},
   "outputs": [],
   "source": [
    "# define baseline model\n",
    "class BaselineModel(nn.Module):\n",
    "    def __init__(self, input_size, hidden_size):\n",
    "        super(BaselineModel, self).__init__()\n",
    "        self.fc1 = nn.Linear(input_size, hidden_size) \n",
    "        self.fc2 = nn.Linear(hidden_size, hidden_size)\n",
    "        self.fc3 = nn.Linear(hidden_size, hidden_size)\n",
    "        self.fc4 = nn.Linear(hidden_size, hidden_size)\n",
    "        self.fc5 = nn.Linear(hidden_size, 1)  \n",
    "    \n",
    "    def forward(self, x):\n",
    "        out = self.fc1(x)\n",
    "        out = F.relu(out)\n",
    "        out = self.fc2(out)\n",
    "        out = F.relu(out)\n",
    "        out = self.fc3(out)\n",
    "        out = F.relu(out)\n",
    "        out = self.fc4(out)\n",
    "        out = F.relu(out)\n",
    "        out = self.fc5(out)\n",
    "        \n",
    "        return out"
   ]
  },
  {
   "cell_type": "code",
   "execution_count": 25,
   "metadata": {},
   "outputs": [],
   "source": [
    "from torchbearer import Trial\n",
    "import torchbearer\n",
    "from sklearn.metrics import mean_squared_error"
   ]
  },
  {
   "cell_type": "code",
   "execution_count": 26,
   "metadata": {},
   "outputs": [
    {
     "name": "stdout",
     "output_type": "stream",
     "text": [
      "Epoch 0, loss 7.19, test loss 4.92\n",
      "Epoch 1, loss 5.40, test loss 8.75\n",
      "Epoch 2, loss 5.94, test loss 5.15\n",
      "Epoch 3, loss 5.39, test loss 4.82\n",
      "Epoch 4, loss 5.15, test loss 4.99\n",
      "Epoch 5, loss 5.31, test loss 4.85\n",
      "Epoch 6, loss 5.03, test loss 4.92\n",
      "Epoch 7, loss 5.19, test loss 4.96\n",
      "Epoch 8, loss 5.07, test loss 4.65\n",
      "Epoch 9, loss 5.35, test loss 7.57\n",
      "Epoch 10, loss 5.78, test loss 4.58\n",
      "Epoch 11, loss 4.85, test loss 4.77\n",
      "Epoch 12, loss 4.78, test loss 4.60\n",
      "Epoch 13, loss 4.76, test loss 4.41\n",
      "Epoch 14, loss 4.68, test loss 4.42\n",
      "Epoch 15, loss 4.83, test loss 4.40\n",
      "Epoch 16, loss 4.72, test loss 6.49\n",
      "Epoch 17, loss 4.91, test loss 4.64\n",
      "Epoch 18, loss 4.68, test loss 4.77\n",
      "Epoch 19, loss 4.76, test loss 4.39\n",
      "**** Finished Training ****\n"
     ]
    }
   ],
   "source": [
    "# build the model \n",
    "model = BaselineModel(X_train.shape[1], 512)\n",
    "\n",
    "# define the loss function and the optimiser\n",
    "loss_function = nn.MSELoss()\n",
    "optimiser = optim.Adam(model.parameters())\n",
    "\n",
    "loss_plot = []\n",
    "loss_eval = []\n",
    "# the epoch loop\n",
    "for epoch in range(20):\n",
    "    running_loss = 0.0\n",
    "\n",
    "    for data in trainloader:\n",
    "        # get the inputs\n",
    "        inputs, labels = data\n",
    "\n",
    "        # zero the parameter gradients\n",
    "        optimiser.zero_grad()\n",
    "\n",
    "        # forward + loss + backward + optimise (update weights)\n",
    "        outputs = model(inputs)\n",
    "        outputs = outputs.flatten()\n",
    "        loss = loss_function(outputs, labels)\n",
    "        loss.backward()\n",
    "        optimiser.step()\n",
    "\n",
    "        # keep track of the loss this epoch\n",
    "        running_loss += loss.item()\n",
    "    loss_plot.append(running_loss/len(trainloader))\n",
    "    \n",
    "    model.eval()\n",
    "    mse = 0\n",
    "    for index, i in enumerate(testloader):\n",
    "\n",
    "        inputs, labels = i\n",
    "          \n",
    "        outputs = model(inputs)\n",
    "        outputs = outputs.detach().numpy()\n",
    "        mse += mean_squared_error(labels, outputs)\n",
    "    loss_eval.append(mse/len(testloader))\n",
    "    \n",
    "    \n",
    "    print(\"Epoch %d, loss %4.2f, test loss %4.2f\" % (epoch, running_loss/len(trainloader), mse/len(testloader)))\n",
    "print('**** Finished Training ****')\n"
   ]
  },
  {
   "cell_type": "code",
   "execution_count": 27,
   "metadata": {},
   "outputs": [
    {
     "data": {
      "text/plain": [
       "<matplotlib.legend.Legend at 0x2008feee408>"
      ]
     },
     "execution_count": 27,
     "metadata": {},
     "output_type": "execute_result"
    },
    {
     "data": {
      "image/png": "[encoded data removed]",
      "text/plain": [
       "<Figure size 432x288 with 1 Axes>"
      ]
     },
     "metadata": {
      "needs_background": "light"
     },
     "output_type": "display_data"
    }
   ],
   "source": [
    "import matplotlib.pyplot as plt\n",
    "plt.plot(loss_plot, label = \"Training\")\n",
    "plt.plot(loss_eval, label = \"Testing\")\n",
    "plt.xlabel(\"Epoch\")\n",
    "plt.ylabel(\"Loss\")\n",
    "plt.legend()"
   ]
  },
  {
   "cell_type": "markdown",
   "metadata": {},
   "source": [
    "## Testing Model 1200-1300"
   ]
  },
  {
   "cell_type": "code",
   "execution_count": 32,
   "metadata": {},
   "outputs": [],
   "source": [
    "def prepare(df):\n",
    "    df= df.drop(\"id\", axis = 1)\n",
    "    y = df.pop(\"sold\")\n",
    "    y =  torch.FloatTensor(y.values.astype(float))\n",
    "    return(df, y)"
   ]
  },
  {
   "cell_type": "code",
   "execution_count": 33,
   "metadata": {},
   "outputs": [],
   "source": [
    "df_test, y_test= prepare(df_test)"
   ]
  },
  {
   "cell_type": "code",
   "execution_count": 34,
   "metadata": {},
   "outputs": [],
   "source": [
    "def evaluate(model, df, y):\n",
    "    model.eval()\n",
    "\n",
    "    preds = []\n",
    "    for index, i in enumerate( torch.FloatTensor(df.values.astype(float))):\n",
    "        inputs = i\n",
    "        label = y[index]\n",
    "\n",
    "        outputs = model(inputs)\n",
    "        outputs = outputs.detach().numpy()\n",
    "        preds.append(outputs)\n",
    "    preds = np.asarray(preds)\n",
    "    preds.shape = (preds.shape[0],)\n",
    "    return(preds)"
   ]
  },
  {
   "cell_type": "code",
   "execution_count": 35,
   "metadata": {},
   "outputs": [],
   "source": [
    "preds_test = evaluate(model, df_test, y_test)"
   ]
  },
  {
   "cell_type": "code",
   "execution_count": 36,
   "metadata": {},
   "outputs": [
    {
     "data": {
      "text/plain": [
       "3.8291903"
      ]
     },
     "execution_count": 36,
     "metadata": {},
     "output_type": "execute_result"
    }
   ],
   "source": [
    "mean_squared_error(preds_test, y_test)"
   ]
  },
  {
   "cell_type": "markdown",
   "metadata": {},
   "source": [
    "## Means"
   ]
  },
  {
   "cell_type": "code",
   "execution_count": 168,
   "metadata": {},
   "outputs": [],
   "source": [
    "preds = []\n",
    "for index, row in df_test.iterrows():\n",
    "    preds.append(df_means.loc[df_means.id == row.id].sold)"
   ]
  },
  {
   "cell_type": "code",
   "execution_count": 169,
   "metadata": {},
   "outputs": [
    {
     "data": {
      "text/plain": [
       "5.3210321235931834"
      ]
     },
     "execution_count": 169,
     "metadata": {},
     "output_type": "execute_result"
    }
   ],
   "source": [
    "mean_squared_error(preds, y_test)"
   ]
  },
  {
   "cell_type": "markdown",
   "metadata": {},
   "source": [
    "## Department "
   ]
  },
  {
   "cell_type": "code",
   "execution_count": 89,
   "metadata": {},
   "outputs": [],
   "source": [
    "def depMSE(col):\n",
    "    df_dep = df[(df[col] == 1)]\n",
    "    df_dep, y_dep = prepare(df_dep)\n",
    "    preds_dep = evaluate(model, df_dep, y_dep)\n",
    "    return(mean_squared_error(preds_dep, y_dep))"
   ]
  },
  {
   "cell_type": "code",
   "execution_count": 90,
   "metadata": {},
   "outputs": [
    {
     "data": {
      "text/plain": [
       "8.094155"
      ]
     },
     "execution_count": 90,
     "metadata": {},
     "output_type": "execute_result"
    }
   ],
   "source": [
    "depMSE(\"FOODS\")"
   ]
  },
  {
   "cell_type": "code",
   "execution_count": 91,
   "metadata": {},
   "outputs": [
    {
     "data": {
      "text/plain": [
       "1.3515781"
      ]
     },
     "execution_count": 91,
     "metadata": {},
     "output_type": "execute_result"
    }
   ],
   "source": [
    "depMSE(\"HOUSEHOLD\")"
   ]
  },
  {
   "cell_type": "code",
   "execution_count": 92,
   "metadata": {},
   "outputs": [
    {
     "data": {
      "text/plain": [
       "0.47455132"
      ]
     },
     "execution_count": 92,
     "metadata": {},
     "output_type": "execute_result"
    }
   ],
   "source": [
    "depMSE(\"HOBBIES\")"
   ]
  },
  {
   "cell_type": "markdown",
   "metadata": {},
   "source": [
    "## Department Length STD and Mean"
   ]
  },
  {
   "cell_type": "code",
   "execution_count": 96,
   "metadata": {},
   "outputs": [
    {
     "data": {
      "text/plain": [
       "[26351, 15833, 9066]"
      ]
     },
     "execution_count": 96,
     "metadata": {},
     "output_type": "execute_result"
    }
   ],
   "source": [
    "[len(df[(df[i] == 1)]) for i in [\"FOODS\", \"HOUSEHOLD\", \"HOBBIES\"]]"
   ]
  },
  {
   "cell_type": "code",
   "execution_count": 109,
   "metadata": {},
   "outputs": [
    {
     "data": {
      "text/plain": [
       "[2.22, 0.83, 0.33]"
      ]
     },
     "execution_count": 109,
     "metadata": {},
     "output_type": "execute_result"
    }
   ],
   "source": [
    "[round((df.sold[(df[i] == 1)]).values.mean(), 2) for i in [\"FOODS\", \"HOUSEHOLD\", \"HOBBIES\"]]"
   ]
  },
  {
   "cell_type": "code",
   "execution_count": 110,
   "metadata": {},
   "outputs": [
    {
     "data": {
      "text/plain": [
       "[5.51, 1.64, 0.79]"
      ]
     },
     "execution_count": 110,
     "metadata": {},
     "output_type": "execute_result"
    }
   ],
   "source": [
    "[round((df.sold[(df[i] == 1)]).values.std(), 2) for i in [\"FOODS\", \"HOUSEHOLD\", \"HOBBIES\"]]"
   ]
  },
  {
   "cell_type": "markdown",
   "metadata": {},
   "source": [
    "## MSE BY STATE"
   ]
  },
  {
   "cell_type": "code",
   "execution_count": 116,
   "metadata": {},
   "outputs": [
    {
     "data": {
      "text/plain": [
       "(8.450689, 4.255197, 1.2261016)"
      ]
     },
     "execution_count": 116,
     "metadata": {},
     "output_type": "execute_result"
    }
   ],
   "source": [
    "depMSE(\"TX\"), depMSE(\"CA\"), depMSE(\"WI\")"
   ]
  },
  {
   "cell_type": "code",
   "execution_count": 117,
   "metadata": {},
   "outputs": [
    {
     "data": {
      "text/plain": [
       "[14815, 22819, 13616]"
      ]
     },
     "execution_count": 117,
     "metadata": {},
     "output_type": "execute_result"
    }
   ],
   "source": [
    "[len(df[(df[i] == 1)]) for i in [\"TX\", \"CA\", \"WI\"]]"
   ]
  },
  {
   "cell_type": "code",
   "execution_count": 118,
   "metadata": {},
   "outputs": [
    {
     "data": {
      "text/plain": [
       "[2.16, 1.51, 0.6]"
      ]
     },
     "execution_count": 118,
     "metadata": {},
     "output_type": "execute_result"
    }
   ],
   "source": [
    "[round((df.sold[(df[i] == 1)]).values.mean(), 2) for i in [\"TX\", \"CA\", \"WI\"]]"
   ]
  },
  {
   "cell_type": "code",
   "execution_count": 119,
   "metadata": {},
   "outputs": [
    {
     "data": {
      "text/plain": [
       "[6.45, 3.14, 1.28]"
      ]
     },
     "execution_count": 119,
     "metadata": {},
     "output_type": "execute_result"
    }
   ],
   "source": [
    "[round((df.sold[(df[i] == 1)]).values.std(), 2) for i in [\"TX\", \"CA\", \"WI\"]]"
   ]
  },
  {
   "cell_type": "markdown",
   "metadata": {},
   "source": [
    "## TESTING FOODS_2_360_TX_3 predictions.xlsx"
   ]
  },
  {
   "cell_type": "code",
   "execution_count": 192,
   "metadata": {},
   "outputs": [],
   "source": [
    "df_item = df_item.drop(\"id\", axis = 1)"
   ]
  },
  {
   "cell_type": "code",
   "execution_count": 193,
   "metadata": {},
   "outputs": [],
   "source": [
    "y_item = df_item.pop(\"sold\")"
   ]
  },
  {
   "cell_type": "code",
   "execution_count": 194,
   "metadata": {},
   "outputs": [],
   "source": [
    "y_item =  torch.FloatTensor(y_item.values.astype(float))"
   ]
  },
  {
   "cell_type": "code",
   "execution_count": 196,
   "metadata": {},
   "outputs": [],
   "source": [
    "model.eval()\n",
    "\n",
    "preds = []\n",
    "for index, i in enumerate( torch.FloatTensor(df_item.values[-100:].astype(float))):\n",
    "    inputs = i\n",
    "    label = y_item[index]\n",
    "\n",
    "    outputs = model(inputs)\n",
    "    outputs = outputs.detach().numpy()\n",
    "    preds.append(outputs)\n"
   ]
  },
  {
   "cell_type": "code",
   "execution_count": 112,
   "metadata": {},
   "outputs": [
    {
     "data": {
      "text/plain": [
       "100"
      ]
     },
     "execution_count": 112,
     "metadata": {},
     "output_type": "execute_result"
    }
   ],
   "source": [
    "len(preds)"
   ]
  },
  {
   "cell_type": "code",
   "execution_count": null,
   "metadata": {},
   "outputs": [],
   "source": []
  },
  {
   "cell_type": "code",
   "execution_count": 185,
   "metadata": {},
   "outputs": [],
   "source": [
    "m = np.asarray([df_means.loc[df_means.id == \"FOODS_2_360_TX_3_validation\"].sold.values] * 100)"
   ]
  },
  {
   "cell_type": "code",
   "execution_count": 186,
   "metadata": {},
   "outputs": [],
   "source": [
    "m.shape = (100,)"
   ]
  },
  {
   "cell_type": "code",
   "execution_count": 207,
   "metadata": {},
   "outputs": [],
   "source": [
    "preds = pd.read_excel(\"FOODS_2_360_TX_3 predictions.xlsx\",  engine='openpyxl').values\n",
    "\n",
    "preds.shape = (100,)"
   ]
  },
  {
   "cell_type": "code",
   "execution_count": 224,
   "metadata": {},
   "outputs": [
    {
     "data": {
      "text/plain": [
       "<matplotlib.legend.Legend at 0x200bedefb88>"
      ]
     },
     "execution_count": 224,
     "metadata": {},
     "output_type": "execute_result"
    },
    {
     "data": {
      "image/png": "[encoded data removed]",
      "text/plain": [
       "<Figure size 432x288 with 1 Axes>"
      ]
     },
     "metadata": {
      "needs_background": "light"
     },
     "output_type": "display_data"
    }
   ],
   "source": [
    "\n",
    "plt.plot([i for i in range(1200, 1300)], preds, label = \"Neural Network\")\n",
    "plt.plot([i for i in range(1150, 1300)], y_item[-150:], label = \"Real Sales\")\n",
    "plt.axvline(1200, c = \"r\")\n",
    "plt.plot([i for i in range(1200, 1300)],m, label = \"Mean\")\n",
    "plt.xlabel(\"Day\")\n",
    "plt.ylabel(\"Number of Sales of FOODS_2_360_TX_3\")\n",
    "plt.legend()"
   ]
  },
  {
   "cell_type": "code",
   "execution_count": 211,
   "metadata": {},
   "outputs": [],
   "source": [
    "preds = np.asarray(preds)"
   ]
  },
  {
   "cell_type": "code",
   "execution_count": 125,
   "metadata": {},
   "outputs": [],
   "source": [
    "preds.shape = (100,)"
   ]
  },
  {
   "cell_type": "code",
   "execution_count": 134,
   "metadata": {},
   "outputs": [],
   "source": [
    "df_pred = pd.DataFrame(preds).T"
   ]
  },
  {
   "cell_type": "code",
   "execution_count": 139,
   "metadata": {},
   "outputs": [],
   "source": [
    "df_pred.to_excel(\"FOODS_2_360_TX_3 predictions.xlsx\", index = False)"
   ]
  },
  {
   "cell_type": "code",
   "execution_count": 212,
   "metadata": {},
   "outputs": [],
   "source": [
    "df = pd.read_excel(\"FOODS_2_360_TX_3 predictions.xlsx\",  engine='openpyxl')"
   ]
  },
  {
   "cell_type": "code",
   "execution_count": 213,
   "metadata": {},
   "outputs": [
    {
     "data": {
      "text/html": [
       "<div>\n",
       "<style scoped>\n",
       "    .dataframe tbody tr th:only-of-type {\n",
       "        vertical-align: middle;\n",
       "    }\n",
       "\n",
       "    .dataframe tbody tr th {\n",
       "        vertical-align: top;\n",
       "    }\n",
       "\n",
       "    .dataframe thead th {\n",
       "        text-align: right;\n",
       "    }\n",
       "</style>\n",
       "<table border=\"1\" class=\"dataframe\">\n",
       "  <thead>\n",
       "    <tr style=\"text-align: right;\">\n",
       "      <th></th>\n",
       "      <th>0</th>\n",
       "      <th>1</th>\n",
       "      <th>2</th>\n",
       "      <th>3</th>\n",
       "      <th>4</th>\n",
       "      <th>5</th>\n",
       "      <th>6</th>\n",
       "      <th>7</th>\n",
       "      <th>8</th>\n",
       "      <th>9</th>\n",
       "      <th>...</th>\n",
       "      <th>90</th>\n",
       "      <th>91</th>\n",
       "      <th>92</th>\n",
       "      <th>93</th>\n",
       "      <th>94</th>\n",
       "      <th>95</th>\n",
       "      <th>96</th>\n",
       "      <th>97</th>\n",
       "      <th>98</th>\n",
       "      <th>99</th>\n",
       "    </tr>\n",
       "  </thead>\n",
       "  <tbody>\n",
       "    <tr>\n",
       "      <th>0</th>\n",
       "      <td>29.62118</td>\n",
       "      <td>20.697523</td>\n",
       "      <td>26.282949</td>\n",
       "      <td>23.723934</td>\n",
       "      <td>20.582651</td>\n",
       "      <td>20.892366</td>\n",
       "      <td>23.925562</td>\n",
       "      <td>18.570688</td>\n",
       "      <td>17.925602</td>\n",
       "      <td>15.371912</td>\n",
       "      <td>...</td>\n",
       "      <td>30.741135</td>\n",
       "      <td>24.644682</td>\n",
       "      <td>23.731657</td>\n",
       "      <td>20.104092</td>\n",
       "      <td>26.284115</td>\n",
       "      <td>23.300997</td>\n",
       "      <td>26.780066</td>\n",
       "      <td>27.07473</td>\n",
       "      <td>20.991177</td>\n",
       "      <td>15.175308</td>\n",
       "    </tr>\n",
       "  </tbody>\n",
       "</table>\n",
       "<p>1 rows × 100 columns</p>\n",
       "</div>"
      ],
      "text/plain": [
       "         0          1          2          3          4          5          6   \\\n",
       "0  29.62118  20.697523  26.282949  23.723934  20.582651  20.892366  23.925562   \n",
       "\n",
       "          7          8          9   ...         90         91         92  \\\n",
       "0  18.570688  17.925602  15.371912  ...  30.741135  24.644682  23.731657   \n",
       "\n",
       "          93         94         95         96        97         98         99  \n",
       "0  20.104092  26.284115  23.300997  26.780066  27.07473  20.991177  15.175308  \n",
       "\n",
       "[1 rows x 100 columns]"
      ]
     },
     "execution_count": 213,
     "metadata": {},
     "output_type": "execute_result"
    }
   ],
   "source": [
    "df"
   ]
  },
  {
   "cell_type": "code",
   "execution_count": 220,
   "metadata": {},
   "outputs": [],
   "source": [
    "df_withmean = pd.concat([df, pd.DataFrame(m).T], axis = 0)"
   ]
  },
  {
   "cell_type": "code",
   "execution_count": 221,
   "metadata": {},
   "outputs": [],
   "source": [
    "df_withmean.to_excel(\"FOODS_2_360_TX_3 predictions.xlsx\", index = False)"
   ]
  },
  {
   "cell_type": "code",
   "execution_count": 35,
   "metadata": {},
   "outputs": [],
   "source": [
    "# model.eval()\n",
    "# plt.figure(figsize = (10,10))\n",
    "# for index, i in enumerate(trainloader):\n",
    "#     if index < 1:\n",
    "#         inputs, labels = i\n",
    "          \n",
    "#         outputs = model(inputs)\n",
    "#         outputs = outputs.detach().numpy()\n",
    "#         plt.plot([i for i in range(len(labels))], labels, label = \"True Sales\")\n",
    "#         print(outputs)\n",
    "#         plt.plot(outputs, label = \"Predicted Sales\")\n",
    "#         plt.legend()\n",
    "# #         plt.ylim(0, 30)\n",
    "#         plt.xlim(0, 100)\n",
    "#         #print(inputs, labels)\n",
    "#     else:\n",
    "#         break"
   ]
  },
  {
   "cell_type": "code",
   "execution_count": 36,
   "metadata": {},
   "outputs": [],
   "source": [
    "# model.eval()\n",
    "# plt.figure(figsize = (10,10))\n",
    "# for index, i in enumerate(testloader):\n",
    "#     if index < 1:\n",
    "#         inputs, labels = i\n",
    "          \n",
    "#         outputs = model(inputs)\n",
    "#         outputs = outputs.detach().numpy()\n",
    "#         plt.plot([i for i in range(len(labels))], labels, label = \"True Sales\")\n",
    "#         print(outputs)\n",
    "#         plt.plot(outputs, label = \"Predicted Sales\")\n",
    "#         plt.legend()\n",
    "# #         plt.ylim(0, 30)\n",
    "#         plt.xlim(0, 100)\n",
    "#         #print(inputs, labels)\n",
    "#     else:\n",
    "#         break"
   ]
  },
  {
   "cell_type": "code",
   "execution_count": 28,
   "metadata": {},
   "outputs": [
    {
     "name": "stdout",
     "output_type": "stream",
     "text": [
      "Train:  4.504484135930131\n"
     ]
    }
   ],
   "source": [
    "model.eval()\n",
    "\n",
    "mse = 0\n",
    "\n",
    "for data in trainloader:\n",
    "    inputs, labels = data\n",
    "    \n",
    "    outputs = model(inputs)\n",
    "    \n",
    "    outputs = outputs.detach().numpy()\n",
    "    mse += mean_squared_error(labels, outputs)\n",
    "print(\"Train: \", mse/len(trainloader))"
   ]
  },
  {
   "cell_type": "code",
   "execution_count": 29,
   "metadata": {},
   "outputs": [
    {
     "name": "stdout",
     "output_type": "stream",
     "text": [
      "Test:  4.5568133050745185\n"
     ]
    }
   ],
   "source": [
    "model.eval()\n",
    "\n",
    "mse = 0\n",
    "\n",
    "for data in testloader:\n",
    "    inputs, labels = data\n",
    "    \n",
    "    outputs = model(inputs)\n",
    "    \n",
    "    outputs = outputs.detach().numpy()\n",
    "    mse += mean_squared_error(labels, outputs)\n",
    "print(\"Test: \", mse/len(testloader))"
   ]
  },
  {
   "cell_type": "code",
   "execution_count": null,
   "metadata": {},
   "outputs": [],
   "source": []
  },
  {
   "cell_type": "code",
   "execution_count": null,
   "metadata": {},
   "outputs": [],
   "source": []
  },
  {
   "cell_type": "markdown",
   "metadata": {},
   "source": [
    "## K-Fold "
   ]
  },
  {
   "cell_type": "code",
   "execution_count": 37,
   "metadata": {},
   "outputs": [],
   "source": [
    "def train_model(X_train, y_train, X_test, y_test):\n",
    "        \n",
    "        # create data loaders\n",
    "\n",
    "    from torch.utils import data\n",
    "    traindataset = data.TensorDataset(X_train, y_train) # create your datset\n",
    "    trainloader = data.DataLoader(traindataset, batch_size=1024, shuffle=True) # create your dataloader\n",
    "\n",
    "\n",
    "    testdataset = data.TensorDataset(X_test,y_test) # create your datset\n",
    "    testloader = data.DataLoader(testdataset, batch_size=1024, shuffle=True) # create your dataloader\n",
    "\n",
    "\n",
    "        \n",
    "        \n",
    "    # build the model \n",
    "    model = BaselineModel(X_train.shape[1], 512)\n",
    "\n",
    "    # define the loss function and the optimiser\n",
    "    loss_function = nn.MSELoss()\n",
    "    optimiser = optim.Adam(model.parameters())\n",
    "\n",
    "    loss_plot = []\n",
    "    loss_eval = []\n",
    "    # the epoch loop\n",
    "    for epoch in range(20):\n",
    "        running_loss = 0.0\n",
    "\n",
    "        for data in trainloader:\n",
    "            # get the inputs\n",
    "            inputs, labels = data\n",
    "\n",
    "            # zero the parameter gradients\n",
    "            optimiser.zero_grad()\n",
    "\n",
    "            # forward + loss + backward + optimise (update weights)\n",
    "            outputs = model(inputs)\n",
    "            outputs = outputs.flatten()\n",
    "            loss = loss_function(outputs, labels)\n",
    "            loss.backward()\n",
    "            optimiser.step()\n",
    "\n",
    "            # keep track of the loss this epoch\n",
    "            running_loss += loss.item()\n",
    "        loss_plot.append(running_loss/len(trainloader))\n",
    "\n",
    "        model.eval()\n",
    "        mse = 0\n",
    "        for index, i in enumerate(testloader):\n",
    "\n",
    "            inputs, labels = i\n",
    "\n",
    "            outputs = model(inputs)\n",
    "            outputs = outputs.detach().numpy()\n",
    "            mse += mean_squared_error(labels, outputs)\n",
    "        loss_eval.append(mse/len(testloader))\n",
    "\n",
    "\n",
    "        print(\"Epoch %d, loss %4.2f, test loss %4.2f\" % (epoch, running_loss/len(trainloader), mse/len(testloader)))\n",
    "    print('**** Finished Training ****')\n",
    "\n",
    "    return(loss_plot[-1], loss_eval[-1])\n",
    "\n"
   ]
  },
  {
   "cell_type": "code",
   "execution_count": 38,
   "metadata": {},
   "outputs": [],
   "source": [
    "from sklearn.model_selection import KFold\n",
    "from torch.utils import data\n",
    "kf5 = KFold(n_splits=6, shuffle=False)\n",
    "def kfold_val(X, Y):\n",
    "    res= []\n",
    "\n",
    "    for index, (train_index, test_index) in enumerate(kf5.split(range(len(X)))):\n",
    "        if index < 5:\n",
    "            res.append(train_model(X[train_index], Y[train_index],X[train_index], Y[train_index]))\n",
    "\n",
    "    return(np.array(res))"
   ]
  },
  {
   "cell_type": "code",
   "execution_count": 39,
   "metadata": {},
   "outputs": [
    {
     "name": "stdout",
     "output_type": "stream",
     "text": [
      "Epoch 0, loss 5.68, test loss 4.84\n",
      "Epoch 1, loss 4.88, test loss 4.90\n",
      "Epoch 2, loss 4.83, test loss 4.70\n",
      "Epoch 3, loss 4.85, test loss 4.71\n",
      "Epoch 4, loss 4.76, test loss 4.83\n",
      "Epoch 5, loss 4.86, test loss 5.20\n",
      "Epoch 6, loss 4.91, test loss 4.57\n",
      "Epoch 7, loss 4.66, test loss 4.48\n",
      "Epoch 8, loss 4.66, test loss 4.74\n",
      "Epoch 9, loss 4.54, test loss 4.39\n",
      "Epoch 10, loss 4.50, test loss 5.27\n",
      "Epoch 11, loss 4.49, test loss 4.26\n",
      "Epoch 12, loss 4.44, test loss 4.58\n",
      "Epoch 13, loss 4.57, test loss 5.20\n",
      "Epoch 14, loss 4.56, test loss 4.18\n",
      "Epoch 15, loss 4.42, test loss 4.27\n",
      "Epoch 16, loss 4.26, test loss 4.16\n",
      "Epoch 17, loss 4.19, test loss 4.13\n",
      "Epoch 18, loss 4.21, test loss 4.06\n",
      "Epoch 19, loss 4.37, test loss 4.82\n",
      "**** Finished Training ****\n",
      "Epoch 0, loss 6.82, test loss 6.49\n",
      "Epoch 1, loss 5.74, test loss 5.40\n",
      "Epoch 2, loss 5.37, test loss 5.32\n",
      "Epoch 3, loss 5.54, test loss 6.00\n",
      "Epoch 4, loss 5.50, test loss 5.31\n",
      "Epoch 5, loss 5.28, test loss 5.45\n",
      "Epoch 6, loss 5.39, test loss 5.23\n",
      "Epoch 7, loss 5.29, test loss 5.16\n",
      "Epoch 8, loss 5.18, test loss 4.98\n",
      "Epoch 9, loss 5.10, test loss 5.24\n",
      "Epoch 10, loss 5.28, test loss 4.83\n",
      "Epoch 11, loss 5.00, test loss 4.82\n",
      "Epoch 12, loss 5.07, test loss 4.87\n",
      "Epoch 13, loss 5.04, test loss 4.80\n",
      "Epoch 14, loss 4.93, test loss 4.78\n",
      "Epoch 15, loss 5.27, test loss 4.94\n",
      "Epoch 16, loss 4.90, test loss 4.68\n",
      "Epoch 17, loss 4.80, test loss 4.83\n",
      "Epoch 18, loss 4.78, test loss 4.76\n",
      "Epoch 19, loss 4.75, test loss 5.01\n",
      "**** Finished Training ****\n",
      "Epoch 0, loss 6.65, test loss 5.82\n",
      "Epoch 1, loss 5.42, test loss 5.22\n",
      "Epoch 2, loss 5.36, test loss 5.20\n",
      "Epoch 3, loss 5.26, test loss 5.19\n",
      "Epoch 4, loss 5.29, test loss 5.38\n",
      "Epoch 5, loss 5.20, test loss 5.12\n",
      "Epoch 6, loss 5.21, test loss 5.49\n",
      "Epoch 7, loss 5.31, test loss 5.23\n",
      "Epoch 8, loss 5.14, test loss 4.94\n",
      "Epoch 9, loss 5.20, test loss 4.96\n",
      "Epoch 10, loss 5.18, test loss 5.46\n",
      "Epoch 11, loss 5.06, test loss 4.93\n",
      "Epoch 12, loss 4.91, test loss 4.71\n",
      "Epoch 13, loss 5.01, test loss 5.56\n",
      "Epoch 14, loss 4.96, test loss 5.41\n",
      "Epoch 15, loss 4.95, test loss 4.93\n",
      "Epoch 16, loss 5.02, test loss 4.69\n",
      "Epoch 17, loss 4.84, test loss 4.60\n",
      "Epoch 18, loss 4.92, test loss 4.59\n",
      "Epoch 19, loss 4.73, test loss 4.99\n",
      "**** Finished Training ****\n",
      "Epoch 0, loss 6.88, test loss 5.26\n",
      "Epoch 1, loss 5.45, test loss 5.22\n",
      "Epoch 2, loss 5.32, test loss 5.21\n",
      "Epoch 3, loss 5.62, test loss 5.27\n",
      "Epoch 4, loss 5.26, test loss 5.42\n",
      "Epoch 5, loss 5.28, test loss 5.28\n",
      "Epoch 6, loss 5.22, test loss 5.79\n",
      "Epoch 7, loss 5.46, test loss 5.05\n",
      "Epoch 8, loss 5.11, test loss 5.11\n",
      "Epoch 9, loss 5.07, test loss 4.89\n",
      "Epoch 10, loss 5.23, test loss 4.81\n",
      "Epoch 11, loss 5.11, test loss 4.95\n",
      "Epoch 12, loss 4.94, test loss 4.88\n",
      "Epoch 13, loss 5.16, test loss 4.71\n",
      "Epoch 14, loss 4.95, test loss 4.71\n",
      "Epoch 15, loss 4.91, test loss 5.24\n",
      "Epoch 16, loss 4.81, test loss 4.62\n",
      "Epoch 17, loss 4.93, test loss 4.65\n",
      "Epoch 18, loss 4.71, test loss 4.81\n",
      "Epoch 19, loss 4.71, test loss 4.83\n",
      "**** Finished Training ****\n",
      "Epoch 0, loss 6.33, test loss 5.29\n",
      "Epoch 1, loss 5.42, test loss 5.27\n",
      "Epoch 2, loss 5.44, test loss 5.35\n",
      "Epoch 3, loss 5.34, test loss 5.14\n",
      "Epoch 4, loss 5.20, test loss 5.37\n",
      "Epoch 5, loss 5.11, test loss 5.01\n",
      "Epoch 6, loss 5.10, test loss 5.23\n",
      "Epoch 7, loss 5.21, test loss 5.16\n",
      "Epoch 8, loss 5.10, test loss 4.84\n",
      "Epoch 9, loss 4.88, test loss 4.72\n",
      "Epoch 10, loss 4.87, test loss 5.37\n",
      "Epoch 11, loss 5.24, test loss 4.90\n",
      "Epoch 12, loss 4.75, test loss 4.64\n",
      "Epoch 13, loss 4.86, test loss 4.63\n",
      "Epoch 14, loss 4.81, test loss 4.88\n",
      "Epoch 15, loss 4.68, test loss 4.54\n",
      "Epoch 16, loss 4.61, test loss 4.62\n",
      "Epoch 17, loss 4.73, test loss 4.45\n",
      "Epoch 18, loss 4.69, test loss 4.78\n",
      "Epoch 19, loss 4.57, test loss 4.49\n",
      "**** Finished Training ****\n"
     ]
    }
   ],
   "source": [
    "res = kfold_val(X, y)"
   ]
  },
  {
   "cell_type": "code",
   "execution_count": 40,
   "metadata": {},
   "outputs": [
    {
     "data": {
      "text/plain": [
       "array([[4.37453762, 4.81888207],\n",
       "       [4.75242199, 5.01156299],\n",
       "       [4.73216215, 4.99203589],\n",
       "       [4.71438932, 4.82818273],\n",
       "       [4.57204967, 4.48658351]])"
      ]
     },
     "execution_count": 40,
     "metadata": {},
     "output_type": "execute_result"
    }
   ],
   "source": [
    "res"
   ]
  },
  {
   "cell_type": "code",
   "execution_count": 41,
   "metadata": {},
   "outputs": [],
   "source": [
    "res = np.asarray(res)"
   ]
  },
  {
   "cell_type": "code",
   "execution_count": 42,
   "metadata": {},
   "outputs": [
    {
     "data": {
      "text/plain": [
       "(4.6291121505555655, 0.14224003308188585)"
      ]
     },
     "execution_count": 42,
     "metadata": {},
     "output_type": "execute_result"
    }
   ],
   "source": [
    "np.mean(res[:, 0]), np.std(res[:, 0])"
   ]
  },
  {
   "cell_type": "code",
   "execution_count": 43,
   "metadata": {},
   "outputs": [
    {
     "data": {
      "text/plain": [
       "(4.82744943641481, 0.1882817148730687)"
      ]
     },
     "execution_count": 43,
     "metadata": {},
     "output_type": "execute_result"
    }
   ],
   "source": [
    "np.mean(res[:, 1]), np.std(res[:, 1])"
   ]
  },
  {
   "cell_type": "code",
   "execution_count": null,
   "metadata": {},
   "outputs": [],
   "source": []
  },
  {
   "cell_type": "code",
   "execution_count": null,
   "metadata": {},
   "outputs": [],
   "source": []
  },
  {
   "cell_type": "code",
   "execution_count": null,
   "metadata": {},
   "outputs": [],
   "source": []
  },
  {
   "cell_type": "code",
   "execution_count": null,
   "metadata": {},
   "outputs": [],
   "source": []
  },
  {
   "cell_type": "code",
   "execution_count": null,
   "metadata": {},
   "outputs": [],
   "source": []
  },
  {
   "cell_type": "code",
   "execution_count": null,
   "metadata": {},
   "outputs": [],
   "source": []
  }
 ],
 "metadata": {
  "kernelspec": {
   "display_name": "Python 3",
   "language": "python",
   "name": "python3"
  },
  "language_info": {
   "codemirror_mode": {
    "name": "ipython",
    "version": 3
   },
   "file_extension": ".py",
   "mimetype": "text/x-python",
   "name": "python",
   "nbconvert_exporter": "python",
   "pygments_lexer": "ipython3",
   "version": "3.7.9"
  }
 },
 "nbformat": 4,
 "nbformat_minor": 4
}
