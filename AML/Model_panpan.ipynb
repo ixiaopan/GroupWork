{
 "cells": [
  {
   "cell_type": "code",
   "execution_count": 1,
   "metadata": {},
   "outputs": [],
   "source": [
    "import numpy as np\n",
    "import pandas as pd\n",
    "import matplotlib.pyplot as plt\n",
    "\n",
    "from sklearn import metrics\n",
    "from sklearn.preprocessing import LabelEncoder, OneHotEncoder\n",
    "from sklearn.utils import resample\n",
    "from sklearn.preprocessing import StandardScaler\n",
    "from sklearn.metrics import mean_squared_error\n",
    "from sklearn.model_selection import cross_val_score\n",
    "\n",
    "import HelperFunctions as hf\n"
   ]
  },
  {
   "cell_type": "markdown",
   "metadata": {},
   "source": [
    "## Load data"
   ]
  },
  {
   "cell_type": "code",
   "execution_count": 4,
   "metadata": {},
   "outputs": [
    {
     "name": "stdout",
     "output_type": "stream",
     "text": [
      "Loading data Done.\n"
     ]
    }
   ],
   "source": [
    "calendar, sell_price, sales_evaluation, sales_validation = load_data()\n"
   ]
  },
  {
   "cell_type": "code",
   "execution_count": 5,
   "metadata": {},
   "outputs": [],
   "source": [
    "sampled_item_ids = stratified_sample(sales_validation)\n"
   ]
  },
  {
   "cell_type": "code",
   "execution_count": 21,
   "metadata": {},
   "outputs": [
    {
     "data": {
      "text/plain": [
       "1000"
      ]
     },
     "execution_count": 21,
     "metadata": {},
     "output_type": "execute_result"
    }
   ],
   "source": [
    "len(sampled_item_ids)"
   ]
  },
  {
   "cell_type": "markdown",
   "metadata": {},
   "source": [
    "## Clean/Transform data\n"
   ]
  },
  {
   "cell_type": "code",
   "execution_count": 26,
   "metadata": {},
   "outputs": [
    {
     "name": "stdout",
     "output_type": "stream",
     "text": [
      "Combining data Done.\n",
      "Cleaning data Done.\n",
      "Reduce memory Done.\n"
     ]
    }
   ],
   "source": [
    "df = generate_data(sales_validation, sampled_item_ids, dataSource='train', day_cut=1300)\n"
   ]
  },
  {
   "cell_type": "code",
   "execution_count": 27,
   "metadata": {},
   "outputs": [
    {
     "data": {
      "text/plain": [
       "(56, 1300)"
      ]
     },
     "execution_count": 27,
     "metadata": {},
     "output_type": "execute_result"
    }
   ],
   "source": [
    "df['d'].min(), df['d'].max()"
   ]
  },
  {
   "cell_type": "markdown",
   "metadata": {},
   "source": [
    "## Split-Train"
   ]
  },
  {
   "cell_type": "code",
   "execution_count": 28,
   "metadata": {},
   "outputs": [
    {
     "data": {
      "text/plain": [
       "((6445993, 47), (6445993,), (786179, 47), (786179,))"
      ]
     },
     "execution_count": 28,
     "metadata": {},
     "output_type": "execute_result"
    }
   ],
   "source": [
    "d_start = int(max(df['d'])) - 100\n",
    "\n",
    "train_set = df[df['d'] <= d_start]\n",
    "test_set = df[(df['d'] > d_start)]\n",
    "\n",
    "X_train = train_set[train_set.columns[train_set.columns != 'sold']]\n",
    "y_train = train_set['sold']\n",
    "\n",
    "X_test = test_set[test_set.columns[test_set.columns != 'sold']]\n",
    "y_test = test_set['sold']\n",
    "\n",
    "X_train = X_train.loc[:, ~X_train.columns.isin(['id', 'd'])] # 'id', 'd', 'item_id'\n",
    "X_test = X_test.loc[:, ~X_test.columns.isin(['id', 'd'])]\n",
    "\n",
    "X_train.shape, y_train.shape, X_test.shape, y_test.shape\n"
   ]
  },
  {
   "cell_type": "code",
   "execution_count": 29,
   "metadata": {},
   "outputs": [
    {
     "data": {
      "text/html": [
       "<div>\n",
       "<style scoped>\n",
       "    .dataframe tbody tr th:only-of-type {\n",
       "        vertical-align: middle;\n",
       "    }\n",
       "\n",
       "    .dataframe tbody tr th {\n",
       "        vertical-align: top;\n",
       "    }\n",
       "\n",
       "    .dataframe thead th {\n",
       "        text-align: right;\n",
       "    }\n",
       "</style>\n",
       "<table border=\"1\" class=\"dataframe\">\n",
       "  <thead>\n",
       "    <tr style=\"text-align: right;\">\n",
       "      <th></th>\n",
       "      <th>wday</th>\n",
       "      <th>month</th>\n",
       "      <th>year</th>\n",
       "      <th>snap_CA</th>\n",
       "      <th>snap_TX</th>\n",
       "      <th>snap_WI</th>\n",
       "      <th>sell_price</th>\n",
       "      <th>Cultural</th>\n",
       "      <th>National</th>\n",
       "      <th>Religious</th>\n",
       "      <th>...</th>\n",
       "      <th>TX</th>\n",
       "      <th>WI</th>\n",
       "      <th>rolling_mean_1_28</th>\n",
       "      <th>rolling_mean_7_28</th>\n",
       "      <th>rolling_mean_14_28</th>\n",
       "      <th>rolling_mean_28_28</th>\n",
       "      <th>sold_lag_1</th>\n",
       "      <th>sold_lag_7</th>\n",
       "      <th>sold_lag_14</th>\n",
       "      <th>sold_lag_28</th>\n",
       "    </tr>\n",
       "  </thead>\n",
       "  <tbody>\n",
       "    <tr>\n",
       "      <th>10416000</th>\n",
       "      <td>4</td>\n",
       "      <td>5</td>\n",
       "      <td>2014</td>\n",
       "      <td>0</td>\n",
       "      <td>1</td>\n",
       "      <td>0</td>\n",
       "      <td>3.080078</td>\n",
       "      <td>0</td>\n",
       "      <td>0</td>\n",
       "      <td>0</td>\n",
       "      <td>...</td>\n",
       "      <td>0</td>\n",
       "      <td>0</td>\n",
       "      <td>0.0</td>\n",
       "      <td>0.285714</td>\n",
       "      <td>0.714286</td>\n",
       "      <td>0.607143</td>\n",
       "      <td>1.0</td>\n",
       "      <td>0.0</td>\n",
       "      <td>0.0</td>\n",
       "      <td>0.0</td>\n",
       "    </tr>\n",
       "    <tr>\n",
       "      <th>10416001</th>\n",
       "      <td>4</td>\n",
       "      <td>5</td>\n",
       "      <td>2014</td>\n",
       "      <td>0</td>\n",
       "      <td>1</td>\n",
       "      <td>0</td>\n",
       "      <td>7.878906</td>\n",
       "      <td>0</td>\n",
       "      <td>0</td>\n",
       "      <td>0</td>\n",
       "      <td>...</td>\n",
       "      <td>0</td>\n",
       "      <td>0</td>\n",
       "      <td>0.0</td>\n",
       "      <td>0.142857</td>\n",
       "      <td>0.214286</td>\n",
       "      <td>0.250000</td>\n",
       "      <td>0.0</td>\n",
       "      <td>0.0</td>\n",
       "      <td>0.0</td>\n",
       "      <td>0.0</td>\n",
       "    </tr>\n",
       "    <tr>\n",
       "      <th>10416002</th>\n",
       "      <td>4</td>\n",
       "      <td>5</td>\n",
       "      <td>2014</td>\n",
       "      <td>0</td>\n",
       "      <td>1</td>\n",
       "      <td>0</td>\n",
       "      <td>1.769531</td>\n",
       "      <td>0</td>\n",
       "      <td>0</td>\n",
       "      <td>0</td>\n",
       "      <td>...</td>\n",
       "      <td>0</td>\n",
       "      <td>0</td>\n",
       "      <td>5.0</td>\n",
       "      <td>2.142857</td>\n",
       "      <td>1.642857</td>\n",
       "      <td>1.285714</td>\n",
       "      <td>1.0</td>\n",
       "      <td>0.0</td>\n",
       "      <td>0.0</td>\n",
       "      <td>5.0</td>\n",
       "    </tr>\n",
       "    <tr>\n",
       "      <th>10416003</th>\n",
       "      <td>4</td>\n",
       "      <td>5</td>\n",
       "      <td>2014</td>\n",
       "      <td>0</td>\n",
       "      <td>1</td>\n",
       "      <td>0</td>\n",
       "      <td>3.480469</td>\n",
       "      <td>0</td>\n",
       "      <td>0</td>\n",
       "      <td>0</td>\n",
       "      <td>...</td>\n",
       "      <td>0</td>\n",
       "      <td>0</td>\n",
       "      <td>0.0</td>\n",
       "      <td>0.428571</td>\n",
       "      <td>0.214286</td>\n",
       "      <td>0.107143</td>\n",
       "      <td>0.0</td>\n",
       "      <td>0.0</td>\n",
       "      <td>0.0</td>\n",
       "      <td>0.0</td>\n",
       "    </tr>\n",
       "    <tr>\n",
       "      <th>10416004</th>\n",
       "      <td>4</td>\n",
       "      <td>5</td>\n",
       "      <td>2014</td>\n",
       "      <td>0</td>\n",
       "      <td>1</td>\n",
       "      <td>0</td>\n",
       "      <td>1.969727</td>\n",
       "      <td>0</td>\n",
       "      <td>0</td>\n",
       "      <td>0</td>\n",
       "      <td>...</td>\n",
       "      <td>0</td>\n",
       "      <td>0</td>\n",
       "      <td>1.0</td>\n",
       "      <td>0.714286</td>\n",
       "      <td>0.571429</td>\n",
       "      <td>0.357143</td>\n",
       "      <td>1.0</td>\n",
       "      <td>1.0</td>\n",
       "      <td>0.0</td>\n",
       "      <td>1.0</td>\n",
       "    </tr>\n",
       "  </tbody>\n",
       "</table>\n",
       "<p>5 rows × 47 columns</p>\n",
       "</div>"
      ],
      "text/plain": [
       "          wday  month  year  snap_CA  snap_TX  snap_WI  sell_price  Cultural  \\\n",
       "10416000     4      5  2014        0        1        0    3.080078         0   \n",
       "10416001     4      5  2014        0        1        0    7.878906         0   \n",
       "10416002     4      5  2014        0        1        0    1.769531         0   \n",
       "10416003     4      5  2014        0        1        0    3.480469         0   \n",
       "10416004     4      5  2014        0        1        0    1.969727         0   \n",
       "\n",
       "          National  Religious  ...  TX  WI  rolling_mean_1_28  \\\n",
       "10416000         0          0  ...   0   0                0.0   \n",
       "10416001         0          0  ...   0   0                0.0   \n",
       "10416002         0          0  ...   0   0                5.0   \n",
       "10416003         0          0  ...   0   0                0.0   \n",
       "10416004         0          0  ...   0   0                1.0   \n",
       "\n",
       "          rolling_mean_7_28  rolling_mean_14_28  rolling_mean_28_28  \\\n",
       "10416000           0.285714            0.714286            0.607143   \n",
       "10416001           0.142857            0.214286            0.250000   \n",
       "10416002           2.142857            1.642857            1.285714   \n",
       "10416003           0.428571            0.214286            0.107143   \n",
       "10416004           0.714286            0.571429            0.357143   \n",
       "\n",
       "          sold_lag_1  sold_lag_7  sold_lag_14  sold_lag_28  \n",
       "10416000         1.0         0.0          0.0          0.0  \n",
       "10416001         0.0         0.0          0.0          0.0  \n",
       "10416002         1.0         0.0          0.0          5.0  \n",
       "10416003         0.0         0.0          0.0          0.0  \n",
       "10416004         1.0         1.0          0.0          1.0  \n",
       "\n",
       "[5 rows x 47 columns]"
      ]
     },
     "execution_count": 29,
     "metadata": {},
     "output_type": "execute_result"
    }
   ],
   "source": [
    "X_test.head()\n"
   ]
  },
  {
   "cell_type": "markdown",
   "metadata": {},
   "source": [
    "## Scaling"
   ]
  },
  {
   "cell_type": "code",
   "execution_count": 30,
   "metadata": {},
   "outputs": [],
   "source": [
    "scaler = StandardScaler()\n",
    "\n",
    "X_train = scaler.fit_transform(X_train)\n",
    "X_test = scaler.transform(X_test)\n"
   ]
  },
  {
   "cell_type": "code",
   "execution_count": 33,
   "metadata": {},
   "outputs": [],
   "source": [
    "def display_scores(scores):\n",
    "    print(\"Scores:\", scores)\n",
    "    print(\"Mean:\", scores.mean())\n",
    "    print(\"Standard deviation:\", scores.std())\n"
   ]
  },
  {
   "cell_type": "markdown",
   "metadata": {},
   "source": [
    "## Linear regression"
   ]
  },
  {
   "cell_type": "code",
   "execution_count": 31,
   "metadata": {},
   "outputs": [
    {
     "data": {
      "text/plain": [
       "LinearRegression()"
      ]
     },
     "execution_count": 31,
     "metadata": {},
     "output_type": "execute_result"
    }
   ],
   "source": [
    "from sklearn.linear_model import LinearRegression\n",
    "\n",
    "def mse(y_t, y_p):\n",
    "    return mean_squared_error(y_t, y_p)\n",
    "\n",
    "lin_reg = LinearRegression()\n",
    "lin_reg.fit(X_train, y_train)\n"
   ]
  },
  {
   "cell_type": "code",
   "execution_count": 32,
   "metadata": {},
   "outputs": [
    {
     "name": "stdout",
     "output_type": "stream",
     "text": [
      "Train mse error 6.666508131530263\n",
      "Test mse error 5.356967932776024\n"
     ]
    }
   ],
   "source": [
    "y_train_predicted = lin_reg.predict(X_train)\n",
    "print('Train mse error', mse(y_train_predicted, y_train))\n",
    "\n",
    "y_test_predicted = lin_reg.predict(X_test)\n",
    "print('Test mse error', mse(y_test_predicted, y_test))\n"
   ]
  },
  {
   "cell_type": "markdown",
   "metadata": {},
   "source": [
    "## Cross-Validation"
   ]
  },
  {
   "cell_type": "code",
   "execution_count": 34,
   "metadata": {},
   "outputs": [
    {
     "name": "stdout",
     "output_type": "stream",
     "text": [
      "Scores: [6.91882043 7.88129615 6.74710361 6.41287682 5.41640264]\n",
      "Mean: 6.675299931529864\n",
      "Standard deviation: 0.7965642663892307\n"
     ]
    }
   ],
   "source": [
    "lin_scores = cross_val_score(lin_reg, X_train, y_train, scoring=\"neg_mean_squared_error\", cv=5)\n",
    "\n",
    "display_scores(-lin_scores)\n"
   ]
  },
  {
   "cell_type": "code",
   "execution_count": 86,
   "metadata": {},
   "outputs": [],
   "source": [
    "def predict_random_item(df, item_id=None, day=28):\n",
    "    if item_id is None:\n",
    "        item_id = np.random.choice(df['id'], 1).tolist()[0]\n",
    "\n",
    "    d_start = int(max(df['d'])) - day\n",
    "    random_item = df[df['id'] == item_id]\n",
    "    random_item_28 = random_item[random_item['d'] > d_start]\n",
    "\n",
    "    random_item_28_x = random_item_28.loc[:, ~random_item_28.columns.isin(['id', 'd', 'sold'])]\n",
    "    random_item_28_y = random_item_28['sold']\n",
    "    random_item_28_y_predicted = lin_reg.predict(scaler.transform(random_item_28_x))\n",
    "\n",
    "    fig, ax = plt.subplots()\n",
    "    ax.plot(range(len(random_item_28_y)), random_item_28_y)\n",
    "    ax.plot(range(len(random_item_28_y_predicted)), random_item_28_y_predicted)\n",
    "#     ax.set_title('Sales of ' + item_id + ',' + str(d_start) + '~' + str(d_start+day))\n",
    "    ax.set_ylabel('daily sales')\n",
    "    ax.set_xlabel('day')\n",
    "    ax.set_xticklabels(np.arange(d_start-20, d_start+day+20, 20))\n",
    "    return random_item_28_y_predicted, random_item_28_y\n",
    "\n"
   ]
  },
  {
   "cell_type": "code",
   "execution_count": 87,
   "metadata": {},
   "outputs": [
    {
     "name": "stderr",
     "output_type": "stream",
     "text": [
      "<ipython-input-86-166799ea25f1>:19: UserWarning: FixedFormatter should only be used together with FixedLocator\n",
      "  ax.set_xticklabels(np.arange(d_start-20, d_start+day+20, 20))\n"
     ]
    },
    {
     "data": {
      "image/png": "[encoded data removed]",
      "text/plain": [
       "<Figure size 432x288 with 1 Axes>"
      ]
     },
     "metadata": {
      "needs_background": "light"
     },
     "output_type": "display_data"
    }
   ],
   "source": [
    "y_pred, _ = predict_random_item(df, item_id='FOODS_2_360_TX_3_validation', day=100)\n"
   ]
  },
  {
   "cell_type": "markdown",
   "metadata": {},
   "source": [
    "## By Department"
   ]
  },
  {
   "cell_type": "code",
   "execution_count": 91,
   "metadata": {},
   "outputs": [
    {
     "name": "stdout",
     "output_type": "stream",
     "text": [
      "FOODS_1(58406) MSE: 4.43257856382963\n",
      "FOODS_2(112237) MSE: 3.2646904631699862\n",
      "FOODS_3(191287) MSE: 13.324880057793084\n",
      "HOBBIES_1(112924) MSE: 4.110112320422471\n",
      "HOBBIES_2(38280) MSE: 0.29944466903696176\n",
      "HOUSEHOLD_1(131950) MSE: 3.6661787010282563\n",
      "HOUSEHOLD_2(141095) MSE: 0.5528599063766454\n"
     ]
    }
   ],
   "source": [
    "departs = ['FOODS_1', 'FOODS_2', 'FOODS_3', 'HOBBIES_1', 'HOBBIES_2', 'HOUSEHOLD_1', 'HOUSEHOLD_2']\n",
    "dept_mse = []\n",
    "for depart in departs:\n",
    "    test_dept = test_set[test_set[depart] == 1]\n",
    "\n",
    "    y_dept_test = test_dept['sold']\n",
    "\n",
    "    X_dept_test = test_dept[test_dept.columns[test_dept.columns != 'sold']]\n",
    "    X_dept_test = X_dept_test.loc[:, ~X_dept_test.columns.isin(['id', 'd'])]\n",
    "    X_dept_test = scaler.transform(X_dept_test)\n",
    "    \n",
    "    y_test_dept_predicted = lin_reg.predict(X_dept_test)\n",
    "\n",
    "    d_mse = mse(y_test_dept_predicted, y_dept_test)\n",
    "    dept_mse.append(d_mse)\n",
    "    \n",
    "    print(depart+'(' + str(len(test_dept)) + ') MSE:', d_mse)\n"
   ]
  },
  {
   "cell_type": "code",
   "execution_count": 92,
   "metadata": {},
   "outputs": [
    {
     "data": {
      "text/plain": [
       "Index(['id', 'd', 'sold', 'wday', 'month', 'year', 'snap_CA', 'snap_TX',\n",
       "       'snap_WI', 'sell_price', 'Cultural', 'National', 'Religious',\n",
       "       'Sporting', 'NoEvent', 'Christmas', 'weekend', 'midweek', 'monfri',\n",
       "       'FOODS_1', 'FOODS_2', 'FOODS_3', 'HOBBIES_1', 'HOBBIES_2',\n",
       "       'HOUSEHOLD_1', 'HOUSEHOLD_2', 'FOODS', 'HOBBIES', 'HOUSEHOLD', 'CA_1',\n",
       "       'CA_2', 'CA_3', 'CA_4', 'TX_1', 'TX_2', 'TX_3', 'WI_1', 'WI_2', 'WI_3',\n",
       "       'CA', 'TX', 'WI', 'rolling_mean_1_28', 'rolling_mean_7_28',\n",
       "       'rolling_mean_14_28', 'rolling_mean_28_28', 'sold_lag_1', 'sold_lag_7',\n",
       "       'sold_lag_14', 'sold_lag_28'],\n",
       "      dtype='object')"
      ]
     },
     "execution_count": 92,
     "metadata": {},
     "output_type": "execute_result"
    }
   ],
   "source": [
    "test_set.columns"
   ]
  },
  {
   "cell_type": "markdown",
   "metadata": {},
   "source": [
    "## By Store"
   ]
  },
  {
   "cell_type": "code",
   "execution_count": 96,
   "metadata": {},
   "outputs": [
    {
     "name": "stdout",
     "output_type": "stream",
     "text": [
      "CA_1(79931) MSE: 6.475986819380636\n",
      "CA_2(70238) MSE: 3.206048092302813\n",
      "CA_3(79968) MSE: 11.091780684957609\n",
      "CA_4(77922) MSE: 2.4383425947732245\n",
      "TX_1(80085) MSE: 6.572097488322451\n",
      "TX_2(80015) MSE: 5.1999881911621415\n",
      "TX_3(79575) MSE: 4.529741307592867\n",
      "WI_1(79686) MSE: 2.8133508296809344\n",
      "WI_2(79573) MSE: 7.760615566955861\n",
      "WI_3(79186) MSE: 3.1211495823384907\n"
     ]
    }
   ],
   "source": [
    "stores = ['CA_1', 'CA_2', 'CA_3', 'CA_4', 'TX_1', 'TX_2', 'TX_3', 'WI_1', 'WI_2', 'WI_3']\n",
    "store_mse = []\n",
    "\n",
    "for store in stores:\n",
    "    test_dept = test_set[test_set[store] == 1]\n",
    "\n",
    "    y_dept_test = test_dept['sold']\n",
    "    X_dept_test = test_dept[test_dept.columns[test_dept.columns != 'sold']]\n",
    "    X_dept_test = X_dept_test.loc[:, ~X_dept_test.columns.isin(['id', 'd'])]\n",
    "    X_dept_test = scaler.transform(X_dept_test)\n",
    "    \n",
    "    y_test_dept_predicted = lin_reg.predict(X_dept_test)\n",
    "    d_mse = mse(y_test_dept_predicted, y_dept_test)\n",
    "    store_mse.append(d_mse)\n",
    "    \n",
    "    print(store+'(' + str(len(test_dept)) + ') MSE:', d_mse)\n"
   ]
  },
  {
   "cell_type": "code",
   "execution_count": null,
   "metadata": {},
   "outputs": [],
   "source": []
  },
  {
   "cell_type": "markdown",
   "metadata": {},
   "source": [
    "## Evaluation"
   ]
  },
  {
   "cell_type": "code",
   "execution_count": 12,
   "metadata": {},
   "outputs": [
    {
     "name": "stdout",
     "output_type": "stream",
     "text": [
      "Combining data Done.\n",
      "Cleaning data Done.\n",
      "Reduce memory Done.\n"
     ]
    }
   ],
   "source": [
    "sampled_evaluation_data = generate_data(sales_evaluation, sampled_item_ids, 'test')\n"
   ]
  },
  {
   "cell_type": "code",
   "execution_count": 13,
   "metadata": {},
   "outputs": [
    {
     "name": "stdout",
     "output_type": "stream",
     "text": [
      "MSE 4.231781108822001\n"
     ]
    }
   ],
   "source": [
    "dev_start = int(max(sampled_evaluation_data['d'])) - 28\n",
    "sampled_evaluation_28 = sampled_evaluation_data[sampled_evaluation_data['d'] > dev_start]\n",
    "\n",
    "sampled_evaluation_28_x = sampled_evaluation_28.loc[:, ~sampled_evaluation_28.columns.isin(['id', 'd', 'sold'])]\n",
    "sampled_evaluation_28_y = sampled_evaluation_28['sold']\n",
    "sampled_evaluation_28_y_predicted = lin_reg.predict(scaler.transform(sampled_evaluation_28_x))\n",
    "\n",
    "print('MSE', mse(sampled_evaluation_28_y, sampled_evaluation_28_y_predicted))\n"
   ]
  },
  {
   "cell_type": "code",
   "execution_count": 14,
   "metadata": {},
   "outputs": [
    {
     "data": {
      "text/plain": [
       "array([0.11492044, 0.12245829, 0.38770182, 0.41623575, 0.46576578,\n",
       "       0.47042996, 0.41226918, 0.26400406, 0.38692362, 0.66681559,\n",
       "       0.29936869, 0.99677164, 0.5385719 , 0.31697614, 0.26749188,\n",
       "       0.48919064, 0.33371622, 0.72917826, 0.26218302, 0.34497721,\n",
       "       0.41245157, 0.06737406, 0.17282755, 0.09473307, 0.33658487,\n",
       "       0.51616556, 0.34496266, 0.65692789])"
      ]
     },
     "execution_count": 14,
     "metadata": {},
     "output_type": "execute_result"
    },
    {
     "data": {
      "image/png": "[encoded data removed]",
      "text/plain": [
       "<Figure size 432x288 with 1 Axes>"
      ]
     },
     "metadata": {
      "needs_background": "light"
     },
     "output_type": "display_data"
    }
   ],
   "source": [
    "y_pred, y = predict_random_item(sampled_evaluation_data, item_id='FOODS_3_824_WI_3_evaluation')\n",
    "\n",
    "y_pred\n"
   ]
  },
  {
   "cell_type": "code",
   "execution_count": null,
   "metadata": {},
   "outputs": [],
   "source": []
  },
  {
   "cell_type": "markdown",
   "metadata": {},
   "source": [
    "## Learning Curve"
   ]
  },
  {
   "cell_type": "code",
   "execution_count": 23,
   "metadata": {},
   "outputs": [],
   "source": [
    "from sklearn.model_selection import learning_curve\n",
    "\n",
    "train_sizes, train_scores, validation_scores = learning_curve(estimator = lin_reg, \n",
    "    X = X_train, y = y_train, train_sizes=np.linspace(.1, 1.0, 2), \n",
    "    cv = 2, scoring = 'neg_mean_squared_error')\n"
   ]
  },
  {
   "cell_type": "code",
   "execution_count": 21,
   "metadata": {},
   "outputs": [
    {
     "data": {
      "text/plain": [
       "array([5.61582925e+23, 3.17696275e+23, 2.80927860e+24, 6.03294873e+22,\n",
       "       2.16209409e+19, 9.79345262e+20, 8.70713178e+20, 2.23605248e+19,\n",
       "       4.55779335e+00, 4.55745960e+00])"
      ]
     },
     "execution_count": 21,
     "metadata": {},
     "output_type": "execute_result"
    }
   ],
   "source": [
    "train_scores, validation_scores\n",
    "\n"
   ]
  },
  {
   "cell_type": "code",
   "execution_count": 20,
   "metadata": {},
   "outputs": [
    {
     "data": {
      "image/png": "[encoded data removed]",
      "text/plain": [
       "<Figure size 432x288 with 1 Axes>"
      ]
     },
     "metadata": {
      "needs_background": "light"
     },
     "output_type": "display_data"
    }
   ],
   "source": [
    "# plot \n",
    "train_scores_mean = (-train_scores).mean(axis = 1)\n",
    "validation_scores_mean = (-validation_scores).mean(axis =1)\n",
    "\n",
    "plt.plot(train_sizes, train_scores_mean, label = 'Training error')\n",
    "plt.plot(train_sizes, validation_scores_mean, label = 'Validation error')\n",
    "\n",
    "plt.ylabel('MSE')\n",
    "plt.xlabel('Training set size')\n",
    "plt.title('Learning curve for a linear regression model')\n",
    "plt.legend()\n",
    "plt.show()\n"
   ]
  },
  {
   "cell_type": "markdown",
   "metadata": {},
   "source": [
    "# Utilities"
   ]
  },
  {
   "cell_type": "code",
   "execution_count": 25,
   "metadata": {},
   "outputs": [],
   "source": [
    "# simply rearrange the helper functions for better modules\n",
    "def generate_data(sales, sampled_item_ids, dataSource='train', \n",
    "                  day_cut=1200, merge=True, dropPriceNA=True):\n",
    "    sampled_data = sales[sales['item_id'].isin(sampled_item_ids)]\n",
    "\n",
    "    if dataSource=='train':\n",
    "        df = combine_data(calendar, sell_price, sampled_data, \n",
    "                          day_cut=day_cut, merge=merge, dropPriceNA=dropPriceNA)\n",
    "    else:\n",
    "        df = combine_data(calendar, sell_price, sampled_data, \n",
    "                          merge=merge, dropPriceNA=dropPriceNA)\n",
    "\n",
    "    df = clean_data(df)\n",
    "    df = reduce_memory(df)\n",
    "    \n",
    "    # rolling mean features\n",
    "    df = hf.rollingMeanDemandFeature(df, windowSize=1, shift=28)\n",
    "    df = hf.rollingMeanDemandFeature(df, windowSize=7, shift=28)\n",
    "    df = hf.rollingMeanDemandFeature(df, windowSize=14, shift=28)\n",
    "    df = hf.rollingMeanDemandFeature(df, windowSize=28, shift=28)\n",
    "\n",
    "    # lag features\n",
    "    df = hf.lagFeature(df, var='sold', lag=1) \n",
    "    df = hf.lagFeature(df, var='sold', lag=7)\n",
    "    df = hf.lagFeature(df, var='sold', lag=14)\n",
    "    df = hf.lagFeature(df, var='sold', lag=28)\n",
    "\n",
    "    df.dropna(inplace=True) # remove NaN due to lag and rolling\n",
    "    \n",
    "    return df\n",
    "\n",
    "\n",
    "def load_data():\n",
    "    calendar = hf.load_calendar_data()\n",
    "    sell_price = hf.load_sell_price_data()\n",
    "    sales_evaluation = hf.load_sales_train_evaluation_data()\n",
    "    sales_validation = hf.load_sales_train_validation_data()\n",
    "\n",
    "    print('Loading data Done.')\n",
    "    return calendar, sell_price, sales_evaluation, sales_validation\n",
    "\n",
    "def combine_data(calendar, sell_price, df, day_cut=1200, merge=False, dropPriceNA=False):\n",
    "    '''\n",
    "    convert wide data format to long data format, \n",
    "    merge data to a single dataframe\n",
    "    get data that have 'd_' >= 1500\n",
    "    '''\n",
    "   \n",
    "    # days cutoff\n",
    "    # after day_cut [day_cut:]\n",
    "    # data = df.loc[:, df.columns[0:6].tolist()+df.columns[day_cut+6:].tolist()]\n",
    "    # before day_cut [0:day_cut]\n",
    "    data = df.loc[:, df.columns[0:day_cut+6].tolist()]\n",
    "\n",
    "    data = pd.melt(data, id_vars = ['id', 'item_id', 'dept_id', 'cat_id', 'store_id', 'state_id'], var_name = 'd', value_name = 'sold')\n",
    "\n",
    "    # remove duplicates\n",
    "    data = data.drop_duplicates()\n",
    "\n",
    "    # merge\n",
    "    if merge:\n",
    "        data = pd.merge(data, calendar, on='d', how='left')\n",
    "        data = pd.merge(data, sell_price, on=['store_id', 'item_id', 'wm_yr_wk'], how = 'left')\n",
    "\n",
    "    if dropPriceNA:\n",
    "        data = data.dropna(subset=['sell_price'])\n",
    "\n",
    "    print('Combining data Done.')\n",
    "    return data\n",
    "\n",
    "\n",
    "def clean_data(df):\n",
    "    df = hf.cleanEvents(df)\n",
    "    df = hf.cleanDates(df)\n",
    "    df = hf.encodeItemAndStoreData(df)\n",
    "    \n",
    "    print('Cleaning data Done.')\n",
    "    return df\n",
    "\n",
    "\n",
    "def reduce_memory(data):\n",
    "    data['d'] = data['d'].str.replace('d_', '').astype('int16')\n",
    "    data[['month', 'year', 'wday', 'weekends']] = data[['month', 'year', 'wday', 'weekends']].astype('int16')\n",
    "\n",
    "    data['sold'] = data['sold'].astype(\"int16\")\n",
    "    data[\"sell_price\"] = data[\"sell_price\"].astype(\"float16\")\n",
    "    data[\"item_id_cat\"] = data[\"item_id_cat\"].astype(\"int16\")\n",
    "\n",
    "    data[[\"snap_CA\", \"snap_TX\", \"snap_WI\"]] = data[[\"snap_CA\", \"snap_TX\", \"snap_WI\"]].astype(\"int8\")\n",
    "\n",
    "    print('Reduce memory Done.')\n",
    "\n",
    "    \n",
    "\n",
    "def reduce_memory(data):\n",
    "    data['d'] = data['d'].astype('int16')\n",
    "    data[['month', 'year', 'wday']] = data[['month', 'year', 'wday']].astype('int16')\n",
    "\n",
    "    data['sold'] = data['sold'].astype(\"int16\")\n",
    "    data[\"sell_price\"] = data[\"sell_price\"].astype(\"float16\")\n",
    "\n",
    "    data[[\"snap_CA\", \"snap_TX\", \"snap_WI\"]] = data[[\"snap_CA\", \"snap_TX\", \"snap_WI\"]].astype(\"int8\")\n",
    "\n",
    "    print('Reduce memory Done.')\n",
    "    \n",
    "    return data\n",
    "\n",
    "\n",
    "def stratified_sample(sales_validation, n_samples=1000):\n",
    "    statify = sales_validation['item_id'].str.extract(r'([a-z|A-Z]+)(.+)')[0]\n",
    "\n",
    "    sampled_item_ids = resample(sales_validation['item_id'], n_samples=n_samples, replace=False, stratify=statify, random_state=30)\n",
    "\n",
    "    return sampled_item_ids\n",
    "\n",
    "\n",
    "# def clean_data(data):\n",
    "#     # null values\n",
    "#     events_features = ['event_name_1', 'event_type_1', 'event_name_2', 'event_type_2']\n",
    "#     for f in events_features:\n",
    "#         data[f].fillna('unknown', inplace = True)\n",
    "\n",
    "\n",
    "#     # impute with the mean value\n",
    "#     data[\"sell_price\"].fillna(data.groupby(\"id\")[\"sell_price\"].transform(\"mean\"), inplace=True)\n",
    "    \n",
    "\n",
    "#     # drop useless columns\n",
    " \n",
    "#     print('Cleaning data Done.')\n",
    "\n",
    "    \n",
    "# def transform_data(data):\n",
    "#     # lag features\n",
    "#     lags = [7, 14, 28, 35]\n",
    "#     for lag in lags:\n",
    "#         data[\"lag_\" + str(lag)] = data.groupby(\"id\")[\"sold\"].shift(lag).astype('float16')   \n",
    "\n",
    "\n",
    "#     # rolling mean features\n",
    "#     window=28\n",
    "#     for period in [7, 14, 28, 35]:\n",
    "#         data['rolling_mean_' + str(period)] = data.groupby('id')['sold'].transform(lambda x: x.shift(window).rolling(period).mean()).astype('float16')\n",
    "\n",
    "\n",
    "#     # time features\n",
    "#     data['date'] = pd.to_datetime(data['date'])\n",
    "#     data['day'] = data['date'].dt.day.astype('int16')\n",
    "#     data['weekends'] = np.where(data['date'].dt.dayofweek < 5, 0, 1)\n",
    "#     data.drop(columns=[\"wm_yr_wk\", 'weekday', \"date\"], inplace=True)\n",
    "\n",
    "\n",
    "#     # remove NaN due to lag and rolling\n",
    "#     data = data.dropna()\n",
    "\n",
    "#     # categorical\n",
    "#     cat = ['dept_id', 'cat_id', 'store_id', 'state_id', 'event_name_1', 'event_type_1', 'event_name_2', 'event_type_2']\n",
    "#     for feature in cat:\n",
    "#         fea = pd.get_dummies(data[feature], prefix=feature)\n",
    "#         data = pd.concat([data, fea], axis=1)\n",
    "#         data = data.drop([feature], axis=1)\n",
    "\n",
    "#     labelencoder = LabelEncoder()\n",
    "#     data['item_id_cat'] = labelencoder.fit_transform(data['item_id'])\n",
    "\n",
    "#     print('Feature engineering Done.')\n",
    "#     return data\n"
   ]
  },
  {
   "cell_type": "code",
   "execution_count": null,
   "metadata": {},
   "outputs": [],
   "source": []
  },
  {
   "cell_type": "code",
   "execution_count": null,
   "metadata": {},
   "outputs": [],
   "source": []
  }
 ],
 "metadata": {
  "kernelspec": {
   "display_name": "Python 3",
   "language": "python",
   "name": "python3"
  },
  "language_info": {
   "codemirror_mode": {
    "name": "ipython",
    "version": 3
   },
   "file_extension": ".py",
   "mimetype": "text/x-python",
   "name": "python",
   "nbconvert_exporter": "python",
   "pygments_lexer": "ipython3",
   "version": "3.8.3"
  }
 },
 "nbformat": 4,
 "nbformat_minor": 4
}
