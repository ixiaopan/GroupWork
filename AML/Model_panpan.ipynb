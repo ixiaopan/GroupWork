{
 "cells": [
  {
   "cell_type": "code",
   "execution_count": 88,
   "metadata": {},
   "outputs": [],
   "source": [
    "import numpy as np\n",
    "import pandas as pd\n",
    "import matplotlib.pyplot as plt\n",
    "from sklearn import metrics\n",
    "from sklearn.preprocessing import LabelEncoder, OneHotEncoder\n",
    "import HelperFunctions as hf\n"
   ]
  },
  {
   "cell_type": "code",
   "execution_count": 91,
   "metadata": {},
   "outputs": [],
   "source": [
    "def load_data():\n",
    "    calendar = hf.load_calendar_data()\n",
    "    sell_price = hf.load_sell_price_data()\n",
    "    sales_evaluation = hf.load_sales_train_evaluation_data()\n",
    "    sales_validation = hf.load_sales_train_validation_data()\n",
    "\n",
    "    print('Loading data Done.')\n",
    "    return calendar, sell_price, sales_evaluation, sales_validation\n",
    "\n",
    "\n",
    "def combine_data(calendar, sell_price, sales_evaluation, day_cut=1500, merge=False):\n",
    "    '''\n",
    "    convert wide data format to long data format, \n",
    "    merge data to a single dataframe\n",
    "    get data that have 'd_' >= 1500\n",
    "    '''\n",
    "   \n",
    "    # melt\n",
    "    sales_train = pd.melt(sales_evaluation, id_vars = ['id', 'item_id', 'dept_id', 'cat_id', 'store_id', 'state_id'], var_name = 'd', value_name = 'sold')\n",
    "\n",
    "    # remove duplicates\n",
    "    sales_train = sales_train.drop_duplicates()\n",
    "   \n",
    "    # since there are too many rows, it's essential to take part of the data to reduce the computation time \n",
    "    data = sales_train[sales_train['d'].str.replace('d_', '').astype('int16') > day_cut]\n",
    "    \n",
    "    # merge\n",
    "    if merge:\n",
    "        data = pd.merge(data, calendar, on='d', how='left')\n",
    "        data = pd.merge(data, sell_price, on=['store_id', 'item_id', 'wm_yr_wk'], how = 'left')\n",
    "\n",
    "    print('Combining data Done.')\n",
    "    return data\n",
    "\n",
    "\n",
    "def clean_data(data):\n",
    "    # null values\n",
    "    events_features = ['event_name_1', 'event_type_1', 'event_name_2', 'event_type_2']\n",
    "    for f in events_features:\n",
    "        data[f].fillna('unknown', inplace = True)\n",
    "\n",
    "\n",
    "    # impute with the mean value\n",
    "    data[\"sell_price\"].fillna(data.groupby(\"id\")[\"sell_price\"].transform(\"mean\"), inplace=True)\n",
    "    \n",
    "\n",
    "    # drop useless columns\n",
    " \n",
    "    print('Cleaning data Done.')\n",
    "\n",
    "    \n",
    "def transform_data(data):\n",
    "    # lag features\n",
    "    lags = [7, 14, 28, 35]\n",
    "    for lag in lags:\n",
    "        data[\"lag_\" + str(lag)] = data.groupby(\"id\")[\"sold\"].shift(lag).astype('float16')   \n",
    "\n",
    "\n",
    "    # rolling mean features\n",
    "    window=28\n",
    "    for period in [7, 14, 28, 35]:\n",
    "        data['rolling_mean_' + str(period)] = data.groupby('id')['sold'].transform(lambda x: x.shift(window).rolling(period).mean()).astype('float16')\n",
    "\n",
    "\n",
    "    # time features\n",
    "    data['date'] = pd.to_datetime(data['date'])\n",
    "    data['day'] = data['date'].dt.day.astype('int16')\n",
    "    data['weekends'] = np.where(data['date'].dt.dayofweek < 5, 0, 1)\n",
    "    data.drop(columns=[\"wm_yr_wk\", 'weekday', \"date\"], inplace=True)\n",
    "\n",
    "\n",
    "    # remove NaN due to lag and rolling\n",
    "    data = data.dropna()\n",
    "    \n",
    "    # categorical\n",
    "    cat = ['dept_id', 'cat_id', 'store_id', 'state_id', 'event_name_1', 'event_type_1', 'event_name_2', 'event_type_2']\n",
    "    for feature in cat:\n",
    "        fea = pd.get_dummies(data[feature], prefix=feature)\n",
    "        data = pd.concat([data, fea], axis=1)\n",
    "        data = data.drop([feature], axis=1)\n",
    "\n",
    "    labelencoder = LabelEncoder()\n",
    "    data['item_id_cat'] = labelencoder.fit_transform(data['item_id'])\n",
    "\n",
    "    print('Feature engineering Done.')\n",
    "    return data\n",
    "\n",
    "def reduce_memory(data):\n",
    "    data['d'] = data['d'].str.replace('d_', '').astype('int16')\n",
    "    data[['month', 'year', 'wday', 'weekends']] = data[['month', 'year', 'wday', 'weekends']].astype('int16')\n",
    "\n",
    "    data['sold'] = data['sold'].astype(\"int16\")\n",
    "    data[\"sell_price\"] = data[\"sell_price\"].astype(\"float16\")\n",
    "    data[\"item_id_cat\"] = data[\"item_id_cat\"].astype(\"int16\")\n",
    "\n",
    "    data[[\"snap_CA\", \"snap_TX\", \"snap_WI\"]] = data[[\"snap_CA\", \"snap_TX\", \"snap_WI\"]].astype(\"int8\")\n",
    "\n",
    "    print('Reduce memory Done.')\n",
    "\n"
   ]
  },
  {
   "cell_type": "markdown",
   "metadata": {},
   "source": [
    "## Load the data"
   ]
  },
  {
   "cell_type": "code",
   "execution_count": 92,
   "metadata": {
    "scrolled": true
   },
   "outputs": [
    {
     "name": "stdout",
     "output_type": "stream",
     "text": [
      "Loading data Done.\n",
      "Combining data Done.\n"
     ]
    }
   ],
   "source": [
    "calendar, sell_price, sales_evaluation, sales_validation = load_data()\n",
    "\n",
    "pre_data = combine_data(calendar, sell_price, sales_evaluation, merge=True)\n"
   ]
  },
  {
   "cell_type": "code",
   "execution_count": 95,
   "metadata": {},
   "outputs": [],
   "source": [
    "# pre_data.to_csv('./data/combined_data.csv', index=False)\n"
   ]
  },
  {
   "cell_type": "code",
   "execution_count": 94,
   "metadata": {},
   "outputs": [],
   "source": [
    "# pre_data = pd.read_csv('./data/combined_data.csv')\n"
   ]
  },
  {
   "cell_type": "markdown",
   "metadata": {},
   "source": [
    "## Preprocessing"
   ]
  },
  {
   "cell_type": "code",
   "execution_count": 96,
   "metadata": {},
   "outputs": [
    {
     "name": "stdout",
     "output_type": "stream",
     "text": [
      "Cleaning data Done.\n",
      "Feature engineering Done.\n",
      "Reduce memory Done.\n"
     ]
    }
   ],
   "source": [
    "\n",
    "clean_data(pre_data)\n",
    "\n",
    "pre_data = transform_data(pre_data)\n",
    "\n",
    "reduce_memory(pre_data)\n"
   ]
  },
  {
   "cell_type": "code",
   "execution_count": 99,
   "metadata": {},
   "outputs": [],
   "source": [
    "# pre_data.to_csv('./data/transformed_data.csv', index=False)\n"
   ]
  },
  {
   "cell_type": "code",
   "execution_count": null,
   "metadata": {},
   "outputs": [],
   "source": [
    "# pre_data = pd.read_csv('./data/transformed_data.csv')\n"
   ]
  },
  {
   "cell_type": "code",
   "execution_count": 100,
   "metadata": {},
   "outputs": [
    {
     "data": {
      "text/html": [
       "<div>\n",
       "<style scoped>\n",
       "    .dataframe tbody tr th:only-of-type {\n",
       "        vertical-align: middle;\n",
       "    }\n",
       "\n",
       "    .dataframe tbody tr th {\n",
       "        vertical-align: top;\n",
       "    }\n",
       "\n",
       "    .dataframe thead th {\n",
       "        text-align: right;\n",
       "    }\n",
       "</style>\n",
       "<table border=\"1\" class=\"dataframe\">\n",
       "  <thead>\n",
       "    <tr style=\"text-align: right;\">\n",
       "      <th></th>\n",
       "      <th>id</th>\n",
       "      <th>item_id</th>\n",
       "      <th>d</th>\n",
       "      <th>sold</th>\n",
       "      <th>wday</th>\n",
       "      <th>month</th>\n",
       "      <th>year</th>\n",
       "      <th>snap_CA</th>\n",
       "      <th>snap_TX</th>\n",
       "      <th>snap_WI</th>\n",
       "      <th>...</th>\n",
       "      <th>event_name_1_VeteransDay</th>\n",
       "      <th>event_name_1_unknown</th>\n",
       "      <th>event_type_1_Cultural</th>\n",
       "      <th>event_type_1_National</th>\n",
       "      <th>event_type_1_Religious</th>\n",
       "      <th>event_type_1_Sporting</th>\n",
       "      <th>event_type_1_unknown</th>\n",
       "      <th>event_name_2_unknown</th>\n",
       "      <th>event_type_2_unknown</th>\n",
       "      <th>item_id_cat</th>\n",
       "    </tr>\n",
       "  </thead>\n",
       "  <tbody>\n",
       "    <tr>\n",
       "      <th>1890380</th>\n",
       "      <td>HOBBIES_1_001_CA_1_evaluation</td>\n",
       "      <td>HOBBIES_1_001</td>\n",
       "      <td>1563</td>\n",
       "      <td>0</td>\n",
       "      <td>2</td>\n",
       "      <td>5</td>\n",
       "      <td>2015</td>\n",
       "      <td>1</td>\n",
       "      <td>0</td>\n",
       "      <td>0</td>\n",
       "      <td>...</td>\n",
       "      <td>0</td>\n",
       "      <td>0</td>\n",
       "      <td>1</td>\n",
       "      <td>0</td>\n",
       "      <td>0</td>\n",
       "      <td>0</td>\n",
       "      <td>0</td>\n",
       "      <td>1</td>\n",
       "      <td>1</td>\n",
       "      <td>1437</td>\n",
       "    </tr>\n",
       "    <tr>\n",
       "      <th>1890381</th>\n",
       "      <td>HOBBIES_1_002_CA_1_evaluation</td>\n",
       "      <td>HOBBIES_1_002</td>\n",
       "      <td>1563</td>\n",
       "      <td>0</td>\n",
       "      <td>2</td>\n",
       "      <td>5</td>\n",
       "      <td>2015</td>\n",
       "      <td>1</td>\n",
       "      <td>0</td>\n",
       "      <td>0</td>\n",
       "      <td>...</td>\n",
       "      <td>0</td>\n",
       "      <td>0</td>\n",
       "      <td>1</td>\n",
       "      <td>0</td>\n",
       "      <td>0</td>\n",
       "      <td>0</td>\n",
       "      <td>0</td>\n",
       "      <td>1</td>\n",
       "      <td>1</td>\n",
       "      <td>1438</td>\n",
       "    </tr>\n",
       "    <tr>\n",
       "      <th>1890382</th>\n",
       "      <td>HOBBIES_1_003_CA_1_evaluation</td>\n",
       "      <td>HOBBIES_1_003</td>\n",
       "      <td>1563</td>\n",
       "      <td>0</td>\n",
       "      <td>2</td>\n",
       "      <td>5</td>\n",
       "      <td>2015</td>\n",
       "      <td>1</td>\n",
       "      <td>0</td>\n",
       "      <td>0</td>\n",
       "      <td>...</td>\n",
       "      <td>0</td>\n",
       "      <td>0</td>\n",
       "      <td>1</td>\n",
       "      <td>0</td>\n",
       "      <td>0</td>\n",
       "      <td>0</td>\n",
       "      <td>0</td>\n",
       "      <td>1</td>\n",
       "      <td>1</td>\n",
       "      <td>1439</td>\n",
       "    </tr>\n",
       "    <tr>\n",
       "      <th>1890383</th>\n",
       "      <td>HOBBIES_1_004_CA_1_evaluation</td>\n",
       "      <td>HOBBIES_1_004</td>\n",
       "      <td>1563</td>\n",
       "      <td>4</td>\n",
       "      <td>2</td>\n",
       "      <td>5</td>\n",
       "      <td>2015</td>\n",
       "      <td>1</td>\n",
       "      <td>0</td>\n",
       "      <td>0</td>\n",
       "      <td>...</td>\n",
       "      <td>0</td>\n",
       "      <td>0</td>\n",
       "      <td>1</td>\n",
       "      <td>0</td>\n",
       "      <td>0</td>\n",
       "      <td>0</td>\n",
       "      <td>0</td>\n",
       "      <td>1</td>\n",
       "      <td>1</td>\n",
       "      <td>1440</td>\n",
       "    </tr>\n",
       "    <tr>\n",
       "      <th>1890384</th>\n",
       "      <td>HOBBIES_1_005_CA_1_evaluation</td>\n",
       "      <td>HOBBIES_1_005</td>\n",
       "      <td>1563</td>\n",
       "      <td>0</td>\n",
       "      <td>2</td>\n",
       "      <td>5</td>\n",
       "      <td>2015</td>\n",
       "      <td>1</td>\n",
       "      <td>0</td>\n",
       "      <td>0</td>\n",
       "      <td>...</td>\n",
       "      <td>0</td>\n",
       "      <td>0</td>\n",
       "      <td>1</td>\n",
       "      <td>0</td>\n",
       "      <td>0</td>\n",
       "      <td>0</td>\n",
       "      <td>0</td>\n",
       "      <td>1</td>\n",
       "      <td>1</td>\n",
       "      <td>1441</td>\n",
       "    </tr>\n",
       "  </tbody>\n",
       "</table>\n",
       "<p>5 rows × 83 columns</p>\n",
       "</div>"
      ],
      "text/plain": [
       "                                    id        item_id     d  sold  wday  \\\n",
       "1890380  HOBBIES_1_001_CA_1_evaluation  HOBBIES_1_001  1563     0     2   \n",
       "1890381  HOBBIES_1_002_CA_1_evaluation  HOBBIES_1_002  1563     0     2   \n",
       "1890382  HOBBIES_1_003_CA_1_evaluation  HOBBIES_1_003  1563     0     2   \n",
       "1890383  HOBBIES_1_004_CA_1_evaluation  HOBBIES_1_004  1563     4     2   \n",
       "1890384  HOBBIES_1_005_CA_1_evaluation  HOBBIES_1_005  1563     0     2   \n",
       "\n",
       "         month  year  snap_CA  snap_TX  snap_WI  ...  \\\n",
       "1890380      5  2015        1        0        0  ...   \n",
       "1890381      5  2015        1        0        0  ...   \n",
       "1890382      5  2015        1        0        0  ...   \n",
       "1890383      5  2015        1        0        0  ...   \n",
       "1890384      5  2015        1        0        0  ...   \n",
       "\n",
       "         event_name_1_VeteransDay  event_name_1_unknown  \\\n",
       "1890380                         0                     0   \n",
       "1890381                         0                     0   \n",
       "1890382                         0                     0   \n",
       "1890383                         0                     0   \n",
       "1890384                         0                     0   \n",
       "\n",
       "         event_type_1_Cultural  event_type_1_National  event_type_1_Religious  \\\n",
       "1890380                      1                      0                       0   \n",
       "1890381                      1                      0                       0   \n",
       "1890382                      1                      0                       0   \n",
       "1890383                      1                      0                       0   \n",
       "1890384                      1                      0                       0   \n",
       "\n",
       "         event_type_1_Sporting  event_type_1_unknown  event_name_2_unknown  \\\n",
       "1890380                      0                     0                     1   \n",
       "1890381                      0                     0                     1   \n",
       "1890382                      0                     0                     1   \n",
       "1890383                      0                     0                     1   \n",
       "1890384                      0                     0                     1   \n",
       "\n",
       "         event_type_2_unknown  item_id_cat  \n",
       "1890380                     1         1437  \n",
       "1890381                     1         1438  \n",
       "1890382                     1         1439  \n",
       "1890383                     1         1440  \n",
       "1890384                     1         1441  \n",
       "\n",
       "[5 rows x 83 columns]"
      ]
     },
     "execution_count": 100,
     "metadata": {},
     "output_type": "execute_result"
    }
   ],
   "source": [
    "pre_data.head()\n"
   ]
  },
  {
   "cell_type": "markdown",
   "metadata": {},
   "source": [
    "## Cut item"
   ]
  },
  {
   "cell_type": "code",
   "execution_count": 136,
   "metadata": {},
   "outputs": [],
   "source": [
    "from sklearn.utils import resample\n",
    "\n",
    "statify = pre_data['item_id'].str.extract(r'([a-z|A-Z]+)(.+)')[0]\n"
   ]
  },
  {
   "cell_type": "code",
   "execution_count": null,
   "metadata": {},
   "outputs": [],
   "source": [
    "# sample 1000 items\n",
    "\n",
    "sampled_item_ids = resample(pre_data['item_id'], n_samples=1000, replace=False, stratify=statify, random_state=0)\n",
    "\n",
    "sampled_data = pre_data[pre_data['item_id'].isin(sampled_item_ids)]\n"
   ]
  },
  {
   "cell_type": "code",
   "execution_count": 135,
   "metadata": {},
   "outputs": [],
   "source": [
    "# sampled_data.to_csv('./data/sampled_data_1000.csv', index=False)\n"
   ]
  },
  {
   "cell_type": "code",
   "execution_count": null,
   "metadata": {},
   "outputs": [],
   "source": [
    "# sampled_data = pd.read_csv('./data/sampled_data_1000.csv')\n"
   ]
  },
  {
   "cell_type": "markdown",
   "metadata": {},
   "source": [
    "## Split train-test"
   ]
  },
  {
   "cell_type": "code",
   "execution_count": 137,
   "metadata": {},
   "outputs": [
    {
     "data": {
      "text/plain": [
       "((10701990, 79), (10701990,), (853720, 79), (853720,))"
      ]
     },
     "execution_count": 137,
     "metadata": {},
     "output_type": "execute_result"
    }
   ],
   "source": [
    "d_start = 1941 - 28\n",
    "\n",
    "train_set = pre_data[pre_data['d'] <= d_start]\n",
    "test_set = pre_data[(pre_data['d'] > d_start)]\n",
    "\n",
    "X_train = train_set[train_set.columns[train_set.columns != 'sold']]\n",
    "y_train = train_set['sold']\n",
    "\n",
    "X_test = test_set[test_set.columns[test_set.columns != 'sold']]\n",
    "y_test = test_set['sold']\n",
    "\n",
    "\n",
    "X_train = X_train.loc[:, ~X_train.columns.isin(['id', 'd', 'item_id'])]\n",
    "X_test = X_test.loc[:, ~X_test.columns.isin(['id', 'd', 'item_id'])]\n",
    "\n",
    "X_train.shape, y_train.shape, X_test.shape, y_test.shape\n"
   ]
  },
  {
   "cell_type": "markdown",
   "metadata": {},
   "source": [
    "## Loss"
   ]
  },
  {
   "cell_type": "code",
   "execution_count": 138,
   "metadata": {},
   "outputs": [],
   "source": [
    "from sklearn.metrics import mean_squared_error\n",
    "from sklearn.model_selection import cross_val_score\n",
    "\n",
    "def display_scores(scores):\n",
    "    print(\"Scores:\", scores)\n",
    "    print(\"Mean:\", scores.mean())\n",
    "    print(\"Standard deviation:\", scores.std())\n",
    "\n",
    "def rmse(y_t, y_p):\n",
    "    return np.sqrt(mean_squared_error(y_t, y_p))\n"
   ]
  },
  {
   "cell_type": "markdown",
   "metadata": {},
   "source": [
    "## Linear regression"
   ]
  },
  {
   "cell_type": "code",
   "execution_count": 139,
   "metadata": {},
   "outputs": [
    {
     "name": "stdout",
     "output_type": "stream",
     "text": [
      "train rmse error 2.25602\n",
      "test rmse error 2.14891\n"
     ]
    }
   ],
   "source": [
    "from sklearn.linear_model import LinearRegression\n",
    "\n",
    "lin_reg = LinearRegression()\n",
    "lin_reg.fit(X_train, y_train)\n",
    "\n",
    "y_train_predicted = lin_reg.predict(X_train)\n",
    "print('train rmse error', rmse(y_train_predicted, y_train))\n",
    "\n",
    "y_test_predicted = lin_reg.predict(X_test)\n",
    "print('test rmse error', rmse(y_test_predicted, y_test))\n"
   ]
  },
  {
   "cell_type": "code",
   "execution_count": 85,
   "metadata": {},
   "outputs": [
    {
     "name": "stdout",
     "output_type": "stream",
     "text": [
      "Scores: [2.86487139 2.54724558 2.20737842 2.16193503 2.26920746 2.53790914\n",
      " 2.5836234  2.36038793 2.22364182 2.13649926]\n",
      "Mean: 2.389269942053433\n",
      "Standard deviation: 0.2241339930650258\n"
     ]
    }
   ],
   "source": [
    "\n",
    "lin_scores = cross_val_score(lin_reg, X_train, y_train, scoring=\"neg_mean_squared_error\", cv=10)\n",
    "\n",
    "display_scores(np.sqrt(-lin_scores))\n"
   ]
  },
  {
   "cell_type": "code",
   "execution_count": null,
   "metadata": {},
   "outputs": [],
   "source": []
  },
  {
   "cell_type": "code",
   "execution_count": 151,
   "metadata": {},
   "outputs": [],
   "source": [
    "from sklearn.model_selection import learning_curve\n",
    "\n",
    "train_sizes, train_scores, validation_scores = learning_curve(\n",
    "    estimator = lin_reg, \n",
    "    X = X_train,\n",
    "    y = y_train, \n",
    "    train_sizes=np.linspace(.1, 1.0, 10),\n",
    "    cv = 5, scoring = 'neg_mean_squared_error')\n",
    "\n"
   ]
  },
  {
   "cell_type": "code",
   "execution_count": 152,
   "metadata": {},
   "outputs": [
    {
     "data": {
      "image/png": "[encoded data removed]",
      "text/plain": [
       "<Figure size 432x288 with 1 Axes>"
      ]
     },
     "metadata": {
      "needs_background": "light"
     },
     "output_type": "display_data"
    }
   ],
   "source": [
    "train_scores_mean = np.sqrt(-train_scores).mean(axis = 1)\n",
    "validation_scores_mean = np.sqrt(-validation_scores).mean(axis =1)\n",
    "\n",
    "plt.plot(train_sizes, train_scores_mean, label = 'Training error')\n",
    "plt.plot(train_sizes, validation_scores_mean, label = 'Validation error')\n",
    "\n",
    "plt.ylabel('RMSE')\n",
    "plt.xlabel('Training set size')\n",
    "plt.title('Learning curves for a linear regression model')\n",
    "plt.legend()\n",
    "plt.show()\n"
   ]
  },
  {
   "cell_type": "markdown",
   "metadata": {},
   "source": [
    "- high bias\n"
   ]
  },
  {
   "cell_type": "code",
   "execution_count": null,
   "metadata": {},
   "outputs": [],
   "source": []
  },
  {
   "cell_type": "markdown",
   "metadata": {},
   "source": [
    "## RandomForest"
   ]
  },
  {
   "cell_type": "code",
   "execution_count": 86,
   "metadata": {},
   "outputs": [
    {
     "name": "stdout",
     "output_type": "stream",
     "text": [
      "train mse error 0.8268557538752181\n",
      "test mse error 2.090928331166575\n"
     ]
    }
   ],
   "source": [
    "from sklearn.ensemble import RandomForestRegressor\n",
    "\n",
    "forest_reg = RandomForestRegressor(n_estimators=30, random_state=42)\n",
    "forest_reg.fit(X_train, y_train)\n",
    "\n",
    "y_train_predicted = forest_reg.predict(X_train)\n",
    "print('train mse error', rmse(y_train_predicted, y_train))\n",
    "\n",
    "y_test_predicted = forest_reg.predict(X_test)\n",
    "print('test mse error', rmse(y_test_predicted, y_test))\n"
   ]
  },
  {
   "cell_type": "code",
   "execution_count": null,
   "metadata": {},
   "outputs": [],
   "source": [
    "scores = cross_val_score(forest_reg, X_train, y_train, scoring=\"neg_mean_squared_error\", cv=10)\n",
    "\n",
    "display_scores(np.sqrt(-scores))\n"
   ]
  },
  {
   "cell_type": "markdown",
   "metadata": {},
   "source": [
    "## XGBoost"
   ]
  },
  {
   "cell_type": "code",
   "execution_count": null,
   "metadata": {},
   "outputs": [],
   "source": [
    "import xgboost as xgb\n",
    "\n",
    "params = {\n",
    "    'tree_method': 'gpu_hist', \n",
    "    'max_depth': 3, \n",
    "    'learning_rate': 0.1\n",
    "}\n",
    "\n",
    "xgb.train(params, dtrain)\n"
   ]
  },
  {
   "cell_type": "code",
   "execution_count": null,
   "metadata": {},
   "outputs": [],
   "source": []
  },
  {
   "cell_type": "code",
   "execution_count": null,
   "metadata": {},
   "outputs": [],
   "source": []
  },
  {
   "cell_type": "markdown",
   "metadata": {},
   "source": [
    "## Fine-Tune\n"
   ]
  },
  {
   "cell_type": "code",
   "execution_count": null,
   "metadata": {},
   "outputs": [],
   "source": []
  },
  {
   "cell_type": "code",
   "execution_count": null,
   "metadata": {},
   "outputs": [],
   "source": []
  },
  {
   "cell_type": "code",
   "execution_count": null,
   "metadata": {},
   "outputs": [],
   "source": []
  }
 ],
 "metadata": {
  "kernelspec": {
   "display_name": "Python 3",
   "language": "python",
   "name": "python3"
  },
  "language_info": {
   "codemirror_mode": {
    "name": "ipython",
    "version": 3
   },
   "file_extension": ".py",
   "mimetype": "text/x-python",
   "name": "python",
   "nbconvert_exporter": "python",
   "pygments_lexer": "ipython3",
   "version": "3.8.3"
  }
 },
 "nbformat": 4,
 "nbformat_minor": 4
}
