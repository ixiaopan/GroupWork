{
  "nbformat": 4,
  "nbformat_minor": 0,
  "metadata": {
    "accelerator": "GPU",
    "colab": {
      "name": "Pre-ResNet-panpan.ipynb",
      "provenance": [],
      "collapsed_sections": []
    },
    "kernelspec": {
      "display_name": "Python 3",
      "language": "python",
      "name": "python3"
    },
    "language_info": {
      "codemirror_mode": {
        "name": "ipython",
        "version": 3
      },
      "file_extension": ".py",
      "mimetype": "text/x-python",
      "name": "python",
      "nbconvert_exporter": "python",
      "pygments_lexer": "ipython3",
      "version": "3.8.3"
    }
  },
  "cells": [
    {
      "cell_type": "code",
      "metadata": {
        "id": "_ilEIlHSsz8r"
      },
      "source": [
        "import torch\n",
        "from torchvision import models\n",
        "from torchvision import transforms\n",
        "from torchvision.datasets import ImageFolder\n",
        "from torch.utils.data import DataLoader, Dataset\n",
        "import json\n",
        "import os\n",
        "import time\n"
      ],
      "execution_count": 17,
      "outputs": []
    },
    {
      "cell_type": "markdown",
      "metadata": {
        "id": "m_shQQC18nRb"
      },
      "source": [
        "# Load Pre-trained Model"
      ]
    },
    {
      "cell_type": "code",
      "metadata": {
        "id": "_e3zfbDrs3T7"
      },
      "source": [
        "resnet50 = models.resnet50(pretrained=True)\n"
      ],
      "execution_count": 18,
      "outputs": []
    },
    {
      "cell_type": "markdown",
      "metadata": {
        "id": "-oFS6nSF8pEz"
      },
      "source": [
        "# Image Preprocessing"
      ]
    },
    {
      "cell_type": "code",
      "metadata": {
        "id": "hE34oVjts4qN"
      },
      "source": [
        "preprocess = transforms.Compose([\n",
        "  transforms.Resize(256), \n",
        "  transforms.CenterCrop(224), \n",
        "  transforms.ToTensor(), \n",
        "  transforms.Normalize(\n",
        "    mean=[0.485, 0.456, 0.406],\n",
        "    std=[0.229, 0.224, 0.225]\n",
        "  )])\n"
      ],
      "execution_count": null,
      "outputs": []
    },
    {
      "cell_type": "markdown",
      "metadata": {
        "id": "FvCSTDIB816k"
      },
      "source": [
        "# Load ImageNet label"
      ]
    },
    {
      "cell_type": "code",
      "metadata": {
        "id": "ym4s6mwq81VS"
      },
      "source": [
        "# with open('./data/imagenet_classes.txt') as f:\n",
        "#     labels = [ line.strip() for line in f.readlines() ]\n",
        "\n",
        "# len(labels)\n"
      ],
      "execution_count": null,
      "outputs": []
    },
    {
      "cell_type": "code",
      "metadata": {
        "id": "u8FhayRXenja"
      },
      "source": [
        "with open('./in_to_in9.json') as f:\n",
        "    data = f.read()\n",
        "\n",
        "in2in9_label = json.loads(data)\n"
      ],
      "execution_count": 19,
      "outputs": []
    },
    {
      "cell_type": "code",
      "metadata": {
        "id": "vZnw331Oenjb"
      },
      "source": [
        "def getIn9Label(indexes):        \n",
        "    return torch.tensor([in2in9_label[str(index.item())] for index in indexes])\n"
      ],
      "execution_count": 20,
      "outputs": []
    },
    {
      "cell_type": "markdown",
      "metadata": {
        "id": "NV_jcW3benjb"
      },
      "source": [
        "# Load Testing Data"
      ]
    },
    {
      "cell_type": "code",
      "metadata": {
        "id": "DbW6gqq8enjb"
      },
      "source": [
        "!wget -qO mixed_same.tar.gz https://www.dropbox.com/s/f2525w5aqq67kk0/mixed_same.tar.gz?dl=0\n",
        "!wget -qO mixed_rand.tar.gz https://www.dropbox.com/s/cto15ceadgraur2/mixed_rand.tar.gz?dl=0\n",
        "!wget -qO only_bg_t.tar.gz https://www.dropbox.com/s/03lk878q73hyjpi/only_bg_t.tar.gz?dl=0\n",
        "!wget -qO original.tar.gz https://www.dropbox.com/s/0vv2qsc4ywb4z5v/original.tar.gz?dl=0\n"
      ],
      "execution_count": 22,
      "outputs": []
    },
    {
      "cell_type": "code",
      "metadata": {
        "id": "IYAKgCHlenjc"
      },
      "source": [
        "!tar -xf 'mixed_same.tar.gz'\n",
        "!tar -xf 'mixed_rand.tar.gz'\n",
        "!tar -xf 'only_bg_t.tar.gz'\n",
        "!tar -xf 'original.tar.gz'"
      ],
      "execution_count": 24,
      "outputs": []
    },
    {
      "cell_type": "code",
      "metadata": {
        "id": "dftsfJRoenjc"
      },
      "source": [
        ""
      ],
      "execution_count": null,
      "outputs": []
    },
    {
      "cell_type": "markdown",
      "metadata": {
        "id": "hLv-O9Qpxxat"
      },
      "source": [
        "# Evaluation"
      ]
    },
    {
      "cell_type": "code",
      "metadata": {
        "id": "LjIFuKh0enjc"
      },
      "source": [
        "class TestImage(Dataset):\n",
        "    def __init__(self, img_dir, transform=None):\n",
        "        self.img_dir = img_dir\n",
        "        self.transform = transform\n",
        "        self.images = []\n",
        "        self.labels = []\n",
        "\n",
        "        image_ext = ['.jpg', '.jpeg', '.png', '.ppm', '.bmp', '.pgm', '.tif']\n",
        "        for subdir in os.listdir(img_dir):\n",
        "            subpath = os.path.join(img_dir, subdir)\n",
        "            if os.path.isdir(subpath):\n",
        "                label, _ = subdir.split('_')\n",
        "                label = int(label)\n",
        "                for f in os.listdir(subpath):\n",
        "                    if any(f.lower().endswith(ext) for ext in image_ext):\n",
        "                        self.images.append(f)\n",
        "                        self.labels.append(label)\n",
        "\n",
        "    def __getitem__(self, idx):\n",
        "        img_path = self.images[idx]\n",
        "        label = self.labels[idx]\n",
        "\n",
        "        img = imread(img_path)\n",
        "        if self.transform:\n",
        "            img_t = self.transform(img)\n",
        "            batch_t = torch.unsqueeze(img_t, 0)\n",
        "\n",
        "        return {\n",
        "            \"image\": batch_t,\n",
        "            'label': label\n",
        "        }\n",
        "    \n",
        "    def __len__(self):\n",
        "        return len(self.label)\n"
      ],
      "execution_count": null,
      "outputs": []
    },
    {
      "cell_type": "code",
      "metadata": {
        "id": "ohzMXn5fyMJW"
      },
      "source": [
        "def evaluation(test_dir):\n",
        "    testset = ImageFolder(test_dir, transform=preprocess)\n",
        "    testloader = DataLoader(testset, batch_size=64, shuffle=False)\n",
        "\n",
        "    # Compute the model accuracy on the test set\n",
        "    correct = 0\n",
        "    total = 0\n",
        "\n",
        "    for i, (inputs, target) in enumerate(testloader):\n",
        "        inputs = inputs.cuda()\n",
        "        out = resnet50(inputs)\n",
        "\n",
        "        _, index = torch.max(out, 1)\n",
        "        # percentage = torch.nn.functional.softmax(out, dim=1)[0] * 100\n",
        "        # labels[index], percentage[index].item()\n",
        "        total += len(target)\n",
        "        correct += (getIn9Label(index) == target).sum()\n",
        "\n",
        "    print('Testing on', test_dir, 'Accuracy: %2.2f %%' % ((100.0 * correct) / total))"
      ],
      "execution_count": null,
      "outputs": []
    },
    {
      "cell_type": "code",
      "metadata": {
        "colab": {
          "base_uri": "https://localhost:8080/"
        },
        "id": "A2QB-bupenjd",
        "outputId": "72895429-0742-4b14-b509-7ba9eaaebbf5"
      },
      "source": [
        "resnet50.eval()\n",
        "resnet50 = resnet50.cuda()\n",
        "\n",
        "eval_tests = ['./mixed_same/val', './mixed_rand/val', './only_bg_t/val', './original/val']\n",
        "\n",
        "start = time.time()\n",
        "\n",
        "for test_data in eval_tests:\n",
        "    evaluation(test_data)\n",
        "\n",
        "print(time.time() - start)"
      ],
      "execution_count": null,
      "outputs": [
        {
          "output_type": "stream",
          "text": [
            "Testing on ./mixed_same/val Accuracy: 80.48 %\n",
            "Testing on ./mixed_rand/val Accuracy: 69.77 %\n",
            "Testing on ./only_bg_t/val Accuracy: 16.82 %\n",
            "Testing on ./original/val Accuracy: 95.24 %\n",
            "129.74640107154846\n"
          ],
          "name": "stdout"
        }
      ]
    },
    {
      "cell_type": "code",
      "metadata": {
        "id": "02G7I2_qitof"
      },
      "source": [
        ""
      ],
      "execution_count": null,
      "outputs": []
    }
  ]
}