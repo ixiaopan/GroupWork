{
 "cells": [
  {
   "cell_type": "code",
   "execution_count": 66,
   "metadata": {},
   "outputs": [],
   "source": [
    "import pandas as pd\n",
    "import matplotlib.pyplot as plt\n",
    "import seaborn as sns"
   ]
  },
  {
   "cell_type": "code",
   "execution_count": null,
   "metadata": {},
   "outputs": [],
   "source": [
    "cars = pd.read_csv('vehicles.csv')"
   ]
  },
  {
   "cell_type": "code",
   "execution_count": 60,
   "metadata": {
    "scrolled": true
   },
   "outputs": [
    {
     "data": {
      "text/plain": [
       "Index(['Unnamed: 0', 'id', 'url', 'region', 'region_url', 'price', 'year',\n",
       "       'manufacturer', 'model', 'condition', 'cylinders', 'fuel', 'odometer',\n",
       "       'title_status', 'transmission', 'VIN', 'drive', 'size', 'type',\n",
       "       'paint_color', 'image_url', 'description', 'state', 'lat', 'long',\n",
       "       'posting_date'],\n",
       "      dtype='object')"
      ]
     },
     "execution_count": 60,
     "metadata": {},
     "output_type": "execute_result"
    }
   ],
   "source": [
    "cars.columns"
   ]
  },
  {
   "cell_type": "code",
   "execution_count": 65,
   "metadata": {},
   "outputs": [
    {
     "data": {
      "text/plain": [
       "gas         399399\n",
       "diesel       31077\n",
       "other        16359\n",
       "hybrid        5790\n",
       "electric      2351\n",
       "Name: fuel, dtype: int64"
      ]
     },
     "execution_count": 65,
     "metadata": {},
     "output_type": "execute_result"
    }
   ],
   "source": [
    "cars.fuel.value_counts()"
   ]
  },
  {
   "cell_type": "code",
   "execution_count": 62,
   "metadata": {},
   "outputs": [],
   "source": [
    "cars.loc[ cars[\"type\"] == \"sedan\", \"usage_type\"] = \"daily\" \n",
    "cars.loc[ cars[\"type\"] == \"SUV\", \"usage_type\"] = \"daily\"\n",
    "cars.loc[ cars[\"type\"] == \"pickup\", \"usage_type\"] = \"professional\"\n",
    "cars.loc[ cars[\"type\"] == \"truck\", \"usage_type\"] = \"professional\"\n",
    "cars.loc[ cars[\"type\"] == \"other\", \"usage_type\"] = \"other\"\n",
    "cars.loc[ cars[\"type\"] == \"coupe\", \"usage_type\"] = \"daily\"\n",
    "cars.loc[ cars[\"type\"] == \"hatchback\", \"usage_type\"] = \"daily\"\n",
    "cars.loc[ cars[\"type\"] == \"wagon\", \"usage_type\"] = \"daily\"\n",
    "cars.loc[ cars[\"type\"] == \"van\", \"usage_type\"] = \"professional\"\n",
    "cars.loc[ cars[\"type\"] == \"convertible\", \"usage_type\"] = \"daily\"\n",
    "cars.loc[ cars[\"type\"] == \"mini-van\", \"usage_type\"] = \"professional\"\n",
    "cars.loc[ cars[\"type\"] == \"bus\", \"usage_type\"] = \"professional\"\n",
    "cars.loc[ cars[\"type\"] == \"offroad\", \"usage_type\"] = \"other\"\n",
    "cars.loc[ cars[\"type\"].isnull() , \"usage_type\"] = \"missing\""
   ]
  },
  {
   "cell_type": "code",
   "execution_count": 63,
   "metadata": {},
   "outputs": [
    {
     "data": {
      "text/plain": [
       "daily           225077\n",
       "missing         112738\n",
       "professional     95591\n",
       "other            24807\n",
       "Name: usage_type, dtype: int64"
      ]
     },
     "execution_count": 63,
     "metadata": {},
     "output_type": "execute_result"
    }
   ],
   "source": [
    "cars.usage_type.value_counts()"
   ]
  },
  {
   "cell_type": "markdown",
   "metadata": {},
   "source": [
    "# Dummies and grouping for: manufacturer, condition, type,\n",
    "# cylinders, fuel, title status, transmission,\n",
    "# drive, paint color"
   ]
  },
  {
   "cell_type": "markdown",
   "metadata": {},
   "source": [
    "Manufacturer one hot encoded maybe not be the best idea. Too many values.\n",
    "Maybe build features based on country of origin e.g. Germany for audi, vw etc\n",
    "or maybe brands that relate in terms of customers \n",
    "e.g. mercedes and bmw could be together. \n",
    "Or could even be  done by partitioning the data set based on mean \n",
    "values of each brand.\n",
    "\n",
    "There is no point in one hot encoding hennesey for example while having only\n",
    "one value.\n",
    "\n",
    "Could also be based on our knowledge. E.g. german cars are considered high class in the U.S.A.\n",
    "\n",
    "So maybe build new dataframes with each new features and then just add them to the final one by one (merge command)."
   ]
  },
  {
   "cell_type": "code",
   "execution_count": 122,
   "metadata": {
    "scrolled": false
   },
   "outputs": [
    {
     "data": {
      "text/plain": [
       "ford               79666\n",
       "chevrolet          64977\n",
       "toyota             38577\n",
       "honda              25868\n",
       "nissan             23654\n",
       "jeep               21165\n",
       "ram                17697\n",
       "gmc                17267\n",
       "dodge              16730\n",
       "bmw                12352\n",
       "hyundai            10975\n",
       "mercedes-benz      10628\n",
       "subaru             10510\n",
       "volkswagen         10489\n",
       "kia                 8854\n",
       "chrysler            7499\n",
       "lexus               7119\n",
       "cadillac            6743\n",
       "buick               6009\n",
       "mazda               5931\n",
       "audi                5583\n",
       "acura               4008\n",
       "infiniti            3714\n",
       "lincoln             3338\n",
       "pontiac             3037\n",
       "volvo               2866\n",
       "mini                2330\n",
       "mitsubishi          2301\n",
       "porsche             1779\n",
       "rover               1662\n",
       "mercury             1645\n",
       "saturn              1393\n",
       "tesla               1067\n",
       "jaguar              1060\n",
       "fiat                 955\n",
       "alfa-romeo           187\n",
       "harley-davidson      139\n",
       "ferrari               96\n",
       "datsun                63\n",
       "aston-martin          35\n",
       "land rover            21\n",
       "morgan                 3\n",
       "hennessey              1\n",
       "Name: manufacturer, dtype: int64"
      ]
     },
     "execution_count": 122,
     "metadata": {},
     "output_type": "execute_result"
    }
   ],
   "source": [
    "cars.manufacturer.value_counts()"
   ]
  },
  {
   "cell_type": "code",
   "execution_count": 123,
   "metadata": {},
   "outputs": [
    {
     "data": {
      "text/plain": [
       "Unnamed: 0           0\n",
       "id                   0\n",
       "url                  0\n",
       "region               0\n",
       "region_url           0\n",
       "price                0\n",
       "year              1050\n",
       "manufacturer     18220\n",
       "model             4846\n",
       "condition       192940\n",
       "cylinders       171140\n",
       "fuel              3237\n",
       "odometer         55303\n",
       "title_status      2577\n",
       "transmission      2442\n",
       "VIN             187549\n",
       "drive           134188\n",
       "size            321348\n",
       "type            112738\n",
       "paint_color     140843\n",
       "image_url           28\n",
       "description         70\n",
       "state                0\n",
       "lat               7448\n",
       "long              7448\n",
       "posting_date        28\n",
       "dtype: int64"
      ]
     },
     "execution_count": 123,
     "metadata": {},
     "output_type": "execute_result"
    }
   ],
   "source": [
    "cars.isnull().sum()"
   ]
  },
  {
   "cell_type": "markdown",
   "metadata": {},
   "source": [
    "Like new and excellent and new should probably be together.\n",
    "Good and fair could be grouped as well. Fair values are not that many.\n",
    "Salvage is almost negligible."
   ]
  },
  {
   "cell_type": "code",
   "execution_count": 124,
   "metadata": {
    "scrolled": false
   },
   "outputs": [
    {
     "data": {
      "text/plain": [
       "good         115685\n",
       "excellent    115206\n",
       "like new      24553\n",
       "fair           7740\n",
       "new            1428\n",
       "salvage         661\n",
       "Name: condition, dtype: int64"
      ]
     },
     "execution_count": 124,
     "metadata": {},
     "output_type": "execute_result"
    }
   ],
   "source": [
    "cars.condition.value_counts()"
   ]
  },
  {
   "cell_type": "markdown",
   "metadata": {},
   "source": [
    "Truck and pickup grouped together. Also offroad could be there as well. \n",
    "Too few entries.\n",
    "\n",
    "Van and mini-van grouped together. Other is a bit of a problem here.\n",
    "\n",
    "Update 24-03: Split into daily use cars and business cars and professional vehicles"
   ]
  },
  {
   "cell_type": "code",
   "execution_count": 125,
   "metadata": {
    "scrolled": true
   },
   "outputs": [
    {
     "data": {
      "text/plain": [
       "sedan          92364\n",
       "SUV            79882\n",
       "pickup         43343\n",
       "truck          35694\n",
       "other          24160\n",
       "coupe          19106\n",
       "hatchback      16388\n",
       "wagon          10473\n",
       "van             9574\n",
       "convertible     6864\n",
       "mini-van        6263\n",
       "bus              717\n",
       "offroad          647\n",
       "Name: type, dtype: int64"
      ]
     },
     "execution_count": 125,
     "metadata": {},
     "output_type": "execute_result"
    }
   ],
   "source": [
    "cars.type.value_counts()"
   ]
  },
  {
   "cell_type": "markdown",
   "metadata": {},
   "source": [
    "Why so many with 6 cylinders?\n",
    "5 cylinder is supposed to be a 4 cylinder in terms of consumption but with\n",
    "perks found in a 6 cylinder engine. Seems like an expensive dataset.\n",
    "\n",
    "All other categories go solo.\n",
    "\n",
    "Other could be filled depending on the type of car (especially if it is a pickup-truck for example) by giving values of: either the most common value\n",
    "or by randomly giving values in terms of the distribution of the types' cylinders.\n"
   ]
  },
  {
   "cell_type": "code",
   "execution_count": 126,
   "metadata": {
    "scrolled": true
   },
   "outputs": [
    {
     "data": {
      "text/plain": [
       "6 cylinders     105677\n",
       "4 cylinders      94767\n",
       "8 cylinders      81179\n",
       "5 cylinders       2058\n",
       "10 cylinders      1543\n",
       "other             1112\n",
       "3 cylinders        550\n",
       "12 cylinders       187\n",
       "Name: cylinders, dtype: int64"
      ]
     },
     "execution_count": 126,
     "metadata": {},
     "output_type": "execute_result"
    }
   ],
   "source": [
    "cars.cylinders.value_counts()"
   ]
  },
  {
   "cell_type": "markdown",
   "metadata": {},
   "source": [
    "Nothing in particular here. \n",
    "Other could be filled by the distribution found in the type for fuel. \n",
    "E.g. most pickup tracks are on diesel."
   ]
  },
  {
   "cell_type": "code",
   "execution_count": 127,
   "metadata": {
    "scrolled": true
   },
   "outputs": [
    {
     "data": {
      "text/plain": [
       "gas         399399\n",
       "diesel       31077\n",
       "other        16359\n",
       "hybrid        5790\n",
       "electric      2351\n",
       "Name: fuel, dtype: int64"
      ]
     },
     "execution_count": 127,
     "metadata": {},
     "output_type": "execute_result"
    }
   ],
   "source": [
    "cars.fuel.value_counts()"
   ]
  },
  {
   "cell_type": "markdown",
   "metadata": {},
   "source": [
    "# Applying the above to the dataset"
   ]
  },
  {
   "cell_type": "code",
   "execution_count": 128,
   "metadata": {},
   "outputs": [
    {
     "data": {
      "text/plain": [
       "Index(['Unnamed: 0', 'id', 'url', 'region', 'region_url', 'price', 'year',\n",
       "       'manufacturer', 'model', 'condition', 'cylinders', 'fuel', 'odometer',\n",
       "       'title_status', 'transmission', 'VIN', 'drive', 'size', 'type',\n",
       "       'paint_color', 'image_url', 'description', 'state', 'lat', 'long',\n",
       "       'posting_date'],\n",
       "      dtype='object')"
      ]
     },
     "execution_count": 128,
     "metadata": {},
     "output_type": "execute_result"
    }
   ],
   "source": [
    "cars.columns"
   ]
  },
  {
   "cell_type": "code",
   "execution_count": 129,
   "metadata": {},
   "outputs": [
    {
     "data": {
      "text/plain": [
       "ford               79666\n",
       "chevrolet          64977\n",
       "toyota             38577\n",
       "honda              25868\n",
       "nissan             23654\n",
       "jeep               21165\n",
       "ram                17697\n",
       "gmc                17267\n",
       "dodge              16730\n",
       "bmw                12352\n",
       "hyundai            10975\n",
       "mercedes-benz      10628\n",
       "subaru             10510\n",
       "volkswagen         10489\n",
       "kia                 8854\n",
       "chrysler            7499\n",
       "lexus               7119\n",
       "cadillac            6743\n",
       "buick               6009\n",
       "mazda               5931\n",
       "audi                5583\n",
       "acura               4008\n",
       "infiniti            3714\n",
       "lincoln             3338\n",
       "pontiac             3037\n",
       "volvo               2866\n",
       "mini                2330\n",
       "mitsubishi          2301\n",
       "porsche             1779\n",
       "rover               1662\n",
       "mercury             1645\n",
       "saturn              1393\n",
       "tesla               1067\n",
       "jaguar              1060\n",
       "fiat                 955\n",
       "alfa-romeo           187\n",
       "harley-davidson      139\n",
       "ferrari               96\n",
       "datsun                63\n",
       "aston-martin          35\n",
       "land rover            21\n",
       "morgan                 3\n",
       "hennessey              1\n",
       "Name: manufacturer, dtype: int64"
      ]
     },
     "execution_count": 129,
     "metadata": {},
     "output_type": "execute_result"
    }
   ],
   "source": [
    "cars.manufacturer.value_counts()"
   ]
  },
  {
   "cell_type": "markdown",
   "metadata": {},
   "source": [
    "Grouping for manufacturer \n",
    "(mini is German but since these are used cars they could be english)\n",
    "(harley-davidson built just one car. Should be left out imo)\n",
    "(hennessey also since it modifies cars)\n",
    "(also no french, spanish or tsech cars?)"
   ]
  },
  {
   "cell_type": "markdown",
   "metadata": {},
   "source": [
    "cars.loc[ cars[\"manufacturer\"] == \"ford\", \"manuf_country\"] = \"USA\"\n",
    "cars.loc[ cars[\"manufacturer\"] == \"chevrolet\", \"manuf_country\"] = \"USA\"\n",
    "cars.loc[ cars[\"manufacturer\"] == \"toyota\", \"manuf_country\"] = \"Japan\"\n",
    "cars.loc[ cars[\"manufacturer\"] == \"honda\", \"manuf_country\"] = \"Japan\"\n",
    "cars.loc[ cars[\"manufacturer\"] == \"nissan\", \"manuf_country\"] = \"Japan\"\n",
    "cars.loc[ cars[\"manufacturer\"] == \"jeep\", \"manuf_country\"] = \"USA\"\n",
    "cars.loc[ cars[\"manufacturer\"] == \"ram\", \"manuf_country\"] = \"USA\"\n",
    "cars.loc[ cars[\"manufacturer\"] == \"gmc\", \"manuf_country\"] = \"USA\"\n",
    "cars.loc[ cars[\"manufacturer\"] == \"dodge\", \"manuf_country\"] = \"USA\"\n",
    "cars.loc[ cars[\"manufacturer\"] == \"bmw\", \"manuf_country\"] = \"Germany\"\n",
    "cars.loc[ cars[\"manufacturer\"] == \"hyundai\", \"manuf_country\"] = \"S.Korea\"\n",
    "cars.loc[ cars[\"manufacturer\"] == \"mercedes-benz\", \"manuf_country\"] = \"Germany\"\n",
    "cars.loc[ cars[\"manufacturer\"] == \"subaru\", \"manuf_country\"] = \"Japan\"\n",
    "cars.loc[ cars[\"manufacturer\"] == \"volkswagen\", \"manuf_country\"] = \"Germany\"\n",
    "cars.loc[ cars[\"manufacturer\"] == \"kia\", \"manuf_country\"] = \"S.Korea\"\n",
    "cars.loc[ cars[\"manufacturer\"] == \"chrysler\", \"manuf_country\"] = \"USA\"\n",
    "cars.loc[ cars[\"manufacturer\"] == \"lexus\", \"manuf_country\"] = \"Japan\"\n",
    "cars.loc[ cars[\"manufacturer\"] == \"cadillac\", \"manuf_country\"] = \"USA\"\n",
    "cars.loc[ cars[\"manufacturer\"] == \"buick\", \"manuf_country\"] = \"USA\"\n",
    "cars.loc[ cars[\"manufacturer\"] == \"mazda\", \"manuf_country\"] = \"Japan\"\n",
    "cars.loc[ cars[\"manufacturer\"] == \"audi\", \"manuf_country\"] = \"Germany\"\n",
    "cars.loc[ cars[\"manufacturer\"] == \"acura\", \"manuf_country\"] = \"Japan\"\n",
    "cars.loc[ cars[\"manufacturer\"] == \"infiniti\", \"manuf_country\"] = \"Japan\"\n",
    "cars.loc[ cars[\"manufacturer\"] == \"lincoln\", \"manuf_country\"] = \"USA\"\n",
    "cars.loc[ cars[\"manufacturer\"] == \"pontiac\", \"manuf_country\"] = \"USA\"\n",
    "cars.loc[ cars[\"manufacturer\"] == \"volvo\", \"manuf_country\"] = \"Sweden\"\n",
    "cars.loc[ cars[\"manufacturer\"] == \"mini\", \"manuf_country\"] = \"UK\"\n",
    "cars.loc[ cars[\"manufacturer\"] == \"mitsubishi\", \"manuf_country\"] = \"Japan\"\n",
    "cars.loc[ cars[\"manufacturer\"] == \"porsche\", \"manuf_country\"] = \"Germany\"\n",
    "cars.loc[ cars[\"manufacturer\"] == \"rover\", \"manuf_country\"] = \"UK\"\n",
    "cars.loc[ cars[\"manufacturer\"] == \"mercury\", \"manuf_country\"] = \"USA\"\n",
    "cars.loc[ cars[\"manufacturer\"] == \"saturn\", \"manuf_country\"] = \"USA\"\n",
    "cars.loc[ cars[\"manufacturer\"] == \"tesla\", \"manuf_country\"] = \"USA\"\n",
    "cars.loc[ cars[\"manufacturer\"] == \"jaguar\", \"manuf_country\"] = \"UK\"\n",
    "cars.loc[ cars[\"manufacturer\"] == \"fiat\", \"manuf_country\"] = \"Italy\"\n",
    "cars.loc[ cars[\"manufacturer\"] == \"alfa-romeo\", \"manuf_country\"] = \"Italy\"\n",
    "cars.loc[ cars[\"manufacturer\"] == \"harley-davidson\", \"manuf_country\"] = \"USA\"\n",
    "cars.loc[ cars[\"manufacturer\"] == \"ferrari\", \"manuf_country\"] = \"Italy\"\n",
    "cars.loc[ cars[\"manufacturer\"] == \"datsun\", \"manuf_country\"] = \"Japan\"\n",
    "cars.loc[ cars[\"manufacturer\"] == \"aston-martin\", \"manuf_country\"] = \"UK\"\n",
    "cars.loc[ cars[\"manufacturer\"] == \"land-rover\", \"manuf_country\"] = \"UK\"\n",
    "cars.loc[ cars[\"manufacturer\"] == \"morgan\", \"manuf_country\"] = \"UK\"\n",
    "cars.loc[ cars[\"manufacturer\"] == \"hennessey\", \"manuf_country\"] = \"USA\"\n",
    "cars.loc[ cars[\"manufacturer\"].isnull(), \"manuf_country\"] = \"missing\""
   ]
  },
  {
   "cell_type": "code",
   "execution_count": 103,
   "metadata": {
    "scrolled": false
   },
   "outputs": [
    {
     "data": {
      "text/plain": [
       "USA        248373\n",
       "Japan      121745\n",
       "Germany     40831\n",
       "S.Korea     19829\n",
       "missing     18220\n",
       "UK           5090\n",
       "Sweden       2866\n",
       "Italy        1238\n",
       "Name: manuf_country, dtype: int64"
      ]
     },
     "execution_count": 103,
     "metadata": {},
     "output_type": "execute_result"
    }
   ],
   "source": [
    "cars.manuf_country.value_counts()"
   ]
  },
  {
   "cell_type": "markdown",
   "metadata": {},
   "source": [
    "Grouping for types according to use"
   ]
  },
  {
   "cell_type": "code",
   "execution_count": 104,
   "metadata": {
    "scrolled": false
   },
   "outputs": [
    {
     "data": {
      "text/plain": [
       "sedan          92364\n",
       "SUV            79882\n",
       "pickup         43343\n",
       "truck          35694\n",
       "other          24160\n",
       "coupe          19106\n",
       "hatchback      16388\n",
       "wagon          10473\n",
       "van             9574\n",
       "convertible     6864\n",
       "mini-van        6263\n",
       "bus              717\n",
       "offroad          647\n",
       "Name: type, dtype: int64"
      ]
     },
     "execution_count": 104,
     "metadata": {},
     "output_type": "execute_result"
    }
   ],
   "source": [
    "cars.type.value_counts()"
   ]
  },
  {
   "cell_type": "code",
   "execution_count": 105,
   "metadata": {},
   "outputs": [
    {
     "data": {
      "text/plain": [
       "112738"
      ]
     },
     "execution_count": 105,
     "metadata": {},
     "output_type": "execute_result"
    }
   ],
   "source": [
    "cars[\"type\"].isnull().sum()"
   ]
  },
  {
   "cell_type": "code",
   "execution_count": 106,
   "metadata": {},
   "outputs": [],
   "source": [
    "cars.loc[ cars[\"type\"] == \"sedan\", \"usage_type\"] = \"daily\" \n",
    "cars.loc[ cars[\"type\"] == \"SUV\", \"usage_type\"] = \"daily\"\n",
    "cars.loc[ cars[\"type\"] == \"pickup\", \"usage_type\"] = \"professional\"\n",
    "cars.loc[ cars[\"type\"] == \"truck\", \"usage_type\"] = \"professional\"\n",
    "cars.loc[ cars[\"type\"] == \"other\", \"usage_type\"] = \"other\"\n",
    "cars.loc[ cars[\"type\"] == \"coupe\", \"usage_type\"] = \"daily\"\n",
    "cars.loc[ cars[\"type\"] == \"hatchback\", \"usage_type\"] = \"daily\"\n",
    "cars.loc[ cars[\"type\"] == \"wagon\", \"usage_type\"] = \"daily\"\n",
    "cars.loc[ cars[\"type\"] == \"van\", \"usage_type\"] = \"professional\"\n",
    "cars.loc[ cars[\"type\"] == \"convertible\", \"usage_type\"] = \"daily\"\n",
    "cars.loc[ cars[\"type\"] == \"mini-van\", \"usage_type\"] = \"professional\"\n",
    "cars.loc[ cars[\"type\"] == \"bus\", \"usage_type\"] = \"professional\"\n",
    "cars.loc[ cars[\"type\"] == \"offroad\", \"usage_type\"] = \"other\"\n",
    "cars.loc[ cars[\"type\"].isnull() , \"usage_type\"] = \"missing\""
   ]
  },
  {
   "cell_type": "code",
   "execution_count": 107,
   "metadata": {},
   "outputs": [
    {
     "data": {
      "text/plain": [
       "0"
      ]
     },
     "execution_count": 107,
     "metadata": {},
     "output_type": "execute_result"
    }
   ],
   "source": [
    "cars[\"usage_type\"].isnull().sum()"
   ]
  },
  {
   "cell_type": "markdown",
   "metadata": {},
   "source": [
    "Dummies "
   ]
  },
  {
   "cell_type": "code",
   "execution_count": 108,
   "metadata": {},
   "outputs": [],
   "source": [
    "# pd.get_dummies( cars, columns = [\"columns and grouped columns\"])"
   ]
  },
  {
   "cell_type": "code",
   "execution_count": 109,
   "metadata": {},
   "outputs": [
    {
     "data": {
      "text/plain": [
       "1C4HJWDG6HL702229    194\n",
       "JM1NC2LF6F0238386    177\n",
       "WBSDX9C51CE785198    176\n",
       "1ZVBP8FF8C5218125    155\n",
       "1GC1KVEG0FF546627    152\n",
       "                    ... \n",
       "5YMGY0C50BLK26319      1\n",
       "5FNYF4H56EB016365      1\n",
       "1GT120E80FF511484      1\n",
       "5TFEV54137X027007      1\n",
       "KNDJC735785853912      1\n",
       "Name: VIN, Length: 133620, dtype: int64"
      ]
     },
     "execution_count": 109,
     "metadata": {},
     "output_type": "execute_result"
    }
   ],
   "source": [
    "cars.VIN.value_counts()"
   ]
  },
  {
   "cell_type": "markdown",
   "metadata": {},
   "source": [
    "# The functions"
   ]
  },
  {
   "cell_type": "code",
   "execution_count": 130,
   "metadata": {},
   "outputs": [
    {
     "name": "stdout",
     "output_type": "stream",
     "text": [
      "18220\n"
     ]
    }
   ],
   "source": [
    "print(cars[\"manufacturer\"].isnull().sum())"
   ]
  },
  {
   "cell_type": "code",
   "execution_count": 27,
   "metadata": {},
   "outputs": [],
   "source": [
    "def ohe_manuf_country(cars):\n",
    "    \n",
    "    # Manufacturer country assigned\n",
    "    \n",
    "    cars.loc[ cars[\"manufacturer\"] == \"ford\", \"manuf_country\"] = \"USA\"\n",
    "    cars.loc[ cars[\"manufacturer\"] == \"chevrolet\", \"manuf_country\"] = \"USA\"\n",
    "    cars.loc[ cars[\"manufacturer\"] == \"toyota\", \"manuf_country\"] = \"Japan\"\n",
    "    cars.loc[ cars[\"manufacturer\"] == \"honda\", \"manuf_country\"] = \"Japan\"\n",
    "    cars.loc[ cars[\"manufacturer\"] == \"nissan\", \"manuf_country\"] = \"Japan\"\n",
    "    cars.loc[ cars[\"manufacturer\"] == \"jeep\", \"manuf_country\"] = \"USA\"\n",
    "    cars.loc[ cars[\"manufacturer\"] == \"ram\", \"manuf_country\"] = \"USA\"\n",
    "    cars.loc[ cars[\"manufacturer\"] == \"gmc\", \"manuf_country\"] = \"USA\"\n",
    "    cars.loc[ cars[\"manufacturer\"] == \"dodge\", \"manuf_country\"] = \"USA\"\n",
    "    cars.loc[ cars[\"manufacturer\"] == \"bmw\", \"manuf_country\"] = \"Germany\"\n",
    "    cars.loc[ cars[\"manufacturer\"] == \"hyundai\", \"manuf_country\"] = \"S.Korea\"\n",
    "    cars.loc[ cars[\"manufacturer\"] == \"mercedes-benz\", \"manuf_country\"] = \"Germany\"\n",
    "    cars.loc[ cars[\"manufacturer\"] == \"subaru\", \"manuf_country\"] = \"Japan\"\n",
    "    cars.loc[ cars[\"manufacturer\"] == \"volkswagen\", \"manuf_country\"] = \"Germany\"\n",
    "    cars.loc[ cars[\"manufacturer\"] == \"kia\", \"manuf_country\"] = \"S.Korea\"\n",
    "    cars.loc[ cars[\"manufacturer\"] == \"chrysler\", \"manuf_country\"] = \"USA\"\n",
    "    cars.loc[ cars[\"manufacturer\"] == \"lexus\", \"manuf_country\"] = \"Japan\"\n",
    "    cars.loc[ cars[\"manufacturer\"] == \"cadillac\", \"manuf_country\"] = \"USA\"\n",
    "    cars.loc[ cars[\"manufacturer\"] == \"buick\", \"manuf_country\"] = \"USA\"\n",
    "    cars.loc[ cars[\"manufacturer\"] == \"mazda\", \"manuf_country\"] = \"Japan\"\n",
    "    cars.loc[ cars[\"manufacturer\"] == \"audi\", \"manuf_country\"] = \"Germany\"\n",
    "    cars.loc[ cars[\"manufacturer\"] == \"acura\", \"manuf_country\"] = \"Japan\"\n",
    "    cars.loc[ cars[\"manufacturer\"] == \"infiniti\", \"manuf_country\"] = \"Japan\"\n",
    "    cars.loc[ cars[\"manufacturer\"] == \"lincoln\", \"manuf_country\"] = \"USA\"\n",
    "    cars.loc[ cars[\"manufacturer\"] == \"pontiac\", \"manuf_country\"] = \"USA\"\n",
    "    cars.loc[ cars[\"manufacturer\"] == \"volvo\", \"manuf_country\"] = \"Sweden\"\n",
    "    cars.loc[ cars[\"manufacturer\"] == \"mini\", \"manuf_country\"] = \"UK\"\n",
    "    cars.loc[ cars[\"manufacturer\"] == \"mitsubishi\", \"manuf_country\"] = \"Japan\"\n",
    "    cars.loc[ cars[\"manufacturer\"] == \"porsche\", \"manuf_country\"] = \"Germany\"\n",
    "    cars.loc[ cars[\"manufacturer\"] == \"rover\", \"manuf_country\"] = \"UK\"\n",
    "    cars.loc[ cars[\"manufacturer\"] == \"mercury\", \"manuf_country\"] = \"USA\"\n",
    "    cars.loc[ cars[\"manufacturer\"] == \"saturn\", \"manuf_country\"] = \"USA\"\n",
    "    cars.loc[ cars[\"manufacturer\"] == \"tesla\", \"manuf_country\"] = \"USA\"\n",
    "    cars.loc[ cars[\"manufacturer\"] == \"jaguar\", \"manuf_country\"] = \"UK\"\n",
    "    cars.loc[ cars[\"manufacturer\"] == \"fiat\", \"manuf_country\"] = \"Italy\"\n",
    "    cars.loc[ cars[\"manufacturer\"] == \"alfa-romeo\", \"manuf_country\"] = \"Italy\"\n",
    "    cars.loc[ cars[\"manufacturer\"] == \"harley-davidson\", \"manuf_country\"] = \"USA\"\n",
    "    cars.loc[ cars[\"manufacturer\"] == \"ferrari\", \"manuf_country\"] = \"Italy\"\n",
    "    cars.loc[ cars[\"manufacturer\"] == \"datsun\", \"manuf_country\"] = \"Japan\"\n",
    "    cars.loc[ cars[\"manufacturer\"] == \"aston-martin\", \"manuf_country\"] = \"UK\"\n",
    "    cars.loc[ cars[\"manufacturer\"] == \"land-rover\", \"manuf_country\"] = \"UK\"\n",
    "    cars.loc[ cars[\"manufacturer\"] == \"morgan\", \"manuf_country\"] = \"UK\"\n",
    "    cars.loc[ cars[\"manufacturer\"] == \"hennessey\", \"manuf_country\"] = \"USA\"\n",
    "    cars.loc[ cars[\"manufacturer\"].isnull(), \"manuf_country\"] = \"missing\"\n",
    "    \n",
    "    # One hot encoding to one of USA, Japan, Germany, S.Korea, UK, Sweden, Italy and missing\n",
    "    \n",
    "    cars = pd.get_dummies( cars, columns = [\"manuf_country\"])\n",
    "    \n",
    "    # Manufacturer needs to be dropped\n",
    "    \n",
    "    return cars"
   ]
  },
  {
   "cell_type": "code",
   "execution_count": 28,
   "metadata": {},
   "outputs": [
    {
     "name": "stdout",
     "output_type": "stream",
     "text": [
      "good         115685\n",
      "excellent    115206\n",
      "like new      24553\n",
      "fair           7740\n",
      "new            1428\n",
      "salvage         661\n",
      "Name: condition, dtype: int64\n",
      "\n",
      "192940\n"
     ]
    }
   ],
   "source": [
    "print(cars[\"condition\"].value_counts())\n",
    "print(\"\")\n",
    "print(cars[\"condition\"].isnull().sum())"
   ]
  },
  {
   "cell_type": "code",
   "execution_count": 29,
   "metadata": {},
   "outputs": [],
   "source": [
    "def ohe_condition(cars):\n",
    "    \n",
    "    # One hot encoding condition (original values)\n",
    "    cars.loc[ cars[\"condition\"] == \"good\", \"condition\"] = \"good\"\n",
    "    cars.loc[ cars[\"condition\"] == \"excellent\", \"condition\"] = \"good\"\n",
    "    cars.loc[ cars[\"condition\"] == \"like new\", \"condition\"] = \"good\"\n",
    "    cars.loc[ cars[\"condition\"] == \"fair\", \"condition\"] = \"fair\"\n",
    "    cars.loc[ cars[\"condition\"] == \"new\", \"condition\"] = \"good\"\n",
    "    cars.loc[ cars[\"condition\"] == \"salvage\", \"condition\"] = \"not good\"\n",
    "    cars.loc[ cars[\"condition\"].isnull(), \"condition\"] = \"missing\"\n",
    "    cars = pd.get_dummies( cars, columns = [\"condition\"])\n",
    "    \n",
    "    return cars"
   ]
  },
  {
   "cell_type": "code",
   "execution_count": 30,
   "metadata": {},
   "outputs": [],
   "source": [
    "def ohe_type(cars):\n",
    "    \n",
    "    # Some condition groupings\n",
    "    \n",
    "    cars.loc[ cars[\"type\"] == \"sedan\", \"usage_type\"] = \"daily\" \n",
    "    cars.loc[ cars[\"type\"] == \"SUV\", \"usage_type\"] = \"daily\"\n",
    "    cars.loc[ cars[\"type\"] == \"pickup\", \"usage_type\"] = \"professional\"\n",
    "    cars.loc[ cars[\"type\"] == \"truck\", \"usage_type\"] = \"professional\"\n",
    "    cars.loc[ cars[\"type\"] == \"other\", \"usage_type\"] = \"other\"\n",
    "    cars.loc[ cars[\"type\"] == \"coupe\", \"usage_type\"] = \"daily\"\n",
    "    cars.loc[ cars[\"type\"] == \"hatchback\", \"usage_type\"] = \"daily\"\n",
    "    cars.loc[ cars[\"type\"] == \"wagon\", \"usage_type\"] = \"daily\"\n",
    "    cars.loc[ cars[\"type\"] == \"van\", \"usage_type\"] = \"professional\"\n",
    "    cars.loc[ cars[\"type\"] == \"convertible\", \"usage_type\"] = \"daily\"\n",
    "    cars.loc[ cars[\"type\"] == \"mini-van\", \"usage_type\"] = \"professional\"\n",
    "    cars.loc[ cars[\"type\"] == \"bus\", \"usage_type\"] = \"professional\"\n",
    "    cars.loc[ cars[\"type\"] == \"offroad\", \"usage_type\"] = \"other\"\n",
    "    cars.loc[ cars[\"type\"].isnull() , \"usage_type\"] = \"missing\"\n",
    "    \n",
    "    # One hot encoding type (original values)\n",
    "    \n",
    "    cars = pd.get_dummies( cars, columns = [\"usage_type\"])\n",
    "    \n",
    "    #type needs to be dropped\n",
    "    \n",
    "    return cars"
   ]
  },
  {
   "cell_type": "code",
   "execution_count": 31,
   "metadata": {},
   "outputs": [
    {
     "name": "stdout",
     "output_type": "stream",
     "text": [
      "6 cylinders     105677\n",
      "4 cylinders      94767\n",
      "8 cylinders      81179\n",
      "5 cylinders       2058\n",
      "10 cylinders      1543\n",
      "other             1112\n",
      "3 cylinders        550\n",
      "12 cylinders       187\n",
      "Name: cylinders, dtype: int64\n",
      "\n",
      "171140\n"
     ]
    }
   ],
   "source": [
    "print(cars[\"cylinders\"].value_counts())\n",
    "print(\"\")\n",
    "print(cars[\"cylinders\"].isnull().sum())"
   ]
  },
  {
   "cell_type": "code",
   "execution_count": 32,
   "metadata": {},
   "outputs": [],
   "source": [
    "def ohe_cylinders(cars):\n",
    "    \n",
    "    # One hot encoding cylinders (original values)\n",
    "    \n",
    "    cars.loc[ cars[\"cylinders\"] == \"6 cylinders\", \"cylinders\" ] = \"5-6\"\n",
    "    cars.loc[ cars[\"cylinders\"] == \"4 cylinders\", \"cylinders\" ] = \"4\"\n",
    "    cars.loc[ cars[\"cylinders\"] == \"8 cylinders\", \"cylinders\" ] = \"8\"\n",
    "    cars.loc[ cars[\"cylinders\"] == \"5 cylinders\", \"cylinders\" ] = \"5-6\"\n",
    "    cars.loc[ cars[\"cylinders\"] == \"10 cylinders\", \"cylinders\" ] = \"10-12\"\n",
    "    cars.loc[ cars[\"cylinders\"] == \"other\", \"cylinders\" ] = \"missing\"\n",
    "    cars.loc[ cars[\"cylinders\"] == \"3 cylinders\", \"cylinders\" ] = \"3\"\n",
    "    cars.loc[ cars[\"cylinders\"] == \"12 cylinders\", \"cylinders\" ] = \"10-12\"\n",
    "    cars.loc[ cars[\"cylinders\"] == \"other\", \"cylinders\" ] = \"missing\"\n",
    "\n",
    "    cars.loc[ cars[\"cylinders\"].isnull() , \"cylinders\"] = \"missing\"\n",
    "    \n",
    "    cars = pd.get_dummies( cars, columns = [\"cylinders\"])\n",
    "    \n",
    "    return cars"
   ]
  },
  {
   "cell_type": "code",
   "execution_count": 33,
   "metadata": {},
   "outputs": [],
   "source": [
    "def ohe_fuel(cars):\n",
    "    \n",
    "    cars.loc[ cars[\"fuel\"] == \"other\", \"fuel\" ] = \"missing\"\n",
    "    cars.loc[ cars[\"fuel\"].isnull() , \"fuel\"] = \"missing\"\n",
    "    # One hot encoding fuel (original values)\n",
    "    \n",
    "    cars = pd.get_dummies( cars, columns = [\"fuel\"])\n",
    "    return cars"
   ]
  },
  {
   "cell_type": "code",
   "execution_count": 34,
   "metadata": {},
   "outputs": [],
   "source": [
    "# Manufacturer, condition, type, cylinders, fuel\n",
    "# cars = ohe_manuf_country(cars)\n",
    "# cars = ohe_condition(cars)\n",
    "# cars = ohe_type(cars)\n",
    "# cars = ohe_cylinders(cars)\n",
    "# cars = ohe_fuel(cars)"
   ]
  },
  {
   "cell_type": "code",
   "execution_count": 35,
   "metadata": {},
   "outputs": [
    {
     "data": {
      "text/plain": [
       "Index(['Unnamed: 0', 'id', 'url', 'region', 'region_url', 'price', 'year',\n",
       "       'manufacturer', 'model', 'condition', 'cylinders', 'fuel', 'odometer',\n",
       "       'title_status', 'transmission', 'VIN', 'drive', 'size', 'type',\n",
       "       'paint_color', 'image_url', 'description', 'state', 'lat', 'long',\n",
       "       'posting_date'],\n",
       "      dtype='object')"
      ]
     },
     "execution_count": 35,
     "metadata": {},
     "output_type": "execute_result"
    }
   ],
   "source": [
    "cars.columns"
   ]
  },
  {
   "cell_type": "code",
   "execution_count": 36,
   "metadata": {},
   "outputs": [],
   "source": [
    "cars = ohe_manuf_country(cars)"
   ]
  },
  {
   "cell_type": "code",
   "execution_count": 37,
   "metadata": {},
   "outputs": [
    {
     "data": {
      "text/plain": [
       "Index(['Unnamed: 0', 'id', 'url', 'region', 'region_url', 'price', 'year',\n",
       "       'manufacturer', 'model', 'condition', 'cylinders', 'fuel', 'odometer',\n",
       "       'title_status', 'transmission', 'VIN', 'drive', 'size', 'type',\n",
       "       'paint_color', 'image_url', 'description', 'state', 'lat', 'long',\n",
       "       'posting_date', 'manuf_country_Germany', 'manuf_country_Italy',\n",
       "       'manuf_country_Japan', 'manuf_country_S.Korea', 'manuf_country_Sweden',\n",
       "       'manuf_country_UK', 'manuf_country_USA', 'manuf_country_missing'],\n",
       "      dtype='object')"
      ]
     },
     "execution_count": 37,
     "metadata": {},
     "output_type": "execute_result"
    }
   ],
   "source": [
    "cars.columns"
   ]
  },
  {
   "cell_type": "code",
   "execution_count": 38,
   "metadata": {},
   "outputs": [],
   "source": [
    "cars = ohe_condition(cars)"
   ]
  },
  {
   "cell_type": "code",
   "execution_count": 39,
   "metadata": {},
   "outputs": [
    {
     "data": {
      "text/plain": [
       "Index(['Unnamed: 0', 'id', 'url', 'region', 'region_url', 'price', 'year',\n",
       "       'manufacturer', 'model', 'cylinders', 'fuel', 'odometer',\n",
       "       'title_status', 'transmission', 'VIN', 'drive', 'size', 'type',\n",
       "       'paint_color', 'image_url', 'description', 'state', 'lat', 'long',\n",
       "       'posting_date', 'manuf_country_Germany', 'manuf_country_Italy',\n",
       "       'manuf_country_Japan', 'manuf_country_S.Korea', 'manuf_country_Sweden',\n",
       "       'manuf_country_UK', 'manuf_country_USA', 'manuf_country_missing',\n",
       "       'condition_fair', 'condition_good', 'condition_missing',\n",
       "       'condition_not good'],\n",
       "      dtype='object')"
      ]
     },
     "execution_count": 39,
     "metadata": {},
     "output_type": "execute_result"
    }
   ],
   "source": [
    "cars.columns"
   ]
  },
  {
   "cell_type": "code",
   "execution_count": 40,
   "metadata": {},
   "outputs": [],
   "source": [
    "cars = ohe_type(cars)"
   ]
  },
  {
   "cell_type": "code",
   "execution_count": 41,
   "metadata": {},
   "outputs": [
    {
     "data": {
      "text/plain": [
       "Index(['Unnamed: 0', 'id', 'url', 'region', 'region_url', 'price', 'year',\n",
       "       'manufacturer', 'model', 'cylinders', 'fuel', 'odometer',\n",
       "       'title_status', 'transmission', 'VIN', 'drive', 'size', 'type',\n",
       "       'paint_color', 'image_url', 'description', 'state', 'lat', 'long',\n",
       "       'posting_date', 'manuf_country_Germany', 'manuf_country_Italy',\n",
       "       'manuf_country_Japan', 'manuf_country_S.Korea', 'manuf_country_Sweden',\n",
       "       'manuf_country_UK', 'manuf_country_USA', 'manuf_country_missing',\n",
       "       'condition_fair', 'condition_good', 'condition_missing',\n",
       "       'condition_not good', 'usage_type_daily', 'usage_type_missing',\n",
       "       'usage_type_other', 'usage_type_professional'],\n",
       "      dtype='object')"
      ]
     },
     "execution_count": 41,
     "metadata": {},
     "output_type": "execute_result"
    }
   ],
   "source": [
    "cars.columns"
   ]
  },
  {
   "cell_type": "code",
   "execution_count": 42,
   "metadata": {},
   "outputs": [],
   "source": [
    "cars = ohe_cylinders(cars)"
   ]
  },
  {
   "cell_type": "code",
   "execution_count": 43,
   "metadata": {},
   "outputs": [
    {
     "data": {
      "text/plain": [
       "Index(['Unnamed: 0', 'id', 'url', 'region', 'region_url', 'price', 'year',\n",
       "       'manufacturer', 'model', 'fuel', 'odometer', 'title_status',\n",
       "       'transmission', 'VIN', 'drive', 'size', 'type', 'paint_color',\n",
       "       'image_url', 'description', 'state', 'lat', 'long', 'posting_date',\n",
       "       'manuf_country_Germany', 'manuf_country_Italy', 'manuf_country_Japan',\n",
       "       'manuf_country_S.Korea', 'manuf_country_Sweden', 'manuf_country_UK',\n",
       "       'manuf_country_USA', 'manuf_country_missing', 'condition_fair',\n",
       "       'condition_good', 'condition_missing', 'condition_not good',\n",
       "       'usage_type_daily', 'usage_type_missing', 'usage_type_other',\n",
       "       'usage_type_professional', 'cylinders_10-12', 'cylinders_3',\n",
       "       'cylinders_4', 'cylinders_5-6', 'cylinders_8', 'cylinders_missing'],\n",
       "      dtype='object')"
      ]
     },
     "execution_count": 43,
     "metadata": {},
     "output_type": "execute_result"
    }
   ],
   "source": [
    "cars.columns"
   ]
  },
  {
   "cell_type": "code",
   "execution_count": 44,
   "metadata": {},
   "outputs": [
    {
     "data": {
      "text/plain": [
       "gas         399399\n",
       "diesel       31077\n",
       "other        16359\n",
       "hybrid        5790\n",
       "electric      2351\n",
       "Name: fuel, dtype: int64"
      ]
     },
     "execution_count": 44,
     "metadata": {},
     "output_type": "execute_result"
    }
   ],
   "source": [
    "cars.fuel.value_counts()"
   ]
  },
  {
   "cell_type": "code",
   "execution_count": 45,
   "metadata": {},
   "outputs": [],
   "source": [
    "cars = ohe_fuel(cars)"
   ]
  },
  {
   "cell_type": "code",
   "execution_count": 46,
   "metadata": {},
   "outputs": [
    {
     "data": {
      "text/plain": [
       "Index(['Unnamed: 0', 'id', 'url', 'region', 'region_url', 'price', 'year',\n",
       "       'manufacturer', 'model', 'odometer', 'title_status', 'transmission',\n",
       "       'VIN', 'drive', 'size', 'type', 'paint_color', 'image_url',\n",
       "       'description', 'state', 'lat', 'long', 'posting_date',\n",
       "       'manuf_country_Germany', 'manuf_country_Italy', 'manuf_country_Japan',\n",
       "       'manuf_country_S.Korea', 'manuf_country_Sweden', 'manuf_country_UK',\n",
       "       'manuf_country_USA', 'manuf_country_missing', 'condition_fair',\n",
       "       'condition_good', 'condition_missing', 'condition_not good',\n",
       "       'usage_type_daily', 'usage_type_missing', 'usage_type_other',\n",
       "       'usage_type_professional', 'cylinders_10-12', 'cylinders_3',\n",
       "       'cylinders_4', 'cylinders_5-6', 'cylinders_8', 'cylinders_missing',\n",
       "       'fuel_diesel', 'fuel_electric', 'fuel_gas', 'fuel_hybrid',\n",
       "       'fuel_missing'],\n",
       "      dtype='object')"
      ]
     },
     "execution_count": 46,
     "metadata": {},
     "output_type": "execute_result"
    }
   ],
   "source": [
    "cars.columns"
   ]
  },
  {
   "cell_type": "code",
   "execution_count": 47,
   "metadata": {},
   "outputs": [
    {
     "data": {
      "text/plain": [
       "Unnamed: 0                      0\n",
       "id                              0\n",
       "url                             0\n",
       "region                          0\n",
       "region_url                      0\n",
       "price                           0\n",
       "year                         1050\n",
       "manufacturer                18220\n",
       "model                        4846\n",
       "odometer                    55303\n",
       "title_status                 2577\n",
       "transmission                 2442\n",
       "VIN                        187549\n",
       "drive                      134188\n",
       "size                       321348\n",
       "type                       112738\n",
       "paint_color                140843\n",
       "image_url                      28\n",
       "description                    70\n",
       "state                           0\n",
       "lat                          7448\n",
       "long                         7448\n",
       "posting_date                   28\n",
       "manuf_country_Germany           0\n",
       "manuf_country_Italy             0\n",
       "manuf_country_Japan             0\n",
       "manuf_country_S.Korea           0\n",
       "manuf_country_Sweden            0\n",
       "manuf_country_UK                0\n",
       "manuf_country_USA               0\n",
       "manuf_country_missing           0\n",
       "condition_fair                  0\n",
       "condition_good                  0\n",
       "condition_missing               0\n",
       "condition_not good              0\n",
       "usage_type_daily                0\n",
       "usage_type_missing              0\n",
       "usage_type_other                0\n",
       "usage_type_professional         0\n",
       "cylinders_10-12                 0\n",
       "cylinders_3                     0\n",
       "cylinders_4                     0\n",
       "cylinders_5-6                   0\n",
       "cylinders_8                     0\n",
       "cylinders_missing               0\n",
       "fuel_diesel                     0\n",
       "fuel_electric                   0\n",
       "fuel_gas                        0\n",
       "fuel_hybrid                     0\n",
       "fuel_missing                    0\n",
       "dtype: int64"
      ]
     },
     "execution_count": 47,
     "metadata": {},
     "output_type": "execute_result"
    }
   ],
   "source": [
    "cars.isnull().sum()"
   ]
  },
  {
   "cell_type": "code",
   "execution_count": 49,
   "metadata": {},
   "outputs": [
    {
     "data": {
      "text/plain": [
       "0    439993\n",
       "1     18220\n",
       "Name: manuf_country_missing, dtype: int64"
      ]
     },
     "execution_count": 49,
     "metadata": {},
     "output_type": "execute_result"
    }
   ],
   "source": [
    "cars.manuf_country_missing.value_counts()"
   ]
  },
  {
   "cell_type": "code",
   "execution_count": 50,
   "metadata": {},
   "outputs": [
    {
     "data": {
      "text/plain": [
       "0    265273\n",
       "1    192940\n",
       "Name: condition_missing, dtype: int64"
      ]
     },
     "execution_count": 50,
     "metadata": {},
     "output_type": "execute_result"
    }
   ],
   "source": [
    "cars.condition_missing.value_counts()"
   ]
  },
  {
   "cell_type": "code",
   "execution_count": 51,
   "metadata": {},
   "outputs": [
    {
     "data": {
      "text/plain": [
       "0    345475\n",
       "1    112738\n",
       "Name: usage_type_missing, dtype: int64"
      ]
     },
     "execution_count": 51,
     "metadata": {},
     "output_type": "execute_result"
    }
   ],
   "source": [
    "cars.usage_type_missing.value_counts()"
   ]
  },
  {
   "cell_type": "code",
   "execution_count": 52,
   "metadata": {},
   "outputs": [
    {
     "data": {
      "text/plain": [
       "0    285961\n",
       "1    172252\n",
       "Name: cylinders_missing, dtype: int64"
      ]
     },
     "execution_count": 52,
     "metadata": {},
     "output_type": "execute_result"
    }
   ],
   "source": [
    "cars.cylinders_missing.value_counts()"
   ]
  },
  {
   "cell_type": "code",
   "execution_count": 53,
   "metadata": {},
   "outputs": [
    {
     "data": {
      "text/plain": [
       "0    438617\n",
       "1     19596\n",
       "Name: fuel_missing, dtype: int64"
      ]
     },
     "execution_count": 53,
     "metadata": {},
     "output_type": "execute_result"
    }
   ],
   "source": [
    "cars.fuel_missing.value_counts()"
   ]
  },
  {
   "cell_type": "markdown",
   "metadata": {},
   "source": [
    "# Ready for copy paste"
   ]
  },
  {
   "cell_type": "code",
   "execution_count": null,
   "metadata": {},
   "outputs": [],
   "source": [
    "def ohe_manuf_country(cars):\n",
    "    \n",
    "    # Manufacturer country assigned\n",
    "    \n",
    "    cars.loc[ cars[\"manufacturer\"] == \"ford\", \"manuf_country\"] = \"USA\"\n",
    "    cars.loc[ cars[\"manufacturer\"] == \"chevrolet\", \"manuf_country\"] = \"USA\"\n",
    "    cars.loc[ cars[\"manufacturer\"] == \"toyota\", \"manuf_country\"] = \"Japan\"\n",
    "    cars.loc[ cars[\"manufacturer\"] == \"honda\", \"manuf_country\"] = \"Japan\"\n",
    "    cars.loc[ cars[\"manufacturer\"] == \"nissan\", \"manuf_country\"] = \"Japan\"\n",
    "    cars.loc[ cars[\"manufacturer\"] == \"jeep\", \"manuf_country\"] = \"USA\"\n",
    "    cars.loc[ cars[\"manufacturer\"] == \"ram\", \"manuf_country\"] = \"USA\"\n",
    "    cars.loc[ cars[\"manufacturer\"] == \"gmc\", \"manuf_country\"] = \"USA\"\n",
    "    cars.loc[ cars[\"manufacturer\"] == \"dodge\", \"manuf_country\"] = \"USA\"\n",
    "    cars.loc[ cars[\"manufacturer\"] == \"bmw\", \"manuf_country\"] = \"Germany\"\n",
    "    cars.loc[ cars[\"manufacturer\"] == \"hyundai\", \"manuf_country\"] = \"S.Korea\"\n",
    "    cars.loc[ cars[\"manufacturer\"] == \"mercedes-benz\", \"manuf_country\"] = \"Germany\"\n",
    "    cars.loc[ cars[\"manufacturer\"] == \"subaru\", \"manuf_country\"] = \"Japan\"\n",
    "    cars.loc[ cars[\"manufacturer\"] == \"volkswagen\", \"manuf_country\"] = \"Germany\"\n",
    "    cars.loc[ cars[\"manufacturer\"] == \"kia\", \"manuf_country\"] = \"S.Korea\"\n",
    "    cars.loc[ cars[\"manufacturer\"] == \"chrysler\", \"manuf_country\"] = \"USA\"\n",
    "    cars.loc[ cars[\"manufacturer\"] == \"lexus\", \"manuf_country\"] = \"Japan\"\n",
    "    cars.loc[ cars[\"manufacturer\"] == \"cadillac\", \"manuf_country\"] = \"USA\"\n",
    "    cars.loc[ cars[\"manufacturer\"] == \"buick\", \"manuf_country\"] = \"USA\"\n",
    "    cars.loc[ cars[\"manufacturer\"] == \"mazda\", \"manuf_country\"] = \"Japan\"\n",
    "    cars.loc[ cars[\"manufacturer\"] == \"audi\", \"manuf_country\"] = \"Germany\"\n",
    "    cars.loc[ cars[\"manufacturer\"] == \"acura\", \"manuf_country\"] = \"Japan\"\n",
    "    cars.loc[ cars[\"manufacturer\"] == \"infiniti\", \"manuf_country\"] = \"Japan\"\n",
    "    cars.loc[ cars[\"manufacturer\"] == \"lincoln\", \"manuf_country\"] = \"USA\"\n",
    "    cars.loc[ cars[\"manufacturer\"] == \"pontiac\", \"manuf_country\"] = \"USA\"\n",
    "    cars.loc[ cars[\"manufacturer\"] == \"volvo\", \"manuf_country\"] = \"Sweden\"\n",
    "    cars.loc[ cars[\"manufacturer\"] == \"mini\", \"manuf_country\"] = \"UK\"\n",
    "    cars.loc[ cars[\"manufacturer\"] == \"mitsubishi\", \"manuf_country\"] = \"Japan\"\n",
    "    cars.loc[ cars[\"manufacturer\"] == \"porsche\", \"manuf_country\"] = \"Germany\"\n",
    "    cars.loc[ cars[\"manufacturer\"] == \"rover\", \"manuf_country\"] = \"UK\"\n",
    "    cars.loc[ cars[\"manufacturer\"] == \"mercury\", \"manuf_country\"] = \"USA\"\n",
    "    cars.loc[ cars[\"manufacturer\"] == \"saturn\", \"manuf_country\"] = \"USA\"\n",
    "    cars.loc[ cars[\"manufacturer\"] == \"tesla\", \"manuf_country\"] = \"USA\"\n",
    "    cars.loc[ cars[\"manufacturer\"] == \"jaguar\", \"manuf_country\"] = \"UK\"\n",
    "    cars.loc[ cars[\"manufacturer\"] == \"fiat\", \"manuf_country\"] = \"Italy\"\n",
    "    cars.loc[ cars[\"manufacturer\"] == \"alfa-romeo\", \"manuf_country\"] = \"Italy\"\n",
    "    cars.loc[ cars[\"manufacturer\"] == \"harley-davidson\", \"manuf_country\"] = \"USA\"\n",
    "    cars.loc[ cars[\"manufacturer\"] == \"ferrari\", \"manuf_country\"] = \"Italy\"\n",
    "    cars.loc[ cars[\"manufacturer\"] == \"datsun\", \"manuf_country\"] = \"Japan\"\n",
    "    cars.loc[ cars[\"manufacturer\"] == \"aston-martin\", \"manuf_country\"] = \"UK\"\n",
    "    cars.loc[ cars[\"manufacturer\"] == \"land-rover\", \"manuf_country\"] = \"UK\"\n",
    "    cars.loc[ cars[\"manufacturer\"] == \"morgan\", \"manuf_country\"] = \"UK\"\n",
    "    cars.loc[ cars[\"manufacturer\"] == \"hennessey\", \"manuf_country\"] = \"USA\"\n",
    "    cars.loc[ cars[\"manufacturer\"].isnull(), \"manuf_country\"] = \"missing\"\n",
    "    \n",
    "    # One hot encoding to one of USA, Japan, Germany, S.Korea, UK, Sweden, Italy and missing\n",
    "    \n",
    "    cars = pd.get_dummies( cars, columns = [\"manuf_country\"])\n",
    "    \n",
    "    # Manufacturer needs to be dropped\n",
    "    # There are some imputed manufacturers that are not in this section.\n",
    "    # These need to be considered as well.\n",
    "    \n",
    "    return cars"
   ]
  },
  {
   "cell_type": "code",
   "execution_count": null,
   "metadata": {},
   "outputs": [],
   "source": [
    "def ohe_condition(cars):\n",
    "    \n",
    "    # One hot encoding condition (original values)\n",
    "    cars.loc[ cars[\"condition\"] == \"good\", \"condition\"] = \"good\"\n",
    "    cars.loc[ cars[\"condition\"] == \"excellent\", \"condition\"] = \"good\"\n",
    "    cars.loc[ cars[\"condition\"] == \"like new\", \"condition\"] = \"good\"\n",
    "    cars.loc[ cars[\"condition\"] == \"fair\", \"condition\"] = \"fair\"\n",
    "    cars.loc[ cars[\"condition\"] == \"new\", \"condition\"] = \"good\"\n",
    "    cars.loc[ cars[\"condition\"] == \"salvage\", \"condition\"] = \"not good\"\n",
    "    cars.loc[ cars[\"condition\"].isnull(), \"condition\"] = \"missing\"\n",
    "    cars = pd.get_dummies( cars, columns = [\"condition\"])\n",
    "    \n",
    "    return cars"
   ]
  },
  {
   "cell_type": "code",
   "execution_count": null,
   "metadata": {},
   "outputs": [],
   "source": [
    "def ohe_type(cars):\n",
    "    \n",
    "    # Some condition groupings\n",
    "    \n",
    "    cars.loc[ cars[\"type\"] == \"sedan\", \"usage_type\"] = \"daily\" \n",
    "    cars.loc[ cars[\"type\"] == \"SUV\", \"usage_type\"] = \"daily\"\n",
    "    cars.loc[ cars[\"type\"] == \"pickup\", \"usage_type\"] = \"professional\"\n",
    "    cars.loc[ cars[\"type\"] == \"truck\", \"usage_type\"] = \"professional\"\n",
    "    cars.loc[ cars[\"type\"] == \"other\", \"usage_type\"] = \"other\"\n",
    "    cars.loc[ cars[\"type\"] == \"coupe\", \"usage_type\"] = \"daily\"\n",
    "    cars.loc[ cars[\"type\"] == \"hatchback\", \"usage_type\"] = \"daily\"\n",
    "    cars.loc[ cars[\"type\"] == \"wagon\", \"usage_type\"] = \"daily\"\n",
    "    cars.loc[ cars[\"type\"] == \"van\", \"usage_type\"] = \"professional\"\n",
    "    cars.loc[ cars[\"type\"] == \"convertible\", \"usage_type\"] = \"daily\"\n",
    "    cars.loc[ cars[\"type\"] == \"mini-van\", \"usage_type\"] = \"professional\"\n",
    "    cars.loc[ cars[\"type\"] == \"bus\", \"usage_type\"] = \"professional\"\n",
    "    cars.loc[ cars[\"type\"] == \"offroad\", \"usage_type\"] = \"other\"\n",
    "    #---------------------------------------\n",
    "    # Assumption\n",
    "    \n",
    "    cars.loc[ (cars[\"type\"].isnull()) & (cars[\"fuel\"] == \"gas\") , \"usage_type\"] = \"daily\"\n",
    "    #---------------------------------------\n",
    "    cars.loc[ cars[\"type\"].isnull() , \"usage_type\"] = \"missing\"\n",
    "    \n",
    "    # One hot encoding type (original values)\n",
    "    \n",
    "    cars = pd.get_dummies( cars, columns = [\"usage_type\"])\n",
    "    \n",
    "    # Type needs to be dropped\n",
    "    # Too many values are missing. Don't think we can impute.\n",
    "    # Maybe we can use the most correlated feature to impute.\n",
    "    \n",
    "    return cars"
   ]
  },
  {
   "cell_type": "code",
   "execution_count": null,
   "metadata": {},
   "outputs": [],
   "source": [
    "def ohe_cylinders(cars):\n",
    "    \n",
    "    # One hot encoding cylinders (original values)\n",
    "    \n",
    "    cars.loc[ cars[\"cylinders\"] == \"6 cylinders\", \"cylinders\" ] = \"5-6\"\n",
    "    cars.loc[ cars[\"cylinders\"] == \"4 cylinders\", \"cylinders\" ] = \"4\"\n",
    "    cars.loc[ cars[\"cylinders\"] == \"8 cylinders\", \"cylinders\" ] = \"8\"\n",
    "    cars.loc[ cars[\"cylinders\"] == \"5 cylinders\", \"cylinders\" ] = \"5-6\"\n",
    "    cars.loc[ cars[\"cylinders\"] == \"10 cylinders\", \"cylinders\" ] = \"10-12\"\n",
    "    cars.loc[ cars[\"cylinders\"] == \"other\", \"cylinders\" ] = \"missing\"\n",
    "    cars.loc[ cars[\"cylinders\"] == \"3 cylinders\", \"cylinders\" ] = \"3\"\n",
    "    cars.loc[ cars[\"cylinders\"] == \"12 cylinders\", \"cylinders\" ] = \"10-12\"\n",
    "    cars.loc[ cars[\"cylinders\"] == \"other\", \"cylinders\" ] = \"missing\"\n",
    "\n",
    "    cars.loc[ cars[\"cylinders\"].isnull() , \"cylinders\"] = \"missing\"\n",
    "    \n",
    "    cars = pd.get_dummies( cars, columns = [\"cylinders\"])\n",
    "    \n",
    "    return cars"
   ]
  },
  {
   "cell_type": "code",
   "execution_count": null,
   "metadata": {},
   "outputs": [],
   "source": [
    "def ohe_fuel(cars):\n",
    "    \n",
    "    cars.loc[ cars[\"fuel\"] == \"other\", \"fuel\" ] = \"missing\"\n",
    "    cars.loc[ cars[\"fuel\"].isnull() , \"fuel\"] = \"missing\"\n",
    "    # One hot encoding fuel (original values)\n",
    "    \n",
    "    cars = pd.get_dummies( cars, columns = [\"fuel\"])\n",
    "    return cars"
   ]
  },
  {
   "cell_type": "code",
   "execution_count": null,
   "metadata": {},
   "outputs": [],
   "source": [
    "cars = ohe_manuf_country(cars)\n",
    "cars = ohe_condition(cars)\n",
    "cars = ohe_type(cars)\n",
    "cars = ohe_cylinders(cars)\n",
    "cars = ohe_fuel(cars)"
   ]
  }
 ],
 "metadata": {
  "kernelspec": {
   "display_name": "Python 3",
   "language": "python",
   "name": "python3"
  }
 },
 "nbformat": 4,
 "nbformat_minor": 4
}
