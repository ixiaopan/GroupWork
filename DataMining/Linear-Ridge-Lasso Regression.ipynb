{
 "cells": [
  {
   "cell_type": "code",
   "execution_count": 1,
   "metadata": {},
   "outputs": [],
   "source": [
    "import pandas as pd\n",
    "import numpy as np\n",
    "from joblib import dump, load\n",
    "from sklearn.feature_extraction.text import TfidfVectorizer\n",
    "import time\n",
    "\n",
    "### Data Cleaning Functions\n",
    "\n",
    "# Getting rid of unecesarry columns\n",
    "\n",
    "def remove_columns(df):\n",
    "    \n",
    "    \"\"\"Removes columns we agreed were useless\"\"\"\n",
    "    columns = [\"Unnamed: 0\", \"id\", \"image_url\", \"VIN\", \"region_url\", \"id\", \"size\",\"url\"]\n",
    "    df.drop(columns, axis=1, inplace=True)\n",
    "    return(df)\n",
    "\n",
    "\n",
    "def price_range(df, lower = 0, higher = 60_000, sampling = False):\n",
    "    \"\"\"\n",
    "    Set the lower and upper limits of the price, if sampling true it chooses 40,000 samples at random\n",
    "    \"\"\"\n",
    "    if sampling == True:\n",
    "        df = df.sample(n = 40_000)\n",
    "    \n",
    "    df = df.dropna(subset = [\"price\"])\n",
    "    \n",
    "    df = df.loc[df[\"price\"] < higher]\n",
    "    df = df.loc[df[\"price\"] >= lower]\n",
    "    \n",
    "    return(df)\n",
    "\n",
    "def dateToDatetime(df):\n",
    "    df['posting_date'] = df['posting_date'].str[:10].astype('datetime64[ns]')\n",
    "    return df\n",
    "\n",
    "def basicImpute(df):\n",
    "    #Here, impute missing values with a common number/value\n",
    "    \n",
    "    ###Description: Impute missing values as empty string\n",
    "    ###posting_date: Not many so impute with mean posting date\n",
    "    mean_posting_date = np.mean(df.posting_date)\n",
    "\n",
    "    #Fill NA\n",
    "    df.fillna(value={'description': '', 'posting_date':mean_posting_date}, inplace=True)\n",
    "    \n",
    "    return df\n",
    "\n",
    "\n",
    "def imputeMissingByManufacturer(df, col):\n",
    "    ###Impute missing values by taking the most common occurence of the items manufacturer\n",
    "    #Use this for fuel and transmission. The remaining missing values have NaN manufacturer\n",
    "    \n",
    "    cars = df.copy()\n",
    "    cars_unique = np.unique(cars.manufacturer.astype(str))\n",
    "    man_dict = {}\n",
    "\n",
    "    for car in cars_unique:\n",
    "        if car != 'nan':\n",
    "            max_occur = cars[cars.manufacturer==car][col].value_counts().index[0]\n",
    "            man_dict[car] = max_occur\n",
    "\n",
    "    cars.loc[cars[col].isnull(),col] = cars['manufacturer'].map(man_dict)\n",
    "    return cars\n",
    "\n",
    "def imputeManufacturer(cars):\n",
    "    for item in ['Isuzu','chevrolet',\"Willys\",\"Hino\",\"suzuki\",'isuzu']:\n",
    "        cars.loc[cars[\"model\"].str.contains(item) ==True, 'manufacturer'] = item\n",
    "    for item in ['Mustang',\"F-150\",\"mustang\",\"f-150\",\"MUSTANG\",\"FORD\",\"ford\",\"Ford\",\"Focus\",\"focus\",\"F-550\",\"f-550\",\"F550\",\"F-350\",\"f-350\",\"F350\",\"expedition el xlt sport\",\"transit\"]:\n",
    "        cars.loc[cars[\"model\"].str.contains(item) ==True, 'manufacturer'] = \"ford\"\n",
    "    for item in ['freightliner cascadia 113','freightliner cascadia','freightliner m2 effer','Freightliner M2 112 15','Freightliner','FREIGHTLINER']:\n",
    "        cars.loc[cars[\"model\"].str.contains(item) ==True, 'manufacturer'] = \"Daimler Trucks North America\"\n",
    "    for item in ['International 4300']:\n",
    "        cars.loc[cars[\"model\"].str.contains(item) ==True, 'manufacturer'] = \"International DuraStar, America\"\n",
    "    for item in ['Hummer H3',\"Hummer H2 SUT\",\"Terrain SLE\",\"HUMMER H2\",\"HUMMER H3\",\"oldsmobile toronado\",\"oldsmobile alero\",'h2 hummer']:\n",
    "        cars.loc[cars[\"model\"].str.contains(item) ==True, 'manufacturer'] = \"General Motors\"\n",
    "    for item in [\"MG Midget\",\"mg midget\",\"MG MIDGET\",\"MG\"]:\n",
    "        cars.loc[cars[\"model\"].str.contains(item) ==True, 'manufacturer'] = \"MG\"\n",
    "    for item in [\"cooper\",\"COOPER\",\"Cooper\"]:\n",
    "        cars.loc[cars[\"model\"].str.contains(item) ==True, 'manufacturer'] = \"mini\"\n",
    "    for item in ['Scion FR-S',\"scion fr-s\",\"SUBARU\",\"subaru\",\"Subaru\",\"forester\"]:\n",
    "        cars.loc[cars[\"model\"].str.contains(item) ==True, 'manufacturer'] = \"subaru\"\n",
    "    for item in ['cr-v',\"CR-V\",\"crv\",\"CRV\",\"HR-V\",\"hr-v\",\"hrv\",\"HRV\",\"Honda\",\"honda\",\"HONDA\",\"Accord\",\"accord\",\"odyssey\",\"Odyssey\",\"Civic\",\"civic\"]:\n",
    "        cars.loc[cars[\"model\"].str.contains(item) ==True, 'manufacturer'] = \"honda\"\n",
    "    for item in ['Maserati',\"maserati\",\"MASERATI\"]:\n",
    "        cars.loc[cars[\"model\"].str.contains(item) ==True, 'manufacturer'] = \"maserati\"\n",
    "    for item in ['hyundia',\"Hyundai\",\"hyundai\",\"HYUNDAI\",\"hyindai\",'hyndai',\"Hundai\",\"Tucson\",\"tucson\",\"Genesis G80\",'genesis G80']:\n",
    "        cars.loc[cars[\"model\"].str.contains(item) ==True, 'manufacturer'] = \"hyundai\"\n",
    "    for item in ['Mazda',\"MAZDA\",\"mazda\",\"cx-5\",\"cx-7\",\"CX-5\",\"CX-7\"]:\n",
    "        cars.loc[cars[\"model\"].str.contains(item) ==True, 'manufacturer'] = \"mazda\"\n",
    "    for item in ['Isuzu',\"ISUZU\",\"isuzu\"]:\n",
    "        cars.loc[cars[\"model\"].str.contains(item) ==True, 'manufacturer'] = \"isuzu\"\n",
    "    for item in ['Suzuki',\"SUZUKI\",\"suzuki\"]:\n",
    "        cars.loc[cars[\"model\"].str.contains(item) ==True, 'manufacturer'] = \"suzuki\"\n",
    "    for item in ['CHRVROLET',\"Cheverolet\",\"cheverolet\", \"cheverolet\",\"chevrolet\",\"Chevrolet\",\"equinox\",\"Cherolet\",\"silverado 1500\",\"tahoe lt\",\"city express\",'olet Spark']:\n",
    "        cars.loc[cars[\"model\"].str.contains(item) ==True, 'manufacturer'] = \"chevrolet\"\n",
    "    for item in ['SCION XB',\"scion tc\",\"Scion TC\",\"Scion tc\",'Scion XD Hatchback','scion XD Hatchback','scion','Scion',\"TOYOTA\",\"toyota\",\"Toyota\",\"yaris\",\"Yaris\",\"YARIS\",\"camry\",\"Camry\",\"CAMRY\",\"corolla\",'Corolla',\"Civic\",\"civic\"]:\n",
    "        cars.loc[cars[\"model\"].str.contains(item) ==True, 'manufacturer'] = \"toyota\"\n",
    "    for item in ['Hudson','hudson']:\n",
    "        cars.loc[cars[\"model\"].str.contains(item) ==True, 'manufacturer'] = \"hudson motor car\"\n",
    "    for item in ['BMW',\"bmw\"]:\n",
    "        cars.loc[cars[\"model\"].str.contains(item) ==True, 'manufacturer'] = \"bmw\"   \n",
    "    for item in ['e-class e 350','BENZ','benz','Benz']:\n",
    "        cars.loc[cars[\"model\"].str.contains(item) ==True, 'manufacturer'] = \"mercedes-benz\"    \n",
    "    for item in ['International Durastar Terex','Terrex','terrex']:\n",
    "        cars.loc[cars[\"model\"].str.contains(item) ==True, 'manufacturer'] = \"terrex\"      \n",
    "    for item in ['freightliner century']:\n",
    "        cars.loc[cars[\"model\"].str.contains(item) ==True, 'manufacturer'] = \"freightliner truck\"\n",
    "    for item in ['international 4300']:\n",
    "        cars.loc[cars[\"model\"].str.contains(item) ==True, 'manufacturer'] = \"international harvester company\"\n",
    "    for item in ['patriot','grand cherokee']:\n",
    "        cars.loc[cars[\"model\"].str.contains(item) ==True, 'manufacturer'] = \"jeep\"\n",
    "    for item in ['leaf sv hatchback 4d','maxima','frontier','note','Note']:\n",
    "        cars.loc[cars[\"model\"].str.contains(item) ==True, 'manufacturer'] = \"nissan\"\n",
    "    for item in ['Bentley Continental',\"bentley continental\"]:\n",
    "        cars.loc[cars[\"model\"].str.contains(item) ==True, 'manufacturer'] = \"bentley motors\"\n",
    "    for item in ['KAWASAKI',\"kawasaki\"]:\n",
    "        cars.loc[cars[\"model\"].str.contains(item) ==True, 'manufacturer'] = \"kawasaki\"\n",
    "    for item in ['wagen Atlas','wagen Passat']:\n",
    "        cars.loc[cars[\"model\"].str.contains(item) ==True, 'manufacturer'] = \"volkswagen\"\n",
    "    for item in ['73cj5','fuso fe160']:\n",
    "        cars.loc[cars[\"model\"].str.contains(item) ==True, 'manufacturer'] = \"mitsubishi\"\n",
    "    for item in ['LAMBORGHINI','lamborghini','Lamborghini','GALLARDO','gallardo']:\n",
    "        cars.loc[cars[\"model\"].str.contains(item) ==True, 'manufacturer'] = \"lamborghini\"  \n",
    "    return cars\n",
    "\n",
    "def imputeOdometerByYear(df):\n",
    "    #Imputes missing values of odometer with mean odometer for the year the car was made\n",
    "    odo_dict = df.groupby(\"year\", as_index=True)['odometer'].mean().fillna(np.mean(df.odometer)).to_dict()\n",
    "    df['odometer'] = df.odometer.fillna(df.year.map(odo_dict))\n",
    "    return df\n",
    "\n",
    "\n",
    "def TF_IDF(df, number = 1000):\n",
    "    \n",
    "    \"\"\"This function adds the TF-IDF values of the most important words to the dataframe,\n",
    "    the number can be chosen above\"\"\"\n",
    "    \n",
    "    \"\"\"TF - term frequency \"\"\"\n",
    "    \n",
    "    \"\"\"Inverse Document Frequency (IDF)\n",
    "    IDF is a measure of how important a term is\"\"\"\n",
    "    \n",
    "    vectorizer = TfidfVectorizer(stop_words='english',max_features = number)\n",
    "    sentences  = df[\"description\"].values\n",
    "    vectorizer.fit(sentences)\n",
    "    vector_spaces = vectorizer.transform(sentences)\n",
    "    tfidf = vector_spaces.toarray()\n",
    "    \n",
    "    clf = load('kmeans.joblib') \n",
    "    df[\"tfidf\"] = clf.predict(tfidf)\n",
    "    df = pd.get_dummies(df, prefix=\"tfidf\",columns=['tfidf'])\n",
    "    \n",
    "    df.reset_index(drop=True, inplace=True)\n",
    "    #df = pd.concat([df, pd.DataFrame(tfidf)], axis = 1)\n",
    "    return(df)\n",
    "\n",
    "\n",
    "def color_clean(df, color_list=['white','black','silver']):\n",
    "    #groups all the colors that are not in the list as \"other\"\n",
    "    #one hot encoding of paint_color column   \n",
    "    df[\"paint_color\"]=df[\"paint_color\"].apply(lambda x: x if x in color_list else \"other\")\n",
    "    df=pd.get_dummies(df, prefix=\"color\",columns=['paint_color'])\n",
    "    return df\n",
    "\n",
    "\n",
    "def cylinder_clean(df):\n",
    "    df[\"cylinders\"] = df[\"cylinders\"].fillna(\"missing\")\n",
    "    df = pd.get_dummies(df, columns = [\"cylinders\"]).drop(\\\n",
    "        [\"cylinders_12 cylinders\", \"cylinders_10 cylinders\", \"cylinders_3 cylinders\", \"cylinders_5 cylinders\", \"cylinders_other\"], axis = 1)\n",
    "    return(df)\n",
    "\n",
    "\n",
    "def drive_clean(df):\n",
    "    #Assigns 4wd to all SUVs, pickups and offroads with nan drive type \n",
    "    df.loc[(((df[\"type\"]==\"SUV\") | \n",
    "            (df[\"type\"]==\"pickup\") | \n",
    "            (df[\"type\"]==\"offroad\")) & (df['drive'].isnull()==True)),\"drive\"] = \"4wd\"\n",
    "    #assign \"other\" to all nan values\n",
    "    df.loc[(df['drive'].isnull()==True),\"drive\"]=\"other\"\n",
    "    #one hot encoding 4wd, rwd, fwd, other\n",
    "    df = pd.get_dummies(df,prefix=\"drive\",columns=['drive'])\n",
    "    return df    \n",
    "\n",
    "\n",
    "def transmission_clean(df):\n",
    "    #Groups nan values with \"other\" type of transmission\n",
    "    df.loc[(df['transmission'].isnull()==True),\"transmission\"]=\"automatic\"\n",
    "    #one hot encoding manual, automatic and other\n",
    "    df = pd.get_dummies(df,prefix=\"transmission\",columns=['transmission'])\n",
    "    return df\n",
    "\n",
    "\n",
    "def titlestatus_clean(df):\n",
    "    df = pd.get_dummies(df,prefix=\"status\",columns=['title_status'])\n",
    "    return df\n",
    "\n",
    "\n",
    "def condition_clean(df):\n",
    "    # nan values to good because average price of nan is close to averag price of good/excellent...\n",
    "    df.loc[(df['condition'].isnull()==True),\"condition\"]=\"good\" \n",
    "    # good condition -->1    bad condition--->0\n",
    "    df['condition']=df['condition'].apply(lambda x: 1 if x in ['excellent','good','like new','new'] else 0)\n",
    "    return df\n",
    "\n",
    "def fuel_clean(df):\n",
    "    #group nan values to gas fuel type\n",
    "    df.loc[(df['fuel'].isnull()==True),\"fuel\"]=\"gas\"\n",
    "    #one hot encoding\n",
    "    df = pd.get_dummies(df,prefix=\"fuel\",columns=['fuel'])\n",
    "    return df\n",
    "\n",
    "\n",
    "def fillLatLongNA(df):\n",
    "    #Fills all missing lat, long values with the median of their respective region\n",
    "    region_coords_ave_lat = df[['region','lat']].groupby(['region'])['lat'].median().to_dict()\n",
    "    region_coords_ave_long = df[['region','long']].groupby(['region'])['long'].median().to_dict()\n",
    "    df.loc[df['lat'].isnull(),'lat'] = df['region'].map(region_coords_ave_lat)\n",
    "    df.loc[df['long'].isnull(),'long'] = df['region'].map(region_coords_ave_long)\n",
    "    return df\n",
    "\n",
    "def fillLatLongOutliers(df):\n",
    "    latlong_outliers = (df.lat<20)  | (df.lat>70) | (df.long < -160) | (df.long > -60)\n",
    "    region_coords_ave_lat = df[['region','lat']].groupby(['region'])['lat'].median().to_dict()\n",
    "    region_coords_ave_long = df[['region','long']].groupby(['region'])['long'].median().to_dict()\n",
    "    df.loc[latlong_outliers,'lat'] = df['region'].map(region_coords_ave_lat)\n",
    "    df.loc[latlong_outliers,'long'] = df['region'].map(region_coords_ave_long)\n",
    "    return df\n",
    "\n",
    "def cleanLatLong(df):\n",
    "    df = fillLatLongNA(df)\n",
    "    df = fillLatLongOutliers(df)\n",
    "    return df\n",
    "\n",
    "def cleanLocationFeatures(df):\n",
    "    df = cleanLatLong(df)\n",
    "    #one hot encoding state\n",
    "    df = pd.get_dummies(df,prefix=\"state\",columns=['state'])\n",
    "    #drop region\n",
    "    df.drop(['region'], axis=1, inplace=True)\n",
    "    \n",
    "    return df  \n",
    "\n",
    "def groupStateByPrice(df, lower=10000, higher=15000):\n",
    "    ### Adds binary feature indicating if car was sold in cheap, medium or expensive state\n",
    "    \n",
    "    cars = df.copy()\n",
    "    #Find median price by state\n",
    "    bar = cars[['price','state']].groupby(['state'])['price'].median()\n",
    "    bar.sort_values(ascending=False, inplace=True)\n",
    "    \n",
    "    #Find expensive, mid price and cheap states according to thresholds\n",
    "    expensive_states = np.array(bar[bar >higher].index)\n",
    "    mediumprice_state = np.array(bar[(bar > lower) & (bar <= higher)].index)\n",
    "    cheap_state = np.array(bar[bar <= lower].index)\n",
    "    \n",
    "    #Add on hot encoded features to dataset\n",
    "    cars['state_expensive'] = cars.state.isin(expensive_states).astype(int)\n",
    "    cars['state_medium'] = cars.state.isin(mediumprice_state).astype(int)\n",
    "    cars['state_cheap'] = cars.state.isin(cheap_state).astype(int)\n",
    "    \n",
    "    return cars\n",
    "\n",
    "def cutIQR(cleaned_df, col):\n",
    "    print('Remove outliers...')\n",
    "\n",
    "    Q1 = cleaned_df[col].quantile(0.25)\n",
    "    Q3 = cleaned_df[col].quantile(0.75)\n",
    "    IQR = Q3 - Q1\n",
    "\n",
    "    lower = Q1 - 1.5 * IQR\n",
    "    upper = Q3 + 1.5 * IQR\n",
    "    \n",
    "    cutted_df = cleaned_df[(cleaned_df[col] >= lower) & (cleaned_df[col] <= upper)]\n",
    "\n",
    "    return cutted_df, upper\n",
    "\n",
    "\n",
    "def ohe_manuf_country(cars):\n",
    "    \n",
    "    # Manufacturer country assigned\n",
    "    \n",
    "    cars.loc[ cars[\"manufacturer\"] == \"ford\", \"manuf_country\"] = \"USA\"\n",
    "    cars.loc[ cars[\"manufacturer\"] == \"chevrolet\", \"manuf_country\"] = \"USA\"\n",
    "    cars.loc[ cars[\"manufacturer\"] == \"toyota\", \"manuf_country\"] = \"Japan\"\n",
    "    cars.loc[ cars[\"manufacturer\"] == \"honda\", \"manuf_country\"] = \"Japan\"\n",
    "    cars.loc[ cars[\"manufacturer\"] == \"nissan\", \"manuf_country\"] = \"Japan\"\n",
    "    cars.loc[ cars[\"manufacturer\"] == \"jeep\", \"manuf_country\"] = \"USA\"\n",
    "    cars.loc[ cars[\"manufacturer\"] == \"ram\", \"manuf_country\"] = \"USA\"\n",
    "    cars.loc[ cars[\"manufacturer\"] == \"gmc\", \"manuf_country\"] = \"USA\"\n",
    "    cars.loc[ cars[\"manufacturer\"] == \"dodge\", \"manuf_country\"] = \"USA\"\n",
    "    cars.loc[ cars[\"manufacturer\"] == \"bmw\", \"manuf_country\"] = \"Germany\"\n",
    "    cars.loc[ cars[\"manufacturer\"] == \"hyundai\", \"manuf_country\"] = \"S.Korea\"\n",
    "    cars.loc[ cars[\"manufacturer\"] == \"mercedes-benz\", \"manuf_country\"] = \"Germany\"\n",
    "    cars.loc[ cars[\"manufacturer\"] == \"subaru\", \"manuf_country\"] = \"Japan\"\n",
    "    cars.loc[ cars[\"manufacturer\"] == \"volkswagen\", \"manuf_country\"] = \"Germany\"\n",
    "    cars.loc[ cars[\"manufacturer\"] == \"kia\", \"manuf_country\"] = \"S.Korea\"\n",
    "    cars.loc[ cars[\"manufacturer\"] == \"chrysler\", \"manuf_country\"] = \"USA\"\n",
    "    cars.loc[ cars[\"manufacturer\"] == \"lexus\", \"manuf_country\"] = \"Japan\"\n",
    "    cars.loc[ cars[\"manufacturer\"] == \"cadillac\", \"manuf_country\"] = \"USA\"\n",
    "    cars.loc[ cars[\"manufacturer\"] == \"buick\", \"manuf_country\"] = \"USA\"\n",
    "    cars.loc[ cars[\"manufacturer\"] == \"mazda\", \"manuf_country\"] = \"Japan\"\n",
    "    cars.loc[ cars[\"manufacturer\"] == \"audi\", \"manuf_country\"] = \"Germany\"\n",
    "    cars.loc[ cars[\"manufacturer\"] == \"acura\", \"manuf_country\"] = \"Japan\"\n",
    "    cars.loc[ cars[\"manufacturer\"] == \"infiniti\", \"manuf_country\"] = \"Japan\"\n",
    "    cars.loc[ cars[\"manufacturer\"] == \"lincoln\", \"manuf_country\"] = \"USA\"\n",
    "    cars.loc[ cars[\"manufacturer\"] == \"pontiac\", \"manuf_country\"] = \"USA\"\n",
    "    cars.loc[ cars[\"manufacturer\"] == \"volvo\", \"manuf_country\"] = \"Sweden\"\n",
    "    cars.loc[ cars[\"manufacturer\"] == \"mini\", \"manuf_country\"] = \"UK\"\n",
    "    cars.loc[ cars[\"manufacturer\"] == \"mitsubishi\", \"manuf_country\"] = \"Japan\"\n",
    "    cars.loc[ cars[\"manufacturer\"] == \"porsche\", \"manuf_country\"] = \"Germany\"\n",
    "    cars.loc[ cars[\"manufacturer\"] == \"rover\", \"manuf_country\"] = \"UK\"\n",
    "    cars.loc[ cars[\"manufacturer\"] == \"mercury\", \"manuf_country\"] = \"USA\"\n",
    "    cars.loc[ cars[\"manufacturer\"] == \"saturn\", \"manuf_country\"] = \"USA\"\n",
    "    cars.loc[ cars[\"manufacturer\"] == \"tesla\", \"manuf_country\"] = \"USA\"\n",
    "    cars.loc[ cars[\"manufacturer\"] == \"jaguar\", \"manuf_country\"] = \"UK\"\n",
    "    cars.loc[ cars[\"manufacturer\"] == \"fiat\", \"manuf_country\"] = \"Italy\"\n",
    "    cars.loc[ cars[\"manufacturer\"] == \"alfa-romeo\", \"manuf_country\"] = \"Italy\"\n",
    "    cars.loc[ cars[\"manufacturer\"] == \"harley-davidson\", \"manuf_country\"] = \"USA\"\n",
    "    cars.loc[ cars[\"manufacturer\"] == \"ferrari\", \"manuf_country\"] = \"Italy\"\n",
    "    cars.loc[ cars[\"manufacturer\"] == \"datsun\", \"manuf_country\"] = \"Japan\"\n",
    "    cars.loc[ cars[\"manufacturer\"] == \"aston-martin\", \"manuf_country\"] = \"UK\"\n",
    "    cars.loc[ cars[\"manufacturer\"] == \"land-rover\", \"manuf_country\"] = \"UK\"\n",
    "    cars.loc[ cars[\"manufacturer\"] == \"morgan\", \"manuf_country\"] = \"UK\"\n",
    "    cars.loc[ cars[\"manufacturer\"] == \"hennessey\", \"manuf_country\"] = \"USA\"\n",
    "    cars.loc[ cars[\"manufacturer\"].isnull(), \"manuf_country\"] = \"missing\"\n",
    "    \n",
    "    # One hot encoding to one of USA, Japan, Germany, S.Korea, UK, Sweden, Italy and missing\n",
    "    \n",
    "    cars = pd.get_dummies( cars, columns = [\"manuf_country\"])\n",
    "    \n",
    "    # Manufacturer needs to be dropped\n",
    "    # There are some imputed manufacturers that are not in this section.\n",
    "    # These need to be considered as well.\n",
    "    \n",
    "    return cars\n",
    "\n",
    "def ohe_type(cars):\n",
    "    \n",
    "    # Some condition groupings\n",
    "    \n",
    "    cars.loc[ cars[\"type\"] == \"sedan\", \"usage_type\"] = \"daily\" \n",
    "    cars.loc[ cars[\"type\"] == \"SUV\", \"usage_type\"] = \"daily\"\n",
    "    cars.loc[ cars[\"type\"] == \"pickup\", \"usage_type\"] = \"professional\"\n",
    "    cars.loc[ cars[\"type\"] == \"truck\", \"usage_type\"] = \"professional\"\n",
    "    cars.loc[ cars[\"type\"] == \"other\", \"usage_type\"] = \"other\"\n",
    "    cars.loc[ cars[\"type\"] == \"coupe\", \"usage_type\"] = \"daily\"\n",
    "    cars.loc[ cars[\"type\"] == \"hatchback\", \"usage_type\"] = \"daily\"\n",
    "    cars.loc[ cars[\"type\"] == \"wagon\", \"usage_type\"] = \"daily\"\n",
    "    cars.loc[ cars[\"type\"] == \"van\", \"usage_type\"] = \"professional\"\n",
    "    cars.loc[ cars[\"type\"] == \"convertible\", \"usage_type\"] = \"daily\"\n",
    "    cars.loc[ cars[\"type\"] == \"mini-van\", \"usage_type\"] = \"professional\"\n",
    "    cars.loc[ cars[\"type\"] == \"bus\", \"usage_type\"] = \"professional\"\n",
    "    cars.loc[ cars[\"type\"] == \"offroad\", \"usage_type\"] = \"other\"\n",
    "    #---------------------------------------\n",
    "    # Assumption\n",
    "    \n",
    "    #cars.loc[ (cars[\"type\"].isnull()) & (cars[\"fuel\"] == \"gas\") , \"usage_type\"] = \"daily\"\n",
    "    #---------------------------------------\n",
    "    cars.loc[ cars[\"type\"].isnull() , \"usage_type\"] = \"missing\"\n",
    "    \n",
    "    # One hot encoding type (original values)\n",
    "    \n",
    "    cars = pd.get_dummies( cars, columns = [\"usage_type\"])\n",
    "    \n",
    "    # Type needs to be dropped\n",
    "    # Too many values are missing. Don't think we can impute.\n",
    "    # Maybe we can use the most correlated feature to impute.\n",
    "    \n",
    "    return cars\n",
    "\n",
    "def ultimateClean(df):\n",
    "    start = time.time()\n",
    "    #remove useless values\n",
    "    df = remove_columns(df)\n",
    "    \n",
    "    # REMOVE IQR OUTLIERS\n",
    "#     df = price_range(df, lower = 50, higher = 60_000, sampling = False)\n",
    "    df, _ = cutIQR(df, 'odometer')\n",
    "    df, _ = cutIQR(df, 'price')\n",
    "    print(\"Cleaned outliers !\")\n",
    "\n",
    "    #impute some missing values\n",
    "    df = imputeManufacturer(df)\n",
    "    df = dateToDatetime(df)\n",
    "    df = basicImpute(df)\n",
    "    df = imputeMissingByManufacturer(df, col='fuel')\n",
    "    df = imputeMissingByManufacturer(df, col='transmission')\n",
    "    df = imputeOdometerByYear(df)\n",
    "    print(\"Imputed Missing Values\")\n",
    "    \n",
    "    #one hot encodings\n",
    "    df = color_clean(df, color_list=['white','black','silver'])\n",
    "    df = drive_clean(df)\n",
    "    df = transmission_clean(df)\n",
    "    df = titlestatus_clean(df)\n",
    "    df = cleanLocationFeatures(df)\n",
    "    df = cylinder_clean(df)\n",
    "    df = condition_clean(df)\n",
    "    df = fuel_clean(df)\n",
    "    df = ohe_type(df)\n",
    "    df = ohe_manuf_country(df)\n",
    "    #df = TF_IDF(df, number = 1000)\n",
    "    \n",
    "    print(\"One hot encodings done!\")\n",
    "    \n",
    "    \n",
    "    \n",
    "    #remove remaining missing values\n",
    "    df.drop(['model', \"posting_date\", \"manufacturer\", \"type\", \"description\"], axis=1, inplace=True)\n",
    "    \n",
    "    df = df[df['year'].notna()]\n",
    "    \n",
    "    \n",
    "    df = df.dropna()\n",
    "    print(\"Total Time: \", (time.time() - start)/60, \" minutes\")\n",
    "\n",
    "    \n",
    "    return df\n",
    "\n",
    "\n",
    "def normalise(df):\n",
    "    cols_to_norm = [\"year\", \"odometer\", \"lat\", \"long\"]\n",
    "    df[cols_to_norm] = MinMaxScaler().fit_transform(df[cols_to_norm])\n",
    "    #FOR TRAIN TEST SPLIT USE SKLEARN train_test_split\n",
    "    return(df)"
   ]
  },
  {
   "cell_type": "code",
   "execution_count": 3,
   "metadata": {},
   "outputs": [],
   "source": [
    "cars = pd.read_csv(r\"C:\\Users\\DIEGO UNZUETA\\Google Drive\\Southampton\\Year 4\\Semester 2\\Git\\GroupWork\\DataMining\\data\\vehicles.csv\")"
   ]
  },
  {
   "cell_type": "code",
   "execution_count": 4,
   "metadata": {},
   "outputs": [
    {
     "name": "stdout",
     "output_type": "stream",
     "text": [
      "Remove outliers...\n",
      "Remove outliers...\n",
      "Cleaned outliers !\n",
      "Imputed Missing Values\n",
      "One hot encodings done!\n",
      "Total Time:  0.7223242481549581  minutes\n"
     ]
    }
   ],
   "source": [
    "ulti = ultimateClean(cars)"
   ]
  },
  {
   "cell_type": "code",
   "execution_count": 5,
   "metadata": {},
   "outputs": [],
   "source": [
    "from sklearn.preprocessing import MinMaxScaler"
   ]
  },
  {
   "cell_type": "code",
   "execution_count": 6,
   "metadata": {},
   "outputs": [],
   "source": [
    "final = normalise(ulti)"
   ]
  },
  {
   "cell_type": "code",
   "execution_count": 7,
   "metadata": {
    "scrolled": true
   },
   "outputs": [
    {
     "data": {
      "text/html": [
       "<div>\n",
       "<style scoped>\n",
       "    .dataframe tbody tr th:only-of-type {\n",
       "        vertical-align: middle;\n",
       "    }\n",
       "\n",
       "    .dataframe tbody tr th {\n",
       "        vertical-align: top;\n",
       "    }\n",
       "\n",
       "    .dataframe thead th {\n",
       "        text-align: right;\n",
       "    }\n",
       "</style>\n",
       "<table border=\"1\" class=\"dataframe\">\n",
       "  <thead>\n",
       "    <tr style=\"text-align: right;\">\n",
       "      <th></th>\n",
       "      <th>price</th>\n",
       "      <th>year</th>\n",
       "      <th>condition</th>\n",
       "      <th>odometer</th>\n",
       "      <th>lat</th>\n",
       "      <th>long</th>\n",
       "      <th>color_black</th>\n",
       "      <th>color_other</th>\n",
       "      <th>color_silver</th>\n",
       "      <th>color_white</th>\n",
       "      <th>...</th>\n",
       "      <th>usage_type_other</th>\n",
       "      <th>usage_type_professional</th>\n",
       "      <th>manuf_country_Germany</th>\n",
       "      <th>manuf_country_Italy</th>\n",
       "      <th>manuf_country_Japan</th>\n",
       "      <th>manuf_country_S.Korea</th>\n",
       "      <th>manuf_country_Sweden</th>\n",
       "      <th>manuf_country_UK</th>\n",
       "      <th>manuf_country_USA</th>\n",
       "      <th>manuf_country_missing</th>\n",
       "    </tr>\n",
       "  </thead>\n",
       "  <tbody>\n",
       "    <tr>\n",
       "      <th>0</th>\n",
       "      <td>35990</td>\n",
       "      <td>0.909091</td>\n",
       "      <td>1</td>\n",
       "      <td>0.119662</td>\n",
       "      <td>0.279689</td>\n",
       "      <td>0.748585</td>\n",
       "      <td>0</td>\n",
       "      <td>1</td>\n",
       "      <td>0</td>\n",
       "      <td>0</td>\n",
       "      <td>...</td>\n",
       "      <td>1</td>\n",
       "      <td>0</td>\n",
       "      <td>0</td>\n",
       "      <td>0</td>\n",
       "      <td>0</td>\n",
       "      <td>0</td>\n",
       "      <td>0</td>\n",
       "      <td>0</td>\n",
       "      <td>1</td>\n",
       "      <td>0</td>\n",
       "    </tr>\n",
       "    <tr>\n",
       "      <th>1</th>\n",
       "      <td>7500</td>\n",
       "      <td>0.942149</td>\n",
       "      <td>1</td>\n",
       "      <td>0.342079</td>\n",
       "      <td>0.278744</td>\n",
       "      <td>0.748704</td>\n",
       "      <td>0</td>\n",
       "      <td>1</td>\n",
       "      <td>0</td>\n",
       "      <td>0</td>\n",
       "      <td>...</td>\n",
       "      <td>0</td>\n",
       "      <td>0</td>\n",
       "      <td>0</td>\n",
       "      <td>0</td>\n",
       "      <td>0</td>\n",
       "      <td>1</td>\n",
       "      <td>0</td>\n",
       "      <td>0</td>\n",
       "      <td>0</td>\n",
       "      <td>0</td>\n",
       "    </tr>\n",
       "    <tr>\n",
       "      <th>2</th>\n",
       "      <td>4900</td>\n",
       "      <td>0.876033</td>\n",
       "      <td>1</td>\n",
       "      <td>0.318126</td>\n",
       "      <td>0.280285</td>\n",
       "      <td>0.748745</td>\n",
       "      <td>0</td>\n",
       "      <td>1</td>\n",
       "      <td>0</td>\n",
       "      <td>0</td>\n",
       "      <td>...</td>\n",
       "      <td>0</td>\n",
       "      <td>0</td>\n",
       "      <td>1</td>\n",
       "      <td>0</td>\n",
       "      <td>0</td>\n",
       "      <td>0</td>\n",
       "      <td>0</td>\n",
       "      <td>0</td>\n",
       "      <td>0</td>\n",
       "      <td>0</td>\n",
       "    </tr>\n",
       "    <tr>\n",
       "      <th>3</th>\n",
       "      <td>2000</td>\n",
       "      <td>0.611570</td>\n",
       "      <td>1</td>\n",
       "      <td>0.694391</td>\n",
       "      <td>0.285726</td>\n",
       "      <td>0.751247</td>\n",
       "      <td>0</td>\n",
       "      <td>1</td>\n",
       "      <td>0</td>\n",
       "      <td>0</td>\n",
       "      <td>...</td>\n",
       "      <td>0</td>\n",
       "      <td>1</td>\n",
       "      <td>0</td>\n",
       "      <td>0</td>\n",
       "      <td>0</td>\n",
       "      <td>0</td>\n",
       "      <td>0</td>\n",
       "      <td>0</td>\n",
       "      <td>1</td>\n",
       "      <td>0</td>\n",
       "    </tr>\n",
       "    <tr>\n",
       "      <th>4</th>\n",
       "      <td>19500</td>\n",
       "      <td>0.867769</td>\n",
       "      <td>1</td>\n",
       "      <td>0.423944</td>\n",
       "      <td>0.278744</td>\n",
       "      <td>0.748704</td>\n",
       "      <td>0</td>\n",
       "      <td>1</td>\n",
       "      <td>0</td>\n",
       "      <td>0</td>\n",
       "      <td>...</td>\n",
       "      <td>0</td>\n",
       "      <td>1</td>\n",
       "      <td>0</td>\n",
       "      <td>0</td>\n",
       "      <td>0</td>\n",
       "      <td>0</td>\n",
       "      <td>0</td>\n",
       "      <td>0</td>\n",
       "      <td>1</td>\n",
       "      <td>0</td>\n",
       "    </tr>\n",
       "    <tr>\n",
       "      <th>...</th>\n",
       "      <td>...</td>\n",
       "      <td>...</td>\n",
       "      <td>...</td>\n",
       "      <td>...</td>\n",
       "      <td>...</td>\n",
       "      <td>...</td>\n",
       "      <td>...</td>\n",
       "      <td>...</td>\n",
       "      <td>...</td>\n",
       "      <td>...</td>\n",
       "      <td>...</td>\n",
       "      <td>...</td>\n",
       "      <td>...</td>\n",
       "      <td>...</td>\n",
       "      <td>...</td>\n",
       "      <td>...</td>\n",
       "      <td>...</td>\n",
       "      <td>...</td>\n",
       "      <td>...</td>\n",
       "      <td>...</td>\n",
       "      <td>...</td>\n",
       "    </tr>\n",
       "    <tr>\n",
       "      <th>458208</th>\n",
       "      <td>14995</td>\n",
       "      <td>0.942149</td>\n",
       "      <td>1</td>\n",
       "      <td>0.306226</td>\n",
       "      <td>0.542414</td>\n",
       "      <td>0.704188</td>\n",
       "      <td>0</td>\n",
       "      <td>0</td>\n",
       "      <td>1</td>\n",
       "      <td>0</td>\n",
       "      <td>...</td>\n",
       "      <td>0</td>\n",
       "      <td>0</td>\n",
       "      <td>0</td>\n",
       "      <td>0</td>\n",
       "      <td>0</td>\n",
       "      <td>0</td>\n",
       "      <td>0</td>\n",
       "      <td>0</td>\n",
       "      <td>1</td>\n",
       "      <td>0</td>\n",
       "    </tr>\n",
       "    <tr>\n",
       "      <th>458209</th>\n",
       "      <td>17895</td>\n",
       "      <td>0.975207</td>\n",
       "      <td>1</td>\n",
       "      <td>0.116541</td>\n",
       "      <td>0.542414</td>\n",
       "      <td>0.704177</td>\n",
       "      <td>0</td>\n",
       "      <td>0</td>\n",
       "      <td>0</td>\n",
       "      <td>1</td>\n",
       "      <td>...</td>\n",
       "      <td>0</td>\n",
       "      <td>0</td>\n",
       "      <td>0</td>\n",
       "      <td>0</td>\n",
       "      <td>0</td>\n",
       "      <td>1</td>\n",
       "      <td>0</td>\n",
       "      <td>0</td>\n",
       "      <td>0</td>\n",
       "      <td>0</td>\n",
       "    </tr>\n",
       "    <tr>\n",
       "      <th>458210</th>\n",
       "      <td>17900</td>\n",
       "      <td>0.942149</td>\n",
       "      <td>1</td>\n",
       "      <td>0.193699</td>\n",
       "      <td>0.550773</td>\n",
       "      <td>0.531857</td>\n",
       "      <td>1</td>\n",
       "      <td>0</td>\n",
       "      <td>0</td>\n",
       "      <td>0</td>\n",
       "      <td>...</td>\n",
       "      <td>0</td>\n",
       "      <td>0</td>\n",
       "      <td>0</td>\n",
       "      <td>0</td>\n",
       "      <td>0</td>\n",
       "      <td>0</td>\n",
       "      <td>0</td>\n",
       "      <td>0</td>\n",
       "      <td>1</td>\n",
       "      <td>0</td>\n",
       "    </tr>\n",
       "    <tr>\n",
       "      <th>458211</th>\n",
       "      <td>1300</td>\n",
       "      <td>0.892562</td>\n",
       "      <td>1</td>\n",
       "      <td>0.599369</td>\n",
       "      <td>0.550519</td>\n",
       "      <td>0.532111</td>\n",
       "      <td>0</td>\n",
       "      <td>0</td>\n",
       "      <td>0</td>\n",
       "      <td>1</td>\n",
       "      <td>...</td>\n",
       "      <td>0</td>\n",
       "      <td>0</td>\n",
       "      <td>0</td>\n",
       "      <td>0</td>\n",
       "      <td>0</td>\n",
       "      <td>0</td>\n",
       "      <td>0</td>\n",
       "      <td>0</td>\n",
       "      <td>1</td>\n",
       "      <td>0</td>\n",
       "    </tr>\n",
       "    <tr>\n",
       "      <th>458212</th>\n",
       "      <td>22900</td>\n",
       "      <td>0.892562</td>\n",
       "      <td>1</td>\n",
       "      <td>0.599369</td>\n",
       "      <td>0.491482</td>\n",
       "      <td>0.718757</td>\n",
       "      <td>0</td>\n",
       "      <td>1</td>\n",
       "      <td>0</td>\n",
       "      <td>0</td>\n",
       "      <td>...</td>\n",
       "      <td>0</td>\n",
       "      <td>0</td>\n",
       "      <td>0</td>\n",
       "      <td>0</td>\n",
       "      <td>0</td>\n",
       "      <td>0</td>\n",
       "      <td>0</td>\n",
       "      <td>0</td>\n",
       "      <td>0</td>\n",
       "      <td>0</td>\n",
       "    </tr>\n",
       "  </tbody>\n",
       "</table>\n",
       "<p>388335 rows × 95 columns</p>\n",
       "</div>"
      ],
      "text/plain": [
       "        price      year  condition  odometer       lat      long  color_black  \\\n",
       "0       35990  0.909091          1  0.119662  0.279689  0.748585            0   \n",
       "1        7500  0.942149          1  0.342079  0.278744  0.748704            0   \n",
       "2        4900  0.876033          1  0.318126  0.280285  0.748745            0   \n",
       "3        2000  0.611570          1  0.694391  0.285726  0.751247            0   \n",
       "4       19500  0.867769          1  0.423944  0.278744  0.748704            0   \n",
       "...       ...       ...        ...       ...       ...       ...          ...   \n",
       "458208  14995  0.942149          1  0.306226  0.542414  0.704188            0   \n",
       "458209  17895  0.975207          1  0.116541  0.542414  0.704177            0   \n",
       "458210  17900  0.942149          1  0.193699  0.550773  0.531857            1   \n",
       "458211   1300  0.892562          1  0.599369  0.550519  0.532111            0   \n",
       "458212  22900  0.892562          1  0.599369  0.491482  0.718757            0   \n",
       "\n",
       "        color_other  color_silver  color_white  ...  usage_type_other  \\\n",
       "0                 1             0            0  ...                 1   \n",
       "1                 1             0            0  ...                 0   \n",
       "2                 1             0            0  ...                 0   \n",
       "3                 1             0            0  ...                 0   \n",
       "4                 1             0            0  ...                 0   \n",
       "...             ...           ...          ...  ...               ...   \n",
       "458208            0             1            0  ...                 0   \n",
       "458209            0             0            1  ...                 0   \n",
       "458210            0             0            0  ...                 0   \n",
       "458211            0             0            1  ...                 0   \n",
       "458212            1             0            0  ...                 0   \n",
       "\n",
       "        usage_type_professional  manuf_country_Germany  manuf_country_Italy  \\\n",
       "0                             0                      0                    0   \n",
       "1                             0                      0                    0   \n",
       "2                             0                      1                    0   \n",
       "3                             1                      0                    0   \n",
       "4                             1                      0                    0   \n",
       "...                         ...                    ...                  ...   \n",
       "458208                        0                      0                    0   \n",
       "458209                        0                      0                    0   \n",
       "458210                        0                      0                    0   \n",
       "458211                        0                      0                    0   \n",
       "458212                        0                      0                    0   \n",
       "\n",
       "        manuf_country_Japan  manuf_country_S.Korea  manuf_country_Sweden  \\\n",
       "0                         0                      0                     0   \n",
       "1                         0                      1                     0   \n",
       "2                         0                      0                     0   \n",
       "3                         0                      0                     0   \n",
       "4                         0                      0                     0   \n",
       "...                     ...                    ...                   ...   \n",
       "458208                    0                      0                     0   \n",
       "458209                    0                      1                     0   \n",
       "458210                    0                      0                     0   \n",
       "458211                    0                      0                     0   \n",
       "458212                    0                      0                     0   \n",
       "\n",
       "        manuf_country_UK  manuf_country_USA  manuf_country_missing  \n",
       "0                      0                  1                      0  \n",
       "1                      0                  0                      0  \n",
       "2                      0                  0                      0  \n",
       "3                      0                  1                      0  \n",
       "4                      0                  1                      0  \n",
       "...                  ...                ...                    ...  \n",
       "458208                 0                  1                      0  \n",
       "458209                 0                  0                      0  \n",
       "458210                 0                  1                      0  \n",
       "458211                 0                  1                      0  \n",
       "458212                 0                  0                      0  \n",
       "\n",
       "[388335 rows x 95 columns]"
      ]
     },
     "execution_count": 7,
     "metadata": {},
     "output_type": "execute_result"
    }
   ],
   "source": [
    "final"
   ]
  },
  {
   "cell_type": "code",
   "execution_count": 9,
   "metadata": {},
   "outputs": [
    {
     "data": {
      "text/plain": [
       "Index(['price', 'year', 'condition', 'odometer', 'lat', 'long', 'color_black',\n",
       "       'color_other', 'color_silver', 'color_white', 'drive_4wd', 'drive_fwd',\n",
       "       'drive_other', 'drive_rwd', 'transmission_automatic',\n",
       "       'transmission_manual', 'transmission_other', 'status_clean',\n",
       "       'status_lien', 'status_missing', 'status_parts only', 'status_rebuilt',\n",
       "       'status_salvage', 'state_ak', 'state_al', 'state_ar', 'state_az',\n",
       "       'state_ca', 'state_co', 'state_ct', 'state_dc', 'state_de', 'state_fl',\n",
       "       'state_ga', 'state_hi', 'state_ia', 'state_id', 'state_il', 'state_in',\n",
       "       'state_ks', 'state_ky', 'state_la', 'state_ma', 'state_md', 'state_me',\n",
       "       'state_mi', 'state_mn', 'state_mo', 'state_ms', 'state_mt', 'state_nc',\n",
       "       'state_nd', 'state_ne', 'state_nh', 'state_nj', 'state_nm', 'state_nv',\n",
       "       'state_ny', 'state_oh', 'state_ok', 'state_or', 'state_pa', 'state_ri',\n",
       "       'state_sc', 'state_sd', 'state_tn', 'state_tx', 'state_ut', 'state_va',\n",
       "       'state_vt', 'state_wa', 'state_wi', 'state_wv', 'state_wy',\n",
       "       'cylinders_4 cylinders', 'cylinders_6 cylinders',\n",
       "       'cylinders_8 cylinders', 'cylinders_missing', 'fuel_diesel',\n",
       "       'fuel_electric', 'fuel_gas', 'fuel_hybrid', 'fuel_other',\n",
       "       'usage_type_daily', 'usage_type_missing', 'usage_type_other',\n",
       "       'usage_type_professional', 'manuf_country_Germany',\n",
       "       'manuf_country_Italy', 'manuf_country_Japan', 'manuf_country_S.Korea',\n",
       "       'manuf_country_Sweden', 'manuf_country_UK', 'manuf_country_USA',\n",
       "       'manuf_country_missing'],\n",
       "      dtype='object')"
      ]
     },
     "execution_count": 9,
     "metadata": {},
     "output_type": "execute_result"
    }
   ],
   "source": [
    "final.columns"
   ]
  },
  {
   "cell_type": "markdown",
   "metadata": {},
   "source": [
    "## Linear regression "
   ]
  },
  {
   "cell_type": "code",
   "execution_count": 11,
   "metadata": {},
   "outputs": [],
   "source": [
    "# set the seed of random generator:\n",
    "import numpy as np\n",
    "# make numpy randomisation predictable\n",
    "np.random.seed(0)\n"
   ]
  },
  {
   "cell_type": "code",
   "execution_count": 12,
   "metadata": {},
   "outputs": [],
   "source": [
    "X = final.iloc[:,1:]"
   ]
  },
  {
   "cell_type": "code",
   "execution_count": 13,
   "metadata": {},
   "outputs": [
    {
     "data": {
      "text/plain": [
       "Index(['year', 'condition', 'odometer', 'lat', 'long', 'color_black',\n",
       "       'color_other', 'color_silver', 'color_white', 'drive_4wd', 'drive_fwd',\n",
       "       'drive_other', 'drive_rwd', 'transmission_automatic',\n",
       "       'transmission_manual', 'transmission_other', 'status_clean',\n",
       "       'status_lien', 'status_missing', 'status_parts only', 'status_rebuilt',\n",
       "       'status_salvage', 'state_ak', 'state_al', 'state_ar', 'state_az',\n",
       "       'state_ca', 'state_co', 'state_ct', 'state_dc', 'state_de', 'state_fl',\n",
       "       'state_ga', 'state_hi', 'state_ia', 'state_id', 'state_il', 'state_in',\n",
       "       'state_ks', 'state_ky', 'state_la', 'state_ma', 'state_md', 'state_me',\n",
       "       'state_mi', 'state_mn', 'state_mo', 'state_ms', 'state_mt', 'state_nc',\n",
       "       'state_nd', 'state_ne', 'state_nh', 'state_nj', 'state_nm', 'state_nv',\n",
       "       'state_ny', 'state_oh', 'state_ok', 'state_or', 'state_pa', 'state_ri',\n",
       "       'state_sc', 'state_sd', 'state_tn', 'state_tx', 'state_ut', 'state_va',\n",
       "       'state_vt', 'state_wa', 'state_wi', 'state_wv', 'state_wy',\n",
       "       'cylinders_4 cylinders', 'cylinders_6 cylinders',\n",
       "       'cylinders_8 cylinders', 'cylinders_missing', 'fuel_diesel',\n",
       "       'fuel_electric', 'fuel_gas', 'fuel_hybrid', 'fuel_other',\n",
       "       'usage_type_daily', 'usage_type_missing', 'usage_type_other',\n",
       "       'usage_type_professional', 'manuf_country_Germany',\n",
       "       'manuf_country_Italy', 'manuf_country_Japan', 'manuf_country_S.Korea',\n",
       "       'manuf_country_Sweden', 'manuf_country_UK', 'manuf_country_USA',\n",
       "       'manuf_country_missing'],\n",
       "      dtype='object')"
      ]
     },
     "execution_count": 13,
     "metadata": {},
     "output_type": "execute_result"
    }
   ],
   "source": [
    "X.columns"
   ]
  },
  {
   "cell_type": "code",
   "execution_count": 16,
   "metadata": {},
   "outputs": [],
   "source": [
    "y = final.iloc[:,0]"
   ]
  },
  {
   "cell_type": "code",
   "execution_count": 17,
   "metadata": {},
   "outputs": [
    {
     "data": {
      "text/plain": [
       "0         35990\n",
       "1          7500\n",
       "2          4900\n",
       "3          2000\n",
       "4         19500\n",
       "          ...  \n",
       "458208    14995\n",
       "458209    17895\n",
       "458210    17900\n",
       "458211     1300\n",
       "458212    22900\n",
       "Name: price, Length: 388335, dtype: int64"
      ]
     },
     "execution_count": 17,
     "metadata": {},
     "output_type": "execute_result"
    }
   ],
   "source": [
    "y"
   ]
  },
  {
   "cell_type": "markdown",
   "metadata": {},
   "source": [
    "split the data in two: 80% training set and 20% test set"
   ]
  },
  {
   "cell_type": "code",
   "execution_count": 20,
   "metadata": {},
   "outputs": [],
   "source": [
    "# change pandas to numpy\n",
    "X =X.to_numpy()\n",
    "y =y.to_numpy()"
   ]
  },
  {
   "cell_type": "code",
   "execution_count": 21,
   "metadata": {},
   "outputs": [
    {
     "data": {
      "text/plain": [
       "array([[0.90909091, 1.        , 0.11966187, ..., 0.        , 1.        ,\n",
       "        0.        ],\n",
       "       [0.94214876, 1.        , 0.34207901, ..., 0.        , 0.        ,\n",
       "        0.        ],\n",
       "       [0.87603306, 1.        , 0.31812617, ..., 0.        , 0.        ,\n",
       "        0.        ],\n",
       "       ...,\n",
       "       [0.94214876, 1.        , 0.19369858, ..., 0.        , 1.        ,\n",
       "        0.        ],\n",
       "       [0.89256198, 1.        , 0.5993692 , ..., 0.        , 1.        ,\n",
       "        0.        ],\n",
       "       [0.89256198, 1.        , 0.5993692 , ..., 0.        , 0.        ,\n",
       "        0.        ]])"
      ]
     },
     "execution_count": 21,
     "metadata": {},
     "output_type": "execute_result"
    }
   ],
   "source": [
    "X"
   ]
  },
  {
   "cell_type": "code",
   "execution_count": 22,
   "metadata": {},
   "outputs": [
    {
     "name": "stdout",
     "output_type": "stream",
     "text": [
      "<class 'numpy.ndarray'>\n"
     ]
    }
   ],
   "source": [
    "print(type(X))"
   ]
  },
  {
   "cell_type": "code",
   "execution_count": 23,
   "metadata": {},
   "outputs": [
    {
     "data": {
      "text/plain": [
       "0         35990\n",
       "1          7500\n",
       "2          4900\n",
       "3          2000\n",
       "4         19500\n",
       "          ...  \n",
       "458208    14995\n",
       "458209    17895\n",
       "458210    17900\n",
       "458211     1300\n",
       "458212    22900\n",
       "Name: price, Length: 388335, dtype: int64"
      ]
     },
     "execution_count": 23,
     "metadata": {},
     "output_type": "execute_result"
    }
   ],
   "source": [
    "y"
   ]
  },
  {
   "cell_type": "code",
   "execution_count": 26,
   "metadata": {},
   "outputs": [
    {
     "name": "stdout",
     "output_type": "stream",
     "text": [
      "<class 'numpy.ndarray'>\n"
     ]
    }
   ],
   "source": [
    "print(type(y))"
   ]
  },
  {
   "cell_type": "code",
   "execution_count": 27,
   "metadata": {},
   "outputs": [],
   "source": [
    "# set the seed of random generator:\n",
    "import numpy as np\n",
    "# make numpy randomisation predictable\n",
    "np.random.seed(0)"
   ]
  },
  {
   "cell_type": "code",
   "execution_count": 30,
   "metadata": {},
   "outputs": [],
   "source": [
    "# partition the dataset into training and test sets\n",
    "rnd_indices = np.random.permutation(X.shape[0])\n",
    "train_size = int(X.shape[0] * 0.8)\n",
    "train_indices = rnd_indices[:train_size]\n",
    "test_indices = rnd_indices[train_size:]\n",
    "train_data = X[train_indices, :]\n",
    "test_data = X[test_indices, :]\n",
    "train_target = y[train_indices]\n",
    "test_target = y[test_indices]\n"
   ]
  },
  {
   "cell_type": "code",
   "execution_count": 31,
   "metadata": {},
   "outputs": [
    {
     "data": {
      "text/plain": [
       "310668"
      ]
     },
     "execution_count": 31,
     "metadata": {},
     "output_type": "execute_result"
    }
   ],
   "source": [
    "train_size"
   ]
  },
  {
   "cell_type": "code",
   "execution_count": 32,
   "metadata": {},
   "outputs": [
    {
     "data": {
      "text/plain": [
       "77667"
      ]
     },
     "execution_count": 32,
     "metadata": {},
     "output_type": "execute_result"
    }
   ],
   "source": [
    "test_indices.shape[0]"
   ]
  },
  {
   "cell_type": "code",
   "execution_count": 33,
   "metadata": {},
   "outputs": [
    {
     "data": {
      "text/plain": [
       "310668"
      ]
     },
     "execution_count": 33,
     "metadata": {},
     "output_type": "execute_result"
    }
   ],
   "source": [
    "train_indices.shape[0]"
   ]
  },
  {
   "cell_type": "code",
   "execution_count": 34,
   "metadata": {},
   "outputs": [
    {
     "data": {
      "text/plain": [
       "array([[9.58677686e-01, 1.00000000e+00, 4.00608871e-01, ...,\n",
       "        0.00000000e+00, 0.00000000e+00, 0.00000000e+00],\n",
       "       [7.93388430e-01, 1.00000000e+00, 2.19073097e-01, ...,\n",
       "        0.00000000e+00, 0.00000000e+00, 0.00000000e+00],\n",
       "       [9.42148760e-01, 1.00000000e+00, 3.36078006e-01, ...,\n",
       "        0.00000000e+00, 1.00000000e+00, 0.00000000e+00],\n",
       "       ...,\n",
       "       [8.42975207e-01, 1.00000000e+00, 8.30188472e-01, ...,\n",
       "        0.00000000e+00, 1.00000000e+00, 0.00000000e+00],\n",
       "       [8.51239669e-01, 1.00000000e+00, 5.07033451e-01, ...,\n",
       "        0.00000000e+00, 0.00000000e+00, 0.00000000e+00],\n",
       "       [9.58677686e-01, 1.00000000e+00, 1.27914159e-04, ...,\n",
       "        0.00000000e+00, 1.00000000e+00, 0.00000000e+00]])"
      ]
     },
     "execution_count": 34,
     "metadata": {},
     "output_type": "execute_result"
    }
   ],
   "source": [
    "train_data"
   ]
  },
  {
   "cell_type": "code",
   "execution_count": 35,
   "metadata": {},
   "outputs": [
    {
     "data": {
      "text/plain": [
       "310668"
      ]
     },
     "execution_count": 35,
     "metadata": {},
     "output_type": "execute_result"
    }
   ],
   "source": [
    "train_data.shape[0]"
   ]
  },
  {
   "cell_type": "code",
   "execution_count": 36,
   "metadata": {},
   "outputs": [
    {
     "data": {
      "text/plain": [
       "array([[0.9338843 , 1.        , 0.29207554, ..., 0.        , 0.        ,\n",
       "        0.        ],\n",
       "       [0.83471074, 1.        , 0.71653857, ..., 0.        , 0.        ,\n",
       "        0.        ],\n",
       "       [0.94214876, 1.        , 0.05228034, ..., 0.        , 0.        ,\n",
       "        0.        ],\n",
       "       ...,\n",
       "       [0.89256198, 1.        , 0.4933174 , ..., 0.        , 1.        ,\n",
       "        0.        ],\n",
       "       [0.98347107, 1.        , 0.05092445, ..., 0.        , 0.        ,\n",
       "        0.        ],\n",
       "       [0.97520661, 1.        , 0.1241681 , ..., 0.        , 0.        ,\n",
       "        0.        ]])"
      ]
     },
     "execution_count": 36,
     "metadata": {},
     "output_type": "execute_result"
    }
   ],
   "source": [
    "test_data"
   ]
  },
  {
   "cell_type": "code",
   "execution_count": 37,
   "metadata": {},
   "outputs": [
    {
     "data": {
      "text/plain": [
       "77667"
      ]
     },
     "execution_count": 37,
     "metadata": {},
     "output_type": "execute_result"
    }
   ],
   "source": [
    "test_data.shape[0]"
   ]
  },
  {
   "cell_type": "code",
   "execution_count": 38,
   "metadata": {},
   "outputs": [
    {
     "data": {
      "text/plain": [
       "array([10995,     1, 35988, ...,  1600,  3995, 17995], dtype=int64)"
      ]
     },
     "execution_count": 38,
     "metadata": {},
     "output_type": "execute_result"
    }
   ],
   "source": [
    "train_target"
   ]
  },
  {
   "cell_type": "code",
   "execution_count": 39,
   "metadata": {},
   "outputs": [
    {
     "data": {
      "text/plain": [
       "310668"
      ]
     },
     "execution_count": 39,
     "metadata": {},
     "output_type": "execute_result"
    }
   ],
   "source": [
    "train_target.shape[0]"
   ]
  },
  {
   "cell_type": "code",
   "execution_count": 40,
   "metadata": {},
   "outputs": [
    {
     "data": {
      "text/plain": [
       "array([27590,  5800, 21990, ..., 14980, 17900, 32000], dtype=int64)"
      ]
     },
     "execution_count": 40,
     "metadata": {},
     "output_type": "execute_result"
    }
   ],
   "source": [
    "test_target"
   ]
  },
  {
   "cell_type": "code",
   "execution_count": 41,
   "metadata": {},
   "outputs": [
    {
     "data": {
      "text/plain": [
       "77667"
      ]
     },
     "execution_count": 41,
     "metadata": {},
     "output_type": "execute_result"
    }
   ],
   "source": [
    "test_target.shape[0]"
   ]
  },
  {
   "cell_type": "code",
   "execution_count": 42,
   "metadata": {},
   "outputs": [
    {
     "data": {
      "text/plain": [
       "array([27590,  5800, 21990, ..., 14980, 17900, 32000], dtype=int64)"
      ]
     },
     "execution_count": 42,
     "metadata": {},
     "output_type": "execute_result"
    }
   ],
   "source": [
    "test_target"
   ]
  },
  {
   "cell_type": "markdown",
   "metadata": {},
   "source": [
    "plot the relationship between year and price (quick plot)"
   ]
  },
  {
   "cell_type": "code",
   "execution_count": 45,
   "metadata": {},
   "outputs": [
    {
     "data": {
      "text/plain": [
       "[<matplotlib.lines.Line2D at 0x22aae0cf108>]"
      ]
     },
     "execution_count": 45,
     "metadata": {},
     "output_type": "execute_result"
    },
    {
     "data": {
      "image/png": "[encoded data removed]",
      "text/plain": [
       "<Figure size 432x288 with 1 Axes>"
      ]
     },
     "metadata": {
      "needs_background": "light"
     },
     "output_type": "display_data"
    }
   ],
   "source": [
    "import matplotlib.pyplot as plt\n",
    "plt.figure()\n",
    "plt.plot(train_data[:,0], train_target, \"*\")"
   ]
  },
  {
   "cell_type": "code",
   "execution_count": 46,
   "metadata": {},
   "outputs": [
    {
     "data": {
      "text/plain": [
       "LinearRegression()"
      ]
     },
     "execution_count": 46,
     "metadata": {},
     "output_type": "execute_result"
    }
   ],
   "source": [
    "from sklearn.linear_model import LinearRegression\n",
    "# fit a linear regressor\n",
    "lin_reg = LinearRegression()\n",
    "lin_reg.fit(train_data, train_target)\n"
   ]
  },
  {
   "cell_type": "code",
   "execution_count": 47,
   "metadata": {},
   "outputs": [
    {
     "name": "stdout",
     "output_type": "stream",
     "text": [
      "Train RMSE = 8704.327677931069\n"
     ]
    }
   ],
   "source": [
    "train_predict = lin_reg.predict(train_data)\n",
    "train_rmse = np.sqrt(((train_target - train_predict) ** 2).mean())\n",
    "print('Train RMSE =',train_rmse)\n"
   ]
  },
  {
   "cell_type": "code",
   "execution_count": 48,
   "metadata": {},
   "outputs": [
    {
     "name": "stdout",
     "output_type": "stream",
     "text": [
      "Test RMSE =  8691.755743243997\n"
     ]
    }
   ],
   "source": [
    "from sklearn.metrics import mean_squared_error\n",
    "from math import sqrt\n",
    "test_predict = lin_reg.predict(test_data)\n",
    "test_rmse = sqrt(mean_squared_error(test_target, test_predict))\n",
    "print('Test RMSE = ', test_rmse)"
   ]
  },
  {
   "cell_type": "markdown",
   "metadata": {},
   "source": [
    "# Feature scaling"
   ]
  },
  {
   "cell_type": "code",
   "execution_count": 49,
   "metadata": {},
   "outputs": [],
   "source": [
    "from sklearn.preprocessing import StandardScaler\n",
    "scaler = StandardScaler()\n",
    "scaler.fit(train_data)\n",
    "scaled_train_data = scaler.transform(train_data)\n",
    "scaled_test_data = scaler.transform(test_data)"
   ]
  },
  {
   "cell_type": "code",
   "execution_count": 50,
   "metadata": {},
   "outputs": [
    {
     "name": "stdout",
     "output_type": "stream",
     "text": [
      "Train RMSE =  8704.302180415927 , Test RMSE = 8691.664484319765\n"
     ]
    }
   ],
   "source": [
    "lin_reg = LinearRegression()\n",
    "lin_reg.fit(scaled_train_data, train_target)\n",
    "train_predict = lin_reg.predict(scaled_train_data)\n",
    "test_predict = lin_reg.predict(scaled_test_data)\n",
    "train_rmse = np.sqrt(((train_target - train_predict) ** 2).mean())\n",
    "test_rmse = sqrt(mean_squared_error(test_target, test_predict))\n",
    "print('Train RMSE = ', train_rmse, ', Test RMSE =', test_rmse)"
   ]
  },
  {
   "cell_type": "markdown",
   "metadata": {},
   "source": [
    "# Regularised linear models\n",
    " Ridge Regression and Lasso Regression\n"
   ]
  },
  {
   "cell_type": "code",
   "execution_count": 51,
   "metadata": {},
   "outputs": [
    {
     "data": {
      "text/plain": [
       "Ridge(alpha=1, solver='cholesky')"
      ]
     },
     "execution_count": 51,
     "metadata": {},
     "output_type": "execute_result"
    }
   ],
   "source": [
    "from sklearn.linear_model import Ridge\n",
    "#fit a ridge regressor\n",
    "alpha_ridge = 1\n",
    "ridge_reg = Ridge(alpha_ridge, solver=\"cholesky\")\n",
    "ridge_reg.fit(train_data, train_target)\n"
   ]
  },
  {
   "cell_type": "code",
   "execution_count": 52,
   "metadata": {},
   "outputs": [
    {
     "data": {
      "text/plain": [
       "Lasso(alpha=1)"
      ]
     },
     "execution_count": 52,
     "metadata": {},
     "output_type": "execute_result"
    }
   ],
   "source": [
    "from sklearn.linear_model import Lasso\n",
    "alpha_lasso = 1\n",
    "lasso_reg = Lasso(alpha_lasso)\n",
    "lasso_reg.fit(train_data, train_target)\n"
   ]
  },
  {
   "cell_type": "markdown",
   "metadata": {},
   "source": [
    " normalise data"
   ]
  },
  {
   "cell_type": "code",
   "execution_count": 53,
   "metadata": {},
   "outputs": [
    {
     "name": "stdout",
     "output_type": "stream",
     "text": [
      "Linear Train RMSE = 8704.327677931069 , Linear Test RMSE = 8691.755743243997\n",
      "Ridge Train RMSE = 8704.29859432801 , Ridge Test RMSE = 8691.618574985685\n",
      "Lasso Train RMSE = 8706.973103443546 , Lasso Test,RMSE = 8694.355032219539\n"
     ]
    }
   ],
   "source": [
    "lin_reg = LinearRegression()\n",
    "lin_reg.fit(train_data, train_target)\n",
    "train_lin_predict = lin_reg.predict(train_data)\n",
    "train_ridge_predict = ridge_reg.predict(train_data)\n",
    "train_lasso_predict = lasso_reg.predict(train_data)\n",
    "test_lin_predict = lin_reg.predict(test_data)\n",
    "test_ridge_predict = ridge_reg.predict(test_data)\n",
    "test_lasso_predict = lasso_reg.predict(test_data)\n",
    "train_lin_rmse = sqrt(mean_squared_error(train_target, train_lin_predict))\n",
    "train_ridge_rmse = sqrt(mean_squared_error(train_target, train_ridge_predict))\n",
    "train_lasso_rmse = sqrt(mean_squared_error(train_target, train_lasso_predict))\n",
    "test_lin_rmse = sqrt(mean_squared_error(test_target, test_lin_predict))\n",
    "test_ridge_rmse = sqrt(mean_squared_error(test_target, test_ridge_predict))\n",
    "test_lasso_rmse = sqrt(mean_squared_error(test_target, test_lasso_predict))\n",
    "print('Linear Train RMSE =', train_lin_rmse, ', Linear Test RMSE =',test_lin_rmse)\n",
    "print('Ridge Train RMSE =', train_ridge_rmse, ', Ridge Test RMSE =',test_ridge_rmse)\n",
    "print( 'Lasso Train RMSE =', train_lasso_rmse, ', Lasso Test,RMSE =', test_lasso_rmse)"
   ]
  },
  {
   "cell_type": "markdown",
   "metadata": {},
   "source": [
    "scaled data"
   ]
  },
  {
   "cell_type": "code",
   "execution_count": 54,
   "metadata": {},
   "outputs": [
    {
     "name": "stderr",
     "output_type": "stream",
     "text": [
      "C:\\Users\\DIEGO UNZUETA\\Anaconda3\\lib\\site-packages\\sklearn\\linear_model\\_coordinate_descent.py:531: ConvergenceWarning: Objective did not converge. You might want to increase the number of iterations. Duality gap: 53207521796.078125, tolerance: 4056523680.594122\n",
      "  positive)\n"
     ]
    },
    {
     "name": "stdout",
     "output_type": "stream",
     "text": [
      "Linear Train RMSE = 8704.302180415927 , Linear Test RMSE = 8691.664484319765\n",
      "Ridge Train RMSE = 8704.29798204437 , Ridge Test RMSE = 8691.64751837409\n",
      "Lasso Train RMSE = 8704.367789223134 , Lasso Test,RMSE = 8691.634635710543\n"
     ]
    }
   ],
   "source": [
    "lin_reg = LinearRegression()\n",
    "lin_reg.fit(scaled_train_data, train_target)\n",
    "ridge_reg = Ridge(1, solver=\"cholesky\")\n",
    "ridge_reg.fit(scaled_train_data, train_target)\n",
    "lasso_reg = Lasso(1)\n",
    "lasso_reg.fit(scaled_train_data, train_target)\n",
    "train_lin_predict = lin_reg.predict(scaled_train_data)\n",
    "train_ridge_predict = ridge_reg.predict(scaled_train_data)\n",
    "train_lasso_predict = lasso_reg.predict(scaled_train_data)\n",
    "test_lin_predict = lin_reg.predict(scaled_test_data)\n",
    "test_ridge_predict = ridge_reg.predict(scaled_test_data)\n",
    "test_lasso_predict = lasso_reg.predict(scaled_test_data)\n",
    "train_lin_rmse = sqrt(mean_squared_error(train_target, train_lin_predict))\n",
    "train_ridge_rmse = sqrt(mean_squared_error(train_target, train_ridge_predict))\n",
    "train_lasso_rmse = sqrt(mean_squared_error(train_target, train_lasso_predict))\n",
    "test_lin_rmse = sqrt(mean_squared_error(test_target, test_lin_predict))\n",
    "test_ridge_rmse = sqrt(mean_squared_error(test_target, test_ridge_predict))\n",
    "test_lasso_rmse = sqrt(mean_squared_error(test_target, test_lasso_predict))\n",
    "print('Linear Train RMSE =', train_lin_rmse, ', Linear Test RMSE =',test_lin_rmse)\n",
    "print('Ridge Train RMSE =', train_ridge_rmse, ', Ridge Test RMSE =',test_ridge_rmse)\n",
    "print( 'Lasso Train RMSE =', train_lasso_rmse, ', Lasso Test,RMSE =', test_lasso_rmse)"
   ]
  },
  {
   "cell_type": "markdown",
   "metadata": {},
   "source": [
    "From above alpha = 1 -> change alpha might be more great"
   ]
  },
  {
   "cell_type": "code",
   "execution_count": 55,
   "metadata": {},
   "outputs": [
    {
     "data": {
      "text/plain": [
       "{'alpha': 2.0}"
      ]
     },
     "execution_count": 55,
     "metadata": {},
     "output_type": "execute_result"
    }
   ],
   "source": [
    "from sklearn.model_selection import GridSearchCV\n",
    "param_grid = {'alpha': [0, 0.1, 0.2, 0.3, 0.4, 0.5, 0.6, 0.7, 0.8, 0.9, 1.0, 1.1, 1.2, 1.3, 1.4, 1.5, 1.6, 1.7, 1.8, 1.9, 2.0]}\n",
    "ridge_reg = Ridge(solver=\"cholesky\")\n",
    "grid_search = GridSearchCV(ridge_reg, param_grid)\n",
    "grid_search.fit(train_data, train_target)\n",
    "grid_search.best_params_"
   ]
  },
  {
   "cell_type": "code",
   "execution_count": 56,
   "metadata": {
    "scrolled": true
   },
   "outputs": [
    {
     "name": "stderr",
     "output_type": "stream",
     "text": [
      "C:\\Users\\DIEGO UNZUETA\\Anaconda3\\lib\\site-packages\\sklearn\\model_selection\\_validation.py:531: UserWarning: With alpha=0, this algorithm does not converge well. You are advised to use the LinearRegression estimator\n",
      "  estimator.fit(X_train, y_train, **fit_params)\n",
      "C:\\Users\\DIEGO UNZUETA\\Anaconda3\\lib\\site-packages\\sklearn\\linear_model\\_coordinate_descent.py:531: UserWarning: Coordinate descent with no regularization may lead to unexpected results and is discouraged.\n",
      "  positive)\n",
      "C:\\Users\\DIEGO UNZUETA\\Anaconda3\\lib\\site-packages\\sklearn\\linear_model\\_coordinate_descent.py:531: ConvergenceWarning: Objective did not converge. You might want to increase the number of iterations. Duality gap: 9414802586825.008, tolerance: 3244533354.03552\n",
      "  positive)\n",
      "C:\\Users\\DIEGO UNZUETA\\Anaconda3\\lib\\site-packages\\sklearn\\model_selection\\_validation.py:531: UserWarning: With alpha=0, this algorithm does not converge well. You are advised to use the LinearRegression estimator\n",
      "  estimator.fit(X_train, y_train, **fit_params)\n",
      "C:\\Users\\DIEGO UNZUETA\\Anaconda3\\lib\\site-packages\\sklearn\\linear_model\\_coordinate_descent.py:531: UserWarning: Coordinate descent with no regularization may lead to unexpected results and is discouraged.\n",
      "  positive)\n",
      "C:\\Users\\DIEGO UNZUETA\\Anaconda3\\lib\\site-packages\\sklearn\\linear_model\\_coordinate_descent.py:531: ConvergenceWarning: Objective did not converge. You might want to increase the number of iterations. Duality gap: 9432079297800.17, tolerance: 3246017434.443096\n",
      "  positive)\n",
      "C:\\Users\\DIEGO UNZUETA\\Anaconda3\\lib\\site-packages\\sklearn\\model_selection\\_validation.py:531: UserWarning: With alpha=0, this algorithm does not converge well. You are advised to use the LinearRegression estimator\n",
      "  estimator.fit(X_train, y_train, **fit_params)\n",
      "C:\\Users\\DIEGO UNZUETA\\Anaconda3\\lib\\site-packages\\sklearn\\linear_model\\_coordinate_descent.py:531: UserWarning: Coordinate descent with no regularization may lead to unexpected results and is discouraged.\n",
      "  positive)\n",
      "C:\\Users\\DIEGO UNZUETA\\Anaconda3\\lib\\site-packages\\sklearn\\linear_model\\_coordinate_descent.py:531: ConvergenceWarning: Objective did not converge. You might want to increase the number of iterations. Duality gap: 9414312757969.121, tolerance: 3246266938.4852457\n",
      "  positive)\n",
      "C:\\Users\\DIEGO UNZUETA\\Anaconda3\\lib\\site-packages\\sklearn\\model_selection\\_validation.py:531: UserWarning: With alpha=0, this algorithm does not converge well. You are advised to use the LinearRegression estimator\n",
      "  estimator.fit(X_train, y_train, **fit_params)\n",
      "C:\\Users\\DIEGO UNZUETA\\Anaconda3\\lib\\site-packages\\sklearn\\linear_model\\_coordinate_descent.py:531: UserWarning: Coordinate descent with no regularization may lead to unexpected results and is discouraged.\n",
      "  positive)\n",
      "C:\\Users\\DIEGO UNZUETA\\Anaconda3\\lib\\site-packages\\sklearn\\linear_model\\_coordinate_descent.py:531: ConvergenceWarning: Objective did not converge. You might want to increase the number of iterations. Duality gap: 9409526502192.305, tolerance: 3244859520.0533557\n",
      "  positive)\n",
      "C:\\Users\\DIEGO UNZUETA\\Anaconda3\\lib\\site-packages\\sklearn\\model_selection\\_validation.py:531: UserWarning: With alpha=0, this algorithm does not converge well. You are advised to use the LinearRegression estimator\n",
      "  estimator.fit(X_train, y_train, **fit_params)\n",
      "C:\\Users\\DIEGO UNZUETA\\Anaconda3\\lib\\site-packages\\sklearn\\linear_model\\_coordinate_descent.py:531: UserWarning: Coordinate descent with no regularization may lead to unexpected results and is discouraged.\n",
      "  positive)\n",
      "C:\\Users\\DIEGO UNZUETA\\Anaconda3\\lib\\site-packages\\sklearn\\linear_model\\_coordinate_descent.py:531: ConvergenceWarning: Objective did not converge. You might want to increase the number of iterations. Duality gap: 9401398591518.232, tolerance: 3244402602.358022\n",
      "  positive)\n",
      "C:\\Users\\DIEGO UNZUETA\\Anaconda3\\lib\\site-packages\\sklearn\\linear_model\\_coordinate_descent.py:531: ConvergenceWarning: Objective did not converge. You might want to increase the number of iterations. Duality gap: 858608205767.3848, tolerance: 3244533354.03552\n",
      "  positive)\n",
      "C:\\Users\\DIEGO UNZUETA\\Anaconda3\\lib\\site-packages\\sklearn\\linear_model\\_coordinate_descent.py:531: ConvergenceWarning: Objective did not converge. You might want to increase the number of iterations. Duality gap: 867248120667.2871, tolerance: 3246017434.443096\n",
      "  positive)\n",
      "C:\\Users\\DIEGO UNZUETA\\Anaconda3\\lib\\site-packages\\sklearn\\linear_model\\_coordinate_descent.py:531: ConvergenceWarning: Objective did not converge. You might want to increase the number of iterations. Duality gap: 862616574878.041, tolerance: 3246266938.4852457\n",
      "  positive)\n",
      "C:\\Users\\DIEGO UNZUETA\\Anaconda3\\lib\\site-packages\\sklearn\\linear_model\\_coordinate_descent.py:531: ConvergenceWarning: Objective did not converge. You might want to increase the number of iterations. Duality gap: 868471533006.623, tolerance: 3244859520.0533557\n",
      "  positive)\n",
      "C:\\Users\\DIEGO UNZUETA\\Anaconda3\\lib\\site-packages\\sklearn\\linear_model\\_coordinate_descent.py:531: ConvergenceWarning: Objective did not converge. You might want to increase the number of iterations. Duality gap: 864415990990.084, tolerance: 3244402602.358022\n",
      "  positive)\n"
     ]
    },
    {
     "ename": "KeyboardInterrupt",
     "evalue": "",
     "output_type": "error",
     "traceback": [
      "\u001b[1;31m---------------------------------------------------------------------------\u001b[0m",
      "\u001b[1;31mKeyboardInterrupt\u001b[0m                         Traceback (most recent call last)",
      "\u001b[1;32m<ipython-input-56-ec79dcd7e091>\u001b[0m in \u001b[0;36m<module>\u001b[1;34m\u001b[0m\n\u001b[0;32m      3\u001b[0m \u001b[0mridge_reg\u001b[0m \u001b[1;33m=\u001b[0m\u001b[0mLasso\u001b[0m\u001b[1;33m(\u001b[0m\u001b[1;33m)\u001b[0m\u001b[1;33m\u001b[0m\u001b[1;33m\u001b[0m\u001b[0m\n\u001b[0;32m      4\u001b[0m \u001b[0mgrid_search\u001b[0m \u001b[1;33m=\u001b[0m \u001b[0mGridSearchCV\u001b[0m\u001b[1;33m(\u001b[0m\u001b[0mridge_reg\u001b[0m\u001b[1;33m,\u001b[0m \u001b[0mparam_grid\u001b[0m\u001b[1;33m)\u001b[0m\u001b[1;33m\u001b[0m\u001b[1;33m\u001b[0m\u001b[0m\n\u001b[1;32m----> 5\u001b[1;33m \u001b[0mgrid_search\u001b[0m\u001b[1;33m.\u001b[0m\u001b[0mfit\u001b[0m\u001b[1;33m(\u001b[0m\u001b[0mtrain_data\u001b[0m\u001b[1;33m,\u001b[0m \u001b[0mtrain_target\u001b[0m\u001b[1;33m)\u001b[0m\u001b[1;33m\u001b[0m\u001b[1;33m\u001b[0m\u001b[0m\n\u001b[0m\u001b[0;32m      6\u001b[0m \u001b[0mgrid_search\u001b[0m\u001b[1;33m.\u001b[0m\u001b[0mbest_params_\u001b[0m\u001b[1;33m\u001b[0m\u001b[1;33m\u001b[0m\u001b[0m\n",
      "\u001b[1;32m~\\Anaconda3\\lib\\site-packages\\sklearn\\utils\\validation.py\u001b[0m in \u001b[0;36minner_f\u001b[1;34m(*args, **kwargs)\u001b[0m\n\u001b[0;32m     70\u001b[0m                           FutureWarning)\n\u001b[0;32m     71\u001b[0m         \u001b[0mkwargs\u001b[0m\u001b[1;33m.\u001b[0m\u001b[0mupdate\u001b[0m\u001b[1;33m(\u001b[0m\u001b[1;33m{\u001b[0m\u001b[0mk\u001b[0m\u001b[1;33m:\u001b[0m \u001b[0marg\u001b[0m \u001b[1;32mfor\u001b[0m \u001b[0mk\u001b[0m\u001b[1;33m,\u001b[0m \u001b[0marg\u001b[0m \u001b[1;32min\u001b[0m \u001b[0mzip\u001b[0m\u001b[1;33m(\u001b[0m\u001b[0msig\u001b[0m\u001b[1;33m.\u001b[0m\u001b[0mparameters\u001b[0m\u001b[1;33m,\u001b[0m \u001b[0margs\u001b[0m\u001b[1;33m)\u001b[0m\u001b[1;33m}\u001b[0m\u001b[1;33m)\u001b[0m\u001b[1;33m\u001b[0m\u001b[1;33m\u001b[0m\u001b[0m\n\u001b[1;32m---> 72\u001b[1;33m         \u001b[1;32mreturn\u001b[0m \u001b[0mf\u001b[0m\u001b[1;33m(\u001b[0m\u001b[1;33m**\u001b[0m\u001b[0mkwargs\u001b[0m\u001b[1;33m)\u001b[0m\u001b[1;33m\u001b[0m\u001b[1;33m\u001b[0m\u001b[0m\n\u001b[0m\u001b[0;32m     73\u001b[0m     \u001b[1;32mreturn\u001b[0m \u001b[0minner_f\u001b[0m\u001b[1;33m\u001b[0m\u001b[1;33m\u001b[0m\u001b[0m\n\u001b[0;32m     74\u001b[0m \u001b[1;33m\u001b[0m\u001b[0m\n",
      "\u001b[1;32m~\\Anaconda3\\lib\\site-packages\\sklearn\\model_selection\\_search.py\u001b[0m in \u001b[0;36mfit\u001b[1;34m(self, X, y, groups, **fit_params)\u001b[0m\n\u001b[0;32m    734\u001b[0m                 \u001b[1;32mreturn\u001b[0m \u001b[0mresults\u001b[0m\u001b[1;33m\u001b[0m\u001b[1;33m\u001b[0m\u001b[0m\n\u001b[0;32m    735\u001b[0m \u001b[1;33m\u001b[0m\u001b[0m\n\u001b[1;32m--> 736\u001b[1;33m             \u001b[0mself\u001b[0m\u001b[1;33m.\u001b[0m\u001b[0m_run_search\u001b[0m\u001b[1;33m(\u001b[0m\u001b[0mevaluate_candidates\u001b[0m\u001b[1;33m)\u001b[0m\u001b[1;33m\u001b[0m\u001b[1;33m\u001b[0m\u001b[0m\n\u001b[0m\u001b[0;32m    737\u001b[0m \u001b[1;33m\u001b[0m\u001b[0m\n\u001b[0;32m    738\u001b[0m         \u001b[1;31m# For multi-metric evaluation, store the best_index_, best_params_ and\u001b[0m\u001b[1;33m\u001b[0m\u001b[1;33m\u001b[0m\u001b[1;33m\u001b[0m\u001b[0m\n",
      "\u001b[1;32m~\\Anaconda3\\lib\\site-packages\\sklearn\\model_selection\\_search.py\u001b[0m in \u001b[0;36m_run_search\u001b[1;34m(self, evaluate_candidates)\u001b[0m\n\u001b[0;32m   1186\u001b[0m     \u001b[1;32mdef\u001b[0m \u001b[0m_run_search\u001b[0m\u001b[1;33m(\u001b[0m\u001b[0mself\u001b[0m\u001b[1;33m,\u001b[0m \u001b[0mevaluate_candidates\u001b[0m\u001b[1;33m)\u001b[0m\u001b[1;33m:\u001b[0m\u001b[1;33m\u001b[0m\u001b[1;33m\u001b[0m\u001b[0m\n\u001b[0;32m   1187\u001b[0m         \u001b[1;34m\"\"\"Search all candidates in param_grid\"\"\"\u001b[0m\u001b[1;33m\u001b[0m\u001b[1;33m\u001b[0m\u001b[0m\n\u001b[1;32m-> 1188\u001b[1;33m         \u001b[0mevaluate_candidates\u001b[0m\u001b[1;33m(\u001b[0m\u001b[0mParameterGrid\u001b[0m\u001b[1;33m(\u001b[0m\u001b[0mself\u001b[0m\u001b[1;33m.\u001b[0m\u001b[0mparam_grid\u001b[0m\u001b[1;33m)\u001b[0m\u001b[1;33m)\u001b[0m\u001b[1;33m\u001b[0m\u001b[1;33m\u001b[0m\u001b[0m\n\u001b[0m\u001b[0;32m   1189\u001b[0m \u001b[1;33m\u001b[0m\u001b[0m\n\u001b[0;32m   1190\u001b[0m \u001b[1;33m\u001b[0m\u001b[0m\n",
      "\u001b[1;32m~\\Anaconda3\\lib\\site-packages\\sklearn\\model_selection\\_search.py\u001b[0m in \u001b[0;36mevaluate_candidates\u001b[1;34m(candidate_params)\u001b[0m\n\u001b[0;32m    713\u001b[0m                                \u001b[1;32mfor\u001b[0m \u001b[0mparameters\u001b[0m\u001b[1;33m,\u001b[0m \u001b[1;33m(\u001b[0m\u001b[0mtrain\u001b[0m\u001b[1;33m,\u001b[0m \u001b[0mtest\u001b[0m\u001b[1;33m)\u001b[0m\u001b[1;33m\u001b[0m\u001b[1;33m\u001b[0m\u001b[0m\n\u001b[0;32m    714\u001b[0m                                in product(candidate_params,\n\u001b[1;32m--> 715\u001b[1;33m                                           cv.split(X, y, groups)))\n\u001b[0m\u001b[0;32m    716\u001b[0m \u001b[1;33m\u001b[0m\u001b[0m\n\u001b[0;32m    717\u001b[0m                 \u001b[1;32mif\u001b[0m \u001b[0mlen\u001b[0m\u001b[1;33m(\u001b[0m\u001b[0mout\u001b[0m\u001b[1;33m)\u001b[0m \u001b[1;33m<\u001b[0m \u001b[1;36m1\u001b[0m\u001b[1;33m:\u001b[0m\u001b[1;33m\u001b[0m\u001b[1;33m\u001b[0m\u001b[0m\n",
      "\u001b[1;32m~\\Anaconda3\\lib\\site-packages\\joblib\\parallel.py\u001b[0m in \u001b[0;36m__call__\u001b[1;34m(self, iterable)\u001b[0m\n\u001b[0;32m   1042\u001b[0m                 \u001b[0mself\u001b[0m\u001b[1;33m.\u001b[0m\u001b[0m_iterating\u001b[0m \u001b[1;33m=\u001b[0m \u001b[0mself\u001b[0m\u001b[1;33m.\u001b[0m\u001b[0m_original_iterator\u001b[0m \u001b[1;32mis\u001b[0m \u001b[1;32mnot\u001b[0m \u001b[1;32mNone\u001b[0m\u001b[1;33m\u001b[0m\u001b[1;33m\u001b[0m\u001b[0m\n\u001b[0;32m   1043\u001b[0m \u001b[1;33m\u001b[0m\u001b[0m\n\u001b[1;32m-> 1044\u001b[1;33m             \u001b[1;32mwhile\u001b[0m \u001b[0mself\u001b[0m\u001b[1;33m.\u001b[0m\u001b[0mdispatch_one_batch\u001b[0m\u001b[1;33m(\u001b[0m\u001b[0miterator\u001b[0m\u001b[1;33m)\u001b[0m\u001b[1;33m:\u001b[0m\u001b[1;33m\u001b[0m\u001b[1;33m\u001b[0m\u001b[0m\n\u001b[0m\u001b[0;32m   1045\u001b[0m                 \u001b[1;32mpass\u001b[0m\u001b[1;33m\u001b[0m\u001b[1;33m\u001b[0m\u001b[0m\n\u001b[0;32m   1046\u001b[0m \u001b[1;33m\u001b[0m\u001b[0m\n",
      "\u001b[1;32m~\\Anaconda3\\lib\\site-packages\\joblib\\parallel.py\u001b[0m in \u001b[0;36mdispatch_one_batch\u001b[1;34m(self, iterator)\u001b[0m\n\u001b[0;32m    857\u001b[0m                 \u001b[1;32mreturn\u001b[0m \u001b[1;32mFalse\u001b[0m\u001b[1;33m\u001b[0m\u001b[1;33m\u001b[0m\u001b[0m\n\u001b[0;32m    858\u001b[0m             \u001b[1;32melse\u001b[0m\u001b[1;33m:\u001b[0m\u001b[1;33m\u001b[0m\u001b[1;33m\u001b[0m\u001b[0m\n\u001b[1;32m--> 859\u001b[1;33m                 \u001b[0mself\u001b[0m\u001b[1;33m.\u001b[0m\u001b[0m_dispatch\u001b[0m\u001b[1;33m(\u001b[0m\u001b[0mtasks\u001b[0m\u001b[1;33m)\u001b[0m\u001b[1;33m\u001b[0m\u001b[1;33m\u001b[0m\u001b[0m\n\u001b[0m\u001b[0;32m    860\u001b[0m                 \u001b[1;32mreturn\u001b[0m \u001b[1;32mTrue\u001b[0m\u001b[1;33m\u001b[0m\u001b[1;33m\u001b[0m\u001b[0m\n\u001b[0;32m    861\u001b[0m \u001b[1;33m\u001b[0m\u001b[0m\n",
      "\u001b[1;32m~\\Anaconda3\\lib\\site-packages\\joblib\\parallel.py\u001b[0m in \u001b[0;36m_dispatch\u001b[1;34m(self, batch)\u001b[0m\n\u001b[0;32m    775\u001b[0m         \u001b[1;32mwith\u001b[0m \u001b[0mself\u001b[0m\u001b[1;33m.\u001b[0m\u001b[0m_lock\u001b[0m\u001b[1;33m:\u001b[0m\u001b[1;33m\u001b[0m\u001b[1;33m\u001b[0m\u001b[0m\n\u001b[0;32m    776\u001b[0m             \u001b[0mjob_idx\u001b[0m \u001b[1;33m=\u001b[0m \u001b[0mlen\u001b[0m\u001b[1;33m(\u001b[0m\u001b[0mself\u001b[0m\u001b[1;33m.\u001b[0m\u001b[0m_jobs\u001b[0m\u001b[1;33m)\u001b[0m\u001b[1;33m\u001b[0m\u001b[1;33m\u001b[0m\u001b[0m\n\u001b[1;32m--> 777\u001b[1;33m             \u001b[0mjob\u001b[0m \u001b[1;33m=\u001b[0m \u001b[0mself\u001b[0m\u001b[1;33m.\u001b[0m\u001b[0m_backend\u001b[0m\u001b[1;33m.\u001b[0m\u001b[0mapply_async\u001b[0m\u001b[1;33m(\u001b[0m\u001b[0mbatch\u001b[0m\u001b[1;33m,\u001b[0m \u001b[0mcallback\u001b[0m\u001b[1;33m=\u001b[0m\u001b[0mcb\u001b[0m\u001b[1;33m)\u001b[0m\u001b[1;33m\u001b[0m\u001b[1;33m\u001b[0m\u001b[0m\n\u001b[0m\u001b[0;32m    778\u001b[0m             \u001b[1;31m# A job can complete so quickly than its callback is\u001b[0m\u001b[1;33m\u001b[0m\u001b[1;33m\u001b[0m\u001b[1;33m\u001b[0m\u001b[0m\n\u001b[0;32m    779\u001b[0m             \u001b[1;31m# called before we get here, causing self._jobs to\u001b[0m\u001b[1;33m\u001b[0m\u001b[1;33m\u001b[0m\u001b[1;33m\u001b[0m\u001b[0m\n",
      "\u001b[1;32m~\\Anaconda3\\lib\\site-packages\\joblib\\_parallel_backends.py\u001b[0m in \u001b[0;36mapply_async\u001b[1;34m(self, func, callback)\u001b[0m\n\u001b[0;32m    206\u001b[0m     \u001b[1;32mdef\u001b[0m \u001b[0mapply_async\u001b[0m\u001b[1;33m(\u001b[0m\u001b[0mself\u001b[0m\u001b[1;33m,\u001b[0m \u001b[0mfunc\u001b[0m\u001b[1;33m,\u001b[0m \u001b[0mcallback\u001b[0m\u001b[1;33m=\u001b[0m\u001b[1;32mNone\u001b[0m\u001b[1;33m)\u001b[0m\u001b[1;33m:\u001b[0m\u001b[1;33m\u001b[0m\u001b[1;33m\u001b[0m\u001b[0m\n\u001b[0;32m    207\u001b[0m         \u001b[1;34m\"\"\"Schedule a func to be run\"\"\"\u001b[0m\u001b[1;33m\u001b[0m\u001b[1;33m\u001b[0m\u001b[0m\n\u001b[1;32m--> 208\u001b[1;33m         \u001b[0mresult\u001b[0m \u001b[1;33m=\u001b[0m \u001b[0mImmediateResult\u001b[0m\u001b[1;33m(\u001b[0m\u001b[0mfunc\u001b[0m\u001b[1;33m)\u001b[0m\u001b[1;33m\u001b[0m\u001b[1;33m\u001b[0m\u001b[0m\n\u001b[0m\u001b[0;32m    209\u001b[0m         \u001b[1;32mif\u001b[0m \u001b[0mcallback\u001b[0m\u001b[1;33m:\u001b[0m\u001b[1;33m\u001b[0m\u001b[1;33m\u001b[0m\u001b[0m\n\u001b[0;32m    210\u001b[0m             \u001b[0mcallback\u001b[0m\u001b[1;33m(\u001b[0m\u001b[0mresult\u001b[0m\u001b[1;33m)\u001b[0m\u001b[1;33m\u001b[0m\u001b[1;33m\u001b[0m\u001b[0m\n",
      "\u001b[1;32m~\\Anaconda3\\lib\\site-packages\\joblib\\_parallel_backends.py\u001b[0m in \u001b[0;36m__init__\u001b[1;34m(self, batch)\u001b[0m\n\u001b[0;32m    570\u001b[0m         \u001b[1;31m# Don't delay the application, to avoid keeping the input\u001b[0m\u001b[1;33m\u001b[0m\u001b[1;33m\u001b[0m\u001b[1;33m\u001b[0m\u001b[0m\n\u001b[0;32m    571\u001b[0m         \u001b[1;31m# arguments in memory\u001b[0m\u001b[1;33m\u001b[0m\u001b[1;33m\u001b[0m\u001b[1;33m\u001b[0m\u001b[0m\n\u001b[1;32m--> 572\u001b[1;33m         \u001b[0mself\u001b[0m\u001b[1;33m.\u001b[0m\u001b[0mresults\u001b[0m \u001b[1;33m=\u001b[0m \u001b[0mbatch\u001b[0m\u001b[1;33m(\u001b[0m\u001b[1;33m)\u001b[0m\u001b[1;33m\u001b[0m\u001b[1;33m\u001b[0m\u001b[0m\n\u001b[0m\u001b[0;32m    573\u001b[0m \u001b[1;33m\u001b[0m\u001b[0m\n\u001b[0;32m    574\u001b[0m     \u001b[1;32mdef\u001b[0m \u001b[0mget\u001b[0m\u001b[1;33m(\u001b[0m\u001b[0mself\u001b[0m\u001b[1;33m)\u001b[0m\u001b[1;33m:\u001b[0m\u001b[1;33m\u001b[0m\u001b[1;33m\u001b[0m\u001b[0m\n",
      "\u001b[1;32m~\\Anaconda3\\lib\\site-packages\\joblib\\parallel.py\u001b[0m in \u001b[0;36m__call__\u001b[1;34m(self)\u001b[0m\n\u001b[0;32m    261\u001b[0m         \u001b[1;32mwith\u001b[0m \u001b[0mparallel_backend\u001b[0m\u001b[1;33m(\u001b[0m\u001b[0mself\u001b[0m\u001b[1;33m.\u001b[0m\u001b[0m_backend\u001b[0m\u001b[1;33m,\u001b[0m \u001b[0mn_jobs\u001b[0m\u001b[1;33m=\u001b[0m\u001b[0mself\u001b[0m\u001b[1;33m.\u001b[0m\u001b[0m_n_jobs\u001b[0m\u001b[1;33m)\u001b[0m\u001b[1;33m:\u001b[0m\u001b[1;33m\u001b[0m\u001b[1;33m\u001b[0m\u001b[0m\n\u001b[0;32m    262\u001b[0m             return [func(*args, **kwargs)\n\u001b[1;32m--> 263\u001b[1;33m                     for func, args, kwargs in self.items]\n\u001b[0m\u001b[0;32m    264\u001b[0m \u001b[1;33m\u001b[0m\u001b[0m\n\u001b[0;32m    265\u001b[0m     \u001b[1;32mdef\u001b[0m \u001b[0m__reduce__\u001b[0m\u001b[1;33m(\u001b[0m\u001b[0mself\u001b[0m\u001b[1;33m)\u001b[0m\u001b[1;33m:\u001b[0m\u001b[1;33m\u001b[0m\u001b[1;33m\u001b[0m\u001b[0m\n",
      "\u001b[1;32m~\\Anaconda3\\lib\\site-packages\\joblib\\parallel.py\u001b[0m in \u001b[0;36m<listcomp>\u001b[1;34m(.0)\u001b[0m\n\u001b[0;32m    261\u001b[0m         \u001b[1;32mwith\u001b[0m \u001b[0mparallel_backend\u001b[0m\u001b[1;33m(\u001b[0m\u001b[0mself\u001b[0m\u001b[1;33m.\u001b[0m\u001b[0m_backend\u001b[0m\u001b[1;33m,\u001b[0m \u001b[0mn_jobs\u001b[0m\u001b[1;33m=\u001b[0m\u001b[0mself\u001b[0m\u001b[1;33m.\u001b[0m\u001b[0m_n_jobs\u001b[0m\u001b[1;33m)\u001b[0m\u001b[1;33m:\u001b[0m\u001b[1;33m\u001b[0m\u001b[1;33m\u001b[0m\u001b[0m\n\u001b[0;32m    262\u001b[0m             return [func(*args, **kwargs)\n\u001b[1;32m--> 263\u001b[1;33m                     for func, args, kwargs in self.items]\n\u001b[0m\u001b[0;32m    264\u001b[0m \u001b[1;33m\u001b[0m\u001b[0m\n\u001b[0;32m    265\u001b[0m     \u001b[1;32mdef\u001b[0m \u001b[0m__reduce__\u001b[0m\u001b[1;33m(\u001b[0m\u001b[0mself\u001b[0m\u001b[1;33m)\u001b[0m\u001b[1;33m:\u001b[0m\u001b[1;33m\u001b[0m\u001b[1;33m\u001b[0m\u001b[0m\n",
      "\u001b[1;32m~\\Anaconda3\\lib\\site-packages\\sklearn\\model_selection\\_validation.py\u001b[0m in \u001b[0;36m_fit_and_score\u001b[1;34m(estimator, X, y, scorer, train, test, verbose, parameters, fit_params, return_train_score, return_parameters, return_n_test_samples, return_times, return_estimator, error_score)\u001b[0m\n\u001b[0;32m    529\u001b[0m             \u001b[0mestimator\u001b[0m\u001b[1;33m.\u001b[0m\u001b[0mfit\u001b[0m\u001b[1;33m(\u001b[0m\u001b[0mX_train\u001b[0m\u001b[1;33m,\u001b[0m \u001b[1;33m**\u001b[0m\u001b[0mfit_params\u001b[0m\u001b[1;33m)\u001b[0m\u001b[1;33m\u001b[0m\u001b[1;33m\u001b[0m\u001b[0m\n\u001b[0;32m    530\u001b[0m         \u001b[1;32melse\u001b[0m\u001b[1;33m:\u001b[0m\u001b[1;33m\u001b[0m\u001b[1;33m\u001b[0m\u001b[0m\n\u001b[1;32m--> 531\u001b[1;33m             \u001b[0mestimator\u001b[0m\u001b[1;33m.\u001b[0m\u001b[0mfit\u001b[0m\u001b[1;33m(\u001b[0m\u001b[0mX_train\u001b[0m\u001b[1;33m,\u001b[0m \u001b[0my_train\u001b[0m\u001b[1;33m,\u001b[0m \u001b[1;33m**\u001b[0m\u001b[0mfit_params\u001b[0m\u001b[1;33m)\u001b[0m\u001b[1;33m\u001b[0m\u001b[1;33m\u001b[0m\u001b[0m\n\u001b[0m\u001b[0;32m    532\u001b[0m \u001b[1;33m\u001b[0m\u001b[0m\n\u001b[0;32m    533\u001b[0m     \u001b[1;32mexcept\u001b[0m \u001b[0mException\u001b[0m \u001b[1;32mas\u001b[0m \u001b[0me\u001b[0m\u001b[1;33m:\u001b[0m\u001b[1;33m\u001b[0m\u001b[1;33m\u001b[0m\u001b[0m\n",
      "\u001b[1;32m~\\Anaconda3\\lib\\site-packages\\sklearn\\linear_model\\_coordinate_descent.py\u001b[0m in \u001b[0;36mfit\u001b[1;34m(self, X, y, sample_weight, check_input)\u001b[0m\n\u001b[0;32m    841\u001b[0m                           \u001b[0mrandom_state\u001b[0m\u001b[1;33m=\u001b[0m\u001b[0mself\u001b[0m\u001b[1;33m.\u001b[0m\u001b[0mrandom_state\u001b[0m\u001b[1;33m,\u001b[0m\u001b[1;33m\u001b[0m\u001b[1;33m\u001b[0m\u001b[0m\n\u001b[0;32m    842\u001b[0m                           \u001b[0mselection\u001b[0m\u001b[1;33m=\u001b[0m\u001b[0mself\u001b[0m\u001b[1;33m.\u001b[0m\u001b[0mselection\u001b[0m\u001b[1;33m,\u001b[0m\u001b[1;33m\u001b[0m\u001b[1;33m\u001b[0m\u001b[0m\n\u001b[1;32m--> 843\u001b[1;33m                           check_input=False)\n\u001b[0m\u001b[0;32m    844\u001b[0m             \u001b[0mcoef_\u001b[0m\u001b[1;33m[\u001b[0m\u001b[0mk\u001b[0m\u001b[1;33m]\u001b[0m \u001b[1;33m=\u001b[0m \u001b[0mthis_coef\u001b[0m\u001b[1;33m[\u001b[0m\u001b[1;33m:\u001b[0m\u001b[1;33m,\u001b[0m \u001b[1;36m0\u001b[0m\u001b[1;33m]\u001b[0m\u001b[1;33m\u001b[0m\u001b[1;33m\u001b[0m\u001b[0m\n\u001b[0;32m    845\u001b[0m             \u001b[0mdual_gaps_\u001b[0m\u001b[1;33m[\u001b[0m\u001b[0mk\u001b[0m\u001b[1;33m]\u001b[0m \u001b[1;33m=\u001b[0m \u001b[0mthis_dual_gap\u001b[0m\u001b[1;33m[\u001b[0m\u001b[1;36m0\u001b[0m\u001b[1;33m]\u001b[0m\u001b[1;33m\u001b[0m\u001b[1;33m\u001b[0m\u001b[0m\n",
      "\u001b[1;32m~\\Anaconda3\\lib\\site-packages\\sklearn\\utils\\validation.py\u001b[0m in \u001b[0;36minner_f\u001b[1;34m(*args, **kwargs)\u001b[0m\n\u001b[0;32m     70\u001b[0m                           FutureWarning)\n\u001b[0;32m     71\u001b[0m         \u001b[0mkwargs\u001b[0m\u001b[1;33m.\u001b[0m\u001b[0mupdate\u001b[0m\u001b[1;33m(\u001b[0m\u001b[1;33m{\u001b[0m\u001b[0mk\u001b[0m\u001b[1;33m:\u001b[0m \u001b[0marg\u001b[0m \u001b[1;32mfor\u001b[0m \u001b[0mk\u001b[0m\u001b[1;33m,\u001b[0m \u001b[0marg\u001b[0m \u001b[1;32min\u001b[0m \u001b[0mzip\u001b[0m\u001b[1;33m(\u001b[0m\u001b[0msig\u001b[0m\u001b[1;33m.\u001b[0m\u001b[0mparameters\u001b[0m\u001b[1;33m,\u001b[0m \u001b[0margs\u001b[0m\u001b[1;33m)\u001b[0m\u001b[1;33m}\u001b[0m\u001b[1;33m)\u001b[0m\u001b[1;33m\u001b[0m\u001b[1;33m\u001b[0m\u001b[0m\n\u001b[1;32m---> 72\u001b[1;33m         \u001b[1;32mreturn\u001b[0m \u001b[0mf\u001b[0m\u001b[1;33m(\u001b[0m\u001b[1;33m**\u001b[0m\u001b[0mkwargs\u001b[0m\u001b[1;33m)\u001b[0m\u001b[1;33m\u001b[0m\u001b[1;33m\u001b[0m\u001b[0m\n\u001b[0m\u001b[0;32m     73\u001b[0m     \u001b[1;32mreturn\u001b[0m \u001b[0minner_f\u001b[0m\u001b[1;33m\u001b[0m\u001b[1;33m\u001b[0m\u001b[0m\n\u001b[0;32m     74\u001b[0m \u001b[1;33m\u001b[0m\u001b[0m\n",
      "\u001b[1;32m~\\Anaconda3\\lib\\site-packages\\sklearn\\linear_model\\_coordinate_descent.py\u001b[0m in \u001b[0;36menet_path\u001b[1;34m(X, y, l1_ratio, eps, n_alphas, alphas, precompute, Xy, copy_X, coef_init, verbose, return_n_iter, positive, check_input, **params)\u001b[0m\n\u001b[0;32m    529\u001b[0m             model = cd_fast.enet_coordinate_descent(\n\u001b[0;32m    530\u001b[0m                 \u001b[0mcoef_\u001b[0m\u001b[1;33m,\u001b[0m \u001b[0ml1_reg\u001b[0m\u001b[1;33m,\u001b[0m \u001b[0ml2_reg\u001b[0m\u001b[1;33m,\u001b[0m \u001b[0mX\u001b[0m\u001b[1;33m,\u001b[0m \u001b[0my\u001b[0m\u001b[1;33m,\u001b[0m \u001b[0mmax_iter\u001b[0m\u001b[1;33m,\u001b[0m \u001b[0mtol\u001b[0m\u001b[1;33m,\u001b[0m \u001b[0mrng\u001b[0m\u001b[1;33m,\u001b[0m \u001b[0mrandom\u001b[0m\u001b[1;33m,\u001b[0m\u001b[1;33m\u001b[0m\u001b[1;33m\u001b[0m\u001b[0m\n\u001b[1;32m--> 531\u001b[1;33m                 positive)\n\u001b[0m\u001b[0;32m    532\u001b[0m         \u001b[1;32melse\u001b[0m\u001b[1;33m:\u001b[0m\u001b[1;33m\u001b[0m\u001b[1;33m\u001b[0m\u001b[0m\n\u001b[0;32m    533\u001b[0m             raise ValueError(\"Precompute should be one of True, False, \"\n",
      "\u001b[1;31mKeyboardInterrupt\u001b[0m: "
     ]
    }
   ],
   "source": [
    "from sklearn.model_selection import GridSearchCV\n",
    "param_grid = {'alpha': [0, 0.1, 0.2, 0.3, 0.4, 0.5, 0.6, 0.7, 0.8, 0.9, 1.0, 1.1, 1.2, 1.3, 1.4, 1.5, 1.6, 1.7, 1.8, 1.9, 2.0]}\n",
    "ridge_reg =Lasso()\n",
    "grid_search = GridSearchCV(ridge_reg, param_grid)\n",
    "grid_search.fit(train_data, train_target)\n",
    "grid_search.best_params_"
   ]
  },
  {
   "cell_type": "code",
   "execution_count": null,
   "metadata": {},
   "outputs": [],
   "source": [
    "from sklearn.linear_model import Ridge\n",
    "#fit a ridge regressor\n",
    "alpha_ridge = 0\n",
    "ridge_reg = Ridge(alpha_ridge, solver=\"cholesky\")\n",
    "ridge_reg.fit(train_data, train_target)\n",
    "\n",
    "from sklearn.linear_model import Lasso\n",
    "alpha_lasso = 0\n",
    "lasso_reg = Lasso(alpha_lasso)\n",
    "lasso_reg.fit(train_data, train_target)"
   ]
  },
  {
   "cell_type": "code",
   "execution_count": null,
   "metadata": {},
   "outputs": [],
   "source": [
    "# Normal case\n",
    "train_ridge_predict = ridge_reg.predict(train_data)\n",
    "train_lasso_predict = lasso_reg.predict(train_data)\n",
    "test_ridge_predict = ridge_reg.predict(test_data)\n",
    "test_lasso_predict = lasso_reg.predict(test_data)\n",
    "train_ridge_rmse = sqrt(mean_squared_error(train_target, train_ridge_predict))\n",
    "train_lasso_rmse = sqrt(mean_squared_error(train_target, train_lasso_predict))\n",
    "test_ridge_rmse = sqrt(mean_squared_error(test_target, test_ridge_predict))\n",
    "test_lasso_rmse = sqrt(mean_squared_error(test_target, test_lasso_predict))\n",
    "print('Ridge Train RMSE =', train_ridge_rmse, ', Ridge Test RMSE =',test_ridge_rmse)\n",
    "print( 'Lasso Train RMSE =', train_lasso_rmse, ', Lasso Test,RMSE =', test_lasso_rmse)"
   ]
  },
  {
   "cell_type": "markdown",
   "metadata": {},
   "source": [
    "The value improved -> normal case"
   ]
  },
  {
   "cell_type": "code",
   "execution_count": null,
   "metadata": {},
   "outputs": [],
   "source": [
    "from sklearn.linear_model import Ridge\n",
    "#fit a ridge regressor\n",
    "alpha_ridge = 0\n",
    "ridge_reg = Ridge(alpha_ridge, solver=\"cholesky\")\n",
    "ridge_reg.fit(scaled_train_data, train_target)\n",
    "\n",
    "from sklearn.linear_model import Lasso\n",
    "alpha_lasso = 0\n",
    "lasso_reg = Lasso(alpha_lasso)\n",
    "lasso_reg.fit(scaled_train_data,train_target)"
   ]
  },
  {
   "cell_type": "code",
   "execution_count": null,
   "metadata": {},
   "outputs": [],
   "source": [
    "# Scaled data\n",
    "train_ridge_predict = ridge_reg.predict(scaled_train_data)\n",
    "train_lasso_predict = lasso_reg.predict(scaled_train_data)\n",
    "test_ridge_predict = ridge_reg.predict(scaled_test_data)\n",
    "test_lasso_predict = lasso_reg.predict(scaled_test_data)\n",
    "train_ridge_rmse = sqrt(mean_squared_error(train_target, train_ridge_predict))\n",
    "train_lasso_rmse = sqrt(mean_squared_error(train_target, train_lasso_predict))\n",
    "test_ridge_rmse = sqrt(mean_squared_error(test_target, test_ridge_predict))\n",
    "test_lasso_rmse = sqrt(mean_squared_error(test_target, test_lasso_predict))\n",
    "print('Ridge Train RMSE =', train_ridge_rmse, ', Ridge Test RMSE =',test_ridge_rmse)\n",
    "print( 'Lasso Train RMSE =', train_lasso_rmse, ', Lasso Test,RMSE =', test_lasso_rmse)"
   ]
  },
  {
   "cell_type": "markdown",
   "metadata": {},
   "source": [
    "The value improved -> scaled case"
   ]
  },
  {
   "cell_type": "code",
   "execution_count": null,
   "metadata": {},
   "outputs": [],
   "source": []
  },
  {
   "cell_type": "code",
   "execution_count": null,
   "metadata": {},
   "outputs": [],
   "source": []
  }
 ],
 "metadata": {
  "kernelspec": {
   "display_name": "Python 3",
   "language": "python",
   "name": "python3"
  },
  "language_info": {
   "codemirror_mode": {
    "name": "ipython",
    "version": 3
   },
   "file_extension": ".py",
   "mimetype": "text/x-python",
   "name": "python",
   "nbconvert_exporter": "python",
   "pygments_lexer": "ipython3",
   "version": "3.7.9"
  }
 },
 "nbformat": 4,
 "nbformat_minor": 4
}
