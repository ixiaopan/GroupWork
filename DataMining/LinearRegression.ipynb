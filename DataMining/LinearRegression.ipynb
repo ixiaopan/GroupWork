{
 "cells": [
  {
   "cell_type": "markdown",
   "metadata": {},
   "source": [
    "# Linear Regression"
   ]
  },
  {
   "cell_type": "markdown",
   "metadata": {},
   "source": [
    "## Imports"
   ]
  },
  {
   "cell_type": "code",
   "execution_count": 1,
   "metadata": {},
   "outputs": [],
   "source": [
    "import os\n",
    "import pandas as pd\n",
    "import matplotlib.pyplot as plt\n",
    "from sklearn.metrics import mean_squared_error\n",
    "from sklearn import linear_model\n",
    "import numpy as np\n",
    "import CleaningCars as hf\n",
    "from sklearn.model_selection import train_test_split\n",
    "from sklearn.preprocessing import StandardScaler\n",
    "from sklearn.preprocessing import MinMaxScaler\n",
    "import statsmodels.api as sm"
   ]
  },
  {
   "cell_type": "code",
   "execution_count": 2,
   "metadata": {},
   "outputs": [],
   "source": [
    "# def load_data():    \n",
    "#     csv_path = os.path.join('data', 'vehicles.csv')\n",
    "#     return pd.read_csv(csv_path)\n",
    "\n",
    "# df = load_data()\n",
    "\n",
    "# df_processed = hf.ultimateClean(df)\n",
    "\n",
    "# df_processed.to_csv('data/df_processed.csv')"
   ]
  },
  {
   "cell_type": "markdown",
   "metadata": {},
   "source": [
    "## Feature Selection"
   ]
  },
  {
   "cell_type": "code",
   "execution_count": 3,
   "metadata": {},
   "outputs": [],
   "source": [
    "df = pd.read_csv(\"data/df_processed.csv\")"
   ]
  },
  {
   "cell_type": "code",
   "execution_count": 4,
   "metadata": {},
   "outputs": [],
   "source": [
    "df = df.drop([\"Unnamed: 0\"], axis = 1)"
   ]
  },
  {
   "cell_type": "code",
   "execution_count": 5,
   "metadata": {},
   "outputs": [
    {
     "data": {
      "text/html": [
       "<div>\n",
       "<style scoped>\n",
       "    .dataframe tbody tr th:only-of-type {\n",
       "        vertical-align: middle;\n",
       "    }\n",
       "\n",
       "    .dataframe tbody tr th {\n",
       "        vertical-align: top;\n",
       "    }\n",
       "\n",
       "    .dataframe thead th {\n",
       "        text-align: right;\n",
       "    }\n",
       "</style>\n",
       "<table border=\"1\" class=\"dataframe\">\n",
       "  <thead>\n",
       "    <tr style=\"text-align: right;\">\n",
       "      <th></th>\n",
       "      <th>price</th>\n",
       "      <th>year</th>\n",
       "      <th>condition</th>\n",
       "      <th>odometer</th>\n",
       "      <th>lat</th>\n",
       "      <th>long</th>\n",
       "      <th>color_black</th>\n",
       "      <th>color_other</th>\n",
       "      <th>color_silver</th>\n",
       "      <th>color_white</th>\n",
       "      <th>...</th>\n",
       "      <th>manuf_country_USA</th>\n",
       "      <th>manuf_country_missing</th>\n",
       "      <th>tfidf_0</th>\n",
       "      <th>tfidf_2</th>\n",
       "      <th>tfidf_4</th>\n",
       "      <th>tfidf_5</th>\n",
       "      <th>tfidf_6</th>\n",
       "      <th>tfidf_7</th>\n",
       "      <th>tfidf_8</th>\n",
       "      <th>tfidf_9</th>\n",
       "    </tr>\n",
       "  </thead>\n",
       "  <tbody>\n",
       "    <tr>\n",
       "      <th>0</th>\n",
       "      <td>35990</td>\n",
       "      <td>2010.0</td>\n",
       "      <td>1</td>\n",
       "      <td>32742.0</td>\n",
       "      <td>32.590000</td>\n",
       "      <td>-85.480000</td>\n",
       "      <td>0</td>\n",
       "      <td>1</td>\n",
       "      <td>0</td>\n",
       "      <td>0</td>\n",
       "      <td>...</td>\n",
       "      <td>1</td>\n",
       "      <td>0</td>\n",
       "      <td>0</td>\n",
       "      <td>0</td>\n",
       "      <td>1</td>\n",
       "      <td>0</td>\n",
       "      <td>0</td>\n",
       "      <td>0</td>\n",
       "      <td>0</td>\n",
       "      <td>0</td>\n",
       "    </tr>\n",
       "    <tr>\n",
       "      <th>1</th>\n",
       "      <td>7500</td>\n",
       "      <td>2014.0</td>\n",
       "      <td>1</td>\n",
       "      <td>93600.0</td>\n",
       "      <td>32.547500</td>\n",
       "      <td>-85.468200</td>\n",
       "      <td>0</td>\n",
       "      <td>1</td>\n",
       "      <td>0</td>\n",
       "      <td>0</td>\n",
       "      <td>...</td>\n",
       "      <td>0</td>\n",
       "      <td>0</td>\n",
       "      <td>0</td>\n",
       "      <td>0</td>\n",
       "      <td>1</td>\n",
       "      <td>0</td>\n",
       "      <td>0</td>\n",
       "      <td>0</td>\n",
       "      <td>0</td>\n",
       "      <td>0</td>\n",
       "    </tr>\n",
       "    <tr>\n",
       "      <th>2</th>\n",
       "      <td>4900</td>\n",
       "      <td>2006.0</td>\n",
       "      <td>1</td>\n",
       "      <td>87046.0</td>\n",
       "      <td>32.616807</td>\n",
       "      <td>-85.464149</td>\n",
       "      <td>0</td>\n",
       "      <td>1</td>\n",
       "      <td>0</td>\n",
       "      <td>0</td>\n",
       "      <td>...</td>\n",
       "      <td>0</td>\n",
       "      <td>0</td>\n",
       "      <td>0</td>\n",
       "      <td>0</td>\n",
       "      <td>1</td>\n",
       "      <td>0</td>\n",
       "      <td>0</td>\n",
       "      <td>0</td>\n",
       "      <td>0</td>\n",
       "      <td>0</td>\n",
       "    </tr>\n",
       "    <tr>\n",
       "      <th>3</th>\n",
       "      <td>2000</td>\n",
       "      <td>1974.0</td>\n",
       "      <td>1</td>\n",
       "      <td>190000.0</td>\n",
       "      <td>32.861600</td>\n",
       "      <td>-85.216100</td>\n",
       "      <td>0</td>\n",
       "      <td>1</td>\n",
       "      <td>0</td>\n",
       "      <td>0</td>\n",
       "      <td>...</td>\n",
       "      <td>1</td>\n",
       "      <td>0</td>\n",
       "      <td>0</td>\n",
       "      <td>0</td>\n",
       "      <td>1</td>\n",
       "      <td>0</td>\n",
       "      <td>0</td>\n",
       "      <td>0</td>\n",
       "      <td>0</td>\n",
       "      <td>0</td>\n",
       "    </tr>\n",
       "    <tr>\n",
       "      <th>4</th>\n",
       "      <td>19500</td>\n",
       "      <td>2005.0</td>\n",
       "      <td>1</td>\n",
       "      <td>116000.0</td>\n",
       "      <td>32.547500</td>\n",
       "      <td>-85.468200</td>\n",
       "      <td>0</td>\n",
       "      <td>1</td>\n",
       "      <td>0</td>\n",
       "      <td>0</td>\n",
       "      <td>...</td>\n",
       "      <td>1</td>\n",
       "      <td>0</td>\n",
       "      <td>0</td>\n",
       "      <td>0</td>\n",
       "      <td>1</td>\n",
       "      <td>0</td>\n",
       "      <td>0</td>\n",
       "      <td>0</td>\n",
       "      <td>0</td>\n",
       "      <td>0</td>\n",
       "    </tr>\n",
       "  </tbody>\n",
       "</table>\n",
       "<p>5 rows × 103 columns</p>\n",
       "</div>"
      ],
      "text/plain": [
       "   price    year  condition  odometer        lat       long  color_black  \\\n",
       "0  35990  2010.0          1   32742.0  32.590000 -85.480000            0   \n",
       "1   7500  2014.0          1   93600.0  32.547500 -85.468200            0   \n",
       "2   4900  2006.0          1   87046.0  32.616807 -85.464149            0   \n",
       "3   2000  1974.0          1  190000.0  32.861600 -85.216100            0   \n",
       "4  19500  2005.0          1  116000.0  32.547500 -85.468200            0   \n",
       "\n",
       "   color_other  color_silver  color_white  ...  manuf_country_USA  \\\n",
       "0            1             0            0  ...                  1   \n",
       "1            1             0            0  ...                  0   \n",
       "2            1             0            0  ...                  0   \n",
       "3            1             0            0  ...                  1   \n",
       "4            1             0            0  ...                  1   \n",
       "\n",
       "   manuf_country_missing  tfidf_0  tfidf_2  tfidf_4  tfidf_5  tfidf_6  \\\n",
       "0                      0        0        0        1        0        0   \n",
       "1                      0        0        0        1        0        0   \n",
       "2                      0        0        0        1        0        0   \n",
       "3                      0        0        0        1        0        0   \n",
       "4                      0        0        0        1        0        0   \n",
       "\n",
       "   tfidf_7  tfidf_8  tfidf_9  \n",
       "0        0        0        0  \n",
       "1        0        0        0  \n",
       "2        0        0        0  \n",
       "3        0        0        0  \n",
       "4        0        0        0  \n",
       "\n",
       "[5 rows x 103 columns]"
      ]
     },
     "execution_count": 5,
     "metadata": {},
     "output_type": "execute_result"
    }
   ],
   "source": [
    "df.head()"
   ]
  },
  {
   "cell_type": "code",
   "execution_count": 6,
   "metadata": {},
   "outputs": [],
   "source": [
    "df = df.loc[df[\"price\"] > 0]"
   ]
  },
  {
   "cell_type": "code",
   "execution_count": 7,
   "metadata": {},
   "outputs": [],
   "source": [
    "Y = df.pop(\"price\")\n",
    "# Y = np.log(Y)\n",
    "columns = df.columns\n",
    "df = pd.DataFrame(MinMaxScaler().fit_transform(df), columns = columns)"
   ]
  },
  {
   "cell_type": "code",
   "execution_count": 8,
   "metadata": {},
   "outputs": [
    {
     "data": {
      "text/html": [
       "<div>\n",
       "<style scoped>\n",
       "    .dataframe tbody tr th:only-of-type {\n",
       "        vertical-align: middle;\n",
       "    }\n",
       "\n",
       "    .dataframe tbody tr th {\n",
       "        vertical-align: top;\n",
       "    }\n",
       "\n",
       "    .dataframe thead th {\n",
       "        text-align: right;\n",
       "    }\n",
       "</style>\n",
       "<table border=\"1\" class=\"dataframe\">\n",
       "  <thead>\n",
       "    <tr style=\"text-align: right;\">\n",
       "      <th></th>\n",
       "      <th>year</th>\n",
       "      <th>condition</th>\n",
       "      <th>odometer</th>\n",
       "      <th>lat</th>\n",
       "      <th>long</th>\n",
       "      <th>color_black</th>\n",
       "      <th>color_other</th>\n",
       "      <th>color_silver</th>\n",
       "      <th>color_white</th>\n",
       "      <th>drive_4wd</th>\n",
       "      <th>...</th>\n",
       "      <th>manuf_country_USA</th>\n",
       "      <th>manuf_country_missing</th>\n",
       "      <th>tfidf_0</th>\n",
       "      <th>tfidf_2</th>\n",
       "      <th>tfidf_4</th>\n",
       "      <th>tfidf_5</th>\n",
       "      <th>tfidf_6</th>\n",
       "      <th>tfidf_7</th>\n",
       "      <th>tfidf_8</th>\n",
       "      <th>tfidf_9</th>\n",
       "    </tr>\n",
       "  </thead>\n",
       "  <tbody>\n",
       "    <tr>\n",
       "      <th>count</th>\n",
       "      <td>360878.000000</td>\n",
       "      <td>360878.000000</td>\n",
       "      <td>360878.000000</td>\n",
       "      <td>360878.000000</td>\n",
       "      <td>360878.000000</td>\n",
       "      <td>360878.000000</td>\n",
       "      <td>360878.000000</td>\n",
       "      <td>360878.000000</td>\n",
       "      <td>360878.000000</td>\n",
       "      <td>360878.000000</td>\n",
       "      <td>...</td>\n",
       "      <td>360878.000000</td>\n",
       "      <td>360878.000000</td>\n",
       "      <td>360878.000000</td>\n",
       "      <td>360878.000000</td>\n",
       "      <td>360878.000000</td>\n",
       "      <td>360878.000000</td>\n",
       "      <td>360878.000000</td>\n",
       "      <td>360878.000000</td>\n",
       "      <td>360878.000000</td>\n",
       "      <td>360878.000000</td>\n",
       "    </tr>\n",
       "    <tr>\n",
       "      <th>mean</th>\n",
       "      <td>0.918015</td>\n",
       "      <td>0.982548</td>\n",
       "      <td>0.344350</td>\n",
       "      <td>0.415980</td>\n",
       "      <td>0.661021</td>\n",
       "      <td>0.149782</td>\n",
       "      <td>0.549892</td>\n",
       "      <td>0.112526</td>\n",
       "      <td>0.187800</td>\n",
       "      <td>0.360535</td>\n",
       "      <td>...</td>\n",
       "      <td>0.531074</td>\n",
       "      <td>0.016233</td>\n",
       "      <td>0.000003</td>\n",
       "      <td>0.000795</td>\n",
       "      <td>0.963913</td>\n",
       "      <td>0.010059</td>\n",
       "      <td>0.018278</td>\n",
       "      <td>0.006745</td>\n",
       "      <td>0.000175</td>\n",
       "      <td>0.000033</td>\n",
       "    </tr>\n",
       "    <tr>\n",
       "      <th>std</th>\n",
       "      <td>0.063714</td>\n",
       "      <td>0.130948</td>\n",
       "      <td>0.217156</td>\n",
       "      <td>0.129407</td>\n",
       "      <td>0.181683</td>\n",
       "      <td>0.356858</td>\n",
       "      <td>0.497505</td>\n",
       "      <td>0.316012</td>\n",
       "      <td>0.390553</td>\n",
       "      <td>0.480156</td>\n",
       "      <td>...</td>\n",
       "      <td>0.499034</td>\n",
       "      <td>0.126369</td>\n",
       "      <td>0.001665</td>\n",
       "      <td>0.028190</td>\n",
       "      <td>0.186507</td>\n",
       "      <td>0.099788</td>\n",
       "      <td>0.133954</td>\n",
       "      <td>0.081849</td>\n",
       "      <td>0.013212</td>\n",
       "      <td>0.005766</td>\n",
       "    </tr>\n",
       "    <tr>\n",
       "      <th>min</th>\n",
       "      <td>0.000000</td>\n",
       "      <td>0.000000</td>\n",
       "      <td>0.000000</td>\n",
       "      <td>0.000000</td>\n",
       "      <td>0.000000</td>\n",
       "      <td>0.000000</td>\n",
       "      <td>0.000000</td>\n",
       "      <td>0.000000</td>\n",
       "      <td>0.000000</td>\n",
       "      <td>0.000000</td>\n",
       "      <td>...</td>\n",
       "      <td>0.000000</td>\n",
       "      <td>0.000000</td>\n",
       "      <td>0.000000</td>\n",
       "      <td>0.000000</td>\n",
       "      <td>0.000000</td>\n",
       "      <td>0.000000</td>\n",
       "      <td>0.000000</td>\n",
       "      <td>0.000000</td>\n",
       "      <td>0.000000</td>\n",
       "      <td>0.000000</td>\n",
       "    </tr>\n",
       "    <tr>\n",
       "      <th>25%</th>\n",
       "      <td>0.892562</td>\n",
       "      <td>1.000000</td>\n",
       "      <td>0.159063</td>\n",
       "      <td>0.331683</td>\n",
       "      <td>0.502049</td>\n",
       "      <td>0.000000</td>\n",
       "      <td>0.000000</td>\n",
       "      <td>0.000000</td>\n",
       "      <td>0.000000</td>\n",
       "      <td>0.000000</td>\n",
       "      <td>...</td>\n",
       "      <td>0.000000</td>\n",
       "      <td>0.000000</td>\n",
       "      <td>0.000000</td>\n",
       "      <td>0.000000</td>\n",
       "      <td>1.000000</td>\n",
       "      <td>0.000000</td>\n",
       "      <td>0.000000</td>\n",
       "      <td>0.000000</td>\n",
       "      <td>0.000000</td>\n",
       "      <td>0.000000</td>\n",
       "    </tr>\n",
       "    <tr>\n",
       "      <th>50%</th>\n",
       "      <td>0.933884</td>\n",
       "      <td>1.000000</td>\n",
       "      <td>0.332107</td>\n",
       "      <td>0.433417</td>\n",
       "      <td>0.723568</td>\n",
       "      <td>0.000000</td>\n",
       "      <td>1.000000</td>\n",
       "      <td>0.000000</td>\n",
       "      <td>0.000000</td>\n",
       "      <td>0.000000</td>\n",
       "      <td>...</td>\n",
       "      <td>1.000000</td>\n",
       "      <td>0.000000</td>\n",
       "      <td>0.000000</td>\n",
       "      <td>0.000000</td>\n",
       "      <td>1.000000</td>\n",
       "      <td>0.000000</td>\n",
       "      <td>0.000000</td>\n",
       "      <td>0.000000</td>\n",
       "      <td>0.000000</td>\n",
       "      <td>0.000000</td>\n",
       "    </tr>\n",
       "    <tr>\n",
       "      <th>75%</th>\n",
       "      <td>0.958678</td>\n",
       "      <td>1.000000</td>\n",
       "      <td>0.497038</td>\n",
       "      <td>0.502164</td>\n",
       "      <td>0.794958</td>\n",
       "      <td>0.000000</td>\n",
       "      <td>1.000000</td>\n",
       "      <td>0.000000</td>\n",
       "      <td>0.000000</td>\n",
       "      <td>1.000000</td>\n",
       "      <td>...</td>\n",
       "      <td>1.000000</td>\n",
       "      <td>0.000000</td>\n",
       "      <td>0.000000</td>\n",
       "      <td>0.000000</td>\n",
       "      <td>1.000000</td>\n",
       "      <td>0.000000</td>\n",
       "      <td>0.000000</td>\n",
       "      <td>0.000000</td>\n",
       "      <td>0.000000</td>\n",
       "      <td>0.000000</td>\n",
       "    </tr>\n",
       "    <tr>\n",
       "      <th>max</th>\n",
       "      <td>1.000000</td>\n",
       "      <td>1.000000</td>\n",
       "      <td>1.000000</td>\n",
       "      <td>1.000000</td>\n",
       "      <td>1.000000</td>\n",
       "      <td>1.000000</td>\n",
       "      <td>1.000000</td>\n",
       "      <td>1.000000</td>\n",
       "      <td>1.000000</td>\n",
       "      <td>1.000000</td>\n",
       "      <td>...</td>\n",
       "      <td>1.000000</td>\n",
       "      <td>1.000000</td>\n",
       "      <td>1.000000</td>\n",
       "      <td>1.000000</td>\n",
       "      <td>1.000000</td>\n",
       "      <td>1.000000</td>\n",
       "      <td>1.000000</td>\n",
       "      <td>1.000000</td>\n",
       "      <td>1.000000</td>\n",
       "      <td>1.000000</td>\n",
       "    </tr>\n",
       "  </tbody>\n",
       "</table>\n",
       "<p>8 rows × 102 columns</p>\n",
       "</div>"
      ],
      "text/plain": [
       "                year      condition       odometer            lat  \\\n",
       "count  360878.000000  360878.000000  360878.000000  360878.000000   \n",
       "mean        0.918015       0.982548       0.344350       0.415980   \n",
       "std         0.063714       0.130948       0.217156       0.129407   \n",
       "min         0.000000       0.000000       0.000000       0.000000   \n",
       "25%         0.892562       1.000000       0.159063       0.331683   \n",
       "50%         0.933884       1.000000       0.332107       0.433417   \n",
       "75%         0.958678       1.000000       0.497038       0.502164   \n",
       "max         1.000000       1.000000       1.000000       1.000000   \n",
       "\n",
       "                long    color_black    color_other   color_silver  \\\n",
       "count  360878.000000  360878.000000  360878.000000  360878.000000   \n",
       "mean        0.661021       0.149782       0.549892       0.112526   \n",
       "std         0.181683       0.356858       0.497505       0.316012   \n",
       "min         0.000000       0.000000       0.000000       0.000000   \n",
       "25%         0.502049       0.000000       0.000000       0.000000   \n",
       "50%         0.723568       0.000000       1.000000       0.000000   \n",
       "75%         0.794958       0.000000       1.000000       0.000000   \n",
       "max         1.000000       1.000000       1.000000       1.000000   \n",
       "\n",
       "         color_white      drive_4wd  ...  manuf_country_USA  \\\n",
       "count  360878.000000  360878.000000  ...      360878.000000   \n",
       "mean        0.187800       0.360535  ...           0.531074   \n",
       "std         0.390553       0.480156  ...           0.499034   \n",
       "min         0.000000       0.000000  ...           0.000000   \n",
       "25%         0.000000       0.000000  ...           0.000000   \n",
       "50%         0.000000       0.000000  ...           1.000000   \n",
       "75%         0.000000       1.000000  ...           1.000000   \n",
       "max         1.000000       1.000000  ...           1.000000   \n",
       "\n",
       "       manuf_country_missing        tfidf_0        tfidf_2        tfidf_4  \\\n",
       "count          360878.000000  360878.000000  360878.000000  360878.000000   \n",
       "mean                0.016233       0.000003       0.000795       0.963913   \n",
       "std                 0.126369       0.001665       0.028190       0.186507   \n",
       "min                 0.000000       0.000000       0.000000       0.000000   \n",
       "25%                 0.000000       0.000000       0.000000       1.000000   \n",
       "50%                 0.000000       0.000000       0.000000       1.000000   \n",
       "75%                 0.000000       0.000000       0.000000       1.000000   \n",
       "max                 1.000000       1.000000       1.000000       1.000000   \n",
       "\n",
       "             tfidf_5        tfidf_6        tfidf_7        tfidf_8  \\\n",
       "count  360878.000000  360878.000000  360878.000000  360878.000000   \n",
       "mean        0.010059       0.018278       0.006745       0.000175   \n",
       "std         0.099788       0.133954       0.081849       0.013212   \n",
       "min         0.000000       0.000000       0.000000       0.000000   \n",
       "25%         0.000000       0.000000       0.000000       0.000000   \n",
       "50%         0.000000       0.000000       0.000000       0.000000   \n",
       "75%         0.000000       0.000000       0.000000       0.000000   \n",
       "max         1.000000       1.000000       1.000000       1.000000   \n",
       "\n",
       "             tfidf_9  \n",
       "count  360878.000000  \n",
       "mean        0.000033  \n",
       "std         0.005766  \n",
       "min         0.000000  \n",
       "25%         0.000000  \n",
       "50%         0.000000  \n",
       "75%         0.000000  \n",
       "max         1.000000  \n",
       "\n",
       "[8 rows x 102 columns]"
      ]
     },
     "execution_count": 8,
     "metadata": {},
     "output_type": "execute_result"
    }
   ],
   "source": [
    "df.describe()"
   ]
  },
  {
   "cell_type": "code",
   "execution_count": 9,
   "metadata": {},
   "outputs": [],
   "source": [
    "X = df.values\n",
    "Y = Y.values"
   ]
  },
  {
   "cell_type": "code",
   "execution_count": 10,
   "metadata": {},
   "outputs": [
    {
     "name": "stdout",
     "output_type": "stream",
     "text": [
      "tfidf_0 0.9932464688457718\n",
      "tfidf_8 0.999305283598839\n",
      "state_az 0.8750186173272763\n",
      "state_fl 0.918583439145848\n",
      "state_in 0.5963011819382156\n",
      "state_sd 0.6309563543067018\n",
      "status_missing 0.5715321331452271\n",
      "state_wv 0.3468857249484032\n",
      "state_ne 0.3531512200261149\n",
      "state_co 0.3741460985337963\n",
      "state_nv 0.34785274422762624\n",
      "state_ky 0.3398544683884208\n",
      "tfidf_9 0.22426376622469202\n",
      "tfidf_5 0.41762493081053054\n",
      "state_de 0.09125000385827435\n",
      "state_ga 0.05727907874551588\n"
     ]
    }
   ],
   "source": [
    "remove = True\n",
    "while remove == True:\n",
    "    mod = sm.OLS(Y, df)\n",
    "    res = mod.fit()\n",
    "    pval = pd.DataFrame(res.pvalues)\n",
    "    if len(pval.loc[pval[0] > 0.05]) == 0:\n",
    "        remove = False\n",
    "    else:\n",
    "        worst_col =pval.loc[pval[0] > 0.05].T.columns[pval.loc[pval[0] > 0.05][0].argmax()]\n",
    "        print(worst_col , pval.loc[pval[0] > 0.05].max()[0])\n",
    "        df = df.drop([worst_col], axis = 1)\n",
    "        \n",
    "    "
   ]
  },
  {
   "cell_type": "code",
   "execution_count": 11,
   "metadata": {},
   "outputs": [
    {
     "data": {
      "text/html": [
       "<div>\n",
       "<style scoped>\n",
       "    .dataframe tbody tr th:only-of-type {\n",
       "        vertical-align: middle;\n",
       "    }\n",
       "\n",
       "    .dataframe tbody tr th {\n",
       "        vertical-align: top;\n",
       "    }\n",
       "\n",
       "    .dataframe thead th {\n",
       "        text-align: right;\n",
       "    }\n",
       "</style>\n",
       "<table border=\"1\" class=\"dataframe\">\n",
       "  <thead>\n",
       "    <tr style=\"text-align: right;\">\n",
       "      <th></th>\n",
       "      <th>0</th>\n",
       "    </tr>\n",
       "  </thead>\n",
       "  <tbody>\n",
       "  </tbody>\n",
       "</table>\n",
       "</div>"
      ],
      "text/plain": [
       "Empty DataFrame\n",
       "Columns: [0]\n",
       "Index: []"
      ]
     },
     "execution_count": 11,
     "metadata": {},
     "output_type": "execute_result"
    }
   ],
   "source": [
    "pval.loc[pval[0] > 0.05]"
   ]
  },
  {
   "cell_type": "code",
   "execution_count": 12,
   "metadata": {},
   "outputs": [
    {
     "data": {
      "text/plain": [
       "Index(['year', 'condition', 'odometer', 'lat', 'long', 'color_black',\n",
       "       'color_other', 'color_silver', 'color_white', 'drive_4wd', 'drive_fwd',\n",
       "       'drive_other', 'drive_rwd', 'transmission_automatic',\n",
       "       'transmission_manual', 'transmission_other', 'status_clean',\n",
       "       'status_lien', 'status_parts only', 'status_rebuilt', 'status_salvage',\n",
       "       'state_ak', 'state_al', 'state_ar', 'state_ca', 'state_ct', 'state_dc',\n",
       "       'state_hi', 'state_ia', 'state_id', 'state_il', 'state_ks', 'state_la',\n",
       "       'state_ma', 'state_md', 'state_me', 'state_mi', 'state_mn', 'state_mo',\n",
       "       'state_ms', 'state_mt', 'state_nc', 'state_nd', 'state_nh', 'state_nj',\n",
       "       'state_nm', 'state_ny', 'state_oh', 'state_ok', 'state_or', 'state_pa',\n",
       "       'state_ri', 'state_sc', 'state_tn', 'state_tx', 'state_ut', 'state_va',\n",
       "       'state_vt', 'state_wa', 'state_wi', 'state_wy', 'cylinders_4 cylinders',\n",
       "       'cylinders_6 cylinders', 'cylinders_8 cylinders', 'cylinders_missing',\n",
       "       'fuel_diesel', 'fuel_electric', 'fuel_gas', 'fuel_hybrid', 'fuel_other',\n",
       "       'usage_type_daily', 'usage_type_missing', 'usage_type_other',\n",
       "       'usage_type_professional', 'manuf_country_Germany',\n",
       "       'manuf_country_Italy', 'manuf_country_Japan', 'manuf_country_S.Korea',\n",
       "       'manuf_country_Sweden', 'manuf_country_UK', 'manuf_country_USA',\n",
       "       'manuf_country_missing', 'tfidf_2', 'tfidf_4', 'tfidf_6', 'tfidf_7'],\n",
       "      dtype='object')"
      ]
     },
     "execution_count": 12,
     "metadata": {},
     "output_type": "execute_result"
    }
   ],
   "source": [
    "df.columns"
   ]
  },
  {
   "cell_type": "markdown",
   "metadata": {},
   "source": [
    "## Predicting Log of Price"
   ]
  },
  {
   "cell_type": "code",
   "execution_count": 36,
   "metadata": {},
   "outputs": [],
   "source": [
    "#Train/test split\n",
    "X_train, X_test, y_train, y_test = train_test_split(X, np.log(Y), test_size=0.20, random_state=42)"
   ]
  },
  {
   "cell_type": "code",
   "execution_count": 37,
   "metadata": {},
   "outputs": [
    {
     "data": {
      "text/plain": [
       "(0.8067908068505781, 5.886040160882078e+18)"
      ]
     },
     "execution_count": 37,
     "metadata": {},
     "output_type": "execute_result"
    }
   ],
   "source": [
    "from sklearn.linear_model import LinearRegression\n",
    "reg = LinearRegression().fit(X_train, y_train)\n",
    "mean_squared_error(reg.predict(X_train), y_train), mean_squared_error(reg.predict(X_test), y_test)"
   ]
  },
  {
   "cell_type": "code",
   "execution_count": 47,
   "metadata": {},
   "outputs": [
    {
     "data": {
      "text/plain": [
       "<matplotlib.legend.Legend at 0x21a29e0c6c8>"
      ]
     },
     "execution_count": 47,
     "metadata": {},
     "output_type": "execute_result"
    },
    {
     "data": {
      "image/png": "[encoded data removed]",
      "text/plain": [
       "<Figure size 432x288 with 1 Axes>"
      ]
     },
     "metadata": {
      "needs_background": "light"
     },
     "output_type": "display_data"
    }
   ],
   "source": [
    "plt.plot(np.exp(y_test), label = \"True Prices\")\n",
    "# plt.plot(np.exp(reg.predict(X_test)))\n",
    "plt.plot(np.exp(reg.predict(X_test)),label =  \"Predicted Prices\")\n",
    "plt.xlim(0, 100)\n",
    "plt.legend()"
   ]
  },
  {
   "cell_type": "markdown",
   "metadata": {},
   "source": [
    "## KFold Cross Validation"
   ]
  },
  {
   "cell_type": "code",
   "execution_count": 16,
   "metadata": {},
   "outputs": [],
   "source": [
    "from sklearn.model_selection import KFold\n",
    "from sklearn.model_selection import cross_validate\n",
    "from sklearn.metrics import mean_squared_error\n",
    "from sklearn.linear_model import LinearRegression\n",
    "kf5 = KFold(n_splits=6, shuffle=False)\n"
   ]
  },
  {
   "cell_type": "code",
   "execution_count": 17,
   "metadata": {},
   "outputs": [],
   "source": [
    "def model(X_train, y_train, X_test, y_test, log):\n",
    "\n",
    "    reg = LinearRegression().fit(X_train, y_train)\n",
    "    if log == False:\n",
    "        return(mean_squared_error(reg.predict(X_train), y_train), mean_squared_error(reg.predict(X_test), y_test))\n",
    "    else:\n",
    "        return(mean_squared_error(np.exp(reg.predict(X_train)), np.exp(y_train)), mean_squared_error(np.exp(reg.predict(X_test)), np.exp(y_test)))"
   ]
  },
  {
   "cell_type": "code",
   "execution_count": 18,
   "metadata": {},
   "outputs": [],
   "source": [
    "def kfold_val(X, Y, log):\n",
    "    res = []\n",
    "    for index, (train_index, test_index) in enumerate(kf5.split(range(len(X)))):\n",
    "        if index < 5:\n",
    "            res.append(model(X[train_index], Y[train_index], X[test_index], Y[test_index], log))\n",
    "    return(np.array(res))"
   ]
  },
  {
   "cell_type": "code",
   "execution_count": 19,
   "metadata": {},
   "outputs": [],
   "source": [
    "kfold_res = kfold_val(X, Y, log = False)"
   ]
  },
  {
   "cell_type": "code",
   "execution_count": 20,
   "metadata": {},
   "outputs": [
    {
     "name": "stdout",
     "output_type": "stream",
     "text": [
      "Training MSE:  [52440349.7875111  51605970.02278116 54334066.794671   52403187.11205991\n",
      " 51938845.56539378]\n",
      "Testing MSE:  [5.35794747e+07 1.81666360e+25 4.44014501e+07 5.43560151e+07\n",
      " 5.61403093e+07]\n"
     ]
    }
   ],
   "source": [
    "print(\"Training MSE: \", kfold_res[:, 0])\n",
    "print(\"Testing MSE: \", kfold_res[:, 1])"
   ]
  },
  {
   "cell_type": "code",
   "execution_count": 21,
   "metadata": {},
   "outputs": [],
   "source": [
    "kfold_log = kfold_val(X, np.log(Y), log = True)"
   ]
  },
  {
   "cell_type": "code",
   "execution_count": 30,
   "metadata": {},
   "outputs": [
    {
     "name": "stdout",
     "output_type": "stream",
     "text": [
      "Training MSE:  7835.153822711693\n",
      "Testing MSE:  8166.315364879441\n"
     ]
    }
   ],
   "source": [
    "print(\"Training MSE: \",np.mean(np.sqrt(kfold_log[:, 0])))\n",
    "print(\"Testing MSE: \", np.mean(np.sqrt(kfold_log[:, 1])))"
   ]
  },
  {
   "cell_type": "markdown",
   "metadata": {},
   "source": [
    "## Interpret Error in predictions"
   ]
  },
  {
   "cell_type": "markdown",
   "metadata": {},
   "source": [
    "For normal price prediction"
   ]
  },
  {
   "cell_type": "code",
   "execution_count": 23,
   "metadata": {},
   "outputs": [
    {
     "name": "stdout",
     "output_type": "stream",
     "text": [
      "Can Expect an error in prediction of:  1065558426744  ±  1845601321223\n"
     ]
    }
   ],
   "source": [
    "print(\"Can Expect an error in prediction of: \", round(np.mean(np.sqrt(kfold_res[:-1, 1]))), \" ± \", round(np.std(np.sqrt(kfold_res[:-1, 1]))))"
   ]
  },
  {
   "cell_type": "markdown",
   "metadata": {},
   "source": [
    "For log price prediction"
   ]
  },
  {
   "cell_type": "code",
   "execution_count": 24,
   "metadata": {},
   "outputs": [
    {
     "name": "stdout",
     "output_type": "stream",
     "text": [
      "Can Expect an error in prediction of:  8069  ±  444\n"
     ]
    }
   ],
   "source": [
    "print(\"Can Expect an error in prediction of: \", round(np.mean(np.sqrt(kfold_log[:-1, 1]))), \" ± \", round(np.std(np.sqrt(kfold_log[:-1, 1]))))"
   ]
  },
  {
   "cell_type": "code",
   "execution_count": null,
   "metadata": {},
   "outputs": [],
   "source": []
  },
  {
   "cell_type": "code",
   "execution_count": null,
   "metadata": {},
   "outputs": [],
   "source": []
  }
 ],
 "metadata": {
  "kernelspec": {
   "display_name": "Python 3",
   "language": "python",
   "name": "python3"
  },
  "language_info": {
   "codemirror_mode": {
    "name": "ipython",
    "version": 3
   },
   "file_extension": ".py",
   "mimetype": "text/x-python",
   "name": "python",
   "nbconvert_exporter": "python",
   "pygments_lexer": "ipython3",
   "version": "3.7.9"
  }
 },
 "nbformat": 4,
 "nbformat_minor": 4
}
