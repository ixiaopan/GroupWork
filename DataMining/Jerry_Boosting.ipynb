{
 "cells": [
  {
   "cell_type": "markdown",
   "metadata": {},
   "source": [
    "# Boosting"
   ]
  },
  {
   "cell_type": "code",
   "execution_count": 1,
   "metadata": {},
   "outputs": [],
   "source": [
    "import numpy as np\n",
    "import pandas as pd\n",
    "import matplotlib.pyplot as plt\n",
    "import seaborn as sns\n",
    "%matplotlib inline\n",
    "\n",
    "import CleaningCars as cc\n",
    "\n",
    "from sklearn.metrics import mean_squared_error"
   ]
  },
  {
   "cell_type": "code",
   "execution_count": 2,
   "metadata": {},
   "outputs": [],
   "source": [
    "df=pd.read_csv('vehicles.csv')"
   ]
  },
  {
   "cell_type": "code",
   "execution_count": 3,
   "metadata": {},
   "outputs": [
    {
     "name": "stdout",
     "output_type": "stream",
     "text": [
      "Remove outliers...\n",
      "Remove outliers...\n",
      "Cleaned outliers !\n",
      "Imputed Missing Values\n",
      "One hot encodings done!\n",
      "Total Time:  9.702874823411305  minutes\n"
     ]
    }
   ],
   "source": [
    "df=cc.ultimateClean(df)"
   ]
  },
  {
   "cell_type": "code",
   "execution_count": 4,
   "metadata": {},
   "outputs": [],
   "source": [
    "from sklearn.preprocessing import StandardScaler\n",
    "\n",
    "#Standardise features\n",
    "cols_to_norm = ['year','odometer','lat','long']\n",
    "\n",
    "df[cols_to_norm] = StandardScaler().fit_transform(df[cols_to_norm])"
   ]
  },
  {
   "cell_type": "code",
   "execution_count": 5,
   "metadata": {},
   "outputs": [],
   "source": [
    "X=df.drop(\"price\",axis=1)\n",
    "y=df['price']"
   ]
  },
  {
   "cell_type": "code",
   "execution_count": 6,
   "metadata": {},
   "outputs": [
    {
     "data": {
      "text/plain": [
       "(388335, 102)"
      ]
     },
     "execution_count": 6,
     "metadata": {},
     "output_type": "execute_result"
    }
   ],
   "source": [
    "X.shape"
   ]
  },
  {
   "cell_type": "code",
   "execution_count": 7,
   "metadata": {},
   "outputs": [],
   "source": [
    "from sklearn.model_selection import train_test_split\n",
    "\n",
    "X_train, X_test, y_train, y_test = train_test_split(X, y, test_size=0.20, random_state=42)"
   ]
  },
  {
   "cell_type": "markdown",
   "metadata": {},
   "source": [
    "# XGboost"
   ]
  },
  {
   "cell_type": "code",
   "execution_count": 8,
   "metadata": {},
   "outputs": [
    {
     "name": "stdout",
     "output_type": "stream",
     "text": [
      "MSE on train set: 1681400.0488783927\n",
      "RMSE on train set: 1296.6881077878338\n",
      "\n",
      "MSE on test set:  18506914.684563376\n",
      "RMSE on test set:  4301.966374178601\n"
     ]
    }
   ],
   "source": [
    "import xgboost as xgb\n",
    "\n",
    "model = xgb.XGBRegressor(learning_rate = 0.1, \n",
    "                           max_depth = 20, \n",
    "                           alpha = 10, \n",
    "                           n_estimators = 200)\n",
    "\n",
    "model.fit(X_train,y_train)\n",
    "preds_train= model.predict(X_train)\n",
    "preds_test = model.predict(X_test)\n",
    "\n",
    "\n",
    "print(f\"MSE on train set: {mean_squared_error(y_train, preds_train)}\")\n",
    "print(f\"RMSE on train set: {mean_squared_error(y_train, preds_train)**0.5}\")\n",
    "print()\n",
    "print(f\"MSE on test set:  {mean_squared_error(y_test, preds_test)}\")\n",
    "print(f\"RMSE on test set:  {mean_squared_error(y_test, preds_test)**0.5}\")"
   ]
  },
  {
   "cell_type": "code",
   "execution_count": 9,
   "metadata": {},
   "outputs": [
    {
     "name": "stdout",
     "output_type": "stream",
     "text": [
      "[-4539.40832934 -4530.79744298 -4562.29798048 -4540.67763391\n",
      " -4538.37326659]\n",
      "RMSE CV: 4542.3109306609185\n"
     ]
    }
   ],
   "source": [
    "from sklearn.model_selection import cross_val_score\n",
    "\n",
    "model = xgb.XGBRegressor(learning_rate = 0.1, \n",
    "                           max_depth = 20, \n",
    "                           alpha = 10, \n",
    "                           n_estimators = 200)\n",
    "\n",
    "cv_score=cross_val_score(model, X_train, y_train, cv=5, scoring=\"neg_root_mean_squared_error\")\n",
    "\n",
    "\n",
    "print(cv_score)\n",
    "print(\"RMSE CV:\", -np.mean(cv_score))"
   ]
  },
  {
   "cell_type": "code",
   "execution_count": 10,
   "metadata": {},
   "outputs": [
    {
     "name": "stdout",
     "output_type": "stream",
     "text": [
      "MSE on train set: 1680198.6649892374\n",
      "RMSE on train set: 1296.224774099476\n",
      "\n",
      "MSE on test set:  18494230.29625137\n",
      "RMSE on test set:  4300.491866781214\n"
     ]
    }
   ],
   "source": [
    "#Set the lowest predicted value to zero (negative predicted values make no sense for price)\n",
    "import copy\n",
    "\n",
    "preds_train2 = copy.copy(preds_train)\n",
    "preds_test2 = copy.copy(preds_test)\n",
    "\n",
    "preds_train2[preds_train2 < 0] = 0\n",
    "preds_test2[preds_test2 < 0] = 0\n",
    "\n",
    "print(f\"MSE on train set: {mean_squared_error(y_train, preds_train2)}\")\n",
    "print(f\"RMSE on train set: {mean_squared_error(y_train, preds_train2)**0.5}\")\n",
    "print()\n",
    "print(f\"MSE on test set:  {mean_squared_error(y_test, preds_test2)}\")\n",
    "print(f\"RMSE on test set:  {mean_squared_error(y_test, preds_test2)**0.5}\")"
   ]
  },
  {
   "cell_type": "markdown",
   "metadata": {},
   "source": [
    "# LGBM"
   ]
  },
  {
   "cell_type": "code",
   "execution_count": 11,
   "metadata": {},
   "outputs": [
    {
     "name": "stdout",
     "output_type": "stream",
     "text": [
      "MSE on train set: 1450707.5653418957\n",
      "RMSE on train set: 1204.4532225627925\n",
      "\n",
      "MSE on test set:  17791916.687488742\n",
      "RMSE on test set:  4218.046548757937\n"
     ]
    }
   ],
   "source": [
    "import lightgbm as lgb\n",
    "\n",
    "model=lgb.LGBMRegressor(learning_rate=0.1,\n",
    "                        boosting_type=\"gbdt\",  \n",
    "                        objective=\"regression\",\n",
    "                        metric=\"mse\",\n",
    "                        num_leaves=2000,\n",
    "                        max_depth=40,\n",
    "                        n_estimators=1000)\n",
    "\n",
    "model.fit(X_train, y_train)\n",
    "\n",
    "preds_train=model.predict(X_train)\n",
    "preds_test=model.predict(X_test)\n",
    "\n",
    "\n",
    "print(f\"MSE on train set: {mean_squared_error(y_train, preds_train)}\")\n",
    "print(f\"RMSE on train set: {mean_squared_error(y_train, preds_train)**0.5}\")\n",
    "print()\n",
    "print(f\"MSE on test set:  {mean_squared_error(y_test, preds_test)}\")\n",
    "print(f\"RMSE on test set:  {mean_squared_error(y_test, preds_test)**0.5}\")"
   ]
  },
  {
   "cell_type": "code",
   "execution_count": 12,
   "metadata": {},
   "outputs": [
    {
     "name": "stdout",
     "output_type": "stream",
     "text": [
      "[-6575.27742835 -5899.6527421  -5654.14243284 -6246.97119738\n",
      " -7012.66697976]\n",
      "RMSE CV: 6277.742156086253\n"
     ]
    }
   ],
   "source": [
    "from sklearn.model_selection import cross_val_score\n",
    "\n",
    "model=lgb.LGBMRegressor(learning_rate=0.1,\n",
    "                        boosting_type=\"gbdt\",  \n",
    "                        objective=\"regression\",\n",
    "                        metric=\"mse\",\n",
    "                        num_leaves=2000,\n",
    "                        max_depth=40,\n",
    "                        n_estimators=1000)\n",
    "\n",
    "cv_score=cross_val_score(model, X, y, cv=5, scoring=\"neg_root_mean_squared_error\")\n",
    "\n",
    "print(cv_score)\n",
    "print(\"RMSE CV:\", -np.mean(cv_score))"
   ]
  },
  {
   "cell_type": "code",
   "execution_count": 13,
   "metadata": {},
   "outputs": [
    {
     "name": "stdout",
     "output_type": "stream",
     "text": [
      "MSE on train set: 1444229.6646083477\n",
      "RMSE on train set: 1201.761068019907\n",
      "\n",
      "MSE on test set:  17726394.436102573\n",
      "RMSE on test set:  4210.272489531119\n"
     ]
    }
   ],
   "source": [
    "#Set the lowest predicted value to zero (negative predicted values make no sense for price)\n",
    "import copy\n",
    "\n",
    "preds_train2 = copy.copy(preds_train)\n",
    "preds_test2 = copy.copy(preds_test)\n",
    "\n",
    "preds_train2[preds_train2 < 0] = 0\n",
    "preds_test2[preds_test2 < 0] = 0\n",
    "\n",
    "print(f\"MSE on train set: {mean_squared_error(y_train, preds_train2)}\")\n",
    "print(f\"RMSE on train set: {mean_squared_error(y_train, preds_train2)**0.5}\")\n",
    "print()\n",
    "print(f\"MSE on test set:  {mean_squared_error(y_test, preds_test2)}\")\n",
    "print(f\"RMSE on test set:  {mean_squared_error(y_test, preds_test2)**0.5}\")"
   ]
  },
  {
   "cell_type": "code",
   "execution_count": null,
   "metadata": {},
   "outputs": [],
   "source": []
  }
 ],
 "metadata": {
  "kernelspec": {
   "display_name": "Python 3",
   "language": "python",
   "name": "python3"
  },
  "language_info": {
   "codemirror_mode": {
    "name": "ipython",
    "version": 3
   },
   "file_extension": ".py",
   "mimetype": "text/x-python",
   "name": "python",
   "nbconvert_exporter": "python",
   "pygments_lexer": "ipython3",
   "version": "3.8.5"
  }
 },
 "nbformat": 4,
 "nbformat_minor": 4
}
