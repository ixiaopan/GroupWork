{
 "cells": [
  {
   "cell_type": "code",
   "execution_count": 1,
   "metadata": {},
   "outputs": [],
   "source": [
    "import os\n",
    "import pandas as pd\n",
    "import matplotlib.pyplot as plt\n",
    "from sklearn.metrics import mean_squared_error\n",
    "from sklearn import linear_model\n",
    "import numpy as np\n",
    "import CleaningCars as hf\n",
    "from sklearn.model_selection import train_test_split\n",
    "\n",
    "import statsmodels.api as sm"
   ]
  },
  {
   "cell_type": "code",
   "execution_count": 2,
   "metadata": {},
   "outputs": [],
   "source": [
    "def load_data():    \n",
    "    csv_path = os.path.join('data', 'vehicles.csv')\n",
    "    return pd.read_csv(csv_path)\n",
    "\n",
    "df = load_data()"
   ]
  },
  {
   "cell_type": "code",
   "execution_count": 3,
   "metadata": {},
   "outputs": [],
   "source": [
    "df = hf.remove_columns(df)"
   ]
  },
  {
   "cell_type": "code",
   "execution_count": 4,
   "metadata": {},
   "outputs": [
    {
     "data": {
      "text/plain": [
       "region               0\n",
       "price                0\n",
       "year              1050\n",
       "manufacturer     18220\n",
       "model             4846\n",
       "condition       192940\n",
       "cylinders       171140\n",
       "fuel              3237\n",
       "odometer         55303\n",
       "title_status      2577\n",
       "transmission      2442\n",
       "drive           134188\n",
       "type            112738\n",
       "paint_color     140843\n",
       "description         70\n",
       "state                0\n",
       "lat               7448\n",
       "long              7448\n",
       "posting_date        28\n",
       "dtype: int64"
      ]
     },
     "execution_count": 4,
     "metadata": {},
     "output_type": "execute_result"
    }
   ],
   "source": [
    "df.isnull().sum()"
   ]
  },
  {
   "cell_type": "code",
   "execution_count": 5,
   "metadata": {},
   "outputs": [],
   "source": [
    "df = hf.imputeManufacturer(df)\n",
    "df = hf.dateToDatetime(df)\n",
    "df = hf.basicImpute(df)\n",
    "df = hf.imputeMissingByManufacturer(df, col='fuel')\n",
    "df = hf.imputeMissingByManufacturer(df, col='transmission')\n",
    "df = hf.imputeOdometerByYear(df)\n"
   ]
  },
  {
   "cell_type": "code",
   "execution_count": 6,
   "metadata": {},
   "outputs": [
    {
     "data": {
      "text/plain": [
       "region               0\n",
       "price                0\n",
       "year              1050\n",
       "manufacturer     11915\n",
       "model             4846\n",
       "condition       192940\n",
       "cylinders       171140\n",
       "fuel               296\n",
       "odometer            28\n",
       "title_status      2577\n",
       "transmission       155\n",
       "drive           134188\n",
       "type            112738\n",
       "paint_color     140843\n",
       "description          0\n",
       "state                0\n",
       "lat               7448\n",
       "long              7448\n",
       "posting_date         0\n",
       "dtype: int64"
      ]
     },
     "execution_count": 6,
     "metadata": {},
     "output_type": "execute_result"
    }
   ],
   "source": [
    "df.isnull().sum()"
   ]
  },
  {
   "cell_type": "code",
   "execution_count": 7,
   "metadata": {},
   "outputs": [],
   "source": [
    "    df = df[df['year'].notna()]"
   ]
  },
  {
   "cell_type": "code",
   "execution_count": 8,
   "metadata": {},
   "outputs": [
    {
     "data": {
      "text/plain": [
       "region               0\n",
       "price                0\n",
       "year                 0\n",
       "manufacturer     11106\n",
       "model             4817\n",
       "condition       191892\n",
       "cylinders       171094\n",
       "fuel               140\n",
       "odometer             0\n",
       "title_status      2298\n",
       "transmission       127\n",
       "drive           133998\n",
       "type            112633\n",
       "paint_color     140740\n",
       "description          0\n",
       "state                0\n",
       "lat               7420\n",
       "long              7420\n",
       "posting_date         0\n",
       "dtype: int64"
      ]
     },
     "execution_count": 8,
     "metadata": {},
     "output_type": "execute_result"
    }
   ],
   "source": [
    "df.isnull().sum()"
   ]
  },
  {
   "cell_type": "code",
   "execution_count": 11,
   "metadata": {},
   "outputs": [
    {
     "name": "stdout",
     "output_type": "stream",
     "text": [
      "One hot encodings done!\n"
     ]
    }
   ],
   "source": [
    "df = hf.color_clean(df, color_list=['white','black','silver'])\n",
    "df = hf.drive_clean(df)\n",
    "df = hf.transmission_clean(df)\n",
    "df = hf.titlestatus_clean(df)\n",
    "df = hf.cleanLocationFeatures(df)\n",
    "print(\"One hot encodings done!\")"
   ]
  },
  {
   "cell_type": "code",
   "execution_count": 14,
   "metadata": {},
   "outputs": [
    {
     "data": {
      "text/plain": [
       "Index(['price', 'year', 'manufacturer', 'model', 'condition', 'cylinders',\n",
       "       'fuel', 'odometer', 'type', 'description', 'lat', 'long',\n",
       "       'posting_date', 'color_black', 'color_other', 'color_silver',\n",
       "       'color_white', 'drive_4wd', 'drive_fwd', 'drive_other', 'drive_rwd',\n",
       "       'transmission_automatic', 'transmission_manual', 'transmission_other',\n",
       "       'status_clean', 'status_lien', 'status_missing', 'status_parts only',\n",
       "       'status_rebuilt', 'status_salvage', 'state_ak', 'state_al', 'state_ar',\n",
       "       'state_az', 'state_ca', 'state_co', 'state_ct', 'state_dc', 'state_de',\n",
       "       'state_fl', 'state_ga', 'state_hi', 'state_ia', 'state_id', 'state_il',\n",
       "       'state_in', 'state_ks', 'state_ky', 'state_la', 'state_ma', 'state_md',\n",
       "       'state_me', 'state_mi', 'state_mn', 'state_mo', 'state_ms', 'state_mt',\n",
       "       'state_nc', 'state_nd', 'state_ne', 'state_nh', 'state_nj', 'state_nm',\n",
       "       'state_nv', 'state_ny', 'state_oh', 'state_ok', 'state_or', 'state_pa',\n",
       "       'state_ri', 'state_sc', 'state_sd', 'state_tn', 'state_tx', 'state_ut',\n",
       "       'state_va', 'state_vt', 'state_wa', 'state_wi', 'state_wv', 'state_wy'],\n",
       "      dtype='object')"
      ]
     },
     "execution_count": 14,
     "metadata": {},
     "output_type": "execute_result"
    }
   ],
   "source": [
    "df.columns"
   ]
  },
  {
   "cell_type": "code",
   "execution_count": 35,
   "metadata": {},
   "outputs": [
    {
     "data": {
      "text/html": [
       "<div>\n",
       "<style scoped>\n",
       "    .dataframe tbody tr th:only-of-type {\n",
       "        vertical-align: middle;\n",
       "    }\n",
       "\n",
       "    .dataframe tbody tr th {\n",
       "        vertical-align: top;\n",
       "    }\n",
       "\n",
       "    .dataframe thead th {\n",
       "        text-align: right;\n",
       "    }\n",
       "</style>\n",
       "<table border=\"1\" class=\"dataframe\">\n",
       "  <thead>\n",
       "    <tr style=\"text-align: right;\">\n",
       "      <th></th>\n",
       "      <th>10 cylinders</th>\n",
       "      <th>12 cylinders</th>\n",
       "      <th>3 cylinders</th>\n",
       "      <th>4 cylinders</th>\n",
       "      <th>5 cylinders</th>\n",
       "      <th>6 cylinders</th>\n",
       "      <th>8 cylinders</th>\n",
       "      <th>missing</th>\n",
       "      <th>other</th>\n",
       "    </tr>\n",
       "  </thead>\n",
       "  <tbody>\n",
       "    <tr>\n",
       "      <th>0</th>\n",
       "      <td>0</td>\n",
       "      <td>0</td>\n",
       "      <td>0</td>\n",
       "      <td>0</td>\n",
       "      <td>0</td>\n",
       "      <td>0</td>\n",
       "      <td>1</td>\n",
       "      <td>0</td>\n",
       "      <td>0</td>\n",
       "    </tr>\n",
       "    <tr>\n",
       "      <th>1</th>\n",
       "      <td>0</td>\n",
       "      <td>0</td>\n",
       "      <td>0</td>\n",
       "      <td>1</td>\n",
       "      <td>0</td>\n",
       "      <td>0</td>\n",
       "      <td>0</td>\n",
       "      <td>0</td>\n",
       "      <td>0</td>\n",
       "    </tr>\n",
       "    <tr>\n",
       "      <th>2</th>\n",
       "      <td>0</td>\n",
       "      <td>0</td>\n",
       "      <td>0</td>\n",
       "      <td>0</td>\n",
       "      <td>0</td>\n",
       "      <td>1</td>\n",
       "      <td>0</td>\n",
       "      <td>0</td>\n",
       "      <td>0</td>\n",
       "    </tr>\n",
       "    <tr>\n",
       "      <th>3</th>\n",
       "      <td>0</td>\n",
       "      <td>0</td>\n",
       "      <td>0</td>\n",
       "      <td>1</td>\n",
       "      <td>0</td>\n",
       "      <td>0</td>\n",
       "      <td>0</td>\n",
       "      <td>0</td>\n",
       "      <td>0</td>\n",
       "    </tr>\n",
       "    <tr>\n",
       "      <th>4</th>\n",
       "      <td>0</td>\n",
       "      <td>0</td>\n",
       "      <td>0</td>\n",
       "      <td>0</td>\n",
       "      <td>0</td>\n",
       "      <td>0</td>\n",
       "      <td>1</td>\n",
       "      <td>0</td>\n",
       "      <td>0</td>\n",
       "    </tr>\n",
       "    <tr>\n",
       "      <th>...</th>\n",
       "      <td>...</td>\n",
       "      <td>...</td>\n",
       "      <td>...</td>\n",
       "      <td>...</td>\n",
       "      <td>...</td>\n",
       "      <td>...</td>\n",
       "      <td>...</td>\n",
       "      <td>...</td>\n",
       "      <td>...</td>\n",
       "    </tr>\n",
       "    <tr>\n",
       "      <th>458208</th>\n",
       "      <td>0</td>\n",
       "      <td>0</td>\n",
       "      <td>0</td>\n",
       "      <td>0</td>\n",
       "      <td>0</td>\n",
       "      <td>1</td>\n",
       "      <td>0</td>\n",
       "      <td>0</td>\n",
       "      <td>0</td>\n",
       "    </tr>\n",
       "    <tr>\n",
       "      <th>458209</th>\n",
       "      <td>0</td>\n",
       "      <td>0</td>\n",
       "      <td>0</td>\n",
       "      <td>1</td>\n",
       "      <td>0</td>\n",
       "      <td>0</td>\n",
       "      <td>0</td>\n",
       "      <td>0</td>\n",
       "      <td>0</td>\n",
       "    </tr>\n",
       "    <tr>\n",
       "      <th>458210</th>\n",
       "      <td>0</td>\n",
       "      <td>0</td>\n",
       "      <td>0</td>\n",
       "      <td>0</td>\n",
       "      <td>0</td>\n",
       "      <td>1</td>\n",
       "      <td>0</td>\n",
       "      <td>0</td>\n",
       "      <td>0</td>\n",
       "    </tr>\n",
       "    <tr>\n",
       "      <th>458211</th>\n",
       "      <td>0</td>\n",
       "      <td>0</td>\n",
       "      <td>0</td>\n",
       "      <td>0</td>\n",
       "      <td>0</td>\n",
       "      <td>0</td>\n",
       "      <td>1</td>\n",
       "      <td>0</td>\n",
       "      <td>0</td>\n",
       "    </tr>\n",
       "    <tr>\n",
       "      <th>458212</th>\n",
       "      <td>0</td>\n",
       "      <td>0</td>\n",
       "      <td>0</td>\n",
       "      <td>0</td>\n",
       "      <td>0</td>\n",
       "      <td>0</td>\n",
       "      <td>0</td>\n",
       "      <td>1</td>\n",
       "      <td>0</td>\n",
       "    </tr>\n",
       "  </tbody>\n",
       "</table>\n",
       "<p>457163 rows × 9 columns</p>\n",
       "</div>"
      ],
      "text/plain": [
       "        10 cylinders  12 cylinders  3 cylinders  4 cylinders  5 cylinders  \\\n",
       "0                  0             0            0            0            0   \n",
       "1                  0             0            0            1            0   \n",
       "2                  0             0            0            0            0   \n",
       "3                  0             0            0            1            0   \n",
       "4                  0             0            0            0            0   \n",
       "...              ...           ...          ...          ...          ...   \n",
       "458208             0             0            0            0            0   \n",
       "458209             0             0            0            1            0   \n",
       "458210             0             0            0            0            0   \n",
       "458211             0             0            0            0            0   \n",
       "458212             0             0            0            0            0   \n",
       "\n",
       "        6 cylinders  8 cylinders  missing  other  \n",
       "0                 0            1        0      0  \n",
       "1                 0            0        0      0  \n",
       "2                 1            0        0      0  \n",
       "3                 0            0        0      0  \n",
       "4                 0            1        0      0  \n",
       "...             ...          ...      ...    ...  \n",
       "458208            1            0        0      0  \n",
       "458209            0            0        0      0  \n",
       "458210            1            0        0      0  \n",
       "458211            0            1        0      0  \n",
       "458212            0            0        1      0  \n",
       "\n",
       "[457163 rows x 9 columns]"
      ]
     },
     "execution_count": 35,
     "metadata": {},
     "output_type": "execute_result"
    }
   ],
   "source": [
    "pd.get_dummies(df[\"cylinders\"])"
   ]
  },
  {
   "cell_type": "code",
   "execution_count": 36,
   "metadata": {},
   "outputs": [],
   "source": [
    "df[\"cylinders\"] = df[\"cylinders\"].fillna(\"missing\")"
   ]
  },
  {
   "cell_type": "code",
   "execution_count": 40,
   "metadata": {},
   "outputs": [
    {
     "data": {
      "text/html": [
       "<div>\n",
       "<style scoped>\n",
       "    .dataframe tbody tr th:only-of-type {\n",
       "        vertical-align: middle;\n",
       "    }\n",
       "\n",
       "    .dataframe tbody tr th {\n",
       "        vertical-align: top;\n",
       "    }\n",
       "\n",
       "    .dataframe thead th {\n",
       "        text-align: right;\n",
       "    }\n",
       "</style>\n",
       "<table border=\"1\" class=\"dataframe\">\n",
       "  <thead>\n",
       "    <tr style=\"text-align: right;\">\n",
       "      <th></th>\n",
       "      <th>price</th>\n",
       "      <th>year</th>\n",
       "      <th>manufacturer</th>\n",
       "      <th>model</th>\n",
       "      <th>condition</th>\n",
       "      <th>fuel</th>\n",
       "      <th>odometer</th>\n",
       "      <th>type</th>\n",
       "      <th>description</th>\n",
       "      <th>lat</th>\n",
       "      <th>...</th>\n",
       "      <th>state_va</th>\n",
       "      <th>state_vt</th>\n",
       "      <th>state_wa</th>\n",
       "      <th>state_wi</th>\n",
       "      <th>state_wv</th>\n",
       "      <th>state_wy</th>\n",
       "      <th>cylinders_4 cylinders</th>\n",
       "      <th>cylinders_6 cylinders</th>\n",
       "      <th>cylinders_8 cylinders</th>\n",
       "      <th>cylinders_missing</th>\n",
       "    </tr>\n",
       "  </thead>\n",
       "  <tbody>\n",
       "    <tr>\n",
       "      <th>0</th>\n",
       "      <td>35990</td>\n",
       "      <td>2010.0</td>\n",
       "      <td>chevrolet</td>\n",
       "      <td>corvette grand sport</td>\n",
       "      <td>good</td>\n",
       "      <td>gas</td>\n",
       "      <td>32742.0</td>\n",
       "      <td>other</td>\n",
       "      <td>Carvana is the safer way to buy a car During t...</td>\n",
       "      <td>32.590000</td>\n",
       "      <td>...</td>\n",
       "      <td>0</td>\n",
       "      <td>0</td>\n",
       "      <td>0</td>\n",
       "      <td>0</td>\n",
       "      <td>0</td>\n",
       "      <td>0</td>\n",
       "      <td>0</td>\n",
       "      <td>0</td>\n",
       "      <td>1</td>\n",
       "      <td>0</td>\n",
       "    </tr>\n",
       "    <tr>\n",
       "      <th>1</th>\n",
       "      <td>7500</td>\n",
       "      <td>2014.0</td>\n",
       "      <td>hyundai</td>\n",
       "      <td>sonata</td>\n",
       "      <td>excellent</td>\n",
       "      <td>gas</td>\n",
       "      <td>93600.0</td>\n",
       "      <td>sedan</td>\n",
       "      <td>I'll move to another city and try to sell my c...</td>\n",
       "      <td>32.547500</td>\n",
       "      <td>...</td>\n",
       "      <td>0</td>\n",
       "      <td>0</td>\n",
       "      <td>0</td>\n",
       "      <td>0</td>\n",
       "      <td>0</td>\n",
       "      <td>0</td>\n",
       "      <td>1</td>\n",
       "      <td>0</td>\n",
       "      <td>0</td>\n",
       "      <td>0</td>\n",
       "    </tr>\n",
       "    <tr>\n",
       "      <th>2</th>\n",
       "      <td>4900</td>\n",
       "      <td>2006.0</td>\n",
       "      <td>bmw</td>\n",
       "      <td>x3 3.0i</td>\n",
       "      <td>good</td>\n",
       "      <td>gas</td>\n",
       "      <td>87046.0</td>\n",
       "      <td>SUV</td>\n",
       "      <td>Clean 2006 BMW X3 3.0I.  Beautiful and rare Bl...</td>\n",
       "      <td>32.616807</td>\n",
       "      <td>...</td>\n",
       "      <td>0</td>\n",
       "      <td>0</td>\n",
       "      <td>0</td>\n",
       "      <td>0</td>\n",
       "      <td>0</td>\n",
       "      <td>0</td>\n",
       "      <td>0</td>\n",
       "      <td>1</td>\n",
       "      <td>0</td>\n",
       "      <td>0</td>\n",
       "    </tr>\n",
       "    <tr>\n",
       "      <th>3</th>\n",
       "      <td>2000</td>\n",
       "      <td>1974.0</td>\n",
       "      <td>chevrolet</td>\n",
       "      <td>c-10</td>\n",
       "      <td>good</td>\n",
       "      <td>gas</td>\n",
       "      <td>190000.0</td>\n",
       "      <td>pickup</td>\n",
       "      <td>1974 chev. truck (LONG BED) NEW starter front ...</td>\n",
       "      <td>32.861600</td>\n",
       "      <td>...</td>\n",
       "      <td>0</td>\n",
       "      <td>0</td>\n",
       "      <td>0</td>\n",
       "      <td>0</td>\n",
       "      <td>0</td>\n",
       "      <td>0</td>\n",
       "      <td>1</td>\n",
       "      <td>0</td>\n",
       "      <td>0</td>\n",
       "      <td>0</td>\n",
       "    </tr>\n",
       "    <tr>\n",
       "      <th>4</th>\n",
       "      <td>19500</td>\n",
       "      <td>2005.0</td>\n",
       "      <td>ford</td>\n",
       "      <td>f350 lariat</td>\n",
       "      <td>excellent</td>\n",
       "      <td>diesel</td>\n",
       "      <td>116000.0</td>\n",
       "      <td>pickup</td>\n",
       "      <td>2005 Ford F350 Lariat (Bullet Proofed). This t...</td>\n",
       "      <td>32.547500</td>\n",
       "      <td>...</td>\n",
       "      <td>0</td>\n",
       "      <td>0</td>\n",
       "      <td>0</td>\n",
       "      <td>0</td>\n",
       "      <td>0</td>\n",
       "      <td>0</td>\n",
       "      <td>0</td>\n",
       "      <td>0</td>\n",
       "      <td>1</td>\n",
       "      <td>0</td>\n",
       "    </tr>\n",
       "    <tr>\n",
       "      <th>...</th>\n",
       "      <td>...</td>\n",
       "      <td>...</td>\n",
       "      <td>...</td>\n",
       "      <td>...</td>\n",
       "      <td>...</td>\n",
       "      <td>...</td>\n",
       "      <td>...</td>\n",
       "      <td>...</td>\n",
       "      <td>...</td>\n",
       "      <td>...</td>\n",
       "      <td>...</td>\n",
       "      <td>...</td>\n",
       "      <td>...</td>\n",
       "      <td>...</td>\n",
       "      <td>...</td>\n",
       "      <td>...</td>\n",
       "      <td>...</td>\n",
       "      <td>...</td>\n",
       "      <td>...</td>\n",
       "      <td>...</td>\n",
       "      <td>...</td>\n",
       "    </tr>\n",
       "    <tr>\n",
       "      <th>458208</th>\n",
       "      <td>14995</td>\n",
       "      <td>2014.0</td>\n",
       "      <td>cadillac</td>\n",
       "      <td>srx</td>\n",
       "      <td>excellent</td>\n",
       "      <td>gas</td>\n",
       "      <td>83790.0</td>\n",
       "      <td>SUV</td>\n",
       "      <td>2014 Cadillac SRX All Wheel Drive Luxury Colle...</td>\n",
       "      <td>44.408867</td>\n",
       "      <td>...</td>\n",
       "      <td>0</td>\n",
       "      <td>0</td>\n",
       "      <td>0</td>\n",
       "      <td>1</td>\n",
       "      <td>0</td>\n",
       "      <td>0</td>\n",
       "      <td>0</td>\n",
       "      <td>1</td>\n",
       "      <td>0</td>\n",
       "      <td>0</td>\n",
       "    </tr>\n",
       "    <tr>\n",
       "      <th>458209</th>\n",
       "      <td>17895</td>\n",
       "      <td>2018.0</td>\n",
       "      <td>hyundai</td>\n",
       "      <td>tucson</td>\n",
       "      <td>excellent</td>\n",
       "      <td>gas</td>\n",
       "      <td>31888.0</td>\n",
       "      <td>SUV</td>\n",
       "      <td>2018 Hyundai Tucson SE 2.0 I4 AWD.  Carfax ver...</td>\n",
       "      <td>44.408867</td>\n",
       "      <td>...</td>\n",
       "      <td>0</td>\n",
       "      <td>0</td>\n",
       "      <td>0</td>\n",
       "      <td>1</td>\n",
       "      <td>0</td>\n",
       "      <td>0</td>\n",
       "      <td>1</td>\n",
       "      <td>0</td>\n",
       "      <td>0</td>\n",
       "      <td>0</td>\n",
       "    </tr>\n",
       "    <tr>\n",
       "      <th>458210</th>\n",
       "      <td>17900</td>\n",
       "      <td>2014.0</td>\n",
       "      <td>cadillac</td>\n",
       "      <td>cts coupe awd</td>\n",
       "      <td>excellent</td>\n",
       "      <td>gas</td>\n",
       "      <td>53000.0</td>\n",
       "      <td>coupe</td>\n",
       "      <td>53,000 miles. Cosmetically, in near mint condi...</td>\n",
       "      <td>44.784900</td>\n",
       "      <td>...</td>\n",
       "      <td>0</td>\n",
       "      <td>0</td>\n",
       "      <td>0</td>\n",
       "      <td>0</td>\n",
       "      <td>0</td>\n",
       "      <td>1</td>\n",
       "      <td>0</td>\n",
       "      <td>1</td>\n",
       "      <td>0</td>\n",
       "      <td>0</td>\n",
       "    </tr>\n",
       "    <tr>\n",
       "      <th>458211</th>\n",
       "      <td>1300</td>\n",
       "      <td>2008.0</td>\n",
       "      <td>jeep</td>\n",
       "      <td>grand cherokee</td>\n",
       "      <td>good</td>\n",
       "      <td>gas</td>\n",
       "      <td>164000.0</td>\n",
       "      <td>SUV</td>\n",
       "      <td>PRICE REDUCTION  Turns out the engine is toast...</td>\n",
       "      <td>44.773500</td>\n",
       "      <td>...</td>\n",
       "      <td>0</td>\n",
       "      <td>0</td>\n",
       "      <td>0</td>\n",
       "      <td>0</td>\n",
       "      <td>0</td>\n",
       "      <td>1</td>\n",
       "      <td>0</td>\n",
       "      <td>0</td>\n",
       "      <td>1</td>\n",
       "      <td>0</td>\n",
       "    </tr>\n",
       "    <tr>\n",
       "      <th>458212</th>\n",
       "      <td>22900</td>\n",
       "      <td>2008.0</td>\n",
       "      <td>International DuraStar, America</td>\n",
       "      <td>International 4300</td>\n",
       "      <td>NaN</td>\n",
       "      <td>diesel</td>\n",
       "      <td>164000.0</td>\n",
       "      <td>NaN</td>\n",
       "      <td>*** SHIPPING AVAILABLE DIRECTLY TO YOU. CALL F...</td>\n",
       "      <td>42.117656</td>\n",
       "      <td>...</td>\n",
       "      <td>0</td>\n",
       "      <td>0</td>\n",
       "      <td>0</td>\n",
       "      <td>0</td>\n",
       "      <td>0</td>\n",
       "      <td>1</td>\n",
       "      <td>0</td>\n",
       "      <td>0</td>\n",
       "      <td>0</td>\n",
       "      <td>1</td>\n",
       "    </tr>\n",
       "  </tbody>\n",
       "</table>\n",
       "<p>457163 rows × 84 columns</p>\n",
       "</div>"
      ],
      "text/plain": [
       "        price    year                     manufacturer                 model  \\\n",
       "0       35990  2010.0                        chevrolet  corvette grand sport   \n",
       "1        7500  2014.0                          hyundai                sonata   \n",
       "2        4900  2006.0                              bmw               x3 3.0i   \n",
       "3        2000  1974.0                        chevrolet                  c-10   \n",
       "4       19500  2005.0                             ford           f350 lariat   \n",
       "...       ...     ...                              ...                   ...   \n",
       "458208  14995  2014.0                         cadillac                   srx   \n",
       "458209  17895  2018.0                          hyundai                tucson   \n",
       "458210  17900  2014.0                         cadillac         cts coupe awd   \n",
       "458211   1300  2008.0                             jeep        grand cherokee   \n",
       "458212  22900  2008.0  International DuraStar, America    International 4300   \n",
       "\n",
       "        condition    fuel  odometer    type  \\\n",
       "0            good     gas   32742.0   other   \n",
       "1       excellent     gas   93600.0   sedan   \n",
       "2            good     gas   87046.0     SUV   \n",
       "3            good     gas  190000.0  pickup   \n",
       "4       excellent  diesel  116000.0  pickup   \n",
       "...           ...     ...       ...     ...   \n",
       "458208  excellent     gas   83790.0     SUV   \n",
       "458209  excellent     gas   31888.0     SUV   \n",
       "458210  excellent     gas   53000.0   coupe   \n",
       "458211       good     gas  164000.0     SUV   \n",
       "458212        NaN  diesel  164000.0     NaN   \n",
       "\n",
       "                                              description        lat  ...  \\\n",
       "0       Carvana is the safer way to buy a car During t...  32.590000  ...   \n",
       "1       I'll move to another city and try to sell my c...  32.547500  ...   \n",
       "2       Clean 2006 BMW X3 3.0I.  Beautiful and rare Bl...  32.616807  ...   \n",
       "3       1974 chev. truck (LONG BED) NEW starter front ...  32.861600  ...   \n",
       "4       2005 Ford F350 Lariat (Bullet Proofed). This t...  32.547500  ...   \n",
       "...                                                   ...        ...  ...   \n",
       "458208  2014 Cadillac SRX All Wheel Drive Luxury Colle...  44.408867  ...   \n",
       "458209  2018 Hyundai Tucson SE 2.0 I4 AWD.  Carfax ver...  44.408867  ...   \n",
       "458210  53,000 miles. Cosmetically, in near mint condi...  44.784900  ...   \n",
       "458211  PRICE REDUCTION  Turns out the engine is toast...  44.773500  ...   \n",
       "458212  *** SHIPPING AVAILABLE DIRECTLY TO YOU. CALL F...  42.117656  ...   \n",
       "\n",
       "        state_va state_vt  state_wa  state_wi  state_wv  state_wy  \\\n",
       "0              0        0         0         0         0         0   \n",
       "1              0        0         0         0         0         0   \n",
       "2              0        0         0         0         0         0   \n",
       "3              0        0         0         0         0         0   \n",
       "4              0        0         0         0         0         0   \n",
       "...          ...      ...       ...       ...       ...       ...   \n",
       "458208         0        0         0         1         0         0   \n",
       "458209         0        0         0         1         0         0   \n",
       "458210         0        0         0         0         0         1   \n",
       "458211         0        0         0         0         0         1   \n",
       "458212         0        0         0         0         0         1   \n",
       "\n",
       "        cylinders_4 cylinders  cylinders_6 cylinders  cylinders_8 cylinders  \\\n",
       "0                           0                      0                      1   \n",
       "1                           1                      0                      0   \n",
       "2                           0                      1                      0   \n",
       "3                           1                      0                      0   \n",
       "4                           0                      0                      1   \n",
       "...                       ...                    ...                    ...   \n",
       "458208                      0                      1                      0   \n",
       "458209                      1                      0                      0   \n",
       "458210                      0                      1                      0   \n",
       "458211                      0                      0                      1   \n",
       "458212                      0                      0                      0   \n",
       "\n",
       "        cylinders_missing  \n",
       "0                       0  \n",
       "1                       0  \n",
       "2                       0  \n",
       "3                       0  \n",
       "4                       0  \n",
       "...                   ...  \n",
       "458208                  0  \n",
       "458209                  0  \n",
       "458210                  0  \n",
       "458211                  0  \n",
       "458212                  1  \n",
       "\n",
       "[457163 rows x 84 columns]"
      ]
     },
     "execution_count": 40,
     "metadata": {},
     "output_type": "execute_result"
    }
   ],
   "source": [
    "pd.get_dummies(df, columns = [\"cylinders\"]).drop([\"cylinders_12 cylinders\", \"cylinders_10 cylinders\", \"cylinders_3 cylinders\", \"cylinders_5 cylinders\", \"cylinders_other\"], axis = 1)"
   ]
  },
  {
   "cell_type": "code",
   "execution_count": null,
   "metadata": {},
   "outputs": [],
   "source": []
  },
  {
   "cell_type": "code",
   "execution_count": null,
   "metadata": {},
   "outputs": [],
   "source": []
  },
  {
   "cell_type": "code",
   "execution_count": null,
   "metadata": {},
   "outputs": [],
   "source": []
  },
  {
   "cell_type": "code",
   "execution_count": null,
   "metadata": {},
   "outputs": [],
   "source": []
  },
  {
   "cell_type": "markdown",
   "metadata": {},
   "source": [
    "# CLEANING FUNCTION"
   ]
  },
  {
   "cell_type": "code",
   "execution_count": 3,
   "metadata": {},
   "outputs": [
    {
     "name": "stdout",
     "output_type": "stream",
     "text": [
      "Remove outliers...\n",
      "Remove outliers...\n",
      "Cleaned outliers !\n",
      "Imputed Missing Values\n",
      "One hot encodings done!\n",
      "Total Time:  6.068484743436177  minutes\n"
     ]
    }
   ],
   "source": [
    "df_processed = hf.ultimateClean(df)"
   ]
  },
  {
   "cell_type": "code",
   "execution_count": 4,
   "metadata": {},
   "outputs": [
    {
     "data": {
      "text/html": [
       "<div>\n",
       "<style scoped>\n",
       "    .dataframe tbody tr th:only-of-type {\n",
       "        vertical-align: middle;\n",
       "    }\n",
       "\n",
       "    .dataframe tbody tr th {\n",
       "        vertical-align: top;\n",
       "    }\n",
       "\n",
       "    .dataframe thead th {\n",
       "        text-align: right;\n",
       "    }\n",
       "</style>\n",
       "<table border=\"1\" class=\"dataframe\">\n",
       "  <thead>\n",
       "    <tr style=\"text-align: right;\">\n",
       "      <th></th>\n",
       "      <th>price</th>\n",
       "      <th>year</th>\n",
       "      <th>condition</th>\n",
       "      <th>odometer</th>\n",
       "      <th>lat</th>\n",
       "      <th>long</th>\n",
       "      <th>color_black</th>\n",
       "      <th>color_other</th>\n",
       "      <th>color_silver</th>\n",
       "      <th>color_white</th>\n",
       "      <th>...</th>\n",
       "      <th>fuel_hybrid</th>\n",
       "      <th>fuel_other</th>\n",
       "      <th>tfidf_0</th>\n",
       "      <th>tfidf_2</th>\n",
       "      <th>tfidf_4</th>\n",
       "      <th>tfidf_5</th>\n",
       "      <th>tfidf_6</th>\n",
       "      <th>tfidf_7</th>\n",
       "      <th>tfidf_8</th>\n",
       "      <th>tfidf_9</th>\n",
       "    </tr>\n",
       "  </thead>\n",
       "  <tbody>\n",
       "    <tr>\n",
       "      <th>0</th>\n",
       "      <td>35990</td>\n",
       "      <td>2010.0</td>\n",
       "      <td>1</td>\n",
       "      <td>32742.0</td>\n",
       "      <td>32.590000</td>\n",
       "      <td>-85.480000</td>\n",
       "      <td>0</td>\n",
       "      <td>1</td>\n",
       "      <td>0</td>\n",
       "      <td>0</td>\n",
       "      <td>...</td>\n",
       "      <td>0</td>\n",
       "      <td>0</td>\n",
       "      <td>0</td>\n",
       "      <td>0</td>\n",
       "      <td>1</td>\n",
       "      <td>0</td>\n",
       "      <td>0</td>\n",
       "      <td>0</td>\n",
       "      <td>0</td>\n",
       "      <td>0</td>\n",
       "    </tr>\n",
       "    <tr>\n",
       "      <th>1</th>\n",
       "      <td>7500</td>\n",
       "      <td>2014.0</td>\n",
       "      <td>1</td>\n",
       "      <td>93600.0</td>\n",
       "      <td>32.547500</td>\n",
       "      <td>-85.468200</td>\n",
       "      <td>0</td>\n",
       "      <td>1</td>\n",
       "      <td>0</td>\n",
       "      <td>0</td>\n",
       "      <td>...</td>\n",
       "      <td>0</td>\n",
       "      <td>0</td>\n",
       "      <td>0</td>\n",
       "      <td>0</td>\n",
       "      <td>1</td>\n",
       "      <td>0</td>\n",
       "      <td>0</td>\n",
       "      <td>0</td>\n",
       "      <td>0</td>\n",
       "      <td>0</td>\n",
       "    </tr>\n",
       "    <tr>\n",
       "      <th>2</th>\n",
       "      <td>4900</td>\n",
       "      <td>2006.0</td>\n",
       "      <td>1</td>\n",
       "      <td>87046.0</td>\n",
       "      <td>32.616807</td>\n",
       "      <td>-85.464149</td>\n",
       "      <td>0</td>\n",
       "      <td>1</td>\n",
       "      <td>0</td>\n",
       "      <td>0</td>\n",
       "      <td>...</td>\n",
       "      <td>0</td>\n",
       "      <td>0</td>\n",
       "      <td>0</td>\n",
       "      <td>0</td>\n",
       "      <td>1</td>\n",
       "      <td>0</td>\n",
       "      <td>0</td>\n",
       "      <td>0</td>\n",
       "      <td>0</td>\n",
       "      <td>0</td>\n",
       "    </tr>\n",
       "    <tr>\n",
       "      <th>3</th>\n",
       "      <td>2000</td>\n",
       "      <td>1974.0</td>\n",
       "      <td>1</td>\n",
       "      <td>190000.0</td>\n",
       "      <td>32.861600</td>\n",
       "      <td>-85.216100</td>\n",
       "      <td>0</td>\n",
       "      <td>1</td>\n",
       "      <td>0</td>\n",
       "      <td>0</td>\n",
       "      <td>...</td>\n",
       "      <td>0</td>\n",
       "      <td>0</td>\n",
       "      <td>0</td>\n",
       "      <td>0</td>\n",
       "      <td>1</td>\n",
       "      <td>0</td>\n",
       "      <td>0</td>\n",
       "      <td>0</td>\n",
       "      <td>0</td>\n",
       "      <td>0</td>\n",
       "    </tr>\n",
       "    <tr>\n",
       "      <th>4</th>\n",
       "      <td>19500</td>\n",
       "      <td>2005.0</td>\n",
       "      <td>1</td>\n",
       "      <td>116000.0</td>\n",
       "      <td>32.547500</td>\n",
       "      <td>-85.468200</td>\n",
       "      <td>0</td>\n",
       "      <td>1</td>\n",
       "      <td>0</td>\n",
       "      <td>0</td>\n",
       "      <td>...</td>\n",
       "      <td>0</td>\n",
       "      <td>0</td>\n",
       "      <td>0</td>\n",
       "      <td>0</td>\n",
       "      <td>1</td>\n",
       "      <td>0</td>\n",
       "      <td>0</td>\n",
       "      <td>0</td>\n",
       "      <td>0</td>\n",
       "      <td>0</td>\n",
       "    </tr>\n",
       "  </tbody>\n",
       "</table>\n",
       "<p>5 rows × 91 columns</p>\n",
       "</div>"
      ],
      "text/plain": [
       "   price    year  condition  odometer        lat       long  color_black  \\\n",
       "0  35990  2010.0          1   32742.0  32.590000 -85.480000            0   \n",
       "1   7500  2014.0          1   93600.0  32.547500 -85.468200            0   \n",
       "2   4900  2006.0          1   87046.0  32.616807 -85.464149            0   \n",
       "3   2000  1974.0          1  190000.0  32.861600 -85.216100            0   \n",
       "4  19500  2005.0          1  116000.0  32.547500 -85.468200            0   \n",
       "\n",
       "   color_other  color_silver  color_white  ...  fuel_hybrid  fuel_other  \\\n",
       "0            1             0            0  ...            0           0   \n",
       "1            1             0            0  ...            0           0   \n",
       "2            1             0            0  ...            0           0   \n",
       "3            1             0            0  ...            0           0   \n",
       "4            1             0            0  ...            0           0   \n",
       "\n",
       "   tfidf_0  tfidf_2  tfidf_4  tfidf_5  tfidf_6  tfidf_7  tfidf_8  tfidf_9  \n",
       "0        0        0        1        0        0        0        0        0  \n",
       "1        0        0        1        0        0        0        0        0  \n",
       "2        0        0        1        0        0        0        0        0  \n",
       "3        0        0        1        0        0        0        0        0  \n",
       "4        0        0        1        0        0        0        0        0  \n",
       "\n",
       "[5 rows x 91 columns]"
      ]
     },
     "execution_count": 4,
     "metadata": {},
     "output_type": "execute_result"
    }
   ],
   "source": [
    "df_processed.head()"
   ]
  },
  {
   "cell_type": "code",
   "execution_count": 5,
   "metadata": {},
   "outputs": [
    {
     "data": {
      "text/plain": [
       "Index(['price', 'year', 'condition', 'odometer', 'lat', 'long', 'color_black',\n",
       "       'color_other', 'color_silver', 'color_white', 'drive_4wd', 'drive_fwd',\n",
       "       'drive_other', 'drive_rwd', 'transmission_automatic',\n",
       "       'transmission_manual', 'transmission_other', 'status_clean',\n",
       "       'status_lien', 'status_missing', 'status_parts only', 'status_rebuilt',\n",
       "       'status_salvage', 'state_ak', 'state_al', 'state_ar', 'state_az',\n",
       "       'state_ca', 'state_co', 'state_ct', 'state_dc', 'state_de', 'state_fl',\n",
       "       'state_ga', 'state_hi', 'state_ia', 'state_id', 'state_il', 'state_in',\n",
       "       'state_ks', 'state_ky', 'state_la', 'state_ma', 'state_md', 'state_me',\n",
       "       'state_mi', 'state_mn', 'state_mo', 'state_ms', 'state_mt', 'state_nc',\n",
       "       'state_nd', 'state_ne', 'state_nh', 'state_nj', 'state_nm', 'state_nv',\n",
       "       'state_ny', 'state_oh', 'state_ok', 'state_or', 'state_pa', 'state_ri',\n",
       "       'state_sc', 'state_sd', 'state_tn', 'state_tx', 'state_ut', 'state_va',\n",
       "       'state_vt', 'state_wa', 'state_wi', 'state_wv', 'state_wy',\n",
       "       'cylinders_4 cylinders', 'cylinders_6 cylinders',\n",
       "       'cylinders_8 cylinders', 'cylinders_missing', 'fuel_diesel',\n",
       "       'fuel_electric', 'fuel_gas', 'fuel_hybrid', 'fuel_other', 'tfidf_0',\n",
       "       'tfidf_2', 'tfidf_4', 'tfidf_5', 'tfidf_6', 'tfidf_7', 'tfidf_8',\n",
       "       'tfidf_9'],\n",
       "      dtype='object')"
      ]
     },
     "execution_count": 5,
     "metadata": {},
     "output_type": "execute_result"
    }
   ],
   "source": [
    "df_processed.columns"
   ]
  },
  {
   "cell_type": "code",
   "execution_count": 7,
   "metadata": {},
   "outputs": [
    {
     "data": {
      "text/plain": [
       "[dtype('int64'),\n",
       " dtype('float64'),\n",
       " dtype('int64'),\n",
       " dtype('float64'),\n",
       " dtype('float64'),\n",
       " dtype('float64'),\n",
       " dtype('uint8'),\n",
       " dtype('uint8'),\n",
       " dtype('uint8'),\n",
       " dtype('uint8'),\n",
       " dtype('uint8'),\n",
       " dtype('uint8'),\n",
       " dtype('uint8'),\n",
       " dtype('uint8'),\n",
       " dtype('uint8'),\n",
       " dtype('uint8'),\n",
       " dtype('uint8'),\n",
       " dtype('uint8'),\n",
       " dtype('uint8'),\n",
       " dtype('uint8'),\n",
       " dtype('uint8'),\n",
       " dtype('uint8'),\n",
       " dtype('uint8'),\n",
       " dtype('uint8'),\n",
       " dtype('uint8'),\n",
       " dtype('uint8'),\n",
       " dtype('uint8'),\n",
       " dtype('uint8'),\n",
       " dtype('uint8'),\n",
       " dtype('uint8'),\n",
       " dtype('uint8'),\n",
       " dtype('uint8'),\n",
       " dtype('uint8'),\n",
       " dtype('uint8'),\n",
       " dtype('uint8'),\n",
       " dtype('uint8'),\n",
       " dtype('uint8'),\n",
       " dtype('uint8'),\n",
       " dtype('uint8'),\n",
       " dtype('uint8'),\n",
       " dtype('uint8'),\n",
       " dtype('uint8'),\n",
       " dtype('uint8'),\n",
       " dtype('uint8'),\n",
       " dtype('uint8'),\n",
       " dtype('uint8'),\n",
       " dtype('uint8'),\n",
       " dtype('uint8'),\n",
       " dtype('uint8'),\n",
       " dtype('uint8'),\n",
       " dtype('uint8'),\n",
       " dtype('uint8'),\n",
       " dtype('uint8'),\n",
       " dtype('uint8'),\n",
       " dtype('uint8'),\n",
       " dtype('uint8'),\n",
       " dtype('uint8'),\n",
       " dtype('uint8'),\n",
       " dtype('uint8'),\n",
       " dtype('uint8'),\n",
       " dtype('uint8'),\n",
       " dtype('uint8'),\n",
       " dtype('uint8'),\n",
       " dtype('uint8'),\n",
       " dtype('uint8'),\n",
       " dtype('uint8'),\n",
       " dtype('uint8'),\n",
       " dtype('uint8'),\n",
       " dtype('uint8'),\n",
       " dtype('uint8'),\n",
       " dtype('uint8'),\n",
       " dtype('uint8'),\n",
       " dtype('uint8'),\n",
       " dtype('uint8'),\n",
       " dtype('uint8'),\n",
       " dtype('uint8'),\n",
       " dtype('uint8'),\n",
       " dtype('uint8'),\n",
       " dtype('uint8'),\n",
       " dtype('uint8'),\n",
       " dtype('uint8'),\n",
       " dtype('uint8'),\n",
       " dtype('uint8'),\n",
       " dtype('uint8'),\n",
       " dtype('uint8'),\n",
       " dtype('uint8'),\n",
       " dtype('uint8'),\n",
       " dtype('uint8'),\n",
       " dtype('uint8'),\n",
       " dtype('uint8'),\n",
       " dtype('uint8')]"
      ]
     },
     "execution_count": 7,
     "metadata": {},
     "output_type": "execute_result"
    }
   ],
   "source": [
    "list(df_processed.dtypes)"
   ]
  },
  {
   "cell_type": "code",
   "execution_count": null,
   "metadata": {},
   "outputs": [],
   "source": []
  },
  {
   "cell_type": "code",
   "execution_count": 4,
   "metadata": {},
   "outputs": [
    {
     "data": {
      "text/plain": [
       "(311930, 86)"
      ]
     },
     "execution_count": 4,
     "metadata": {},
     "output_type": "execute_result"
    }
   ],
   "source": [
    "df_processed.shape"
   ]
  },
  {
   "cell_type": "code",
   "execution_count": 5,
   "metadata": {},
   "outputs": [
    {
     "data": {
      "text/plain": [
       "Index(['price', 'year', 'manufacturer', 'condition', 'odometer', 'type',\n",
       "       'description', 'lat', 'long', 'color_black', 'color_other',\n",
       "       'color_silver', 'color_white', 'drive_4wd', 'drive_fwd', 'drive_other',\n",
       "       'drive_rwd', 'transmission_automatic', 'transmission_manual',\n",
       "       'transmission_other', 'status_clean', 'status_lien', 'status_missing',\n",
       "       'status_parts only', 'status_rebuilt', 'status_salvage', 'state_ak',\n",
       "       'state_al', 'state_ar', 'state_az', 'state_ca', 'state_co', 'state_ct',\n",
       "       'state_dc', 'state_de', 'state_fl', 'state_ga', 'state_hi', 'state_ia',\n",
       "       'state_id', 'state_il', 'state_in', 'state_ks', 'state_ky', 'state_la',\n",
       "       'state_ma', 'state_md', 'state_me', 'state_mi', 'state_mn', 'state_mo',\n",
       "       'state_ms', 'state_mt', 'state_nc', 'state_nd', 'state_ne', 'state_nh',\n",
       "       'state_nj', 'state_nm', 'state_nv', 'state_ny', 'state_oh', 'state_ok',\n",
       "       'state_or', 'state_pa', 'state_ri', 'state_sc', 'state_sd', 'state_tn',\n",
       "       'state_tx', 'state_ut', 'state_va', 'state_vt', 'state_wa', 'state_wi',\n",
       "       'state_wv', 'state_wy', 'cylinders_4 cylinders',\n",
       "       'cylinders_6 cylinders', 'cylinders_8 cylinders', 'cylinders_missing',\n",
       "       'fuel_diesel', 'fuel_electric', 'fuel_gas', 'fuel_hybrid',\n",
       "       'fuel_other'],\n",
       "      dtype='object')"
      ]
     },
     "execution_count": 5,
     "metadata": {},
     "output_type": "execute_result"
    }
   ],
   "source": [
    "df_processed.columns"
   ]
  },
  {
   "cell_type": "code",
   "execution_count": 6,
   "metadata": {},
   "outputs": [],
   "source": [
    "#list(df_processed.dtypes)"
   ]
  },
  {
   "cell_type": "code",
   "execution_count": 7,
   "metadata": {},
   "outputs": [],
   "source": [
    "df_tfidf = hf.TF_IDF(df_processed, number = 1000)"
   ]
  },
  {
   "cell_type": "code",
   "execution_count": 8,
   "metadata": {},
   "outputs": [
    {
     "data": {
      "text/plain": [
       "Index([  0,   1,   2,   3,   4,   5,   6,   7,   8,   9,\n",
       "       ...\n",
       "       990, 991, 992, 993, 994, 995, 996, 997, 998, 999],\n",
       "      dtype='object', length=1000)"
      ]
     },
     "execution_count": 8,
     "metadata": {},
     "output_type": "execute_result"
    }
   ],
   "source": [
    "df_tfidf.columns[-1000:]"
   ]
  },
  {
   "cell_type": "code",
   "execution_count": 9,
   "metadata": {},
   "outputs": [],
   "source": [
    "col = df_tfidf[df_tfidf.columns[-1000:]]\n",
    "mean = col.mean(axis=1)"
   ]
  },
  {
   "cell_type": "code",
   "execution_count": 10,
   "metadata": {},
   "outputs": [
    {
     "data": {
      "text/plain": [
       "((311930,), (311930,))"
      ]
     },
     "execution_count": 10,
     "metadata": {},
     "output_type": "execute_result"
    }
   ],
   "source": [
    "mean.shape, df_tfidf[\"price\"].shape"
   ]
  },
  {
   "cell_type": "code",
   "execution_count": 11,
   "metadata": {},
   "outputs": [
    {
     "data": {
      "text/plain": [
       "<matplotlib.collections.PathCollection at 0x1b19dfe8388>"
      ]
     },
     "execution_count": 11,
     "metadata": {},
     "output_type": "execute_result"
    },
    {
     "data": {
      "image/png": "[encoded data removed]",
      "text/plain": [
       "<Figure size 432x288 with 1 Axes>"
      ]
     },
     "metadata": {
      "needs_background": "light"
     },
     "output_type": "display_data"
    }
   ],
   "source": [
    "plt.scatter(mean.values, df_tfidf[\"price\"].values)\n"
   ]
  },
  {
   "cell_type": "code",
   "execution_count": 12,
   "metadata": {},
   "outputs": [
    {
     "data": {
      "text/plain": [
       "Index(['fuel_other',            0,            1,            2,            3,\n",
       "                  4,            5,            6,            7,            8,\n",
       "       ...\n",
       "                989,          990,          991,          992,          993,\n",
       "                994,          995,          996,          997,          998],\n",
       "      dtype='object', length=1000)"
      ]
     },
     "execution_count": 12,
     "metadata": {},
     "output_type": "execute_result"
    }
   ],
   "source": [
    "df_tfidf.columns[-1001:-1]"
   ]
  },
  {
   "cell_type": "markdown",
   "metadata": {},
   "source": [
    "# Kmeans for TFIDF"
   ]
  },
  {
   "cell_type": "code",
   "execution_count": 14,
   "metadata": {},
   "outputs": [],
   "source": [
    "from sklearn.cluster import KMeans\n",
    "import numpy as np\n",
    "X = df_tfidf[df_tfidf.columns[-1000:]].values\n",
    "kmeans = KMeans(n_clusters = 10, random_state = 0).fit(X)"
   ]
  },
  {
   "cell_type": "code",
   "execution_count": 23,
   "metadata": {},
   "outputs": [
    {
     "data": {
      "image/png": "[encoded data removed]",
      "text/plain": [
       "<Figure size 1080x504 with 1 Axes>"
      ]
     },
     "metadata": {
      "needs_background": "light"
     },
     "output_type": "display_data"
    }
   ],
   "source": [
    "plt.figure(figsize = (15, 7))\n",
    "for i in set(kmeans.labels_):\n",
    "    index = np.where(kmeans.labels_ == i)\n",
    "    plt.boxplot(df_tfidf[\"price\"].values[index], positions = [i])\n"
   ]
  },
  {
   "cell_type": "code",
   "execution_count": null,
   "metadata": {},
   "outputs": [],
   "source": [
    "import pickle\n",
    "s = pickle.dumps(kmeans)\n",
    "from joblib import dump, load\n",
    "dump(kmeans, 'kmeans.joblib') "
   ]
  },
  {
   "cell_type": "code",
   "execution_count": 53,
   "metadata": {},
   "outputs": [],
   "source": [
    "clf = load('kmeans.joblib') "
   ]
  },
  {
   "cell_type": "code",
   "execution_count": 55,
   "metadata": {},
   "outputs": [
    {
     "data": {
      "text/plain": [
       "(311930, 1000)"
      ]
     },
     "execution_count": 55,
     "metadata": {},
     "output_type": "execute_result"
    }
   ],
   "source": [
    "X.shape"
   ]
  },
  {
   "cell_type": "code",
   "execution_count": 57,
   "metadata": {},
   "outputs": [],
   "source": [
    "df_tfidf[\"tfidf\"] = clf.predict(X)"
   ]
  },
  {
   "cell_type": "code",
   "execution_count": 59,
   "metadata": {},
   "outputs": [],
   "source": [
    "df_clustered = pd.get_dummies(df_tfidf, prefix=\"tfidf\",columns=['tfidf'])"
   ]
  },
  {
   "cell_type": "code",
   "execution_count": 60,
   "metadata": {},
   "outputs": [
    {
     "data": {
      "text/html": [
       "<div>\n",
       "<style scoped>\n",
       "    .dataframe tbody tr th:only-of-type {\n",
       "        vertical-align: middle;\n",
       "    }\n",
       "\n",
       "    .dataframe tbody tr th {\n",
       "        vertical-align: top;\n",
       "    }\n",
       "\n",
       "    .dataframe thead th {\n",
       "        text-align: right;\n",
       "    }\n",
       "</style>\n",
       "<table border=\"1\" class=\"dataframe\">\n",
       "  <thead>\n",
       "    <tr style=\"text-align: right;\">\n",
       "      <th></th>\n",
       "      <th>price</th>\n",
       "      <th>year</th>\n",
       "      <th>manufacturer</th>\n",
       "      <th>condition</th>\n",
       "      <th>odometer</th>\n",
       "      <th>type</th>\n",
       "      <th>description</th>\n",
       "      <th>lat</th>\n",
       "      <th>long</th>\n",
       "      <th>color_black</th>\n",
       "      <th>...</th>\n",
       "      <th>tfidf_0</th>\n",
       "      <th>tfidf_1</th>\n",
       "      <th>tfidf_2</th>\n",
       "      <th>tfidf_3</th>\n",
       "      <th>tfidf_4</th>\n",
       "      <th>tfidf_5</th>\n",
       "      <th>tfidf_6</th>\n",
       "      <th>tfidf_7</th>\n",
       "      <th>tfidf_8</th>\n",
       "      <th>tfidf_9</th>\n",
       "    </tr>\n",
       "  </thead>\n",
       "  <tbody>\n",
       "    <tr>\n",
       "      <th>0</th>\n",
       "      <td>35990</td>\n",
       "      <td>2010.0</td>\n",
       "      <td>chevrolet</td>\n",
       "      <td>1</td>\n",
       "      <td>32742.0</td>\n",
       "      <td>other</td>\n",
       "      <td>Carvana is the safer way to buy a car During t...</td>\n",
       "      <td>32.590000</td>\n",
       "      <td>-85.480000</td>\n",
       "      <td>0</td>\n",
       "      <td>...</td>\n",
       "      <td>0</td>\n",
       "      <td>0</td>\n",
       "      <td>1</td>\n",
       "      <td>0</td>\n",
       "      <td>0</td>\n",
       "      <td>0</td>\n",
       "      <td>0</td>\n",
       "      <td>0</td>\n",
       "      <td>0</td>\n",
       "      <td>0</td>\n",
       "    </tr>\n",
       "    <tr>\n",
       "      <th>1</th>\n",
       "      <td>7500</td>\n",
       "      <td>2014.0</td>\n",
       "      <td>hyundai</td>\n",
       "      <td>1</td>\n",
       "      <td>93600.0</td>\n",
       "      <td>sedan</td>\n",
       "      <td>I'll move to another city and try to sell my c...</td>\n",
       "      <td>32.547500</td>\n",
       "      <td>-85.468200</td>\n",
       "      <td>0</td>\n",
       "      <td>...</td>\n",
       "      <td>0</td>\n",
       "      <td>0</td>\n",
       "      <td>0</td>\n",
       "      <td>0</td>\n",
       "      <td>0</td>\n",
       "      <td>0</td>\n",
       "      <td>1</td>\n",
       "      <td>0</td>\n",
       "      <td>0</td>\n",
       "      <td>0</td>\n",
       "    </tr>\n",
       "    <tr>\n",
       "      <th>2</th>\n",
       "      <td>4900</td>\n",
       "      <td>2006.0</td>\n",
       "      <td>bmw</td>\n",
       "      <td>1</td>\n",
       "      <td>87046.0</td>\n",
       "      <td>SUV</td>\n",
       "      <td>Clean 2006 BMW X3 3.0I.  Beautiful and rare Bl...</td>\n",
       "      <td>32.616807</td>\n",
       "      <td>-85.464149</td>\n",
       "      <td>0</td>\n",
       "      <td>...</td>\n",
       "      <td>0</td>\n",
       "      <td>1</td>\n",
       "      <td>0</td>\n",
       "      <td>0</td>\n",
       "      <td>0</td>\n",
       "      <td>0</td>\n",
       "      <td>0</td>\n",
       "      <td>0</td>\n",
       "      <td>0</td>\n",
       "      <td>0</td>\n",
       "    </tr>\n",
       "    <tr>\n",
       "      <th>3</th>\n",
       "      <td>2000</td>\n",
       "      <td>1974.0</td>\n",
       "      <td>chevrolet</td>\n",
       "      <td>1</td>\n",
       "      <td>190000.0</td>\n",
       "      <td>pickup</td>\n",
       "      <td>1974 chev. truck (LONG BED) NEW starter front ...</td>\n",
       "      <td>32.861600</td>\n",
       "      <td>-85.216100</td>\n",
       "      <td>0</td>\n",
       "      <td>...</td>\n",
       "      <td>0</td>\n",
       "      <td>0</td>\n",
       "      <td>0</td>\n",
       "      <td>0</td>\n",
       "      <td>0</td>\n",
       "      <td>1</td>\n",
       "      <td>0</td>\n",
       "      <td>0</td>\n",
       "      <td>0</td>\n",
       "      <td>0</td>\n",
       "    </tr>\n",
       "    <tr>\n",
       "      <th>4</th>\n",
       "      <td>19500</td>\n",
       "      <td>2005.0</td>\n",
       "      <td>ford</td>\n",
       "      <td>1</td>\n",
       "      <td>116000.0</td>\n",
       "      <td>pickup</td>\n",
       "      <td>2005 Ford F350 Lariat (Bullet Proofed). This t...</td>\n",
       "      <td>32.547500</td>\n",
       "      <td>-85.468200</td>\n",
       "      <td>0</td>\n",
       "      <td>...</td>\n",
       "      <td>0</td>\n",
       "      <td>0</td>\n",
       "      <td>0</td>\n",
       "      <td>0</td>\n",
       "      <td>0</td>\n",
       "      <td>1</td>\n",
       "      <td>0</td>\n",
       "      <td>0</td>\n",
       "      <td>0</td>\n",
       "      <td>0</td>\n",
       "    </tr>\n",
       "  </tbody>\n",
       "</table>\n",
       "<p>5 rows × 1096 columns</p>\n",
       "</div>"
      ],
      "text/plain": [
       "   price    year manufacturer  condition  odometer    type  \\\n",
       "0  35990  2010.0    chevrolet          1   32742.0   other   \n",
       "1   7500  2014.0      hyundai          1   93600.0   sedan   \n",
       "2   4900  2006.0          bmw          1   87046.0     SUV   \n",
       "3   2000  1974.0    chevrolet          1  190000.0  pickup   \n",
       "4  19500  2005.0         ford          1  116000.0  pickup   \n",
       "\n",
       "                                         description        lat       long  \\\n",
       "0  Carvana is the safer way to buy a car During t...  32.590000 -85.480000   \n",
       "1  I'll move to another city and try to sell my c...  32.547500 -85.468200   \n",
       "2  Clean 2006 BMW X3 3.0I.  Beautiful and rare Bl...  32.616807 -85.464149   \n",
       "3  1974 chev. truck (LONG BED) NEW starter front ...  32.861600 -85.216100   \n",
       "4  2005 Ford F350 Lariat (Bullet Proofed). This t...  32.547500 -85.468200   \n",
       "\n",
       "   color_black  ...  tfidf_0  tfidf_1  tfidf_2  tfidf_3  tfidf_4  tfidf_5  \\\n",
       "0            0  ...        0        0        1        0        0        0   \n",
       "1            0  ...        0        0        0        0        0        0   \n",
       "2            0  ...        0        1        0        0        0        0   \n",
       "3            0  ...        0        0        0        0        0        1   \n",
       "4            0  ...        0        0        0        0        0        1   \n",
       "\n",
       "   tfidf_6  tfidf_7  tfidf_8  tfidf_9  \n",
       "0        0        0        0        0  \n",
       "1        1        0        0        0  \n",
       "2        0        0        0        0  \n",
       "3        0        0        0        0  \n",
       "4        0        0        0        0  \n",
       "\n",
       "[5 rows x 1096 columns]"
      ]
     },
     "execution_count": 60,
     "metadata": {},
     "output_type": "execute_result"
    }
   ],
   "source": [
    "df_clustered.head()"
   ]
  },
  {
   "cell_type": "markdown",
   "metadata": {},
   "source": [
    "# Within Cluster Sum of Squared Error (WSS)"
   ]
  },
  {
   "cell_type": "code",
   "execution_count": 26,
   "metadata": {},
   "outputs": [
    {
     "data": {
      "text/plain": [
       "['kmeans.joblib']"
      ]
     },
     "execution_count": 26,
     "metadata": {},
     "output_type": "execute_result"
    }
   ],
   "source": []
  },
  {
   "cell_type": "code",
   "execution_count": 35,
   "metadata": {},
   "outputs": [
    {
     "data": {
      "text/plain": [
       "(311930, 1000)"
      ]
     },
     "execution_count": 35,
     "metadata": {},
     "output_type": "execute_result"
    }
   ],
   "source": [
    "df_tfidf[df_tfidf.columns[-1000:]].shape"
   ]
  },
  {
   "cell_type": "code",
   "execution_count": 38,
   "metadata": {},
   "outputs": [],
   "source": [
    "X_red = X[:10000]"
   ]
  },
  {
   "cell_type": "code",
   "execution_count": 39,
   "metadata": {},
   "outputs": [],
   "source": [
    "\n",
    "kmeans = KMeans(n_clusters = 10, random_state = 0).fit(X_red)"
   ]
  },
  {
   "cell_type": "code",
   "execution_count": 46,
   "metadata": {},
   "outputs": [],
   "source": [
    "from sklearn.cluster import KMeans\n",
    "\n",
    "# function returns WSS score for k values from 1 to kmax\n",
    "def calculate_WSS(points, kmax):\n",
    "    sse = []\n",
    "    for k in range(1, kmax+1):\n",
    "        print(\"Number of Clusters: \", k)\n",
    "        kmeans = KMeans(n_clusters = k).fit(points)\n",
    "        centroids = kmeans.cluster_centers_\n",
    "        pred_clusters = kmeans.predict(points)\n",
    "        curr_sse = 0\n",
    "\n",
    "        # calculate square of Euclidean distance of each point from its cluster center and add to current WSS\n",
    "        for i in range(len(points)):\n",
    "            curr_center = centroids[pred_clusters[i]]\n",
    "            curr_sse += (points[i, 0] - curr_center[0]) ** 2 + (points[i, 1] - curr_center[1]) ** 2\n",
    "\n",
    "        sse.append(curr_sse)\n",
    "    return sse"
   ]
  },
  {
   "cell_type": "code",
   "execution_count": 49,
   "metadata": {},
   "outputs": [
    {
     "name": "stdout",
     "output_type": "stream",
     "text": [
      "Number of Clusters:  1\n",
      "Number of Clusters:  2\n",
      "Number of Clusters:  3\n",
      "Number of Clusters:  4\n",
      "Number of Clusters:  5\n",
      "Number of Clusters:  6\n",
      "Number of Clusters:  7\n",
      "Number of Clusters:  8\n",
      "Number of Clusters:  9\n",
      "Number of Clusters:  10\n",
      "Number of Clusters:  11\n",
      "Number of Clusters:  12\n",
      "Number of Clusters:  13\n",
      "Number of Clusters:  14\n",
      "Number of Clusters:  15\n",
      "Number of Clusters:  16\n",
      "Number of Clusters:  17\n",
      "Number of Clusters:  18\n",
      "Number of Clusters:  19\n",
      "Number of Clusters:  20\n"
     ]
    }
   ],
   "source": [
    "sse = calculate_WSS(X_red, 20)"
   ]
  },
  {
   "cell_type": "code",
   "execution_count": 52,
   "metadata": {},
   "outputs": [
    {
     "data": {
      "text/plain": [
       "[<matplotlib.lines.Line2D at 0x1b1f3c5fdc8>]"
      ]
     },
     "execution_count": 52,
     "metadata": {},
     "output_type": "execute_result"
    },
    {
     "data": {
      "image/png": "[encoded data removed]",
      "text/plain": [
       "<Figure size 360x360 with 1 Axes>"
      ]
     },
     "metadata": {
      "needs_background": "light"
     },
     "output_type": "display_data"
    }
   ],
   "source": [
    "plt.figure(figsize = (5, 5))\n",
    "plt.plot(sse)"
   ]
  },
  {
   "cell_type": "code",
   "execution_count": null,
   "metadata": {},
   "outputs": [],
   "source": []
  }
 ],
 "metadata": {
  "kernelspec": {
   "display_name": "Python 3",
   "language": "python",
   "name": "python3"
  },
  "language_info": {
   "codemirror_mode": {
    "name": "ipython",
    "version": 3
   },
   "file_extension": ".py",
   "mimetype": "text/x-python",
   "name": "python",
   "nbconvert_exporter": "python",
   "pygments_lexer": "ipython3",
   "version": "3.7.9"
  }
 },
 "nbformat": 4,
 "nbformat_minor": 4
}
