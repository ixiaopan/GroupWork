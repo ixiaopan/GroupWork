{
  "nbformat": 4,
  "nbformat_minor": 0,
  "metadata": {
    "colab": {
      "name": "KNN_Wenzhe.ipynb",
      "provenance": []
    },
    "kernelspec": {
      "name": "python3",
      "display_name": "Python 3"
    },
    "language_info": {
      "name": "python"
    }
  },
  "cells": [
    {
      "cell_type": "markdown",
      "metadata": {
        "id": "a777NC2RrLEe"
      },
      "source": [
        "1. Load and clean the data"
      ]
    },
    {
      "cell_type": "code",
      "metadata": {
        "colab": {
          "base_uri": "https://localhost:8080/"
        },
        "id": "e0R_vIAA0xNE",
        "outputId": "6dc93bd5-598b-406f-d6b4-3ad3fae0fee7"
      },
      "source": [
        "!unzip /content/datasets/austinreese/craigslist-carstrucks-data/craigslist-carstrucks-data.zip"
      ],
      "execution_count": 12,
      "outputs": [
        {
          "output_type": "stream",
          "text": [
            "Archive:  /content/datasets/austinreese/craigslist-carstrucks-data/craigslist-carstrucks-data.zip\n",
            "  inflating: vehicles.csv            \n"
          ],
          "name": "stdout"
        }
      ]
    },
    {
      "cell_type": "code",
      "metadata": {
        "id": "y2AEHF6q1DKn"
      },
      "source": [
        "data_dir = '/content/vehicles.csv'\n",
        "import pandas as pd\n",
        "df = pd.read_csv(data_dir)"
      ],
      "execution_count": 1,
      "outputs": []
    },
    {
      "cell_type": "code",
      "metadata": {
        "colab": {
          "base_uri": "https://localhost:8080/"
        },
        "id": "m4IDtmii2t8B",
        "outputId": "4d7a5443-e18f-4512-953e-978f9a709905"
      },
      "source": [
        "# df.head()\n",
        "df.columns"
      ],
      "execution_count": 4,
      "outputs": [
        {
          "output_type": "execute_result",
          "data": {
            "text/plain": [
              "Index(['id', 'url', 'region', 'region_url', 'price', 'year', 'manufacturer',\n",
              "       'model', 'condition', 'cylinders', 'fuel', 'odometer', 'title_status',\n",
              "       'transmission', 'VIN', 'drive', 'size', 'type', 'paint_color',\n",
              "       'image_url', 'description', 'county', 'state', 'lat', 'long'],\n",
              "      dtype='object')"
            ]
          },
          "metadata": {
            "tags": []
          },
          "execution_count": 4
        }
      ]
    },
    {
      "cell_type": "markdown",
      "metadata": {
        "id": "TBMgpVHZ-MC-"
      },
      "source": [
        ""
      ]
    },
    {
      "cell_type": "code",
      "metadata": {
        "id": "6BNLyrlb1W1P"
      },
      "source": [
        "import code_cleaning as hf\n",
        "\n",
        "import os\n",
        "import matplotlib.pyplot as plt\n",
        "import numpy as np\n",
        "\n",
        "columns = [\"id\", \"image_url\", \"VIN\", \"region_url\", \"id\", \"size\",\"url\"]\n",
        "df.drop(columns, axis=1, inplace=True)\n",
        "\n",
        "df = hf.imputeManufacturer(df)\n"
      ],
      "execution_count": 2,
      "outputs": []
    },
    {
      "cell_type": "code",
      "metadata": {
        "colab": {
          "base_uri": "https://localhost:8080/"
        },
        "id": "dwmOPOeo5qwd",
        "outputId": "b5ae4ba6-2af8-4e68-9428-ad4c59fc7c89"
      },
      "source": [
        "df.fillna(value={'description': ''}, inplace=True)\n",
        "df = hf.imputeMissingByManufacturer(df, col='fuel')\n",
        "df = hf.imputeMissingByManufacturer(df, col='transmission')\n",
        "df = hf.imputeOdometerByYear(df)\n",
        "df = df[df['year'].notna()]\n",
        "df = hf.color_clean(df, color_list=['white','black','silver'])\n",
        "df = hf.drive_clean(df)\n",
        "df = hf.transmission_clean(df)\n",
        "df = hf.titlestatus_clean(df)\n",
        "df = hf.cleanLocationFeatures(df)\n",
        "df[\"cylinders\"] = df[\"cylinders\"].fillna(\"missing\")\n",
        "df, _ = hf.cutIQR(df, 'odometer')\n",
        "df, _ = hf.cutIQR(df, 'price')\n",
        "df = hf.cylinder_clean(df)\n",
        "df = hf.condition_clean(df)\n",
        "df = hf.fuel_clean(df)\n",
        "df = hf.ohe_type(df)\n",
        "df = hf.ohe_manuf_country(df)"
      ],
      "execution_count": 3,
      "outputs": [
        {
          "output_type": "stream",
          "text": [
            "Remove outliers...\n",
            "Remove outliers...\n"
          ],
          "name": "stdout"
        }
      ]
    },
    {
      "cell_type": "code",
      "metadata": {
        "colab": {
          "base_uri": "https://localhost:8080/"
        },
        "id": "czLLczKg8q4k",
        "outputId": "1eb76b87-8acb-42cf-f1b0-490d1e77833e"
      },
      "source": [
        "df = hf.TF_IDF(df, number = 1000)"
      ],
      "execution_count": 5,
      "outputs": [
        {
          "output_type": "stream",
          "text": [
            "/usr/local/lib/python3.7/dist-packages/sklearn/base.py:318: UserWarning: Trying to unpickle estimator KMeans from version 0.23.2 when using version 0.22.2.post1. This might lead to breaking code or invalid results. Use at your own risk.\n",
            "  UserWarning)\n"
          ],
          "name": "stderr"
        }
      ]
    },
    {
      "cell_type": "code",
      "metadata": {
        "colab": {
          "base_uri": "https://localhost:8080/"
        },
        "id": "R1BHihjqJTyT",
        "outputId": "15fab290-41d6-4ade-8156-8e4699b8ead3"
      },
      "source": [
        "df.columns"
      ],
      "execution_count": 6,
      "outputs": [
        {
          "output_type": "execute_result",
          "data": {
            "text/plain": [
              "Index(['price', 'year', 'manufacturer', 'model', 'condition', 'odometer',\n",
              "       'type', 'description', 'county', 'lat',\n",
              "       ...\n",
              "       'manuf_country_missing', 'tfidf_0', 'tfidf_1', 'tfidf_2', 'tfidf_4',\n",
              "       'tfidf_5', 'tfidf_6', 'tfidf_7', 'tfidf_8', 'tfidf_9'],\n",
              "      dtype='object', length=109)"
            ]
          },
          "metadata": {
            "tags": []
          },
          "execution_count": 6
        }
      ]
    },
    {
      "cell_type": "code",
      "metadata": {
        "id": "T7WH31T37lwj"
      },
      "source": [
        "df.drop(['model', \"manufacturer\", \"county\", \"type\", \"description\"], axis=1, inplace=True)"
      ],
      "execution_count": 7,
      "outputs": []
    },
    {
      "cell_type": "code",
      "metadata": {
        "id": "1wHWrHoHA3co"
      },
      "source": [
        "df = df[df['year'].notna()]\n",
        "df_processed = df.dropna()"
      ],
      "execution_count": 13,
      "outputs": []
    },
    {
      "cell_type": "code",
      "metadata": {
        "id": "cQhkqDzcMzyA"
      },
      "source": [
        "df_processed.to_csv('/content/tidyData.csv')"
      ],
      "execution_count": 20,
      "outputs": []
    },
    {
      "cell_type": "markdown",
      "metadata": {
        "id": "vUTnRqeHNVhp"
      },
      "source": [
        "2. data prep"
      ]
    },
    {
      "cell_type": "code",
      "metadata": {
        "id": "ItQCTkt3NnMc"
      },
      "source": [
        "import sklearn\n",
        "\n",
        "# split data 7/2/1\n",
        "\n",
        "y = df_processed.pop(\"price\")\n",
        "X = df_processed"
      ],
      "execution_count": 21,
      "outputs": []
    },
    {
      "cell_type": "code",
      "metadata": {
        "colab": {
          "base_uri": "https://localhost:8080/"
        },
        "id": "P75YUpijOybh",
        "outputId": "23688118-ceb3-4f6a-96eb-d5f1731c3fd4"
      },
      "source": [
        "from sklearn.model_selection import train_test_split\n",
        "X_train, X_test, y_train, y_test = train_test_split(\n",
        "    X, y, test_size=0.3)\n",
        "X_val, X_test, y_val, y_test = train_test_split(\n",
        "    X_test, y_test, test_size=0.33)\n",
        "print(\"train set: %d, validation: %d, test: %d\"%(\n",
        "    X_train.shape[0],\n",
        "    X_val.shape[0],\n",
        "    X_test.shape[0]))"
      ],
      "execution_count": 25,
      "outputs": [
        {
          "output_type": "stream",
          "text": [
            "train set: 297398, validation: 85396, test: 42061\n"
          ],
          "name": "stdout"
        }
      ]
    },
    {
      "cell_type": "markdown",
      "metadata": {
        "id": "P6X5NSjlQI1d"
      },
      "source": [
        "3. KNN training"
      ]
    },
    {
      "cell_type": "code",
      "metadata": {
        "colab": {
          "base_uri": "https://localhost:8080/"
        },
        "id": "zwgr9IOBQHpB",
        "outputId": "6a97bc55-64ff-4934-c3aa-e4af76fcc876"
      },
      "source": [
        "from sklearn.neighbors import KNeighborsRegressor\n",
        "\n",
        "neigh = KNeighborsRegressor(n_neighbors=10)\n",
        "neigh.fit(X_train, y_train)"
      ],
      "execution_count": 26,
      "outputs": [
        {
          "output_type": "execute_result",
          "data": {
            "text/plain": [
              "KNeighborsRegressor(algorithm='auto', leaf_size=30, metric='minkowski',\n",
              "                    metric_params=None, n_jobs=None, n_neighbors=10, p=2,\n",
              "                    weights='uniform')"
            ]
          },
          "metadata": {
            "tags": []
          },
          "execution_count": 26
        }
      ]
    },
    {
      "cell_type": "code",
      "metadata": {
        "colab": {
          "base_uri": "https://localhost:8080/"
        },
        "id": "icIv90mBRA5z",
        "outputId": "93836bba-cb46-478b-d06c-5b6125e9bcc1"
      },
      "source": [
        "# performance testing on val set\n",
        "yhat_val = neigh.predict(X_val)\n",
        "rmse = (yhat_val - y_val) ** 2 \n",
        "rmse = rmse.mean() ** 0.5\n",
        "print(rmse)"
      ],
      "execution_count": 29,
      "outputs": [
        {
          "output_type": "stream",
          "text": [
            "9398.697958198956\n"
          ],
          "name": "stdout"
        }
      ]
    },
    {
      "cell_type": "code",
      "metadata": {
        "colab": {
          "base_uri": "https://localhost:8080/",
          "height": 350
        },
        "id": "Nsgf_N5TSipJ",
        "outputId": "fc663f0b-7e00-4b63-eb49-03db08af49cd"
      },
      "source": [
        "# influence of k\n",
        "rmse_series=[]\n",
        "k_series = [2, 3, 5,10]\n",
        "for k in k_series:\n",
        "  neigh = KNeighborsRegressor(n_neighbors=k)\n",
        "  neigh.fit(X_train, y_train)\n",
        "  yhat_val = neigh.predict(X_val)\n",
        "  rmse = (yhat_val - y_val) ** 2 \n",
        "  rmse = rmse.mean() ** 0.5\n",
        "  rmse_series.append(rmse)\n",
        "  print(rmse)\n",
        "\n",
        "plt.plot(k_series, rmse_series)"
      ],
      "execution_count": 32,
      "outputs": [
        {
          "output_type": "stream",
          "text": [
            "8739.962392434412\n",
            "8773.515171033376\n",
            "8973.012978518533\n",
            "9398.697958198956\n"
          ],
          "name": "stdout"
        },
        {
          "output_type": "execute_result",
          "data": {
            "text/plain": [
              "[<matplotlib.lines.Line2D at 0x7fabc32f6890>]"
            ]
          },
          "metadata": {
            "tags": []
          },
          "execution_count": 32
        },
        {
          "output_type": "display_data",
          "data": {
            "image/png": "[encoded data removed]",
            "text/plain": [
              "<Figure size 432x288 with 1 Axes>"
            ]
          },
          "metadata": {
            "tags": [],
            "needs_background": "light"
          }
        }
      ]
    },
    {
      "cell_type": "markdown",
      "metadata": {
        "id": "IdEHC9LyUE9G"
      },
      "source": [
        "an \"elbow\" shows up when k=3, so choose k=3 and further test on the test set"
      ]
    },
    {
      "cell_type": "code",
      "metadata": {
        "colab": {
          "base_uri": "https://localhost:8080/"
        },
        "id": "A0wpP2wyUQ4K",
        "outputId": "51af054d-1f97-441f-c4f3-ffb3567f1830"
      },
      "source": [
        "neigh = KNeighborsRegressor(n_neighbors=3)\n",
        "neigh.fit(X_train, y_train)\n",
        "yhat_test = neigh.predict(X_test)\n",
        "rmse = (yhat_test - y_test) ** 2 \n",
        "rmse = rmse.mean() ** 0.5\n",
        "print(rmse)"
      ],
      "execution_count": 33,
      "outputs": [
        {
          "output_type": "stream",
          "text": [
            "8840.573293800075\n"
          ],
          "name": "stdout"
        }
      ]
    }
  ]
}