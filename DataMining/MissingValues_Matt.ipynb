{
 "cells": [
  {
   "cell_type": "markdown",
   "metadata": {},
   "source": [
    "# Imputing Missing Values"
   ]
  },
  {
   "cell_type": "code",
   "execution_count": 1,
   "metadata": {},
   "outputs": [],
   "source": [
    "%matplotlib inline\n",
    "import os\n",
    "import zipfile\n",
    "import numpy as np\n",
    "import pandas as pd\n",
    "import matplotlib.pyplot as plt\n",
    "import CleaningCars as cc"
   ]
  },
  {
   "cell_type": "code",
   "execution_count": 2,
   "metadata": {},
   "outputs": [],
   "source": [
    "cars = pd.read_csv('data/vehicles.csv')"
   ]
  },
  {
   "cell_type": "code",
   "execution_count": 3,
   "metadata": {},
   "outputs": [
    {
     "name": "stdout",
     "output_type": "stream",
     "text": [
      "Cleaned !\n",
      "One hot encodings done!\n",
      "Dropped NANs!\n"
     ]
    }
   ],
   "source": [
    "cars = cc.ultimateClean(cars)"
   ]
  },
  {
   "cell_type": "code",
   "execution_count": 4,
   "metadata": {},
   "outputs": [
    {
     "data": {
      "text/plain": [
       "price                          0\n",
       "year                         902\n",
       "manufacturer               10081\n",
       "condition                 167392\n",
       "cylinders                 151846\n",
       "fuel                         238\n",
       "odometer                      23\n",
       "type                      103595\n",
       "description                    0\n",
       "lat                            0\n",
       "long                           0\n",
       "posting_date                   0\n",
       "color_black                    0\n",
       "color_other                    0\n",
       "color_silver                   0\n",
       "color_white                    0\n",
       "drive_4wd                      0\n",
       "drive_fwd                      0\n",
       "drive_other                    0\n",
       "drive_rwd                      0\n",
       "transmission_automatic         0\n",
       "transmission_manual            0\n",
       "transmission_other             0\n",
       "status_clean                   0\n",
       "status_lien                    0\n",
       "status_missing                 0\n",
       "status_parts only              0\n",
       "status_rebuilt                 0\n",
       "status_salvage                 0\n",
       "state_ak                       0\n",
       "state_al                       0\n",
       "state_ar                       0\n",
       "state_az                       0\n",
       "state_ca                       0\n",
       "state_co                       0\n",
       "state_ct                       0\n",
       "state_dc                       0\n",
       "state_de                       0\n",
       "state_fl                       0\n",
       "state_ga                       0\n",
       "dtype: int64"
      ]
     },
     "execution_count": 4,
     "metadata": {},
     "output_type": "execute_result"
    }
   ],
   "source": [
    "cars.isnull().sum()[:40]"
   ]
  },
  {
   "cell_type": "code",
   "execution_count": null,
   "metadata": {},
   "outputs": [],
   "source": []
  },
  {
   "cell_type": "code",
   "execution_count": null,
   "metadata": {
    "scrolled": true
   },
   "outputs": [],
   "source": [
    "cc.remove_columns(cars)"
   ]
  },
  {
   "cell_type": "code",
   "execution_count": null,
   "metadata": {},
   "outputs": [],
   "source": [
    "cars = cc.dateToDatetime(cars)"
   ]
  },
  {
   "cell_type": "code",
   "execution_count": null,
   "metadata": {},
   "outputs": [],
   "source": [
    "cars = cc.basicImpute(cars)"
   ]
  },
  {
   "cell_type": "code",
   "execution_count": null,
   "metadata": {},
   "outputs": [],
   "source": [
    "cars = impute_manufacturer(cars)"
   ]
  },
  {
   "cell_type": "code",
   "execution_count": null,
   "metadata": {},
   "outputs": [],
   "source": [
    "cars = cc.imputeMissingByManufacturer(cars, col='fuel')"
   ]
  },
  {
   "cell_type": "code",
   "execution_count": null,
   "metadata": {},
   "outputs": [],
   "source": [
    "cars = cc.imputeMissingByManufacturer(cars, col='transmission')"
   ]
  },
  {
   "cell_type": "code",
   "execution_count": null,
   "metadata": {},
   "outputs": [],
   "source": [
    "cars = cc.cleanLatLong(cars)"
   ]
  },
  {
   "cell_type": "code",
   "execution_count": null,
   "metadata": {},
   "outputs": [],
   "source": []
  }
 ],
 "metadata": {
  "kernelspec": {
   "display_name": "Python 3",
   "language": "python",
   "name": "python3"
  },
  "language_info": {
   "codemirror_mode": {
    "name": "ipython",
    "version": 3
   },
   "file_extension": ".py",
   "mimetype": "text/x-python",
   "name": "python",
   "nbconvert_exporter": "python",
   "pygments_lexer": "ipython3",
   "version": "3.7.4"
  }
 },
 "nbformat": 4,
 "nbformat_minor": 2
}
