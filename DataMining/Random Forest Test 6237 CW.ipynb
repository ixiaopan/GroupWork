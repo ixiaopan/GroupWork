{
 "cells": [
  {
   "cell_type": "markdown",
   "metadata": {},
   "source": [
    "What was done:\n",
    "Cleaning of data:\n",
    "manufacturers to countries, type of cars(professional or not), drive kind, condition and fuel.\n",
    "\n",
    "To be done: keep the features that feature selection showed only and try and improve the results by tuning the hyerparameters. Go back to data cleaning to improve those features if possible as well.\n",
    "\n",
    "These features are:\n",
    "Index(['year', 'odometer', 'lat', 'long', 'color_other', 'drive_4wd',\n",
    "       'drive_fwd', 'cylinders_6 cylinders', 'cylinders_8 cylinders',\n",
    "       'fuel_diesel', 'usage_type_professional'],\n",
    "      dtype='object')\n",
    "      \n",
    "Also check the log to exp if it actually makes sense.\n",
    "\n"
   ]
  },
  {
   "cell_type": "code",
   "execution_count": 1,
   "metadata": {},
   "outputs": [],
   "source": [
    "#!/usr/bin/env python3\n",
    "# -*- coding: utf-8 -*-\n",
    "\"\"\"\n",
    "Created on Fri Feb 19 10:38:46 2021\n",
    "@author: mattwear\n",
    "\"\"\"\n",
    "\n",
    "import pandas as pd\n",
    "import numpy as np\n",
    "from joblib import dump, load\n",
    "from sklearn.feature_extraction.text import TfidfVectorizer\n",
    "import time\n",
    "\n",
    "### Data Cleaning Functions\n",
    "\n",
    "# Getting rid of unecesarry columns\n",
    "\n",
    "def remove_columns(df):\n",
    "    \n",
    "    \"\"\"Removes columns we agreed were useless\"\"\"\n",
    "    columns = [\"Unnamed: 0\", \"id\", \"image_url\", \"VIN\", \"region_url\", \"id\", \"size\",\"url\"]\n",
    "    df.drop(columns, axis=1, inplace=True)\n",
    "    return(df)\n",
    "\n",
    "\n",
    "def price_range(df, lower = 0, higher = 60_000, sampling = False):\n",
    "    \"\"\"\n",
    "    Set the lower and upper limits of the price, if sampling true it chooses 40,000 samples at random\n",
    "    \"\"\"\n",
    "    if sampling == True:\n",
    "        df = df.sample(n = 40_000)\n",
    "    \n",
    "    df = df.dropna(subset = [\"price\"])\n",
    "    \n",
    "    df = df.loc[df[\"price\"] < higher]\n",
    "    df = df.loc[df[\"price\"] >= lower]\n",
    "    \n",
    "    return(df)\n",
    "\n",
    "def dateToDatetime(df):\n",
    "    df['posting_date'] = df['posting_date'].str[:10].astype('datetime64[ns]')\n",
    "    return df\n",
    "\n",
    "def basicImpute(df):\n",
    "    #Here, impute missing values with a common number/value\n",
    "    \n",
    "    ###Description: Impute missing values as empty string\n",
    "    ###posting_date: Not many so impute with mean posting date\n",
    "    mean_posting_date = np.mean(df.posting_date)\n",
    "\n",
    "    #Fill NA\n",
    "    df.fillna(value={'description': '', 'posting_date':mean_posting_date}, inplace=True)\n",
    "    \n",
    "    return df\n",
    "\n",
    "\n",
    "def imputeMissingByManufacturer(df, col):\n",
    "    ###Impute missing values by taking the most common occurence of the items manufacturer\n",
    "    #Use this for fuel and transmission. The remaining missing values have NaN manufacturer\n",
    "    \n",
    "    cars = df.copy()\n",
    "    cars_unique = np.unique(cars.manufacturer.astype(str))\n",
    "    man_dict = {}\n",
    "\n",
    "    for car in cars_unique:\n",
    "        if car != 'nan':\n",
    "            max_occur = cars[cars.manufacturer==car][col].value_counts().index[0]\n",
    "            man_dict[car] = max_occur\n",
    "\n",
    "    cars.loc[cars[col].isnull(),col] = cars['manufacturer'].map(man_dict)\n",
    "    return cars\n",
    "\n",
    "def imputeManufacturer(cars):\n",
    "    for item in ['Isuzu','chevrolet',\"Willys\",\"Hino\",\"suzuki\",'isuzu']:\n",
    "        cars.loc[cars[\"model\"].str.contains(item) ==True, 'manufacturer'] = item\n",
    "    for item in ['Mustang',\"F-150\",\"mustang\",\"f-150\",\"MUSTANG\",\"FORD\",\"ford\",\"Ford\",\"Focus\",\"focus\",\"F-550\",\"f-550\",\"F550\",\"F-350\",\"f-350\",\"F350\",\"expedition el xlt sport\",\"transit\"]:\n",
    "        cars.loc[cars[\"model\"].str.contains(item) ==True, 'manufacturer'] = \"ford\"\n",
    "    for item in ['freightliner cascadia 113','freightliner cascadia','freightliner m2 effer','Freightliner M2 112 15','Freightliner','FREIGHTLINER']:\n",
    "        cars.loc[cars[\"model\"].str.contains(item) ==True, 'manufacturer'] = \"Daimler Trucks North America\"\n",
    "    for item in ['International 4300']:\n",
    "        cars.loc[cars[\"model\"].str.contains(item) ==True, 'manufacturer'] = \"International DuraStar, America\"\n",
    "    for item in ['Hummer H3',\"Hummer H2 SUT\",\"Terrain SLE\",\"HUMMER H2\",\"HUMMER H3\",\"oldsmobile toronado\",\"oldsmobile alero\",'h2 hummer']:\n",
    "        cars.loc[cars[\"model\"].str.contains(item) ==True, 'manufacturer'] = \"General Motors\"\n",
    "    for item in [\"MG Midget\",\"mg midget\",\"MG MIDGET\",\"MG\"]:\n",
    "        cars.loc[cars[\"model\"].str.contains(item) ==True, 'manufacturer'] = \"MG\"\n",
    "    for item in [\"cooper\",\"COOPER\",\"Cooper\"]:\n",
    "        cars.loc[cars[\"model\"].str.contains(item) ==True, 'manufacturer'] = \"mini\"\n",
    "    for item in ['Scion FR-S',\"scion fr-s\",\"SUBARU\",\"subaru\",\"Subaru\",\"forester\"]:\n",
    "        cars.loc[cars[\"model\"].str.contains(item) ==True, 'manufacturer'] = \"subaru\"\n",
    "    for item in ['cr-v',\"CR-V\",\"crv\",\"CRV\",\"HR-V\",\"hr-v\",\"hrv\",\"HRV\",\"Honda\",\"honda\",\"HONDA\",\"Accord\",\"accord\",\"odyssey\",\"Odyssey\",\"Civic\",\"civic\"]:\n",
    "        cars.loc[cars[\"model\"].str.contains(item) ==True, 'manufacturer'] = \"honda\"\n",
    "    for item in ['Maserati',\"maserati\",\"MASERATI\"]:\n",
    "        cars.loc[cars[\"model\"].str.contains(item) ==True, 'manufacturer'] = \"maserati\"\n",
    "    for item in ['hyundia',\"Hyundai\",\"hyundai\",\"HYUNDAI\",\"hyindai\",'hyndai',\"Hundai\",\"Tucson\",\"tucson\",\"Genesis G80\",'genesis G80']:\n",
    "        cars.loc[cars[\"model\"].str.contains(item) ==True, 'manufacturer'] = \"hyundai\"\n",
    "    for item in ['Mazda',\"MAZDA\",\"mazda\",\"cx-5\",\"cx-7\",\"CX-5\",\"CX-7\"]:\n",
    "        cars.loc[cars[\"model\"].str.contains(item) ==True, 'manufacturer'] = \"mazda\"\n",
    "    for item in ['Isuzu',\"ISUZU\",\"isuzu\"]:\n",
    "        cars.loc[cars[\"model\"].str.contains(item) ==True, 'manufacturer'] = \"isuzu\"\n",
    "    for item in ['Suzuki',\"SUZUKI\",\"suzuki\"]:\n",
    "        cars.loc[cars[\"model\"].str.contains(item) ==True, 'manufacturer'] = \"suzuki\"\n",
    "    for item in ['CHRVROLET',\"Cheverolet\",\"cheverolet\", \"cheverolet\",\"chevrolet\",\"Chevrolet\",\"equinox\",\"Cherolet\",\"silverado 1500\",\"tahoe lt\",\"city express\",'olet Spark']:\n",
    "        cars.loc[cars[\"model\"].str.contains(item) ==True, 'manufacturer'] = \"chevrolet\"\n",
    "    for item in ['SCION XB',\"scion tc\",\"Scion TC\",\"Scion tc\",'Scion XD Hatchback','scion XD Hatchback','scion','Scion',\"TOYOTA\",\"toyota\",\"Toyota\",\"yaris\",\"Yaris\",\"YARIS\",\"camry\",\"Camry\",\"CAMRY\",\"corolla\",'Corolla',\"Civic\",\"civic\"]:\n",
    "        cars.loc[cars[\"model\"].str.contains(item) ==True, 'manufacturer'] = \"toyota\"\n",
    "    for item in ['Hudson','hudson']:\n",
    "        cars.loc[cars[\"model\"].str.contains(item) ==True, 'manufacturer'] = \"hudson motor car\"\n",
    "    for item in ['BMW',\"bmw\"]:\n",
    "        cars.loc[cars[\"model\"].str.contains(item) ==True, 'manufacturer'] = \"bmw\"   \n",
    "    for item in ['e-class e 350','BENZ','benz','Benz']:\n",
    "        cars.loc[cars[\"model\"].str.contains(item) ==True, 'manufacturer'] = \"mercedes-benz\"    \n",
    "    for item in ['International Durastar Terex','Terrex','terrex']:\n",
    "        cars.loc[cars[\"model\"].str.contains(item) ==True, 'manufacturer'] = \"terrex\"      \n",
    "    for item in ['freightliner century']:\n",
    "        cars.loc[cars[\"model\"].str.contains(item) ==True, 'manufacturer'] = \"freightliner truck\"\n",
    "    for item in ['international 4300']:\n",
    "        cars.loc[cars[\"model\"].str.contains(item) ==True, 'manufacturer'] = \"international harvester company\"\n",
    "    for item in ['patriot','grand cherokee']:\n",
    "        cars.loc[cars[\"model\"].str.contains(item) ==True, 'manufacturer'] = \"jeep\"\n",
    "    for item in ['leaf sv hatchback 4d','maxima','frontier','note','Note']:\n",
    "        cars.loc[cars[\"model\"].str.contains(item) ==True, 'manufacturer'] = \"nissan\"\n",
    "    for item in ['Bentley Continental',\"bentley continental\"]:\n",
    "        cars.loc[cars[\"model\"].str.contains(item) ==True, 'manufacturer'] = \"bentley motors\"\n",
    "    for item in ['KAWASAKI',\"kawasaki\"]:\n",
    "        cars.loc[cars[\"model\"].str.contains(item) ==True, 'manufacturer'] = \"kawasaki\"\n",
    "    for item in ['wagen Atlas','wagen Passat']:\n",
    "        cars.loc[cars[\"model\"].str.contains(item) ==True, 'manufacturer'] = \"volkswagen\"\n",
    "    for item in ['73cj5','fuso fe160']:\n",
    "        cars.loc[cars[\"model\"].str.contains(item) ==True, 'manufacturer'] = \"mitsubishi\"\n",
    "    for item in ['LAMBORGHINI','lamborghini','Lamborghini','GALLARDO','gallardo']:\n",
    "        cars.loc[cars[\"model\"].str.contains(item) ==True, 'manufacturer'] = \"lamborghini\"  \n",
    "    return cars\n",
    "\n",
    "def imputeOdometerByYear(df):\n",
    "    #Imputes missing values of odometer with mean odometer for the year the car was made\n",
    "    odo_dict = df.groupby(\"year\", as_index=True)['odometer'].mean().fillna(np.mean(df.odometer)).to_dict()\n",
    "    df['odometer'] = df.odometer.fillna(df.year.map(odo_dict))\n",
    "    return df\n",
    "\n",
    "\n",
    "def TF_IDF(df, number = 1000):\n",
    "    \n",
    "    \"\"\"This function adds the TF-IDF values of the most important words to the dataframe,\n",
    "    the number can be chosen above\"\"\"\n",
    "    \n",
    "    \"\"\"TF - term frequency \"\"\"\n",
    "    \n",
    "    \"\"\"Inverse Document Frequency (IDF)\n",
    "    IDF is a measure of how important a term is\"\"\"\n",
    "    \n",
    "    vectorizer = TfidfVectorizer(stop_words='english',max_features = number)\n",
    "    sentences  = df[\"description\"].values\n",
    "    vectorizer.fit(sentences)\n",
    "    vector_spaces = vectorizer.transform(sentences)\n",
    "    tfidf = vector_spaces.toarray()\n",
    "    \n",
    "    clf = load('kmeans.joblib') \n",
    "    df[\"tfidf\"] = clf.predict(tfidf)\n",
    "    df = pd.get_dummies(df, prefix=\"tfidf\",columns=['tfidf'])\n",
    "    \n",
    "    df.reset_index(drop=True, inplace=True)\n",
    "    #df = pd.concat([df, pd.DataFrame(tfidf)], axis = 1)\n",
    "    return(df)\n",
    "\n",
    "\n",
    "def color_clean(df, color_list=['white','black','silver']):\n",
    "    #groups all the colors that are not in the list as \"other\"\n",
    "    #one hot encoding of paint_color column   \n",
    "    df[\"paint_color\"]=df[\"paint_color\"].apply(lambda x: x if x in color_list else \"other\")\n",
    "    df=pd.get_dummies(df, prefix=\"color\",columns=['paint_color'])\n",
    "    return df\n",
    "\n",
    "\n",
    "def cylinder_clean(df):\n",
    "    df[\"cylinders\"] = df[\"cylinders\"].fillna(\"missing\")\n",
    "    df = pd.get_dummies(df, columns = [\"cylinders\"]).drop(\\\n",
    "        [\"cylinders_12 cylinders\", \"cylinders_10 cylinders\", \"cylinders_3 cylinders\", \"cylinders_5 cylinders\", \"cylinders_other\"], axis = 1)\n",
    "    return(df)\n",
    "\n",
    "\n",
    "def drive_clean(df):\n",
    "    #Assigns 4wd to all SUVs, pickups and offroads with nan drive type \n",
    "    df.loc[(((df[\"type\"]==\"SUV\") | \n",
    "            (df[\"type\"]==\"pickup\") | \n",
    "            (df[\"type\"]==\"offroad\")) & (df['drive'].isnull()==True)),\"drive\"] = \"4wd\"\n",
    "    #assign \"other\" to all nan values\n",
    "    df.loc[(df['drive'].isnull()==True),\"drive\"]=\"other\"\n",
    "    #one hot encoding 4wd, rwd, fwd, other\n",
    "    df = pd.get_dummies(df,prefix=\"drive\",columns=['drive'])\n",
    "    return df    \n",
    "\n",
    "\n",
    "def transmission_clean(df):\n",
    "    #Groups nan values with \"other\" type of transmission\n",
    "    df.loc[(df['transmission'].isnull()==True),\"transmission\"]=\"automatic\"\n",
    "    #one hot encoding manual, automatic and other\n",
    "    df = pd.get_dummies(df,prefix=\"transmission\",columns=['transmission'])\n",
    "    return df\n",
    "\n",
    "\n",
    "def titlestatus_clean(df):\n",
    "    df = pd.get_dummies(df,prefix=\"status\",columns=['title_status'])\n",
    "    return df\n",
    "\n",
    "\n",
    "def condition_clean(df):\n",
    "    # nan values to good because average price of nan is close to averag price of good/excellent...\n",
    "    df.loc[(df['condition'].isnull()==True),\"condition\"]=\"good\" \n",
    "    # good condition -->1    bad condition--->0\n",
    "    df['condition']=df['condition'].apply(lambda x: 1 if x in ['excellent','good','like new','new'] else 0)\n",
    "    return df\n",
    "\n",
    "def fuel_clean(df):\n",
    "    #group nan values to gas fuel type\n",
    "    df.loc[(df['fuel'].isnull()==True),\"fuel\"]=\"gas\"\n",
    "    #one hot encoding\n",
    "    df = pd.get_dummies(df,prefix=\"fuel\",columns=['fuel'])\n",
    "    return df\n",
    "\n",
    "\n",
    "def fillLatLongNA(df):\n",
    "    #Fills all missing lat, long values with the median of their respective region\n",
    "    region_coords_ave_lat = df[['region','lat']].groupby(['region'])['lat'].median().to_dict()\n",
    "    region_coords_ave_long = df[['region','long']].groupby(['region'])['long'].median().to_dict()\n",
    "    df.loc[df['lat'].isnull(),'lat'] = df['region'].map(region_coords_ave_lat)\n",
    "    df.loc[df['long'].isnull(),'long'] = df['region'].map(region_coords_ave_long)\n",
    "    return df\n",
    "\n",
    "def fillLatLongOutliers(df):\n",
    "    latlong_outliers = (df.lat<20)  | (df.lat>70) | (df.long < -160) | (df.long > -60)\n",
    "    region_coords_ave_lat = df[['region','lat']].groupby(['region'])['lat'].median().to_dict()\n",
    "    region_coords_ave_long = df[['region','long']].groupby(['region'])['long'].median().to_dict()\n",
    "    df.loc[latlong_outliers,'lat'] = df['region'].map(region_coords_ave_lat)\n",
    "    df.loc[latlong_outliers,'long'] = df['region'].map(region_coords_ave_long)\n",
    "    return df\n",
    "\n",
    "def cleanLatLong(df):\n",
    "    df = fillLatLongNA(df)\n",
    "    df = fillLatLongOutliers(df)\n",
    "    return df\n",
    "\n",
    "def cleanLocationFeatures(df):\n",
    "    df = cleanLatLong(df)\n",
    "    #one hot encoding state\n",
    "    df = pd.get_dummies(df,prefix=\"state\",columns=['state'])\n",
    "    #drop region\n",
    "    df.drop(['region'], axis=1, inplace=True)\n",
    "    \n",
    "    return df  \n",
    "\n",
    "def groupStateByPrice(df, lower=10000, higher=15000):\n",
    "    ### Adds binary feature indicating if car was sold in cheap, medium or expensive state\n",
    "    \n",
    "    cars = df.copy()\n",
    "    #Find median price by state\n",
    "    bar = cars[['price','state']].groupby(['state'])['price'].median()\n",
    "    bar.sort_values(ascending=False, inplace=True)\n",
    "    \n",
    "    #Find expensive, mid price and cheap states according to thresholds\n",
    "    expensive_states = np.array(bar[bar >higher].index)\n",
    "    mediumprice_state = np.array(bar[(bar > lower) & (bar <= higher)].index)\n",
    "    cheap_state = np.array(bar[bar <= lower].index)\n",
    "    \n",
    "    #Add on hot encoded features to dataset\n",
    "    cars['state_expensive'] = cars.state.isin(expensive_states).astype(int)\n",
    "    cars['state_medium'] = cars.state.isin(mediumprice_state).astype(int)\n",
    "    cars['state_cheap'] = cars.state.isin(cheap_state).astype(int)\n",
    "    \n",
    "    return cars\n",
    "\n",
    "def cutIQR(cleaned_df, col):\n",
    "    print('Remove outliers...')\n",
    "\n",
    "    Q1 = cleaned_df[col].quantile(0.25)\n",
    "    Q3 = cleaned_df[col].quantile(0.75)\n",
    "    IQR = Q3 - Q1\n",
    "\n",
    "    lower = Q1 - 1.5 * IQR\n",
    "    upper = Q3 + 1.5 * IQR\n",
    "    \n",
    "    cutted_df = cleaned_df[(cleaned_df[col] >= lower) & (cleaned_df[col] <= upper)]\n",
    "\n",
    "    return cutted_df, upper\n",
    "\n",
    "\n",
    "def ohe_manuf_country(cars):\n",
    "    \n",
    "    # Manufacturer country assigned\n",
    "    \n",
    "    cars.loc[ cars[\"manufacturer\"] == \"ford\", \"manuf_country\"] = \"USA\"\n",
    "    cars.loc[ cars[\"manufacturer\"] == \"chevrolet\", \"manuf_country\"] = \"USA\"\n",
    "    cars.loc[ cars[\"manufacturer\"] == \"toyota\", \"manuf_country\"] = \"Japan\"\n",
    "    cars.loc[ cars[\"manufacturer\"] == \"honda\", \"manuf_country\"] = \"Japan\"\n",
    "    cars.loc[ cars[\"manufacturer\"] == \"nissan\", \"manuf_country\"] = \"Japan\"\n",
    "    cars.loc[ cars[\"manufacturer\"] == \"jeep\", \"manuf_country\"] = \"USA\"\n",
    "    cars.loc[ cars[\"manufacturer\"] == \"ram\", \"manuf_country\"] = \"USA\"\n",
    "    cars.loc[ cars[\"manufacturer\"] == \"gmc\", \"manuf_country\"] = \"USA\"\n",
    "    cars.loc[ cars[\"manufacturer\"] == \"dodge\", \"manuf_country\"] = \"USA\"\n",
    "    cars.loc[ cars[\"manufacturer\"] == \"bmw\", \"manuf_country\"] = \"Germany\"\n",
    "    cars.loc[ cars[\"manufacturer\"] == \"hyundai\", \"manuf_country\"] = \"S.Korea\"\n",
    "    cars.loc[ cars[\"manufacturer\"] == \"mercedes-benz\", \"manuf_country\"] = \"Germany\"\n",
    "    cars.loc[ cars[\"manufacturer\"] == \"subaru\", \"manuf_country\"] = \"Japan\"\n",
    "    cars.loc[ cars[\"manufacturer\"] == \"volkswagen\", \"manuf_country\"] = \"Germany\"\n",
    "    cars.loc[ cars[\"manufacturer\"] == \"kia\", \"manuf_country\"] = \"S.Korea\"\n",
    "    cars.loc[ cars[\"manufacturer\"] == \"chrysler\", \"manuf_country\"] = \"USA\"\n",
    "    cars.loc[ cars[\"manufacturer\"] == \"lexus\", \"manuf_country\"] = \"Japan\"\n",
    "    cars.loc[ cars[\"manufacturer\"] == \"cadillac\", \"manuf_country\"] = \"USA\"\n",
    "    cars.loc[ cars[\"manufacturer\"] == \"buick\", \"manuf_country\"] = \"USA\"\n",
    "    cars.loc[ cars[\"manufacturer\"] == \"mazda\", \"manuf_country\"] = \"Japan\"\n",
    "    cars.loc[ cars[\"manufacturer\"] == \"audi\", \"manuf_country\"] = \"Germany\"\n",
    "    cars.loc[ cars[\"manufacturer\"] == \"acura\", \"manuf_country\"] = \"Japan\"\n",
    "    cars.loc[ cars[\"manufacturer\"] == \"infiniti\", \"manuf_country\"] = \"Japan\"\n",
    "    cars.loc[ cars[\"manufacturer\"] == \"lincoln\", \"manuf_country\"] = \"USA\"\n",
    "    cars.loc[ cars[\"manufacturer\"] == \"pontiac\", \"manuf_country\"] = \"USA\"\n",
    "    cars.loc[ cars[\"manufacturer\"] == \"volvo\", \"manuf_country\"] = \"Sweden\"\n",
    "    cars.loc[ cars[\"manufacturer\"] == \"mini\", \"manuf_country\"] = \"UK\"\n",
    "    cars.loc[ cars[\"manufacturer\"] == \"mitsubishi\", \"manuf_country\"] = \"Japan\"\n",
    "    cars.loc[ cars[\"manufacturer\"] == \"porsche\", \"manuf_country\"] = \"Germany\"\n",
    "    cars.loc[ cars[\"manufacturer\"] == \"rover\", \"manuf_country\"] = \"UK\"\n",
    "    cars.loc[ cars[\"manufacturer\"] == \"mercury\", \"manuf_country\"] = \"USA\"\n",
    "    cars.loc[ cars[\"manufacturer\"] == \"saturn\", \"manuf_country\"] = \"USA\"\n",
    "    cars.loc[ cars[\"manufacturer\"] == \"tesla\", \"manuf_country\"] = \"USA\"\n",
    "    cars.loc[ cars[\"manufacturer\"] == \"jaguar\", \"manuf_country\"] = \"UK\"\n",
    "    cars.loc[ cars[\"manufacturer\"] == \"fiat\", \"manuf_country\"] = \"Italy\"\n",
    "    cars.loc[ cars[\"manufacturer\"] == \"alfa-romeo\", \"manuf_country\"] = \"Italy\"\n",
    "    cars.loc[ cars[\"manufacturer\"] == \"harley-davidson\", \"manuf_country\"] = \"USA\"\n",
    "    cars.loc[ cars[\"manufacturer\"] == \"ferrari\", \"manuf_country\"] = \"Italy\"\n",
    "    cars.loc[ cars[\"manufacturer\"] == \"datsun\", \"manuf_country\"] = \"Japan\"\n",
    "    cars.loc[ cars[\"manufacturer\"] == \"aston-martin\", \"manuf_country\"] = \"UK\"\n",
    "    cars.loc[ cars[\"manufacturer\"] == \"land-rover\", \"manuf_country\"] = \"UK\"\n",
    "    cars.loc[ cars[\"manufacturer\"] == \"morgan\", \"manuf_country\"] = \"UK\"\n",
    "    cars.loc[ cars[\"manufacturer\"] == \"hennessey\", \"manuf_country\"] = \"USA\"\n",
    "    cars.loc[ cars[\"manufacturer\"].isnull(), \"manuf_country\"] = \"missing\"\n",
    "    \n",
    "    # One hot encoding to one of USA, Japan, Germany, S.Korea, UK, Sweden, Italy and missing\n",
    "    \n",
    "    cars = pd.get_dummies( cars, columns = [\"manuf_country\"])\n",
    "    \n",
    "    # Manufacturer needs to be dropped\n",
    "    # There are some imputed manufacturers that are not in this section.\n",
    "    # These need to be considered as well.\n",
    "    \n",
    "    return cars\n",
    "\n",
    "def ohe_type(cars):\n",
    "    \n",
    "    # Some condition groupings\n",
    "    \n",
    "    cars.loc[ cars[\"type\"] == \"sedan\", \"usage_type\"] = \"daily\" \n",
    "    cars.loc[ cars[\"type\"] == \"SUV\", \"usage_type\"] = \"daily\"\n",
    "    cars.loc[ cars[\"type\"] == \"pickup\", \"usage_type\"] = \"professional\"\n",
    "    cars.loc[ cars[\"type\"] == \"truck\", \"usage_type\"] = \"professional\"\n",
    "    cars.loc[ cars[\"type\"] == \"other\", \"usage_type\"] = \"other\"\n",
    "    cars.loc[ cars[\"type\"] == \"coupe\", \"usage_type\"] = \"daily\"\n",
    "    cars.loc[ cars[\"type\"] == \"hatchback\", \"usage_type\"] = \"daily\"\n",
    "    cars.loc[ cars[\"type\"] == \"wagon\", \"usage_type\"] = \"daily\"\n",
    "    cars.loc[ cars[\"type\"] == \"van\", \"usage_type\"] = \"professional\"\n",
    "    cars.loc[ cars[\"type\"] == \"convertible\", \"usage_type\"] = \"daily\"\n",
    "    cars.loc[ cars[\"type\"] == \"mini-van\", \"usage_type\"] = \"professional\"\n",
    "    cars.loc[ cars[\"type\"] == \"bus\", \"usage_type\"] = \"professional\"\n",
    "    cars.loc[ cars[\"type\"] == \"offroad\", \"usage_type\"] = \"other\"\n",
    "    #---------------------------------------\n",
    "    # Assumption\n",
    "    \n",
    "    #cars.loc[ (cars[\"type\"].isnull()) & (cars[\"fuel\"] == \"gas\") , \"usage_type\"] = \"daily\"\n",
    "    #---------------------------------------\n",
    "    cars.loc[ cars[\"type\"].isnull() , \"usage_type\"] = \"missing\"\n",
    "    \n",
    "    # One hot encoding type (original values)\n",
    "    \n",
    "    cars = pd.get_dummies( cars, columns = [\"usage_type\"])\n",
    "    \n",
    "    # Type needs to be dropped\n",
    "    # Too many values are missing. Don't think we can impute.\n",
    "    # Maybe we can use the most correlated feature to impute.\n",
    "    \n",
    "    return cars\n",
    "\n",
    "def ultimateClean(df):\n",
    "    start = time.time()\n",
    "    #remove useless values\n",
    "    df = remove_columns(df)\n",
    "    \n",
    "    # REMOVE IQR OUTLIERS\n",
    "#     df = price_range(df, lower = 50, higher = 60_000, sampling = False)\n",
    "    df, _ = cutIQR(df, 'odometer')\n",
    "    df, _ = cutIQR(df, 'price')\n",
    "    print(\"Cleaned outliers !\")\n",
    "\n",
    "    #impute some missing values\n",
    "    df = imputeManufacturer(df)\n",
    "    df = dateToDatetime(df)\n",
    "    df = basicImpute(df)\n",
    "    df = imputeMissingByManufacturer(df, col='fuel')\n",
    "    df = imputeMissingByManufacturer(df, col='transmission')\n",
    "    df = imputeOdometerByYear(df)\n",
    "    print(\"Imputed Missing Values\")\n",
    "    \n",
    "    #one hot encodings\n",
    "    df = color_clean(df, color_list=['white','black','silver'])\n",
    "    df = drive_clean(df)\n",
    "    df = transmission_clean(df)\n",
    "    df = titlestatus_clean(df)\n",
    "    df = cleanLocationFeatures(df)\n",
    "    df = cylinder_clean(df)\n",
    "    df = condition_clean(df)\n",
    "    df = fuel_clean(df)\n",
    "    df = ohe_type(df)\n",
    "    df = ohe_manuf_country(df)\n",
    "    df = TF_IDF(df, number = 1000)\n",
    "    \n",
    "    print(\"One hot encodings done!\")\n",
    "    \n",
    "    \n",
    "    \n",
    "    #remove remaining missing values\n",
    "    df.drop(['model', \"posting_date\", \"manufacturer\", \"type\", \"description\"], axis=1, inplace=True)\n",
    "    \n",
    "    df = df[df['year'].notna()]\n",
    "    \n",
    "    \n",
    "    df = df.dropna()\n",
    "    print(\"Total Time: \", (time.time() - start)/60, \" minutes\")\n",
    "\n",
    "    \n",
    "    return df\n",
    "\n",
    "\n",
    "def normalise(df):\n",
    "    cols_to_norm = [\"year\", \"odometer\", \"lat\", \"long\"]\n",
    "    df[cols_to_norm] = MinMaxScaler().fit_transform(df[cols_to_norm])\n",
    "    #FOR TRAIN TEST SPLIT USE SKLEARN train_test_split\n",
    "    return(df)"
   ]
  },
  {
   "cell_type": "code",
   "execution_count": 2,
   "metadata": {},
   "outputs": [],
   "source": [
    "cars = pd.read_csv('vehicles.csv')"
   ]
  },
  {
   "cell_type": "code",
   "execution_count": 3,
   "metadata": {
    "scrolled": false
   },
   "outputs": [
    {
     "name": "stdout",
     "output_type": "stream",
     "text": [
      "Remove outliers...\n",
      "Remove outliers...\n",
      "Cleaned outliers !\n",
      "Imputed Missing Values\n"
     ]
    },
    {
     "name": "stderr",
     "output_type": "stream",
     "text": [
      "C:\\Users\\Flynn\\anaconda3\\lib\\site-packages\\sklearn\\base.py:329: UserWarning: Trying to unpickle estimator KMeans from version 0.23.2 when using version 0.23.1. This might lead to breaking code or invalid results. Use at your own risk.\n",
      "  warnings.warn(\n"
     ]
    },
    {
     "name": "stdout",
     "output_type": "stream",
     "text": [
      "One hot encodings done!\n",
      "Total Time:  7.006202459335327  minutes\n"
     ]
    }
   ],
   "source": [
    "ulti = ultimateClean(cars)"
   ]
  },
  {
   "cell_type": "code",
   "execution_count": 4,
   "metadata": {},
   "outputs": [],
   "source": [
    "from sklearn.preprocessing import MinMaxScaler"
   ]
  },
  {
   "cell_type": "code",
   "execution_count": 5,
   "metadata": {},
   "outputs": [],
   "source": [
    "final = normalise(ulti)"
   ]
  },
  {
   "cell_type": "code",
   "execution_count": 6,
   "metadata": {},
   "outputs": [
    {
     "data": {
      "text/html": [
       "<div>\n",
       "<style scoped>\n",
       "    .dataframe tbody tr th:only-of-type {\n",
       "        vertical-align: middle;\n",
       "    }\n",
       "\n",
       "    .dataframe tbody tr th {\n",
       "        vertical-align: top;\n",
       "    }\n",
       "\n",
       "    .dataframe thead th {\n",
       "        text-align: right;\n",
       "    }\n",
       "</style>\n",
       "<table border=\"1\" class=\"dataframe\">\n",
       "  <thead>\n",
       "    <tr style=\"text-align: right;\">\n",
       "      <th></th>\n",
       "      <th>price</th>\n",
       "      <th>year</th>\n",
       "      <th>condition</th>\n",
       "      <th>odometer</th>\n",
       "      <th>lat</th>\n",
       "      <th>long</th>\n",
       "      <th>color_black</th>\n",
       "      <th>color_other</th>\n",
       "      <th>color_silver</th>\n",
       "      <th>color_white</th>\n",
       "      <th>...</th>\n",
       "      <th>manuf_country_USA</th>\n",
       "      <th>manuf_country_missing</th>\n",
       "      <th>tfidf_0</th>\n",
       "      <th>tfidf_2</th>\n",
       "      <th>tfidf_4</th>\n",
       "      <th>tfidf_5</th>\n",
       "      <th>tfidf_6</th>\n",
       "      <th>tfidf_7</th>\n",
       "      <th>tfidf_8</th>\n",
       "      <th>tfidf_9</th>\n",
       "    </tr>\n",
       "  </thead>\n",
       "  <tbody>\n",
       "    <tr>\n",
       "      <th>0</th>\n",
       "      <td>35990</td>\n",
       "      <td>0.909091</td>\n",
       "      <td>1</td>\n",
       "      <td>0.119662</td>\n",
       "      <td>0.279689</td>\n",
       "      <td>0.748585</td>\n",
       "      <td>0</td>\n",
       "      <td>1</td>\n",
       "      <td>0</td>\n",
       "      <td>0</td>\n",
       "      <td>...</td>\n",
       "      <td>1</td>\n",
       "      <td>0</td>\n",
       "      <td>0</td>\n",
       "      <td>0</td>\n",
       "      <td>1</td>\n",
       "      <td>0</td>\n",
       "      <td>0</td>\n",
       "      <td>0</td>\n",
       "      <td>0</td>\n",
       "      <td>0</td>\n",
       "    </tr>\n",
       "    <tr>\n",
       "      <th>1</th>\n",
       "      <td>7500</td>\n",
       "      <td>0.942149</td>\n",
       "      <td>1</td>\n",
       "      <td>0.342079</td>\n",
       "      <td>0.278744</td>\n",
       "      <td>0.748704</td>\n",
       "      <td>0</td>\n",
       "      <td>1</td>\n",
       "      <td>0</td>\n",
       "      <td>0</td>\n",
       "      <td>...</td>\n",
       "      <td>0</td>\n",
       "      <td>0</td>\n",
       "      <td>0</td>\n",
       "      <td>0</td>\n",
       "      <td>1</td>\n",
       "      <td>0</td>\n",
       "      <td>0</td>\n",
       "      <td>0</td>\n",
       "      <td>0</td>\n",
       "      <td>0</td>\n",
       "    </tr>\n",
       "    <tr>\n",
       "      <th>2</th>\n",
       "      <td>4900</td>\n",
       "      <td>0.876033</td>\n",
       "      <td>1</td>\n",
       "      <td>0.318126</td>\n",
       "      <td>0.280285</td>\n",
       "      <td>0.748745</td>\n",
       "      <td>0</td>\n",
       "      <td>1</td>\n",
       "      <td>0</td>\n",
       "      <td>0</td>\n",
       "      <td>...</td>\n",
       "      <td>0</td>\n",
       "      <td>0</td>\n",
       "      <td>0</td>\n",
       "      <td>0</td>\n",
       "      <td>1</td>\n",
       "      <td>0</td>\n",
       "      <td>0</td>\n",
       "      <td>0</td>\n",
       "      <td>0</td>\n",
       "      <td>0</td>\n",
       "    </tr>\n",
       "    <tr>\n",
       "      <th>3</th>\n",
       "      <td>2000</td>\n",
       "      <td>0.611570</td>\n",
       "      <td>1</td>\n",
       "      <td>0.694391</td>\n",
       "      <td>0.285726</td>\n",
       "      <td>0.751247</td>\n",
       "      <td>0</td>\n",
       "      <td>1</td>\n",
       "      <td>0</td>\n",
       "      <td>0</td>\n",
       "      <td>...</td>\n",
       "      <td>1</td>\n",
       "      <td>0</td>\n",
       "      <td>0</td>\n",
       "      <td>0</td>\n",
       "      <td>1</td>\n",
       "      <td>0</td>\n",
       "      <td>0</td>\n",
       "      <td>0</td>\n",
       "      <td>0</td>\n",
       "      <td>0</td>\n",
       "    </tr>\n",
       "    <tr>\n",
       "      <th>4</th>\n",
       "      <td>19500</td>\n",
       "      <td>0.867769</td>\n",
       "      <td>1</td>\n",
       "      <td>0.423944</td>\n",
       "      <td>0.278744</td>\n",
       "      <td>0.748704</td>\n",
       "      <td>0</td>\n",
       "      <td>1</td>\n",
       "      <td>0</td>\n",
       "      <td>0</td>\n",
       "      <td>...</td>\n",
       "      <td>1</td>\n",
       "      <td>0</td>\n",
       "      <td>0</td>\n",
       "      <td>0</td>\n",
       "      <td>1</td>\n",
       "      <td>0</td>\n",
       "      <td>0</td>\n",
       "      <td>0</td>\n",
       "      <td>0</td>\n",
       "      <td>0</td>\n",
       "    </tr>\n",
       "    <tr>\n",
       "      <th>...</th>\n",
       "      <td>...</td>\n",
       "      <td>...</td>\n",
       "      <td>...</td>\n",
       "      <td>...</td>\n",
       "      <td>...</td>\n",
       "      <td>...</td>\n",
       "      <td>...</td>\n",
       "      <td>...</td>\n",
       "      <td>...</td>\n",
       "      <td>...</td>\n",
       "      <td>...</td>\n",
       "      <td>...</td>\n",
       "      <td>...</td>\n",
       "      <td>...</td>\n",
       "      <td>...</td>\n",
       "      <td>...</td>\n",
       "      <td>...</td>\n",
       "      <td>...</td>\n",
       "      <td>...</td>\n",
       "      <td>...</td>\n",
       "      <td>...</td>\n",
       "    </tr>\n",
       "    <tr>\n",
       "      <th>389093</th>\n",
       "      <td>14995</td>\n",
       "      <td>0.942149</td>\n",
       "      <td>1</td>\n",
       "      <td>0.306226</td>\n",
       "      <td>0.542414</td>\n",
       "      <td>0.704188</td>\n",
       "      <td>0</td>\n",
       "      <td>0</td>\n",
       "      <td>1</td>\n",
       "      <td>0</td>\n",
       "      <td>...</td>\n",
       "      <td>1</td>\n",
       "      <td>0</td>\n",
       "      <td>0</td>\n",
       "      <td>0</td>\n",
       "      <td>1</td>\n",
       "      <td>0</td>\n",
       "      <td>0</td>\n",
       "      <td>0</td>\n",
       "      <td>0</td>\n",
       "      <td>0</td>\n",
       "    </tr>\n",
       "    <tr>\n",
       "      <th>389094</th>\n",
       "      <td>17895</td>\n",
       "      <td>0.975207</td>\n",
       "      <td>1</td>\n",
       "      <td>0.116541</td>\n",
       "      <td>0.542414</td>\n",
       "      <td>0.704177</td>\n",
       "      <td>0</td>\n",
       "      <td>0</td>\n",
       "      <td>0</td>\n",
       "      <td>1</td>\n",
       "      <td>...</td>\n",
       "      <td>0</td>\n",
       "      <td>0</td>\n",
       "      <td>0</td>\n",
       "      <td>0</td>\n",
       "      <td>1</td>\n",
       "      <td>0</td>\n",
       "      <td>0</td>\n",
       "      <td>0</td>\n",
       "      <td>0</td>\n",
       "      <td>0</td>\n",
       "    </tr>\n",
       "    <tr>\n",
       "      <th>389095</th>\n",
       "      <td>17900</td>\n",
       "      <td>0.942149</td>\n",
       "      <td>1</td>\n",
       "      <td>0.193699</td>\n",
       "      <td>0.550773</td>\n",
       "      <td>0.531857</td>\n",
       "      <td>1</td>\n",
       "      <td>0</td>\n",
       "      <td>0</td>\n",
       "      <td>0</td>\n",
       "      <td>...</td>\n",
       "      <td>1</td>\n",
       "      <td>0</td>\n",
       "      <td>0</td>\n",
       "      <td>0</td>\n",
       "      <td>1</td>\n",
       "      <td>0</td>\n",
       "      <td>0</td>\n",
       "      <td>0</td>\n",
       "      <td>0</td>\n",
       "      <td>0</td>\n",
       "    </tr>\n",
       "    <tr>\n",
       "      <th>389096</th>\n",
       "      <td>1300</td>\n",
       "      <td>0.892562</td>\n",
       "      <td>1</td>\n",
       "      <td>0.599369</td>\n",
       "      <td>0.550519</td>\n",
       "      <td>0.532111</td>\n",
       "      <td>0</td>\n",
       "      <td>0</td>\n",
       "      <td>0</td>\n",
       "      <td>1</td>\n",
       "      <td>...</td>\n",
       "      <td>1</td>\n",
       "      <td>0</td>\n",
       "      <td>0</td>\n",
       "      <td>0</td>\n",
       "      <td>1</td>\n",
       "      <td>0</td>\n",
       "      <td>0</td>\n",
       "      <td>0</td>\n",
       "      <td>0</td>\n",
       "      <td>0</td>\n",
       "    </tr>\n",
       "    <tr>\n",
       "      <th>389097</th>\n",
       "      <td>22900</td>\n",
       "      <td>0.892562</td>\n",
       "      <td>1</td>\n",
       "      <td>0.599369</td>\n",
       "      <td>0.491482</td>\n",
       "      <td>0.718757</td>\n",
       "      <td>0</td>\n",
       "      <td>1</td>\n",
       "      <td>0</td>\n",
       "      <td>0</td>\n",
       "      <td>...</td>\n",
       "      <td>0</td>\n",
       "      <td>0</td>\n",
       "      <td>0</td>\n",
       "      <td>0</td>\n",
       "      <td>1</td>\n",
       "      <td>0</td>\n",
       "      <td>0</td>\n",
       "      <td>0</td>\n",
       "      <td>0</td>\n",
       "      <td>0</td>\n",
       "    </tr>\n",
       "  </tbody>\n",
       "</table>\n",
       "<p>388335 rows × 103 columns</p>\n",
       "</div>"
      ],
      "text/plain": [
       "        price      year  condition  odometer       lat      long  color_black  \\\n",
       "0       35990  0.909091          1  0.119662  0.279689  0.748585            0   \n",
       "1        7500  0.942149          1  0.342079  0.278744  0.748704            0   \n",
       "2        4900  0.876033          1  0.318126  0.280285  0.748745            0   \n",
       "3        2000  0.611570          1  0.694391  0.285726  0.751247            0   \n",
       "4       19500  0.867769          1  0.423944  0.278744  0.748704            0   \n",
       "...       ...       ...        ...       ...       ...       ...          ...   \n",
       "389093  14995  0.942149          1  0.306226  0.542414  0.704188            0   \n",
       "389094  17895  0.975207          1  0.116541  0.542414  0.704177            0   \n",
       "389095  17900  0.942149          1  0.193699  0.550773  0.531857            1   \n",
       "389096   1300  0.892562          1  0.599369  0.550519  0.532111            0   \n",
       "389097  22900  0.892562          1  0.599369  0.491482  0.718757            0   \n",
       "\n",
       "        color_other  color_silver  color_white  ...  manuf_country_USA  \\\n",
       "0                 1             0            0  ...                  1   \n",
       "1                 1             0            0  ...                  0   \n",
       "2                 1             0            0  ...                  0   \n",
       "3                 1             0            0  ...                  1   \n",
       "4                 1             0            0  ...                  1   \n",
       "...             ...           ...          ...  ...                ...   \n",
       "389093            0             1            0  ...                  1   \n",
       "389094            0             0            1  ...                  0   \n",
       "389095            0             0            0  ...                  1   \n",
       "389096            0             0            1  ...                  1   \n",
       "389097            1             0            0  ...                  0   \n",
       "\n",
       "        manuf_country_missing  tfidf_0  tfidf_2  tfidf_4  tfidf_5  tfidf_6  \\\n",
       "0                           0        0        0        1        0        0   \n",
       "1                           0        0        0        1        0        0   \n",
       "2                           0        0        0        1        0        0   \n",
       "3                           0        0        0        1        0        0   \n",
       "4                           0        0        0        1        0        0   \n",
       "...                       ...      ...      ...      ...      ...      ...   \n",
       "389093                      0        0        0        1        0        0   \n",
       "389094                      0        0        0        1        0        0   \n",
       "389095                      0        0        0        1        0        0   \n",
       "389096                      0        0        0        1        0        0   \n",
       "389097                      0        0        0        1        0        0   \n",
       "\n",
       "        tfidf_7  tfidf_8  tfidf_9  \n",
       "0             0        0        0  \n",
       "1             0        0        0  \n",
       "2             0        0        0  \n",
       "3             0        0        0  \n",
       "4             0        0        0  \n",
       "...         ...      ...      ...  \n",
       "389093        0        0        0  \n",
       "389094        0        0        0  \n",
       "389095        0        0        0  \n",
       "389096        0        0        0  \n",
       "389097        0        0        0  \n",
       "\n",
       "[388335 rows x 103 columns]"
      ]
     },
     "execution_count": 6,
     "metadata": {},
     "output_type": "execute_result"
    }
   ],
   "source": [
    "final"
   ]
  },
  {
   "cell_type": "markdown",
   "metadata": {},
   "source": [
    "# Random Forest 1"
   ]
  },
  {
   "cell_type": "code",
   "execution_count": 151,
   "metadata": {},
   "outputs": [],
   "source": [
    "from sklearn.ensemble import RandomForestRegressor\n",
    "regressor = RandomForestRegressor(n_estimators = 100, random_state = 0)"
   ]
  },
  {
   "cell_type": "code",
   "execution_count": 152,
   "metadata": {},
   "outputs": [],
   "source": [
    "X = final[[\"year\", \"condition\"]]\n",
    "y = final[\"price\"]"
   ]
  },
  {
   "cell_type": "code",
   "execution_count": 153,
   "metadata": {},
   "outputs": [],
   "source": [
    "from sklearn.model_selection import train_test_split\n",
    "X_train, X_test, y_train, y_test = train_test_split(X, y, test_size = 0.2, shuffle = True)"
   ]
  },
  {
   "cell_type": "code",
   "execution_count": 214,
   "metadata": {},
   "outputs": [],
   "source": [
    "from sklearn.model_selection import KFold , cross_val_score, cross_val_predict\n",
    "kf = KFold(n_splits = 5)"
   ]
  },
  {
   "cell_type": "code",
   "execution_count": 145,
   "metadata": {
    "scrolled": false
   },
   "outputs": [],
   "source": [
    "results = cross_val_score(regressor, X_train, y_train, cv = kf)"
   ]
  },
  {
   "cell_type": "code",
   "execution_count": 155,
   "metadata": {},
   "outputs": [
    {
     "data": {
      "text/plain": [
       "RandomForestRegressor(random_state=0)"
      ]
     },
     "execution_count": 155,
     "metadata": {},
     "output_type": "execute_result"
    }
   ],
   "source": [
    "regressor.fit(X_train, y_train)"
   ]
  },
  {
   "cell_type": "code",
   "execution_count": 156,
   "metadata": {},
   "outputs": [],
   "source": [
    "y_pred = regressor.predict(X_test)"
   ]
  },
  {
   "cell_type": "code",
   "execution_count": 157,
   "metadata": {},
   "outputs": [],
   "source": [
    "from sklearn.metrics import mean_squared_error"
   ]
  },
  {
   "cell_type": "code",
   "execution_count": 158,
   "metadata": {},
   "outputs": [
    {
     "data": {
      "text/plain": [
       "97276425.95057908"
      ]
     },
     "execution_count": 158,
     "metadata": {},
     "output_type": "execute_result"
    }
   ],
   "source": [
    "X_y_train = regressor.predict(X_train)\n",
    "mean_squared_error(y_train,X_y_train)"
   ]
  },
  {
   "cell_type": "code",
   "execution_count": 159,
   "metadata": {},
   "outputs": [
    {
     "data": {
      "text/plain": [
       "98219109.25183159"
      ]
     },
     "execution_count": 159,
     "metadata": {},
     "output_type": "execute_result"
    }
   ],
   "source": [
    "mean_squared_error(y_test, y_pred)"
   ]
  },
  {
   "cell_type": "markdown",
   "metadata": {},
   "source": [
    "# Random Forest 1 randomly two features to check if it works"
   ]
  },
  {
   "cell_type": "code",
   "execution_count": 160,
   "metadata": {},
   "outputs": [],
   "source": [
    "from sklearn.ensemble import RandomForestRegressor\n",
    "regressor = RandomForestRegressor(n_estimators = 100, random_state = 0)"
   ]
  },
  {
   "cell_type": "code",
   "execution_count": 161,
   "metadata": {},
   "outputs": [],
   "source": [
    "X = final[[\"year\", \"condition\"]]\n",
    "y = final[\"price\"]"
   ]
  },
  {
   "cell_type": "code",
   "execution_count": 162,
   "metadata": {},
   "outputs": [],
   "source": [
    "from sklearn.model_selection import train_test_split\n",
    "X_train, X_test, y_train, y_test = train_test_split(X, y, test_size = 0.2, shuffle = True)"
   ]
  },
  {
   "cell_type": "code",
   "execution_count": 163,
   "metadata": {},
   "outputs": [],
   "source": [
    "from sklearn.model_selection import KFold , cross_val_score \n",
    "kf = KFold(n_splits = 5)"
   ]
  },
  {
   "cell_type": "code",
   "execution_count": 164,
   "metadata": {
    "scrolled": false
   },
   "outputs": [],
   "source": [
    "results = cross_val_score(regressor, X_train, y_train, cv = kf)"
   ]
  },
  {
   "cell_type": "code",
   "execution_count": 165,
   "metadata": {},
   "outputs": [
    {
     "data": {
      "text/plain": [
       "RandomForestRegressor(random_state=0)"
      ]
     },
     "execution_count": 165,
     "metadata": {},
     "output_type": "execute_result"
    }
   ],
   "source": [
    "regressor.fit(X_train, y_train)"
   ]
  },
  {
   "cell_type": "code",
   "execution_count": 166,
   "metadata": {},
   "outputs": [],
   "source": [
    "y_pred = regressor.predict(X_test)"
   ]
  },
  {
   "cell_type": "code",
   "execution_count": 167,
   "metadata": {},
   "outputs": [],
   "source": [
    "from sklearn.metrics import mean_squared_error"
   ]
  },
  {
   "cell_type": "code",
   "execution_count": 168,
   "metadata": {},
   "outputs": [
    {
     "data": {
      "text/plain": [
       "97621127.7704834"
      ]
     },
     "execution_count": 168,
     "metadata": {},
     "output_type": "execute_result"
    }
   ],
   "source": [
    "X_y_train = regressor.predict(X_train)\n",
    "mean_squared_error(y_train,X_y_train)"
   ]
  },
  {
   "cell_type": "code",
   "execution_count": 169,
   "metadata": {},
   "outputs": [
    {
     "data": {
      "text/plain": [
       "96825738.25711957"
      ]
     },
     "execution_count": 169,
     "metadata": {},
     "output_type": "execute_result"
    }
   ],
   "source": [
    "mean_squared_error(y_test, y_pred)"
   ]
  },
  {
   "cell_type": "code",
   "execution_count": 170,
   "metadata": {},
   "outputs": [
    {
     "data": {
      "text/plain": [
       "array([0.25250325, 0.2535727 , 0.24928404, 0.25178059, 0.25313733])"
      ]
     },
     "execution_count": 170,
     "metadata": {},
     "output_type": "execute_result"
    }
   ],
   "source": [
    "results"
   ]
  },
  {
   "cell_type": "markdown",
   "metadata": {},
   "source": [
    "# Random Forest 2 all features"
   ]
  },
  {
   "cell_type": "code",
   "execution_count": 7,
   "metadata": {},
   "outputs": [],
   "source": [
    "from sklearn.ensemble import RandomForestRegressor\n",
    "regressor = RandomForestRegressor(n_estimators = 100, random_state = 0)"
   ]
  },
  {
   "cell_type": "code",
   "execution_count": 8,
   "metadata": {},
   "outputs": [],
   "source": [
    "X = final.drop(columns = [\"price\"])\n",
    "y = final[\"price\"]"
   ]
  },
  {
   "cell_type": "code",
   "execution_count": 9,
   "metadata": {},
   "outputs": [],
   "source": [
    "from sklearn.model_selection import train_test_split\n",
    "X_train, X_test, y_train, y_test = train_test_split(X, y, test_size = 0.2, shuffle = True)"
   ]
  },
  {
   "cell_type": "code",
   "execution_count": 10,
   "metadata": {},
   "outputs": [],
   "source": [
    "from sklearn.model_selection import KFold , cross_val_score \n",
    "kf = KFold(n_splits = 5)"
   ]
  },
  {
   "cell_type": "code",
   "execution_count": 12,
   "metadata": {
    "collapsed": true
   },
   "outputs": [
    {
     "ename": "KeyboardInterrupt",
     "evalue": "",
     "output_type": "error",
     "traceback": [
      "\u001b[1;31m---------------------------------------------------------------------------\u001b[0m",
      "\u001b[1;31mKeyboardInterrupt\u001b[0m                         Traceback (most recent call last)",
      "\u001b[1;32m<ipython-input-12-817e367be2cf>\u001b[0m in \u001b[0;36m<module>\u001b[1;34m\u001b[0m\n\u001b[1;32m----> 1\u001b[1;33m \u001b[0mresults\u001b[0m \u001b[1;33m=\u001b[0m \u001b[0mcross_val_score\u001b[0m\u001b[1;33m(\u001b[0m\u001b[0mregressor\u001b[0m\u001b[1;33m,\u001b[0m \u001b[0mX_train\u001b[0m\u001b[1;33m,\u001b[0m \u001b[0my_train\u001b[0m\u001b[1;33m,\u001b[0m \u001b[0mcv\u001b[0m \u001b[1;33m=\u001b[0m \u001b[0mkf\u001b[0m\u001b[1;33m)\u001b[0m\u001b[1;33m\u001b[0m\u001b[1;33m\u001b[0m\u001b[0m\n\u001b[0m",
      "\u001b[1;32m~\\anaconda3\\lib\\site-packages\\sklearn\\utils\\validation.py\u001b[0m in \u001b[0;36minner_f\u001b[1;34m(*args, **kwargs)\u001b[0m\n\u001b[0;32m     71\u001b[0m                           FutureWarning)\n\u001b[0;32m     72\u001b[0m         \u001b[0mkwargs\u001b[0m\u001b[1;33m.\u001b[0m\u001b[0mupdate\u001b[0m\u001b[1;33m(\u001b[0m\u001b[1;33m{\u001b[0m\u001b[0mk\u001b[0m\u001b[1;33m:\u001b[0m \u001b[0marg\u001b[0m \u001b[1;32mfor\u001b[0m \u001b[0mk\u001b[0m\u001b[1;33m,\u001b[0m \u001b[0marg\u001b[0m \u001b[1;32min\u001b[0m \u001b[0mzip\u001b[0m\u001b[1;33m(\u001b[0m\u001b[0msig\u001b[0m\u001b[1;33m.\u001b[0m\u001b[0mparameters\u001b[0m\u001b[1;33m,\u001b[0m \u001b[0margs\u001b[0m\u001b[1;33m)\u001b[0m\u001b[1;33m}\u001b[0m\u001b[1;33m)\u001b[0m\u001b[1;33m\u001b[0m\u001b[1;33m\u001b[0m\u001b[0m\n\u001b[1;32m---> 73\u001b[1;33m         \u001b[1;32mreturn\u001b[0m \u001b[0mf\u001b[0m\u001b[1;33m(\u001b[0m\u001b[1;33m**\u001b[0m\u001b[0mkwargs\u001b[0m\u001b[1;33m)\u001b[0m\u001b[1;33m\u001b[0m\u001b[1;33m\u001b[0m\u001b[0m\n\u001b[0m\u001b[0;32m     74\u001b[0m     \u001b[1;32mreturn\u001b[0m \u001b[0minner_f\u001b[0m\u001b[1;33m\u001b[0m\u001b[1;33m\u001b[0m\u001b[0m\n\u001b[0;32m     75\u001b[0m \u001b[1;33m\u001b[0m\u001b[0m\n",
      "\u001b[1;32m~\\anaconda3\\lib\\site-packages\\sklearn\\model_selection\\_validation.py\u001b[0m in \u001b[0;36mcross_val_score\u001b[1;34m(estimator, X, y, groups, scoring, cv, n_jobs, verbose, fit_params, pre_dispatch, error_score)\u001b[0m\n\u001b[0;32m    399\u001b[0m     \u001b[0mscorer\u001b[0m \u001b[1;33m=\u001b[0m \u001b[0mcheck_scoring\u001b[0m\u001b[1;33m(\u001b[0m\u001b[0mestimator\u001b[0m\u001b[1;33m,\u001b[0m \u001b[0mscoring\u001b[0m\u001b[1;33m=\u001b[0m\u001b[0mscoring\u001b[0m\u001b[1;33m)\u001b[0m\u001b[1;33m\u001b[0m\u001b[1;33m\u001b[0m\u001b[0m\n\u001b[0;32m    400\u001b[0m \u001b[1;33m\u001b[0m\u001b[0m\n\u001b[1;32m--> 401\u001b[1;33m     cv_results = cross_validate(estimator=estimator, X=X, y=y, groups=groups,\n\u001b[0m\u001b[0;32m    402\u001b[0m                                 \u001b[0mscoring\u001b[0m\u001b[1;33m=\u001b[0m\u001b[1;33m{\u001b[0m\u001b[1;34m'score'\u001b[0m\u001b[1;33m:\u001b[0m \u001b[0mscorer\u001b[0m\u001b[1;33m}\u001b[0m\u001b[1;33m,\u001b[0m \u001b[0mcv\u001b[0m\u001b[1;33m=\u001b[0m\u001b[0mcv\u001b[0m\u001b[1;33m,\u001b[0m\u001b[1;33m\u001b[0m\u001b[1;33m\u001b[0m\u001b[0m\n\u001b[0;32m    403\u001b[0m                                 \u001b[0mn_jobs\u001b[0m\u001b[1;33m=\u001b[0m\u001b[0mn_jobs\u001b[0m\u001b[1;33m,\u001b[0m \u001b[0mverbose\u001b[0m\u001b[1;33m=\u001b[0m\u001b[0mverbose\u001b[0m\u001b[1;33m,\u001b[0m\u001b[1;33m\u001b[0m\u001b[1;33m\u001b[0m\u001b[0m\n",
      "\u001b[1;32m~\\anaconda3\\lib\\site-packages\\sklearn\\utils\\validation.py\u001b[0m in \u001b[0;36minner_f\u001b[1;34m(*args, **kwargs)\u001b[0m\n\u001b[0;32m     71\u001b[0m                           FutureWarning)\n\u001b[0;32m     72\u001b[0m         \u001b[0mkwargs\u001b[0m\u001b[1;33m.\u001b[0m\u001b[0mupdate\u001b[0m\u001b[1;33m(\u001b[0m\u001b[1;33m{\u001b[0m\u001b[0mk\u001b[0m\u001b[1;33m:\u001b[0m \u001b[0marg\u001b[0m \u001b[1;32mfor\u001b[0m \u001b[0mk\u001b[0m\u001b[1;33m,\u001b[0m \u001b[0marg\u001b[0m \u001b[1;32min\u001b[0m \u001b[0mzip\u001b[0m\u001b[1;33m(\u001b[0m\u001b[0msig\u001b[0m\u001b[1;33m.\u001b[0m\u001b[0mparameters\u001b[0m\u001b[1;33m,\u001b[0m \u001b[0margs\u001b[0m\u001b[1;33m)\u001b[0m\u001b[1;33m}\u001b[0m\u001b[1;33m)\u001b[0m\u001b[1;33m\u001b[0m\u001b[1;33m\u001b[0m\u001b[0m\n\u001b[1;32m---> 73\u001b[1;33m         \u001b[1;32mreturn\u001b[0m \u001b[0mf\u001b[0m\u001b[1;33m(\u001b[0m\u001b[1;33m**\u001b[0m\u001b[0mkwargs\u001b[0m\u001b[1;33m)\u001b[0m\u001b[1;33m\u001b[0m\u001b[1;33m\u001b[0m\u001b[0m\n\u001b[0m\u001b[0;32m     74\u001b[0m     \u001b[1;32mreturn\u001b[0m \u001b[0minner_f\u001b[0m\u001b[1;33m\u001b[0m\u001b[1;33m\u001b[0m\u001b[0m\n\u001b[0;32m     75\u001b[0m \u001b[1;33m\u001b[0m\u001b[0m\n",
      "\u001b[1;32m~\\anaconda3\\lib\\site-packages\\sklearn\\model_selection\\_validation.py\u001b[0m in \u001b[0;36mcross_validate\u001b[1;34m(estimator, X, y, groups, scoring, cv, n_jobs, verbose, fit_params, pre_dispatch, return_train_score, return_estimator, error_score)\u001b[0m\n\u001b[0;32m    240\u001b[0m     parallel = Parallel(n_jobs=n_jobs, verbose=verbose,\n\u001b[0;32m    241\u001b[0m                         pre_dispatch=pre_dispatch)\n\u001b[1;32m--> 242\u001b[1;33m     scores = parallel(\n\u001b[0m\u001b[0;32m    243\u001b[0m         delayed(_fit_and_score)(\n\u001b[0;32m    244\u001b[0m             \u001b[0mclone\u001b[0m\u001b[1;33m(\u001b[0m\u001b[0mestimator\u001b[0m\u001b[1;33m)\u001b[0m\u001b[1;33m,\u001b[0m \u001b[0mX\u001b[0m\u001b[1;33m,\u001b[0m \u001b[0my\u001b[0m\u001b[1;33m,\u001b[0m \u001b[0mscorers\u001b[0m\u001b[1;33m,\u001b[0m \u001b[0mtrain\u001b[0m\u001b[1;33m,\u001b[0m \u001b[0mtest\u001b[0m\u001b[1;33m,\u001b[0m \u001b[0mverbose\u001b[0m\u001b[1;33m,\u001b[0m \u001b[1;32mNone\u001b[0m\u001b[1;33m,\u001b[0m\u001b[1;33m\u001b[0m\u001b[1;33m\u001b[0m\u001b[0m\n",
      "\u001b[1;32m~\\anaconda3\\lib\\site-packages\\joblib\\parallel.py\u001b[0m in \u001b[0;36m__call__\u001b[1;34m(self, iterable)\u001b[0m\n\u001b[0;32m   1030\u001b[0m                 \u001b[0mself\u001b[0m\u001b[1;33m.\u001b[0m\u001b[0m_iterating\u001b[0m \u001b[1;33m=\u001b[0m \u001b[0mself\u001b[0m\u001b[1;33m.\u001b[0m\u001b[0m_original_iterator\u001b[0m \u001b[1;32mis\u001b[0m \u001b[1;32mnot\u001b[0m \u001b[1;32mNone\u001b[0m\u001b[1;33m\u001b[0m\u001b[1;33m\u001b[0m\u001b[0m\n\u001b[0;32m   1031\u001b[0m \u001b[1;33m\u001b[0m\u001b[0m\n\u001b[1;32m-> 1032\u001b[1;33m             \u001b[1;32mwhile\u001b[0m \u001b[0mself\u001b[0m\u001b[1;33m.\u001b[0m\u001b[0mdispatch_one_batch\u001b[0m\u001b[1;33m(\u001b[0m\u001b[0miterator\u001b[0m\u001b[1;33m)\u001b[0m\u001b[1;33m:\u001b[0m\u001b[1;33m\u001b[0m\u001b[1;33m\u001b[0m\u001b[0m\n\u001b[0m\u001b[0;32m   1033\u001b[0m                 \u001b[1;32mpass\u001b[0m\u001b[1;33m\u001b[0m\u001b[1;33m\u001b[0m\u001b[0m\n\u001b[0;32m   1034\u001b[0m \u001b[1;33m\u001b[0m\u001b[0m\n",
      "\u001b[1;32m~\\anaconda3\\lib\\site-packages\\joblib\\parallel.py\u001b[0m in \u001b[0;36mdispatch_one_batch\u001b[1;34m(self, iterator)\u001b[0m\n\u001b[0;32m    845\u001b[0m                 \u001b[1;32mreturn\u001b[0m \u001b[1;32mFalse\u001b[0m\u001b[1;33m\u001b[0m\u001b[1;33m\u001b[0m\u001b[0m\n\u001b[0;32m    846\u001b[0m             \u001b[1;32melse\u001b[0m\u001b[1;33m:\u001b[0m\u001b[1;33m\u001b[0m\u001b[1;33m\u001b[0m\u001b[0m\n\u001b[1;32m--> 847\u001b[1;33m                 \u001b[0mself\u001b[0m\u001b[1;33m.\u001b[0m\u001b[0m_dispatch\u001b[0m\u001b[1;33m(\u001b[0m\u001b[0mtasks\u001b[0m\u001b[1;33m)\u001b[0m\u001b[1;33m\u001b[0m\u001b[1;33m\u001b[0m\u001b[0m\n\u001b[0m\u001b[0;32m    848\u001b[0m                 \u001b[1;32mreturn\u001b[0m \u001b[1;32mTrue\u001b[0m\u001b[1;33m\u001b[0m\u001b[1;33m\u001b[0m\u001b[0m\n\u001b[0;32m    849\u001b[0m \u001b[1;33m\u001b[0m\u001b[0m\n",
      "\u001b[1;32m~\\anaconda3\\lib\\site-packages\\joblib\\parallel.py\u001b[0m in \u001b[0;36m_dispatch\u001b[1;34m(self, batch)\u001b[0m\n\u001b[0;32m    763\u001b[0m         \u001b[1;32mwith\u001b[0m \u001b[0mself\u001b[0m\u001b[1;33m.\u001b[0m\u001b[0m_lock\u001b[0m\u001b[1;33m:\u001b[0m\u001b[1;33m\u001b[0m\u001b[1;33m\u001b[0m\u001b[0m\n\u001b[0;32m    764\u001b[0m             \u001b[0mjob_idx\u001b[0m \u001b[1;33m=\u001b[0m \u001b[0mlen\u001b[0m\u001b[1;33m(\u001b[0m\u001b[0mself\u001b[0m\u001b[1;33m.\u001b[0m\u001b[0m_jobs\u001b[0m\u001b[1;33m)\u001b[0m\u001b[1;33m\u001b[0m\u001b[1;33m\u001b[0m\u001b[0m\n\u001b[1;32m--> 765\u001b[1;33m             \u001b[0mjob\u001b[0m \u001b[1;33m=\u001b[0m \u001b[0mself\u001b[0m\u001b[1;33m.\u001b[0m\u001b[0m_backend\u001b[0m\u001b[1;33m.\u001b[0m\u001b[0mapply_async\u001b[0m\u001b[1;33m(\u001b[0m\u001b[0mbatch\u001b[0m\u001b[1;33m,\u001b[0m \u001b[0mcallback\u001b[0m\u001b[1;33m=\u001b[0m\u001b[0mcb\u001b[0m\u001b[1;33m)\u001b[0m\u001b[1;33m\u001b[0m\u001b[1;33m\u001b[0m\u001b[0m\n\u001b[0m\u001b[0;32m    766\u001b[0m             \u001b[1;31m# A job can complete so quickly than its callback is\u001b[0m\u001b[1;33m\u001b[0m\u001b[1;33m\u001b[0m\u001b[1;33m\u001b[0m\u001b[0m\n\u001b[0;32m    767\u001b[0m             \u001b[1;31m# called before we get here, causing self._jobs to\u001b[0m\u001b[1;33m\u001b[0m\u001b[1;33m\u001b[0m\u001b[1;33m\u001b[0m\u001b[0m\n",
      "\u001b[1;32m~\\anaconda3\\lib\\site-packages\\joblib\\_parallel_backends.py\u001b[0m in \u001b[0;36mapply_async\u001b[1;34m(self, func, callback)\u001b[0m\n\u001b[0;32m    206\u001b[0m     \u001b[1;32mdef\u001b[0m \u001b[0mapply_async\u001b[0m\u001b[1;33m(\u001b[0m\u001b[0mself\u001b[0m\u001b[1;33m,\u001b[0m \u001b[0mfunc\u001b[0m\u001b[1;33m,\u001b[0m \u001b[0mcallback\u001b[0m\u001b[1;33m=\u001b[0m\u001b[1;32mNone\u001b[0m\u001b[1;33m)\u001b[0m\u001b[1;33m:\u001b[0m\u001b[1;33m\u001b[0m\u001b[1;33m\u001b[0m\u001b[0m\n\u001b[0;32m    207\u001b[0m         \u001b[1;34m\"\"\"Schedule a func to be run\"\"\"\u001b[0m\u001b[1;33m\u001b[0m\u001b[1;33m\u001b[0m\u001b[0m\n\u001b[1;32m--> 208\u001b[1;33m         \u001b[0mresult\u001b[0m \u001b[1;33m=\u001b[0m \u001b[0mImmediateResult\u001b[0m\u001b[1;33m(\u001b[0m\u001b[0mfunc\u001b[0m\u001b[1;33m)\u001b[0m\u001b[1;33m\u001b[0m\u001b[1;33m\u001b[0m\u001b[0m\n\u001b[0m\u001b[0;32m    209\u001b[0m         \u001b[1;32mif\u001b[0m \u001b[0mcallback\u001b[0m\u001b[1;33m:\u001b[0m\u001b[1;33m\u001b[0m\u001b[1;33m\u001b[0m\u001b[0m\n\u001b[0;32m    210\u001b[0m             \u001b[0mcallback\u001b[0m\u001b[1;33m(\u001b[0m\u001b[0mresult\u001b[0m\u001b[1;33m)\u001b[0m\u001b[1;33m\u001b[0m\u001b[1;33m\u001b[0m\u001b[0m\n",
      "\u001b[1;32m~\\anaconda3\\lib\\site-packages\\joblib\\_parallel_backends.py\u001b[0m in \u001b[0;36m__init__\u001b[1;34m(self, batch)\u001b[0m\n\u001b[0;32m    570\u001b[0m         \u001b[1;31m# Don't delay the application, to avoid keeping the input\u001b[0m\u001b[1;33m\u001b[0m\u001b[1;33m\u001b[0m\u001b[1;33m\u001b[0m\u001b[0m\n\u001b[0;32m    571\u001b[0m         \u001b[1;31m# arguments in memory\u001b[0m\u001b[1;33m\u001b[0m\u001b[1;33m\u001b[0m\u001b[1;33m\u001b[0m\u001b[0m\n\u001b[1;32m--> 572\u001b[1;33m         \u001b[0mself\u001b[0m\u001b[1;33m.\u001b[0m\u001b[0mresults\u001b[0m \u001b[1;33m=\u001b[0m \u001b[0mbatch\u001b[0m\u001b[1;33m(\u001b[0m\u001b[1;33m)\u001b[0m\u001b[1;33m\u001b[0m\u001b[1;33m\u001b[0m\u001b[0m\n\u001b[0m\u001b[0;32m    573\u001b[0m \u001b[1;33m\u001b[0m\u001b[0m\n\u001b[0;32m    574\u001b[0m     \u001b[1;32mdef\u001b[0m \u001b[0mget\u001b[0m\u001b[1;33m(\u001b[0m\u001b[0mself\u001b[0m\u001b[1;33m)\u001b[0m\u001b[1;33m:\u001b[0m\u001b[1;33m\u001b[0m\u001b[1;33m\u001b[0m\u001b[0m\n",
      "\u001b[1;32m~\\anaconda3\\lib\\site-packages\\joblib\\parallel.py\u001b[0m in \u001b[0;36m__call__\u001b[1;34m(self)\u001b[0m\n\u001b[0;32m    250\u001b[0m         \u001b[1;31m# change the default number of processes to -1\u001b[0m\u001b[1;33m\u001b[0m\u001b[1;33m\u001b[0m\u001b[1;33m\u001b[0m\u001b[0m\n\u001b[0;32m    251\u001b[0m         \u001b[1;32mwith\u001b[0m \u001b[0mparallel_backend\u001b[0m\u001b[1;33m(\u001b[0m\u001b[0mself\u001b[0m\u001b[1;33m.\u001b[0m\u001b[0m_backend\u001b[0m\u001b[1;33m,\u001b[0m \u001b[0mn_jobs\u001b[0m\u001b[1;33m=\u001b[0m\u001b[0mself\u001b[0m\u001b[1;33m.\u001b[0m\u001b[0m_n_jobs\u001b[0m\u001b[1;33m)\u001b[0m\u001b[1;33m:\u001b[0m\u001b[1;33m\u001b[0m\u001b[1;33m\u001b[0m\u001b[0m\n\u001b[1;32m--> 252\u001b[1;33m             return [func(*args, **kwargs)\n\u001b[0m\u001b[0;32m    253\u001b[0m                     for func, args, kwargs in self.items]\n\u001b[0;32m    254\u001b[0m \u001b[1;33m\u001b[0m\u001b[0m\n",
      "\u001b[1;32m~\\anaconda3\\lib\\site-packages\\joblib\\parallel.py\u001b[0m in \u001b[0;36m<listcomp>\u001b[1;34m(.0)\u001b[0m\n\u001b[0;32m    250\u001b[0m         \u001b[1;31m# change the default number of processes to -1\u001b[0m\u001b[1;33m\u001b[0m\u001b[1;33m\u001b[0m\u001b[1;33m\u001b[0m\u001b[0m\n\u001b[0;32m    251\u001b[0m         \u001b[1;32mwith\u001b[0m \u001b[0mparallel_backend\u001b[0m\u001b[1;33m(\u001b[0m\u001b[0mself\u001b[0m\u001b[1;33m.\u001b[0m\u001b[0m_backend\u001b[0m\u001b[1;33m,\u001b[0m \u001b[0mn_jobs\u001b[0m\u001b[1;33m=\u001b[0m\u001b[0mself\u001b[0m\u001b[1;33m.\u001b[0m\u001b[0m_n_jobs\u001b[0m\u001b[1;33m)\u001b[0m\u001b[1;33m:\u001b[0m\u001b[1;33m\u001b[0m\u001b[1;33m\u001b[0m\u001b[0m\n\u001b[1;32m--> 252\u001b[1;33m             return [func(*args, **kwargs)\n\u001b[0m\u001b[0;32m    253\u001b[0m                     for func, args, kwargs in self.items]\n\u001b[0;32m    254\u001b[0m \u001b[1;33m\u001b[0m\u001b[0m\n",
      "\u001b[1;32m~\\anaconda3\\lib\\site-packages\\sklearn\\model_selection\\_validation.py\u001b[0m in \u001b[0;36m_fit_and_score\u001b[1;34m(estimator, X, y, scorer, train, test, verbose, parameters, fit_params, return_train_score, return_parameters, return_n_test_samples, return_times, return_estimator, error_score)\u001b[0m\n\u001b[0;32m    529\u001b[0m             \u001b[0mestimator\u001b[0m\u001b[1;33m.\u001b[0m\u001b[0mfit\u001b[0m\u001b[1;33m(\u001b[0m\u001b[0mX_train\u001b[0m\u001b[1;33m,\u001b[0m \u001b[1;33m**\u001b[0m\u001b[0mfit_params\u001b[0m\u001b[1;33m)\u001b[0m\u001b[1;33m\u001b[0m\u001b[1;33m\u001b[0m\u001b[0m\n\u001b[0;32m    530\u001b[0m         \u001b[1;32melse\u001b[0m\u001b[1;33m:\u001b[0m\u001b[1;33m\u001b[0m\u001b[1;33m\u001b[0m\u001b[0m\n\u001b[1;32m--> 531\u001b[1;33m             \u001b[0mestimator\u001b[0m\u001b[1;33m.\u001b[0m\u001b[0mfit\u001b[0m\u001b[1;33m(\u001b[0m\u001b[0mX_train\u001b[0m\u001b[1;33m,\u001b[0m \u001b[0my_train\u001b[0m\u001b[1;33m,\u001b[0m \u001b[1;33m**\u001b[0m\u001b[0mfit_params\u001b[0m\u001b[1;33m)\u001b[0m\u001b[1;33m\u001b[0m\u001b[1;33m\u001b[0m\u001b[0m\n\u001b[0m\u001b[0;32m    532\u001b[0m \u001b[1;33m\u001b[0m\u001b[0m\n\u001b[0;32m    533\u001b[0m     \u001b[1;32mexcept\u001b[0m \u001b[0mException\u001b[0m \u001b[1;32mas\u001b[0m \u001b[0me\u001b[0m\u001b[1;33m:\u001b[0m\u001b[1;33m\u001b[0m\u001b[1;33m\u001b[0m\u001b[0m\n",
      "\u001b[1;32m~\\anaconda3\\lib\\site-packages\\sklearn\\ensemble\\_forest.py\u001b[0m in \u001b[0;36mfit\u001b[1;34m(self, X, y, sample_weight)\u001b[0m\n\u001b[0;32m    384\u001b[0m             \u001b[1;31m# parallel_backend contexts set at a higher level,\u001b[0m\u001b[1;33m\u001b[0m\u001b[1;33m\u001b[0m\u001b[1;33m\u001b[0m\u001b[0m\n\u001b[0;32m    385\u001b[0m             \u001b[1;31m# since correctness does not rely on using threads.\u001b[0m\u001b[1;33m\u001b[0m\u001b[1;33m\u001b[0m\u001b[1;33m\u001b[0m\u001b[0m\n\u001b[1;32m--> 386\u001b[1;33m             trees = Parallel(n_jobs=self.n_jobs, verbose=self.verbose,\n\u001b[0m\u001b[0;32m    387\u001b[0m                              \u001b[1;33m**\u001b[0m\u001b[0m_joblib_parallel_args\u001b[0m\u001b[1;33m(\u001b[0m\u001b[0mprefer\u001b[0m\u001b[1;33m=\u001b[0m\u001b[1;34m'threads'\u001b[0m\u001b[1;33m)\u001b[0m\u001b[1;33m)\u001b[0m\u001b[1;33m(\u001b[0m\u001b[1;33m\u001b[0m\u001b[1;33m\u001b[0m\u001b[0m\n\u001b[0;32m    388\u001b[0m                 delayed(_parallel_build_trees)(\n",
      "\u001b[1;32m~\\anaconda3\\lib\\site-packages\\joblib\\parallel.py\u001b[0m in \u001b[0;36m__call__\u001b[1;34m(self, iterable)\u001b[0m\n\u001b[0;32m   1030\u001b[0m                 \u001b[0mself\u001b[0m\u001b[1;33m.\u001b[0m\u001b[0m_iterating\u001b[0m \u001b[1;33m=\u001b[0m \u001b[0mself\u001b[0m\u001b[1;33m.\u001b[0m\u001b[0m_original_iterator\u001b[0m \u001b[1;32mis\u001b[0m \u001b[1;32mnot\u001b[0m \u001b[1;32mNone\u001b[0m\u001b[1;33m\u001b[0m\u001b[1;33m\u001b[0m\u001b[0m\n\u001b[0;32m   1031\u001b[0m \u001b[1;33m\u001b[0m\u001b[0m\n\u001b[1;32m-> 1032\u001b[1;33m             \u001b[1;32mwhile\u001b[0m \u001b[0mself\u001b[0m\u001b[1;33m.\u001b[0m\u001b[0mdispatch_one_batch\u001b[0m\u001b[1;33m(\u001b[0m\u001b[0miterator\u001b[0m\u001b[1;33m)\u001b[0m\u001b[1;33m:\u001b[0m\u001b[1;33m\u001b[0m\u001b[1;33m\u001b[0m\u001b[0m\n\u001b[0m\u001b[0;32m   1033\u001b[0m                 \u001b[1;32mpass\u001b[0m\u001b[1;33m\u001b[0m\u001b[1;33m\u001b[0m\u001b[0m\n\u001b[0;32m   1034\u001b[0m \u001b[1;33m\u001b[0m\u001b[0m\n",
      "\u001b[1;32m~\\anaconda3\\lib\\site-packages\\joblib\\parallel.py\u001b[0m in \u001b[0;36mdispatch_one_batch\u001b[1;34m(self, iterator)\u001b[0m\n\u001b[0;32m    845\u001b[0m                 \u001b[1;32mreturn\u001b[0m \u001b[1;32mFalse\u001b[0m\u001b[1;33m\u001b[0m\u001b[1;33m\u001b[0m\u001b[0m\n\u001b[0;32m    846\u001b[0m             \u001b[1;32melse\u001b[0m\u001b[1;33m:\u001b[0m\u001b[1;33m\u001b[0m\u001b[1;33m\u001b[0m\u001b[0m\n\u001b[1;32m--> 847\u001b[1;33m                 \u001b[0mself\u001b[0m\u001b[1;33m.\u001b[0m\u001b[0m_dispatch\u001b[0m\u001b[1;33m(\u001b[0m\u001b[0mtasks\u001b[0m\u001b[1;33m)\u001b[0m\u001b[1;33m\u001b[0m\u001b[1;33m\u001b[0m\u001b[0m\n\u001b[0m\u001b[0;32m    848\u001b[0m                 \u001b[1;32mreturn\u001b[0m \u001b[1;32mTrue\u001b[0m\u001b[1;33m\u001b[0m\u001b[1;33m\u001b[0m\u001b[0m\n\u001b[0;32m    849\u001b[0m \u001b[1;33m\u001b[0m\u001b[0m\n",
      "\u001b[1;32m~\\anaconda3\\lib\\site-packages\\joblib\\parallel.py\u001b[0m in \u001b[0;36m_dispatch\u001b[1;34m(self, batch)\u001b[0m\n\u001b[0;32m    763\u001b[0m         \u001b[1;32mwith\u001b[0m \u001b[0mself\u001b[0m\u001b[1;33m.\u001b[0m\u001b[0m_lock\u001b[0m\u001b[1;33m:\u001b[0m\u001b[1;33m\u001b[0m\u001b[1;33m\u001b[0m\u001b[0m\n\u001b[0;32m    764\u001b[0m             \u001b[0mjob_idx\u001b[0m \u001b[1;33m=\u001b[0m \u001b[0mlen\u001b[0m\u001b[1;33m(\u001b[0m\u001b[0mself\u001b[0m\u001b[1;33m.\u001b[0m\u001b[0m_jobs\u001b[0m\u001b[1;33m)\u001b[0m\u001b[1;33m\u001b[0m\u001b[1;33m\u001b[0m\u001b[0m\n\u001b[1;32m--> 765\u001b[1;33m             \u001b[0mjob\u001b[0m \u001b[1;33m=\u001b[0m \u001b[0mself\u001b[0m\u001b[1;33m.\u001b[0m\u001b[0m_backend\u001b[0m\u001b[1;33m.\u001b[0m\u001b[0mapply_async\u001b[0m\u001b[1;33m(\u001b[0m\u001b[0mbatch\u001b[0m\u001b[1;33m,\u001b[0m \u001b[0mcallback\u001b[0m\u001b[1;33m=\u001b[0m\u001b[0mcb\u001b[0m\u001b[1;33m)\u001b[0m\u001b[1;33m\u001b[0m\u001b[1;33m\u001b[0m\u001b[0m\n\u001b[0m\u001b[0;32m    766\u001b[0m             \u001b[1;31m# A job can complete so quickly than its callback is\u001b[0m\u001b[1;33m\u001b[0m\u001b[1;33m\u001b[0m\u001b[1;33m\u001b[0m\u001b[0m\n\u001b[0;32m    767\u001b[0m             \u001b[1;31m# called before we get here, causing self._jobs to\u001b[0m\u001b[1;33m\u001b[0m\u001b[1;33m\u001b[0m\u001b[1;33m\u001b[0m\u001b[0m\n",
      "\u001b[1;32m~\\anaconda3\\lib\\site-packages\\joblib\\_parallel_backends.py\u001b[0m in \u001b[0;36mapply_async\u001b[1;34m(self, func, callback)\u001b[0m\n\u001b[0;32m    206\u001b[0m     \u001b[1;32mdef\u001b[0m \u001b[0mapply_async\u001b[0m\u001b[1;33m(\u001b[0m\u001b[0mself\u001b[0m\u001b[1;33m,\u001b[0m \u001b[0mfunc\u001b[0m\u001b[1;33m,\u001b[0m \u001b[0mcallback\u001b[0m\u001b[1;33m=\u001b[0m\u001b[1;32mNone\u001b[0m\u001b[1;33m)\u001b[0m\u001b[1;33m:\u001b[0m\u001b[1;33m\u001b[0m\u001b[1;33m\u001b[0m\u001b[0m\n\u001b[0;32m    207\u001b[0m         \u001b[1;34m\"\"\"Schedule a func to be run\"\"\"\u001b[0m\u001b[1;33m\u001b[0m\u001b[1;33m\u001b[0m\u001b[0m\n\u001b[1;32m--> 208\u001b[1;33m         \u001b[0mresult\u001b[0m \u001b[1;33m=\u001b[0m \u001b[0mImmediateResult\u001b[0m\u001b[1;33m(\u001b[0m\u001b[0mfunc\u001b[0m\u001b[1;33m)\u001b[0m\u001b[1;33m\u001b[0m\u001b[1;33m\u001b[0m\u001b[0m\n\u001b[0m\u001b[0;32m    209\u001b[0m         \u001b[1;32mif\u001b[0m \u001b[0mcallback\u001b[0m\u001b[1;33m:\u001b[0m\u001b[1;33m\u001b[0m\u001b[1;33m\u001b[0m\u001b[0m\n\u001b[0;32m    210\u001b[0m             \u001b[0mcallback\u001b[0m\u001b[1;33m(\u001b[0m\u001b[0mresult\u001b[0m\u001b[1;33m)\u001b[0m\u001b[1;33m\u001b[0m\u001b[1;33m\u001b[0m\u001b[0m\n",
      "\u001b[1;32m~\\anaconda3\\lib\\site-packages\\joblib\\_parallel_backends.py\u001b[0m in \u001b[0;36m__init__\u001b[1;34m(self, batch)\u001b[0m\n\u001b[0;32m    570\u001b[0m         \u001b[1;31m# Don't delay the application, to avoid keeping the input\u001b[0m\u001b[1;33m\u001b[0m\u001b[1;33m\u001b[0m\u001b[1;33m\u001b[0m\u001b[0m\n\u001b[0;32m    571\u001b[0m         \u001b[1;31m# arguments in memory\u001b[0m\u001b[1;33m\u001b[0m\u001b[1;33m\u001b[0m\u001b[1;33m\u001b[0m\u001b[0m\n\u001b[1;32m--> 572\u001b[1;33m         \u001b[0mself\u001b[0m\u001b[1;33m.\u001b[0m\u001b[0mresults\u001b[0m \u001b[1;33m=\u001b[0m \u001b[0mbatch\u001b[0m\u001b[1;33m(\u001b[0m\u001b[1;33m)\u001b[0m\u001b[1;33m\u001b[0m\u001b[1;33m\u001b[0m\u001b[0m\n\u001b[0m\u001b[0;32m    573\u001b[0m \u001b[1;33m\u001b[0m\u001b[0m\n\u001b[0;32m    574\u001b[0m     \u001b[1;32mdef\u001b[0m \u001b[0mget\u001b[0m\u001b[1;33m(\u001b[0m\u001b[0mself\u001b[0m\u001b[1;33m)\u001b[0m\u001b[1;33m:\u001b[0m\u001b[1;33m\u001b[0m\u001b[1;33m\u001b[0m\u001b[0m\n",
      "\u001b[1;32m~\\anaconda3\\lib\\site-packages\\joblib\\parallel.py\u001b[0m in \u001b[0;36m__call__\u001b[1;34m(self)\u001b[0m\n\u001b[0;32m    250\u001b[0m         \u001b[1;31m# change the default number of processes to -1\u001b[0m\u001b[1;33m\u001b[0m\u001b[1;33m\u001b[0m\u001b[1;33m\u001b[0m\u001b[0m\n\u001b[0;32m    251\u001b[0m         \u001b[1;32mwith\u001b[0m \u001b[0mparallel_backend\u001b[0m\u001b[1;33m(\u001b[0m\u001b[0mself\u001b[0m\u001b[1;33m.\u001b[0m\u001b[0m_backend\u001b[0m\u001b[1;33m,\u001b[0m \u001b[0mn_jobs\u001b[0m\u001b[1;33m=\u001b[0m\u001b[0mself\u001b[0m\u001b[1;33m.\u001b[0m\u001b[0m_n_jobs\u001b[0m\u001b[1;33m)\u001b[0m\u001b[1;33m:\u001b[0m\u001b[1;33m\u001b[0m\u001b[1;33m\u001b[0m\u001b[0m\n\u001b[1;32m--> 252\u001b[1;33m             return [func(*args, **kwargs)\n\u001b[0m\u001b[0;32m    253\u001b[0m                     for func, args, kwargs in self.items]\n\u001b[0;32m    254\u001b[0m \u001b[1;33m\u001b[0m\u001b[0m\n",
      "\u001b[1;32m~\\anaconda3\\lib\\site-packages\\joblib\\parallel.py\u001b[0m in \u001b[0;36m<listcomp>\u001b[1;34m(.0)\u001b[0m\n\u001b[0;32m    250\u001b[0m         \u001b[1;31m# change the default number of processes to -1\u001b[0m\u001b[1;33m\u001b[0m\u001b[1;33m\u001b[0m\u001b[1;33m\u001b[0m\u001b[0m\n\u001b[0;32m    251\u001b[0m         \u001b[1;32mwith\u001b[0m \u001b[0mparallel_backend\u001b[0m\u001b[1;33m(\u001b[0m\u001b[0mself\u001b[0m\u001b[1;33m.\u001b[0m\u001b[0m_backend\u001b[0m\u001b[1;33m,\u001b[0m \u001b[0mn_jobs\u001b[0m\u001b[1;33m=\u001b[0m\u001b[0mself\u001b[0m\u001b[1;33m.\u001b[0m\u001b[0m_n_jobs\u001b[0m\u001b[1;33m)\u001b[0m\u001b[1;33m:\u001b[0m\u001b[1;33m\u001b[0m\u001b[1;33m\u001b[0m\u001b[0m\n\u001b[1;32m--> 252\u001b[1;33m             return [func(*args, **kwargs)\n\u001b[0m\u001b[0;32m    253\u001b[0m                     for func, args, kwargs in self.items]\n\u001b[0;32m    254\u001b[0m \u001b[1;33m\u001b[0m\u001b[0m\n",
      "\u001b[1;32m~\\anaconda3\\lib\\site-packages\\sklearn\\ensemble\\_forest.py\u001b[0m in \u001b[0;36m_parallel_build_trees\u001b[1;34m(tree, forest, X, y, sample_weight, tree_idx, n_trees, verbose, class_weight, n_samples_bootstrap)\u001b[0m\n\u001b[0;32m    166\u001b[0m                                                         indices=indices)\n\u001b[0;32m    167\u001b[0m \u001b[1;33m\u001b[0m\u001b[0m\n\u001b[1;32m--> 168\u001b[1;33m         \u001b[0mtree\u001b[0m\u001b[1;33m.\u001b[0m\u001b[0mfit\u001b[0m\u001b[1;33m(\u001b[0m\u001b[0mX\u001b[0m\u001b[1;33m,\u001b[0m \u001b[0my\u001b[0m\u001b[1;33m,\u001b[0m \u001b[0msample_weight\u001b[0m\u001b[1;33m=\u001b[0m\u001b[0mcurr_sample_weight\u001b[0m\u001b[1;33m,\u001b[0m \u001b[0mcheck_input\u001b[0m\u001b[1;33m=\u001b[0m\u001b[1;32mFalse\u001b[0m\u001b[1;33m)\u001b[0m\u001b[1;33m\u001b[0m\u001b[1;33m\u001b[0m\u001b[0m\n\u001b[0m\u001b[0;32m    169\u001b[0m     \u001b[1;32melse\u001b[0m\u001b[1;33m:\u001b[0m\u001b[1;33m\u001b[0m\u001b[1;33m\u001b[0m\u001b[0m\n\u001b[0;32m    170\u001b[0m         \u001b[0mtree\u001b[0m\u001b[1;33m.\u001b[0m\u001b[0mfit\u001b[0m\u001b[1;33m(\u001b[0m\u001b[0mX\u001b[0m\u001b[1;33m,\u001b[0m \u001b[0my\u001b[0m\u001b[1;33m,\u001b[0m \u001b[0msample_weight\u001b[0m\u001b[1;33m=\u001b[0m\u001b[0msample_weight\u001b[0m\u001b[1;33m,\u001b[0m \u001b[0mcheck_input\u001b[0m\u001b[1;33m=\u001b[0m\u001b[1;32mFalse\u001b[0m\u001b[1;33m)\u001b[0m\u001b[1;33m\u001b[0m\u001b[1;33m\u001b[0m\u001b[0m\n",
      "\u001b[1;32m~\\anaconda3\\lib\\site-packages\\sklearn\\tree\\_classes.py\u001b[0m in \u001b[0;36mfit\u001b[1;34m(self, X, y, sample_weight, check_input, X_idx_sorted)\u001b[0m\n\u001b[0;32m   1240\u001b[0m         \"\"\"\n\u001b[0;32m   1241\u001b[0m \u001b[1;33m\u001b[0m\u001b[0m\n\u001b[1;32m-> 1242\u001b[1;33m         super().fit(\n\u001b[0m\u001b[0;32m   1243\u001b[0m             \u001b[0mX\u001b[0m\u001b[1;33m,\u001b[0m \u001b[0my\u001b[0m\u001b[1;33m,\u001b[0m\u001b[1;33m\u001b[0m\u001b[1;33m\u001b[0m\u001b[0m\n\u001b[0;32m   1244\u001b[0m             \u001b[0msample_weight\u001b[0m\u001b[1;33m=\u001b[0m\u001b[0msample_weight\u001b[0m\u001b[1;33m,\u001b[0m\u001b[1;33m\u001b[0m\u001b[1;33m\u001b[0m\u001b[0m\n",
      "\u001b[1;32m~\\anaconda3\\lib\\site-packages\\sklearn\\tree\\_classes.py\u001b[0m in \u001b[0;36mfit\u001b[1;34m(self, X, y, sample_weight, check_input, X_idx_sorted)\u001b[0m\n\u001b[0;32m    373\u001b[0m                                            min_impurity_split)\n\u001b[0;32m    374\u001b[0m \u001b[1;33m\u001b[0m\u001b[0m\n\u001b[1;32m--> 375\u001b[1;33m         \u001b[0mbuilder\u001b[0m\u001b[1;33m.\u001b[0m\u001b[0mbuild\u001b[0m\u001b[1;33m(\u001b[0m\u001b[0mself\u001b[0m\u001b[1;33m.\u001b[0m\u001b[0mtree_\u001b[0m\u001b[1;33m,\u001b[0m \u001b[0mX\u001b[0m\u001b[1;33m,\u001b[0m \u001b[0my\u001b[0m\u001b[1;33m,\u001b[0m \u001b[0msample_weight\u001b[0m\u001b[1;33m,\u001b[0m \u001b[0mX_idx_sorted\u001b[0m\u001b[1;33m)\u001b[0m\u001b[1;33m\u001b[0m\u001b[1;33m\u001b[0m\u001b[0m\n\u001b[0m\u001b[0;32m    376\u001b[0m \u001b[1;33m\u001b[0m\u001b[0m\n\u001b[0;32m    377\u001b[0m         \u001b[1;32mif\u001b[0m \u001b[0mself\u001b[0m\u001b[1;33m.\u001b[0m\u001b[0mn_outputs_\u001b[0m \u001b[1;33m==\u001b[0m \u001b[1;36m1\u001b[0m \u001b[1;32mand\u001b[0m \u001b[0mis_classifier\u001b[0m\u001b[1;33m(\u001b[0m\u001b[0mself\u001b[0m\u001b[1;33m)\u001b[0m\u001b[1;33m:\u001b[0m\u001b[1;33m\u001b[0m\u001b[1;33m\u001b[0m\u001b[0m\n",
      "\u001b[1;31mKeyboardInterrupt\u001b[0m: "
     ]
    }
   ],
   "source": [
    "results = cross_val_score(regressor, X_train, y_train, cv = kf)"
   ]
  },
  {
   "cell_type": "code",
   "execution_count": 11,
   "metadata": {},
   "outputs": [
    {
     "data": {
      "text/plain": [
       "RandomForestRegressor(random_state=0)"
      ]
     },
     "execution_count": 11,
     "metadata": {},
     "output_type": "execute_result"
    }
   ],
   "source": [
    "regressor.fit(X_train, y_train)"
   ]
  },
  {
   "cell_type": "code",
   "execution_count": 12,
   "metadata": {},
   "outputs": [],
   "source": [
    "y_pred = regressor.predict(X_test)"
   ]
  },
  {
   "cell_type": "code",
   "execution_count": 13,
   "metadata": {},
   "outputs": [],
   "source": [
    "from sklearn.metrics import mean_squared_error"
   ]
  },
  {
   "cell_type": "code",
   "execution_count": 14,
   "metadata": {
    "scrolled": true
   },
   "outputs": [
    {
     "data": {
      "text/plain": [
       "3615451.5287018083"
      ]
     },
     "execution_count": 14,
     "metadata": {},
     "output_type": "execute_result"
    }
   ],
   "source": [
    "X_y_train = regressor.predict(X_train)\n",
    "mean_squared_error(y_train,X_y_train)"
   ]
  },
  {
   "cell_type": "code",
   "execution_count": 15,
   "metadata": {},
   "outputs": [
    {
     "data": {
      "text/plain": [
       "21440563.636955574"
      ]
     },
     "execution_count": 15,
     "metadata": {},
     "output_type": "execute_result"
    }
   ],
   "source": [
    "mean_squared_error(y_test, y_pred)"
   ]
  },
  {
   "cell_type": "code",
   "execution_count": null,
   "metadata": {
    "scrolled": true
   },
   "outputs": [],
   "source": [
    "#results"
   ]
  },
  {
   "cell_type": "code",
   "execution_count": 16,
   "metadata": {},
   "outputs": [
    {
     "data": {
      "text/plain": [
       "RandomForestRegressor(random_state=0)"
      ]
     },
     "execution_count": 16,
     "metadata": {},
     "output_type": "execute_result"
    }
   ],
   "source": [
    "#regressor"
   ]
  },
  {
   "cell_type": "code",
   "execution_count": 32,
   "metadata": {},
   "outputs": [
    {
     "data": {
      "text/plain": [
       "Text(0, 0.5, 'Predicted values')"
      ]
     },
     "execution_count": 32,
     "metadata": {},
     "output_type": "execute_result"
    },
    {
     "data": {
      "image/png": "[encoded data removed]",
      "text/plain": [
       "<Figure size 360x360 with 1 Axes>"
      ]
     },
     "metadata": {
      "needs_background": "light"
     },
     "output_type": "display_data"
    }
   ],
   "source": [
    "# Visualisation of y_pred vs y_test\n",
    "import matplotlib.pyplot as plt\n",
    "import seaborn as sns\n",
    "\n",
    "plt.figure(figsize=(5,5))\n",
    "plt.xlim(0,50000)\n",
    "plt.ylim(0,50000)\n",
    "plt.plot([0,50000],[0,50000], c = \"r\")\n",
    "plt.scatter(y_test,y_pred)\n",
    "plt.axis('equal')\n",
    "plt.xlabel(\"Real values\")\n",
    "plt.ylabel(\"Predicted values\")\n",
    "\n",
    "#ax = sns.regplot(x=y_pred, y=y_test, color=\"g\")"
   ]
  },
  {
   "cell_type": "markdown",
   "metadata": {},
   "source": [
    "# Random Forest 3 feature selection"
   ]
  },
  {
   "cell_type": "code",
   "execution_count": 79,
   "metadata": {},
   "outputs": [],
   "source": [
    "X = final.drop(columns = [\"price\"])\n",
    "y = final[\"price\"]"
   ]
  },
  {
   "cell_type": "code",
   "execution_count": 80,
   "metadata": {},
   "outputs": [],
   "source": [
    "from sklearn.ensemble import RandomForestRegressor\n",
    "regressor = RandomForestRegressor(n_estimators = 100, random_state = 0)"
   ]
  },
  {
   "cell_type": "code",
   "execution_count": 81,
   "metadata": {},
   "outputs": [],
   "source": [
    "from sklearn.model_selection import train_test_split\n",
    "X_train, X_test, y_train, y_test = train_test_split(X, y, test_size = 0.2, shuffle = True)"
   ]
  },
  {
   "cell_type": "code",
   "execution_count": 36,
   "metadata": {},
   "outputs": [
    {
     "data": {
      "text/plain": [
       "SelectFromModel(estimator=RandomForestRegressor(random_state=0))"
      ]
     },
     "execution_count": 36,
     "metadata": {},
     "output_type": "execute_result"
    }
   ],
   "source": [
    "from sklearn.feature_selection import SelectFromModel\n",
    "sel = SelectFromModel(regressor)\n",
    "sel.fit(X_train, y_train)"
   ]
  },
  {
   "cell_type": "code",
   "execution_count": 37,
   "metadata": {},
   "outputs": [
    {
     "name": "stdout",
     "output_type": "stream",
     "text": [
      "[ True False  True  True  True False False False False  True  True False\n",
      " False False False False False False False False False False False False\n",
      " False False False False False False False False False False False False\n",
      " False False False False False False False False False False False False\n",
      " False False False False False False False False False False False False\n",
      " False False False False False False False False False False False False\n",
      " False False  True  True False  True False False False False False False\n",
      " False  True False False False False False False False False False False\n",
      " False False False False False False]\n",
      "10\n",
      "Index(['year', 'odometer', 'lat', 'long', 'drive_4wd', 'drive_fwd',\n",
      "       'cylinders_6 cylinders', 'cylinders_8 cylinders', 'fuel_diesel',\n",
      "       'usage_type_professional'],\n",
      "      dtype='object')\n"
     ]
    }
   ],
   "source": [
    "print(sel.get_support())\n",
    "selected_feat= X_train.columns[(sel.get_support())]\n",
    "print(len(selected_feat))\n",
    "print(selected_feat)\n",
    "#pd.series(sel.estimator_,feature_importances_,.ravel()).hist()"
   ]
  },
  {
   "cell_type": "code",
   "execution_count": 82,
   "metadata": {},
   "outputs": [],
   "source": [
    "# Keep only these features\n",
    "feat_sel_df = final[[\"price\", 'year', 'odometer', 'lat', 'long', 'color_other', 'drive_4wd',\n",
    "       'drive_fwd', 'cylinders_6 cylinders', 'cylinders_8 cylinders',\n",
    "       'fuel_diesel', 'usage_type_professional' ]]\n",
    "# apply again split in the data"
   ]
  },
  {
   "cell_type": "code",
   "execution_count": 39,
   "metadata": {},
   "outputs": [],
   "source": [
    "from sklearn.model_selection import KFold , cross_val_score \n",
    "kf = KFold(n_splits = 5)"
   ]
  },
  {
   "cell_type": "code",
   "execution_count": 83,
   "metadata": {},
   "outputs": [],
   "source": [
    "X = feat_sel_df.drop(columns = [\"price\"]).to_numpy()\n",
    "y = feat_sel_df[\"price\"].to_numpy()"
   ]
  },
  {
   "cell_type": "code",
   "execution_count": 46,
   "metadata": {},
   "outputs": [],
   "source": [
    "from sklearn.ensemble import RandomForestRegressor\n",
    "regressor = RandomForestRegressor(n_estimators = 100, random_state = 0)"
   ]
  },
  {
   "cell_type": "code",
   "execution_count": 84,
   "metadata": {},
   "outputs": [],
   "source": [
    "from sklearn.model_selection import train_test_split\n",
    "X_train, X_test, y_train, y_test = train_test_split(X, y, test_size = 0.2, shuffle = True)"
   ]
  },
  {
   "cell_type": "code",
   "execution_count": 198,
   "metadata": {
    "scrolled": false
   },
   "outputs": [],
   "source": [
    "results = cross_val_score(regressor, X_train, y_train, cv = kf)"
   ]
  },
  {
   "cell_type": "code",
   "execution_count": 85,
   "metadata": {},
   "outputs": [
    {
     "data": {
      "text/plain": [
       "RandomForestRegressor(random_state=0)"
      ]
     },
     "execution_count": 85,
     "metadata": {},
     "output_type": "execute_result"
    }
   ],
   "source": [
    "regressor.fit(X_train, y_train)"
   ]
  },
  {
   "cell_type": "code",
   "execution_count": 86,
   "metadata": {},
   "outputs": [],
   "source": [
    "y_pred = regressor.predict(X_test)"
   ]
  },
  {
   "cell_type": "code",
   "execution_count": 87,
   "metadata": {},
   "outputs": [],
   "source": [
    "from sklearn.metrics import mean_squared_error"
   ]
  },
  {
   "cell_type": "code",
   "execution_count": 88,
   "metadata": {},
   "outputs": [
    {
     "data": {
      "text/plain": [
       "4226838.212731892"
      ]
     },
     "execution_count": 88,
     "metadata": {},
     "output_type": "execute_result"
    }
   ],
   "source": [
    "X_y_train = regressor.predict(X_train)\n",
    "mean_squared_error(y_train,X_y_train)"
   ]
  },
  {
   "cell_type": "code",
   "execution_count": 89,
   "metadata": {},
   "outputs": [
    {
     "data": {
      "text/plain": [
       "24062682.505118657"
      ]
     },
     "execution_count": 89,
     "metadata": {},
     "output_type": "execute_result"
    }
   ],
   "source": [
    "mean_squared_error(y_test, y_pred)"
   ]
  },
  {
   "cell_type": "code",
   "execution_count": 199,
   "metadata": {},
   "outputs": [
    {
     "data": {
      "text/plain": [
       "array([0.79878153, 0.79911768, 0.79812537, 0.79858495, 0.7981784 ])"
      ]
     },
     "execution_count": 199,
     "metadata": {},
     "output_type": "execute_result"
    }
   ],
   "source": [
    "results"
   ]
  },
  {
   "cell_type": "code",
   "execution_count": 90,
   "metadata": {
    "scrolled": true
   },
   "outputs": [
    {
     "data": {
      "text/plain": [
       "Text(0.5, 1.0, 'Testing data')"
      ]
     },
     "execution_count": 90,
     "metadata": {},
     "output_type": "execute_result"
    },
    {
     "data": {
      "image/png": "[encoded data removed]",
      "text/plain": [
       "<Figure size 360x360 with 1 Axes>"
      ]
     },
     "metadata": {
      "needs_background": "light"
     },
     "output_type": "display_data"
    }
   ],
   "source": [
    "# Visualisation of y_pred vs y_test\n",
    "import matplotlib.pyplot as plt\n",
    "import seaborn as sns\n",
    "\n",
    "plt.figure(figsize=(5,5))\n",
    "plt.xlim(0,50000)\n",
    "plt.ylim(0,50000)\n",
    "plt.plot([0,50000],[0,50000], c = \"r\")\n",
    "plt.scatter(y_test,y_pred)\n",
    "plt.axis('equal')\n",
    "plt.xlabel(\"Real values\")\n",
    "plt.ylabel(\"Predicted values\")\n",
    "plt.title(\"Testing data\")\n",
    "#ax = sns.regplot(x=y_pred, y=y_test, color=\"g\")"
   ]
  },
  {
   "cell_type": "code",
   "execution_count": 91,
   "metadata": {
    "scrolled": true
   },
   "outputs": [
    {
     "data": {
      "text/plain": [
       "Text(0.5, 1.0, 'Training data')"
      ]
     },
     "execution_count": 91,
     "metadata": {},
     "output_type": "execute_result"
    },
    {
     "data": {
      "image/png": "[encoded data removed]",
      "text/plain": [
       "<Figure size 360x360 with 1 Axes>"
      ]
     },
     "metadata": {
      "needs_background": "light"
     },
     "output_type": "display_data"
    }
   ],
   "source": [
    "# Visualisation of X_y_train vs y_train\n",
    "import matplotlib.pyplot as plt\n",
    "import seaborn as sns\n",
    "\n",
    "plt.figure(figsize=(5,5))\n",
    "plt.xlim(0,50000)\n",
    "plt.ylim(0,50000)\n",
    "plt.plot([0,50000],[0,50000], c = \"r\")\n",
    "plt.scatter(y_train,X_y_train)\n",
    "plt.axis('equal')\n",
    "plt.xlabel(\"Real values\")\n",
    "plt.ylabel(\"Predicted values\")\n",
    "plt.title(\"Training data\")\n",
    "#ax = sns.regplot(x=y_pred, y=y_test, color=\"g\")\n",
    "# It is clear that the regressor performs much better on the training set"
   ]
  },
  {
   "cell_type": "code",
   "execution_count": 95,
   "metadata": {
    "scrolled": true
   },
   "outputs": [
    {
     "data": {
      "text/plain": [
       "Text(0, 0.5, 'Car Price')"
      ]
     },
     "execution_count": 95,
     "metadata": {},
     "output_type": "execute_result"
    },
    {
     "data": {
      "image/png": "[encoded data removed]",
      "text/plain": [
       "<Figure size 432x288 with 1 Axes>"
      ]
     },
     "metadata": {
      "needs_background": "light"
     },
     "output_type": "display_data"
    }
   ],
   "source": [
    "# 100 random cars in testing set\n",
    "plt.plot(y_test, label = \"True Prices\")\n",
    "# plt.plot(np.exp(reg.predict(X_test)))\n",
    "plt.plot(y_pred[:], label = \"Predicted Prices\")\n",
    "plt.xlim(0, 100)\n",
    "plt.legend()\n",
    "plt.xlabel(\"Car Examples\")\n",
    "plt.ylabel(\"Car Price\")"
   ]
  },
  {
   "cell_type": "code",
   "execution_count": 96,
   "metadata": {},
   "outputs": [
    {
     "data": {
      "text/plain": [
       "Text(0, 0.5, 'Car Price')"
      ]
     },
     "execution_count": 96,
     "metadata": {},
     "output_type": "execute_result"
    },
    {
     "data": {
      "image/png": "[encoded data removed]",
      "text/plain": [
       "<Figure size 432x288 with 1 Axes>"
      ]
     },
     "metadata": {
      "needs_background": "light"
     },
     "output_type": "display_data"
    }
   ],
   "source": [
    "# 100 random cars in training set\n",
    "plt.plot(y_train, label = \"True Prices\")\n",
    "# plt.plot(np.exp(reg.predict(X_test)))\n",
    "plt.plot(X_y_train,label =  \"Predicted Prices\")\n",
    "plt.xlim(0, 100)\n",
    "plt.legend()\n",
    "plt.xlabel(\"Car Examples\")\n",
    "plt.ylabel(\"Car Price\")"
   ]
  },
  {
   "cell_type": "markdown",
   "metadata": {},
   "source": [
    "# Random Forest 4 guess keeps"
   ]
  },
  {
   "cell_type": "code",
   "execution_count": 171,
   "metadata": {},
   "outputs": [],
   "source": [
    "from sklearn.ensemble import RandomForestRegressor\n",
    "regressor = RandomForestRegressor(n_estimators = 100, random_state = 0)"
   ]
  },
  {
   "cell_type": "code",
   "execution_count": null,
   "metadata": {},
   "outputs": [],
   "source": [
    "from sklearn.feature_selection import SelectFromModel"
   ]
  },
  {
   "cell_type": "code",
   "execution_count": 172,
   "metadata": {},
   "outputs": [],
   "source": [
    "X = final.drop(columns = [\"price\"])\n",
    "y = final[\"price\"]"
   ]
  },
  {
   "cell_type": "code",
   "execution_count": 173,
   "metadata": {},
   "outputs": [],
   "source": [
    "from sklearn.model_selection import train_test_split\n",
    "X_train, X_test, y_train, y_test = train_test_split(X, y, test_size = 0.2, shuffle = True)"
   ]
  },
  {
   "cell_type": "code",
   "execution_count": 174,
   "metadata": {},
   "outputs": [],
   "source": [
    "from sklearn.model_selection import KFold , cross_val_score \n",
    "kf = KFold(n_splits = 5)"
   ]
  },
  {
   "cell_type": "code",
   "execution_count": null,
   "metadata": {
    "scrolled": false
   },
   "outputs": [],
   "source": [
    "results = cross_val_score(regressor, X_train, y_train, cv = kf)"
   ]
  },
  {
   "cell_type": "code",
   "execution_count": null,
   "metadata": {},
   "outputs": [],
   "source": [
    "regressor.fit(X_train, y_train)"
   ]
  },
  {
   "cell_type": "code",
   "execution_count": null,
   "metadata": {},
   "outputs": [],
   "source": [
    "y_pred = regressor.predict(X_test)"
   ]
  },
  {
   "cell_type": "code",
   "execution_count": null,
   "metadata": {},
   "outputs": [],
   "source": [
    "from sklearn.metrics import mean_squared_error"
   ]
  },
  {
   "cell_type": "code",
   "execution_count": null,
   "metadata": {},
   "outputs": [],
   "source": [
    "X_y_train = regressor.predict(X_train)\n",
    "mean_squared_error(y_train,X_y_train)"
   ]
  },
  {
   "cell_type": "code",
   "execution_count": null,
   "metadata": {},
   "outputs": [],
   "source": [
    "mean_squared_error(y_test, y_pred)"
   ]
  },
  {
   "cell_type": "code",
   "execution_count": null,
   "metadata": {},
   "outputs": [],
   "source": [
    "results"
   ]
  },
  {
   "cell_type": "markdown",
   "metadata": {},
   "source": [
    "# Random Forest 5 cross validation predictions"
   ]
  },
  {
   "cell_type": "code",
   "execution_count": 215,
   "metadata": {},
   "outputs": [],
   "source": [
    "import matplotlib.pyplot as plt\n",
    "import seaborn as sns"
   ]
  },
  {
   "cell_type": "code",
   "execution_count": 216,
   "metadata": {},
   "outputs": [],
   "source": [
    "from sklearn.ensemble import RandomForestRegressor\n",
    "regressor = RandomForestRegressor(n_estimators = 100, random_state = 0)"
   ]
  },
  {
   "cell_type": "code",
   "execution_count": 217,
   "metadata": {},
   "outputs": [],
   "source": [
    "from sklearn.feature_selection import SelectFromModel"
   ]
  },
  {
   "cell_type": "code",
   "execution_count": 218,
   "metadata": {},
   "outputs": [],
   "source": [
    "X = final.drop(columns = [\"price\"])\n",
    "y = final[\"price\"]"
   ]
  },
  {
   "cell_type": "code",
   "execution_count": 219,
   "metadata": {},
   "outputs": [],
   "source": [
    "from sklearn.model_selection import train_test_split\n",
    "X_train, X_test, y_train, y_test = train_test_split(X, y, test_size = 0.2, shuffle = True)"
   ]
  },
  {
   "cell_type": "code",
   "execution_count": 220,
   "metadata": {},
   "outputs": [],
   "source": [
    "from sklearn.model_selection import KFold , cross_val_score, cross_val_predict\n",
    "kf = KFold(n_splits = 5)"
   ]
  },
  {
   "cell_type": "code",
   "execution_count": null,
   "metadata": {
    "scrolled": false
   },
   "outputs": [],
   "source": [
    "#results = cross_val_score(regressor, X_train, y_train, cv = kf)"
   ]
  },
  {
   "cell_type": "code",
   "execution_count": null,
   "metadata": {},
   "outputs": [],
   "source": [
    "#regressor.fit(X_train, y_train)"
   ]
  },
  {
   "cell_type": "code",
   "execution_count": null,
   "metadata": {},
   "outputs": [],
   "source": [
    "#y_pred = regressor.predict(X_test)"
   ]
  },
  {
   "cell_type": "code",
   "execution_count": 221,
   "metadata": {},
   "outputs": [],
   "source": [
    "from sklearn.metrics import mean_squared_error"
   ]
  },
  {
   "cell_type": "code",
   "execution_count": null,
   "metadata": {},
   "outputs": [],
   "source": [
    "#X_y_train = regressor.predict(X_train)\n",
    "#mean_squared_error(y_train,X_y_train)"
   ]
  },
  {
   "cell_type": "code",
   "execution_count": null,
   "metadata": {},
   "outputs": [],
   "source": [
    "#mean_squared_error(y_test, y_pred)"
   ]
  },
  {
   "cell_type": "code",
   "execution_count": null,
   "metadata": {},
   "outputs": [],
   "source": [
    "#results"
   ]
  },
  {
   "cell_type": "code",
   "execution_count": 223,
   "metadata": {},
   "outputs": [
    {
     "name": "stdout",
     "output_type": "stream",
     "text": [
      "[36184.58333333  9474.37        6028.175      ... 21200.42\n",
      " 11580.57       22900.        ]\n"
     ]
    }
   ],
   "source": [
    "k_predictions = cross_val_predict(regressor, X, y, cv=5)\n",
    "print(k_predictions)"
   ]
  },
  {
   "cell_type": "code",
   "execution_count": 230,
   "metadata": {},
   "outputs": [
    {
     "data": {
      "image/png": "[encoded data removed]",
      "text/plain": [
       "<Figure size 432x288 with 1 Axes>"
      ]
     },
     "metadata": {
      "needs_background": "light"
     },
     "output_type": "display_data"
    }
   ],
   "source": [
    "# plot k-fold predictions against actual\n",
    "plot_k = sns.scatterplot(y, k_predictions)\n",
    "plot_k.set(xlabel='Given', ylabel='Prediction')\n",
    "# generate and graph y = x line\n",
    "x_plot = np.linspace(0,5,100)\n",
    "y_plot = np.linspace(0,5,100)\n",
    "#plt.plot(x_plot, y_plot, color='y')"
   ]
  },
  {
   "cell_type": "code",
   "execution_count": 225,
   "metadata": {},
   "outputs": [
    {
     "data": {
      "text/plain": [
       "41083069.57138299"
      ]
     },
     "execution_count": 225,
     "metadata": {},
     "output_type": "execute_result"
    }
   ],
   "source": [
    "mean_squared_error(y, k_predictions)"
   ]
  },
  {
   "cell_type": "code",
   "execution_count": 231,
   "metadata": {
    "scrolled": true
   },
   "outputs": [
    {
     "name": "stdout",
     "output_type": "stream",
     "text": [
      "-41083069.571383\n"
     ]
    },
    {
     "data": {
      "text/plain": [
       "<matplotlib.axes._subplots.AxesSubplot at 0x2617fe2ad90>"
      ]
     },
     "execution_count": 231,
     "metadata": {},
     "output_type": "execute_result"
    },
    {
     "data": {
      "image/png": "[encoded data removed]",
      "text/plain": [
       "<Figure size 432x288 with 1 Axes>"
      ]
     },
     "metadata": {
      "needs_background": "light"
     },
     "output_type": "display_data"
    }
   ],
   "source": [
    "# find the mean score from the k-fold models usinf cross_val_score\n",
    "kfold_scores = cross_val_score(regressor, X, y, cv=5, scoring='neg_mean_squared_error')\n",
    "print(kfold_scores.mean())\n",
    "# plot scores\n",
    "sns.distplot(kfold_scores, bins=5)"
   ]
  },
  {
   "cell_type": "markdown",
   "metadata": {},
   "source": [
    "# Random Forest 6 all features with exp"
   ]
  },
  {
   "cell_type": "code",
   "execution_count": 32,
   "metadata": {},
   "outputs": [],
   "source": [
    "from sklearn.ensemble import RandomForestRegressor\n",
    "regressor = RandomForestRegressor(n_estimators = 100, random_state = 0)"
   ]
  },
  {
   "cell_type": "code",
   "execution_count": 33,
   "metadata": {
    "scrolled": true
   },
   "outputs": [],
   "source": [
    "X = final.drop(columns = [\"price\"]).to_numpy()\n",
    "y = final[\"price\"].to_numpy()"
   ]
  },
  {
   "cell_type": "code",
   "execution_count": 35,
   "metadata": {},
   "outputs": [],
   "source": [
    "y = y/1000"
   ]
  },
  {
   "cell_type": "code",
   "execution_count": 37,
   "metadata": {},
   "outputs": [],
   "source": [
    "y = np.exp(y)"
   ]
  },
  {
   "cell_type": "code",
   "execution_count": 38,
   "metadata": {},
   "outputs": [],
   "source": [
    "from sklearn.model_selection import train_test_split\n",
    "X_train, X_test, y_train, y_test = train_test_split(X, y, test_size = 0.2, shuffle = True)"
   ]
  },
  {
   "cell_type": "code",
   "execution_count": 39,
   "metadata": {},
   "outputs": [],
   "source": [
    "from sklearn.model_selection import KFold , cross_val_score \n",
    "kf = KFold(n_splits = 5)"
   ]
  },
  {
   "cell_type": "code",
   "execution_count": 40,
   "metadata": {
    "scrolled": false
   },
   "outputs": [],
   "source": [
    "results = cross_val_score(regressor, X_train, y_train, cv = kf)"
   ]
  },
  {
   "cell_type": "code",
   "execution_count": 42,
   "metadata": {},
   "outputs": [
    {
     "data": {
      "text/plain": [
       "RandomForestRegressor(random_state=0)"
      ]
     },
     "execution_count": 42,
     "metadata": {},
     "output_type": "execute_result"
    }
   ],
   "source": [
    "regressor.fit(X_train, y_train)"
   ]
  },
  {
   "cell_type": "code",
   "execution_count": 43,
   "metadata": {},
   "outputs": [],
   "source": [
    "y_pred = regressor.predict(X_test)"
   ]
  },
  {
   "cell_type": "code",
   "execution_count": 44,
   "metadata": {},
   "outputs": [],
   "source": [
    "from sklearn.metrics import mean_squared_error"
   ]
  },
  {
   "cell_type": "code",
   "execution_count": 45,
   "metadata": {},
   "outputs": [
    {
     "data": {
      "text/plain": [
       "7.54572670407987e+37"
      ]
     },
     "execution_count": 45,
     "metadata": {},
     "output_type": "execute_result"
    }
   ],
   "source": [
    "X_y_train = regressor.predict(X_train)\n",
    "mean_squared_error(y_train,X_y_train)"
   ]
  },
  {
   "cell_type": "code",
   "execution_count": 46,
   "metadata": {},
   "outputs": [
    {
     "data": {
      "text/plain": [
       "3.964334919238892e+38"
      ]
     },
     "execution_count": 46,
     "metadata": {},
     "output_type": "execute_result"
    }
   ],
   "source": [
    "mean_squared_error(y_test, y_pred)"
   ]
  },
  {
   "cell_type": "code",
   "execution_count": 41,
   "metadata": {
    "scrolled": true
   },
   "outputs": [
    {
     "data": {
      "text/plain": [
       "array([0.43812533, 0.36680507, 0.49842111, 0.43091519, 0.39338669])"
      ]
     },
     "execution_count": 41,
     "metadata": {},
     "output_type": "execute_result"
    }
   ],
   "source": [
    "results"
   ]
  },
  {
   "cell_type": "code",
   "execution_count": 47,
   "metadata": {},
   "outputs": [
    {
     "data": {
      "text/plain": [
       "RandomForestRegressor(random_state=0)"
      ]
     },
     "execution_count": 47,
     "metadata": {},
     "output_type": "execute_result"
    }
   ],
   "source": [
    "regressor"
   ]
  },
  {
   "cell_type": "code",
   "execution_count": 49,
   "metadata": {},
   "outputs": [
    {
     "data": {
      "text/plain": [
       "88.8755716368941"
      ]
     },
     "execution_count": 49,
     "metadata": {},
     "output_type": "execute_result"
    }
   ],
   "source": [
    "np.log(3.964334919238892e+38)"
   ]
  },
  {
   "cell_type": "code",
   "execution_count": null,
   "metadata": {},
   "outputs": [],
   "source": []
  }
 ],
 "metadata": {
  "kernelspec": {
   "display_name": "Python 3",
   "language": "python",
   "name": "python3"
  },
  "language_info": {
   "codemirror_mode": {
    "name": "ipython",
    "version": 3
   },
   "file_extension": ".py",
   "mimetype": "text/x-python",
   "name": "python",
   "nbconvert_exporter": "python",
   "pygments_lexer": "ipython3",
   "version": "3.8.3"
  }
 },
 "nbformat": 4,
 "nbformat_minor": 4
}
