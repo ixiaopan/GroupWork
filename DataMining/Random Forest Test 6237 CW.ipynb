{
 "cells": [
  {
   "cell_type": "code",
   "execution_count": 1,
   "metadata": {},
   "outputs": [],
   "source": [
    "#!/usr/bin/env python3\n",
    "# -*- coding: utf-8 -*-\n",
    "\"\"\"\n",
    "Created on Fri Feb 19 10:38:46 2021\n",
    "@author: mattwear\n",
    "\"\"\"\n",
    "\n",
    "import pandas as pd\n",
    "import numpy as np\n",
    "from joblib import dump, load\n",
    "from sklearn.feature_extraction.text import TfidfVectorizer\n",
    "import time\n",
    "\n",
    "### Data Cleaning Functions\n",
    "\n",
    "# Getting rid of unecesarry columns\n",
    "\n",
    "def remove_columns(df):\n",
    "    \n",
    "    \"\"\"Removes columns we agreed were useless\"\"\"\n",
    "    columns = [\"Unnamed: 0\", \"id\", \"image_url\", \"VIN\", \"region_url\", \"id\", \"size\",\"url\"]\n",
    "    df.drop(columns, axis=1, inplace=True)\n",
    "    return(df)\n",
    "\n",
    "\n",
    "def price_range(df, lower = 0, higher = 60_000, sampling = False):\n",
    "    \"\"\"\n",
    "    Set the lower and upper limits of the price, if sampling true it chooses 40,000 samples at random\n",
    "    \"\"\"\n",
    "    if sampling == True:\n",
    "        df = df.sample(n = 40_000)\n",
    "    \n",
    "    df = df.dropna(subset = [\"price\"])\n",
    "    \n",
    "    df = df.loc[df[\"price\"] < higher]\n",
    "    df = df.loc[df[\"price\"] >= lower]\n",
    "    \n",
    "    return(df)\n",
    "\n",
    "def dateToDatetime(df):\n",
    "    df['posting_date'] = df['posting_date'].str[:10].astype('datetime64[ns]')\n",
    "    return df\n",
    "\n",
    "def basicImpute(df):\n",
    "    #Here, impute missing values with a common number/value\n",
    "    \n",
    "    ###Description: Impute missing values as empty string\n",
    "    ###posting_date: Not many so impute with mean posting date\n",
    "    mean_posting_date = np.mean(df.posting_date)\n",
    "\n",
    "    #Fill NA\n",
    "    df.fillna(value={'description': '', 'posting_date':mean_posting_date}, inplace=True)\n",
    "    \n",
    "    return df\n",
    "\n",
    "\n",
    "def imputeMissingByManufacturer(df, col):\n",
    "    ###Impute missing values by taking the most common occurence of the items manufacturer\n",
    "    #Use this for fuel and transmission. The remaining missing values have NaN manufacturer\n",
    "    \n",
    "    cars = df.copy()\n",
    "    cars_unique = np.unique(cars.manufacturer.astype(str))\n",
    "    man_dict = {}\n",
    "\n",
    "    for car in cars_unique:\n",
    "        if car != 'nan':\n",
    "            max_occur = cars[cars.manufacturer==car][col].value_counts().index[0]\n",
    "            man_dict[car] = max_occur\n",
    "\n",
    "    cars.loc[cars[col].isnull(),col] = cars['manufacturer'].map(man_dict)\n",
    "    return cars\n",
    "\n",
    "def imputeManufacturer(cars):\n",
    "    for item in ['Isuzu','chevrolet',\"Willys\",\"Hino\",\"suzuki\",'isuzu']:\n",
    "        cars.loc[cars[\"model\"].str.contains(item) ==True, 'manufacturer'] = item\n",
    "    for item in ['Mustang',\"F-150\",\"mustang\",\"f-150\",\"MUSTANG\",\"FORD\",\"ford\",\"Ford\",\"Focus\",\"focus\",\"F-550\",\"f-550\",\"F550\",\"F-350\",\"f-350\",\"F350\",\"expedition el xlt sport\",\"transit\"]:\n",
    "        cars.loc[cars[\"model\"].str.contains(item) ==True, 'manufacturer'] = \"ford\"\n",
    "    for item in ['freightliner cascadia 113','freightliner cascadia','freightliner m2 effer','Freightliner M2 112 15','Freightliner','FREIGHTLINER']:\n",
    "        cars.loc[cars[\"model\"].str.contains(item) ==True, 'manufacturer'] = \"Daimler Trucks North America\"\n",
    "    for item in ['International 4300']:\n",
    "        cars.loc[cars[\"model\"].str.contains(item) ==True, 'manufacturer'] = \"International DuraStar, America\"\n",
    "    for item in ['Hummer H3',\"Hummer H2 SUT\",\"Terrain SLE\",\"HUMMER H2\",\"HUMMER H3\",\"oldsmobile toronado\",\"oldsmobile alero\",'h2 hummer']:\n",
    "        cars.loc[cars[\"model\"].str.contains(item) ==True, 'manufacturer'] = \"General Motors\"\n",
    "    for item in [\"MG Midget\",\"mg midget\",\"MG MIDGET\",\"MG\"]:\n",
    "        cars.loc[cars[\"model\"].str.contains(item) ==True, 'manufacturer'] = \"MG\"\n",
    "    for item in [\"cooper\",\"COOPER\",\"Cooper\"]:\n",
    "        cars.loc[cars[\"model\"].str.contains(item) ==True, 'manufacturer'] = \"mini\"\n",
    "    for item in ['Scion FR-S',\"scion fr-s\",\"SUBARU\",\"subaru\",\"Subaru\",\"forester\"]:\n",
    "        cars.loc[cars[\"model\"].str.contains(item) ==True, 'manufacturer'] = \"subaru\"\n",
    "    for item in ['cr-v',\"CR-V\",\"crv\",\"CRV\",\"HR-V\",\"hr-v\",\"hrv\",\"HRV\",\"Honda\",\"honda\",\"HONDA\",\"Accord\",\"accord\",\"odyssey\",\"Odyssey\",\"Civic\",\"civic\"]:\n",
    "        cars.loc[cars[\"model\"].str.contains(item) ==True, 'manufacturer'] = \"honda\"\n",
    "    for item in ['Maserati',\"maserati\",\"MASERATI\"]:\n",
    "        cars.loc[cars[\"model\"].str.contains(item) ==True, 'manufacturer'] = \"maserati\"\n",
    "    for item in ['hyundia',\"Hyundai\",\"hyundai\",\"HYUNDAI\",\"hyindai\",'hyndai',\"Hundai\",\"Tucson\",\"tucson\",\"Genesis G80\",'genesis G80']:\n",
    "        cars.loc[cars[\"model\"].str.contains(item) ==True, 'manufacturer'] = \"hyundai\"\n",
    "    for item in ['Mazda',\"MAZDA\",\"mazda\",\"cx-5\",\"cx-7\",\"CX-5\",\"CX-7\"]:\n",
    "        cars.loc[cars[\"model\"].str.contains(item) ==True, 'manufacturer'] = \"mazda\"\n",
    "    for item in ['Isuzu',\"ISUZU\",\"isuzu\"]:\n",
    "        cars.loc[cars[\"model\"].str.contains(item) ==True, 'manufacturer'] = \"isuzu\"\n",
    "    for item in ['Suzuki',\"SUZUKI\",\"suzuki\"]:\n",
    "        cars.loc[cars[\"model\"].str.contains(item) ==True, 'manufacturer'] = \"suzuki\"\n",
    "    for item in ['CHRVROLET',\"Cheverolet\",\"cheverolet\", \"cheverolet\",\"chevrolet\",\"Chevrolet\",\"equinox\",\"Cherolet\",\"silverado 1500\",\"tahoe lt\",\"city express\",'olet Spark']:\n",
    "        cars.loc[cars[\"model\"].str.contains(item) ==True, 'manufacturer'] = \"chevrolet\"\n",
    "    for item in ['SCION XB',\"scion tc\",\"Scion TC\",\"Scion tc\",'Scion XD Hatchback','scion XD Hatchback','scion','Scion',\"TOYOTA\",\"toyota\",\"Toyota\",\"yaris\",\"Yaris\",\"YARIS\",\"camry\",\"Camry\",\"CAMRY\",\"corolla\",'Corolla',\"Civic\",\"civic\"]:\n",
    "        cars.loc[cars[\"model\"].str.contains(item) ==True, 'manufacturer'] = \"toyota\"\n",
    "    for item in ['Hudson','hudson']:\n",
    "        cars.loc[cars[\"model\"].str.contains(item) ==True, 'manufacturer'] = \"hudson motor car\"\n",
    "    for item in ['BMW',\"bmw\"]:\n",
    "        cars.loc[cars[\"model\"].str.contains(item) ==True, 'manufacturer'] = \"bmw\"   \n",
    "    for item in ['e-class e 350','BENZ','benz','Benz']:\n",
    "        cars.loc[cars[\"model\"].str.contains(item) ==True, 'manufacturer'] = \"mercedes-benz\"    \n",
    "    for item in ['International Durastar Terex','Terrex','terrex']:\n",
    "        cars.loc[cars[\"model\"].str.contains(item) ==True, 'manufacturer'] = \"terrex\"      \n",
    "    for item in ['freightliner century']:\n",
    "        cars.loc[cars[\"model\"].str.contains(item) ==True, 'manufacturer'] = \"freightliner truck\"\n",
    "    for item in ['international 4300']:\n",
    "        cars.loc[cars[\"model\"].str.contains(item) ==True, 'manufacturer'] = \"international harvester company\"\n",
    "    for item in ['patriot','grand cherokee']:\n",
    "        cars.loc[cars[\"model\"].str.contains(item) ==True, 'manufacturer'] = \"jeep\"\n",
    "    for item in ['leaf sv hatchback 4d','maxima','frontier','note','Note']:\n",
    "        cars.loc[cars[\"model\"].str.contains(item) ==True, 'manufacturer'] = \"nissan\"\n",
    "    for item in ['Bentley Continental',\"bentley continental\"]:\n",
    "        cars.loc[cars[\"model\"].str.contains(item) ==True, 'manufacturer'] = \"bentley motors\"\n",
    "    for item in ['KAWASAKI',\"kawasaki\"]:\n",
    "        cars.loc[cars[\"model\"].str.contains(item) ==True, 'manufacturer'] = \"kawasaki\"\n",
    "    for item in ['wagen Atlas','wagen Passat']:\n",
    "        cars.loc[cars[\"model\"].str.contains(item) ==True, 'manufacturer'] = \"volkswagen\"\n",
    "    for item in ['73cj5','fuso fe160']:\n",
    "        cars.loc[cars[\"model\"].str.contains(item) ==True, 'manufacturer'] = \"mitsubishi\"\n",
    "    for item in ['LAMBORGHINI','lamborghini','Lamborghini','GALLARDO','gallardo']:\n",
    "        cars.loc[cars[\"model\"].str.contains(item) ==True, 'manufacturer'] = \"lamborghini\"  \n",
    "    return cars\n",
    "\n",
    "def imputeOdometerByYear(df):\n",
    "    #Imputes missing values of odometer with mean odometer for the year the car was made\n",
    "    odo_dict = df.groupby(\"year\", as_index=True)['odometer'].mean().fillna(np.mean(df.odometer)).to_dict()\n",
    "    df['odometer'] = df.odometer.fillna(df.year.map(odo_dict))\n",
    "    return df\n",
    "\n",
    "\n",
    "def TF_IDF(df, number = 1000):\n",
    "    \n",
    "    \"\"\"This function adds the TF-IDF values of the most important words to the dataframe,\n",
    "    the number can be chosen above\"\"\"\n",
    "    \n",
    "    \"\"\"TF - term frequency \"\"\"\n",
    "    \n",
    "    \"\"\"Inverse Document Frequency (IDF)\n",
    "    IDF is a measure of how important a term is\"\"\"\n",
    "    \n",
    "    vectorizer = TfidfVectorizer(stop_words='english',max_features = number)\n",
    "    sentences  = df[\"description\"].values\n",
    "    vectorizer.fit(sentences)\n",
    "    vector_spaces = vectorizer.transform(sentences)\n",
    "    tfidf = vector_spaces.toarray()\n",
    "    \n",
    "    clf = load('kmeans.joblib') \n",
    "    df[\"tfidf\"] = clf.predict(tfidf)\n",
    "    df = pd.get_dummies(df, prefix=\"tfidf\",columns=['tfidf'])\n",
    "    \n",
    "    df.reset_index(drop=True, inplace=True)\n",
    "    #df = pd.concat([df, pd.DataFrame(tfidf)], axis = 1)\n",
    "    return(df)\n",
    "\n",
    "\n",
    "def color_clean(df, color_list=['white','black','silver']):\n",
    "    #groups all the colors that are not in the list as \"other\"\n",
    "    #one hot encoding of paint_color column   \n",
    "    df[\"paint_color\"]=df[\"paint_color\"].apply(lambda x: x if x in color_list else \"other\")\n",
    "    df=pd.get_dummies(df, prefix=\"color\",columns=['paint_color'])\n",
    "    return df\n",
    "\n",
    "\n",
    "def cylinder_clean(df):\n",
    "    df[\"cylinders\"] = df[\"cylinders\"].fillna(\"missing\")\n",
    "    df = pd.get_dummies(df, columns = [\"cylinders\"]).drop(\\\n",
    "        [\"cylinders_12 cylinders\", \"cylinders_10 cylinders\", \"cylinders_3 cylinders\", \"cylinders_5 cylinders\", \"cylinders_other\"], axis = 1)\n",
    "    return(df)\n",
    "\n",
    "\n",
    "def drive_clean(df):\n",
    "    #Assigns 4wd to all SUVs, pickups and offroads with nan drive type \n",
    "    df.loc[(((df[\"type\"]==\"SUV\") | \n",
    "            (df[\"type\"]==\"pickup\") | \n",
    "            (df[\"type\"]==\"offroad\")) & (df['drive'].isnull()==True)),\"drive\"] = \"4wd\"\n",
    "    #assign \"other\" to all nan values\n",
    "    df.loc[(df['drive'].isnull()==True),\"drive\"]=\"other\"\n",
    "    #one hot encoding 4wd, rwd, fwd, other\n",
    "    df = pd.get_dummies(df,prefix=\"drive\",columns=['drive'])\n",
    "    return df    \n",
    "\n",
    "\n",
    "def transmission_clean(df):\n",
    "    #Groups nan values with \"other\" type of transmission\n",
    "    df.loc[(df['transmission'].isnull()==True),\"transmission\"]=\"automatic\"\n",
    "    #one hot encoding manual, automatic and other\n",
    "    df = pd.get_dummies(df,prefix=\"transmission\",columns=['transmission'])\n",
    "    return df\n",
    "\n",
    "\n",
    "def titlestatus_clean(df):\n",
    "    df = pd.get_dummies(df,prefix=\"status\",columns=['title_status'])\n",
    "    return df\n",
    "\n",
    "\n",
    "def condition_clean(df):\n",
    "    # nan values to good because average price of nan is close to averag price of good/excellent...\n",
    "    df.loc[(df['condition'].isnull()==True),\"condition\"]=\"good\" \n",
    "    # good condition -->1    bad condition--->0\n",
    "    df['condition']=df['condition'].apply(lambda x: 1 if x in ['excellent','good','like new','new'] else 0)\n",
    "    return df\n",
    "\n",
    "def fuel_clean(df):\n",
    "    #group nan values to gas fuel type\n",
    "    df.loc[(df['fuel'].isnull()==True),\"fuel\"]=\"gas\"\n",
    "    #one hot encoding\n",
    "    df = pd.get_dummies(df,prefix=\"fuel\",columns=['fuel'])\n",
    "    return df\n",
    "\n",
    "\n",
    "def fillLatLongNA(df):\n",
    "    #Fills all missing lat, long values with the median of their respective region\n",
    "    region_coords_ave_lat = df[['region','lat']].groupby(['region'])['lat'].median().to_dict()\n",
    "    region_coords_ave_long = df[['region','long']].groupby(['region'])['long'].median().to_dict()\n",
    "    df.loc[df['lat'].isnull(),'lat'] = df['region'].map(region_coords_ave_lat)\n",
    "    df.loc[df['long'].isnull(),'long'] = df['region'].map(region_coords_ave_long)\n",
    "    return df\n",
    "\n",
    "def fillLatLongOutliers(df):\n",
    "    latlong_outliers = (df.lat<20)  | (df.lat>70) | (df.long < -160) | (df.long > -60)\n",
    "    region_coords_ave_lat = df[['region','lat']].groupby(['region'])['lat'].median().to_dict()\n",
    "    region_coords_ave_long = df[['region','long']].groupby(['region'])['long'].median().to_dict()\n",
    "    df.loc[latlong_outliers,'lat'] = df['region'].map(region_coords_ave_lat)\n",
    "    df.loc[latlong_outliers,'long'] = df['region'].map(region_coords_ave_long)\n",
    "    return df\n",
    "\n",
    "def cleanLatLong(df):\n",
    "    df = fillLatLongNA(df)\n",
    "    df = fillLatLongOutliers(df)\n",
    "    return df\n",
    "\n",
    "def cleanLocationFeatures(df):\n",
    "    df = cleanLatLong(df)\n",
    "    #one hot encoding state\n",
    "    df = pd.get_dummies(df,prefix=\"state\",columns=['state'])\n",
    "    #drop region\n",
    "    df.drop(['region'], axis=1, inplace=True)\n",
    "    \n",
    "    return df  \n",
    "\n",
    "def groupStateByPrice(df, lower=10000, higher=15000):\n",
    "    ### Adds binary feature indicating if car was sold in cheap, medium or expensive state\n",
    "    \n",
    "    cars = df.copy()\n",
    "    #Find median price by state\n",
    "    bar = cars[['price','state']].groupby(['state'])['price'].median()\n",
    "    bar.sort_values(ascending=False, inplace=True)\n",
    "    \n",
    "    #Find expensive, mid price and cheap states according to thresholds\n",
    "    expensive_states = np.array(bar[bar >higher].index)\n",
    "    mediumprice_state = np.array(bar[(bar > lower) & (bar <= higher)].index)\n",
    "    cheap_state = np.array(bar[bar <= lower].index)\n",
    "    \n",
    "    #Add on hot encoded features to dataset\n",
    "    cars['state_expensive'] = cars.state.isin(expensive_states).astype(int)\n",
    "    cars['state_medium'] = cars.state.isin(mediumprice_state).astype(int)\n",
    "    cars['state_cheap'] = cars.state.isin(cheap_state).astype(int)\n",
    "    \n",
    "    return cars\n",
    "\n",
    "def cutIQR(cleaned_df, col):\n",
    "    print('Remove outliers...')\n",
    "\n",
    "    Q1 = cleaned_df[col].quantile(0.25)\n",
    "    Q3 = cleaned_df[col].quantile(0.75)\n",
    "    IQR = Q3 - Q1\n",
    "\n",
    "    lower = Q1 - 1.5 * IQR\n",
    "    upper = Q3 + 1.5 * IQR\n",
    "    \n",
    "    cutted_df = cleaned_df[(cleaned_df[col] >= lower) & (cleaned_df[col] <= upper)]\n",
    "\n",
    "    return cutted_df, upper\n",
    "\n",
    "\n",
    "def ohe_manuf_country(cars):\n",
    "    \n",
    "    # Manufacturer country assigned\n",
    "    \n",
    "    cars.loc[ cars[\"manufacturer\"] == \"ford\", \"manuf_country\"] = \"USA\"\n",
    "    cars.loc[ cars[\"manufacturer\"] == \"chevrolet\", \"manuf_country\"] = \"USA\"\n",
    "    cars.loc[ cars[\"manufacturer\"] == \"toyota\", \"manuf_country\"] = \"Japan\"\n",
    "    cars.loc[ cars[\"manufacturer\"] == \"honda\", \"manuf_country\"] = \"Japan\"\n",
    "    cars.loc[ cars[\"manufacturer\"] == \"nissan\", \"manuf_country\"] = \"Japan\"\n",
    "    cars.loc[ cars[\"manufacturer\"] == \"jeep\", \"manuf_country\"] = \"USA\"\n",
    "    cars.loc[ cars[\"manufacturer\"] == \"ram\", \"manuf_country\"] = \"USA\"\n",
    "    cars.loc[ cars[\"manufacturer\"] == \"gmc\", \"manuf_country\"] = \"USA\"\n",
    "    cars.loc[ cars[\"manufacturer\"] == \"dodge\", \"manuf_country\"] = \"USA\"\n",
    "    cars.loc[ cars[\"manufacturer\"] == \"bmw\", \"manuf_country\"] = \"Germany\"\n",
    "    cars.loc[ cars[\"manufacturer\"] == \"hyundai\", \"manuf_country\"] = \"S.Korea\"\n",
    "    cars.loc[ cars[\"manufacturer\"] == \"mercedes-benz\", \"manuf_country\"] = \"Germany\"\n",
    "    cars.loc[ cars[\"manufacturer\"] == \"subaru\", \"manuf_country\"] = \"Japan\"\n",
    "    cars.loc[ cars[\"manufacturer\"] == \"volkswagen\", \"manuf_country\"] = \"Germany\"\n",
    "    cars.loc[ cars[\"manufacturer\"] == \"kia\", \"manuf_country\"] = \"S.Korea\"\n",
    "    cars.loc[ cars[\"manufacturer\"] == \"chrysler\", \"manuf_country\"] = \"USA\"\n",
    "    cars.loc[ cars[\"manufacturer\"] == \"lexus\", \"manuf_country\"] = \"Japan\"\n",
    "    cars.loc[ cars[\"manufacturer\"] == \"cadillac\", \"manuf_country\"] = \"USA\"\n",
    "    cars.loc[ cars[\"manufacturer\"] == \"buick\", \"manuf_country\"] = \"USA\"\n",
    "    cars.loc[ cars[\"manufacturer\"] == \"mazda\", \"manuf_country\"] = \"Japan\"\n",
    "    cars.loc[ cars[\"manufacturer\"] == \"audi\", \"manuf_country\"] = \"Germany\"\n",
    "    cars.loc[ cars[\"manufacturer\"] == \"acura\", \"manuf_country\"] = \"Japan\"\n",
    "    cars.loc[ cars[\"manufacturer\"] == \"infiniti\", \"manuf_country\"] = \"Japan\"\n",
    "    cars.loc[ cars[\"manufacturer\"] == \"lincoln\", \"manuf_country\"] = \"USA\"\n",
    "    cars.loc[ cars[\"manufacturer\"] == \"pontiac\", \"manuf_country\"] = \"USA\"\n",
    "    cars.loc[ cars[\"manufacturer\"] == \"volvo\", \"manuf_country\"] = \"Sweden\"\n",
    "    cars.loc[ cars[\"manufacturer\"] == \"mini\", \"manuf_country\"] = \"UK\"\n",
    "    cars.loc[ cars[\"manufacturer\"] == \"mitsubishi\", \"manuf_country\"] = \"Japan\"\n",
    "    cars.loc[ cars[\"manufacturer\"] == \"porsche\", \"manuf_country\"] = \"Germany\"\n",
    "    cars.loc[ cars[\"manufacturer\"] == \"rover\", \"manuf_country\"] = \"UK\"\n",
    "    cars.loc[ cars[\"manufacturer\"] == \"mercury\", \"manuf_country\"] = \"USA\"\n",
    "    cars.loc[ cars[\"manufacturer\"] == \"saturn\", \"manuf_country\"] = \"USA\"\n",
    "    cars.loc[ cars[\"manufacturer\"] == \"tesla\", \"manuf_country\"] = \"USA\"\n",
    "    cars.loc[ cars[\"manufacturer\"] == \"jaguar\", \"manuf_country\"] = \"UK\"\n",
    "    cars.loc[ cars[\"manufacturer\"] == \"fiat\", \"manuf_country\"] = \"Italy\"\n",
    "    cars.loc[ cars[\"manufacturer\"] == \"alfa-romeo\", \"manuf_country\"] = \"Italy\"\n",
    "    cars.loc[ cars[\"manufacturer\"] == \"harley-davidson\", \"manuf_country\"] = \"USA\"\n",
    "    cars.loc[ cars[\"manufacturer\"] == \"ferrari\", \"manuf_country\"] = \"Italy\"\n",
    "    cars.loc[ cars[\"manufacturer\"] == \"datsun\", \"manuf_country\"] = \"Japan\"\n",
    "    cars.loc[ cars[\"manufacturer\"] == \"aston-martin\", \"manuf_country\"] = \"UK\"\n",
    "    cars.loc[ cars[\"manufacturer\"] == \"land-rover\", \"manuf_country\"] = \"UK\"\n",
    "    cars.loc[ cars[\"manufacturer\"] == \"morgan\", \"manuf_country\"] = \"UK\"\n",
    "    cars.loc[ cars[\"manufacturer\"] == \"hennessey\", \"manuf_country\"] = \"USA\"\n",
    "    cars.loc[ cars[\"manufacturer\"].isnull(), \"manuf_country\"] = \"missing\"\n",
    "    \n",
    "    # One hot encoding to one of USA, Japan, Germany, S.Korea, UK, Sweden, Italy and missing\n",
    "    \n",
    "    cars = pd.get_dummies( cars, columns = [\"manuf_country\"])\n",
    "    \n",
    "    # Manufacturer needs to be dropped\n",
    "    # There are some imputed manufacturers that are not in this section.\n",
    "    # These need to be considered as well.\n",
    "    \n",
    "    return cars\n",
    "\n",
    "def ohe_type(cars):\n",
    "    \n",
    "    # Some condition groupings\n",
    "    \n",
    "    cars.loc[ cars[\"type\"] == \"sedan\", \"usage_type\"] = \"daily\" \n",
    "    cars.loc[ cars[\"type\"] == \"SUV\", \"usage_type\"] = \"daily\"\n",
    "    cars.loc[ cars[\"type\"] == \"pickup\", \"usage_type\"] = \"professional\"\n",
    "    cars.loc[ cars[\"type\"] == \"truck\", \"usage_type\"] = \"professional\"\n",
    "    cars.loc[ cars[\"type\"] == \"other\", \"usage_type\"] = \"other\"\n",
    "    cars.loc[ cars[\"type\"] == \"coupe\", \"usage_type\"] = \"daily\"\n",
    "    cars.loc[ cars[\"type\"] == \"hatchback\", \"usage_type\"] = \"daily\"\n",
    "    cars.loc[ cars[\"type\"] == \"wagon\", \"usage_type\"] = \"daily\"\n",
    "    cars.loc[ cars[\"type\"] == \"van\", \"usage_type\"] = \"professional\"\n",
    "    cars.loc[ cars[\"type\"] == \"convertible\", \"usage_type\"] = \"daily\"\n",
    "    cars.loc[ cars[\"type\"] == \"mini-van\", \"usage_type\"] = \"professional\"\n",
    "    cars.loc[ cars[\"type\"] == \"bus\", \"usage_type\"] = \"professional\"\n",
    "    cars.loc[ cars[\"type\"] == \"offroad\", \"usage_type\"] = \"other\"\n",
    "    #---------------------------------------\n",
    "    # Assumption\n",
    "    \n",
    "    #cars.loc[ (cars[\"type\"].isnull()) & (cars[\"fuel\"] == \"gas\") , \"usage_type\"] = \"daily\"\n",
    "    #---------------------------------------\n",
    "    cars.loc[ cars[\"type\"].isnull() , \"usage_type\"] = \"missing\"\n",
    "    \n",
    "    # One hot encoding type (original values)\n",
    "    \n",
    "    cars = pd.get_dummies( cars, columns = [\"usage_type\"])\n",
    "    \n",
    "    # Type needs to be dropped\n",
    "    # Too many values are missing. Don't think we can impute.\n",
    "    # Maybe we can use the most correlated feature to impute.\n",
    "    \n",
    "    return cars\n",
    "\n",
    "def ultimateClean(df):\n",
    "    start = time.time()\n",
    "    #remove useless values\n",
    "    df = remove_columns(df)\n",
    "    \n",
    "    # REMOVE IQR OUTLIERS\n",
    "#     df = price_range(df, lower = 50, higher = 60_000, sampling = False)\n",
    "    df, _ = cutIQR(df, 'odometer')\n",
    "    df, _ = cutIQR(df, 'price')\n",
    "    print(\"Cleaned outliers !\")\n",
    "\n",
    "    #impute some missing values\n",
    "    df = imputeManufacturer(df)\n",
    "    df = dateToDatetime(df)\n",
    "    df = basicImpute(df)\n",
    "    df = imputeMissingByManufacturer(df, col='fuel')\n",
    "    df = imputeMissingByManufacturer(df, col='transmission')\n",
    "    df = imputeOdometerByYear(df)\n",
    "    print(\"Imputed Missing Values\")\n",
    "    \n",
    "    #one hot encodings\n",
    "    df = color_clean(df, color_list=['white','black','silver'])\n",
    "    df = drive_clean(df)\n",
    "    df = transmission_clean(df)\n",
    "    df = titlestatus_clean(df)\n",
    "    df = cleanLocationFeatures(df)\n",
    "    df = cylinder_clean(df)\n",
    "    df = condition_clean(df)\n",
    "    df = fuel_clean(df)\n",
    "    df = ohe_type(df)\n",
    "    df = ohe_manuf_country(df)\n",
    "    df = TF_IDF(df, number = 1000)\n",
    "    \n",
    "    print(\"One hot encodings done!\")\n",
    "    \n",
    "    \n",
    "    \n",
    "    #remove remaining missing values\n",
    "    df.drop(['model', \"posting_date\", \"manufacturer\", \"type\", \"description\"], axis=1, inplace=True)\n",
    "    \n",
    "    df = df[df['year'].notna()]\n",
    "    \n",
    "    \n",
    "    df = df.dropna()\n",
    "    print(\"Total Time: \", (time.time() - start)/60, \" minutes\")\n",
    "\n",
    "    \n",
    "    return df\n",
    "\n",
    "\n",
    "def normalise(df):\n",
    "    cols_to_norm = [\"year\", \"odometer\", \"lat\", \"long\"]\n",
    "    df[cols_to_norm] = MinMaxScaler().fit_transform(df[cols_to_norm])\n",
    "    #FOR TRAIN TEST SPLIT USE SKLEARN train_test_split\n",
    "    return(df)"
   ]
  },
  {
   "cell_type": "code",
   "execution_count": 2,
   "metadata": {},
   "outputs": [],
   "source": [
    "cars = pd.read_csv('vehicles.csv')"
   ]
  },
  {
   "cell_type": "code",
   "execution_count": 3,
   "metadata": {
    "scrolled": false
   },
   "outputs": [
    {
     "name": "stdout",
     "output_type": "stream",
     "text": [
      "Remove outliers...\n",
      "Remove outliers...\n",
      "Cleaned outliers !\n",
      "Imputed Missing Values\n"
     ]
    },
    {
     "name": "stderr",
     "output_type": "stream",
     "text": [
      "C:\\Users\\Flynn\\anaconda3\\lib\\site-packages\\sklearn\\base.py:329: UserWarning: Trying to unpickle estimator KMeans from version 0.23.2 when using version 0.23.1. This might lead to breaking code or invalid results. Use at your own risk.\n",
      "  warnings.warn(\n"
     ]
    },
    {
     "name": "stdout",
     "output_type": "stream",
     "text": [
      "One hot encodings done!\n",
      "Total Time:  5.481567760308583  minutes\n"
     ]
    }
   ],
   "source": [
    "ulti = ultimateClean(cars)"
   ]
  },
  {
   "cell_type": "code",
   "execution_count": 9,
   "metadata": {},
   "outputs": [],
   "source": [
    "from sklearn.preprocessing import MinMaxScaler"
   ]
  },
  {
   "cell_type": "code",
   "execution_count": 10,
   "metadata": {},
   "outputs": [],
   "source": [
    "final = normalise(ulti)"
   ]
  },
  {
   "cell_type": "code",
   "execution_count": 11,
   "metadata": {},
   "outputs": [
    {
     "data": {
      "text/html": [
       "<div>\n",
       "<style scoped>\n",
       "    .dataframe tbody tr th:only-of-type {\n",
       "        vertical-align: middle;\n",
       "    }\n",
       "\n",
       "    .dataframe tbody tr th {\n",
       "        vertical-align: top;\n",
       "    }\n",
       "\n",
       "    .dataframe thead th {\n",
       "        text-align: right;\n",
       "    }\n",
       "</style>\n",
       "<table border=\"1\" class=\"dataframe\">\n",
       "  <thead>\n",
       "    <tr style=\"text-align: right;\">\n",
       "      <th></th>\n",
       "      <th>price</th>\n",
       "      <th>year</th>\n",
       "      <th>condition</th>\n",
       "      <th>odometer</th>\n",
       "      <th>lat</th>\n",
       "      <th>long</th>\n",
       "      <th>color_black</th>\n",
       "      <th>color_other</th>\n",
       "      <th>color_silver</th>\n",
       "      <th>color_white</th>\n",
       "      <th>...</th>\n",
       "      <th>manuf_country_USA</th>\n",
       "      <th>manuf_country_missing</th>\n",
       "      <th>tfidf_0</th>\n",
       "      <th>tfidf_2</th>\n",
       "      <th>tfidf_4</th>\n",
       "      <th>tfidf_5</th>\n",
       "      <th>tfidf_6</th>\n",
       "      <th>tfidf_7</th>\n",
       "      <th>tfidf_8</th>\n",
       "      <th>tfidf_9</th>\n",
       "    </tr>\n",
       "  </thead>\n",
       "  <tbody>\n",
       "    <tr>\n",
       "      <th>0</th>\n",
       "      <td>35990</td>\n",
       "      <td>0.909091</td>\n",
       "      <td>1</td>\n",
       "      <td>0.119662</td>\n",
       "      <td>0.279689</td>\n",
       "      <td>0.748585</td>\n",
       "      <td>0</td>\n",
       "      <td>1</td>\n",
       "      <td>0</td>\n",
       "      <td>0</td>\n",
       "      <td>...</td>\n",
       "      <td>1</td>\n",
       "      <td>0</td>\n",
       "      <td>0</td>\n",
       "      <td>0</td>\n",
       "      <td>1</td>\n",
       "      <td>0</td>\n",
       "      <td>0</td>\n",
       "      <td>0</td>\n",
       "      <td>0</td>\n",
       "      <td>0</td>\n",
       "    </tr>\n",
       "    <tr>\n",
       "      <th>1</th>\n",
       "      <td>7500</td>\n",
       "      <td>0.942149</td>\n",
       "      <td>1</td>\n",
       "      <td>0.342079</td>\n",
       "      <td>0.278744</td>\n",
       "      <td>0.748704</td>\n",
       "      <td>0</td>\n",
       "      <td>1</td>\n",
       "      <td>0</td>\n",
       "      <td>0</td>\n",
       "      <td>...</td>\n",
       "      <td>0</td>\n",
       "      <td>0</td>\n",
       "      <td>0</td>\n",
       "      <td>0</td>\n",
       "      <td>1</td>\n",
       "      <td>0</td>\n",
       "      <td>0</td>\n",
       "      <td>0</td>\n",
       "      <td>0</td>\n",
       "      <td>0</td>\n",
       "    </tr>\n",
       "    <tr>\n",
       "      <th>2</th>\n",
       "      <td>4900</td>\n",
       "      <td>0.876033</td>\n",
       "      <td>1</td>\n",
       "      <td>0.318126</td>\n",
       "      <td>0.280285</td>\n",
       "      <td>0.748745</td>\n",
       "      <td>0</td>\n",
       "      <td>1</td>\n",
       "      <td>0</td>\n",
       "      <td>0</td>\n",
       "      <td>...</td>\n",
       "      <td>0</td>\n",
       "      <td>0</td>\n",
       "      <td>0</td>\n",
       "      <td>0</td>\n",
       "      <td>1</td>\n",
       "      <td>0</td>\n",
       "      <td>0</td>\n",
       "      <td>0</td>\n",
       "      <td>0</td>\n",
       "      <td>0</td>\n",
       "    </tr>\n",
       "    <tr>\n",
       "      <th>3</th>\n",
       "      <td>2000</td>\n",
       "      <td>0.611570</td>\n",
       "      <td>1</td>\n",
       "      <td>0.694391</td>\n",
       "      <td>0.285726</td>\n",
       "      <td>0.751247</td>\n",
       "      <td>0</td>\n",
       "      <td>1</td>\n",
       "      <td>0</td>\n",
       "      <td>0</td>\n",
       "      <td>...</td>\n",
       "      <td>1</td>\n",
       "      <td>0</td>\n",
       "      <td>0</td>\n",
       "      <td>0</td>\n",
       "      <td>1</td>\n",
       "      <td>0</td>\n",
       "      <td>0</td>\n",
       "      <td>0</td>\n",
       "      <td>0</td>\n",
       "      <td>0</td>\n",
       "    </tr>\n",
       "    <tr>\n",
       "      <th>4</th>\n",
       "      <td>19500</td>\n",
       "      <td>0.867769</td>\n",
       "      <td>1</td>\n",
       "      <td>0.423944</td>\n",
       "      <td>0.278744</td>\n",
       "      <td>0.748704</td>\n",
       "      <td>0</td>\n",
       "      <td>1</td>\n",
       "      <td>0</td>\n",
       "      <td>0</td>\n",
       "      <td>...</td>\n",
       "      <td>1</td>\n",
       "      <td>0</td>\n",
       "      <td>0</td>\n",
       "      <td>0</td>\n",
       "      <td>1</td>\n",
       "      <td>0</td>\n",
       "      <td>0</td>\n",
       "      <td>0</td>\n",
       "      <td>0</td>\n",
       "      <td>0</td>\n",
       "    </tr>\n",
       "    <tr>\n",
       "      <th>...</th>\n",
       "      <td>...</td>\n",
       "      <td>...</td>\n",
       "      <td>...</td>\n",
       "      <td>...</td>\n",
       "      <td>...</td>\n",
       "      <td>...</td>\n",
       "      <td>...</td>\n",
       "      <td>...</td>\n",
       "      <td>...</td>\n",
       "      <td>...</td>\n",
       "      <td>...</td>\n",
       "      <td>...</td>\n",
       "      <td>...</td>\n",
       "      <td>...</td>\n",
       "      <td>...</td>\n",
       "      <td>...</td>\n",
       "      <td>...</td>\n",
       "      <td>...</td>\n",
       "      <td>...</td>\n",
       "      <td>...</td>\n",
       "      <td>...</td>\n",
       "    </tr>\n",
       "    <tr>\n",
       "      <th>389093</th>\n",
       "      <td>14995</td>\n",
       "      <td>0.942149</td>\n",
       "      <td>1</td>\n",
       "      <td>0.306226</td>\n",
       "      <td>0.542414</td>\n",
       "      <td>0.704188</td>\n",
       "      <td>0</td>\n",
       "      <td>0</td>\n",
       "      <td>1</td>\n",
       "      <td>0</td>\n",
       "      <td>...</td>\n",
       "      <td>1</td>\n",
       "      <td>0</td>\n",
       "      <td>0</td>\n",
       "      <td>0</td>\n",
       "      <td>1</td>\n",
       "      <td>0</td>\n",
       "      <td>0</td>\n",
       "      <td>0</td>\n",
       "      <td>0</td>\n",
       "      <td>0</td>\n",
       "    </tr>\n",
       "    <tr>\n",
       "      <th>389094</th>\n",
       "      <td>17895</td>\n",
       "      <td>0.975207</td>\n",
       "      <td>1</td>\n",
       "      <td>0.116541</td>\n",
       "      <td>0.542414</td>\n",
       "      <td>0.704177</td>\n",
       "      <td>0</td>\n",
       "      <td>0</td>\n",
       "      <td>0</td>\n",
       "      <td>1</td>\n",
       "      <td>...</td>\n",
       "      <td>0</td>\n",
       "      <td>0</td>\n",
       "      <td>0</td>\n",
       "      <td>0</td>\n",
       "      <td>1</td>\n",
       "      <td>0</td>\n",
       "      <td>0</td>\n",
       "      <td>0</td>\n",
       "      <td>0</td>\n",
       "      <td>0</td>\n",
       "    </tr>\n",
       "    <tr>\n",
       "      <th>389095</th>\n",
       "      <td>17900</td>\n",
       "      <td>0.942149</td>\n",
       "      <td>1</td>\n",
       "      <td>0.193699</td>\n",
       "      <td>0.550773</td>\n",
       "      <td>0.531857</td>\n",
       "      <td>1</td>\n",
       "      <td>0</td>\n",
       "      <td>0</td>\n",
       "      <td>0</td>\n",
       "      <td>...</td>\n",
       "      <td>1</td>\n",
       "      <td>0</td>\n",
       "      <td>0</td>\n",
       "      <td>0</td>\n",
       "      <td>1</td>\n",
       "      <td>0</td>\n",
       "      <td>0</td>\n",
       "      <td>0</td>\n",
       "      <td>0</td>\n",
       "      <td>0</td>\n",
       "    </tr>\n",
       "    <tr>\n",
       "      <th>389096</th>\n",
       "      <td>1300</td>\n",
       "      <td>0.892562</td>\n",
       "      <td>1</td>\n",
       "      <td>0.599369</td>\n",
       "      <td>0.550519</td>\n",
       "      <td>0.532111</td>\n",
       "      <td>0</td>\n",
       "      <td>0</td>\n",
       "      <td>0</td>\n",
       "      <td>1</td>\n",
       "      <td>...</td>\n",
       "      <td>1</td>\n",
       "      <td>0</td>\n",
       "      <td>0</td>\n",
       "      <td>0</td>\n",
       "      <td>1</td>\n",
       "      <td>0</td>\n",
       "      <td>0</td>\n",
       "      <td>0</td>\n",
       "      <td>0</td>\n",
       "      <td>0</td>\n",
       "    </tr>\n",
       "    <tr>\n",
       "      <th>389097</th>\n",
       "      <td>22900</td>\n",
       "      <td>0.892562</td>\n",
       "      <td>1</td>\n",
       "      <td>0.599369</td>\n",
       "      <td>0.491482</td>\n",
       "      <td>0.718757</td>\n",
       "      <td>0</td>\n",
       "      <td>1</td>\n",
       "      <td>0</td>\n",
       "      <td>0</td>\n",
       "      <td>...</td>\n",
       "      <td>0</td>\n",
       "      <td>0</td>\n",
       "      <td>0</td>\n",
       "      <td>0</td>\n",
       "      <td>1</td>\n",
       "      <td>0</td>\n",
       "      <td>0</td>\n",
       "      <td>0</td>\n",
       "      <td>0</td>\n",
       "      <td>0</td>\n",
       "    </tr>\n",
       "  </tbody>\n",
       "</table>\n",
       "<p>388335 rows × 103 columns</p>\n",
       "</div>"
      ],
      "text/plain": [
       "        price      year  condition  odometer       lat      long  color_black  \\\n",
       "0       35990  0.909091          1  0.119662  0.279689  0.748585            0   \n",
       "1        7500  0.942149          1  0.342079  0.278744  0.748704            0   \n",
       "2        4900  0.876033          1  0.318126  0.280285  0.748745            0   \n",
       "3        2000  0.611570          1  0.694391  0.285726  0.751247            0   \n",
       "4       19500  0.867769          1  0.423944  0.278744  0.748704            0   \n",
       "...       ...       ...        ...       ...       ...       ...          ...   \n",
       "389093  14995  0.942149          1  0.306226  0.542414  0.704188            0   \n",
       "389094  17895  0.975207          1  0.116541  0.542414  0.704177            0   \n",
       "389095  17900  0.942149          1  0.193699  0.550773  0.531857            1   \n",
       "389096   1300  0.892562          1  0.599369  0.550519  0.532111            0   \n",
       "389097  22900  0.892562          1  0.599369  0.491482  0.718757            0   \n",
       "\n",
       "        color_other  color_silver  color_white  ...  manuf_country_USA  \\\n",
       "0                 1             0            0  ...                  1   \n",
       "1                 1             0            0  ...                  0   \n",
       "2                 1             0            0  ...                  0   \n",
       "3                 1             0            0  ...                  1   \n",
       "4                 1             0            0  ...                  1   \n",
       "...             ...           ...          ...  ...                ...   \n",
       "389093            0             1            0  ...                  1   \n",
       "389094            0             0            1  ...                  0   \n",
       "389095            0             0            0  ...                  1   \n",
       "389096            0             0            1  ...                  1   \n",
       "389097            1             0            0  ...                  0   \n",
       "\n",
       "        manuf_country_missing  tfidf_0  tfidf_2  tfidf_4  tfidf_5  tfidf_6  \\\n",
       "0                           0        0        0        1        0        0   \n",
       "1                           0        0        0        1        0        0   \n",
       "2                           0        0        0        1        0        0   \n",
       "3                           0        0        0        1        0        0   \n",
       "4                           0        0        0        1        0        0   \n",
       "...                       ...      ...      ...      ...      ...      ...   \n",
       "389093                      0        0        0        1        0        0   \n",
       "389094                      0        0        0        1        0        0   \n",
       "389095                      0        0        0        1        0        0   \n",
       "389096                      0        0        0        1        0        0   \n",
       "389097                      0        0        0        1        0        0   \n",
       "\n",
       "        tfidf_7  tfidf_8  tfidf_9  \n",
       "0             0        0        0  \n",
       "1             0        0        0  \n",
       "2             0        0        0  \n",
       "3             0        0        0  \n",
       "4             0        0        0  \n",
       "...         ...      ...      ...  \n",
       "389093        0        0        0  \n",
       "389094        0        0        0  \n",
       "389095        0        0        0  \n",
       "389096        0        0        0  \n",
       "389097        0        0        0  \n",
       "\n",
       "[388335 rows x 103 columns]"
      ]
     },
     "execution_count": 11,
     "metadata": {},
     "output_type": "execute_result"
    }
   ],
   "source": [
    "final"
   ]
  },
  {
   "cell_type": "markdown",
   "metadata": {},
   "source": [
    "# Random Forest 1"
   ]
  },
  {
   "cell_type": "code",
   "execution_count": 151,
   "metadata": {},
   "outputs": [],
   "source": [
    "from sklearn.ensemble import RandomForestRegressor\n",
    "regressor = RandomForestRegressor(n_estimators = 100, random_state = 0)"
   ]
  },
  {
   "cell_type": "code",
   "execution_count": 152,
   "metadata": {},
   "outputs": [],
   "source": [
    "X = final[[\"year\", \"condition\"]]\n",
    "y = final[\"price\"]"
   ]
  },
  {
   "cell_type": "code",
   "execution_count": 153,
   "metadata": {},
   "outputs": [],
   "source": [
    "from sklearn.model_selection import train_test_split\n",
    "X_train, X_test, y_train, y_test = train_test_split(X, y, test_size = 0.2, shuffle = True)"
   ]
  },
  {
   "cell_type": "code",
   "execution_count": 214,
   "metadata": {},
   "outputs": [],
   "source": [
    "from sklearn.model_selection import KFold , cross_val_score, cross_val_predict\n",
    "kf = KFold(n_splits = 5)"
   ]
  },
  {
   "cell_type": "code",
   "execution_count": 145,
   "metadata": {
    "scrolled": false
   },
   "outputs": [],
   "source": [
    "results = cross_val_score(regressor, X_train, y_train, cv = kf)"
   ]
  },
  {
   "cell_type": "code",
   "execution_count": 155,
   "metadata": {},
   "outputs": [
    {
     "data": {
      "text/plain": [
       "RandomForestRegressor(random_state=0)"
      ]
     },
     "execution_count": 155,
     "metadata": {},
     "output_type": "execute_result"
    }
   ],
   "source": [
    "regressor.fit(X_train, y_train)"
   ]
  },
  {
   "cell_type": "code",
   "execution_count": 156,
   "metadata": {},
   "outputs": [],
   "source": [
    "y_pred = regressor.predict(X_test)"
   ]
  },
  {
   "cell_type": "code",
   "execution_count": 157,
   "metadata": {},
   "outputs": [],
   "source": [
    "from sklearn.metrics import mean_squared_error"
   ]
  },
  {
   "cell_type": "code",
   "execution_count": 158,
   "metadata": {},
   "outputs": [
    {
     "data": {
      "text/plain": [
       "97276425.95057908"
      ]
     },
     "execution_count": 158,
     "metadata": {},
     "output_type": "execute_result"
    }
   ],
   "source": [
    "X_y_train = regressor.predict(X_train)\n",
    "mean_squared_error(y_train,X_y_train)"
   ]
  },
  {
   "cell_type": "code",
   "execution_count": 159,
   "metadata": {},
   "outputs": [
    {
     "data": {
      "text/plain": [
       "98219109.25183159"
      ]
     },
     "execution_count": 159,
     "metadata": {},
     "output_type": "execute_result"
    }
   ],
   "source": [
    "mean_squared_error(y_test, y_pred)"
   ]
  },
  {
   "cell_type": "markdown",
   "metadata": {},
   "source": [
    "# Random Forest 1 randomly two features to check if it works"
   ]
  },
  {
   "cell_type": "code",
   "execution_count": 160,
   "metadata": {},
   "outputs": [],
   "source": [
    "from sklearn.ensemble import RandomForestRegressor\n",
    "regressor = RandomForestRegressor(n_estimators = 100, random_state = 0)"
   ]
  },
  {
   "cell_type": "code",
   "execution_count": 161,
   "metadata": {},
   "outputs": [],
   "source": [
    "X = final[[\"year\", \"condition\"]]\n",
    "y = final[\"price\"]"
   ]
  },
  {
   "cell_type": "code",
   "execution_count": 162,
   "metadata": {},
   "outputs": [],
   "source": [
    "from sklearn.model_selection import train_test_split\n",
    "X_train, X_test, y_train, y_test = train_test_split(X, y, test_size = 0.2, shuffle = True)"
   ]
  },
  {
   "cell_type": "code",
   "execution_count": 163,
   "metadata": {},
   "outputs": [],
   "source": [
    "from sklearn.model_selection import KFold , cross_val_score \n",
    "kf = KFold(n_splits = 5)"
   ]
  },
  {
   "cell_type": "code",
   "execution_count": 164,
   "metadata": {
    "scrolled": false
   },
   "outputs": [],
   "source": [
    "results = cross_val_score(regressor, X_train, y_train, cv = kf)"
   ]
  },
  {
   "cell_type": "code",
   "execution_count": 165,
   "metadata": {},
   "outputs": [
    {
     "data": {
      "text/plain": [
       "RandomForestRegressor(random_state=0)"
      ]
     },
     "execution_count": 165,
     "metadata": {},
     "output_type": "execute_result"
    }
   ],
   "source": [
    "regressor.fit(X_train, y_train)"
   ]
  },
  {
   "cell_type": "code",
   "execution_count": 166,
   "metadata": {},
   "outputs": [],
   "source": [
    "y_pred = regressor.predict(X_test)"
   ]
  },
  {
   "cell_type": "code",
   "execution_count": 167,
   "metadata": {},
   "outputs": [],
   "source": [
    "from sklearn.metrics import mean_squared_error"
   ]
  },
  {
   "cell_type": "code",
   "execution_count": 168,
   "metadata": {},
   "outputs": [
    {
     "data": {
      "text/plain": [
       "97621127.7704834"
      ]
     },
     "execution_count": 168,
     "metadata": {},
     "output_type": "execute_result"
    }
   ],
   "source": [
    "X_y_train = regressor.predict(X_train)\n",
    "mean_squared_error(y_train,X_y_train)"
   ]
  },
  {
   "cell_type": "code",
   "execution_count": 169,
   "metadata": {},
   "outputs": [
    {
     "data": {
      "text/plain": [
       "96825738.25711957"
      ]
     },
     "execution_count": 169,
     "metadata": {},
     "output_type": "execute_result"
    }
   ],
   "source": [
    "mean_squared_error(y_test, y_pred)"
   ]
  },
  {
   "cell_type": "code",
   "execution_count": 170,
   "metadata": {},
   "outputs": [
    {
     "data": {
      "text/plain": [
       "array([0.25250325, 0.2535727 , 0.24928404, 0.25178059, 0.25313733])"
      ]
     },
     "execution_count": 170,
     "metadata": {},
     "output_type": "execute_result"
    }
   ],
   "source": [
    "results"
   ]
  },
  {
   "cell_type": "markdown",
   "metadata": {},
   "source": [
    "# Random Forest 2 all features"
   ]
  },
  {
   "cell_type": "code",
   "execution_count": 171,
   "metadata": {},
   "outputs": [],
   "source": [
    "from sklearn.ensemble import RandomForestRegressor\n",
    "regressor = RandomForestRegressor(n_estimators = 100, random_state = 0)"
   ]
  },
  {
   "cell_type": "code",
   "execution_count": 172,
   "metadata": {},
   "outputs": [],
   "source": [
    "X = final.drop(columns = [\"price\"])\n",
    "y = final[\"price\"]"
   ]
  },
  {
   "cell_type": "code",
   "execution_count": 173,
   "metadata": {},
   "outputs": [],
   "source": [
    "from sklearn.model_selection import train_test_split\n",
    "X_train, X_test, y_train, y_test = train_test_split(X, y, test_size = 0.2, shuffle = True)"
   ]
  },
  {
   "cell_type": "code",
   "execution_count": 174,
   "metadata": {},
   "outputs": [],
   "source": [
    "from sklearn.model_selection import KFold , cross_val_score \n",
    "kf = KFold(n_splits = 5)"
   ]
  },
  {
   "cell_type": "code",
   "execution_count": 175,
   "metadata": {
    "scrolled": false
   },
   "outputs": [],
   "source": [
    "results = cross_val_score(regressor, X_train, y_train, cv = kf)"
   ]
  },
  {
   "cell_type": "code",
   "execution_count": 176,
   "metadata": {},
   "outputs": [
    {
     "data": {
      "text/plain": [
       "RandomForestRegressor(random_state=0)"
      ]
     },
     "execution_count": 176,
     "metadata": {},
     "output_type": "execute_result"
    }
   ],
   "source": [
    "regressor.fit(X_train, y_train)"
   ]
  },
  {
   "cell_type": "code",
   "execution_count": 177,
   "metadata": {},
   "outputs": [],
   "source": [
    "y_pred = regressor.predict(X_test)"
   ]
  },
  {
   "cell_type": "code",
   "execution_count": 178,
   "metadata": {},
   "outputs": [],
   "source": [
    "from sklearn.metrics import mean_squared_error"
   ]
  },
  {
   "cell_type": "code",
   "execution_count": 179,
   "metadata": {},
   "outputs": [
    {
     "data": {
      "text/plain": [
       "3636272.263139473"
      ]
     },
     "execution_count": 179,
     "metadata": {},
     "output_type": "execute_result"
    }
   ],
   "source": [
    "X_y_train = regressor.predict(X_train)\n",
    "mean_squared_error(y_train,X_y_train)"
   ]
  },
  {
   "cell_type": "code",
   "execution_count": 180,
   "metadata": {},
   "outputs": [
    {
     "data": {
      "text/plain": [
       "21855195.832169823"
      ]
     },
     "execution_count": 180,
     "metadata": {},
     "output_type": "execute_result"
    }
   ],
   "source": [
    "mean_squared_error(y_test, y_pred)"
   ]
  },
  {
   "cell_type": "code",
   "execution_count": 181,
   "metadata": {
    "scrolled": true
   },
   "outputs": [
    {
     "data": {
      "text/plain": [
       "array([0.81896821, 0.81452449, 0.81823864, 0.82316842, 0.82057979])"
      ]
     },
     "execution_count": 181,
     "metadata": {},
     "output_type": "execute_result"
    }
   ],
   "source": [
    "results"
   ]
  },
  {
   "cell_type": "code",
   "execution_count": 183,
   "metadata": {},
   "outputs": [
    {
     "data": {
      "text/plain": [
       "RandomForestRegressor(random_state=0)"
      ]
     },
     "execution_count": 183,
     "metadata": {},
     "output_type": "execute_result"
    }
   ],
   "source": [
    "regressor"
   ]
  },
  {
   "cell_type": "markdown",
   "metadata": {},
   "source": [
    "# Random Forest 3 feature selection"
   ]
  },
  {
   "cell_type": "code",
   "execution_count": 186,
   "metadata": {},
   "outputs": [],
   "source": [
    "X = final.drop(columns = [\"price\"])\n",
    "y = final[\"price\"]"
   ]
  },
  {
   "cell_type": "code",
   "execution_count": 187,
   "metadata": {},
   "outputs": [],
   "source": [
    "from sklearn.ensemble import RandomForestRegressor\n",
    "regressor = RandomForestRegressor(n_estimators = 100, random_state = 0)"
   ]
  },
  {
   "cell_type": "code",
   "execution_count": 188,
   "metadata": {},
   "outputs": [],
   "source": [
    "from sklearn.model_selection import train_test_split\n",
    "X_train, X_test, y_train, y_test = train_test_split(X, y, test_size = 0.2, shuffle = True)"
   ]
  },
  {
   "cell_type": "code",
   "execution_count": 189,
   "metadata": {},
   "outputs": [
    {
     "data": {
      "text/plain": [
       "SelectFromModel(estimator=RandomForestRegressor(random_state=0))"
      ]
     },
     "execution_count": 189,
     "metadata": {},
     "output_type": "execute_result"
    }
   ],
   "source": [
    "from sklearn.feature_selection import SelectFromModel\n",
    "sel = SelectFromModel(regressor)\n",
    "sel.fit(X_train, y_train)"
   ]
  },
  {
   "cell_type": "code",
   "execution_count": 192,
   "metadata": {},
   "outputs": [
    {
     "name": "stdout",
     "output_type": "stream",
     "text": [
      "[ True False  True  True  True False  True False False  True  True False\n",
      " False False False False False False False False False False False False\n",
      " False False False False False False False False False False False False\n",
      " False False False False False False False False False False False False\n",
      " False False False False False False False False False False False False\n",
      " False False False False False False False False False False False False\n",
      " False False  True  True False  True False False False False False False\n",
      " False  True False False False False False False False False False False\n",
      " False False False False False False]\n",
      "11\n",
      "Index(['year', 'odometer', 'lat', 'long', 'color_other', 'drive_4wd',\n",
      "       'drive_fwd', 'cylinders_6 cylinders', 'cylinders_8 cylinders',\n",
      "       'fuel_diesel', 'usage_type_professional'],\n",
      "      dtype='object')\n"
     ]
    }
   ],
   "source": [
    "print(sel.get_support())\n",
    "selected_feat= X_train.columns[(sel.get_support())]\n",
    "print(len(selected_feat))\n",
    "print(selected_feat)\n",
    "#pd.series(sel.estimator_,feature_importances_,.ravel()).hist()"
   ]
  },
  {
   "cell_type": "code",
   "execution_count": 193,
   "metadata": {},
   "outputs": [],
   "source": [
    "# Keep only these features\n",
    "feat_sel_df = final[[\"price\", 'year', 'odometer', 'lat', 'long', 'color_other', 'drive_4wd',\n",
    "       'drive_fwd', 'cylinders_6 cylinders', 'cylinders_8 cylinders',\n",
    "       'fuel_diesel', 'usage_type_professional' ]]\n",
    "# apply again split in the data"
   ]
  },
  {
   "cell_type": "code",
   "execution_count": 194,
   "metadata": {},
   "outputs": [],
   "source": [
    "from sklearn.model_selection import KFold , cross_val_score \n",
    "kf = KFold(n_splits = 5)"
   ]
  },
  {
   "cell_type": "code",
   "execution_count": 195,
   "metadata": {},
   "outputs": [],
   "source": [
    "X = feat_sel_df.drop(columns = [\"price\"])\n",
    "y = feat_sel_df[\"price\"]"
   ]
  },
  {
   "cell_type": "code",
   "execution_count": 196,
   "metadata": {},
   "outputs": [],
   "source": [
    "from sklearn.ensemble import RandomForestRegressor\n",
    "regressor = RandomForestRegressor(n_estimators = 100, random_state = 0)"
   ]
  },
  {
   "cell_type": "code",
   "execution_count": 197,
   "metadata": {},
   "outputs": [],
   "source": [
    "from sklearn.model_selection import train_test_split\n",
    "X_train, X_test, y_train, y_test = train_test_split(X, y, test_size = 0.2, shuffle = True)"
   ]
  },
  {
   "cell_type": "code",
   "execution_count": 198,
   "metadata": {
    "scrolled": false
   },
   "outputs": [],
   "source": [
    "results = cross_val_score(regressor, X_train, y_train, cv = kf)"
   ]
  },
  {
   "cell_type": "code",
   "execution_count": 200,
   "metadata": {},
   "outputs": [
    {
     "data": {
      "text/plain": [
       "RandomForestRegressor(random_state=0)"
      ]
     },
     "execution_count": 200,
     "metadata": {},
     "output_type": "execute_result"
    }
   ],
   "source": [
    "regressor.fit(X_train, y_train)"
   ]
  },
  {
   "cell_type": "code",
   "execution_count": 201,
   "metadata": {},
   "outputs": [],
   "source": [
    "y_pred = regressor.predict(X_test)"
   ]
  },
  {
   "cell_type": "code",
   "execution_count": 202,
   "metadata": {},
   "outputs": [],
   "source": [
    "from sklearn.metrics import mean_squared_error"
   ]
  },
  {
   "cell_type": "code",
   "execution_count": 203,
   "metadata": {},
   "outputs": [
    {
     "data": {
      "text/plain": [
       "4210066.340174482"
      ]
     },
     "execution_count": 203,
     "metadata": {},
     "output_type": "execute_result"
    }
   ],
   "source": [
    "X_y_train = regressor.predict(X_train)\n",
    "mean_squared_error(y_train,X_y_train)"
   ]
  },
  {
   "cell_type": "code",
   "execution_count": 204,
   "metadata": {},
   "outputs": [
    {
     "data": {
      "text/plain": [
       "23767853.583498586"
      ]
     },
     "execution_count": 204,
     "metadata": {},
     "output_type": "execute_result"
    }
   ],
   "source": [
    "mean_squared_error(y_test, y_pred)"
   ]
  },
  {
   "cell_type": "code",
   "execution_count": 199,
   "metadata": {},
   "outputs": [
    {
     "data": {
      "text/plain": [
       "array([0.79878153, 0.79911768, 0.79812537, 0.79858495, 0.7981784 ])"
      ]
     },
     "execution_count": 199,
     "metadata": {},
     "output_type": "execute_result"
    }
   ],
   "source": [
    "results"
   ]
  },
  {
   "cell_type": "markdown",
   "metadata": {},
   "source": [
    "# Random Forest 4 guess keeps"
   ]
  },
  {
   "cell_type": "code",
   "execution_count": 171,
   "metadata": {},
   "outputs": [],
   "source": [
    "from sklearn.ensemble import RandomForestRegressor\n",
    "regressor = RandomForestRegressor(n_estimators = 100, random_state = 0)"
   ]
  },
  {
   "cell_type": "code",
   "execution_count": null,
   "metadata": {},
   "outputs": [],
   "source": [
    "from sklearn.feature_selection import SelectFromModel"
   ]
  },
  {
   "cell_type": "code",
   "execution_count": 172,
   "metadata": {},
   "outputs": [],
   "source": [
    "X = final.drop(columns = [\"price\"])\n",
    "y = final[\"price\"]"
   ]
  },
  {
   "cell_type": "code",
   "execution_count": 173,
   "metadata": {},
   "outputs": [],
   "source": [
    "from sklearn.model_selection import train_test_split\n",
    "X_train, X_test, y_train, y_test = train_test_split(X, y, test_size = 0.2, shuffle = True)"
   ]
  },
  {
   "cell_type": "code",
   "execution_count": 174,
   "metadata": {},
   "outputs": [],
   "source": [
    "from sklearn.model_selection import KFold , cross_val_score \n",
    "kf = KFold(n_splits = 5)"
   ]
  },
  {
   "cell_type": "code",
   "execution_count": null,
   "metadata": {
    "scrolled": false
   },
   "outputs": [],
   "source": [
    "results = cross_val_score(regressor, X_train, y_train, cv = kf)"
   ]
  },
  {
   "cell_type": "code",
   "execution_count": null,
   "metadata": {},
   "outputs": [],
   "source": [
    "regressor.fit(X_train, y_train)"
   ]
  },
  {
   "cell_type": "code",
   "execution_count": null,
   "metadata": {},
   "outputs": [],
   "source": [
    "y_pred = regressor.predict(X_test)"
   ]
  },
  {
   "cell_type": "code",
   "execution_count": null,
   "metadata": {},
   "outputs": [],
   "source": [
    "from sklearn.metrics import mean_squared_error"
   ]
  },
  {
   "cell_type": "code",
   "execution_count": null,
   "metadata": {},
   "outputs": [],
   "source": [
    "X_y_train = regressor.predict(X_train)\n",
    "mean_squared_error(y_train,X_y_train)"
   ]
  },
  {
   "cell_type": "code",
   "execution_count": null,
   "metadata": {},
   "outputs": [],
   "source": [
    "mean_squared_error(y_test, y_pred)"
   ]
  },
  {
   "cell_type": "code",
   "execution_count": null,
   "metadata": {},
   "outputs": [],
   "source": [
    "results"
   ]
  },
  {
   "cell_type": "markdown",
   "metadata": {},
   "source": [
    "# Random Forest 5 cross validation predictions"
   ]
  },
  {
   "cell_type": "code",
   "execution_count": 215,
   "metadata": {},
   "outputs": [],
   "source": [
    "import matplotlib.pyplot as plt\n",
    "import seaborn as sns"
   ]
  },
  {
   "cell_type": "code",
   "execution_count": 216,
   "metadata": {},
   "outputs": [],
   "source": [
    "from sklearn.ensemble import RandomForestRegressor\n",
    "regressor = RandomForestRegressor(n_estimators = 100, random_state = 0)"
   ]
  },
  {
   "cell_type": "code",
   "execution_count": 217,
   "metadata": {},
   "outputs": [],
   "source": [
    "from sklearn.feature_selection import SelectFromModel"
   ]
  },
  {
   "cell_type": "code",
   "execution_count": 218,
   "metadata": {},
   "outputs": [],
   "source": [
    "X = final.drop(columns = [\"price\"])\n",
    "y = final[\"price\"]"
   ]
  },
  {
   "cell_type": "code",
   "execution_count": 219,
   "metadata": {},
   "outputs": [],
   "source": [
    "from sklearn.model_selection import train_test_split\n",
    "X_train, X_test, y_train, y_test = train_test_split(X, y, test_size = 0.2, shuffle = True)"
   ]
  },
  {
   "cell_type": "code",
   "execution_count": 220,
   "metadata": {},
   "outputs": [],
   "source": [
    "from sklearn.model_selection import KFold , cross_val_score, cross_val_predict\n",
    "kf = KFold(n_splits = 5)"
   ]
  },
  {
   "cell_type": "code",
   "execution_count": null,
   "metadata": {
    "scrolled": false
   },
   "outputs": [],
   "source": [
    "#results = cross_val_score(regressor, X_train, y_train, cv = kf)"
   ]
  },
  {
   "cell_type": "code",
   "execution_count": null,
   "metadata": {},
   "outputs": [],
   "source": [
    "#regressor.fit(X_train, y_train)"
   ]
  },
  {
   "cell_type": "code",
   "execution_count": null,
   "metadata": {},
   "outputs": [],
   "source": [
    "#y_pred = regressor.predict(X_test)"
   ]
  },
  {
   "cell_type": "code",
   "execution_count": 221,
   "metadata": {},
   "outputs": [],
   "source": [
    "from sklearn.metrics import mean_squared_error"
   ]
  },
  {
   "cell_type": "code",
   "execution_count": null,
   "metadata": {},
   "outputs": [],
   "source": [
    "#X_y_train = regressor.predict(X_train)\n",
    "#mean_squared_error(y_train,X_y_train)"
   ]
  },
  {
   "cell_type": "code",
   "execution_count": null,
   "metadata": {},
   "outputs": [],
   "source": [
    "#mean_squared_error(y_test, y_pred)"
   ]
  },
  {
   "cell_type": "code",
   "execution_count": null,
   "metadata": {},
   "outputs": [],
   "source": [
    "#results"
   ]
  },
  {
   "cell_type": "code",
   "execution_count": 223,
   "metadata": {},
   "outputs": [
    {
     "name": "stdout",
     "output_type": "stream",
     "text": [
      "[36184.58333333  9474.37        6028.175      ... 21200.42\n",
      " 11580.57       22900.        ]\n"
     ]
    }
   ],
   "source": [
    "k_predictions = cross_val_predict(regressor, X, y, cv=5)\n",
    "print(k_predictions)"
   ]
  },
  {
   "cell_type": "code",
   "execution_count": 230,
   "metadata": {},
   "outputs": [
    {
     "data": {
      "image/png": "[encoded data removed]",
      "text/plain": [
       "<Figure size 432x288 with 1 Axes>"
      ]
     },
     "metadata": {
      "needs_background": "light"
     },
     "output_type": "display_data"
    }
   ],
   "source": [
    "# plot k-fold predictions against actual\n",
    "plot_k = sns.scatterplot(y, k_predictions)\n",
    "plot_k.set(xlabel='Given', ylabel='Prediction')\n",
    "# generate and graph y = x line\n",
    "x_plot = np.linspace(0,5,100)\n",
    "y_plot = np.linspace(0,5,100)\n",
    "#plt.plot(x_plot, y_plot, color='y')"
   ]
  },
  {
   "cell_type": "code",
   "execution_count": 225,
   "metadata": {},
   "outputs": [
    {
     "data": {
      "text/plain": [
       "41083069.57138299"
      ]
     },
     "execution_count": 225,
     "metadata": {},
     "output_type": "execute_result"
    }
   ],
   "source": [
    "mean_squared_error(y, k_predictions)"
   ]
  },
  {
   "cell_type": "code",
   "execution_count": 231,
   "metadata": {},
   "outputs": [
    {
     "name": "stdout",
     "output_type": "stream",
     "text": [
      "-41083069.571383\n"
     ]
    },
    {
     "data": {
      "text/plain": [
       "<matplotlib.axes._subplots.AxesSubplot at 0x2617fe2ad90>"
      ]
     },
     "execution_count": 231,
     "metadata": {},
     "output_type": "execute_result"
    },
    {
     "data": {
      "image/png": "[encoded data removed]",
      "text/plain": [
       "<Figure size 432x288 with 1 Axes>"
      ]
     },
     "metadata": {
      "needs_background": "light"
     },
     "output_type": "display_data"
    }
   ],
   "source": [
    "# find the mean score from the k-fold models usinf cross_val_score\n",
    "kfold_scores = cross_val_score(regressor, X, y, cv=5, scoring='neg_mean_squared_error')\n",
    "print(kfold_scores.mean())\n",
    "# plot scores\n",
    "sns.distplot(kfold_scores, bins=5)"
   ]
  },
  {
   "cell_type": "code",
   "execution_count": null,
   "metadata": {},
   "outputs": [],
   "source": []
  }
 ],
 "metadata": {
  "kernelspec": {
   "display_name": "Python 3",
   "language": "python",
   "name": "python3"
  },
  "language_info": {
   "codemirror_mode": {
    "name": "ipython",
    "version": 3
   },
   "file_extension": ".py",
   "mimetype": "text/x-python",
   "name": "python",
   "nbconvert_exporter": "python",
   "pygments_lexer": "ipython3",
   "version": "3.8.3"
  }
 },
 "nbformat": 4,
 "nbformat_minor": 4
}
