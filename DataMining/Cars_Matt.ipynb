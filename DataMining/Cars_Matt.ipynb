{
 "cells": [
  {
   "cell_type": "markdown",
   "metadata": {},
   "source": [
    "# Data Mining: Used Cars on Craigslist"
   ]
  },
  {
   "cell_type": "code",
   "execution_count": 1,
   "metadata": {},
   "outputs": [],
   "source": [
    "%matplotlib inline\n",
    "import os\n",
    "import zipfile\n",
    "import numpy as np\n",
    "import pandas as pd\n",
    "import matplotlib.pyplot as plt\n",
    "import CleaningCars as cc"
   ]
  },
  {
   "cell_type": "markdown",
   "metadata": {},
   "source": [
    "## Load Data"
   ]
  },
  {
   "cell_type": "code",
   "execution_count": 94,
   "metadata": {},
   "outputs": [],
   "source": [
    "cars = pd.read_csv('data/vehicles.csv')"
   ]
  },
  {
   "cell_type": "markdown",
   "metadata": {},
   "source": [
    "## Data Inspection"
   ]
  },
  {
   "cell_type": "code",
   "execution_count": 3,
   "metadata": {},
   "outputs": [
    {
     "data": {
      "text/html": [
       "<div>\n",
       "<style scoped>\n",
       "    .dataframe tbody tr th:only-of-type {\n",
       "        vertical-align: middle;\n",
       "    }\n",
       "\n",
       "    .dataframe tbody tr th {\n",
       "        vertical-align: top;\n",
       "    }\n",
       "\n",
       "    .dataframe thead th {\n",
       "        text-align: right;\n",
       "    }\n",
       "</style>\n",
       "<table border=\"1\" class=\"dataframe\">\n",
       "  <thead>\n",
       "    <tr style=\"text-align: right;\">\n",
       "      <th></th>\n",
       "      <th>Unnamed: 0</th>\n",
       "      <th>id</th>\n",
       "      <th>url</th>\n",
       "      <th>region</th>\n",
       "      <th>region_url</th>\n",
       "      <th>price</th>\n",
       "      <th>year</th>\n",
       "      <th>manufacturer</th>\n",
       "      <th>model</th>\n",
       "      <th>condition</th>\n",
       "      <th>...</th>\n",
       "      <th>drive</th>\n",
       "      <th>size</th>\n",
       "      <th>type</th>\n",
       "      <th>paint_color</th>\n",
       "      <th>image_url</th>\n",
       "      <th>description</th>\n",
       "      <th>state</th>\n",
       "      <th>lat</th>\n",
       "      <th>long</th>\n",
       "      <th>posting_date</th>\n",
       "    </tr>\n",
       "  </thead>\n",
       "  <tbody>\n",
       "    <tr>\n",
       "      <th>0</th>\n",
       "      <td>0</td>\n",
       "      <td>7240372487</td>\n",
       "      <td>https://auburn.craigslist.org/ctd/d/auburn-uni...</td>\n",
       "      <td>auburn</td>\n",
       "      <td>https://auburn.craigslist.org</td>\n",
       "      <td>35990</td>\n",
       "      <td>2010.0</td>\n",
       "      <td>chevrolet</td>\n",
       "      <td>corvette grand sport</td>\n",
       "      <td>good</td>\n",
       "      <td>...</td>\n",
       "      <td>rwd</td>\n",
       "      <td>NaN</td>\n",
       "      <td>other</td>\n",
       "      <td>NaN</td>\n",
       "      <td>https://images.craigslist.org/00N0N_ipkbHVZYf4...</td>\n",
       "      <td>Carvana is the safer way to buy a car During t...</td>\n",
       "      <td>al</td>\n",
       "      <td>32.590000</td>\n",
       "      <td>-85.480000</td>\n",
       "      <td>2020-12-02T08:11:30-0600</td>\n",
       "    </tr>\n",
       "    <tr>\n",
       "      <th>1</th>\n",
       "      <td>1</td>\n",
       "      <td>7240309422</td>\n",
       "      <td>https://auburn.craigslist.org/cto/d/auburn-201...</td>\n",
       "      <td>auburn</td>\n",
       "      <td>https://auburn.craigslist.org</td>\n",
       "      <td>7500</td>\n",
       "      <td>2014.0</td>\n",
       "      <td>hyundai</td>\n",
       "      <td>sonata</td>\n",
       "      <td>excellent</td>\n",
       "      <td>...</td>\n",
       "      <td>fwd</td>\n",
       "      <td>NaN</td>\n",
       "      <td>sedan</td>\n",
       "      <td>NaN</td>\n",
       "      <td>https://images.craigslist.org/00s0s_gBHYmJ5o7y...</td>\n",
       "      <td>I'll move to another city and try to sell my c...</td>\n",
       "      <td>al</td>\n",
       "      <td>32.547500</td>\n",
       "      <td>-85.468200</td>\n",
       "      <td>2020-12-02T02:11:50-0600</td>\n",
       "    </tr>\n",
       "    <tr>\n",
       "      <th>2</th>\n",
       "      <td>2</td>\n",
       "      <td>7240224296</td>\n",
       "      <td>https://auburn.craigslist.org/cto/d/auburn-200...</td>\n",
       "      <td>auburn</td>\n",
       "      <td>https://auburn.craigslist.org</td>\n",
       "      <td>4900</td>\n",
       "      <td>2006.0</td>\n",
       "      <td>bmw</td>\n",
       "      <td>x3 3.0i</td>\n",
       "      <td>good</td>\n",
       "      <td>...</td>\n",
       "      <td>NaN</td>\n",
       "      <td>NaN</td>\n",
       "      <td>SUV</td>\n",
       "      <td>blue</td>\n",
       "      <td>https://images.craigslist.org/00B0B_5zgEGWPOrt...</td>\n",
       "      <td>Clean 2006 BMW X3 3.0I.  Beautiful and rare Bl...</td>\n",
       "      <td>al</td>\n",
       "      <td>32.616807</td>\n",
       "      <td>-85.464149</td>\n",
       "      <td>2020-12-01T19:50:41-0600</td>\n",
       "    </tr>\n",
       "    <tr>\n",
       "      <th>3</th>\n",
       "      <td>3</td>\n",
       "      <td>7240103965</td>\n",
       "      <td>https://auburn.craigslist.org/cto/d/lanett-tru...</td>\n",
       "      <td>auburn</td>\n",
       "      <td>https://auburn.craigslist.org</td>\n",
       "      <td>2000</td>\n",
       "      <td>1974.0</td>\n",
       "      <td>chevrolet</td>\n",
       "      <td>c-10</td>\n",
       "      <td>good</td>\n",
       "      <td>...</td>\n",
       "      <td>rwd</td>\n",
       "      <td>full-size</td>\n",
       "      <td>pickup</td>\n",
       "      <td>blue</td>\n",
       "      <td>https://images.craigslist.org/00M0M_6o7KcDpArw...</td>\n",
       "      <td>1974 chev. truck (LONG BED) NEW starter front ...</td>\n",
       "      <td>al</td>\n",
       "      <td>32.861600</td>\n",
       "      <td>-85.216100</td>\n",
       "      <td>2020-12-01T15:54:45-0600</td>\n",
       "    </tr>\n",
       "    <tr>\n",
       "      <th>4</th>\n",
       "      <td>4</td>\n",
       "      <td>7239983776</td>\n",
       "      <td>https://auburn.craigslist.org/cto/d/auburn-200...</td>\n",
       "      <td>auburn</td>\n",
       "      <td>https://auburn.craigslist.org</td>\n",
       "      <td>19500</td>\n",
       "      <td>2005.0</td>\n",
       "      <td>ford</td>\n",
       "      <td>f350 lariat</td>\n",
       "      <td>excellent</td>\n",
       "      <td>...</td>\n",
       "      <td>4wd</td>\n",
       "      <td>full-size</td>\n",
       "      <td>pickup</td>\n",
       "      <td>blue</td>\n",
       "      <td>https://images.craigslist.org/00p0p_b95l1EgUfl...</td>\n",
       "      <td>2005 Ford F350 Lariat (Bullet Proofed). This t...</td>\n",
       "      <td>al</td>\n",
       "      <td>32.547500</td>\n",
       "      <td>-85.468200</td>\n",
       "      <td>2020-12-01T12:53:56-0600</td>\n",
       "    </tr>\n",
       "  </tbody>\n",
       "</table>\n",
       "<p>5 rows × 26 columns</p>\n",
       "</div>"
      ],
      "text/plain": [
       "   Unnamed: 0          id                                                url  \\\n",
       "0           0  7240372487  https://auburn.craigslist.org/ctd/d/auburn-uni...   \n",
       "1           1  7240309422  https://auburn.craigslist.org/cto/d/auburn-201...   \n",
       "2           2  7240224296  https://auburn.craigslist.org/cto/d/auburn-200...   \n",
       "3           3  7240103965  https://auburn.craigslist.org/cto/d/lanett-tru...   \n",
       "4           4  7239983776  https://auburn.craigslist.org/cto/d/auburn-200...   \n",
       "\n",
       "   region                     region_url  price    year manufacturer  \\\n",
       "0  auburn  https://auburn.craigslist.org  35990  2010.0    chevrolet   \n",
       "1  auburn  https://auburn.craigslist.org   7500  2014.0      hyundai   \n",
       "2  auburn  https://auburn.craigslist.org   4900  2006.0          bmw   \n",
       "3  auburn  https://auburn.craigslist.org   2000  1974.0    chevrolet   \n",
       "4  auburn  https://auburn.craigslist.org  19500  2005.0         ford   \n",
       "\n",
       "                  model  condition  ... drive       size    type paint_color  \\\n",
       "0  corvette grand sport       good  ...   rwd        NaN   other         NaN   \n",
       "1                sonata  excellent  ...   fwd        NaN   sedan         NaN   \n",
       "2               x3 3.0i       good  ...   NaN        NaN     SUV        blue   \n",
       "3                  c-10       good  ...   rwd  full-size  pickup        blue   \n",
       "4           f350 lariat  excellent  ...   4wd  full-size  pickup        blue   \n",
       "\n",
       "                                           image_url  \\\n",
       "0  https://images.craigslist.org/00N0N_ipkbHVZYf4...   \n",
       "1  https://images.craigslist.org/00s0s_gBHYmJ5o7y...   \n",
       "2  https://images.craigslist.org/00B0B_5zgEGWPOrt...   \n",
       "3  https://images.craigslist.org/00M0M_6o7KcDpArw...   \n",
       "4  https://images.craigslist.org/00p0p_b95l1EgUfl...   \n",
       "\n",
       "                                         description state        lat  \\\n",
       "0  Carvana is the safer way to buy a car During t...    al  32.590000   \n",
       "1  I'll move to another city and try to sell my c...    al  32.547500   \n",
       "2  Clean 2006 BMW X3 3.0I.  Beautiful and rare Bl...    al  32.616807   \n",
       "3  1974 chev. truck (LONG BED) NEW starter front ...    al  32.861600   \n",
       "4  2005 Ford F350 Lariat (Bullet Proofed). This t...    al  32.547500   \n",
       "\n",
       "        long              posting_date  \n",
       "0 -85.480000  2020-12-02T08:11:30-0600  \n",
       "1 -85.468200  2020-12-02T02:11:50-0600  \n",
       "2 -85.464149  2020-12-01T19:50:41-0600  \n",
       "3 -85.216100  2020-12-01T15:54:45-0600  \n",
       "4 -85.468200  2020-12-01T12:53:56-0600  \n",
       "\n",
       "[5 rows x 26 columns]"
      ]
     },
     "execution_count": 3,
     "metadata": {},
     "output_type": "execute_result"
    }
   ],
   "source": [
    "cars.head()"
   ]
  },
  {
   "cell_type": "code",
   "execution_count": 4,
   "metadata": {},
   "outputs": [
    {
     "data": {
      "text/plain": [
       "Index(['Unnamed: 0', 'id', 'url', 'region', 'region_url', 'price', 'year',\n",
       "       'manufacturer', 'model', 'condition', 'cylinders', 'fuel', 'odometer',\n",
       "       'title_status', 'transmission', 'VIN', 'drive', 'size', 'type',\n",
       "       'paint_color', 'image_url', 'description', 'state', 'lat', 'long',\n",
       "       'posting_date'],\n",
       "      dtype='object')"
      ]
     },
     "execution_count": 4,
     "metadata": {},
     "output_type": "execute_result"
    }
   ],
   "source": [
    "cars.columns"
   ]
  },
  {
   "cell_type": "code",
   "execution_count": 5,
   "metadata": {},
   "outputs": [
    {
     "data": {
      "text/plain": [
       "(458213, 26)"
      ]
     },
     "execution_count": 5,
     "metadata": {},
     "output_type": "execute_result"
    }
   ],
   "source": [
    "cars.shape"
   ]
  },
  {
   "cell_type": "code",
   "execution_count": 7,
   "metadata": {},
   "outputs": [
    {
     "data": {
      "text/html": [
       "<div>\n",
       "<style scoped>\n",
       "    .dataframe tbody tr th:only-of-type {\n",
       "        vertical-align: middle;\n",
       "    }\n",
       "\n",
       "    .dataframe tbody tr th {\n",
       "        vertical-align: top;\n",
       "    }\n",
       "\n",
       "    .dataframe thead th {\n",
       "        text-align: right;\n",
       "    }\n",
       "</style>\n",
       "<table border=\"1\" class=\"dataframe\">\n",
       "  <thead>\n",
       "    <tr style=\"text-align: right;\">\n",
       "      <th></th>\n",
       "      <th>id</th>\n",
       "      <th>price</th>\n",
       "      <th>year</th>\n",
       "      <th>odometer</th>\n",
       "      <th>lat</th>\n",
       "      <th>long</th>\n",
       "    </tr>\n",
       "  </thead>\n",
       "  <tbody>\n",
       "    <tr>\n",
       "      <td>count</td>\n",
       "      <td>4.582130e+05</td>\n",
       "      <td>4.582130e+05</td>\n",
       "      <td>457163.000000</td>\n",
       "      <td>4.029100e+05</td>\n",
       "      <td>450765.000000</td>\n",
       "      <td>450765.000000</td>\n",
       "    </tr>\n",
       "    <tr>\n",
       "      <td>mean</td>\n",
       "      <td>7.235233e+09</td>\n",
       "      <td>4.042093e+04</td>\n",
       "      <td>2010.746067</td>\n",
       "      <td>1.016698e+05</td>\n",
       "      <td>38.531925</td>\n",
       "      <td>-94.375824</td>\n",
       "    </tr>\n",
       "    <tr>\n",
       "      <td>std</td>\n",
       "      <td>4.594362e+06</td>\n",
       "      <td>8.194599e+06</td>\n",
       "      <td>8.868136</td>\n",
       "      <td>3.228623e+06</td>\n",
       "      <td>5.857378</td>\n",
       "      <td>18.076225</td>\n",
       "    </tr>\n",
       "    <tr>\n",
       "      <td>min</td>\n",
       "      <td>7.208550e+09</td>\n",
       "      <td>0.000000e+00</td>\n",
       "      <td>1900.000000</td>\n",
       "      <td>0.000000e+00</td>\n",
       "      <td>-82.607549</td>\n",
       "      <td>-164.091797</td>\n",
       "    </tr>\n",
       "    <tr>\n",
       "      <td>25%</td>\n",
       "      <td>7.231953e+09</td>\n",
       "      <td>4.900000e+03</td>\n",
       "      <td>2008.000000</td>\n",
       "      <td>4.087700e+04</td>\n",
       "      <td>34.600000</td>\n",
       "      <td>-110.890427</td>\n",
       "    </tr>\n",
       "    <tr>\n",
       "      <td>50%</td>\n",
       "      <td>7.236409e+09</td>\n",
       "      <td>1.099500e+04</td>\n",
       "      <td>2013.000000</td>\n",
       "      <td>8.764100e+04</td>\n",
       "      <td>39.244500</td>\n",
       "      <td>-88.314889</td>\n",
       "    </tr>\n",
       "    <tr>\n",
       "      <td>75%</td>\n",
       "      <td>7.239321e+09</td>\n",
       "      <td>2.149500e+04</td>\n",
       "      <td>2016.000000</td>\n",
       "      <td>1.340000e+05</td>\n",
       "      <td>42.484503</td>\n",
       "      <td>-81.015022</td>\n",
       "    </tr>\n",
       "    <tr>\n",
       "      <td>max</td>\n",
       "      <td>7.241019e+09</td>\n",
       "      <td>3.615215e+09</td>\n",
       "      <td>2021.000000</td>\n",
       "      <td>2.043756e+09</td>\n",
       "      <td>82.049255</td>\n",
       "      <td>150.898969</td>\n",
       "    </tr>\n",
       "  </tbody>\n",
       "</table>\n",
       "</div>"
      ],
      "text/plain": [
       "                 id         price           year      odometer            lat  \\\n",
       "count  4.582130e+05  4.582130e+05  457163.000000  4.029100e+05  450765.000000   \n",
       "mean   7.235233e+09  4.042093e+04    2010.746067  1.016698e+05      38.531925   \n",
       "std    4.594362e+06  8.194599e+06       8.868136  3.228623e+06       5.857378   \n",
       "min    7.208550e+09  0.000000e+00    1900.000000  0.000000e+00     -82.607549   \n",
       "25%    7.231953e+09  4.900000e+03    2008.000000  4.087700e+04      34.600000   \n",
       "50%    7.236409e+09  1.099500e+04    2013.000000  8.764100e+04      39.244500   \n",
       "75%    7.239321e+09  2.149500e+04    2016.000000  1.340000e+05      42.484503   \n",
       "max    7.241019e+09  3.615215e+09    2021.000000  2.043756e+09      82.049255   \n",
       "\n",
       "                long  \n",
       "count  450765.000000  \n",
       "mean      -94.375824  \n",
       "std        18.076225  \n",
       "min      -164.091797  \n",
       "25%      -110.890427  \n",
       "50%       -88.314889  \n",
       "75%       -81.015022  \n",
       "max       150.898969  "
      ]
     },
     "execution_count": 7,
     "metadata": {},
     "output_type": "execute_result"
    }
   ],
   "source": [
    "cars.describe()"
   ]
  },
  {
   "cell_type": "code",
   "execution_count": 4,
   "metadata": {},
   "outputs": [
    {
     "data": {
      "text/plain": [
       "Unnamed: 0           0\n",
       "id                   0\n",
       "url                  0\n",
       "region               0\n",
       "region_url           0\n",
       "price                0\n",
       "year              1050\n",
       "manufacturer     18220\n",
       "model             4846\n",
       "condition       192940\n",
       "cylinders       171140\n",
       "fuel              3237\n",
       "odometer         55303\n",
       "title_status      2577\n",
       "transmission      2442\n",
       "VIN             187549\n",
       "drive           134188\n",
       "size            321348\n",
       "type            112738\n",
       "paint_color     140843\n",
       "image_url           28\n",
       "description         70\n",
       "state                0\n",
       "lat               7448\n",
       "long              7448\n",
       "posting_date        28\n",
       "dtype: int64"
      ]
     },
     "execution_count": 4,
     "metadata": {},
     "output_type": "execute_result"
    }
   ],
   "source": [
    "#Total number of null values in each column\n",
    "cars.isnull().sum()"
   ]
  },
  {
   "cell_type": "code",
   "execution_count": 5,
   "metadata": {},
   "outputs": [
    {
     "name": "stdout",
     "output_type": "stream",
     "text": [
      "PERCENTAGE OF ROWS WITH NAN:\n",
      "Unnamed: 0       0.000000\n",
      "id               0.000000\n",
      "url              0.000000\n",
      "region           0.000000\n",
      "region_url       0.000000\n",
      "price            0.000000\n",
      "year             0.229151\n",
      "manufacturer     3.976317\n",
      "model            1.057587\n",
      "condition       42.107055\n",
      "cylinders       37.349442\n",
      "fuel             0.706440\n",
      "odometer        12.069278\n",
      "title_status     0.562402\n",
      "transmission     0.532940\n",
      "VIN             40.930528\n",
      "drive           29.285070\n",
      "size            70.130703\n",
      "type            24.603841\n",
      "paint_color     30.737452\n",
      "image_url        0.006111\n",
      "description      0.015277\n",
      "state            0.000000\n",
      "lat              1.625445\n",
      "long             1.625445\n",
      "posting_date     0.006111\n",
      "dtype: float64\n"
     ]
    }
   ],
   "source": [
    "print(\"PERCENTAGE OF ROWS WITH NAN:\")\n",
    "print(cars.isnull().sum() / cars.shape[0] * 100)"
   ]
  },
  {
   "cell_type": "code",
   "execution_count": 10,
   "metadata": {},
   "outputs": [
    {
     "data": {
      "text/plain": [
       "458213"
      ]
     },
     "execution_count": 10,
     "metadata": {},
     "output_type": "execute_result"
    }
   ],
   "source": [
    "#Every row is a unique car\n",
    "len(np.unique(cars.id))"
   ]
  },
  {
   "cell_type": "code",
   "execution_count": 11,
   "metadata": {},
   "outputs": [
    {
     "name": "stdout",
     "output_type": "stream",
     "text": [
      "Number of unique regions: 405\n"
     ]
    }
   ],
   "source": [
    "#print(np.unique(cars.region))\n",
    "print(\"Number of unique regions:\", len(np.unique(cars.region)))"
   ]
  },
  {
   "cell_type": "code",
   "execution_count": 12,
   "metadata": {},
   "outputs": [
    {
     "name": "stdout",
     "output_type": "stream",
     "text": [
      "Number of unique region urls: 413\n"
     ]
    }
   ],
   "source": [
    "print(\"Number of unique region urls:\", len(np.unique(cars.region_url)))"
   ]
  },
  {
   "cell_type": "code",
   "execution_count": 16,
   "metadata": {},
   "outputs": [
    {
     "name": "stdout",
     "output_type": "stream",
     "text": [
      "2021.0\n",
      "1900.0\n",
      "2010.7460665014448\n"
     ]
    },
    {
     "data": {
      "text/plain": [
       "1946.0    49\n",
       "1932.0    48\n",
       "1934.0    39\n",
       "1928.0    37\n",
       "1939.0    36\n",
       "1937.0    32\n",
       "1936.0    29\n",
       "1938.0    27\n",
       "1935.0    25\n",
       "1927.0    23\n",
       "1923.0    20\n",
       "1900.0    19\n",
       "1933.0    16\n",
       "1926.0    13\n",
       "1942.0    11\n",
       "1924.0     8\n",
       "1925.0     7\n",
       "1912.0     5\n",
       "1911.0     4\n",
       "1914.0     2\n",
       "1943.0     2\n",
       "1945.0     2\n",
       "1920.0     1\n",
       "1918.0     1\n",
       "1915.0     1\n",
       "1921.0     1\n",
       "1913.0     1\n",
       "1922.0     1\n",
       "1910.0     1\n",
       "1919.0     1\n",
       "Name: year, dtype: int64"
      ]
     },
     "execution_count": 16,
     "metadata": {},
     "output_type": "execute_result"
    }
   ],
   "source": [
    "print(np.max(cars.year))\n",
    "print(np.min(cars.year))\n",
    "print(np.mean(cars.year))\n",
    "##Perhaps experiment with binning years into categorical variables (very old, old, new, very new etc.)\n",
    "years = cars.year.value_counts()\n",
    "years.tail(30)"
   ]
  },
  {
   "cell_type": "code",
   "execution_count": 23,
   "metadata": {},
   "outputs": [
    {
     "name": "stdout",
     "output_type": "stream",
     "text": [
      "40420.93069598637\n",
      "3615215112\n",
      "0\n",
      "         manufacturer       price                      model\n",
      "1622        chevrolet  1234567890                        NaN\n",
      "21955       chevrolet     1234567                        NaN\n",
      "25413          nissan    11111111                 pathfinder\n",
      "38375             gmc  2808348671                        NaN\n",
      "39335          toyota      599000                        NaN\n",
      "55387          toyota      888777               land cruiser\n",
      "91692   mercedes-benz      999000                   amg g 63\n",
      "107009  mercedes-benz     9999999                  benz e350\n",
      "109428           jeep     3429900         wrangler unlimited\n",
      "109654            NaN    11111111                      Mopar\n",
      "117008      chevrolet     1234567                       nova\n",
      "145053           jeep    12345679                   wrangler\n",
      "151283           jeep     1234567                   wrangler\n",
      "151323           jeep     1234567                   wrangler\n",
      "167398      chevrolet     1234567                  silverado\n",
      "174403         toyota    22000000                     tacoma\n",
      "185946           jeep     1111111                   wrangler\n",
      "190027            NaN     1234567  1962 Studebaker Lark 2 dr\n",
      "190054        ferrari      625000           488 pista spider\n",
      "191736       cadillac    79000000                  fleetwood\n",
      "191738       cadillac     7900000                  fleetwood\n",
      "215250      chevrolet     1111111                   corvette\n",
      "219541          dodge     1111111                 challenger\n",
      "238861           ford    98504250                     ranger\n",
      "256573         toyota    12345678                      prius\n",
      "267603      chevrolet     1234567                    nova ss\n",
      "277726            NaN      999999                  Excalibur\n",
      "291657            NaN      785554                       ssss\n",
      "304139         toyota      999999                      camry\n",
      "305894      chevrolet     1111111                  silverado\n"
     ]
    }
   ],
   "source": [
    "#Price\n",
    "#Clearly at least 1 huge outlier.\n",
    "print(np.mean(cars.price))\n",
    "print(np.max(cars.price))\n",
    "print(np.min(cars.price))\n",
    "#We clearly need to remove some of these but where do we set the threshold?\n",
    "#Is the 'price' the listed price or the price that the cars were actually sold for? Probably the former.\n",
    "print(cars[cars.price > 500000][['manufacturer','price','model']].head(30))"
   ]
  },
  {
   "cell_type": "code",
   "execution_count": 7,
   "metadata": {},
   "outputs": [],
   "source": [
    "def uniqueAndCounts(col):\n",
    "    print(np.unique(cars[col].astype(str)))\n",
    "    print(cars[col].astype(str).value_counts())"
   ]
  },
  {
   "cell_type": "code",
   "execution_count": 6,
   "metadata": {},
   "outputs": [],
   "source": [
    "def priceBar(feature):\n",
    "    bar = cars[['price',feature]].groupby([feature])['price'].median()\n",
    "    plt.bar(bar.index, bar)\n",
    "    plt.xticks(rotation=90)\n",
    "    plt.ylabel('Median Car Price')\n",
    "    plt.show()"
   ]
  },
  {
   "cell_type": "code",
   "execution_count": 61,
   "metadata": {
    "scrolled": true
   },
   "outputs": [
    {
     "name": "stdout",
     "output_type": "stream",
     "text": [
      "['acura' 'alfa-romeo' 'aston-martin' 'audi' 'bmw' 'buick' 'cadillac'\n",
      " 'chevrolet' 'chrysler' 'datsun' 'dodge' 'ferrari' 'fiat' 'ford' 'gmc'\n",
      " 'harley-davidson' 'hennessey' 'honda' 'hyundai' 'infiniti' 'jaguar'\n",
      " 'jeep' 'kia' 'land rover' 'lexus' 'lincoln' 'mazda' 'mercedes-benz'\n",
      " 'mercury' 'mini' 'mitsubishi' 'morgan' 'nan' 'nissan' 'pontiac' 'porsche'\n",
      " 'ram' 'rover' 'saturn' 'subaru' 'tesla' 'toyota' 'volkswagen' 'volvo']\n",
      "ford               79666\n",
      "chevrolet          64977\n",
      "toyota             38577\n",
      "honda              25868\n",
      "nissan             23654\n",
      "jeep               21165\n",
      "nan                18220\n",
      "ram                17697\n",
      "gmc                17267\n",
      "dodge              16730\n",
      "bmw                12352\n",
      "hyundai            10975\n",
      "mercedes-benz      10628\n",
      "subaru             10510\n",
      "volkswagen         10489\n",
      "kia                 8854\n",
      "chrysler            7499\n",
      "lexus               7119\n",
      "cadillac            6743\n",
      "buick               6009\n",
      "mazda               5931\n",
      "audi                5583\n",
      "acura               4008\n",
      "infiniti            3714\n",
      "lincoln             3338\n",
      "pontiac             3037\n",
      "volvo               2866\n",
      "mini                2330\n",
      "mitsubishi          2301\n",
      "porsche             1779\n",
      "rover               1662\n",
      "mercury             1645\n",
      "saturn              1393\n",
      "tesla               1067\n",
      "jaguar              1060\n",
      "fiat                 955\n",
      "alfa-romeo           187\n",
      "harley-davidson      139\n",
      "ferrari               96\n",
      "datsun                63\n",
      "aston-martin          35\n",
      "land rover            21\n",
      "morgan                 3\n",
      "hennessey              1\n",
      "Name: manufacturer, dtype: int64\n"
     ]
    }
   ],
   "source": [
    "#Manufacturer\n",
    "#Doesnt appear to be any spelling issues.\n",
    "#Can we bin these somehow? Perhaps into American/asian/european cars to reduce the number of categories\n",
    "#Can we infer some of the missing values by comparing the model with known examples? Otherwise remove NAs\n",
    "uniqueAndCounts(col='manufacturer')"
   ]
  },
  {
   "cell_type": "code",
   "execution_count": 62,
   "metadata": {},
   "outputs": [
    {
     "data": {
      "image/png": "[encoded data removed]",
      "text/plain": [
       "<Figure size 432x288 with 1 Axes>"
      ]
     },
     "metadata": {
      "needs_background": "light"
     },
     "output_type": "display_data"
    }
   ],
   "source": [
    "#ferrari, morgan, tesla, porsche stick out\n",
    "priceBar(feature='manufacturer')"
   ]
  },
  {
   "cell_type": "code",
   "execution_count": 28,
   "metadata": {},
   "outputs": [
    {
     "name": "stdout",
     "output_type": "stream",
     "text": [
      "Number of unique car models: 31521\n",
      "0         corvette grand sport\n",
      "1                       sonata\n",
      "2                      x3 3.0i\n",
      "3                         c-10\n",
      "4                  f350 lariat\n",
      "                  ...         \n",
      "458208                     srx\n",
      "458209                  tucson\n",
      "458210           cts coupe awd\n",
      "458211          grand cherokee\n",
      "458212      International 4300\n",
      "Name: model, Length: 458213, dtype: object\n"
     ]
    }
   ],
   "source": [
    "#I'm not sure if this column will ultimately be helpful\n",
    "print(\"Number of unique car models:\", len(np.unique(cars.model.astype(str))))\n",
    "print(cars.model)"
   ]
  },
  {
   "cell_type": "code",
   "execution_count": 29,
   "metadata": {},
   "outputs": [
    {
     "name": "stdout",
     "output_type": "stream",
     "text": [
      "['excellent' 'fair' 'good' 'like new' 'nan' 'new' 'salvage']\n",
      "nan          192940\n",
      "good         115685\n",
      "excellent    115206\n",
      "like new      24553\n",
      "fair           7740\n",
      "new            1428\n",
      "salvage         661\n",
      "Name: condition, dtype: int64\n"
     ]
    }
   ],
   "source": [
    "#Condition\n",
    "#One hot encode this\n",
    "#Perhaps bin a couple of these if similar.\n",
    "uniqueAndCounts(col='condition')"
   ]
  },
  {
   "cell_type": "code",
   "execution_count": 53,
   "metadata": {},
   "outputs": [
    {
     "data": {
      "image/png": "[encoded data removed]",
      "text/plain": [
       "<Figure size 432x288 with 1 Axes>"
      ]
     },
     "metadata": {
      "needs_background": "light"
     },
     "output_type": "display_data"
    }
   ],
   "source": [
    "#Could group like new and good, and maybe excellent into one category\n",
    "priceBar(feature='condition')"
   ]
  },
  {
   "cell_type": "code",
   "execution_count": 65,
   "metadata": {},
   "outputs": [
    {
     "name": "stdout",
     "output_type": "stream",
     "text": [
      "['10 cylinders' '12 cylinders' '3 cylinders' '4 cylinders' '5 cylinders'\n",
      " '6 cylinders' '8 cylinders' 'nan' 'other']\n",
      "nan             171140\n",
      "6 cylinders     105677\n",
      "4 cylinders      94767\n",
      "8 cylinders      81179\n",
      "5 cylinders       2058\n",
      "10 cylinders      1543\n",
      "other             1112\n",
      "3 cylinders        550\n",
      "12 cylinders       187\n",
      "Name: cylinders, dtype: int64\n"
     ]
    }
   ],
   "source": [
    "#Cylinders\n",
    "#Categorical or numerical?\n",
    "#Might need to be categorical so we dont need to remove all the NAs\n",
    "uniqueAndCounts(col='cylinders')"
   ]
  },
  {
   "cell_type": "code",
   "execution_count": 30,
   "metadata": {},
   "outputs": [
    {
     "name": "stdout",
     "output_type": "stream",
     "text": [
      "['diesel' 'electric' 'gas' 'hybrid' 'nan' 'other']\n",
      "gas         399399\n",
      "diesel       31077\n",
      "other        16359\n",
      "hybrid        5790\n",
      "nan           3237\n",
      "electric      2351\n",
      "Name: fuel, dtype: int64\n"
     ]
    }
   ],
   "source": [
    "#Fuel\n",
    "#One hot encode this\n",
    "#Can we infer some of the missing values by comparing the model/manufacturer with known examples? Otherwise remove NAs\n",
    "uniqueAndCounts(col='fuel')"
   ]
  },
  {
   "cell_type": "code",
   "execution_count": 54,
   "metadata": {},
   "outputs": [
    {
     "data": {
      "image/png": "[encoded data removed]",
      "text/plain": [
       "<Figure size 432x288 with 1 Axes>"
      ]
     },
     "metadata": {
      "needs_background": "light"
     },
     "output_type": "display_data"
    }
   ],
   "source": [
    "priceBar(feature='fuel')"
   ]
  },
  {
   "cell_type": "code",
   "execution_count": 67,
   "metadata": {},
   "outputs": [
    {
     "name": "stdout",
     "output_type": "stream",
     "text": [
      "['clean' 'lien' 'missing' 'nan' 'parts only' 'rebuilt' 'salvage']\n",
      "clean         439626\n",
      "rebuilt         8698\n",
      "salvage         4233\n",
      "nan             2577\n",
      "lien            2091\n",
      "missing          794\n",
      "parts only       194\n",
      "Name: title_status, dtype: int64\n"
     ]
    }
   ],
   "source": [
    "#Title_status\n",
    "#One hot encode\n",
    "#What is lien? Perhaps bin depending on correlations between title_status and price\n",
    "uniqueAndCounts(col='title_status')"
   ]
  },
  {
   "cell_type": "code",
   "execution_count": 55,
   "metadata": {},
   "outputs": [
    {
     "data": {
      "image/png": "[encoded data removed]",
      "text/plain": [
       "<Figure size 432x288 with 1 Axes>"
      ]
     },
     "metadata": {
      "needs_background": "light"
     },
     "output_type": "display_data"
    }
   ],
   "source": [
    "priceBar(feature='title_status')"
   ]
  },
  {
   "cell_type": "code",
   "execution_count": 68,
   "metadata": {},
   "outputs": [
    {
     "name": "stdout",
     "output_type": "stream",
     "text": [
      "['automatic' 'manual' 'nan' 'other']\n",
      "automatic    396322\n",
      "other         32186\n",
      "manual        27263\n",
      "nan            2442\n",
      "Name: transmission, dtype: int64\n"
     ]
    }
   ],
   "source": [
    "#Transmission\n",
    "#One hot encode\n",
    "#What is 'other'?\n",
    "#Can we infer some of the missing values by comparing the model/manufacturer with known examples? Otherwise remove NA\n",
    "uniqueAndCounts(col='transmission')"
   ]
  },
  {
   "cell_type": "code",
   "execution_count": 56,
   "metadata": {},
   "outputs": [
    {
     "data": {
      "image/png": "[encoded data removed]",
      "text/plain": [
       "<Figure size 432x288 with 1 Axes>"
      ]
     },
     "metadata": {
      "needs_background": "light"
     },
     "output_type": "display_data"
    }
   ],
   "source": [
    "priceBar(feature='transmission')"
   ]
  },
  {
   "cell_type": "code",
   "execution_count": 69,
   "metadata": {},
   "outputs": [
    {
     "name": "stdout",
     "output_type": "stream",
     "text": [
      "['4wd' 'fwd' 'nan' 'rwd']\n",
      "4wd    139693\n",
      "nan    134188\n",
      "fwd    122602\n",
      "rwd     61730\n",
      "Name: drive, dtype: int64\n"
     ]
    }
   ],
   "source": [
    "#Drive\n",
    "#One hot encode\n",
    "#Can we infer some of the missing values by comparing the model/manufacturer with known examples?\n",
    "uniqueAndCounts(col='drive')"
   ]
  },
  {
   "cell_type": "code",
   "execution_count": 57,
   "metadata": {},
   "outputs": [
    {
     "data": {
      "image/png": "[encoded data removed]",
      "text/plain": [
       "<Figure size 432x288 with 1 Axes>"
      ]
     },
     "metadata": {
      "needs_background": "light"
     },
     "output_type": "display_data"
    }
   ],
   "source": [
    "priceBar(feature='drive')"
   ]
  },
  {
   "cell_type": "code",
   "execution_count": 70,
   "metadata": {},
   "outputs": [
    {
     "name": "stdout",
     "output_type": "stream",
     "text": [
      "['compact' 'full-size' 'mid-size' 'nan' 'sub-compact']\n",
      "nan            321348\n",
      "full-size       69736\n",
      "mid-size        41782\n",
      "compact         21825\n",
      "sub-compact      3522\n",
      "Name: size, dtype: int64\n"
     ]
    }
   ],
   "source": [
    "#Size\n",
    "#One hot encode\n",
    "#Can we infer some of the missing values by comparing the model/manufacturer with known examples?\n",
    "uniqueAndCounts(col='size')"
   ]
  },
  {
   "cell_type": "code",
   "execution_count": 58,
   "metadata": {},
   "outputs": [
    {
     "data": {
      "image/png": "[encoded data removed]",
      "text/plain": [
       "<Figure size 432x288 with 1 Axes>"
      ]
     },
     "metadata": {
      "needs_background": "light"
     },
     "output_type": "display_data"
    }
   ],
   "source": [
    "priceBar(feature='size')"
   ]
  },
  {
   "cell_type": "code",
   "execution_count": 71,
   "metadata": {},
   "outputs": [
    {
     "name": "stdout",
     "output_type": "stream",
     "text": [
      "['SUV' 'bus' 'convertible' 'coupe' 'hatchback' 'mini-van' 'nan' 'offroad'\n",
      " 'other' 'pickup' 'sedan' 'truck' 'van' 'wagon']\n",
      "nan            112738\n",
      "sedan           92364\n",
      "SUV             79882\n",
      "pickup          43343\n",
      "truck           35694\n",
      "other           24160\n",
      "coupe           19106\n",
      "hatchback       16388\n",
      "wagon           10473\n",
      "van              9574\n",
      "convertible      6864\n",
      "mini-van         6263\n",
      "bus               717\n",
      "offroad           647\n",
      "Name: type, dtype: int64\n"
     ]
    }
   ],
   "source": [
    "#Type\n",
    "#Bin these together depending on what we find from visualisations\n",
    "#Can we infer some of the missing values by comparing the model/manufacturer with known examples?\n",
    "uniqueAndCounts(col='type')"
   ]
  },
  {
   "cell_type": "code",
   "execution_count": 59,
   "metadata": {},
   "outputs": [
    {
     "data": {
      "image/png": "[encoded data removed]",
      "text/plain": [
       "<Figure size 432x288 with 1 Axes>"
      ]
     },
     "metadata": {
      "needs_background": "light"
     },
     "output_type": "display_data"
    }
   ],
   "source": [
    "priceBar(feature='type')"
   ]
  },
  {
   "cell_type": "code",
   "execution_count": 72,
   "metadata": {},
   "outputs": [
    {
     "name": "stdout",
     "output_type": "stream",
     "text": [
      "['black' 'blue' 'brown' 'custom' 'green' 'grey' 'nan' 'orange' 'purple'\n",
      " 'red' 'silver' 'white' 'yellow']\n",
      "nan       140843\n",
      "white      82786\n",
      "black      64145\n",
      "silver     46722\n",
      "red        33274\n",
      "blue       32746\n",
      "grey       30455\n",
      "custom      8843\n",
      "green       7631\n",
      "brown       6028\n",
      "yellow      2002\n",
      "orange      1970\n",
      "purple       768\n",
      "Name: paint_color, dtype: int64\n"
     ]
    }
   ],
   "source": [
    "#Colour\n",
    "#What we do with this should be guided by viz. \n",
    "#If any colour seems predictive keep, otherwise remove\n",
    "uniqueAndCounts(col='paint_color')"
   ]
  },
  {
   "cell_type": "code",
   "execution_count": 8,
   "metadata": {},
   "outputs": [
    {
     "data": {
      "image/png": "[encoded data removed]",
      "text/plain": [
       "<Figure size 432x288 with 1 Axes>"
      ]
     },
     "metadata": {
      "needs_background": "light"
     },
     "output_type": "display_data"
    }
   ],
   "source": [
    "#Maybe black, white and orange are significant predictors?\n",
    "priceBar(feature='paint_color')"
   ]
  },
  {
   "cell_type": "code",
   "execution_count": 23,
   "metadata": {},
   "outputs": [
    {
     "data": {
      "image/png": "[encoded data removed]",
      "text/plain": [
       "<Figure size 432x288 with 1 Axes>"
      ]
     },
     "metadata": {
      "needs_background": "light"
     },
     "output_type": "display_data"
    }
   ],
   "source": [
    "bar = cars[['price','paint_color']].groupby(['paint_color'])['price'].median()\n",
    "barlist = plt.bar(bar.index, bar, color='grey')\n",
    "barlist[0].set_color('blue')\n",
    "barlist[-3].set_color('blue')\n",
    "barlist[-2].set_color('blue')\n",
    "plt.xticks(rotation=90)\n",
    "plt.ylabel('Median Car Price')\n",
    "plt.tight_layout()\n",
    "plt.savefig('images/color.png', dpi=500)\n",
    "plt.show()"
   ]
  },
  {
   "cell_type": "code",
   "execution_count": 73,
   "metadata": {},
   "outputs": [
    {
     "data": {
      "text/plain": [
       "0         2020-12-02T08:11:30-0600\n",
       "1         2020-12-02T02:11:50-0600\n",
       "2         2020-12-01T19:50:41-0600\n",
       "3         2020-12-01T15:54:45-0600\n",
       "4         2020-12-01T12:53:56-0600\n",
       "                    ...           \n",
       "458208    2020-12-03T08:56:29-0600\n",
       "458209    2020-12-03T08:48:08-0600\n",
       "458210    2020-12-02T14:09:45-0700\n",
       "458211    2020-12-02T13:01:04-0700\n",
       "458212    2020-12-02T12:03:45-0700\n",
       "Name: posting_date, Length: 458213, dtype: object"
      ]
     },
     "execution_count": 73,
     "metadata": {},
     "output_type": "execute_result"
    }
   ],
   "source": [
    "cars.posting_date"
   ]
  },
  {
   "cell_type": "code",
   "execution_count": 63,
   "metadata": {},
   "outputs": [
    {
     "data": {
      "text/plain": [
       "0         32.590000\n",
       "1         32.547500\n",
       "2         32.616807\n",
       "3         32.861600\n",
       "4         32.547500\n",
       "            ...    \n",
       "458208    44.408867\n",
       "458209    44.408867\n",
       "458210    44.784900\n",
       "458211    44.773500\n",
       "458212    42.117656\n",
       "Name: lat, Length: 458213, dtype: float64"
      ]
     },
     "execution_count": 63,
     "metadata": {},
     "output_type": "execute_result"
    }
   ],
   "source": [
    "#We could use a geocoder on lat and long to get further info about the location of sale (city or town)\n",
    "#Check outliers, all coordinates should be within the USA\n",
    "cars.lat"
   ]
  },
  {
   "cell_type": "code",
   "execution_count": 64,
   "metadata": {},
   "outputs": [
    {
     "data": {
      "text/plain": [
       "0         -85.480000\n",
       "1         -85.468200\n",
       "2         -85.464149\n",
       "3         -85.216100\n",
       "4         -85.468200\n",
       "             ...    \n",
       "458208    -89.881210\n",
       "458209    -89.882240\n",
       "458210   -106.964800\n",
       "458211   -106.939600\n",
       "458212    -88.436954\n",
       "Name: long, Length: 458213, dtype: float64"
      ]
     },
     "execution_count": 64,
     "metadata": {},
     "output_type": "execute_result"
    }
   ],
   "source": [
    "cars.long"
   ]
  },
  {
   "cell_type": "markdown",
   "metadata": {},
   "source": [
    "## Data Cleaning"
   ]
  },
  {
   "cell_type": "code",
   "execution_count": 49,
   "metadata": {},
   "outputs": [
    {
     "data": {
      "text/html": [
       "<div>\n",
       "<style scoped>\n",
       "    .dataframe tbody tr th:only-of-type {\n",
       "        vertical-align: middle;\n",
       "    }\n",
       "\n",
       "    .dataframe tbody tr th {\n",
       "        vertical-align: top;\n",
       "    }\n",
       "\n",
       "    .dataframe thead th {\n",
       "        text-align: right;\n",
       "    }\n",
       "</style>\n",
       "<table border=\"1\" class=\"dataframe\">\n",
       "  <thead>\n",
       "    <tr style=\"text-align: right;\">\n",
       "      <th></th>\n",
       "      <th>region</th>\n",
       "      <th>price</th>\n",
       "      <th>year</th>\n",
       "      <th>manufacturer</th>\n",
       "      <th>condition</th>\n",
       "      <th>cylinders</th>\n",
       "      <th>fuel</th>\n",
       "      <th>odometer</th>\n",
       "      <th>title_status</th>\n",
       "      <th>transmission</th>\n",
       "      <th>drive</th>\n",
       "      <th>type</th>\n",
       "      <th>paint_color</th>\n",
       "      <th>description</th>\n",
       "      <th>state</th>\n",
       "      <th>lat</th>\n",
       "      <th>long</th>\n",
       "      <th>posting_date</th>\n",
       "    </tr>\n",
       "  </thead>\n",
       "  <tbody>\n",
       "    <tr>\n",
       "      <td>0</td>\n",
       "      <td>auburn</td>\n",
       "      <td>35990</td>\n",
       "      <td>2010.0</td>\n",
       "      <td>chevrolet</td>\n",
       "      <td>good</td>\n",
       "      <td>8 cylinders</td>\n",
       "      <td>gas</td>\n",
       "      <td>32742.0</td>\n",
       "      <td>clean</td>\n",
       "      <td>other</td>\n",
       "      <td>rwd</td>\n",
       "      <td>other</td>\n",
       "      <td>NaN</td>\n",
       "      <td>Carvana is the safer way to buy a car During t...</td>\n",
       "      <td>al</td>\n",
       "      <td>32.590000</td>\n",
       "      <td>-85.480000</td>\n",
       "      <td>2020-12-02T08:11:30-0600</td>\n",
       "    </tr>\n",
       "    <tr>\n",
       "      <td>1</td>\n",
       "      <td>auburn</td>\n",
       "      <td>7500</td>\n",
       "      <td>2014.0</td>\n",
       "      <td>hyundai</td>\n",
       "      <td>excellent</td>\n",
       "      <td>4 cylinders</td>\n",
       "      <td>gas</td>\n",
       "      <td>93600.0</td>\n",
       "      <td>clean</td>\n",
       "      <td>automatic</td>\n",
       "      <td>fwd</td>\n",
       "      <td>sedan</td>\n",
       "      <td>NaN</td>\n",
       "      <td>I'll move to another city and try to sell my c...</td>\n",
       "      <td>al</td>\n",
       "      <td>32.547500</td>\n",
       "      <td>-85.468200</td>\n",
       "      <td>2020-12-02T02:11:50-0600</td>\n",
       "    </tr>\n",
       "    <tr>\n",
       "      <td>2</td>\n",
       "      <td>auburn</td>\n",
       "      <td>4900</td>\n",
       "      <td>2006.0</td>\n",
       "      <td>bmw</td>\n",
       "      <td>good</td>\n",
       "      <td>6 cylinders</td>\n",
       "      <td>gas</td>\n",
       "      <td>87046.0</td>\n",
       "      <td>clean</td>\n",
       "      <td>automatic</td>\n",
       "      <td>NaN</td>\n",
       "      <td>SUV</td>\n",
       "      <td>blue</td>\n",
       "      <td>Clean 2006 BMW X3 3.0I.  Beautiful and rare Bl...</td>\n",
       "      <td>al</td>\n",
       "      <td>32.616807</td>\n",
       "      <td>-85.464149</td>\n",
       "      <td>2020-12-01T19:50:41-0600</td>\n",
       "    </tr>\n",
       "    <tr>\n",
       "      <td>3</td>\n",
       "      <td>auburn</td>\n",
       "      <td>2000</td>\n",
       "      <td>1974.0</td>\n",
       "      <td>chevrolet</td>\n",
       "      <td>good</td>\n",
       "      <td>4 cylinders</td>\n",
       "      <td>gas</td>\n",
       "      <td>190000.0</td>\n",
       "      <td>clean</td>\n",
       "      <td>automatic</td>\n",
       "      <td>rwd</td>\n",
       "      <td>pickup</td>\n",
       "      <td>blue</td>\n",
       "      <td>1974 chev. truck (LONG BED) NEW starter front ...</td>\n",
       "      <td>al</td>\n",
       "      <td>32.861600</td>\n",
       "      <td>-85.216100</td>\n",
       "      <td>2020-12-01T15:54:45-0600</td>\n",
       "    </tr>\n",
       "    <tr>\n",
       "      <td>4</td>\n",
       "      <td>auburn</td>\n",
       "      <td>19500</td>\n",
       "      <td>2005.0</td>\n",
       "      <td>ford</td>\n",
       "      <td>excellent</td>\n",
       "      <td>8 cylinders</td>\n",
       "      <td>diesel</td>\n",
       "      <td>116000.0</td>\n",
       "      <td>lien</td>\n",
       "      <td>automatic</td>\n",
       "      <td>4wd</td>\n",
       "      <td>pickup</td>\n",
       "      <td>blue</td>\n",
       "      <td>2005 Ford F350 Lariat (Bullet Proofed). This t...</td>\n",
       "      <td>al</td>\n",
       "      <td>32.547500</td>\n",
       "      <td>-85.468200</td>\n",
       "      <td>2020-12-01T12:53:56-0600</td>\n",
       "    </tr>\n",
       "    <tr>\n",
       "      <td>...</td>\n",
       "      <td>...</td>\n",
       "      <td>...</td>\n",
       "      <td>...</td>\n",
       "      <td>...</td>\n",
       "      <td>...</td>\n",
       "      <td>...</td>\n",
       "      <td>...</td>\n",
       "      <td>...</td>\n",
       "      <td>...</td>\n",
       "      <td>...</td>\n",
       "      <td>...</td>\n",
       "      <td>...</td>\n",
       "      <td>...</td>\n",
       "      <td>...</td>\n",
       "      <td>...</td>\n",
       "      <td>...</td>\n",
       "      <td>...</td>\n",
       "      <td>...</td>\n",
       "    </tr>\n",
       "    <tr>\n",
       "      <td>458208</td>\n",
       "      <td>wausau</td>\n",
       "      <td>14995</td>\n",
       "      <td>2014.0</td>\n",
       "      <td>cadillac</td>\n",
       "      <td>excellent</td>\n",
       "      <td>6 cylinders</td>\n",
       "      <td>gas</td>\n",
       "      <td>83790.0</td>\n",
       "      <td>clean</td>\n",
       "      <td>automatic</td>\n",
       "      <td>4wd</td>\n",
       "      <td>SUV</td>\n",
       "      <td>silver</td>\n",
       "      <td>2014 Cadillac SRX All Wheel Drive Luxury Colle...</td>\n",
       "      <td>wi</td>\n",
       "      <td>44.408867</td>\n",
       "      <td>-89.881210</td>\n",
       "      <td>2020-12-03T08:56:29-0600</td>\n",
       "    </tr>\n",
       "    <tr>\n",
       "      <td>458209</td>\n",
       "      <td>wausau</td>\n",
       "      <td>17895</td>\n",
       "      <td>2018.0</td>\n",
       "      <td>hyundai</td>\n",
       "      <td>excellent</td>\n",
       "      <td>4 cylinders</td>\n",
       "      <td>gas</td>\n",
       "      <td>31888.0</td>\n",
       "      <td>clean</td>\n",
       "      <td>automatic</td>\n",
       "      <td>4wd</td>\n",
       "      <td>SUV</td>\n",
       "      <td>white</td>\n",
       "      <td>2018 Hyundai Tucson SE 2.0 I4 AWD.  Carfax ver...</td>\n",
       "      <td>wi</td>\n",
       "      <td>44.408867</td>\n",
       "      <td>-89.882240</td>\n",
       "      <td>2020-12-03T08:48:08-0600</td>\n",
       "    </tr>\n",
       "    <tr>\n",
       "      <td>458210</td>\n",
       "      <td>wyoming</td>\n",
       "      <td>17900</td>\n",
       "      <td>2014.0</td>\n",
       "      <td>cadillac</td>\n",
       "      <td>excellent</td>\n",
       "      <td>6 cylinders</td>\n",
       "      <td>gas</td>\n",
       "      <td>53000.0</td>\n",
       "      <td>clean</td>\n",
       "      <td>automatic</td>\n",
       "      <td>4wd</td>\n",
       "      <td>coupe</td>\n",
       "      <td>black</td>\n",
       "      <td>53,000 miles. Cosmetically, in near mint condi...</td>\n",
       "      <td>wy</td>\n",
       "      <td>44.784900</td>\n",
       "      <td>-106.964800</td>\n",
       "      <td>2020-12-02T14:09:45-0700</td>\n",
       "    </tr>\n",
       "    <tr>\n",
       "      <td>458211</td>\n",
       "      <td>wyoming</td>\n",
       "      <td>1300</td>\n",
       "      <td>2008.0</td>\n",
       "      <td>jeep</td>\n",
       "      <td>good</td>\n",
       "      <td>8 cylinders</td>\n",
       "      <td>gas</td>\n",
       "      <td>164000.0</td>\n",
       "      <td>clean</td>\n",
       "      <td>automatic</td>\n",
       "      <td>4wd</td>\n",
       "      <td>SUV</td>\n",
       "      <td>white</td>\n",
       "      <td>PRICE REDUCTION  Turns out the engine is toast...</td>\n",
       "      <td>wy</td>\n",
       "      <td>44.773500</td>\n",
       "      <td>-106.939600</td>\n",
       "      <td>2020-12-02T13:01:04-0700</td>\n",
       "    </tr>\n",
       "    <tr>\n",
       "      <td>458212</td>\n",
       "      <td>wyoming</td>\n",
       "      <td>22900</td>\n",
       "      <td>2008.0</td>\n",
       "      <td>NaN</td>\n",
       "      <td>NaN</td>\n",
       "      <td>NaN</td>\n",
       "      <td>diesel</td>\n",
       "      <td>164000.0</td>\n",
       "      <td>clean</td>\n",
       "      <td>automatic</td>\n",
       "      <td>NaN</td>\n",
       "      <td>NaN</td>\n",
       "      <td>NaN</td>\n",
       "      <td>*** SHIPPING AVAILABLE DIRECTLY TO YOU. CALL F...</td>\n",
       "      <td>wy</td>\n",
       "      <td>42.117656</td>\n",
       "      <td>-88.436954</td>\n",
       "      <td>2020-12-02T12:03:45-0700</td>\n",
       "    </tr>\n",
       "  </tbody>\n",
       "</table>\n",
       "<p>458213 rows × 18 columns</p>\n",
       "</div>"
      ],
      "text/plain": [
       "         region  price    year manufacturer  condition    cylinders    fuel  \\\n",
       "0        auburn  35990  2010.0    chevrolet       good  8 cylinders     gas   \n",
       "1        auburn   7500  2014.0      hyundai  excellent  4 cylinders     gas   \n",
       "2        auburn   4900  2006.0          bmw       good  6 cylinders     gas   \n",
       "3        auburn   2000  1974.0    chevrolet       good  4 cylinders     gas   \n",
       "4        auburn  19500  2005.0         ford  excellent  8 cylinders  diesel   \n",
       "...         ...    ...     ...          ...        ...          ...     ...   \n",
       "458208   wausau  14995  2014.0     cadillac  excellent  6 cylinders     gas   \n",
       "458209   wausau  17895  2018.0      hyundai  excellent  4 cylinders     gas   \n",
       "458210  wyoming  17900  2014.0     cadillac  excellent  6 cylinders     gas   \n",
       "458211  wyoming   1300  2008.0         jeep       good  8 cylinders     gas   \n",
       "458212  wyoming  22900  2008.0          NaN        NaN          NaN  diesel   \n",
       "\n",
       "        odometer title_status transmission drive    type paint_color  \\\n",
       "0        32742.0        clean        other   rwd   other         NaN   \n",
       "1        93600.0        clean    automatic   fwd   sedan         NaN   \n",
       "2        87046.0        clean    automatic   NaN     SUV        blue   \n",
       "3       190000.0        clean    automatic   rwd  pickup        blue   \n",
       "4       116000.0         lien    automatic   4wd  pickup        blue   \n",
       "...          ...          ...          ...   ...     ...         ...   \n",
       "458208   83790.0        clean    automatic   4wd     SUV      silver   \n",
       "458209   31888.0        clean    automatic   4wd     SUV       white   \n",
       "458210   53000.0        clean    automatic   4wd   coupe       black   \n",
       "458211  164000.0        clean    automatic   4wd     SUV       white   \n",
       "458212  164000.0        clean    automatic   NaN     NaN         NaN   \n",
       "\n",
       "                                              description state        lat  \\\n",
       "0       Carvana is the safer way to buy a car During t...    al  32.590000   \n",
       "1       I'll move to another city and try to sell my c...    al  32.547500   \n",
       "2       Clean 2006 BMW X3 3.0I.  Beautiful and rare Bl...    al  32.616807   \n",
       "3       1974 chev. truck (LONG BED) NEW starter front ...    al  32.861600   \n",
       "4       2005 Ford F350 Lariat (Bullet Proofed). This t...    al  32.547500   \n",
       "...                                                   ...   ...        ...   \n",
       "458208  2014 Cadillac SRX All Wheel Drive Luxury Colle...    wi  44.408867   \n",
       "458209  2018 Hyundai Tucson SE 2.0 I4 AWD.  Carfax ver...    wi  44.408867   \n",
       "458210  53,000 miles. Cosmetically, in near mint condi...    wy  44.784900   \n",
       "458211  PRICE REDUCTION  Turns out the engine is toast...    wy  44.773500   \n",
       "458212  *** SHIPPING AVAILABLE DIRECTLY TO YOU. CALL F...    wy  42.117656   \n",
       "\n",
       "              long              posting_date  \n",
       "0       -85.480000  2020-12-02T08:11:30-0600  \n",
       "1       -85.468200  2020-12-02T02:11:50-0600  \n",
       "2       -85.464149  2020-12-01T19:50:41-0600  \n",
       "3       -85.216100  2020-12-01T15:54:45-0600  \n",
       "4       -85.468200  2020-12-01T12:53:56-0600  \n",
       "...            ...                       ...  \n",
       "458208  -89.881210  2020-12-03T08:56:29-0600  \n",
       "458209  -89.882240  2020-12-03T08:48:08-0600  \n",
       "458210 -106.964800  2020-12-02T14:09:45-0700  \n",
       "458211 -106.939600  2020-12-02T13:01:04-0700  \n",
       "458212  -88.436954  2020-12-02T12:03:45-0700  \n",
       "\n",
       "[458213 rows x 18 columns]"
      ]
     },
     "execution_count": 49,
     "metadata": {},
     "output_type": "execute_result"
    }
   ],
   "source": [
    "#Remove VIN and image_url features\n",
    "cc.remove_columns(cars)"
   ]
  },
  {
   "cell_type": "code",
   "execution_count": 4,
   "metadata": {},
   "outputs": [],
   "source": [
    "#Convert posting_date to date type\n",
    "cars['posting_date'] = cars['posting_date'].str[:10].astype('datetime64[ns]')"
   ]
  },
  {
   "cell_type": "code",
   "execution_count": 5,
   "metadata": {},
   "outputs": [],
   "source": [
    "#Convert categorical features to string type\n",
    "columns_to_str = ['region','manufacturer','condition','cylinders',\n",
    "                 'fuel','title_status','transmission','drive','type','paint_color','description',\n",
    "                 'state']\n",
    "\n",
    "for col in columns_to_str:\n",
    "    cars[col] = cars[col].astype(str)"
   ]
  },
  {
   "cell_type": "code",
   "execution_count": 6,
   "metadata": {},
   "outputs": [
    {
     "data": {
      "text/html": [
       "<div>\n",
       "<style scoped>\n",
       "    .dataframe tbody tr th:only-of-type {\n",
       "        vertical-align: middle;\n",
       "    }\n",
       "\n",
       "    .dataframe tbody tr th {\n",
       "        vertical-align: top;\n",
       "    }\n",
       "\n",
       "    .dataframe thead th {\n",
       "        text-align: right;\n",
       "    }\n",
       "</style>\n",
       "<table border=\"1\" class=\"dataframe\">\n",
       "  <thead>\n",
       "    <tr style=\"text-align: right;\">\n",
       "      <th></th>\n",
       "      <th>region</th>\n",
       "      <th>price</th>\n",
       "      <th>year</th>\n",
       "      <th>manufacturer</th>\n",
       "      <th>condition</th>\n",
       "      <th>cylinders</th>\n",
       "      <th>fuel</th>\n",
       "      <th>odometer</th>\n",
       "      <th>title_status</th>\n",
       "      <th>transmission</th>\n",
       "      <th>drive</th>\n",
       "      <th>type</th>\n",
       "      <th>paint_color</th>\n",
       "      <th>description</th>\n",
       "      <th>state</th>\n",
       "      <th>lat</th>\n",
       "      <th>long</th>\n",
       "      <th>posting_date</th>\n",
       "    </tr>\n",
       "  </thead>\n",
       "  <tbody>\n",
       "    <tr>\n",
       "      <td>0</td>\n",
       "      <td>auburn</td>\n",
       "      <td>35990</td>\n",
       "      <td>2010.0</td>\n",
       "      <td>chevrolet</td>\n",
       "      <td>good</td>\n",
       "      <td>8 cylinders</td>\n",
       "      <td>gas</td>\n",
       "      <td>32742.0</td>\n",
       "      <td>clean</td>\n",
       "      <td>other</td>\n",
       "      <td>rwd</td>\n",
       "      <td>other</td>\n",
       "      <td>NaN</td>\n",
       "      <td>Carvana is the safer way to buy a car During t...</td>\n",
       "      <td>al</td>\n",
       "      <td>32.590000</td>\n",
       "      <td>-85.480000</td>\n",
       "      <td>2020-12-02T08:11:30-0600</td>\n",
       "    </tr>\n",
       "    <tr>\n",
       "      <td>1</td>\n",
       "      <td>auburn</td>\n",
       "      <td>7500</td>\n",
       "      <td>2014.0</td>\n",
       "      <td>hyundai</td>\n",
       "      <td>excellent</td>\n",
       "      <td>4 cylinders</td>\n",
       "      <td>gas</td>\n",
       "      <td>93600.0</td>\n",
       "      <td>clean</td>\n",
       "      <td>automatic</td>\n",
       "      <td>fwd</td>\n",
       "      <td>sedan</td>\n",
       "      <td>NaN</td>\n",
       "      <td>I'll move to another city and try to sell my c...</td>\n",
       "      <td>al</td>\n",
       "      <td>32.547500</td>\n",
       "      <td>-85.468200</td>\n",
       "      <td>2020-12-02T02:11:50-0600</td>\n",
       "    </tr>\n",
       "    <tr>\n",
       "      <td>2</td>\n",
       "      <td>auburn</td>\n",
       "      <td>4900</td>\n",
       "      <td>2006.0</td>\n",
       "      <td>bmw</td>\n",
       "      <td>good</td>\n",
       "      <td>6 cylinders</td>\n",
       "      <td>gas</td>\n",
       "      <td>87046.0</td>\n",
       "      <td>clean</td>\n",
       "      <td>automatic</td>\n",
       "      <td>NaN</td>\n",
       "      <td>SUV</td>\n",
       "      <td>blue</td>\n",
       "      <td>Clean 2006 BMW X3 3.0I.  Beautiful and rare Bl...</td>\n",
       "      <td>al</td>\n",
       "      <td>32.616807</td>\n",
       "      <td>-85.464149</td>\n",
       "      <td>2020-12-01T19:50:41-0600</td>\n",
       "    </tr>\n",
       "    <tr>\n",
       "      <td>3</td>\n",
       "      <td>auburn</td>\n",
       "      <td>2000</td>\n",
       "      <td>1974.0</td>\n",
       "      <td>chevrolet</td>\n",
       "      <td>good</td>\n",
       "      <td>4 cylinders</td>\n",
       "      <td>gas</td>\n",
       "      <td>190000.0</td>\n",
       "      <td>clean</td>\n",
       "      <td>automatic</td>\n",
       "      <td>rwd</td>\n",
       "      <td>pickup</td>\n",
       "      <td>blue</td>\n",
       "      <td>1974 chev. truck (LONG BED) NEW starter front ...</td>\n",
       "      <td>al</td>\n",
       "      <td>32.861600</td>\n",
       "      <td>-85.216100</td>\n",
       "      <td>2020-12-01T15:54:45-0600</td>\n",
       "    </tr>\n",
       "    <tr>\n",
       "      <td>4</td>\n",
       "      <td>auburn</td>\n",
       "      <td>19500</td>\n",
       "      <td>2005.0</td>\n",
       "      <td>ford</td>\n",
       "      <td>excellent</td>\n",
       "      <td>8 cylinders</td>\n",
       "      <td>diesel</td>\n",
       "      <td>116000.0</td>\n",
       "      <td>lien</td>\n",
       "      <td>automatic</td>\n",
       "      <td>4wd</td>\n",
       "      <td>pickup</td>\n",
       "      <td>blue</td>\n",
       "      <td>2005 Ford F350 Lariat (Bullet Proofed). This t...</td>\n",
       "      <td>al</td>\n",
       "      <td>32.547500</td>\n",
       "      <td>-85.468200</td>\n",
       "      <td>2020-12-01T12:53:56-0600</td>\n",
       "    </tr>\n",
       "  </tbody>\n",
       "</table>\n",
       "</div>"
      ],
      "text/plain": [
       "   region  price    year manufacturer  condition    cylinders    fuel  \\\n",
       "0  auburn  35990  2010.0    chevrolet       good  8 cylinders     gas   \n",
       "1  auburn   7500  2014.0      hyundai  excellent  4 cylinders     gas   \n",
       "2  auburn   4900  2006.0          bmw       good  6 cylinders     gas   \n",
       "3  auburn   2000  1974.0    chevrolet       good  4 cylinders     gas   \n",
       "4  auburn  19500  2005.0         ford  excellent  8 cylinders  diesel   \n",
       "\n",
       "   odometer title_status transmission drive    type paint_color  \\\n",
       "0   32742.0        clean        other   rwd   other         NaN   \n",
       "1   93600.0        clean    automatic   fwd   sedan         NaN   \n",
       "2   87046.0        clean    automatic   NaN     SUV        blue   \n",
       "3  190000.0        clean    automatic   rwd  pickup        blue   \n",
       "4  116000.0         lien    automatic   4wd  pickup        blue   \n",
       "\n",
       "                                         description state        lat  \\\n",
       "0  Carvana is the safer way to buy a car During t...    al  32.590000   \n",
       "1  I'll move to another city and try to sell my c...    al  32.547500   \n",
       "2  Clean 2006 BMW X3 3.0I.  Beautiful and rare Bl...    al  32.616807   \n",
       "3  1974 chev. truck (LONG BED) NEW starter front ...    al  32.861600   \n",
       "4  2005 Ford F350 Lariat (Bullet Proofed). This t...    al  32.547500   \n",
       "\n",
       "        long              posting_date  \n",
       "0 -85.480000  2020-12-02T08:11:30-0600  \n",
       "1 -85.468200  2020-12-02T02:11:50-0600  \n",
       "2 -85.464149  2020-12-01T19:50:41-0600  \n",
       "3 -85.216100  2020-12-01T15:54:45-0600  \n",
       "4 -85.468200  2020-12-01T12:53:56-0600  "
      ]
     },
     "execution_count": 6,
     "metadata": {},
     "output_type": "execute_result"
    }
   ],
   "source": [
    "cars.head()"
   ]
  },
  {
   "cell_type": "markdown",
   "metadata": {},
   "source": [
    "# Regional Analysis\n",
    "region, state, lat, long"
   ]
  },
  {
   "cell_type": "code",
   "execution_count": 10,
   "metadata": {},
   "outputs": [
    {
     "name": "stdout",
     "output_type": "stream",
     "text": [
      "['ak' 'al' 'ar' 'az' 'ca' 'co' 'ct' 'dc' 'de' 'fl' 'ga' 'hi' 'ia' 'id'\n",
      " 'il' 'in' 'ks' 'ky' 'la' 'ma' 'md' 'me' 'mi' 'mn' 'mo' 'ms' 'mt' 'nc'\n",
      " 'nd' 'ne' 'nh' 'nj' 'nm' 'nv' 'ny' 'oh' 'ok' 'or' 'pa' 'ri' 'sc' 'sd'\n",
      " 'tn' 'tx' 'ut' 'va' 'vt' 'wa' 'wi' 'wv' 'wy']\n",
      "ca    51856\n",
      "fl    29952\n",
      "tx    24856\n",
      "ny    20332\n",
      "mi    18905\n",
      "oh    18367\n",
      "or    17753\n",
      "nc    16770\n",
      "pa    13549\n",
      "wi    13367\n",
      "wa    13091\n",
      "co    12015\n",
      "tn    11744\n",
      "va    11614\n",
      "il    10556\n",
      "nj    10087\n",
      "ia     9688\n",
      "id     9336\n",
      "mn     8994\n",
      "az     8886\n",
      "ma     8672\n",
      "mt     7801\n",
      "sc     7559\n",
      "ga     7212\n",
      "in     7112\n",
      "ok     6684\n",
      "ks     6363\n",
      "ct     6012\n",
      "al     5715\n",
      "mo     5617\n",
      "ky     5035\n",
      "ar     4789\n",
      "md     4574\n",
      "nm     4382\n",
      "ak     3965\n",
      "la     3641\n",
      "nv     3137\n",
      "hi     2964\n",
      "nh     2958\n",
      "dc     2954\n",
      "vt     2951\n",
      "me     2939\n",
      "ri     2744\n",
      "ne     2070\n",
      "sd     2025\n",
      "ms     1604\n",
      "ut     1313\n",
      "wy     1106\n",
      "wv     1022\n",
      "de     1011\n",
      "nd      564\n",
      "Name: state, dtype: int64\n"
     ]
    }
   ],
   "source": [
    "uniqueAndCounts('state')"
   ]
  },
  {
   "cell_type": "code",
   "execution_count": 11,
   "metadata": {},
   "outputs": [
    {
     "name": "stdout",
     "output_type": "stream",
     "text": [
      "state\n",
      "wy    18969.0\n",
      "mt    17998.0\n",
      "ak    17250.0\n",
      "ut    16500.0\n",
      "wv    15247.5\n",
      "wa    14999.0\n",
      "nd    14990.0\n",
      "ne    14900.0\n",
      "hi    14275.0\n",
      "id    13888.0\n",
      "tn    13599.5\n",
      "al    13381.0\n",
      "in    12999.0\n",
      "tx    12995.0\n",
      "nv    12995.0\n",
      "nm    12950.0\n",
      "az    12893.5\n",
      "co    12800.0\n",
      "ca    12500.0\n",
      "ks    11990.0\n",
      "md    11988.0\n",
      "ky    11750.0\n",
      "sd    11500.0\n",
      "fl    10999.0\n",
      "vt    10995.0\n",
      "mo    10990.0\n",
      "la    10950.0\n",
      "mn    10500.0\n",
      "nh    10500.0\n",
      "ia    10000.0\n",
      "wi    10000.0\n",
      "ga    10000.0\n",
      "ri     9995.0\n",
      "nj     9995.0\n",
      "dc     9990.0\n",
      "sc     9980.0\n",
      "ms     9900.0\n",
      "ny     9900.0\n",
      "ok     9800.0\n",
      "pa     9395.0\n",
      "de     9295.0\n",
      "il     9295.0\n",
      "oh     9285.0\n",
      "mi     9000.0\n",
      "or     8999.0\n",
      "ma     8998.0\n",
      "me     8995.0\n",
      "ar     8995.0\n",
      "ct     8000.0\n",
      "nc     7999.0\n",
      "va     6990.0\n",
      "Name: price, dtype: float64\n"
     ]
    }
   ],
   "source": [
    "bar = cars[['price','state']].groupby(['state'])['price'].median()\n",
    "bar.sort_values(ascending=False, inplace=True)\n",
    "print(bar)"
   ]
  },
  {
   "cell_type": "code",
   "execution_count": 41,
   "metadata": {},
   "outputs": [],
   "source": [
    "expensive_states = np.array(bar[bar >15000].index)\n",
    "cars['state_expensive'] = cars.state.isin(expensive_states).astype(int)"
   ]
  },
  {
   "cell_type": "code",
   "execution_count": 42,
   "metadata": {},
   "outputs": [],
   "source": [
    "mediumprice_state = np.array(bar[(bar > 10000) & (bar <= 15000)].index)\n",
    "cars['state_medium'] = cars.state.isin(mediumprice_state).astype(int)"
   ]
  },
  {
   "cell_type": "code",
   "execution_count": 43,
   "metadata": {},
   "outputs": [],
   "source": [
    "cheap_state = np.array(bar[bar <= 10000].index)\n",
    "cars['state_cheap'] = cars.state.isin(cheap_state).astype(int)"
   ]
  },
  {
   "cell_type": "code",
   "execution_count": 47,
   "metadata": {},
   "outputs": [],
   "source": [
    "def groupStateByPrice(df, lower=10000, higher=15000):\n",
    "    cars = df.copy()\n",
    "    #Find median price by state\n",
    "    bar = cars[['price','state']].groupby(['state'])['price'].median()\n",
    "    bar.sort_values(ascending=False, inplace=True)\n",
    "    \n",
    "    #Find expensive, mid price and cheap states according to thresholds\n",
    "    expensive_states = np.array(bar[bar >higher].index)\n",
    "    mediumprice_state = np.array(bar[(bar > lower) & (bar <= higher)].index)\n",
    "    cheap_state = np.array(bar[bar <= lower].index)\n",
    "    \n",
    "    #Add on hot encoded features to dataset\n",
    "    cars['state_expensive'] = cars.state.isin(expensive_states).astype(int)\n",
    "    cars['state_medium'] = cars.state.isin(mediumprice_state).astype(int)\n",
    "    cars['state_cheap'] = cars.state.isin(cheap_state).astype(int)\n",
    "    \n",
    "    return cars"
   ]
  },
  {
   "cell_type": "code",
   "execution_count": 51,
   "metadata": {},
   "outputs": [],
   "source": [
    "cars = groupStateByPrice(cars)"
   ]
  },
  {
   "cell_type": "code",
   "execution_count": 12,
   "metadata": {},
   "outputs": [
    {
     "data": {
      "image/png": "[encoded data removed]",
      "text/plain": [
       "<Figure size 432x288 with 1 Axes>"
      ]
     },
     "metadata": {
      "needs_background": "light"
     },
     "output_type": "display_data"
    }
   ],
   "source": [
    "plt.bar(bar.index, bar)\n",
    "plt.xticks(rotation=90)\n",
    "plt.ylabel('Median Car Price')\n",
    "plt.show()"
   ]
  },
  {
   "cell_type": "code",
   "execution_count": null,
   "metadata": {},
   "outputs": [],
   "source": [
    "# Perhaps we can bin these regions into \n",
    "#Cheap regions: < 10,000\n",
    "#Average regions: 10,000 - 15,000\n",
    "#Expensive regions: > 15,000"
   ]
  },
  {
   "cell_type": "code",
   "execution_count": 13,
   "metadata": {},
   "outputs": [
    {
     "name": "stdout",
     "output_type": "stream",
     "text": [
      "Number of unique regions: 405\n"
     ]
    }
   ],
   "source": [
    "print(\"Number of unique regions:\", len(np.unique(cars.region)))"
   ]
  },
  {
   "cell_type": "code",
   "execution_count": 14,
   "metadata": {},
   "outputs": [
    {
     "data": {
      "text/html": [
       "<div>\n",
       "<style scoped>\n",
       "    .dataframe tbody tr th:only-of-type {\n",
       "        vertical-align: middle;\n",
       "    }\n",
       "\n",
       "    .dataframe tbody tr th {\n",
       "        vertical-align: top;\n",
       "    }\n",
       "\n",
       "    .dataframe thead th {\n",
       "        text-align: right;\n",
       "    }\n",
       "</style>\n",
       "<table border=\"1\" class=\"dataframe\">\n",
       "  <thead>\n",
       "    <tr style=\"text-align: right;\">\n",
       "      <th></th>\n",
       "      <th>lat</th>\n",
       "      <th>long</th>\n",
       "    </tr>\n",
       "  </thead>\n",
       "  <tbody>\n",
       "    <tr>\n",
       "      <td>count</td>\n",
       "      <td>450765.000000</td>\n",
       "      <td>450765.000000</td>\n",
       "    </tr>\n",
       "    <tr>\n",
       "      <td>mean</td>\n",
       "      <td>38.531925</td>\n",
       "      <td>-94.375824</td>\n",
       "    </tr>\n",
       "    <tr>\n",
       "      <td>std</td>\n",
       "      <td>5.857378</td>\n",
       "      <td>18.076225</td>\n",
       "    </tr>\n",
       "    <tr>\n",
       "      <td>min</td>\n",
       "      <td>-82.607549</td>\n",
       "      <td>-164.091797</td>\n",
       "    </tr>\n",
       "    <tr>\n",
       "      <td>25%</td>\n",
       "      <td>34.600000</td>\n",
       "      <td>-110.890427</td>\n",
       "    </tr>\n",
       "    <tr>\n",
       "      <td>50%</td>\n",
       "      <td>39.244500</td>\n",
       "      <td>-88.314889</td>\n",
       "    </tr>\n",
       "    <tr>\n",
       "      <td>75%</td>\n",
       "      <td>42.484503</td>\n",
       "      <td>-81.015022</td>\n",
       "    </tr>\n",
       "    <tr>\n",
       "      <td>max</td>\n",
       "      <td>82.049255</td>\n",
       "      <td>150.898969</td>\n",
       "    </tr>\n",
       "  </tbody>\n",
       "</table>\n",
       "</div>"
      ],
      "text/plain": [
       "                 lat           long\n",
       "count  450765.000000  450765.000000\n",
       "mean       38.531925     -94.375824\n",
       "std         5.857378      18.076225\n",
       "min       -82.607549    -164.091797\n",
       "25%        34.600000    -110.890427\n",
       "50%        39.244500     -88.314889\n",
       "75%        42.484503     -81.015022\n",
       "max        82.049255     150.898969"
      ]
     },
     "execution_count": 14,
     "metadata": {},
     "output_type": "execute_result"
    }
   ],
   "source": [
    "cars[['lat','long']].describe()"
   ]
  },
  {
   "cell_type": "code",
   "execution_count": 19,
   "metadata": {},
   "outputs": [
    {
     "data": {
      "image/png": "[encoded data removed]",
      "text/plain": [
       "<Figure size 432x288 with 1 Axes>"
      ]
     },
     "metadata": {
      "needs_background": "light"
     },
     "output_type": "display_data"
    }
   ],
   "source": [
    "plt.scatter(cars.lat, cars.long)\n",
    "plt.xlabel('Latitude')\n",
    "plt.ylabel('Longitude')\n",
    "plt.show()"
   ]
  },
  {
   "cell_type": "code",
   "execution_count": 31,
   "metadata": {},
   "outputs": [
    {
     "data": {
      "image/png": "[encoded data removed]",
      "text/plain": [
       "<Figure size 432x288 with 1 Axes>"
      ]
     },
     "metadata": {
      "needs_background": "light"
     },
     "output_type": "display_data"
    }
   ],
   "source": [
    "plt.boxplot(cars.lat.dropna())\n",
    "plt.show()"
   ]
  },
  {
   "cell_type": "code",
   "execution_count": 61,
   "metadata": {},
   "outputs": [
    {
     "data": {
      "image/png": "[encoded data removed]",
      "text/plain": [
       "<Figure size 432x288 with 1 Axes>"
      ]
     },
     "metadata": {
      "needs_background": "light"
     },
     "output_type": "display_data"
    }
   ],
   "source": [
    "plt.boxplot(cars.long.dropna())\n",
    "plt.show()"
   ]
  },
  {
   "cell_type": "code",
   "execution_count": 6,
   "metadata": {},
   "outputs": [],
   "source": [
    "cars = cc.fillLatLongNA(cars)\n",
    "cars = cc.fillLatLongOutliers(cars)"
   ]
  },
  {
   "cell_type": "code",
   "execution_count": 58,
   "metadata": {},
   "outputs": [],
   "source": [
    "year_odo = cars[['year','odometer']].copy()"
   ]
  },
  {
   "cell_type": "code",
   "execution_count": 60,
   "metadata": {},
   "outputs": [],
   "source": [
    "year_odo.dropna(inplace=True)"
   ]
  },
  {
   "cell_type": "code",
   "execution_count": 64,
   "metadata": {},
   "outputs": [],
   "source": [
    "year_odo = year_odo.head(1000)"
   ]
  },
  {
   "cell_type": "code",
   "execution_count": 66,
   "metadata": {},
   "outputs": [
    {
     "data": {
      "image/png": "[encoded data removed]",
      "text/plain": [
       "<Figure size 432x288 with 1 Axes>"
      ]
     },
     "metadata": {
      "needs_background": "light"
     },
     "output_type": "display_data"
    }
   ],
   "source": [
    "plt.scatter(year_odo.year, year_odo.odometer)\n",
    "plt.show()"
   ]
  },
  {
   "cell_type": "code",
   "execution_count": 68,
   "metadata": {},
   "outputs": [],
   "source": [
    "clean_df = pd.read_csv('clean_cars_df.csv')"
   ]
  },
  {
   "cell_type": "code",
   "execution_count": 69,
   "metadata": {},
   "outputs": [
    {
     "data": {
      "text/plain": [
       "Index(['Unnamed: 0', 'price', 'year', 'condition', 'odometer', 'lat', 'long',\n",
       "       'color_black', 'color_other', 'color_silver',\n",
       "       ...\n",
       "       'manuf_country_USA', 'manuf_country_missing', 'tfidf_0', 'tfidf_2',\n",
       "       'tfidf_4', 'tfidf_5', 'tfidf_6', 'tfidf_7', 'tfidf_8', 'tfidf_9'],\n",
       "      dtype='object', length=104)"
      ]
     },
     "execution_count": 69,
     "metadata": {},
     "output_type": "execute_result"
    }
   ],
   "source": [
    "clean_df.columns"
   ]
  },
  {
   "cell_type": "code",
   "execution_count": 70,
   "metadata": {},
   "outputs": [],
   "source": [
    "#Car Type\n",
    "#type_df = cc.ohe_type(cars)\n",
    "type_df = clean_df[['price','usage_type_daily','usage_type_professional','usage_type_other','usage_type_missing']].copy()"
   ]
  },
  {
   "cell_type": "code",
   "execution_count": 71,
   "metadata": {},
   "outputs": [],
   "source": [
    "meanbytype = [np.mean(type_df[type_df.usage_type_daily == 1].price), \n",
    " np.mean(type_df[type_df.usage_type_professional == 1].price), \n",
    " np.mean(type_df[type_df.usage_type_other == 1].price),\n",
    " np.mean(type_df[type_df.usage_type_missing == 1].price)]\n",
    "\n",
    "cols = ['usage_type_daily','usage_type_professional','usage_type_other','usage_type_missing']"
   ]
  },
  {
   "cell_type": "code",
   "execution_count": 72,
   "metadata": {},
   "outputs": [
    {
     "data": {
      "text/plain": [
       "[12256.61045574741, 19393.565454719188, 20111.48461338419, 12109.964591504171]"
      ]
     },
     "execution_count": 72,
     "metadata": {},
     "output_type": "execute_result"
    }
   ],
   "source": [
    "meanbytype"
   ]
  },
  {
   "cell_type": "code",
   "execution_count": 73,
   "metadata": {},
   "outputs": [
    {
     "data": {
      "image/png": "[encoded data removed]",
      "text/plain": [
       "<Figure size 432x288 with 1 Axes>"
      ]
     },
     "metadata": {
      "needs_background": "light"
     },
     "output_type": "display_data"
    }
   ],
   "source": [
    "plt.bar(cols, meanbytype)\n",
    "plt.xlabel('Car Type')\n",
    "plt.ylabel('Mean Price')\n",
    "plt.xticks(cols, ['Daily', 'Professional','Other','Missing'])\n",
    "#plt.savefig('images/cartype.png',dpi=500)\n",
    "plt.show()"
   ]
  },
  {
   "cell_type": "code",
   "execution_count": null,
   "metadata": {},
   "outputs": [],
   "source": [
    "#Manufacturer"
   ]
  },
  {
   "cell_type": "code",
   "execution_count": 51,
   "metadata": {},
   "outputs": [
    {
     "data": {
      "text/plain": [
       "44"
      ]
     },
     "execution_count": 51,
     "metadata": {},
     "output_type": "execute_result"
    }
   ],
   "source": [
    "len(np.unique(cars['manufacturer'].astype(str)))"
   ]
  },
  {
   "cell_type": "code",
   "execution_count": 53,
   "metadata": {},
   "outputs": [],
   "source": [
    "#man_df = cc.ohe_manuf_country(cars)"
   ]
  },
  {
   "cell_type": "code",
   "execution_count": 78,
   "metadata": {},
   "outputs": [],
   "source": [
    "meanbyman = [np.mean(clean_df[clean_df.manuf_country_Germany == 1].price), \n",
    "             np.mean(clean_df[clean_df.manuf_country_Italy == 1].price), \n",
    "             np.mean(clean_df[clean_df.manuf_country_Japan == 1].price),\n",
    "             np.mean(clean_df[clean_df['manuf_country_S.Korea'] == 1].price),\n",
    "             np.mean(clean_df[clean_df.manuf_country_Sweden == 1].price),\n",
    "             np.mean(clean_df[clean_df.manuf_country_UK == 1].price),\n",
    "             np.mean(clean_df[clean_df.manuf_country_USA == 1].price),\n",
    "             np.mean(clean_df[clean_df.manuf_country_missing == 1].price)]\n",
    "\n",
    "cols = ['manuf_country_Germany',\n",
    "       'manuf_country_Italy', 'manuf_country_Japan', 'manuf_country_S.Korea',\n",
    "       'manuf_country_Sweden', 'manuf_country_UK', 'manuf_country_USA',\n",
    "       'manuf_country_missing']"
   ]
  },
  {
   "cell_type": "code",
   "execution_count": 79,
   "metadata": {},
   "outputs": [
    {
     "data": {
      "image/png": "[encoded data removed]",
      "text/plain": [
       "<Figure size 432x288 with 1 Axes>"
      ]
     },
     "metadata": {
      "needs_background": "light"
     },
     "output_type": "display_data"
    }
   ],
   "source": [
    "plt.bar(cols, meanbyman)\n",
    "plt.xlabel('Car Manufacturer')\n",
    "plt.ylabel('Median Price')\n",
    "plt.xticks(cols, ['Germany', 'Italy','Japan','Korea','Sweden','UK','USA','Missing'])\n",
    "#plt.savefig('images/carman.png',dpi=500)\n",
    "plt.show()"
   ]
  },
  {
   "cell_type": "code",
   "execution_count": 85,
   "metadata": {},
   "outputs": [
    {
     "data": {
      "text/plain": [
       "0.9075058979121063"
      ]
     },
     "execution_count": 85,
     "metadata": {},
     "output_type": "execute_result"
    }
   ],
   "source": [
    "np.sum(cars.isnull().sum(axis=1) > 0) / cars.shape[0]"
   ]
  },
  {
   "cell_type": "code",
   "execution_count": 95,
   "metadata": {},
   "outputs": [
    {
     "data": {
      "text/plain": [
       "Unnamed: 0           0\n",
       "id                   0\n",
       "url                  0\n",
       "region               0\n",
       "region_url           0\n",
       "price                0\n",
       "year              1050\n",
       "manufacturer     18220\n",
       "model             4846\n",
       "condition       192940\n",
       "cylinders       171140\n",
       "fuel              3237\n",
       "odometer         55303\n",
       "title_status      2577\n",
       "transmission      2442\n",
       "VIN             187549\n",
       "drive           134188\n",
       "size            321348\n",
       "type            112738\n",
       "paint_color     140843\n",
       "image_url           28\n",
       "description         70\n",
       "state                0\n",
       "lat               7448\n",
       "long              7448\n",
       "posting_date        28\n",
       "dtype: int64"
      ]
     },
     "execution_count": 95,
     "metadata": {},
     "output_type": "execute_result"
    }
   ],
   "source": [
    "cars.isnull().sum()"
   ]
  },
  {
   "cell_type": "code",
   "execution_count": 89,
   "metadata": {},
   "outputs": [],
   "source": [
    "test_df = cc.imputeManufacturer(cars)"
   ]
  },
  {
   "cell_type": "code",
   "execution_count": 92,
   "metadata": {},
   "outputs": [
    {
     "data": {
      "text/plain": [
       "Unnamed: 0            0\n",
       "id                    0\n",
       "url                   0\n",
       "region                0\n",
       "region_url            0\n",
       "price                 0\n",
       "year               1050\n",
       "manufacturer      11915\n",
       "model              4846\n",
       "condition        192940\n",
       "cylinders        171140\n",
       "fuel               3237\n",
       "odometer          55303\n",
       "title_status       2577\n",
       "transmission       2442\n",
       "VIN              187549\n",
       "drive            134188\n",
       "size             321348\n",
       "type             112738\n",
       "paint_color      140843\n",
       "image_url            28\n",
       "description          70\n",
       "state                 0\n",
       "lat                7448\n",
       "long               7448\n",
       "posting_date         28\n",
       "usage_type            0\n",
       "manuf_country        21\n",
       "dtype: int64"
      ]
     },
     "execution_count": 92,
     "metadata": {},
     "output_type": "execute_result"
    }
   ],
   "source": [
    "test_df.isnull().sum()"
   ]
  },
  {
   "cell_type": "code",
   "execution_count": 96,
   "metadata": {},
   "outputs": [
    {
     "data": {
      "text/plain": [
       "6305"
      ]
     },
     "execution_count": 96,
     "metadata": {},
     "output_type": "execute_result"
    }
   ],
   "source": [
    "18220 - 11915"
   ]
  },
  {
   "cell_type": "code",
   "execution_count": 99,
   "metadata": {},
   "outputs": [],
   "source": [
    "import scipy.stats as sp"
   ]
  },
  {
   "cell_type": "code",
   "execution_count": 103,
   "metadata": {},
   "outputs": [],
   "source": [
    "nona_df = cars.dropna()"
   ]
  },
  {
   "cell_type": "code",
   "execution_count": 110,
   "metadata": {},
   "outputs": [],
   "source": [
    "from scipy.signal import savgol_filter\n",
    "odom_hat = savgol_filter(nona_df.odometer, 51, 3)"
   ]
  },
  {
   "cell_type": "code",
   "execution_count": 113,
   "metadata": {},
   "outputs": [
    {
     "data": {
      "text/plain": [
       "42384"
      ]
     },
     "execution_count": 113,
     "metadata": {},
     "output_type": "execute_result"
    }
   ],
   "source": [
    "len(odom_hat)"
   ]
  },
  {
   "cell_type": "code",
   "execution_count": 104,
   "metadata": {},
   "outputs": [
    {
     "data": {
      "text/plain": [
       "(-0.006878083065152598, 0.15677792790676126)"
      ]
     },
     "execution_count": 104,
     "metadata": {},
     "output_type": "execute_result"
    }
   ],
   "source": [
    "sp.pearsonr(nona_df.year, nona_df.odometer)"
   ]
  },
  {
   "cell_type": "code",
   "execution_count": 118,
   "metadata": {},
   "outputs": [
    {
     "data": {
      "image/png": "[encoded data removed]",
      "text/plain": [
       "<Figure size 432x288 with 1 Axes>"
      ]
     },
     "metadata": {
      "needs_background": "light"
     },
     "output_type": "display_data"
    }
   ],
   "source": [
    "plt.scatter(nona_df.year, nona_df.odometer)\n",
    "#plt.plot(nona_df.year, odom_hat)\n",
    "plt.ylim((0, 500000))\n",
    "plt.xlabel('Year of Manufacture')\n",
    "plt.ylabel('Car Mileage')\n",
    "plt.yticks([0, 100000, 200000,300000,400000,500000], ['0', '100,000','200,000','300,000','400,000','500,000'])\n",
    "plt.savefig('images/odom.png',dpi=500)\n",
    "plt.show()"
   ]
  },
  {
   "cell_type": "code",
   "execution_count": 120,
   "metadata": {},
   "outputs": [],
   "source": [
    "test_df = cc.imputeOdometerByYear(cars)"
   ]
  },
  {
   "cell_type": "code",
   "execution_count": 122,
   "metadata": {},
   "outputs": [
    {
     "data": {
      "text/plain": [
       "28"
      ]
     },
     "execution_count": 122,
     "metadata": {},
     "output_type": "execute_result"
    }
   ],
   "source": [
    "test_df.isnull().sum()['odometer']"
   ]
  },
  {
   "cell_type": "code",
   "execution_count": 126,
   "metadata": {},
   "outputs": [
    {
     "name": "stdout",
     "output_type": "stream",
     "text": [
      "450765\n",
      "450765\n"
     ]
    }
   ],
   "source": [
    "print(cars.shape[0] - cars.isnull().sum()['lat'])\n",
    "print(cars.shape[0] - cars.isnull().sum()['long'])"
   ]
  },
  {
   "cell_type": "code",
   "execution_count": 127,
   "metadata": {},
   "outputs": [],
   "source": [
    "latlong_outliers = (cars.lat<20)  | (cars.lat>70) | (cars.long < -160) | (cars.long > -60)"
   ]
  },
  {
   "cell_type": "code",
   "execution_count": 129,
   "metadata": {},
   "outputs": [
    {
     "data": {
      "text/plain": [
       "449"
      ]
     },
     "execution_count": 129,
     "metadata": {},
     "output_type": "execute_result"
    }
   ],
   "source": [
    "np.sum(latlong_outliers)"
   ]
  },
  {
   "cell_type": "code",
   "execution_count": 130,
   "metadata": {},
   "outputs": [
    {
     "data": {
      "text/plain": [
       "0.0009960844342395705"
      ]
     },
     "execution_count": 130,
     "metadata": {},
     "output_type": "execute_result"
    }
   ],
   "source": [
    "449/450765"
   ]
  },
  {
   "cell_type": "code",
   "execution_count": null,
   "metadata": {},
   "outputs": [],
   "source": []
  }
 ],
 "metadata": {
  "kernelspec": {
   "display_name": "Python 3",
   "language": "python",
   "name": "python3"
  },
  "language_info": {
   "codemirror_mode": {
    "name": "ipython",
    "version": 3
   },
   "file_extension": ".py",
   "mimetype": "text/x-python",
   "name": "python",
   "nbconvert_exporter": "python",
   "pygments_lexer": "ipython3",
   "version": "3.7.4"
  }
 },
 "nbformat": 4,
 "nbformat_minor": 4
}
